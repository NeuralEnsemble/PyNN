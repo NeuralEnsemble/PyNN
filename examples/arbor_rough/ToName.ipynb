{
 "cells": [
  {
   "cell_type": "code",
   "execution_count": 1,
   "metadata": {},
   "outputs": [],
   "source": [
    "from neuroml import Morphology, Segment, Point3DWithDiam as P\n",
    "from pyNN.morphology import NeuroMLMorphology"
   ]
  },
  {
   "cell_type": "code",
   "execution_count": 2,
   "metadata": {},
   "outputs": [],
   "source": [
    "soma = Segment(proximal=P(x=0, y=0, z=0, diameter=18.8),\n",
    "               distal=P(x=18.8, y=0, z=0, diameter=18.8),\n",
    "               name=\"soma\", id=0)\n",
    "dend = Segment(proximal=P(x=0, y=0, z=0, diameter=2),\n",
    "               distal=P(x=-500, y=0, z=0, diameter=2),\n",
    "               name=\"dendrite\",\n",
    "               parent=soma, id=1)\n",
    "neuroml_morph = Morphology(segments=(soma, dend))\n",
    "pynn_morph = NeuroMLMorphology(neuroml_morph)"
   ]
  },
  {
   "cell_type": "code",
   "execution_count": 3,
   "metadata": {},
   "outputs": [],
   "source": [
    "import arbor\n",
    "import re"
   ]
  },
  {
   "cell_type": "code",
   "execution_count": 4,
   "metadata": {},
   "outputs": [],
   "source": [
    "# methods already defined in PyNN_neuroml_morphology_IN_Arbor.ipynb\n",
    "def create_arbor_tree(nml_morph):\n",
    "    tree = arbor.segment_tree()\n",
    "    for i, nml_seg in enumerate(nml_morph.segments):\n",
    "        append_arbor_tree(tree, nml_seg)\n",
    "    return tree\n",
    "    \n",
    "def append_arbor_tree(tree, nml_seg):\n",
    "    if not nml_seg.parent:\n",
    "        tree.append(arbor.mnpos,\n",
    "                    arbor.mpoint(nml_seg.proximal.x, nml_seg.proximal.y, nml_seg.proximal.z,\n",
    "                                 nml_seg.proximal.diameter/2),\n",
    "                    arbor.mpoint(nml_seg.distal.x, nml_seg.distal.y, nml_seg.distal.z,\n",
    "                                 nml_seg.distal.diameter/2), tag=get_swc_tag(nml_seg))\n",
    "    else:\n",
    "        tree.append(nml_seg.parent.id,\n",
    "                    arbor.mpoint(nml_seg.proximal.x, nml_seg.proximal.y, nml_seg.proximal.z,\n",
    "                                 nml_seg.proximal.diameter/2),\n",
    "                    arbor.mpoint(nml_seg.distal.x, nml_seg.distal.y, nml_seg.distal.z,\n",
    "                                 nml_seg.distal.diameter/2), tag=get_swc_tag(nml_seg))\n",
    "\n",
    "def get_swc_tag(nml_seg):\n",
    "    if re.search(\"soma\", nml_seg.name, re.IGNORECASE):\n",
    "        return 1\n",
    "    elif re.search(\"axon\", nml_seg.name, re.IGNORECASE):\n",
    "        return 2\n",
    "    elif re.search(\"dend\", nml_seg.name, re.IGNORECASE):\n",
    "        return 3\n",
    "    else:\n",
    "        return 5"
   ]
  },
  {
   "cell_type": "code",
   "execution_count": 5,
   "metadata": {},
   "outputs": [],
   "source": [
    "morph_tree = create_arbor_tree(pynn_morph)"
   ]
  },
  {
   "cell_type": "code",
   "execution_count": 6,
   "metadata": {},
   "outputs": [],
   "source": [
    "#Arbor uses a domains specific language (DSL) to describe regions and locations, which are given labels.\n",
    "def create_region_definitions(pynn_morph):\n",
    "    dict_defs = {}\n",
    "    for i, nml_seg in enumerate(pynn_morph.segments):\n",
    "        dict_defs.update({nml_seg.name: \"(tag \"+ str(get_swc_tag(nml_seg))+ \")\"})\n",
    "    return dict_defs"
   ]
  },
  {
   "cell_type": "code",
   "execution_count": 7,
   "metadata": {},
   "outputs": [],
   "source": [
    "#dict_defs => {'soma': '(tag 1)', 'dendrite': '(tag 3)'}\n",
    "morph_labels = arbor.label_dict(create_region_definitions(pynn_morph))"
   ]
  },
  {
   "cell_type": "code",
   "execution_count": 8,
   "metadata": {},
   "outputs": [],
   "source": [
    "# Cell builders need to refer to regions and locations on a cell morphology.\n",
    "cell = arbor.cable_cell(morph_tree, morph_labels)"
   ]
  },
  {
   "cell_type": "code",
   "execution_count": 9,
   "metadata": {},
   "outputs": [
    {
     "name": "stdout",
     "output_type": "stream",
     "text": [
      "<bound method PyCapsule.locations of <arbor.cable_cell>>\n"
     ]
    }
   ],
   "source": [
    "print(cell.locations)"
   ]
  },
  {
   "cell_type": "code",
   "execution_count": 10,
   "metadata": {},
   "outputs": [
    {
     "data": {
      "text/plain": [
       "{'soma': '(tag 1)', 'dendrite': '(tag 3)'}"
      ]
     },
     "execution_count": 10,
     "metadata": {},
     "output_type": "execute_result"
    }
   ],
   "source": [
    "create_region_definitions(pynn_morph)"
   ]
  },
  {
   "cell_type": "code",
   "execution_count": 11,
   "metadata": {},
   "outputs": [
    {
     "name": "stdout",
     "output_type": "stream",
     "text": [
      "Help on method locations in module arbor._arbor:\n",
      "\n",
      "locations(...) method of arbor._arbor.cable_cell instance\n",
      "    locations(self: arbor._arbor.cable_cell, label: str) -> List[arb::mlocation]\n",
      "    \n",
      "    The locations of the cell morphology for a locset label.\n",
      "\n"
     ]
    }
   ],
   "source": [
    "help(cell.locations)"
   ]
  },
  {
   "cell_type": "code",
   "execution_count": 12,
   "metadata": {},
   "outputs": [
    {
     "ename": "RuntimeError",
     "evalue": "no definition for 'dendrite'",
     "output_type": "error",
     "traceback": [
      "\u001b[0;31m---------------------------------------------------------------------------\u001b[0m",
      "\u001b[0;31mRuntimeError\u001b[0m                              Traceback (most recent call last)",
      "\u001b[0;32m<ipython-input-12-e5f009ffe194>\u001b[0m in \u001b[0;36m<module>\u001b[0;34m\u001b[0m\n\u001b[0;32m----> 1\u001b[0;31m \u001b[0mprint\u001b[0m\u001b[0;34m(\u001b[0m\u001b[0mcell\u001b[0m\u001b[0;34m.\u001b[0m\u001b[0mlocations\u001b[0m\u001b[0;34m(\u001b[0m\u001b[0;34m\"dendrite\"\u001b[0m\u001b[0;34m)\u001b[0m\u001b[0;34m)\u001b[0m\u001b[0;34m\u001b[0m\u001b[0;34m\u001b[0m\u001b[0m\n\u001b[0m",
      "\u001b[0;31mRuntimeError\u001b[0m: no definition for 'dendrite'"
     ]
    }
   ],
   "source": [
    "print(cell.locations(\"dendrite\"))"
   ]
  },
  {
   "cell_type": "code",
   "execution_count": 12,
   "metadata": {},
   "outputs": [],
   "source": [
    "import pyNN.neuron as sim"
   ]
  },
  {
   "cell_type": "code",
   "execution_count": 13,
   "metadata": {},
   "outputs": [
    {
     "data": {
      "text/plain": [
       "pyNN.neuron.standardmodels.ion_channels.NaChannel"
      ]
     },
     "execution_count": 13,
     "metadata": {},
     "output_type": "execute_result"
    }
   ],
   "source": [
    "sim.NaChannel"
   ]
  },
  {
   "cell_type": "code",
   "execution_count": 14,
   "metadata": {},
   "outputs": [],
   "source": [
    "from pyNN.standardmodels import ion_channels as standard, build_translations"
   ]
  },
  {
   "cell_type": "code",
   "execution_count": 15,
   "metadata": {},
   "outputs": [],
   "source": [
    "# arbor/standardmodels/ion_channels.py\n",
    "class arbor_NaChannel(standard.NaChannel):\n",
    "    \"\"\"\n",
    "    Exactly the same as neuron.NaChannel because\n",
    "    https://arbor.readthedocs.io/en/pydoc/mechanisms.html?highlight=huxley#density-mechanisms\n",
    "    https://arbor.readthedocs.io/en/pydoc/nmodl.html#nmodl\n",
    "    \"\"\"\n",
    "    translations = build_translations((\"conductance_density\", \"gnabar\"), #(pynn_name, sim_name)\n",
    "                                      (\"e_rev\", \"ena\"),)\n",
    "    variable_translations = {\"m\": (\"hh\", \"m\"),\n",
    "                             \"h\": (\"hh\", \"h\"),}\n",
    "    model = \"hh\"\n",
    "    conductance_density_parameter = \"gnabar\"\n",
    "    \n",
    "class arbor_KdrChannel(standard.KdrChannel):\n",
    "    translations = build_translations(\n",
    "        ('conductance_density', 'gkbar'),\n",
    "        ('e_rev', 'ek'),\n",
    "    )\n",
    "    variable_translations = {\n",
    "        'n': ('hh', 'n')\n",
    "    }\n",
    "    model = \"hh\"\n",
    "    conductance_density_parameter = 'gkbar'\n",
    "\n",
    "\n",
    "class arbor_PassiveLeak(standard.PassiveLeak):\n",
    "    translations = build_translations(\n",
    "        ('conductance_density', 'g'),\n",
    "        ('e_rev', 'e'),\n",
    "    )\n",
    "    model = \"pas\"\n",
    "    conductance_density_parameter = 'g'"
   ]
  },
  {
   "cell_type": "code",
   "execution_count": 16,
   "metadata": {},
   "outputs": [
    {
     "data": {
      "text/plain": [
       "{'conductance_density': {'translated_name': 'gnabar',\n",
       "  'forward_transform': 'conductance_density',\n",
       "  'reverse_transform': 'gnabar'},\n",
       " 'e_rev': {'translated_name': 'ena',\n",
       "  'forward_transform': 'e_rev',\n",
       "  'reverse_transform': 'ena'}}"
      ]
     },
     "execution_count": 16,
     "metadata": {},
     "output_type": "execute_result"
    }
   ],
   "source": [
    "build_translations((\"conductance_density\", \"gnabar\"), (\"e_rev\", \"ena\"),)"
   ]
  },
  {
   "cell_type": "code",
   "execution_count": 17,
   "metadata": {},
   "outputs": [],
   "source": [
    "from pyNN.parameters import IonicSpecies"
   ]
  },
  {
   "cell_type": "code",
   "execution_count": 18,
   "metadata": {},
   "outputs": [
    {
     "name": "stdout",
     "output_type": "stream",
     "text": [
      "Help on class IonicSpecies in module pyNN.parameters:\n",
      "\n",
      "class IonicSpecies(builtins.object)\n",
      " |  IonicSpecies(ion_name, reversal_potential, internal_concentration=None, external_concentration=None)\n",
      " |  \n",
      " |  Encapsulation of parameters for an ionic species\n",
      " |  \n",
      " |  Methods defined here:\n",
      " |  \n",
      " |  __init__(self, ion_name, reversal_potential, internal_concentration=None, external_concentration=None)\n",
      " |      Initialize self.  See help(type(self)) for accurate signature.\n",
      " |  \n",
      " |  ----------------------------------------------------------------------\n",
      " |  Data descriptors defined here:\n",
      " |  \n",
      " |  __dict__\n",
      " |      dictionary for instance variables (if defined)\n",
      " |  \n",
      " |  __weakref__\n",
      " |      list of weak references to the object (if defined)\n",
      "\n"
     ]
    }
   ],
   "source": [
    "help(IonicSpecies)"
   ]
  },
  {
   "cell_type": "code",
   "execution_count": 19,
   "metadata": {},
   "outputs": [],
   "source": [
    "ionic_species = {\"na\": IonicSpecies(\"na\", reversal_potential=50.),\n",
    "                 \"k\": IonicSpecies(\"k\", reversal_potential=-77.),}"
   ]
  },
  {
   "cell_type": "code",
   "execution_count": 20,
   "metadata": {},
   "outputs": [
    {
     "data": {
      "text/plain": [
       "{'na': <pyNN.parameters.IonicSpecies at 0x7fab908021c0>,\n",
       " 'k': <pyNN.parameters.IonicSpecies at 0x7fab90802550>}"
      ]
     },
     "execution_count": 20,
     "metadata": {},
     "output_type": "execute_result"
    }
   ],
   "source": [
    "ionic_species"
   ]
  },
  {
   "cell_type": "code",
   "execution_count": null,
   "metadata": {},
   "outputs": [],
   "source": [
    "cell_type = cell_class(morphology=NeuroMLMorphology(Morphology(segments=(soma, dend))),  # yuck\n",
    "                       cm=1.0,\n",
    "                       Ra=500.0,\n",
    "                       ionic_species={\n",
    "                              \"na\": IonicSpecies(\"na\", reversal_potential=50.0),\n",
    "                              \"k\": IonicSpecies(\"k\", reversal_potential=-77.0)\n",
    "                       },\n",
    "                       pas={\"conductance_density\": uniform('all', 0.0003),\n",
    "                            \"e_rev\":-54.3},\n",
    "                       na={\"conductance_density\": uniform('soma', 0.120),\n",
    "                           \"e_rev\": 50.0},\n",
    "                       kdr={\"conductance_density\": uniform('soma', 0.036),\n",
    "                            \"e_rev\": -77.0}\n",
    "                       )"
   ]
  },
  {
   "cell_type": "code",
   "execution_count": 25,
   "metadata": {},
   "outputs": [],
   "source": [
    "# Use Nernst to calcultae reversal potential for Ca\n",
    "#cell.set_ion(\"ca\", method=arbor.mechanism(\"nernst/x=ca\"))"
   ]
  },
  {
   "cell_type": "code",
   "execution_count": 21,
   "metadata": {},
   "outputs": [
    {
     "name": "stdout",
     "output_type": "stream",
     "text": [
      "Help on instancemethod in module arbor._arbor:\n",
      "\n",
      "set(...)\n",
      "    set(self: arbor._arbor.mechanism, name: str, value: float) -> None\n",
      "    \n",
      "    Set parameter value.\n",
      "\n"
     ]
    }
   ],
   "source": [
    "help(arbor.mechanism.set)"
   ]
  },
  {
   "cell_type": "code",
   "execution_count": 22,
   "metadata": {},
   "outputs": [
    {
     "name": "stdout",
     "output_type": "stream",
     "text": [
      "Help on method set_ion in module arbor._arbor:\n",
      "\n",
      "set_ion(...) method of arbor._arbor.cable_cell instance\n",
      "    set_ion(self: arbor._arbor.cable_cell, ion: str, int_con: Optional[float] = None, ext_con: Optional[float] = None, rev_pot: Optional[float] = None, method: Optional[arb::mechanism_desc] = None) -> None\n",
      "    \n",
      "    Set the propoerties of ion species named 'ion' that will be applied\n",
      "    by default everywhere on the cell. Species concentrations and reversal\n",
      "    potential can be overridden on specific regions using the paint interface, \n",
      "    while the method for calculating reversal potential is global for all\n",
      "    compartments in the cell, and can't be overriden locally.\n",
      "     ion:     name of ion species.\n",
      "     int_con: initial internal concentration [mM].\n",
      "     ext_con: initial external concentration [mM].\n",
      "     rev_pot: reversal potential [mV].\n",
      "     method:  method for calculating reversal potential.\n",
      "\n"
     ]
    }
   ],
   "source": [
    "help(cell.set_ion)"
   ]
  },
  {
   "cell_type": "code",
   "execution_count": 23,
   "metadata": {},
   "outputs": [],
   "source": [
    "# Implementing\n",
    "# ionic_species={\"na\": IonicSpecies(\"na\", reversal_potential=50.0),\n",
    "#                \"k\": IonicSpecies(\"k\", reversal_potential=-77.0)}\n",
    "cell.set_ion(ion=\"na\", rev_pot=50.)\n",
    "cell.set_ion(ion=\"k\", rev_pot=-77.)\n",
    "# Note in PyNN this is done for the whole cell but in Arbor this can be set for specific sections (like soma, axon, etc.)\n",
    "#cell.paint(\"soma\", arbor.ion(\"ca\", int_con=2e-4, ext_con=2.5, rev_pot=114))\n",
    "#cell.paint(\"axon\", arbor.ion(\"ca\", rev_pot=126))\n",
    "#https://arbor.readthedocs.io/en/pydoc/cable_cell.html?highlight=reverse%20potential#ion-species"
   ]
  },
  {
   "cell_type": "code",
   "execution_count": 24,
   "metadata": {},
   "outputs": [
    {
     "name": "stdout",
     "output_type": "stream",
     "text": [
      "Help on built-in function cable_probe in module arbor._arbor:\n",
      "\n",
      "cable_probe(...) method of builtins.PyCapsule instance\n",
      "    cable_probe(kind: str, id: arbor._arbor.cell_member, location: arbor._arbor.location) -> arb::probe_info\n",
      "    \n",
      "    Description of a probe at a location on a cable cell with id available for monitoring data of kind where kind is one of 'voltage' or 'ionic current density'.\n",
      "\n"
     ]
    }
   ],
   "source": [
    "pas={\"conductance_density\": uniform('all', 0.0003),\n",
    "                            \"e_rev\":-54.3},\n",
    "                       na={\"conductance_density\": uniform('soma', 0.120),\n",
    "                           \"e_rev\": 50.0},\n",
    "                       kdr={\"conductance_density\": uniform('soma', 0.036),\n",
    "                            \"e_rev\": -77.0}"
   ]
  },
  {
   "cell_type": "code",
   "execution_count": 25,
   "metadata": {},
   "outputs": [],
   "source": [
    "from pyNN.morphology import uniform"
   ]
  },
  {
   "cell_type": "code",
   "execution_count": 28,
   "metadata": {},
   "outputs": [],
   "source": [
    "k = uniform('all', 0.0003)"
   ]
  },
  {
   "cell_type": "code",
   "execution_count": 30,
   "metadata": {},
   "outputs": [
    {
     "data": {
      "text/plain": [
       "0.0003"
      ]
     },
     "execution_count": 30,
     "metadata": {},
     "output_type": "execute_result"
    }
   ],
   "source": [
    "k.value"
   ]
  },
  {
   "cell_type": "markdown",
   "metadata": {},
   "source": [
    "Mechanism Info:\n",
    "Meta data about the fields and ion dependencies of a mechanism. The data is presented as read-only attributes."
   ]
  },
  {
   "cell_type": "code",
   "execution_count": 31,
   "metadata": {},
   "outputs": [],
   "source": [
    "cat = arbor.default_catalogue()"
   ]
  },
  {
   "cell_type": "code",
   "execution_count": 32,
   "metadata": {},
   "outputs": [
    {
     "name": "stdout",
     "output_type": "stream",
     "text": [
      "{units: 'S / cm2', default: 0.12, min: -1.79769e+308, max: 1.79769e+308}\n"
     ]
    }
   ],
   "source": [
    "print(cat['hh'].parameters['gnabar'])"
   ]
  },
  {
   "cell_type": "code",
   "execution_count": 33,
   "metadata": {},
   "outputs": [],
   "source": [
    "ions = cat['hh'].ions"
   ]
  },
  {
   "cell_type": "code",
   "execution_count": 34,
   "metadata": {},
   "outputs": [
    {
     "name": "stdout",
     "output_type": "stream",
     "text": [
      "dict_keys(['k', 'na'])\n"
     ]
    }
   ],
   "source": [
    "print(ions.keys())"
   ]
  },
  {
   "cell_type": "markdown",
   "metadata": {},
   "source": [
    "Describe a mechanism that is to be painted or placed on the cable cell."
   ]
  },
  {
   "cell_type": "markdown",
   "metadata": {},
   "source": [
    "Mechanisms describe physical processes, distributed over the membrane of the cell. Density mechanisms are associated with regions of the cell, whose dynamics are a function of the cell state and their own state where they are present. Point mechanisms are defined at discrete locations on the cell, which receive events from the network. A third, specific type of density mechanism, which describes ionic reversal potential behaviour, can be specified for cells or the whole model."
   ]
  },
  {
   "cell_type": "code",
   "execution_count": 35,
   "metadata": {},
   "outputs": [],
   "source": [
    "hh = arbor.mechanism('hh') # w/ default values"
   ]
  },
  {
   "cell_type": "code",
   "execution_count": 36,
   "metadata": {},
   "outputs": [],
   "source": [
    "pas = arbor.mechanism('pas', {'e': -55, 'gl': 0.02}) # custom values"
   ]
  },
  {
   "cell_type": "code",
   "execution_count": null,
   "metadata": {},
   "outputs": [],
   "source": [
    "# Create pas mechanism with default parameter values (set in NOMDL file).\n",
    "m1 = arbor.mechanism('passive')\n",
    "\n",
    "# Create default mechainsm with custom conductance (range).\n",
    "m2 = arbor.mechanism('passive', {'g', 0.1})\n",
    "\n",
    "# Create a new pas mechanism with that changes reversal potential (global).\n",
    "m3 = arbor.mechanism('passive/el=-45')\n",
    "\n",
    "# Create an instance of the same mechanism, that also sets conductance (range).\n",
    "m4 = arbor.mechanism('passive/el=-45', {'g', 0.1})\n",
    "\n",
    "# This is an equivalent to m4, using set method to specify range parameters.\n",
    "m5 = arbor.mechanism('passive/el=-45')\n",
    "m5.set('g', 0.1)\n",
    "\n",
    "# Decorate the 'soma' on a cable_cell.\n",
    "\n",
    "cell.paint('soma', m1)\n",
    "cell.paint('soma', m2) # Error: can't place the same mechanism on overlapping regions\n",
    "cell.paint('soma', m3) # This would be ok: m3 is a new, derived mechanism by virtue of\n",
    "                       # having a different name, i.e. 'passive/el=-45' vs. 'passive'."
   ]
  }
 ],
 "metadata": {
  "kernelspec": {
   "display_name": "Python 3 (ipykernel)",
   "language": "python",
   "name": "python3"
  },
  "language_info": {
   "codemirror_mode": {
    "name": "ipython",
    "version": 3
   },
   "file_extension": ".py",
   "mimetype": "text/x-python",
   "name": "python",
   "nbconvert_exporter": "python",
   "pygments_lexer": "ipython3",
   "version": "3.8.2"
  }
 },
 "nbformat": 4,
 "nbformat_minor": 4
}
