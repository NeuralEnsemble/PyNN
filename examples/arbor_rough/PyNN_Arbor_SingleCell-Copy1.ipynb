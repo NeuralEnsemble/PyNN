{
 "cells": [
  {
   "cell_type": "code",
   "execution_count": 1,
   "id": "f3f3f0bf",
   "metadata": {},
   "outputs": [],
   "source": [
    "from pyNN.morphology import NeuroMLMorphology, load_morphology, uniform, random_section, dendrites, apical_dendrites, by_distance\n",
    "from neuroml import Morphology, Segment, Point3DWithDiam as P\n",
    "from pyNN.arbor.cells import ArborTemplate\n",
    "import pyNN.arbor as sim"
   ]
  },
  {
   "cell_type": "code",
   "execution_count": 2,
   "id": "eadf8670",
   "metadata": {},
   "outputs": [],
   "source": [
    "pyr_morph2 = load_morphology(\"single_cell_detailed.swc\", replace_axon=None)"
   ]
  },
  {
   "cell_type": "code",
   "execution_count": 3,
   "id": "76c01feb",
   "metadata": {},
   "outputs": [],
   "source": [
    "cc = sim.MultiCompartmentNeuron.setup(\n",
    "\t\t\t\tlabel=\"MyCell\",\n",
    "\t\t\t\tion_channels={'pas': sim.PassiveLeak,\n",
    "\t\t\t\t\t\t\t  'na': sim.NaChannel,\n",
    "\t\t\t\t\t\t\t  'kdr': sim.KdrChannel},\n",
    "\t\t\t\tionic_species={'na_ion': sim.NaIon,\n",
    "\t\t\t\t\t\t\t   'k_ion': sim.KIon})\n",
    "mycell = cc(morphology=pyr_morph2,\n",
    "\t\t\tcm=1.0,\n",
    "\t\t\tRa=500.0,\n",
    "\t\t\tna_ion = {\"reversal_potential\": 50.0},\n",
    "\t\t\tk_ion = {\"reversal_potential\": -77.0},\n",
    "\t\t\tpas={\"conductance_density\": uniform('all', 0.0003),\n",
    "\t\t\t\t\"e_rev\":-54.3},\n",
    "\t\t\tna={\"conductance_density\": uniform('soma', 0.120),\n",
    "\t\t\t   \"e_rev\": 50.0},\n",
    "\t\t\tkdr={\"conductance_density\": uniform('soma', 0.036),\n",
    "\t\t\t\t\"e_rev\": -77.0})"
   ]
  },
  {
   "cell_type": "code",
   "execution_count": 4,
   "id": "15aa24b8",
   "metadata": {
    "scrolled": true
   },
   "outputs": [],
   "source": [
    "cells = sim.Population(1, mycell, initial_values={'v': -60.0})"
   ]
  },
  {
   "cell_type": "code",
   "execution_count": 5,
   "id": "ff2f058c",
   "metadata": {},
   "outputs": [],
   "source": [
    "step_current = sim.DCSource(amplitude=5.0, start=50.0, stop=150.0)"
   ]
  },
  {
   "cell_type": "code",
   "execution_count": 6,
   "id": "0dbd555d",
   "metadata": {},
   "outputs": [],
   "source": [
    "step_current.inject_into(cells[0:1], location=\"soma\")"
   ]
  },
  {
   "cell_type": "code",
   "execution_count": 7,
   "id": "e52ccfe5",
   "metadata": {},
   "outputs": [],
   "source": [
    "cells.record('spikes')"
   ]
  },
  {
   "cell_type": "code",
   "execution_count": 8,
   "id": "8efbbf8d",
   "metadata": {},
   "outputs": [
    {
     "name": "stdout",
     "output_type": "stream",
     "text": [
      "(label_dict (region  \"ionchnl_pas_in_all\" (all)) (region  \"soma\" (tag 1)) (region  \"basal_dendrite\" (tag 3)) (region  \"apical_dendrite\" (tag 4)) (region  \"everywhere\" (all)) (locset \"soma_midpoint\" (restrict (on_branches 0.5) (tag 1))) (locset \"basal_dendrite_midpoint\" (restrict (on_branches 0.5) (tag 3))) (locset \"apical_dendrite_midpoint\" (restrict (on_branches 0.5) (tag 4))))\n",
      "(tag 1)\n",
      "<arbor.segment_tree:\n",
      "(segment_tree (\n",
      "  (segment 0 (point 0 0 0 1) (point 40 0 0 1) 1)\n",
      "  (segment 1 (point 40 0 0 0.4) (point 80 0 0 0.4) 3)\n",
      "  (segment 2 (point 80 0 0 0.4) (point 120 -5 0 0.4) 3)\n",
      "  (segment 3 (point 120 -5 0 0.4) (point 200 40 0 0.2) 3)\n",
      "  (segment 4 (point 200 40 0 0.2) (point 260 60 0 0.1) 3)\n",
      "  (segment 5 (point 120 -5 0 0.25) (point 190 -30 0 0.25) 3)\n",
      "  (segment 6 (point 190 -30 0 0.25) (point 240 -70 0 0.1) 3)\n",
      "  (segment 7 (point 190 -30 0 0.25) (point 230 -10 0 0.1) 3)\n",
      "  (segment 8 (point 230 -10 0 0.1) (point 360 -20 0 0.1) 4)\n",
      "  (segment 9 (point 0 0 0 1) (point -70 0 0 0.2) 4)\n",
      "  (segment 10 (point -70 0 0 0.2) (point -100 0 0 0.2) 4))\n",
      "  (npos 0 1 2 3 2 5 5 7 npos 9))>\n",
      "<arbor._arbor.decor object at 0x7fdd9e000cf0>\n"
     ]
    },
    {
     "ename": "RuntimeError",
     "evalue": "no definition for 'soma'",
     "output_type": "error",
     "traceback": [
      "\u001b[0;31m---------------------------------------------------------------------------\u001b[0m",
      "\u001b[0;31mRuntimeError\u001b[0m                              Traceback (most recent call last)",
      "\u001b[0;32m<ipython-input-8-58af4e4476da>\u001b[0m in \u001b[0;36m<module>\u001b[0;34m\u001b[0m\n\u001b[0;32m----> 1\u001b[0;31m \u001b[0msim\u001b[0m\u001b[0;34m.\u001b[0m\u001b[0mstate\u001b[0m\u001b[0;34m.\u001b[0m\u001b[0mrun\u001b[0m\u001b[0;34m(\u001b[0m\u001b[0;36m200.0\u001b[0m\u001b[0;34m,\u001b[0m \u001b[0mcells\u001b[0m\u001b[0;34m)\u001b[0m\u001b[0;34m\u001b[0m\u001b[0;34m\u001b[0m\u001b[0m\n\u001b[0m",
      "\u001b[0;32m/envs/py3-pyNNarbor_latest/lib/python3.8/site-packages/pyNN/arbor/simulator.py\u001b[0m in \u001b[0;36mrun\u001b[0;34m(self, simtime, populn)\u001b[0m\n\u001b[1;32m     66\u001b[0m     \u001b[0;31m#     self.running = True\u001b[0m\u001b[0;34m\u001b[0m\u001b[0;34m\u001b[0m\u001b[0;34m\u001b[0m\u001b[0m\n\u001b[1;32m     67\u001b[0m     \u001b[0;32mdef\u001b[0m \u001b[0mrun\u001b[0m\u001b[0;34m(\u001b[0m\u001b[0mself\u001b[0m\u001b[0;34m,\u001b[0m \u001b[0msimtime\u001b[0m\u001b[0;34m,\u001b[0m \u001b[0mpopuln\u001b[0m\u001b[0;34m)\u001b[0m\u001b[0;34m:\u001b[0m\u001b[0;34m\u001b[0m\u001b[0;34m\u001b[0m\u001b[0m\n\u001b[0;32m---> 68\u001b[0;31m         \u001b[0mself\u001b[0m\u001b[0;34m.\u001b[0m\u001b[0mmodel\u001b[0m \u001b[0;34m=\u001b[0m \u001b[0mself\u001b[0m\u001b[0;34m.\u001b[0m\u001b[0m__prerun\u001b[0m\u001b[0;34m(\u001b[0m\u001b[0mpopuln\u001b[0m\u001b[0;34m)\u001b[0m\u001b[0;34m\u001b[0m\u001b[0;34m\u001b[0m\u001b[0m\n\u001b[0m\u001b[1;32m     69\u001b[0m         \u001b[0mself\u001b[0m\u001b[0;34m.\u001b[0m\u001b[0mmodel\u001b[0m\u001b[0;34m.\u001b[0m\u001b[0mrun\u001b[0m\u001b[0;34m(\u001b[0m\u001b[0mtfinal\u001b[0m\u001b[0;34m=\u001b[0m\u001b[0msimtime\u001b[0m\u001b[0;34m)\u001b[0m\u001b[0;34m\u001b[0m\u001b[0;34m\u001b[0m\u001b[0m\n\u001b[1;32m     70\u001b[0m         \u001b[0mself\u001b[0m\u001b[0;34m.\u001b[0m\u001b[0mt\u001b[0m \u001b[0;34m+=\u001b[0m \u001b[0msimtime\u001b[0m\u001b[0;34m\u001b[0m\u001b[0;34m\u001b[0m\u001b[0m\n",
      "\u001b[0;32m/envs/py3-pyNNarbor_latest/lib/python3.8/site-packages/pyNN/arbor/simulator.py\u001b[0m in \u001b[0;36m__prerun\u001b[0;34m(self, populn)\u001b[0m\n\u001b[1;32m     95\u001b[0m             \u001b[0mprint\u001b[0m\u001b[0;34m(\u001b[0m\u001b[0mpopuln\u001b[0m\u001b[0;34m.\u001b[0m\u001b[0mall_cells\u001b[0m\u001b[0;34m[\u001b[0m\u001b[0mi\u001b[0m\u001b[0;34m]\u001b[0m\u001b[0;34m.\u001b[0m\u001b[0m_cell\u001b[0m\u001b[0;34m.\u001b[0m\u001b[0m_arbor_tree\u001b[0m\u001b[0;34m)\u001b[0m\u001b[0;34m\u001b[0m\u001b[0;34m\u001b[0m\u001b[0m\n\u001b[1;32m     96\u001b[0m             \u001b[0mprint\u001b[0m\u001b[0;34m(\u001b[0m\u001b[0mpopuln\u001b[0m\u001b[0;34m.\u001b[0m\u001b[0mall_cells\u001b[0m\u001b[0;34m[\u001b[0m\u001b[0mi\u001b[0m\u001b[0;34m]\u001b[0m\u001b[0;34m.\u001b[0m\u001b[0m_cell\u001b[0m\u001b[0;34m.\u001b[0m\u001b[0m_decor\u001b[0m\u001b[0;34m)\u001b[0m\u001b[0;34m\u001b[0m\u001b[0;34m\u001b[0m\u001b[0m\n\u001b[0;32m---> 97\u001b[0;31m             a_cell = arbor.cable_cell(populn.all_cells[i]._cell._arbor_tree,\n\u001b[0m\u001b[1;32m     98\u001b[0m                                       \u001b[0mpopuln\u001b[0m\u001b[0;34m.\u001b[0m\u001b[0mall_cells\u001b[0m\u001b[0;34m[\u001b[0m\u001b[0mi\u001b[0m\u001b[0;34m]\u001b[0m\u001b[0;34m.\u001b[0m\u001b[0m_cell\u001b[0m\u001b[0;34m.\u001b[0m\u001b[0m_arbor_labels\u001b[0m\u001b[0;34m,\u001b[0m\u001b[0;34m\u001b[0m\u001b[0;34m\u001b[0m\u001b[0m\n\u001b[1;32m     99\u001b[0m                                       populn.all_cells[i]._cell._decor)\n",
      "\u001b[0;31mRuntimeError\u001b[0m: no definition for 'soma'"
     ]
    }
   ],
   "source": [
    "sim.state.run(200.0, cells)"
   ]
  },
  {
   "cell_type": "code",
   "execution_count": 9,
   "id": "f8877f21",
   "metadata": {},
   "outputs": [
    {
     "ename": "AttributeError",
     "evalue": "module 'pyNN.arbor' has no attribute 'model'",
     "output_type": "error",
     "traceback": [
      "\u001b[0;31m---------------------------------------------------------------------------\u001b[0m",
      "\u001b[0;31mAttributeError\u001b[0m                            Traceback (most recent call last)",
      "\u001b[0;32m<ipython-input-9-b94f7b6ed733>\u001b[0m in \u001b[0;36m<module>\u001b[0;34m\u001b[0m\n\u001b[0;32m----> 1\u001b[0;31m \u001b[0msim\u001b[0m\u001b[0;34m.\u001b[0m\u001b[0mmodel\u001b[0m\u001b[0;34m\u001b[0m\u001b[0;34m\u001b[0m\u001b[0m\n\u001b[0m",
      "\u001b[0;31mAttributeError\u001b[0m: module 'pyNN.arbor' has no attribute 'model'"
     ]
    }
   ],
   "source": [
    "sim.model"
   ]
  },
  {
   "cell_type": "code",
   "execution_count": 8,
   "id": "b25377b1",
   "metadata": {},
   "outputs": [
    {
     "data": {
      "text/plain": [
       "1"
      ]
     },
     "execution_count": 8,
     "metadata": {},
     "output_type": "execute_result"
    }
   ],
   "source": [
    "cells.size"
   ]
  },
  {
   "cell_type": "code",
   "execution_count": 9,
   "id": "9efd3578",
   "metadata": {},
   "outputs": [
    {
     "data": {
      "text/plain": [
       "<function pyNN.common.control.build_run.<locals>.run(simtime, callbacks=None)>"
      ]
     },
     "execution_count": 9,
     "metadata": {},
     "output_type": "execute_result"
    }
   ],
   "source": [
    "sim.run"
   ]
  },
  {
   "cell_type": "code",
   "execution_count": 12,
   "id": "37322c88",
   "metadata": {},
   "outputs": [
    {
     "data": {
      "text/plain": [
       "1"
      ]
     },
     "execution_count": 12,
     "metadata": {},
     "output_type": "execute_result"
    }
   ],
   "source": [
    "cells.all_cells.size"
   ]
  },
  {
   "cell_type": "code",
   "execution_count": 7,
   "id": "23e2c107",
   "metadata": {},
   "outputs": [
    {
     "data": {
      "text/plain": [
       "pyNN.arbor.populations.Population"
      ]
     },
     "execution_count": 7,
     "metadata": {},
     "output_type": "execute_result"
    }
   ],
   "source": [
    "type(cells)"
   ]
  },
  {
   "cell_type": "code",
   "execution_count": 8,
   "id": "57a19cc4",
   "metadata": {},
   "outputs": [
    {
     "name": "stdout",
     "output_type": "stream",
     "text": [
      "Help on method record in module pyNN.common.populations:\n",
      "\n",
      "record(variables, to_file=None, sampling_interval=None, locations=None) method of pyNN.arbor.populations.Population instance\n",
      "    Record the specified variable or variables for all cells in the\n",
      "    Population or view.\n",
      "    \n",
      "    `variables` may be either a single variable name or a list of variable\n",
      "    names. For a given celltype class, `celltype.recordable` contains a list of\n",
      "    variables that can be recorded for that celltype.\n",
      "    \n",
      "    If specified, `to_file` should be either a filename or a Neo IO instance and `write_data()`\n",
      "    will be automatically called when `end()` is called.\n",
      "    \n",
      "    `sampling_interval` should be a value in milliseconds, and an integer\n",
      "    multiple of the simulation timestep.\n",
      "\n"
     ]
    }
   ],
   "source": [
    "help(cells.record)"
   ]
  },
  {
   "cell_type": "code",
   "execution_count": 6,
   "id": "7556c11d",
   "metadata": {},
   "outputs": [
    {
     "name": "stdout",
     "output_type": "stream",
     "text": [
      "DCSource(<parameters>)\n"
     ]
    }
   ],
   "source": [
    "print(step_current)"
   ]
  },
  {
   "cell_type": "code",
   "execution_count": 9,
   "id": "f17df2f3",
   "metadata": {},
   "outputs": [
    {
     "data": {
      "text/plain": [
       "{'_devices': [],\n",
       " 'cell_list': [],\n",
       " '_amplitudes': None,\n",
       " '_times': None,\n",
       " '_h_iclamps': {},\n",
       " 'amplitude': 5.0,\n",
       " 'start': 50.0,\n",
       " 'stop': 150.0}"
      ]
     },
     "execution_count": 9,
     "metadata": {},
     "output_type": "execute_result"
    }
   ],
   "source": [
    "step_current.__dict__"
   ]
  },
  {
   "cell_type": "code",
   "execution_count": 23,
   "id": "c8b0d7a9",
   "metadata": {},
   "outputs": [
    {
     "data": {
      "text/plain": [
       "5.0"
      ]
     },
     "execution_count": 23,
     "metadata": {},
     "output_type": "execute_result"
    }
   ],
   "source": [
    "step_current.amplitude"
   ]
  },
  {
   "cell_type": "code",
   "execution_count": 12,
   "id": "93440c1e",
   "metadata": {},
   "outputs": [
    {
     "data": {
      "text/plain": [
       "Population(1, MultiCompartmentNeuron(<parameters>), structure=Line(dx=1.0, x0=0.0, y=0.0, z=0.0), label='population0')"
      ]
     },
     "execution_count": 12,
     "metadata": {},
     "output_type": "execute_result"
    }
   ],
   "source": [
    "cells"
   ]
  },
  {
   "cell_type": "code",
   "execution_count": 16,
   "id": "0a551e02",
   "metadata": {},
   "outputs": [
    {
     "data": {
      "text/plain": [
       "PopulationView(parent=Population(1, MultiCompartmentNeuron(<parameters>), structure=Line(dx=1.0, x0=0.0, y=0.0, z=0.0), label='population0'), selector=slice(0, 1, None), label=\"view of 'population0' with size 1\")"
      ]
     },
     "execution_count": 16,
     "metadata": {},
     "output_type": "execute_result"
    }
   ],
   "source": [
    "cells[0:1]"
   ]
  },
  {
   "cell_type": "code",
   "execution_count": 21,
   "id": "6d08682e",
   "metadata": {},
   "outputs": [
    {
     "data": {
      "text/plain": [
       "MultiCompartmentNeuron(<parameters>)"
      ]
     },
     "execution_count": 21,
     "metadata": {},
     "output_type": "execute_result"
    }
   ],
   "source": [
    "cells[0:1].celltype"
   ]
  },
  {
   "cell_type": "code",
   "execution_count": 22,
   "id": "40664e20",
   "metadata": {},
   "outputs": [
    {
     "data": {
      "text/plain": [
       "<pyNN.arbor.standardmodels.cells.MyCell at 0x7fc80d7a8c10>"
      ]
     },
     "execution_count": 22,
     "metadata": {},
     "output_type": "execute_result"
    }
   ],
   "source": [
    "cells[0:1].all_cells[0]._cell"
   ]
  },
  {
   "cell_type": "code",
   "execution_count": 4,
   "id": "f6cdb771",
   "metadata": {},
   "outputs": [
    {
     "data": {
      "text/plain": [
       "pyNN.arbor.standardmodels.cells.MultiCompartmentNeuron"
      ]
     },
     "execution_count": 4,
     "metadata": {},
     "output_type": "execute_result"
    }
   ],
   "source": [
    "type(mycell)"
   ]
  },
  {
   "cell_type": "code",
   "execution_count": 5,
   "id": "80b0704a",
   "metadata": {},
   "outputs": [
    {
     "data": {
      "text/plain": [
       "pyNN.arbor.standardmodels.cells.MyCell"
      ]
     },
     "execution_count": 5,
     "metadata": {},
     "output_type": "execute_result"
    }
   ],
   "source": [
    "mycell.model"
   ]
  },
  {
   "cell_type": "code",
   "execution_count": 6,
   "id": "a77e6026",
   "metadata": {},
   "outputs": [
    {
     "data": {
      "text/plain": [
       "{'pas': PassiveLeak(<parameters>),\n",
       " 'na': NaChannel(<parameters>),\n",
       " 'kdr': KdrChannel(<parameters>)}"
      ]
     },
     "execution_count": 6,
     "metadata": {},
     "output_type": "execute_result"
    }
   ],
   "source": [
    "mycell.model.ion_channels"
   ]
  },
  {
   "cell_type": "code",
   "execution_count": 7,
   "id": "b5cf9825",
   "metadata": {},
   "outputs": [
    {
     "name": "stdout",
     "output_type": "stream",
     "text": [
      "None\n"
     ]
    }
   ],
   "source": [
    "print(mycell.model._decor)"
   ]
  },
  {
   "cell_type": "code",
   "execution_count": 20,
   "id": "daf0c8a5",
   "metadata": {},
   "outputs": [
    {
     "name": "stdout",
     "output_type": "stream",
     "text": [
      "<ParameterSpace morphology, cm, Ra, pas, na, kdr, na_ion, k_ion, shape=(1,)>\n"
     ]
    }
   ],
   "source": [
    "print(mycell.parameter_space)"
   ]
  },
  {
   "cell_type": "code",
   "execution_count": 22,
   "id": "7168cbfe",
   "metadata": {},
   "outputs": [
    {
     "name": "stdout",
     "output_type": "stream",
     "text": [
      "morphology\n",
      "cm\n",
      "Ra\n",
      "pas\n",
      "na\n",
      "kdr\n",
      "na_ion\n",
      "k_ion\n"
     ]
    }
   ],
   "source": [
    "for key in mycell.parameter_space.keys():\n",
    "    print(key)"
   ]
  },
  {
   "cell_type": "code",
   "execution_count": 23,
   "id": "a7bfb360",
   "metadata": {},
   "outputs": [
    {
     "data": {
      "text/plain": [
       "array(<pyNN.morphology.NeuroMLMorphology object at 0x7f677fa11550>,\n",
       "      dtype=object)"
      ]
     },
     "execution_count": 23,
     "metadata": {},
     "output_type": "execute_result"
    }
   ],
   "source": [
    "mycell.parameter_space[\"morphology\"]"
   ]
  },
  {
   "cell_type": "code",
   "execution_count": 24,
   "id": "45a7115d",
   "metadata": {},
   "outputs": [
    {
     "data": {
      "text/plain": [
       "<pyNN.morphology.NeuroMLMorphology at 0x7f677fa11550>"
      ]
     },
     "execution_count": 24,
     "metadata": {},
     "output_type": "execute_result"
    }
   ],
   "source": [
    "mycell.parameter_space[\"morphology\"].item()"
   ]
  },
  {
   "cell_type": "code",
   "execution_count": 6,
   "id": "b98ceb3c",
   "metadata": {},
   "outputs": [],
   "source": [
    "pyr_morph2 = load_morphology(\"single_cell_detailed.swc\", replace_axon=None)"
   ]
  },
  {
   "cell_type": "code",
   "execution_count": 7,
   "id": "b853c3d6",
   "metadata": {},
   "outputs": [],
   "source": [
    "from pyNN.morphology import load_morphology, uniform, random_section, dendrites, apical_dendrites, by_distance"
   ]
  },
  {
   "cell_type": "code",
   "execution_count": 8,
   "id": "c685cde7",
   "metadata": {},
   "outputs": [],
   "source": [
    "x = uniform('all', 0.0003)\n",
    "y = by_distance(dendrites(), lambda d: 0.05 * (d < 50.0))"
   ]
  },
  {
   "cell_type": "code",
   "execution_count": 9,
   "id": "416cf2aa",
   "metadata": {},
   "outputs": [
    {
     "data": {
      "text/plain": [
       "'all'"
      ]
     },
     "execution_count": 9,
     "metadata": {},
     "output_type": "execute_result"
    }
   ],
   "source": [
    "x.selector"
   ]
  },
  {
   "cell_type": "code",
   "execution_count": 10,
   "id": "33a4150b",
   "metadata": {},
   "outputs": [
    {
     "data": {
      "text/plain": [
       "<pyNN.morphology.dendrites at 0x7f677e18f700>"
      ]
     },
     "execution_count": 10,
     "metadata": {},
     "output_type": "execute_result"
    }
   ],
   "source": [
    "y.selector"
   ]
  },
  {
   "cell_type": "code",
   "execution_count": 11,
   "id": "e63a4cd2",
   "metadata": {},
   "outputs": [
    {
     "data": {
      "text/plain": [
       "'dendrites'"
      ]
     },
     "execution_count": 11,
     "metadata": {},
     "output_type": "execute_result"
    }
   ],
   "source": [
    "y.selector.__class__.__name__"
   ]
  },
  {
   "cell_type": "code",
   "execution_count": 16,
   "id": "6ee24ecb",
   "metadata": {},
   "outputs": [
    {
     "data": {
      "text/plain": [
       "0.05"
      ]
     },
     "execution_count": 16,
     "metadata": {},
     "output_type": "execute_result"
    }
   ],
   "source": [
    "y.distance_function(1)"
   ]
  },
  {
   "cell_type": "code",
   "execution_count": 9,
   "id": "8692afc2",
   "metadata": {},
   "outputs": [],
   "source": [
    "import arbor"
   ]
  },
  {
   "cell_type": "code",
   "execution_count": 10,
   "id": "b504011f",
   "metadata": {},
   "outputs": [],
   "source": [
    "decor1 = arbor.decor()\n",
    "decor2 = arbor.decor()"
   ]
  },
  {
   "cell_type": "code",
   "execution_count": 11,
   "id": "3af4eb0d",
   "metadata": {},
   "outputs": [
    {
     "data": {
      "text/plain": [
       "<bound method PyCapsule.paint of <arbor._arbor.decor object at 0x7f3a93b1efb0>>"
      ]
     },
     "execution_count": 11,
     "metadata": {},
     "output_type": "execute_result"
    }
   ],
   "source": [
    "decor1.paint"
   ]
  },
  {
   "cell_type": "code",
   "execution_count": 12,
   "id": "4e0eba14",
   "metadata": {},
   "outputs": [
    {
     "ename": "AttributeError",
     "evalue": "'arbor._arbor.decor' object attribute 'paint' is read-only",
     "output_type": "error",
     "traceback": [
      "\u001b[0;31m---------------------------------------------------------------------------\u001b[0m",
      "\u001b[0;31mAttributeError\u001b[0m                            Traceback (most recent call last)",
      "\u001b[0;32m<ipython-input-12-01cadc3f7ba9>\u001b[0m in \u001b[0;36m<module>\u001b[0;34m\u001b[0m\n\u001b[0;32m----> 1\u001b[0;31m \u001b[0mdecor1\u001b[0m\u001b[0;34m.\u001b[0m\u001b[0mpaint\u001b[0m \u001b[0;34m=\u001b[0m \u001b[0mdecor2\u001b[0m\u001b[0;34m.\u001b[0m\u001b[0mpaint\u001b[0m\u001b[0;34m\u001b[0m\u001b[0;34m\u001b[0m\u001b[0m\n\u001b[0m",
      "\u001b[0;31mAttributeError\u001b[0m: 'arbor._arbor.decor' object attribute 'paint' is read-only"
     ]
    }
   ],
   "source": [
    "decor1.paint = decor2.paint"
   ]
  },
  {
   "cell_type": "code",
   "execution_count": 13,
   "id": "778b5e74",
   "metadata": {},
   "outputs": [
    {
     "name": "stdout",
     "output_type": "stream",
     "text": [
      "Help on decor in module arbor._arbor object:\n",
      "\n",
      "class decor(pybind11_builtins.pybind11_object)\n",
      " |  Description of the decorations to be applied to a cable cell, that is the painted,\n",
      " |  placed and defaulted properties, mecahanisms, ion species etc.\n",
      " |  \n",
      " |  Method resolution order:\n",
      " |      decor\n",
      " |      pybind11_builtins.pybind11_object\n",
      " |      builtins.object\n",
      " |  \n",
      " |  Methods defined here:\n",
      " |  \n",
      " |  __init__(...)\n",
      " |      __init__(*args, **kwargs)\n",
      " |      Overloaded function.\n",
      " |      \n",
      " |      1. __init__(self: arbor._arbor.decor) -> None\n",
      " |      \n",
      " |      2. __init__(self: arbor._arbor.decor, arg0: arbor._arbor.decor) -> None\n",
      " |  \n",
      " |  discretization(...)\n",
      " |      discretization(*args, **kwargs)\n",
      " |      Overloaded function.\n",
      " |      \n",
      " |      1. discretization(self: arbor._arbor.decor, policy: arbor._arbor.cv_policy = 'A cv_policy used to discretise the cell into compartments for simulation') -> None\n",
      " |      \n",
      " |      2. discretization(self: arbor._arbor.decor, policy: str = 'An s-expression string representing a cv_policy used to discretise the cell into compartments for simulation') -> None\n",
      " |  \n",
      " |  paint(...)\n",
      " |      paint(*args, **kwargs)\n",
      " |      Overloaded function.\n",
      " |      \n",
      " |      1. paint(self: arbor._arbor.decor, region: str, mechanism: arbor._arbor.density) -> None\n",
      " |      \n",
      " |      Associate a density mechanism with a region.\n",
      " |      \n",
      " |      2. paint(self: arbor._arbor.decor, region: str, mechanism: arbor._arbor.scaled_mechanism) -> None\n",
      " |      \n",
      " |      Associate a scaled density mechanism with a region.\n",
      " |      \n",
      " |      3. paint(self: arbor._arbor.decor, region: str = 'the region label or description.', Vm: Optional[float] = initial membrane voltage [mV]., cm: Optional[float] = membrane capacitance [F/m²]., rL: Optional[float] = axial resistivity [Ω·cm]., tempK: Optional[float] = temperature [Kelvin].) -> None\n",
      " |      \n",
      " |      Set cable properties on a region.\n",
      " |      \n",
      " |      4. paint(self: arbor._arbor.decor, region: str, *, ion_name: str, int_con: Optional[float] = Initial internal concentration [mM], ext_con: Optional[float] = Initial external concentration [mM], rev_pot: Optional[float] = Initial reversal potential [mV], diff: Optional[float] = Diffusivity [m^2/s]) -> None\n",
      " |      \n",
      " |      Set ion species properties conditions on a region.\n",
      " |  \n",
      " |  place(...)\n",
      " |      place(*args, **kwargs)\n",
      " |      Overloaded function.\n",
      " |      \n",
      " |      1. place(self: arbor._arbor.decor, locations: str, synapse: arbor._arbor.synapse, label: str) -> None\n",
      " |      \n",
      " |      Place one instance of 'synapse' on each location in 'locations'.The group of synapses has the label 'label', used for forming connections between cells.\n",
      " |      \n",
      " |      2. place(self: arbor._arbor.decor, locations: str, junction: arbor._arbor.junction, label: str) -> None\n",
      " |      \n",
      " |      Place one instance of 'junction' on each location in 'locations'.The group of junctions has the label 'label', used for forming gap-junction connections between cells.\n",
      " |      \n",
      " |      3. place(self: arbor._arbor.decor, locations: str, iclamp: arbor._arbor.iclamp, label: str) -> None\n",
      " |      \n",
      " |      Add a current stimulus at each location in locations.The group of current stimuli has the label 'label'.\n",
      " |      \n",
      " |      4. place(self: arbor._arbor.decor, locations: str, detector: arbor._arbor.spike_detector, label: str) -> None\n",
      " |      \n",
      " |      Add a voltage spike detector at each location in locations.The group of spike detectors has the label 'label', used for forming connections between cells.\n",
      " |  \n",
      " |  set_ion(...)\n",
      " |      set_ion(self: arbor._arbor.decor, ion: str = 'name of the ion species.', int_con: Optional[float] = initial internal concentration [mM]., ext_con: Optional[float] = initial external concentration [mM]., rev_pot: Optional[float] = reversal potential [mV]., method: object = method for calculating reversal potential., diff: Optional[float] = diffusivity [m^2/s].) -> None\n",
      " |      \n",
      " |      Set the properties of ion species named 'ion' that will be applied\n",
      " |      by default everywhere on the cell. Species concentrations and reversal\n",
      " |      potential can be overridden on specific regions using the paint interface, \n",
      " |      while the method for calculating reversal potential is global for all\n",
      " |      compartments in the cell, and can't be overriden locally.\n",
      " |  \n",
      " |  set_property(...)\n",
      " |      set_property(self: arbor._arbor.decor, Vm: Optional[float] = initial membrane voltage [mV]., cm: Optional[float] = membrane capacitance [F/m²]., rL: Optional[float] = axial resistivity [Ω·cm]., tempK: Optional[float] = temperature [Kelvin].) -> None\n",
      " |      \n",
      " |      Set default values for cable and cell properties. These values can be overridden on specific regions using the paint interface.\n",
      " |  \n",
      " |  ----------------------------------------------------------------------\n",
      " |  Static methods inherited from pybind11_builtins.pybind11_object:\n",
      " |  \n",
      " |  __new__(*args, **kwargs) from pybind11_builtins.pybind11_type\n",
      " |      Create and return a new object.  See help(type) for accurate signature.\n",
      "\n"
     ]
    }
   ],
   "source": [
    "help(decor1)"
   ]
  },
  {
   "cell_type": "code",
   "execution_count": 5,
   "id": "688e0dd7",
   "metadata": {},
   "outputs": [],
   "source": [
    "import arbor"
   ]
  },
  {
   "cell_type": "code",
   "execution_count": 6,
   "id": "ceba0721",
   "metadata": {},
   "outputs": [],
   "source": [
    "labels = arbor.label_dict({\n",
    "  \"soma\": \"(tag 1)\",\n",
    "  \"axon\": \"(tag 2)\",\n",
    "  \"dend\": \"(tag 3)\",\n",
    "  \"apic\": \"(tag 4)\",\n",
    "})"
   ]
  },
  {
   "cell_type": "code",
   "execution_count": 7,
   "id": "d8c4359d",
   "metadata": {},
   "outputs": [
    {
     "data": {
      "text/plain": [
       "(label_dict (region  \"soma\" (tag 1)) (region  \"axon\" (tag 2)) (region  \"dend\" (tag 3)) (region  \"apic\" (tag 4)))"
      ]
     },
     "execution_count": 7,
     "metadata": {},
     "output_type": "execute_result"
    }
   ],
   "source": [
    "labels"
   ]
  },
  {
   "cell_type": "code",
   "execution_count": 9,
   "id": "54c6daa0",
   "metadata": {},
   "outputs": [
    {
     "ename": "TypeError",
     "evalue": "append(): incompatible function arguments. The following argument types are supported:\n    1. (self: arbor._arbor.label_dict, other: arbor._arbor.label_dict, The label_dict to be importedprefix: str = '') -> None\n\nInvoked with: (label_dict (region  \"soma\" (tag 1)) (region  \"axon\" (tag 2)) (region  \"dend\" (tag 3)) (region  \"apic\" (tag 4))), {'apic2': '(tag 5)'}",
     "output_type": "error",
     "traceback": [
      "\u001b[0;31m---------------------------------------------------------------------------\u001b[0m",
      "\u001b[0;31mTypeError\u001b[0m                                 Traceback (most recent call last)",
      "\u001b[0;32m<ipython-input-9-d5910cd621d7>\u001b[0m in \u001b[0;36m<module>\u001b[0;34m\u001b[0m\n\u001b[0;32m----> 1\u001b[0;31m \u001b[0mlabels\u001b[0m\u001b[0;34m.\u001b[0m\u001b[0mappend\u001b[0m\u001b[0;34m(\u001b[0m\u001b[0;34m{\u001b[0m\u001b[0;34m\"apic2\"\u001b[0m\u001b[0;34m:\u001b[0m \u001b[0;34m\"(tag 5)\"\u001b[0m\u001b[0;34m}\u001b[0m\u001b[0;34m)\u001b[0m\u001b[0;34m\u001b[0m\u001b[0;34m\u001b[0m\u001b[0m\n\u001b[0m",
      "\u001b[0;31mTypeError\u001b[0m: append(): incompatible function arguments. The following argument types are supported:\n    1. (self: arbor._arbor.label_dict, other: arbor._arbor.label_dict, The label_dict to be importedprefix: str = '') -> None\n\nInvoked with: (label_dict (region  \"soma\" (tag 1)) (region  \"axon\" (tag 2)) (region  \"dend\" (tag 3)) (region  \"apic\" (tag 4))), {'apic2': '(tag 5)'}"
     ]
    }
   ],
   "source": [
    "labels.append({\"apic2\": \"(tag 5)\"})"
   ]
  },
  {
   "cell_type": "code",
   "execution_count": 10,
   "id": "8711f354",
   "metadata": {},
   "outputs": [
    {
     "data": {
      "text/plain": [
       "(label_dict (region  \"soma\" (tag 1)) (region  \"axon\" (tag 2)) (region  \"dend\" (tag 3)) (region  \"apic\" (tag 4)))"
      ]
     },
     "execution_count": 10,
     "metadata": {},
     "output_type": "execute_result"
    }
   ],
   "source": [
    "labels"
   ]
  },
  {
   "cell_type": "code",
   "execution_count": 11,
   "id": "f0ca1512",
   "metadata": {},
   "outputs": [],
   "source": [
    "labels[\"apic2\"] = \"(tag 5)\""
   ]
  },
  {
   "cell_type": "code",
   "execution_count": 12,
   "id": "cfae7f8a",
   "metadata": {},
   "outputs": [
    {
     "data": {
      "text/plain": [
       "(label_dict (region  \"soma\" (tag 1)) (region  \"apic2\" (tag 5)) (region  \"axon\" (tag 2)) (region  \"dend\" (tag 3)) (region  \"apic\" (tag 4)))"
      ]
     },
     "execution_count": 12,
     "metadata": {},
     "output_type": "execute_result"
    }
   ],
   "source": [
    "labels"
   ]
  },
  {
   "cell_type": "code",
   "execution_count": null,
   "id": "f28a57c0",
   "metadata": {},
   "outputs": [],
   "source": []
  }
 ],
 "metadata": {
  "kernelspec": {
   "display_name": "Python 3",
   "language": "python",
   "name": "python3"
  },
  "language_info": {
   "codemirror_mode": {
    "name": "ipython",
    "version": 3
   },
   "file_extension": ".py",
   "mimetype": "text/x-python",
   "name": "python",
   "nbconvert_exporter": "python",
   "pygments_lexer": "ipython3",
   "version": "3.8.2"
  }
 },
 "nbformat": 4,
 "nbformat_minor": 5
}
