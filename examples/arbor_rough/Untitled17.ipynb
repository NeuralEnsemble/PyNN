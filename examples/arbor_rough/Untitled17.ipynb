{
 "cells": [
  {
   "cell_type": "code",
   "execution_count": 1,
   "id": "cab58825",
   "metadata": {},
   "outputs": [],
   "source": [
    "from pyNN.morphology import NeuroMLMorphology, load_morphology, uniform, random_section, dendrites, apical_dendrites, by_distance\n",
    "from neuroml import Morphology, Segment, Point3DWithDiam as P\n",
    "soma = Segment(proximal=P(x=0, y=0, z=0, diameter=18.8),\n",
    "               distal=P(x=18.8, y=0, z=0, diameter=18.8),\n",
    "               name=\"soma\", id=0)\n",
    "dend = Segment(proximal=P(x=0, y=0, z=0, diameter=2),\n",
    "               distal=P(x=-500, y=0, z=0, diameter=2),\n",
    "               name=\"dendrite\",\n",
    "               parent=soma, id=1)\n",
    "nu_morph = NeuroMLMorphology(Morphology(segments=(soma, dend)))\n",
    "import pyNN.arbor as sim\n",
    "sim.setup(timestep=0.025)\n",
    "cc = sim.MultiCompartmentNeuron.setup(\n",
    "\t\t\t\tlabel=\"MyCell\",\n",
    "\t\t\t\tion_channels={'pas': sim.PassiveLeak,\n",
    "\t\t\t\t\t\t\t  'na': sim.NaChannel,\n",
    "\t\t\t\t\t\t\t  'kdr': sim.KdrChannel},\n",
    "\t\t\t\tionic_species={'na_ion': sim.NaIon,\n",
    "\t\t\t\t\t\t\t   'k_ion': sim.KIon})\n",
    "mycell = cc(morphology=nu_morph,\n",
    "\t\t\tcm=1.0,\n",
    "\t\t\tRa=500.0,\n",
    "\t\t\tna_ion = {\"reversal_potential\": 50.0},\n",
    "\t\t\tk_ion = {\"reversal_potential\": -77.0},\n",
    "\t\t\tpas={\"conductance_density\": uniform('all', 0.0003),\n",
    "\t\t\t\t\"e_rev\":-54.3},\n",
    "\t\t\tna={\"conductance_density\": uniform('soma', 0.120),\n",
    "\t\t\t   \"e_rev\": 50.0},\n",
    "\t\t\tkdr={\"conductance_density\": uniform('soma', 0.036),\n",
    "\t\t\t\t\"e_rev\": -77.0})"
   ]
  },
  {
   "cell_type": "code",
   "execution_count": 2,
   "id": "694ca23c",
   "metadata": {},
   "outputs": [
    {
     "ename": "AttributeError",
     "evalue": "'ArborTemplate' object has no attribute 'ionic_species'",
     "output_type": "error",
     "traceback": [
      "\u001b[0;31m---------------------------------------------------------------------------\u001b[0m",
      "\u001b[0;31mAttributeError\u001b[0m                            Traceback (most recent call last)",
      "Input \u001b[0;32mIn [2]\u001b[0m, in \u001b[0;36m<module>\u001b[0;34m\u001b[0m\n\u001b[1;32m      1\u001b[0m \u001b[38;5;28;01mfrom\u001b[39;00m \u001b[38;5;21;01mpyNN\u001b[39;00m\u001b[38;5;21;01m.\u001b[39;00m\u001b[38;5;21;01marbor\u001b[39;00m\u001b[38;5;21;01m.\u001b[39;00m\u001b[38;5;21;01mcells\u001b[39;00m \u001b[38;5;28;01mimport\u001b[39;00m ArborTemplate\n\u001b[0;32m----> 2\u001b[0m mycell \u001b[38;5;241m=\u001b[39m \u001b[43mArborTemplate\u001b[49m\u001b[43m(\u001b[49m\u001b[43mmorphology\u001b[49m\u001b[38;5;241;43m=\u001b[39;49m\u001b[43mnu_morph\u001b[49m\u001b[43m,\u001b[49m\n\u001b[1;32m      3\u001b[0m \u001b[43m\t\t\t\u001b[49m\u001b[43mcm\u001b[49m\u001b[38;5;241;43m=\u001b[39;49m\u001b[38;5;241;43m1.0\u001b[39;49m\u001b[43m,\u001b[49m\n\u001b[1;32m      4\u001b[0m \u001b[43m\t\t\t\u001b[49m\u001b[43mRa\u001b[49m\u001b[38;5;241;43m=\u001b[39;49m\u001b[38;5;241;43m500.0\u001b[39;49m\u001b[43m,\u001b[49m\n\u001b[1;32m      5\u001b[0m \u001b[43m\t\t\t\u001b[49m\u001b[43mna_ion\u001b[49m\u001b[43m \u001b[49m\u001b[38;5;241;43m=\u001b[39;49m\u001b[43m \u001b[49m\u001b[43m{\u001b[49m\u001b[38;5;124;43m\"\u001b[39;49m\u001b[38;5;124;43mreversal_potential\u001b[39;49m\u001b[38;5;124;43m\"\u001b[39;49m\u001b[43m:\u001b[49m\u001b[43m \u001b[49m\u001b[38;5;241;43m50.0\u001b[39;49m\u001b[43m}\u001b[49m\u001b[43m,\u001b[49m\n\u001b[1;32m      6\u001b[0m \u001b[43m\t\t\t\u001b[49m\u001b[43mk_ion\u001b[49m\u001b[43m \u001b[49m\u001b[38;5;241;43m=\u001b[39;49m\u001b[43m \u001b[49m\u001b[43m{\u001b[49m\u001b[38;5;124;43m\"\u001b[39;49m\u001b[38;5;124;43mreversal_potential\u001b[39;49m\u001b[38;5;124;43m\"\u001b[39;49m\u001b[43m:\u001b[49m\u001b[43m \u001b[49m\u001b[38;5;241;43m-\u001b[39;49m\u001b[38;5;241;43m77.0\u001b[39;49m\u001b[43m}\u001b[49m\u001b[43m,\u001b[49m\n\u001b[1;32m      7\u001b[0m \u001b[43m\t\t\t\u001b[49m\u001b[43mpas\u001b[49m\u001b[38;5;241;43m=\u001b[39;49m\u001b[43m{\u001b[49m\u001b[38;5;124;43m\"\u001b[39;49m\u001b[38;5;124;43mconductance_density\u001b[39;49m\u001b[38;5;124;43m\"\u001b[39;49m\u001b[43m:\u001b[49m\u001b[43m \u001b[49m\u001b[43muniform\u001b[49m\u001b[43m(\u001b[49m\u001b[38;5;124;43m'\u001b[39;49m\u001b[38;5;124;43mall\u001b[39;49m\u001b[38;5;124;43m'\u001b[39;49m\u001b[43m,\u001b[49m\u001b[43m \u001b[49m\u001b[38;5;241;43m0.0003\u001b[39;49m\u001b[43m)\u001b[49m\u001b[43m,\u001b[49m\n\u001b[1;32m      8\u001b[0m \u001b[43m\t\t\t\t\u001b[49m\u001b[38;5;124;43m\"\u001b[39;49m\u001b[38;5;124;43me_rev\u001b[39;49m\u001b[38;5;124;43m\"\u001b[39;49m\u001b[43m:\u001b[49m\u001b[38;5;241;43m-\u001b[39;49m\u001b[38;5;241;43m54.3\u001b[39;49m\u001b[43m}\u001b[49m\u001b[43m,\u001b[49m\n\u001b[1;32m      9\u001b[0m \u001b[43m\t\t\t\u001b[49m\u001b[43mna\u001b[49m\u001b[38;5;241;43m=\u001b[39;49m\u001b[43m{\u001b[49m\u001b[38;5;124;43m\"\u001b[39;49m\u001b[38;5;124;43mconductance_density\u001b[39;49m\u001b[38;5;124;43m\"\u001b[39;49m\u001b[43m:\u001b[49m\u001b[43m \u001b[49m\u001b[43muniform\u001b[49m\u001b[43m(\u001b[49m\u001b[38;5;124;43m'\u001b[39;49m\u001b[38;5;124;43msoma\u001b[39;49m\u001b[38;5;124;43m'\u001b[39;49m\u001b[43m,\u001b[49m\u001b[43m \u001b[49m\u001b[38;5;241;43m0.120\u001b[39;49m\u001b[43m)\u001b[49m\u001b[43m,\u001b[49m\n\u001b[1;32m     10\u001b[0m \u001b[43m\t\t\t   \u001b[49m\u001b[38;5;124;43m\"\u001b[39;49m\u001b[38;5;124;43me_rev\u001b[39;49m\u001b[38;5;124;43m\"\u001b[39;49m\u001b[43m:\u001b[49m\u001b[43m \u001b[49m\u001b[38;5;241;43m50.0\u001b[39;49m\u001b[43m}\u001b[49m\u001b[43m,\u001b[49m\n\u001b[1;32m     11\u001b[0m \u001b[43m\t\t\t\u001b[49m\u001b[43mkdr\u001b[49m\u001b[38;5;241;43m=\u001b[39;49m\u001b[43m{\u001b[49m\u001b[38;5;124;43m\"\u001b[39;49m\u001b[38;5;124;43mconductance_density\u001b[39;49m\u001b[38;5;124;43m\"\u001b[39;49m\u001b[43m:\u001b[49m\u001b[43m \u001b[49m\u001b[43muniform\u001b[49m\u001b[43m(\u001b[49m\u001b[38;5;124;43m'\u001b[39;49m\u001b[38;5;124;43msoma\u001b[39;49m\u001b[38;5;124;43m'\u001b[39;49m\u001b[43m,\u001b[49m\u001b[43m \u001b[49m\u001b[38;5;241;43m0.036\u001b[39;49m\u001b[43m)\u001b[49m\u001b[43m,\u001b[49m\n\u001b[1;32m     12\u001b[0m \u001b[43m\t\t\t\t\u001b[49m\u001b[38;5;124;43m\"\u001b[39;49m\u001b[38;5;124;43me_rev\u001b[39;49m\u001b[38;5;124;43m\"\u001b[39;49m\u001b[43m:\u001b[49m\u001b[43m \u001b[49m\u001b[38;5;241;43m-\u001b[39;49m\u001b[38;5;241;43m77.0\u001b[39;49m\u001b[43m}\u001b[49m\u001b[43m)\u001b[49m\n",
      "File \u001b[0;32m/envs/py3-pyNNarborTest/lib/python3.8/site-packages/pyNN/arbor/cells.py:75\u001b[0m, in \u001b[0;36mArborTemplate.__init__\u001b[0;34m(self, morphology, cm, Ra, **other_parameters)\u001b[0m\n\u001b[1;32m     73\u001b[0m \u001b[38;5;28mself\u001b[39m\u001b[38;5;241m.\u001b[39m_decor \u001b[38;5;241m=\u001b[39m arbor\u001b[38;5;241m.\u001b[39mdecor()\n\u001b[1;32m     74\u001b[0m \u001b[38;5;28mself\u001b[39m\u001b[38;5;241m.\u001b[39m_decor\u001b[38;5;241m.\u001b[39mset_property(cm\u001b[38;5;241m=\u001b[39mcm, rL\u001b[38;5;241m=\u001b[39mRa)\n\u001b[0;32m---> 75\u001b[0m \u001b[38;5;28;43mself\u001b[39;49m\u001b[38;5;241;43m.\u001b[39;49m\u001b[43m__decorate_ionic_species\u001b[49m\u001b[43m(\u001b[49m\u001b[43mother_parameters\u001b[49m\u001b[43m)\u001b[49m\n",
      "File \u001b[0;32m/envs/py3-pyNNarborTest/lib/python3.8/site-packages/pyNN/arbor/cells.py:350\u001b[0m, in \u001b[0;36mArborTemplate.__decorate_ionic_species\u001b[0;34m(self, other_parameters)\u001b[0m\n\u001b[1;32m    346\u001b[0m \u001b[38;5;28;01mdef\u001b[39;00m \u001b[38;5;21m__decorate_ionic_species\u001b[39m(\u001b[38;5;28mself\u001b[39m, other_parameters):\n\u001b[1;32m    347\u001b[0m     \u001b[38;5;124;03m\"\"\"\u001b[39;00m\n\u001b[1;32m    348\u001b[0m \u001b[38;5;124;03m    Call this as self.__decorate_ionic_species(other_parameters) to update self._decor\u001b[39;00m\n\u001b[1;32m    349\u001b[0m \u001b[38;5;124;03m    \"\"\"\u001b[39;00m\n\u001b[0;32m--> 350\u001b[0m     \u001b[38;5;28;01mfor\u001b[39;00m name, ion_species \u001b[38;5;129;01min\u001b[39;00m \u001b[38;5;28;43mself\u001b[39;49m\u001b[38;5;241;43m.\u001b[39;49m\u001b[43mionic_species\u001b[49m\u001b[38;5;241m.\u001b[39mitems():\n\u001b[1;32m    351\u001b[0m         parameters \u001b[38;5;241m=\u001b[39m other_parameters[name]\n\u001b[1;32m    352\u001b[0m         dict_input \u001b[38;5;241m=\u001b[39m \u001b[38;5;28mself\u001b[39m\u001b[38;5;241m.\u001b[39m__get_dict_for_ion(ion_species, parameters)\n",
      "\u001b[0;31mAttributeError\u001b[0m: 'ArborTemplate' object has no attribute 'ionic_species'"
     ]
    }
   ],
   "source": [
    "from pyNN.arbor.cells import ArborTemplate\n",
    "mycell = ArborTemplate(morphology=nu_morph,\n",
    "\t\t\tcm=1.0,\n",
    "\t\t\tRa=500.0,\n",
    "\t\t\tna_ion = {\"reversal_potential\": 50.0},\n",
    "\t\t\tk_ion = {\"reversal_potential\": -77.0},\n",
    "\t\t\tpas={\"conductance_density\": uniform('all', 0.0003),\n",
    "\t\t\t\t\"e_rev\":-54.3},\n",
    "\t\t\tna={\"conductance_density\": uniform('soma', 0.120),\n",
    "\t\t\t   \"e_rev\": 50.0},\n",
    "\t\t\tkdr={\"conductance_density\": uniform('soma', 0.036),\n",
    "\t\t\t\t\"e_rev\": -77.0})"
   ]
  },
  {
   "cell_type": "code",
   "execution_count": 2,
   "id": "d4778422",
   "metadata": {},
   "outputs": [],
   "source": [
    "pyr_morph1 = load_morphology(\"oi15rpy4-1.CNG.swc\", replace_axon=None)\n",
    "pyr_morph2 = load_morphology(\"single_cell_detailed.swc\", replace_axon=None)"
   ]
  },
  {
   "cell_type": "code",
   "execution_count": 5,
   "id": "7d72efa5",
   "metadata": {},
   "outputs": [],
   "source": [
    "mycell = ArborTemplate(morphology=pyr_morph2,\n",
    "\t\t\tcm=1.0,\n",
    "\t\t\tRa=500.0,\n",
    "\t\t\tna_ion = {\"reversal_potential\": 50.0},\n",
    "\t\t\tk_ion = {\"reversal_potential\": -77.0},\n",
    "\t\t\tpas={\"conductance_density\": uniform('all', 0.0003),\n",
    "\t\t\t\t\"e_rev\":-54.3},\n",
    "\t\t\tna={\"conductance_density\": uniform('soma', 0.120),\n",
    "\t\t\t   \"e_rev\": 50.0},\n",
    "\t\t\tkdr={\"conductance_density\": uniform('soma', 0.036),\n",
    "\t\t\t\t\"e_rev\": -77.0})"
   ]
  },
  {
   "cell_type": "code",
   "execution_count": 6,
   "id": "04061450",
   "metadata": {},
   "outputs": [
    {
     "name": "stdout",
     "output_type": "stream",
     "text": [
      "0 None\n",
      "1 <None segment=\"1\"/>\n",
      "\n",
      "2 <None segment=\"2\"/>\n",
      "\n",
      "3 <None segment=\"3\"/>\n",
      "\n",
      "4 <None segment=\"4\"/>\n",
      "\n",
      "5 <None segment=\"5\"/>\n",
      "\n",
      "6 <None segment=\"4\"/>\n",
      "\n",
      "7 <None segment=\"7\"/>\n",
      "\n",
      "8 <None segment=\"8\"/>\n",
      "\n",
      "9 None\n",
      "10 <None segment=\"10\"/>\n",
      "\n"
     ]
    }
   ],
   "source": [
    "for indx, nml_seg in enumerate(pyr_morph2.backend_segments):\n",
    "    print(indx, nml_seg.parent)"
   ]
  },
  {
   "cell_type": "code",
   "execution_count": 7,
   "id": "1961d12c",
   "metadata": {},
   "outputs": [
    {
     "name": "stdout",
     "output_type": "stream",
     "text": [
      "0 (0.0, 0.0, 0.0), diam 2.0um (40.0, 0.0, 0.0), diam 2.0um\n",
      "1 (40.0, 0.0, 0.0), diam 0.8um (80.0, 0.0, 0.0), diam 0.8um\n",
      "2 (80.0, 0.0, 0.0), diam 0.8um (120.0, -5.0, 0.0), diam 0.8um\n",
      "3 (120.0, -5.0, 0.0), diam 0.8um (200.0, 40.0, 0.0), diam 0.4um\n",
      "4 (200.0, 40.0, 0.0), diam 0.4um (260.0, 60.0, 0.0), diam 0.2um\n",
      "5 (120.0, -5.0, 0.0), diam 0.5um (190.0, -30.0, 0.0), diam 0.5um\n",
      "6 (190.0, -30.0, 0.0), diam 0.5um (240.0, -70.0, 0.0), diam 0.2um\n",
      "7 (190.0, -30.0, 0.0), diam 0.5um (230.0, -10.0, 0.0), diam 0.2um\n",
      "8 (230.0, -10.0, 0.0), diam 0.2um (360.0, -20.0, 0.0), diam 0.2um\n",
      "9 (0.0, 0.0, 0.0), diam 2.0um (-70.0, 0.0, 0.0), diam 0.4um\n",
      "10 (-70.0, 0.0, 0.0), diam 0.4um (-100.0, 0.0, 0.0), diam 0.4um\n"
     ]
    }
   ],
   "source": [
    "for indx, nml_seg in enumerate(pyr_morph2.backend_segments):\n",
    "    print(indx, pyr_morph2.segments[indx].proximal, pyr_morph2.segments[indx].distal)"
   ]
  },
  {
   "cell_type": "code",
   "execution_count": 8,
   "id": "4d3cd5d4",
   "metadata": {},
   "outputs": [
    {
     "data": {
      "text/plain": [
       "[<Segment|1|soma>,\n",
       " <Segment|2|basal_dendrite>,\n",
       " <Segment|3|basal_dendrite>,\n",
       " <Segment|4|basal_dendrite>,\n",
       " <Segment|5|basal_dendrite>,\n",
       " <Segment|6|basal_dendrite>,\n",
       " <Segment|7|basal_dendrite>,\n",
       " <Segment|8|basal_dendrite>,\n",
       " <Segment|9|apical_dendrite>,\n",
       " <Segment|10|apical_dendrite>,\n",
       " <Segment|11|apical_dendrite>]"
      ]
     },
     "execution_count": 8,
     "metadata": {},
     "output_type": "execute_result"
    }
   ],
   "source": [
    "mycell.morphology.backend_segments"
   ]
  },
  {
   "cell_type": "code",
   "execution_count": 9,
   "id": "6de2017e",
   "metadata": {},
   "outputs": [
    {
     "data": {
      "text/plain": [
       "<neuroml.arraymorph.SegmentList at 0x7fe52c226fd0>"
      ]
     },
     "execution_count": 9,
     "metadata": {},
     "output_type": "execute_result"
    }
   ],
   "source": [
    "mycell.morphology.segments"
   ]
  },
  {
   "cell_type": "code",
   "execution_count": 3,
   "id": "3dbe0a62",
   "metadata": {},
   "outputs": [],
   "source": [
    "import pyNN.arbor as sim"
   ]
  },
  {
   "cell_type": "code",
   "execution_count": 4,
   "id": "39127ce4",
   "metadata": {},
   "outputs": [],
   "source": [
    "pyr_morph2 = load_morphology(\"single_cell_detailed.swc\", replace_axon=None)\n",
    "cc = sim.MultiCompartmentNeuron.setup(\n",
    "\t\t\t\tlabel=\"MyCell\",\n",
    "\t\t\t\tion_channels={'pas': sim.PassiveLeak,\n",
    "\t\t\t\t\t\t\t  'na': sim.NaChannel,\n",
    "\t\t\t\t\t\t\t  'kdr': sim.KdrChannel},\n",
    "\t\t\t\tionic_species={'na_ion': sim.NaIon,\n",
    "\t\t\t\t\t\t\t   'k_ion': sim.KIon})\n",
    "mycell = cc(morphology=pyr_morph2,\n",
    "\t\t\tcm=1.0,\n",
    "\t\t\tRa=500.0,\n",
    "\t\t\tna_ion = {\"reversal_potential\": 50.0},\n",
    "\t\t\tk_ion = {\"reversal_potential\": -77.0},\n",
    "\t\t\tpas={\"conductance_density\": uniform('all', 0.0003),\n",
    "\t\t\t\t\"e_rev\":-54.3},\n",
    "\t\t\tna={\"conductance_density\": uniform('soma', 0.120),\n",
    "\t\t\t   \"e_rev\": 50.0},\n",
    "\t\t\tkdr={\"conductance_density\": uniform('soma', 0.036),\n",
    "\t\t\t\t\"e_rev\": -77.0})"
   ]
  },
  {
   "cell_type": "code",
   "execution_count": 5,
   "id": "6c387d18",
   "metadata": {},
   "outputs": [
    {
     "name": "stdout",
     "output_type": "stream",
     "text": [
      "<pyNN.morphology.NeuroMLMorphology object at 0x7fb434719520>\n",
      "True\n"
     ]
    },
    {
     "data": {
      "text/plain": [
       "<neuroml.arraymorph.ArrayMorphology at 0x7fb4347197f0>"
      ]
     },
     "execution_count": 5,
     "metadata": {},
     "output_type": "execute_result"
    }
   ],
   "source": [
    "print(pyr_morph2)\n",
    "print(hasattr(pyr_morph2, '_morphology'))\n",
    "pyr_morph2._morphology"
   ]
  },
  {
   "cell_type": "code",
   "execution_count": 6,
   "id": "8a566d30",
   "metadata": {},
   "outputs": [
    {
     "ename": "AttributeError",
     "evalue": "module 'pyNN.arbor.simulator' has no attribute 'initializer'",
     "output_type": "error",
     "traceback": [
      "\u001b[0;31m---------------------------------------------------------------------------\u001b[0m",
      "\u001b[0;31mAttributeError\u001b[0m                            Traceback (most recent call last)",
      "Input \u001b[0;32mIn [6]\u001b[0m, in \u001b[0;36m<module>\u001b[0;34m\u001b[0m\n\u001b[0;32m----> 1\u001b[0m cells \u001b[38;5;241m=\u001b[39m \u001b[43msim\u001b[49m\u001b[38;5;241;43m.\u001b[39;49m\u001b[43mPopulation\u001b[49m\u001b[43m(\u001b[49m\u001b[38;5;241;43m1\u001b[39;49m\u001b[43m,\u001b[49m\u001b[43m \u001b[49m\u001b[43mmycell\u001b[49m\u001b[43m,\u001b[49m\u001b[43m \u001b[49m\u001b[43minitial_values\u001b[49m\u001b[38;5;241;43m=\u001b[39;49m\u001b[43m{\u001b[49m\u001b[38;5;124;43m'\u001b[39;49m\u001b[38;5;124;43mv\u001b[39;49m\u001b[38;5;124;43m'\u001b[39;49m\u001b[43m:\u001b[49m\u001b[43m \u001b[49m\u001b[38;5;241;43m-\u001b[39;49m\u001b[38;5;241;43m60.0\u001b[39;49m\u001b[43m}\u001b[49m\u001b[43m)\u001b[49m\n",
      "File \u001b[0;32m/envs/py3-pyNNarborTest/lib/python3.8/site-packages/pyNN/common/populations.py:683\u001b[0m, in \u001b[0;36mPopulation.__init__\u001b[0;34m(self, size, cellclass, cellparams, structure, initial_values, label)\u001b[0m\n\u001b[1;32m    678\u001b[0m \u001b[38;5;28mself\u001b[39m\u001b[38;5;241m.\u001b[39mrecorder \u001b[38;5;241m=\u001b[39m \u001b[38;5;28mself\u001b[39m\u001b[38;5;241m.\u001b[39m_recorder_class(\u001b[38;5;28mself\u001b[39m)\n\u001b[1;32m    679\u001b[0m \u001b[38;5;66;03m# Build the arrays of cell ids\u001b[39;00m\n\u001b[1;32m    680\u001b[0m \u001b[38;5;66;03m# Cells on the local node are represented as ID objects, other cells by integers\u001b[39;00m\n\u001b[1;32m    681\u001b[0m \u001b[38;5;66;03m# All are stored in a single numpy array for easy lookup by address\u001b[39;00m\n\u001b[1;32m    682\u001b[0m \u001b[38;5;66;03m# The local cells are also stored in a list, for easy iteration\u001b[39;00m\n\u001b[0;32m--> 683\u001b[0m \u001b[38;5;28;43mself\u001b[39;49m\u001b[38;5;241;43m.\u001b[39;49m\u001b[43m_create_cells\u001b[49m\u001b[43m(\u001b[49m\u001b[43m)\u001b[49m\n\u001b[1;32m    684\u001b[0m \u001b[38;5;28mself\u001b[39m\u001b[38;5;241m.\u001b[39mfirst_id \u001b[38;5;241m=\u001b[39m \u001b[38;5;28mself\u001b[39m\u001b[38;5;241m.\u001b[39mall_cells[\u001b[38;5;241m0\u001b[39m]\n\u001b[1;32m    685\u001b[0m \u001b[38;5;28mself\u001b[39m\u001b[38;5;241m.\u001b[39mlast_id \u001b[38;5;241m=\u001b[39m \u001b[38;5;28mself\u001b[39m\u001b[38;5;241m.\u001b[39mall_cells[\u001b[38;5;241m-\u001b[39m\u001b[38;5;241m1\u001b[39m]\n",
      "File \u001b[0;32m/envs/py3-pyNNarborTest/lib/python3.8/site-packages/pyNN/arbor/populations.py:132\u001b[0m, in \u001b[0;36mPopulation._create_cells\u001b[0;34m(self)\u001b[0m\n\u001b[1;32m    128\u001b[0m             \u001b[38;5;66;03m# print(params)\u001b[39;00m\n\u001b[1;32m    129\u001b[0m             \u001b[38;5;66;03m# print(params[\"morphology\"])\u001b[39;00m\n\u001b[1;32m    130\u001b[0m             \u001b[38;5;66;03m# print(params[\"morphology\"]._morphology) # something happened because ._morphology is not found\u001b[39;00m\n\u001b[1;32m    131\u001b[0m         \u001b[38;5;28mself\u001b[39m\u001b[38;5;241m.\u001b[39mall_cells[i]\u001b[38;5;241m.\u001b[39m_build_cell(\u001b[38;5;28mself\u001b[39m\u001b[38;5;241m.\u001b[39mcelltype\u001b[38;5;241m.\u001b[39mmodel, params)\n\u001b[0;32m--> 132\u001b[0m \u001b[43msimulator\u001b[49m\u001b[38;5;241;43m.\u001b[39;49m\u001b[43minitializer\u001b[49m\u001b[38;5;241m.\u001b[39mregister(\u001b[38;5;241m*\u001b[39m\u001b[38;5;28mself\u001b[39m\u001b[38;5;241m.\u001b[39mall_cells[\u001b[38;5;28mself\u001b[39m\u001b[38;5;241m.\u001b[39m_mask_local])\n\u001b[1;32m    133\u001b[0m simulator\u001b[38;5;241m.\u001b[39mstate\u001b[38;5;241m.\u001b[39mgid_counter \u001b[38;5;241m+\u001b[39m\u001b[38;5;241m=\u001b[39m \u001b[38;5;28mself\u001b[39m\u001b[38;5;241m.\u001b[39msize\n",
      "\u001b[0;31mAttributeError\u001b[0m: module 'pyNN.arbor.simulator' has no attribute 'initializer'"
     ]
    }
   ],
   "source": [
    "cells = sim.Population(1, mycell, initial_values={'v': -60.0})"
   ]
  },
  {
   "cell_type": "code",
   "execution_count": 7,
   "id": "d86c5dcb",
   "metadata": {},
   "outputs": [],
   "source": [
    "import pprint"
   ]
  },
  {
   "cell_type": "code",
   "execution_count": 8,
   "id": "16b007a1",
   "metadata": {},
   "outputs": [],
   "source": [
    "parameters_schema = {'morphology': \"<class 'pyNN.morphology.Morphology'>\", 'cm': \"<class 'pyNN.morphology.NeuriteDistribution'>\", 'Ra': \"<class 'float'>\", 'na_ion': {'reversal_potential': \"<class 'float'>\", 'internal_concentration': \"<class 'float'>\", 'external_concentration': \"<class 'float'>\"}, 'k_ion': {'reversal_potential': \"<class 'float'>\", 'internal_concentration': \"<class 'float'>\", 'external_concentration': \"<class 'float'>\"}}\n",
    "get_schema = {'morphology': \"<class 'pyNN.morphology.Morphology'>\", 'cm': \"<class 'pyNN.morphology.NeuriteDistribution'>\", 'Ra': \"<class 'float'>\", 'pas': {'conductance_density': \"<class 'pyNN.morphology.IonChannelDistribution'>\", 'e_rev': \"<class 'float'>\"}, 'na': {'conductance_density': \"<class 'pyNN.morphology.IonChannelDistribution'>\", 'e_rev': \"<class 'float'>\"}, 'kdr': {'conductance_density': \"<class 'pyNN.morphology.IonChannelDistribution'>\", 'e_rev': \"<class 'float'>\"}, 'na_ion': {'reversal_potential': \"<class 'float'>\", 'internal_concentration': \"<class 'float'>\", 'external_concentration': \"<class 'float'>\"}, 'k_ion': {'reversal_potential': \"<class 'float'>\", 'internal_concentration': \"<class 'float'>\", 'external_concentration': \"<class 'float'>\"}}"
   ]
  },
  {
   "cell_type": "code",
   "execution_count": 9,
   "id": "00af13fe",
   "metadata": {},
   "outputs": [
    {
     "name": "stdout",
     "output_type": "stream",
     "text": [
      "{'Ra': \"<class 'float'>\",\n",
      " 'cm': \"<class 'pyNN.morphology.NeuriteDistribution'>\",\n",
      " 'k_ion': {'external_concentration': \"<class 'float'>\",\n",
      "           'internal_concentration': \"<class 'float'>\",\n",
      "           'reversal_potential': \"<class 'float'>\"},\n",
      " 'morphology': \"<class 'pyNN.morphology.Morphology'>\",\n",
      " 'na_ion': {'external_concentration': \"<class 'float'>\",\n",
      "            'internal_concentration': \"<class 'float'>\",\n",
      "            'reversal_potential': \"<class 'float'>\"}}\n"
     ]
    }
   ],
   "source": [
    "pprint.pprint(parameters_schema)"
   ]
  },
  {
   "cell_type": "code",
   "execution_count": 10,
   "id": "5e7962d0",
   "metadata": {},
   "outputs": [
    {
     "name": "stdout",
     "output_type": "stream",
     "text": [
      "{'Ra': \"<class 'float'>\",\n",
      " 'cm': \"<class 'pyNN.morphology.NeuriteDistribution'>\",\n",
      " 'k_ion': {'external_concentration': \"<class 'float'>\",\n",
      "           'internal_concentration': \"<class 'float'>\",\n",
      "           'reversal_potential': \"<class 'float'>\"},\n",
      " 'kdr': {'conductance_density': '<class '\n",
      "                                \"'pyNN.morphology.IonChannelDistribution'>\",\n",
      "         'e_rev': \"<class 'float'>\"},\n",
      " 'morphology': \"<class 'pyNN.morphology.Morphology'>\",\n",
      " 'na': {'conductance_density': '<class '\n",
      "                               \"'pyNN.morphology.IonChannelDistribution'>\",\n",
      "        'e_rev': \"<class 'float'>\"},\n",
      " 'na_ion': {'external_concentration': \"<class 'float'>\",\n",
      "            'internal_concentration': \"<class 'float'>\",\n",
      "            'reversal_potential': \"<class 'float'>\"},\n",
      " 'pas': {'conductance_density': '<class '\n",
      "                                \"'pyNN.morphology.IonChannelDistribution'>\",\n",
      "         'e_rev': \"<class 'float'>\"}}\n"
     ]
    }
   ],
   "source": [
    "pprint.pprint(get_schema)"
   ]
  },
  {
   "cell_type": "code",
   "execution_count": 6,
   "id": "2dc0abaa",
   "metadata": {},
   "outputs": [],
   "source": [
    "import numpy"
   ]
  },
  {
   "cell_type": "code",
   "execution_count": 10,
   "id": "6d886f56",
   "metadata": {},
   "outputs": [
    {
     "data": {
      "text/plain": [
       "array(<pyNN.morphology.NeuroMLMorphology object at 0x7fc68c774460>,\n",
       "      dtype=object)"
      ]
     },
     "execution_count": 10,
     "metadata": {},
     "output_type": "execute_result"
    }
   ],
   "source": [
    "m = numpy.array(pyr_morph2)\n",
    "m"
   ]
  },
  {
   "cell_type": "code",
   "execution_count": 12,
   "id": "422734ef",
   "metadata": {},
   "outputs": [
    {
     "data": {
      "text/plain": [
       "<pyNN.morphology.NeuroMLMorphology at 0x7fc68c774460>"
      ]
     },
     "execution_count": 12,
     "metadata": {},
     "output_type": "execute_result"
    }
   ],
   "source": [
    "m.item()"
   ]
  },
  {
   "cell_type": "code",
   "execution_count": 3,
   "id": "5dc491e7",
   "metadata": {},
   "outputs": [],
   "source": [
    "import pyNN.neuron as sim2\n",
    "from pyNN.parameters import IonicSpecies\n",
    "from pyNN.space import Grid2D, RandomStructure, Sphere #, uniform, by_distance"
   ]
  },
  {
   "cell_type": "code",
   "execution_count": 4,
   "id": "fb8a96ef",
   "metadata": {},
   "outputs": [],
   "source": [
    "pyr_morph2 = load_morphology(\"single_cell_detailed.swc\", replace_axon=None)\n",
    "pyramidal_cell_class = sim2.MultiCompartmentNeuron\n",
    "pyramidal_cell_class.label = \"PyramidalNeuron\"\n",
    "pyramidal_cell_class.ion_channels = {\n",
    "      'pas': sim2.PassiveLeak,\n",
    "      'na': sim2.NaChannel,\n",
    "      'kdr': sim2.KdrChannel\n",
    "}\n",
    "pyramidal_cell_class.post_synaptic_entities = {'AMPA': sim2.CondExpPostSynapticResponse,\n",
    "                                               'GABA_A': sim2.CondExpPostSynapticResponse}\n",
    "\n",
    "pyramidal_cell = pyramidal_cell_class(\n",
    "                    morphology=pyr_morph2,\n",
    "                    pas={\"conductance_density\": uniform('all', 0.0003),\n",
    "                         \"e_rev\":-54.3},\n",
    "                    na={\"conductance_density\": uniform('soma', 0.120),\n",
    "                           \"e_rev\": 50.0},\n",
    "                    kdr={\"conductance_density\": by_distance(apical_dendrites(), lambda d: 0.05*d/200.0),\n",
    "                         \"e_rev\": -77.0},\n",
    "                    ionic_species={\n",
    "                        \"na\": IonicSpecies(\"na\", reversal_potential=50.0),\n",
    "                        \"k\": IonicSpecies(\"k\", reversal_potential=-77.0)\n",
    "                    },\n",
    "                    cm=1.0,\n",
    "                    Ra=500.0,\n",
    "                    AMPA={\"density\": uniform('all', 0.05),  # number per µm\n",
    "                          \"e_rev\": 0.0,\n",
    "                          \"tau_syn\": 2.0},\n",
    "                    GABA_A={\"density\": by_distance(dendrites(), lambda d: 0.05 * (d < 50.0)),  # number per µm\n",
    "                            \"e_rev\": -70.0,\n",
    "                            \"tau_syn\": 5.0})\n",
    "pyramidal_cells = sim2.Population(1, pyramidal_cell, initial_values={'v': -60.0}, structure=Grid2D())"
   ]
  },
  {
   "cell_type": "code",
   "execution_count": 5,
   "id": "a8de5ce9",
   "metadata": {},
   "outputs": [
    {
     "data": {
      "text/plain": [
       "pyNN.arbor.standardmodels.cells.MyCell"
      ]
     },
     "execution_count": 5,
     "metadata": {},
     "output_type": "execute_result"
    }
   ],
   "source": [
    "mycell.model"
   ]
  },
  {
   "cell_type": "code",
   "execution_count": 7,
   "id": "1d318ef4",
   "metadata": {},
   "outputs": [],
   "source": [
    "def build_cell(cell_model, cell_parameters):\n",
    "    # _build_cell is method of class ID(int, common.IDMixin) in sim/simulator.py\n",
    "    #gid = int(self)\n",
    "    #self._cell = cell_model(**cell_parameters)          # create the cell object\n",
    "    cell = cell_model(**cell_parameters)"
   ]
  },
  {
   "cell_type": "code",
   "execution_count": 8,
   "id": "aabbcb2c",
   "metadata": {},
   "outputs": [],
   "source": [
    "#parameter_space = self.celltype.parameter_space\n",
    "parameter_space = mycell.parameter_space"
   ]
  },
  {
   "cell_type": "code",
   "execution_count": 9,
   "id": "178d3043",
   "metadata": {},
   "outputs": [
    {
     "name": "stdout",
     "output_type": "stream",
     "text": [
      "<ParameterSpace morphology, cm, Ra, pas, na, kdr, na_ion, k_ion, shape=None>\n"
     ]
    }
   ],
   "source": [
    "print(parameter_space)"
   ]
  },
  {
   "cell_type": "code",
   "execution_count": 10,
   "id": "4664958d",
   "metadata": {},
   "outputs": [],
   "source": [
    "#parameter_space.shape = (self.size,) # to use enumerate\n",
    "parameter_space.shape = (1,) # size = no of cells"
   ]
  },
  {
   "cell_type": "code",
   "execution_count": 11,
   "id": "c22bb656",
   "metadata": {},
   "outputs": [
    {
     "ename": "Exception",
     "evalue": "Must call evaluate() method before iterating over a ParameterSpace",
     "output_type": "error",
     "traceback": [
      "\u001b[0;31m---------------------------------------------------------------------------\u001b[0m",
      "\u001b[0;31mException\u001b[0m                                 Traceback (most recent call last)",
      "Input \u001b[0;32mIn [11]\u001b[0m, in \u001b[0;36m<module>\u001b[0;34m\u001b[0m\n\u001b[1;32m      1\u001b[0m \u001b[38;5;66;03m#for i, (id, is_local, params) in enumerate(zip(self.all_cells, self._mask_local, parameter_space)):\u001b[39;00m\n\u001b[0;32m----> 2\u001b[0m \u001b[38;5;28;01mfor\u001b[39;00m i, (params) \u001b[38;5;129;01min\u001b[39;00m \u001b[38;5;28menumerate\u001b[39m(\u001b[38;5;28mzip\u001b[39m(parameter_space)):\n\u001b[1;32m      3\u001b[0m     \u001b[38;5;28mprint\u001b[39m(i, params)\n",
      "File \u001b[0;32m/envs/py3-pyNNarborTest/lib/python3.8/site-packages/pyNN/parameters.py:404\u001b[0m, in \u001b[0;36mParameterSpace.__iter__\u001b[0;34m(self)\u001b[0m\n\u001b[1;32m    383\u001b[0m \u001b[38;5;124mr\u001b[39m\u001b[38;5;124;03m\"\"\"\u001b[39;00m\n\u001b[1;32m    384\u001b[0m \u001b[38;5;124;03mReturn an array-element-wise iterator over the parameter space.\u001b[39;00m\n\u001b[1;32m    385\u001b[0m \n\u001b[0;32m   (...)\u001b[0m\n\u001b[1;32m    401\u001b[0m \u001b[38;5;124;03m{'a': 8, 'c': 11, 'b': 7}\u001b[39;00m\n\u001b[1;32m    402\u001b[0m \u001b[38;5;124;03m\"\"\"\u001b[39;00m\n\u001b[1;32m    403\u001b[0m \u001b[38;5;28;01mif\u001b[39;00m \u001b[38;5;129;01mnot\u001b[39;00m \u001b[38;5;28mself\u001b[39m\u001b[38;5;241m.\u001b[39m_evaluated:\n\u001b[0;32m--> 404\u001b[0m     \u001b[38;5;28;01mraise\u001b[39;00m \u001b[38;5;167;01mException\u001b[39;00m(\u001b[38;5;124m\"\u001b[39m\u001b[38;5;124mMust call evaluate() method before iterating over a ParameterSpace\u001b[39m\u001b[38;5;124m\"\u001b[39m)\n\u001b[1;32m    405\u001b[0m \u001b[38;5;28;01mfor\u001b[39;00m i \u001b[38;5;129;01min\u001b[39;00m \u001b[38;5;28mrange\u001b[39m(\u001b[38;5;28mself\u001b[39m\u001b[38;5;241m.\u001b[39m_evaluated_shape[\u001b[38;5;241m0\u001b[39m]):\n\u001b[1;32m    406\u001b[0m     D \u001b[38;5;241m=\u001b[39m {}\n",
      "\u001b[0;31mException\u001b[0m: Must call evaluate() method before iterating over a ParameterSpace"
     ]
    }
   ],
   "source": [
    "#for i, (id, is_local, params) in enumerate(zip(self.all_cells, self._mask_local, parameter_space)):\n",
    "for i, (params) in enumerate(zip(parameter_space)):\n",
    "    print(i, params)"
   ]
  },
  {
   "cell_type": "code",
   "execution_count": 12,
   "id": "d112dba2",
   "metadata": {},
   "outputs": [
    {
     "data": {
      "text/plain": [
       "<enumerate at 0x7f127f90e280>"
      ]
     },
     "execution_count": 12,
     "metadata": {},
     "output_type": "execute_result"
    }
   ],
   "source": [
    "enumerate(zip(parameter_space))"
   ]
  },
  {
   "cell_type": "code",
   "execution_count": 13,
   "id": "8784f0f7",
   "metadata": {},
   "outputs": [
    {
     "name": "stdout",
     "output_type": "stream",
     "text": [
      "getattribute model\n"
     ]
    },
    {
     "ename": "TypeError",
     "evalue": "'property' object is not callable",
     "output_type": "error",
     "traceback": [
      "\u001b[0;31m---------------------------------------------------------------------------\u001b[0m",
      "\u001b[0;31mTypeError\u001b[0m                                 Traceback (most recent call last)",
      "Input \u001b[0;32mIn [13]\u001b[0m, in \u001b[0;36m<module>\u001b[0;34m\u001b[0m\n\u001b[0;32m----> 1\u001b[0m \u001b[43mbuild_cell\u001b[49m\u001b[43m(\u001b[49m\u001b[43mcc\u001b[49m\u001b[38;5;241;43m.\u001b[39;49m\u001b[43mmodel\u001b[49m\u001b[43m,\u001b[49m\u001b[43m \u001b[49m\u001b[43mparameter_space\u001b[49m\u001b[43m)\u001b[49m\n",
      "Input \u001b[0;32mIn [7]\u001b[0m, in \u001b[0;36mbuild_cell\u001b[0;34m(cell_model, cell_parameters)\u001b[0m\n\u001b[1;32m      1\u001b[0m \u001b[38;5;28;01mdef\u001b[39;00m \u001b[38;5;21mbuild_cell\u001b[39m(cell_model, cell_parameters):\n\u001b[1;32m      2\u001b[0m     \u001b[38;5;66;03m# _build_cell is method of class ID(int, common.IDMixin) in sim/simulator.py\u001b[39;00m\n\u001b[1;32m      3\u001b[0m     \u001b[38;5;66;03m#gid = int(self)\u001b[39;00m\n\u001b[1;32m      4\u001b[0m     \u001b[38;5;66;03m#self._cell = cell_model(**cell_parameters)          # create the cell object\u001b[39;00m\n\u001b[0;32m----> 5\u001b[0m     cell \u001b[38;5;241m=\u001b[39m \u001b[43mcell_model\u001b[49m\u001b[43m(\u001b[49m\u001b[38;5;241;43m*\u001b[39;49m\u001b[38;5;241;43m*\u001b[39;49m\u001b[43mcell_parameters\u001b[49m\u001b[43m)\u001b[49m\n",
      "\u001b[0;31mTypeError\u001b[0m: 'property' object is not callable"
     ]
    }
   ],
   "source": [
    "build_cell(cc.model, parameter_space)"
   ]
  },
  {
   "cell_type": "code",
   "execution_count": null,
   "id": "9ffbc324",
   "metadata": {},
   "outputs": [],
   "source": []
  }
 ],
 "metadata": {
  "kernelspec": {
   "display_name": "Python 3 (ipykernel)",
   "language": "python",
   "name": "python3"
  },
  "language_info": {
   "codemirror_mode": {
    "name": "ipython",
    "version": 3
   },
   "file_extension": ".py",
   "mimetype": "text/x-python",
   "name": "python",
   "nbconvert_exporter": "python",
   "pygments_lexer": "ipython3",
   "version": "3.8.2"
  }
 },
 "nbformat": 4,
 "nbformat_minor": 5
}
