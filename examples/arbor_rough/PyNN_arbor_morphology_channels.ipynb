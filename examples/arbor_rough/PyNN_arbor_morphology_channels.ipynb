{
 "cells": [
  {
   "cell_type": "markdown",
   "metadata": {},
   "source": [
    "# Problem:\n",
    "## Given a morphology in [Arbor](https://arbor.readthedocs.io/en/latest/index.html#) how does one setup the channels?\n",
    "\n",
    "### 1. First the arbor-morphology is created\n",
    "See `PyNN_neuroml_morphology_IN_Arbor.ipynb` for description of the steps."
   ]
  },
  {
   "cell_type": "code",
   "execution_count": 1,
   "metadata": {},
   "outputs": [],
   "source": [
    "from neuroml import Morphology, Segment, Point3DWithDiam as P\n",
    "from pyNN.morphology import NeuroMLMorphology"
   ]
  },
  {
   "cell_type": "code",
   "execution_count": 2,
   "metadata": {},
   "outputs": [],
   "source": [
    "soma = Segment(proximal=P(x=0, y=0, z=0, diameter=18.8),\n",
    "               distal=P(x=18.8, y=0, z=0, diameter=18.8),\n",
    "               name=\"soma\", id=0)\n",
    "dend = Segment(proximal=P(x=0, y=0, z=0, diameter=2),\n",
    "               distal=P(x=-500, y=0, z=0, diameter=2),\n",
    "               name=\"dendrite\",\n",
    "               parent=soma, id=1)\n",
    "neuroml_morph = Morphology(segments=(soma, dend))\n",
    "pynn_morph = NeuroMLMorphology(neuroml_morph)"
   ]
  },
  {
   "cell_type": "code",
   "execution_count": 3,
   "metadata": {},
   "outputs": [],
   "source": [
    "import arbor\n",
    "import re"
   ]
  },
  {
   "cell_type": "code",
   "execution_count": 4,
   "metadata": {},
   "outputs": [],
   "source": [
    "# methods already defined in PyNN_neuroml_morphology_IN_Arbor.ipynb\n",
    "def create_arbor_tree(pynn_nml_morph):\n",
    "    tree = arbor.segment_tree()\n",
    "    for i, nml_seg in enumerate(pynn_nml_morph.segments):\n",
    "        append_arbor_tree(tree, nml_seg)\n",
    "    return tree\n",
    "    \n",
    "def append_arbor_tree(tree, nml_seg):\n",
    "    if not nml_seg.parent:\n",
    "        tree.append(arbor.mnpos,\n",
    "                    arbor.mpoint(nml_seg.proximal.x, nml_seg.proximal.y, nml_seg.proximal.z,\n",
    "                                 nml_seg.proximal.diameter/2),\n",
    "                    arbor.mpoint(nml_seg.distal.x, nml_seg.distal.y, nml_seg.distal.z,\n",
    "                                 nml_seg.distal.diameter/2), tag=get_swc_tag(nml_seg))\n",
    "    else:\n",
    "        tree.append(nml_seg.parent.id,\n",
    "                    arbor.mpoint(nml_seg.proximal.x, nml_seg.proximal.y, nml_seg.proximal.z,\n",
    "                                 nml_seg.proximal.diameter/2),\n",
    "                    arbor.mpoint(nml_seg.distal.x, nml_seg.distal.y, nml_seg.distal.z,\n",
    "                                 nml_seg.distal.diameter/2), tag=get_swc_tag(nml_seg))\n",
    "\n",
    "def get_swc_tag(nml_seg):\n",
    "    if re.search(\"soma\", nml_seg.name, re.IGNORECASE):\n",
    "        return 1\n",
    "    elif re.search(\"axon\", nml_seg.name, re.IGNORECASE):\n",
    "        return 2\n",
    "    elif re.search(\"dend\", nml_seg.name, re.IGNORECASE):\n",
    "        return 3\n",
    "    else:\n",
    "        return 5"
   ]
  },
  {
   "cell_type": "code",
   "execution_count": 5,
   "metadata": {},
   "outputs": [],
   "source": [
    "tree = create_arbor_tree(pynn_morph)"
   ]
  },
  {
   "cell_type": "code",
   "execution_count": 6,
   "metadata": {},
   "outputs": [],
   "source": [
    "#Arbor uses a domains specific language (DSL) to describe regions and locations, which are given labels.\n",
    "def create_region_definitions(pynn_morph):\n",
    "    dict_defs = {}\n",
    "    for i, nml_seg in enumerate(pynn_morph.segments):\n",
    "        dict_defs.update({nml_seg.name: \"(tag \"+ str(get_swc_tag(nml_seg))+ \")\"})\n",
    "    dict_defs.update({\"everywhere\": \"(all)\"})\n",
    "    return dict_defs"
   ]
  },
  {
   "cell_type": "markdown",
   "metadata": {},
   "source": [
    "&#127941; Refer at bottom for `dict_defs.update({\"everywhere\": \"(all)\"})`"
   ]
  },
  {
   "cell_type": "code",
   "execution_count": 7,
   "metadata": {},
   "outputs": [],
   "source": [
    "#dict_defs => {'soma': '(tag 1)', 'dendrite': '(tag 3)'}\n",
    "tree_labels = arbor.label_dict(create_region_definitions(pynn_morph))"
   ]
  },
  {
   "cell_type": "markdown",
   "metadata": {},
   "source": [
    "### 2. Create cell"
   ]
  },
  {
   "cell_type": "code",
   "execution_count": 8,
   "metadata": {},
   "outputs": [],
   "source": [
    "# Cell builders need to refer to regions and locations on a cell morphology.\n",
    "cell = arbor.cable_cell(tree, tree_labels)"
   ]
  },
  {
   "cell_type": "markdown",
   "metadata": {},
   "source": [
    "### 3. Set ion properties.\n",
    "##### 3.1. Set reversal potentials for respective ions.\n",
    "Although, one might think of this as part of the `arbor.mechanism` it is not. But, one may set the reversal potential for respective ion in the cell created above as follows,"
   ]
  },
  {
   "cell_type": "code",
   "execution_count": 9,
   "metadata": {},
   "outputs": [],
   "source": [
    "cell.set_ion(ion=\"na\", rev_pot=50.)\n",
    "cell.set_ion(ion=\"k\", rev_pot=-77.)"
   ]
  },
  {
   "cell_type": "markdown",
   "metadata": {},
   "source": [
    "Note: In Arbor, the reversal potential can also be [computed based on Nernst equation](https://arbor.readthedocs.io/en/pydoc/cable_cell.html?#ion-species)"
   ]
  },
  {
   "cell_type": "markdown",
   "metadata": {},
   "source": [
    "### 4. Describe the desired `mechanism`.\n",
    "`arbor.mechanism` describes physical processes, distributed over the membrane of the cell. There are broadly [three classes of mechanisms](https://arbor.readthedocs.io/en/pydoc/mechanisms.html?#mechanism)\n",
    "- Density mechanisms are associated with regions of the cell, whose dynamics are a function of the cell state and their own state where they are present.\n",
    "- Point mechanisms are defined at discrete locations on the cell, which receive events from the network.\n",
    "- A third, specific type of density mechanism, which describes ionic reversal potential behaviour, can be specified for cells or the whole model."
   ]
  },
  {
   "cell_type": "markdown",
   "metadata": {},
   "source": [
    "#### 4.1. Set channel mechanisms.\n",
    "##### 4.1.1. For leaky channel, i.e. `passive`\n",
    "For `passive` channel mechanism an instance of `arbor.mechanism('passive')` is created. But, this can be done in various ways:\n",
    "* Create instance using default parameter values (set in NMODL file)\n",
    "    - `pas = arbor.mechanism('passive')`\n",
    "* Create instance with custom reversal potential (Arbor term: [global](https://arbor.readthedocs.io/en/pydoc/mechanisms.html?#mechanism-catalogues))\n",
    "    - `pas = arbor.mechanism('passive/el=-54.3')`\n",
    "    - NOTE: in `arbor.mechanism` **el** stands for reversal potential\n",
    "* Create instance with custom maximum conductance (Arbor term: [range](https://arbor.readthedocs.io/en/pydoc/mechanisms.html?#mechanism-catalogues))\n",
    "    - `pas = arbor.mechanism('passive', {'g': 0.0003})`\n",
    "    - NOTE: in `argbor.mechanism` **g** stands for gbar for respective HH-based channel, maximum conductance.\n",
    "* Create instance with custom reversal potential and custom maximum conductance\n",
    "    - `pas = arbor.mechanism('passive/el=-54.3', {'g': 0.0003})`\n",
    "    - Alternatively, this can be done in two steps as\n",
    "        - `pas = arbor.mechanism('passive/el=-54.3')`\n",
    "        - `pas.set('g', 0.0003)`\n",
    "\n",
    "For this example we would like to enforce `pas={\"conductance_density\": uniform('all', 0.0003), \"e_rev\":-54.3}`"
   ]
  },
  {
   "cell_type": "code",
   "execution_count": 10,
   "metadata": {},
   "outputs": [],
   "source": [
    "leaky_chnl = arbor.mechanism('passive/el=-54.3', {'g': 0.0003})"
   ]
  },
  {
   "cell_type": "markdown",
   "metadata": {},
   "source": [
    "##### 4.1.2. For HH-based Na channel, i.e. `na` and HH-based K channel, i.e. `k`"
   ]
  },
  {
   "cell_type": "code",
   "execution_count": 11,
   "metadata": {},
   "outputs": [],
   "source": [
    "na_chnl = arbor.mechanism(\"hh\", {\"ena\": 50., \"gnabar\": 0.120})\n",
    "# na={\"conductance_density\": uniform('soma', 0.120), \"e_rev\": 50.0}\n",
    "na_chnl = arbor.mechanism(\"hh\", {\"ek\": -77., \"gkbar\": 0.036})\n",
    "# kdr={\"conductance_density\": uniform('soma', 0.036), \"e_rev\": -77.0}\n",
    "hh_na_k_chnl = arbor.mechanism(\"hh\", {\"ena\": 50., \"gnabar\": 0.120, \"ek\": -77., \"gkbar\": 0.036, \"gl\": 0.})"
   ]
  },
  {
   "cell_type": "markdown",
   "metadata": {},
   "source": [
    "Note that in `hh_na_k_chnl` the value for `\"gl\"` is set to 0 because our plan is to paint this channel to specific regions of the cell while pain `leaky_chnl` to every region. And, remember that `leaky_chnl` is also a Hodgkin-Huxley based leaky channel therefore painting it twice will result in duplicated passive channels.\n",
    "\n",
    "&#127941; Refer at bottom for {`\"gl\"`: 0.} in `hh_na_k_chnl`."
   ]
  },
  {
   "cell_type": "markdown",
   "metadata": {},
   "source": [
    "### 5. Attaching the `mechanism` to the cell.\n",
    "In Arbor attaching to a cell is referred to as [decoration](https://arbor.readthedocs.io/en/pydoc/cable_cell.html?#decoration). On can decorate a cell by _painting_ or _placing_.\n",
    "\n",
    "| Painting                    | Placing                       |\n",
    "|:----------------------------|:------------------------------|\n",
    "| to regions of a cell to set | to locations on a cell to set |\n",
    "| * Cable properties          | * Synapses                    |\n",
    "| * Density mechanisms        | * Gap junction sites          |\n",
    "| * Ion species               | * Threshold (spike) detectors |\n",
    "|                             | * Stimuli                     |\n",
    "|                             | * Probes                      |\n",
    "\n",
    "For our purpose of attaching `arbor.mechanism` one must therefore paint."
   ]
  },
  {
   "cell_type": "code",
   "execution_count": 12,
   "metadata": {},
   "outputs": [],
   "source": [
    "cell.paint(\"soma\", hh_na_k_chnl)"
   ]
  },
  {
   "cell_type": "markdown",
   "metadata": {},
   "source": [
    "Because of the resolution options of _painting_.\n",
    "\n",
    "| to paint               | region | cell | global |\n",
    "|:-----------------------|:------:|:----:|:------:|\n",
    "| cable properties       | ✓      |  ✓  |  ✓     |\n",
    "| ion initial conditions | ✓      |  ✓  |  ✓     |\n",
    "| density mechnism       | ✓      | -   | -       |\n",
    "| ion rev pot mechanism  | -      |  ✓  | ✓      |\n",
    "| ion valence            | -      | -   |  ✓     |\n",
    "\n",
    "if the objective is to attach the `passive` mechanism to the whole cell one must loop through each segment."
   ]
  },
  {
   "cell_type": "code",
   "execution_count": 13,
   "metadata": {},
   "outputs": [],
   "source": [
    "cell.paint('everywhere', leaky_chnl)\n",
    "\n",
    "#for i, seg in enumerate(pynn_morph.segments):\n",
    "#    #print(seg.name)\n",
    "#    cell.paint(seg.name, leaky_chnl)"
   ]
  },
  {
   "cell_type": "markdown",
   "metadata": {},
   "source": [
    "&#127941; Note that from Sam Yates (22 Sept 2020)\n",
    "> Regarding the new release (0.4): we're aiming to have that published within the next two weeks, and some of the changes to the API will hit our master branch before then, which will probably mean that some changes to your python code will be required too I'm afraid."
   ]
  },
  {
   "cell_type": "markdown",
   "metadata": {},
   "source": [
    "```\n",
    "cell_type = cell_class(morphology=NeuroMLMorphology(Morphology(segments=(soma, dend))),  # yuck\n",
    "                       cm=1.0,\n",
    "                       Ra=500.0,\n",
    "                       ionic_species={\n",
    "                              \"na\": IonicSpecies(\"na\", reversal_potential=50.0),\n",
    "                              \"k\": IonicSpecies(\"k\", reversal_potential=-77.0)\n",
    "                       },\n",
    "                       pas={\"conductance_density\": uniform('all', 0.0003),\n",
    "                            \"e_rev\":-54.3},\n",
    "                       na={\"conductance_density\": uniform('soma', 0.120),\n",
    "                           \"e_rev\": 50.0},\n",
    "                       kdr={\"conductance_density\": uniform('soma', 0.036),\n",
    "                            \"e_rev\": -77.0}\n",
    "                       )\n",
    "```"
   ]
  },
  {
   "cell_type": "code",
   "execution_count": null,
   "metadata": {},
   "outputs": [],
   "source": []
  }
 ],
 "metadata": {
  "kernelspec": {
   "display_name": "Python 3 (ipykernel)",
   "language": "python",
   "name": "python3"
  },
  "language_info": {
   "codemirror_mode": {
    "name": "ipython",
    "version": 3
   },
   "file_extension": ".py",
   "mimetype": "text/x-python",
   "name": "python",
   "nbconvert_exporter": "python",
   "pygments_lexer": "ipython3",
   "version": "3.8.2"
  }
 },
 "nbformat": 4,
 "nbformat_minor": 4
}
