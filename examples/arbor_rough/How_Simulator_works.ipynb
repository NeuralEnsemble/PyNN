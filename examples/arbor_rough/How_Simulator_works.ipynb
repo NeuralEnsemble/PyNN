{
 "cells": [
  {
   "cell_type": "code",
   "execution_count": 1,
   "metadata": {},
   "outputs": [],
   "source": [
    "from pyNN import common"
   ]
  },
  {
   "cell_type": "code",
   "execution_count": 2,
   "metadata": {},
   "outputs": [],
   "source": [
    "name = \"arbor\""
   ]
  },
  {
   "cell_type": "code",
   "execution_count": 3,
   "metadata": {},
   "outputs": [],
   "source": [
    "class ID(int, common.IDMixin):\n",
    "\n",
    "    def __init__(self, n):\n",
    "        \"\"\"Create an ID object with numerical value `n`.\"\"\"\n",
    "        int.__init__(n)\n",
    "        common.IDMixin.__init__(self)\n",
    "\n",
    "\n",
    "class State(common.control.BaseState):\n",
    "\n",
    "    def __init__(self):\n",
    "        common.control.BaseState.__init__(self)\n",
    "        self.mpi_rank = 0\n",
    "        self.num_processes = 1\n",
    "        self.clear()\n",
    "        self.dt = 0.1\n",
    "\n",
    "    def run(self, simtime):\n",
    "        self.t += simtime\n",
    "        self.running = True\n",
    "\n",
    "    def run_until(self, tstop):\n",
    "        self.t = tstop\n",
    "        self.running = True\n",
    "\n",
    "    def clear(self):\n",
    "        self.recorders = set([])\n",
    "        self.id_counter = 42\n",
    "        self.segment_counter = -1\n",
    "        self.reset()\n",
    "\n",
    "    def reset(self):\n",
    "        \"\"\"Reset the state of the current network to time t = 0.\"\"\"\n",
    "        self.running = False\n",
    "        self.t = 0\n",
    "        self.t_start = 0\n",
    "        self.segment_counter += 1"
   ]
  },
  {
   "cell_type": "code",
   "execution_count": 4,
   "metadata": {},
   "outputs": [],
   "source": [
    "state = State()"
   ]
  },
  {
   "cell_type": "code",
   "execution_count": 5,
   "metadata": {},
   "outputs": [
    {
     "data": {
      "text/plain": [
       "['__class__',\n",
       " '__delattr__',\n",
       " '__dict__',\n",
       " '__dir__',\n",
       " '__doc__',\n",
       " '__eq__',\n",
       " '__format__',\n",
       " '__ge__',\n",
       " '__getattribute__',\n",
       " '__gt__',\n",
       " '__hash__',\n",
       " '__init__',\n",
       " '__init_subclass__',\n",
       " '__le__',\n",
       " '__lt__',\n",
       " '__module__',\n",
       " '__ne__',\n",
       " '__new__',\n",
       " '__reduce__',\n",
       " '__reduce_ex__',\n",
       " '__repr__',\n",
       " '__setattr__',\n",
       " '__sizeof__',\n",
       " '__str__',\n",
       " '__subclasshook__',\n",
       " '__weakref__',\n",
       " 'clear',\n",
       " 'dt',\n",
       " 'id_counter',\n",
       " 'mpi_rank',\n",
       " 'num_processes',\n",
       " 'recorders',\n",
       " 'reset',\n",
       " 'run',\n",
       " 'run_until',\n",
       " 'running',\n",
       " 'segment_counter',\n",
       " 't',\n",
       " 't_start',\n",
       " 'write_on_end']"
      ]
     },
     "execution_count": 5,
     "metadata": {},
     "output_type": "execute_result"
    }
   ],
   "source": [
    "dir(state)"
   ]
  },
  {
   "cell_type": "code",
   "execution_count": null,
   "metadata": {},
   "outputs": [],
   "source": []
  }
 ],
 "metadata": {
  "kernelspec": {
   "display_name": "Python 3 (ipykernel)",
   "language": "python",
   "name": "python3"
  },
  "language_info": {
   "codemirror_mode": {
    "name": "ipython",
    "version": 3
   },
   "file_extension": ".py",
   "mimetype": "text/x-python",
   "name": "python",
   "nbconvert_exporter": "python",
   "pygments_lexer": "ipython3",
   "version": "3.8.2"
  }
 },
 "nbformat": 4,
 "nbformat_minor": 4
}
