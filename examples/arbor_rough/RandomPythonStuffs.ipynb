{
 "cells": [
  {
   "cell_type": "code",
   "execution_count": 2,
   "id": "067433ae",
   "metadata": {},
   "outputs": [
    {
     "data": {
      "text/plain": [
       "'(tag 1)'"
      ]
     },
     "execution_count": 2,
     "metadata": {},
     "output_type": "execute_result"
    }
   ],
   "source": [
    "\"(tag \"+str(1)+\")\""
   ]
  },
  {
   "cell_type": "code",
   "execution_count": 3,
   "id": "65e96c78",
   "metadata": {},
   "outputs": [],
   "source": [
    "def foo():\n",
    "    return 1, \"two\""
   ]
  },
  {
   "cell_type": "code",
   "execution_count": 4,
   "id": "90fecad1",
   "metadata": {},
   "outputs": [],
   "source": [
    "a, b = foo()"
   ]
  },
  {
   "cell_type": "code",
   "execution_count": 5,
   "id": "7ef51bfe",
   "metadata": {},
   "outputs": [
    {
     "data": {
      "text/plain": [
       "1"
      ]
     },
     "execution_count": 5,
     "metadata": {},
     "output_type": "execute_result"
    }
   ],
   "source": [
    "a"
   ]
  },
  {
   "cell_type": "code",
   "execution_count": 6,
   "id": "94245e53",
   "metadata": {},
   "outputs": [
    {
     "data": {
      "text/plain": [
       "'two'"
      ]
     },
     "execution_count": 6,
     "metadata": {},
     "output_type": "execute_result"
    }
   ],
   "source": [
    "b"
   ]
  },
  {
   "cell_type": "code",
   "execution_count": 1,
   "id": "591d3909",
   "metadata": {},
   "outputs": [],
   "source": [
    "import arbor"
   ]
  },
  {
   "cell_type": "code",
   "execution_count": 2,
   "id": "3dabe057",
   "metadata": {},
   "outputs": [
    {
     "data": {
      "text/plain": [
       "'0.7'"
      ]
     },
     "execution_count": 2,
     "metadata": {},
     "output_type": "execute_result"
    }
   ],
   "source": [
    "arbor.__version__"
   ]
  },
  {
   "cell_type": "code",
   "execution_count": 3,
   "id": "3edda2da",
   "metadata": {},
   "outputs": [],
   "source": [
    "import pyNN.arbor as sim"
   ]
  },
  {
   "cell_type": "code",
   "execution_count": 4,
   "id": "00c31b0a",
   "metadata": {},
   "outputs": [
    {
     "name": "stdout",
     "output_type": "stream",
     "text": [
      "decay\n",
      "exp2syn\n",
      "expsyn\n",
      "expsyn_curr\n",
      "expsyn_stdp\n",
      "gj\n",
      "hh\n",
      "inject\n",
      "kamt\n",
      "kdrmt\n",
      "nax\n",
      "nernst\n",
      "pas\n"
     ]
    }
   ],
   "source": [
    "for mech in arbor.default_catalogue(): \n",
    "  print(mech)"
   ]
  },
  {
   "cell_type": "code",
   "execution_count": 5,
   "id": "995c252a",
   "metadata": {},
   "outputs": [
    {
     "name": "stdout",
     "output_type": "stream",
     "text": [
      "0\n",
      "1\n",
      "2\n",
      "3\n",
      "4\n",
      "5\n"
     ]
    }
   ],
   "source": [
    "for i in range(6):\n",
    "    print(i)"
   ]
  },
  {
   "cell_type": "code",
   "execution_count": 9,
   "id": "14b2d854",
   "metadata": {},
   "outputs": [
    {
     "name": "stdout",
     "output_type": "stream",
     "text": [
      "(location 0) (location 1) (location 2) (location 3) (location 4) (location 5) \n"
     ]
    }
   ],
   "source": [
    "x = \"\"\n",
    "for i in range(6):\n",
    "    x = x + \"(location \" + str(i) + \") \"\n",
    "print(x)"
   ]
  },
  {
   "cell_type": "code",
   "execution_count": 12,
   "id": "6316133c",
   "metadata": {},
   "outputs": [
    {
     "name": "stdout",
     "output_type": "stream",
     "text": [
      "0.05\n",
      "0.1\n",
      "0.2\n",
      "0.4\n",
      "0.8\n"
     ]
    }
   ],
   "source": [
    "um = 0.05\n",
    "while um <= 1:\n",
    "    print(um)\n",
    "    um = um + um\n",
    "    #print(um) "
   ]
  },
  {
   "cell_type": "code",
   "execution_count": 20,
   "id": "c3010359",
   "metadata": {},
   "outputs": [
    {
     "name": "stdout",
     "output_type": "stream",
     "text": [
      "(join (location 0 0.05) (location 0 0.1) (location 0 0.2) (location 0 0.4) (location 0 0.8) (location 1 0.05) (location 1 0.1) (location 1 0.2) (location 1 0.4) (location 1 0.8) (location 2 0.05) (location 2 0.1) (location 2 0.2) (location 2 0.4) (location 2 0.8) (location 3 0.05) (location 3 0.1) (location 3 0.2) (location 3 0.4) (location 3 0.8) (location 4 0.05) (location 4 0.1) (location 4 0.2) (location 4 0.4) (location 4 0.8) (location 5 0.05) (location 5 0.1) (location 5 0.2) (location 5 0.4) (location 5 0.8) )\n"
     ]
    }
   ],
   "source": [
    "x = \"\"\n",
    "um = 0.05\n",
    "for i in range(6):\n",
    "    while um <= 1:\n",
    "        x = x + \"(location \" + str(i) + \" \" + str(um) + \") \"\n",
    "        um = um + um\n",
    "    um = 0.05\n",
    "#print(x)\n",
    "print(\"(join \"+x+\")\")\n",
    "#labels['synapse_site'] = '(join (location 1 0.5) (location 2 0.5))'"
   ]
  },
  {
   "cell_type": "code",
   "execution_count": 21,
   "id": "c6355861",
   "metadata": {},
   "outputs": [],
   "source": [
    "def foo2():\n",
    "    return foo1()\n",
    "\n",
    "def foo1():\n",
    "    return 2"
   ]
  },
  {
   "cell_type": "code",
   "execution_count": 22,
   "id": "0166f8cb",
   "metadata": {},
   "outputs": [
    {
     "data": {
      "text/plain": [
       "2"
      ]
     },
     "execution_count": 22,
     "metadata": {},
     "output_type": "execute_result"
    }
   ],
   "source": [
    "foo2()"
   ]
  },
  {
   "cell_type": "code",
   "execution_count": 26,
   "id": "852f2e77",
   "metadata": {},
   "outputs": [
    {
     "name": "stdout",
     "output_type": "stream",
     "text": [
      "(join (restrict (on-branches 0.05) (tag 2))(restrict (on-branches 0.1) (tag 2))(restrict (on-branches 0.15000000000000002) (tag 2))(restrict (on-branches 0.2) (tag 2))(restrict (on-branches 0.25) (tag 2))(restrict (on-branches 0.3) (tag 2))(restrict (on-branches 0.35) (tag 2))(restrict (on-branches 0.39999999999999997) (tag 2))(restrict (on-branches 0.44999999999999996) (tag 2))(restrict (on-branches 0.49999999999999994) (tag 2))(restrict (on-branches 0.5499999999999999) (tag 2))(restrict (on-branches 0.6) (tag 2))(restrict (on-branches 0.65) (tag 2))(restrict (on-branches 0.7000000000000001) (tag 2))(restrict (on-branches 0.7500000000000001) (tag 2))(restrict (on-branches 0.8000000000000002) (tag 2))(restrict (on-branches 0.8500000000000002) (tag 2))(restrict (on-branches 0.9000000000000002) (tag 2))(restrict (on-branches 0.9500000000000003) (tag 2)))\n"
     ]
    }
   ],
   "source": [
    "x = \"\"\n",
    "um = 0.05\n",
    "var_um = um\n",
    "tag_id = 2\n",
    "while var_um <= 1:\n",
    "    x = x + \"(restrict (on-branches \" + str(var_um) + \") (tag \" + str(tag_id) + \"))\"\n",
    "    var_um = var_um + um  # update\n",
    "var_um = um  # reset\n",
    "print(\"(join \" + x + \")\")\n",
    "# (restrict (on-branches 0.5) (tag 3))"
   ]
  },
  {
   "cell_type": "code",
   "execution_count": 31,
   "id": "1d395e4e",
   "metadata": {},
   "outputs": [
    {
     "data": {
      "text/plain": [
       "True"
      ]
     },
     "execution_count": 31,
     "metadata": {},
     "output_type": "execute_result"
    }
   ],
   "source": [
    "x = {}\n",
    "x == {}"
   ]
  },
  {
   "cell_type": "code",
   "execution_count": 32,
   "id": "61e92602",
   "metadata": {},
   "outputs": [
    {
     "data": {
      "text/plain": [
       "True"
      ]
     },
     "execution_count": 32,
     "metadata": {},
     "output_type": "execute_result"
    }
   ],
   "source": [
    "len(x) == 0"
   ]
  },
  {
   "cell_type": "code",
   "execution_count": 1,
   "id": "c18ac4b0",
   "metadata": {},
   "outputs": [],
   "source": [
    "def foo(x, *y):\n",
    "    print(x, *y)"
   ]
  },
  {
   "cell_type": "code",
   "execution_count": 2,
   "id": "a204d474",
   "metadata": {},
   "outputs": [],
   "source": [
    "lst = [(\"apple\", \"banana\", \"cherry\"), (\"cat\", \"dog\"), (\"tea\", \"cofee\", \"juice\", \"water\"),]"
   ]
  },
  {
   "cell_type": "code",
   "execution_count": 3,
   "id": "aa630e0e",
   "metadata": {},
   "outputs": [
    {
     "name": "stdout",
     "output_type": "stream",
     "text": [
      "('apple', 'banana', 'cherry')\n",
      "('cat', 'dog')\n",
      "('tea', 'cofee', 'juice', 'water')\n"
     ]
    }
   ],
   "source": [
    "for l in lst:\n",
    "    print(l)"
   ]
  },
  {
   "cell_type": "code",
   "execution_count": 4,
   "id": "b3b4c5c3",
   "metadata": {},
   "outputs": [
    {
     "name": "stdout",
     "output_type": "stream",
     "text": [
      "('apple', 'banana', 'cherry')\n",
      "('cat', 'dog')\n",
      "('tea', 'cofee', 'juice', 'water')\n"
     ]
    }
   ],
   "source": [
    "for l in lst:\n",
    "    foo(l)"
   ]
  },
  {
   "cell_type": "code",
   "execution_count": 5,
   "id": "0515b7e2",
   "metadata": {},
   "outputs": [
    {
     "name": "stdout",
     "output_type": "stream",
     "text": [
      "[('apple', 'banana', 'cherry'), ('cat', 'dog'), ('tea', 'cofee', 'juice', 'water'), ('a', 'b')]\n"
     ]
    }
   ],
   "source": [
    "lst.append((\"a\", \"b\"))\n",
    "print(lst)"
   ]
  },
  {
   "cell_type": "code",
   "execution_count": 1,
   "id": "9b7b11d5",
   "metadata": {},
   "outputs": [],
   "source": [
    "class Foo(object):\n",
    "    def __foo():\n",
    "        return 2"
   ]
  },
  {
   "cell_type": "code",
   "execution_count": 2,
   "id": "fecf0f2a",
   "metadata": {},
   "outputs": [
    {
     "ename": "AttributeError",
     "evalue": "type object 'Foo' has no attribute '__foo'",
     "output_type": "error",
     "traceback": [
      "\u001b[0;31m---------------------------------------------------------------------------\u001b[0m",
      "\u001b[0;31mAttributeError\u001b[0m                            Traceback (most recent call last)",
      "\u001b[0;32m<ipython-input-2-0c7b182e797b>\u001b[0m in \u001b[0;36m<module>\u001b[0;34m\u001b[0m\n\u001b[0;32m----> 1\u001b[0;31m \u001b[0mFoo\u001b[0m\u001b[0;34m.\u001b[0m\u001b[0m__foo\u001b[0m\u001b[0;34m(\u001b[0m\u001b[0;34m)\u001b[0m\u001b[0;34m\u001b[0m\u001b[0;34m\u001b[0m\u001b[0m\n\u001b[0m",
      "\u001b[0;31mAttributeError\u001b[0m: type object 'Foo' has no attribute '__foo'"
     ]
    }
   ],
   "source": [
    "Foo.__foo()"
   ]
  },
  {
   "cell_type": "code",
   "execution_count": 5,
   "id": "39a73e6c",
   "metadata": {},
   "outputs": [
    {
     "name": "stdout",
     "output_type": "stream",
     "text": [
      "Help on class Foo in module __main__:\n",
      "\n",
      "class Foo(builtins.object)\n",
      " |  Data descriptors defined here:\n",
      " |  \n",
      " |  __dict__\n",
      " |      dictionary for instance variables (if defined)\n",
      " |  \n",
      " |  __weakref__\n",
      " |      list of weak references to the object (if defined)\n",
      "\n"
     ]
    }
   ],
   "source": [
    "help(Foo)"
   ]
  },
  {
   "cell_type": "code",
   "execution_count": 6,
   "id": "105d0fa1",
   "metadata": {},
   "outputs": [
    {
     "data": {
      "text/plain": [
       "mappingproxy({'__module__': '__main__',\n",
       "              '_Foo__foo': <function __main__.Foo.__foo()>,\n",
       "              '__dict__': <attribute '__dict__' of 'Foo' objects>,\n",
       "              '__weakref__': <attribute '__weakref__' of 'Foo' objects>,\n",
       "              '__doc__': None})"
      ]
     },
     "execution_count": 6,
     "metadata": {},
     "output_type": "execute_result"
    }
   ],
   "source": [
    "Foo.__dict__"
   ]
  },
  {
   "cell_type": "code",
   "execution_count": 1,
   "id": "c235b495",
   "metadata": {},
   "outputs": [],
   "source": [
    "from lazyarray import larray"
   ]
  },
  {
   "cell_type": "code",
   "execution_count": 2,
   "id": "59efcd3d",
   "metadata": {},
   "outputs": [],
   "source": [
    "from_list = larray([0, 1, 1, 2, 3, 5, 8])"
   ]
  },
  {
   "cell_type": "code",
   "execution_count": 3,
   "id": "fe502397",
   "metadata": {},
   "outputs": [
    {
     "data": {
      "text/plain": [
       "lazyarray.larray"
      ]
     },
     "execution_count": 3,
     "metadata": {},
     "output_type": "execute_result"
    }
   ],
   "source": [
    "type(from_list)"
   ]
  },
  {
   "cell_type": "code",
   "execution_count": 4,
   "id": "de0f4a18",
   "metadata": {},
   "outputs": [
    {
     "name": "stdout",
     "output_type": "stream",
     "text": [
      "<larray: base_value=array([0, 1, 1, 2, 3, 5, 8]) shape=(7,) dtype=None, operations=[]>\n"
     ]
    }
   ],
   "source": [
    "print(from_list)"
   ]
  },
  {
   "cell_type": "code",
   "execution_count": 7,
   "id": "1b058f8e",
   "metadata": {},
   "outputs": [
    {
     "name": "stdout",
     "output_type": "stream",
     "text": [
      "0\n",
      "1\n",
      "1\n",
      "2\n",
      "3\n",
      "5\n",
      "8\n"
     ]
    }
   ],
   "source": [
    "for i in from_list.evaluate():\n",
    "    print(i)"
   ]
  },
  {
   "cell_type": "code",
   "execution_count": 8,
   "id": "3b394346",
   "metadata": {},
   "outputs": [
    {
     "name": "stdout",
     "output_type": "stream",
     "text": [
      "0\n",
      "1\n",
      "1\n",
      "2\n",
      "3\n",
      "5\n",
      "8\n"
     ]
    }
   ],
   "source": [
    "for i in from_list.base_value:\n",
    "    print(i)"
   ]
  },
  {
   "cell_type": "code",
   "execution_count": 11,
   "id": "7fb41663",
   "metadata": {},
   "outputs": [
    {
     "data": {
      "text/plain": [
       "0"
      ]
     },
     "execution_count": 11,
     "metadata": {},
     "output_type": "execute_result"
    }
   ],
   "source": [
    "from_list.base_value[0]"
   ]
  },
  {
   "cell_type": "code",
   "execution_count": 13,
   "id": "03e602f2",
   "metadata": {},
   "outputs": [
    {
     "data": {
      "text/plain": [
       "0"
      ]
     },
     "execution_count": 13,
     "metadata": {},
     "output_type": "execute_result"
    }
   ],
   "source": [
    "from_list.evaluate()[0]"
   ]
  },
  {
   "cell_type": "code",
   "execution_count": 9,
   "id": "72fc342b",
   "metadata": {},
   "outputs": [
    {
     "name": "stdout",
     "output_type": "stream",
     "text": [
      "<larray: base_value=-60 shape=None dtype=None, operations=[]>\n"
     ]
    }
   ],
   "source": [
    "k = larray(-60)\n",
    "print(k)"
   ]
  },
  {
   "cell_type": "code",
   "execution_count": 10,
   "id": "613f69d3",
   "metadata": {},
   "outputs": [
    {
     "ename": "ValueError",
     "evalue": "Shape of larray not specified",
     "output_type": "error",
     "traceback": [
      "\u001b[0;31m---------------------------------------------------------------------------\u001b[0m",
      "\u001b[0;31mValueError\u001b[0m                                Traceback (most recent call last)",
      "\u001b[0;32m<ipython-input-10-ba3748fb4a15>\u001b[0m in \u001b[0;36m<module>\u001b[0;34m\u001b[0m\n\u001b[0;32m----> 1\u001b[0;31m \u001b[0;32mfor\u001b[0m \u001b[0mi\u001b[0m \u001b[0;32min\u001b[0m \u001b[0mk\u001b[0m\u001b[0;34m.\u001b[0m\u001b[0mevaluate\u001b[0m\u001b[0;34m(\u001b[0m\u001b[0;34m)\u001b[0m\u001b[0;34m:\u001b[0m\u001b[0;34m\u001b[0m\u001b[0;34m\u001b[0m\u001b[0m\n\u001b[0m\u001b[1;32m      2\u001b[0m     \u001b[0mprint\u001b[0m\u001b[0;34m(\u001b[0m\u001b[0mi\u001b[0m\u001b[0;34m)\u001b[0m\u001b[0;34m\u001b[0m\u001b[0;34m\u001b[0m\u001b[0m\n",
      "\u001b[0;32m/envs/py3-pyNNarbor_latest/lib/python3.8/site-packages/lazyarray.py\u001b[0m in \u001b[0;36mwrapped_meth\u001b[0;34m(self, *args, **kwargs)\u001b[0m\n\u001b[1;32m     46\u001b[0m     \u001b[0;32mdef\u001b[0m \u001b[0mwrapped_meth\u001b[0m\u001b[0;34m(\u001b[0m\u001b[0mself\u001b[0m\u001b[0;34m,\u001b[0m \u001b[0;34m*\u001b[0m\u001b[0margs\u001b[0m\u001b[0;34m,\u001b[0m \u001b[0;34m**\u001b[0m\u001b[0mkwargs\u001b[0m\u001b[0;34m)\u001b[0m\u001b[0;34m:\u001b[0m\u001b[0;34m\u001b[0m\u001b[0;34m\u001b[0m\u001b[0m\n\u001b[1;32m     47\u001b[0m         \u001b[0;32mif\u001b[0m \u001b[0mself\u001b[0m\u001b[0;34m.\u001b[0m\u001b[0m_shape\u001b[0m \u001b[0;32mis\u001b[0m \u001b[0;32mNone\u001b[0m\u001b[0;34m:\u001b[0m\u001b[0;34m\u001b[0m\u001b[0;34m\u001b[0m\u001b[0m\n\u001b[0;32m---> 48\u001b[0;31m             \u001b[0;32mraise\u001b[0m \u001b[0mValueError\u001b[0m\u001b[0;34m(\u001b[0m\u001b[0;34m\"Shape of larray not specified\"\u001b[0m\u001b[0;34m)\u001b[0m\u001b[0;34m\u001b[0m\u001b[0;34m\u001b[0m\u001b[0m\n\u001b[0m\u001b[1;32m     49\u001b[0m         \u001b[0;32mreturn\u001b[0m \u001b[0mmeth\u001b[0m\u001b[0;34m(\u001b[0m\u001b[0mself\u001b[0m\u001b[0;34m,\u001b[0m \u001b[0;34m*\u001b[0m\u001b[0margs\u001b[0m\u001b[0;34m,\u001b[0m \u001b[0;34m**\u001b[0m\u001b[0mkwargs\u001b[0m\u001b[0;34m)\u001b[0m\u001b[0;34m\u001b[0m\u001b[0;34m\u001b[0m\u001b[0m\n\u001b[1;32m     50\u001b[0m     \u001b[0;32mreturn\u001b[0m \u001b[0mwrapped_meth\u001b[0m\u001b[0;34m\u001b[0m\u001b[0;34m\u001b[0m\u001b[0m\n",
      "\u001b[0;31mValueError\u001b[0m: Shape of larray not specified"
     ]
    }
   ],
   "source": [
    "for i in k.evaluate():\n",
    "    print(i)"
   ]
  },
  {
   "cell_type": "code",
   "execution_count": null,
   "id": "6dd37a09",
   "metadata": {},
   "outputs": [],
   "source": []
  }
 ],
 "metadata": {
  "kernelspec": {
   "display_name": "Python 3",
   "language": "python",
   "name": "python3"
  },
  "language_info": {
   "codemirror_mode": {
    "name": "ipython",
    "version": 3
   },
   "file_extension": ".py",
   "mimetype": "text/x-python",
   "name": "python",
   "nbconvert_exporter": "python",
   "pygments_lexer": "ipython3",
   "version": "3.8.2"
  }
 },
 "nbformat": 4,
 "nbformat_minor": 5
}
