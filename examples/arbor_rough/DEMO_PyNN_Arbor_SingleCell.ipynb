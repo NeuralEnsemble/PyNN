{
 "cells": [
  {
   "cell_type": "code",
   "execution_count": 1,
   "id": "e3b5881b",
   "metadata": {},
   "outputs": [
    {
     "ename": "ModuleNotFoundError",
     "evalue": "No module named 'pyNN.arbor.standardmodels.simulator'",
     "output_type": "error",
     "traceback": [
      "\u001b[0;31m---------------------------------------------------------------------------\u001b[0m",
      "\u001b[0;31mModuleNotFoundError\u001b[0m                       Traceback (most recent call last)",
      "\u001b[0;32m<ipython-input-1-fd69336bda4d>\u001b[0m in \u001b[0;36m<module>\u001b[0;34m\u001b[0m\n\u001b[1;32m      1\u001b[0m \u001b[0;32mfrom\u001b[0m \u001b[0mpyNN\u001b[0m\u001b[0;34m.\u001b[0m\u001b[0mmorphology\u001b[0m \u001b[0;32mimport\u001b[0m \u001b[0mNeuroMLMorphology\u001b[0m\u001b[0;34m,\u001b[0m \u001b[0mload_morphology\u001b[0m\u001b[0;34m,\u001b[0m \u001b[0muniform\u001b[0m\u001b[0;34m,\u001b[0m \u001b[0mrandom_section\u001b[0m\u001b[0;34m,\u001b[0m \u001b[0mdendrites\u001b[0m\u001b[0;34m,\u001b[0m \u001b[0mapical_dendrites\u001b[0m\u001b[0;34m,\u001b[0m \u001b[0mby_distance\u001b[0m\u001b[0;34m\u001b[0m\u001b[0;34m\u001b[0m\u001b[0m\n\u001b[0;32m----> 2\u001b[0;31m \u001b[0;32mimport\u001b[0m \u001b[0mpyNN\u001b[0m\u001b[0;34m.\u001b[0m\u001b[0marbor\u001b[0m \u001b[0;32mas\u001b[0m \u001b[0msim\u001b[0m\u001b[0;34m\u001b[0m\u001b[0;34m\u001b[0m\u001b[0m\n\u001b[0m",
      "\u001b[0;32m/envs/py3-pyNNarbor_latest/lib/python3.8/site-packages/pyNN/arbor/__init__.py\u001b[0m in \u001b[0;36m<module>\u001b[0;34m\u001b[0m\n\u001b[1;32m     11\u001b[0m \u001b[0;32mfrom\u001b[0m \u001b[0mpyNN\u001b[0m\u001b[0;34m.\u001b[0m\u001b[0mrecording\u001b[0m \u001b[0;32mimport\u001b[0m \u001b[0mget_io\u001b[0m\u001b[0;34m\u001b[0m\u001b[0;34m\u001b[0m\u001b[0m\n\u001b[1;32m     12\u001b[0m \u001b[0;32mfrom\u001b[0m \u001b[0mpyNN\u001b[0m\u001b[0;34m.\u001b[0m\u001b[0marbor\u001b[0m \u001b[0;32mimport\u001b[0m \u001b[0msimulator\u001b[0m\u001b[0;34m\u001b[0m\u001b[0;34m\u001b[0m\u001b[0m\n\u001b[0;32m---> 13\u001b[0;31m \u001b[0;32mfrom\u001b[0m \u001b[0mpyNN\u001b[0m\u001b[0;34m.\u001b[0m\u001b[0marbor\u001b[0m\u001b[0;34m.\u001b[0m\u001b[0mstandardmodels\u001b[0m\u001b[0;34m.\u001b[0m\u001b[0mcells\u001b[0m \u001b[0;32mimport\u001b[0m \u001b[0;34m*\u001b[0m\u001b[0;34m\u001b[0m\u001b[0;34m\u001b[0m\u001b[0m\n\u001b[0m\u001b[1;32m     14\u001b[0m \u001b[0;32mfrom\u001b[0m \u001b[0mpyNN\u001b[0m\u001b[0;34m.\u001b[0m\u001b[0marbor\u001b[0m\u001b[0;34m.\u001b[0m\u001b[0mconnectors\u001b[0m \u001b[0;32mimport\u001b[0m \u001b[0;34m*\u001b[0m\u001b[0;34m\u001b[0m\u001b[0;34m\u001b[0m\u001b[0m\n\u001b[1;32m     15\u001b[0m \u001b[0;32mfrom\u001b[0m \u001b[0mpyNN\u001b[0m\u001b[0;34m.\u001b[0m\u001b[0marbor\u001b[0m\u001b[0;34m.\u001b[0m\u001b[0mstandardmodels\u001b[0m\u001b[0;34m.\u001b[0m\u001b[0msynapses\u001b[0m \u001b[0;32mimport\u001b[0m \u001b[0;34m*\u001b[0m\u001b[0;34m\u001b[0m\u001b[0;34m\u001b[0m\u001b[0m\n",
      "\u001b[0;32m/envs/py3-pyNNarbor_latest/lib/python3.8/site-packages/pyNN/arbor/standardmodels/cells.py\u001b[0m in \u001b[0;36m<module>\u001b[0;34m\u001b[0m\n\u001b[1;32m     12\u001b[0m \u001b[0;32mfrom\u001b[0m \u001b[0mpyNN\u001b[0m\u001b[0;34m.\u001b[0m\u001b[0mmorphology\u001b[0m \u001b[0;32mimport\u001b[0m \u001b[0mMorphology\u001b[0m\u001b[0;34m,\u001b[0m \u001b[0mNeuriteDistribution\u001b[0m\u001b[0;34m\u001b[0m\u001b[0;34m\u001b[0m\u001b[0m\n\u001b[1;32m     13\u001b[0m \u001b[0;34m\u001b[0m\u001b[0m\n\u001b[0;32m---> 14\u001b[0;31m \u001b[0;32mfrom\u001b[0m \u001b[0;34m.\u001b[0m\u001b[0msimulator\u001b[0m \u001b[0;32mimport\u001b[0m \u001b[0mstate\u001b[0m  \u001b[0;31m# Hack for SpikeSourcePoisson\u001b[0m\u001b[0;34m\u001b[0m\u001b[0;34m\u001b[0m\u001b[0m\n\u001b[0m\u001b[1;32m     15\u001b[0m \u001b[0;34m\u001b[0m\u001b[0m\n\u001b[1;32m     16\u001b[0m \u001b[0;34m\u001b[0m\u001b[0m\n",
      "\u001b[0;31mModuleNotFoundError\u001b[0m: No module named 'pyNN.arbor.standardmodels.simulator'"
     ]
    }
   ],
   "source": [
    "from pyNN.morphology import NeuroMLMorphology, load_morphology, uniform, random_section, dendrites, apical_dendrites, by_distance\n",
    "import pyNN.arbor as sim"
   ]
  },
  {
   "cell_type": "code",
   "execution_count": null,
   "id": "7aaecf22",
   "metadata": {},
   "outputs": [],
   "source": [
    "pyr_morph = load_morphology(\"single_cell_detailed.swc\", replace_axon=None)"
   ]
  },
  {
   "cell_type": "code",
   "execution_count": 3,
   "id": "654b866a",
   "metadata": {},
   "outputs": [],
   "source": [
    "cc = sim.MultiCompartmentNeuron.setup(\n",
    "\t\t\t\tlabel=\"MyCell\",\n",
    "\t\t\t\tion_channels={'pas': sim.PassiveLeak,\n",
    "\t\t\t\t\t\t\t  'na': sim.NaChannel,\n",
    "\t\t\t\t\t\t\t  'kdr': sim.KdrChannel},\n",
    "\t\t\t\tionic_species={'na_ion': sim.NaIon,\n",
    "\t\t\t\t\t\t\t   'k_ion': sim.KIon})\n",
    "mycell = cc(morphology=pyr_morph,\n",
    "\t\t\tcm=1.0,\n",
    "\t\t\tRa=500.0,\n",
    "\t\t\tna_ion = {\"reversal_potential\": 50.0},\n",
    "\t\t\tk_ion = {\"reversal_potential\": -77.0},\n",
    "\t\t\tpas={\"conductance_density\": uniform('all', 0.0003),\n",
    "\t\t\t\t\"e_rev\":-54.3},\n",
    "\t\t\tna={\"conductance_density\": uniform('soma', 0.120),\n",
    "\t\t\t   \"e_rev\": 50.0},\n",
    "\t\t\tkdr={\"conductance_density\": uniform('soma', 0.036),\n",
    "\t\t\t\t\"e_rev\": -77.0})"
   ]
  },
  {
   "cell_type": "code",
   "execution_count": 4,
   "id": "ca379502",
   "metadata": {
    "scrolled": true
   },
   "outputs": [
    {
     "name": "stdout",
     "output_type": "stream",
     "text": [
      "[[ 0.0e+00  0.0e+00  0.0e+00  2.0e+00]\n",
      " [ 4.0e+01  0.0e+00  0.0e+00  8.0e-01]\n",
      " [ 8.0e+01  0.0e+00  0.0e+00  8.0e-01]\n",
      " [ 1.2e+02 -5.0e+00  0.0e+00  8.0e-01]\n",
      " [ 2.0e+02  4.0e+01  0.0e+00  4.0e-01]\n",
      " [ 1.2e+02 -5.0e+00  0.0e+00  5.0e-01]\n",
      " [ 1.9e+02 -3.0e+01  0.0e+00  5.0e-01]\n",
      " [ 1.9e+02 -3.0e+01  0.0e+00  5.0e-01]\n",
      " [ 2.3e+02 -1.0e+01  0.0e+00  2.0e-01]\n",
      " [ 0.0e+00  0.0e+00  0.0e+00  2.0e+00]\n",
      " [-7.0e+01  0.0e+00  0.0e+00  4.0e-01]] [[ 4.0e+01  0.0e+00  0.0e+00  2.0e+00]\n",
      " [ 8.0e+01  0.0e+00  0.0e+00  8.0e-01]\n",
      " [ 1.2e+02 -5.0e+00  0.0e+00  8.0e-01]\n",
      " [ 2.0e+02  4.0e+01  0.0e+00  4.0e-01]\n",
      " [ 2.6e+02  6.0e+01  0.0e+00  2.0e-01]\n",
      " [ 1.9e+02 -3.0e+01  0.0e+00  5.0e-01]\n",
      " [ 2.4e+02 -7.0e+01  0.0e+00  2.0e-01]\n",
      " [ 2.3e+02 -1.0e+01  0.0e+00  2.0e-01]\n",
      " [ 3.6e+02 -2.0e+01  0.0e+00  2.0e-01]\n",
      " [-7.0e+01  0.0e+00  0.0e+00  4.0e-01]\n",
      " [-1.0e+02  0.0e+00  0.0e+00  4.0e-01]] [None, 0, 1, 2, 3, 2, 5, 5, 7, None, 9]\n",
      "[[ 0.0e+00  0.0e+00  0.0e+00  2.0e+00]\n",
      " [ 4.0e+01  0.0e+00  0.0e+00  8.0e-01]\n",
      " [ 8.0e+01  0.0e+00  0.0e+00  8.0e-01]\n",
      " [ 1.2e+02 -5.0e+00  0.0e+00  8.0e-01]\n",
      " [ 2.0e+02  4.0e+01  0.0e+00  4.0e-01]\n",
      " [ 1.2e+02 -5.0e+00  0.0e+00  5.0e-01]\n",
      " [ 1.9e+02 -3.0e+01  0.0e+00  5.0e-01]\n",
      " [ 1.9e+02 -3.0e+01  0.0e+00  5.0e-01]\n",
      " [ 2.3e+02 -1.0e+01  0.0e+00  2.0e-01]\n",
      " [ 0.0e+00  0.0e+00  0.0e+00  2.0e+00]\n",
      " [-7.0e+01  0.0e+00  0.0e+00  4.0e-01]] [[ 4.0e+01  0.0e+00  0.0e+00  2.0e+00]\n",
      " [ 8.0e+01  0.0e+00  0.0e+00  8.0e-01]\n",
      " [ 1.2e+02 -5.0e+00  0.0e+00  8.0e-01]\n",
      " [ 2.0e+02  4.0e+01  0.0e+00  4.0e-01]\n",
      " [ 2.6e+02  6.0e+01  0.0e+00  2.0e-01]\n",
      " [ 1.9e+02 -3.0e+01  0.0e+00  5.0e-01]\n",
      " [ 2.4e+02 -7.0e+01  0.0e+00  2.0e-01]\n",
      " [ 2.3e+02 -1.0e+01  0.0e+00  2.0e-01]\n",
      " [ 3.6e+02 -2.0e+01  0.0e+00  2.0e-01]\n",
      " [-7.0e+01  0.0e+00  0.0e+00  4.0e-01]\n",
      " [-1.0e+02  0.0e+00  0.0e+00  4.0e-01]] [None, 0, 1, 2, 3, 2, 5, 5, 7, None, 9]\n",
      "[[ 0.0e+00  0.0e+00  0.0e+00  2.0e+00]\n",
      " [ 4.0e+01  0.0e+00  0.0e+00  8.0e-01]\n",
      " [ 8.0e+01  0.0e+00  0.0e+00  8.0e-01]\n",
      " [ 1.2e+02 -5.0e+00  0.0e+00  8.0e-01]\n",
      " [ 2.0e+02  4.0e+01  0.0e+00  4.0e-01]\n",
      " [ 1.2e+02 -5.0e+00  0.0e+00  5.0e-01]\n",
      " [ 1.9e+02 -3.0e+01  0.0e+00  5.0e-01]\n",
      " [ 1.9e+02 -3.0e+01  0.0e+00  5.0e-01]\n",
      " [ 2.3e+02 -1.0e+01  0.0e+00  2.0e-01]\n",
      " [ 0.0e+00  0.0e+00  0.0e+00  2.0e+00]\n",
      " [-7.0e+01  0.0e+00  0.0e+00  4.0e-01]] [[ 4.0e+01  0.0e+00  0.0e+00  2.0e+00]\n",
      " [ 8.0e+01  0.0e+00  0.0e+00  8.0e-01]\n",
      " [ 1.2e+02 -5.0e+00  0.0e+00  8.0e-01]\n",
      " [ 2.0e+02  4.0e+01  0.0e+00  4.0e-01]\n",
      " [ 2.6e+02  6.0e+01  0.0e+00  2.0e-01]\n",
      " [ 1.9e+02 -3.0e+01  0.0e+00  5.0e-01]\n",
      " [ 2.4e+02 -7.0e+01  0.0e+00  2.0e-01]\n",
      " [ 2.3e+02 -1.0e+01  0.0e+00  2.0e-01]\n",
      " [ 3.6e+02 -2.0e+01  0.0e+00  2.0e-01]\n",
      " [-7.0e+01  0.0e+00  0.0e+00  4.0e-01]\n",
      " [-1.0e+02  0.0e+00  0.0e+00  4.0e-01]] [None, 0, 1, 2, 3, 2, 5, 5, 7, None, 9]\n"
     ]
    }
   ],
   "source": [
    "#cells = sim.Population(1, mycell, initial_values={'v': -60.0})\n",
    "cells = sim.Population(3, mycell, initial_values={'v': -60.0})"
   ]
  },
  {
   "cell_type": "code",
   "execution_count": 5,
   "id": "e9c5a4bd",
   "metadata": {},
   "outputs": [],
   "source": [
    "step_current = sim.DCSource(amplitude=5.0, start=50.0, stop=150.0)"
   ]
  },
  {
   "cell_type": "code",
   "execution_count": 6,
   "id": "9ce96d93",
   "metadata": {},
   "outputs": [],
   "source": [
    "step_current.inject_into(cells[0:1], location=\"soma\")"
   ]
  },
  {
   "cell_type": "code",
   "execution_count": 7,
   "id": "15b118d0",
   "metadata": {},
   "outputs": [],
   "source": [
    "cells.record('spikes')"
   ]
  },
  {
   "cell_type": "code",
   "execution_count": 8,
   "id": "705c803c",
   "metadata": {},
   "outputs": [],
   "source": [
    "# sim.run(200.0)\n",
    "sim.state.run(200.0, cells)"
   ]
  },
  {
   "cell_type": "code",
   "execution_count": 9,
   "id": "836b91fc",
   "metadata": {},
   "outputs": [
    {
     "data": {
      "text/plain": [
       "<arbor.single_cell_model>"
      ]
     },
     "execution_count": 9,
     "metadata": {},
     "output_type": "execute_result"
    }
   ],
   "source": [
    "sim.state.model"
   ]
  },
  {
   "cell_type": "code",
   "execution_count": 10,
   "id": "dcc8b2c6",
   "metadata": {},
   "outputs": [
    {
     "name": "stdout",
     "output_type": "stream",
     "text": [
      "no spikes\n"
     ]
    }
   ],
   "source": [
    "# (8) Print spike times.\n",
    "if len(sim.state.model.spikes) > 0:\n",
    "    print(\"{} spikes:\".format(len(sim.state.model.spikes)))\n",
    "    for s in sim.state.model.spikes:\n",
    "        print(\"{:3.3f}\".format(s))\n",
    "else:\n",
    "    print(\"no spikes\")"
   ]
  },
  {
   "cell_type": "code",
   "execution_count": 11,
   "id": "7efe8e3d",
   "metadata": {},
   "outputs": [],
   "source": [
    "from matplotlib import pyplot"
   ]
  },
  {
   "cell_type": "code",
   "execution_count": 12,
   "id": "c7e55a26",
   "metadata": {},
   "outputs": [
    {
     "ename": "IndexError",
     "evalue": "list index out of range",
     "output_type": "error",
     "traceback": [
      "\u001b[0;31m---------------------------------------------------------------------------\u001b[0m",
      "\u001b[0;31mIndexError\u001b[0m                                Traceback (most recent call last)",
      "\u001b[0;32m<ipython-input-12-0d784608634f>\u001b[0m in \u001b[0;36m<module>\u001b[0;34m\u001b[0m\n\u001b[1;32m      1\u001b[0m \u001b[0;31m# df = pandas.DataFrame({\"t/ms\": m.traces[0].time, \"U/mV\": m.traces[0].value})\u001b[0m\u001b[0;34m\u001b[0m\u001b[0;34m\u001b[0m\u001b[0;34m\u001b[0m\u001b[0m\n\u001b[0;32m----> 2\u001b[0;31m \u001b[0mpyplot\u001b[0m\u001b[0;34m.\u001b[0m\u001b[0mplot\u001b[0m\u001b[0;34m(\u001b[0m\u001b[0msim\u001b[0m\u001b[0;34m.\u001b[0m\u001b[0mstate\u001b[0m\u001b[0;34m.\u001b[0m\u001b[0mmodel\u001b[0m\u001b[0;34m.\u001b[0m\u001b[0mtraces\u001b[0m\u001b[0;34m[\u001b[0m\u001b[0;36m0\u001b[0m\u001b[0;34m]\u001b[0m\u001b[0;34m.\u001b[0m\u001b[0mtime\u001b[0m\u001b[0;34m,\u001b[0m \u001b[0msim\u001b[0m\u001b[0;34m.\u001b[0m\u001b[0mstate\u001b[0m\u001b[0;34m.\u001b[0m\u001b[0mmodel\u001b[0m\u001b[0;34m.\u001b[0m\u001b[0mtraces\u001b[0m\u001b[0;34m[\u001b[0m\u001b[0;36m0\u001b[0m\u001b[0;34m]\u001b[0m\u001b[0;34m.\u001b[0m\u001b[0mvalue\u001b[0m\u001b[0;34m)\u001b[0m\u001b[0;34m\u001b[0m\u001b[0;34m\u001b[0m\u001b[0m\n\u001b[0m",
      "\u001b[0;31mIndexError\u001b[0m: list index out of range"
     ]
    }
   ],
   "source": [
    "# df = pandas.DataFrame({\"t/ms\": m.traces[0].time, \"U/mV\": m.traces[0].value})\n",
    "pyplot.plot(sim.state.model.traces[0].time, sim.state.model.traces[0].value)"
   ]
  },
  {
   "cell_type": "code",
   "execution_count": 13,
   "id": "fd33e6cb",
   "metadata": {},
   "outputs": [
    {
     "data": {
      "text/plain": [
       "[]"
      ]
     },
     "execution_count": 13,
     "metadata": {},
     "output_type": "execute_result"
    }
   ],
   "source": [
    "sim.state.model.traces"
   ]
  },
  {
   "cell_type": "code",
   "execution_count": 14,
   "id": "b80d36b0",
   "metadata": {},
   "outputs": [],
   "source": [
    "m = sim.state.model"
   ]
  },
  {
   "cell_type": "code",
   "execution_count": 15,
   "id": "cbb2464e",
   "metadata": {},
   "outputs": [],
   "source": [
    "m.run(tfinal=30)"
   ]
  },
  {
   "cell_type": "code",
   "execution_count": 16,
   "id": "6d9c8a11",
   "metadata": {},
   "outputs": [
    {
     "name": "stdout",
     "output_type": "stream",
     "text": [
      "no spikes\n"
     ]
    }
   ],
   "source": [
    "if len(m.spikes) > 0:\n",
    "    print(\"{} spikes:\".format(len(m.spikes)))\n",
    "    for s in m.spikes:\n",
    "        print(\"{:3.3f}\".format(s))\n",
    "else:\n",
    "    print(\"no spikes\")"
   ]
  },
  {
   "cell_type": "code",
   "execution_count": 17,
   "id": "81d57759",
   "metadata": {},
   "outputs": [
    {
     "data": {
      "text/plain": [
       "Population(3, MultiCompartmentNeuron(<parameters>), structure=Line(dx=1.0, x0=0.0, y=0.0, z=0.0), label='population0')"
      ]
     },
     "execution_count": 17,
     "metadata": {},
     "output_type": "execute_result"
    }
   ],
   "source": [
    "cells"
   ]
  },
  {
   "cell_type": "code",
   "execution_count": 18,
   "id": "87da64d8",
   "metadata": {},
   "outputs": [],
   "source": [
    "import arbor"
   ]
  },
  {
   "cell_type": "raw",
   "id": "f6382f01",
   "metadata": {},
   "source": [
    "a_cell = arbor.cable_cell(populn.all_cells[i]._cell._arbor_morphology,  # populn.all_cells[i]._cell._arbor_tree\n",
    "                          populn.all_cells[i]._cell._arbor_labels,\n",
    "                          populn.all_cells[i]._cell._decor)\n",
    "            model = arbor.single_cell_model(a_cell)\n",
    "            model.probe(\"voltage\", '\"soma_midpoint\"', frequency=10)  # 10 kHz sampling (i.e. every 0.1 ms)"
   ]
  },
  {
   "cell_type": "code",
   "execution_count": 19,
   "id": "6bd90453",
   "metadata": {},
   "outputs": [
    {
     "data": {
      "text/plain": [
       "<arbor._arbor.morphology at 0x7f673b3f1bf0>"
      ]
     },
     "execution_count": 19,
     "metadata": {},
     "output_type": "execute_result"
    }
   ],
   "source": [
    "cells.all_cells[0]._cell._arbor_morphology"
   ]
  },
  {
   "cell_type": "code",
   "execution_count": 20,
   "id": "659b3b9a",
   "metadata": {},
   "outputs": [
    {
     "data": {
      "text/plain": [
       "(label_dict (region  \"ionchnl_pas_in_all\" (all)) (region  \"everywhere\" (all)) (region  \"soma\" (tag 1)) (region  \"basal_dendrite\" (tag 3)) (region  \"apical_dendrite\" (tag 4)) (locset \"root\" (root)) (locset \"terminal\" (terminal)) (locset \"basal_dendrite_midpoint\" (restrict (on_branches 0.5) (tag 3))) (locset \"soma_midpoint\" (restrict (on_branches 0.5) (tag 1))) (locset \"apical_dendrite_midpoint\" (restrict (on_branches 0.5) (tag 4))))"
      ]
     },
     "execution_count": 20,
     "metadata": {},
     "output_type": "execute_result"
    }
   ],
   "source": [
    "cells.all_cells[0]._cell._arbor_labels"
   ]
  },
  {
   "cell_type": "code",
   "execution_count": 21,
   "id": "f0326e14",
   "metadata": {},
   "outputs": [
    {
     "data": {
      "text/plain": [
       "<arbor._arbor.decor at 0x7f673b531d30>"
      ]
     },
     "execution_count": 21,
     "metadata": {},
     "output_type": "execute_result"
    }
   ],
   "source": [
    "cells.all_cells[0]._cell._decor"
   ]
  },
  {
   "cell_type": "code",
   "execution_count": 22,
   "id": "a51c64e6",
   "metadata": {},
   "outputs": [],
   "source": [
    "ac = arbor.cable_cell(cells.all_cells[0]._cell._arbor_morphology,\n",
    "                     cells.all_cells[0]._cell._arbor_labels,\n",
    "                     cells.all_cells[0]._cell._decor)"
   ]
  },
  {
   "cell_type": "code",
   "execution_count": 23,
   "id": "79e6901e",
   "metadata": {},
   "outputs": [],
   "source": [
    "mod = arbor.single_cell_model(ac)"
   ]
  },
  {
   "cell_type": "code",
   "execution_count": 24,
   "id": "0a7c668a",
   "metadata": {
    "scrolled": true
   },
   "outputs": [],
   "source": [
    "mod.probe(\"voltage\", '\"soma_midpoint\"', frequency=10)"
   ]
  },
  {
   "cell_type": "code",
   "execution_count": 25,
   "id": "a13f5a54",
   "metadata": {},
   "outputs": [],
   "source": [
    "mod.run(tfinal=30)"
   ]
  },
  {
   "cell_type": "code",
   "execution_count": 26,
   "id": "14b7c3cf",
   "metadata": {},
   "outputs": [
    {
     "name": "stdout",
     "output_type": "stream",
     "text": [
      "no spikes\n"
     ]
    }
   ],
   "source": [
    "if len(mod.spikes) > 0:\n",
    "    print(\"{} spikes:\".format(len(mod.spikes)))\n",
    "    for s in mod.spikes:\n",
    "        print(\"{:3.3f}\".format(s))\n",
    "else:\n",
    "    print(\"no spikes\")"
   ]
  },
  {
   "cell_type": "markdown",
   "id": "305c2bec",
   "metadata": {},
   "source": [
    "Make the 2nd cell in the population the \"simple cell\" example in Arbor documentation."
   ]
  },
  {
   "cell_type": "code",
   "execution_count": 27,
   "id": "59e3e9ce",
   "metadata": {},
   "outputs": [],
   "source": [
    "# (1) Create a morphology with a single (cylindrical) segment of length=diameter=6 μm\n",
    "tree1 = arbor.segment_tree()\n",
    "tree1.append(arbor.mnpos, arbor.mpoint(-3, 0, 0, 3), arbor.mpoint(3, 0, 0, 3), tag=1)\n",
    "\n",
    "# (2) Define the soma and its midpoint\n",
    "labels1 = arbor.label_dict({\"soma\": \"(tag 1)\", \"midpoint\": \"(location 0 0.5)\"})\n",
    "\n",
    "# (3) Create and set up a decor object\n",
    "decor1 = arbor.decor()\n",
    "decor1.set_property(Vm=-40)\n",
    "decor1.paint('\"soma\"', arbor.density('hh'))\n",
    "decor1.place('\"midpoint\"', arbor.iclamp( 10, 2, 0.8), \"iclamp\")\n",
    "decor1.place('\"midpoint\"', arbor.spike_detector(-10), \"detector\")"
   ]
  },
  {
   "cell_type": "code",
   "execution_count": 28,
   "id": "cb543503",
   "metadata": {},
   "outputs": [],
   "source": [
    "cells.all_cells[1]._cell._arbor_tree = tree1\n",
    "cells.all_cells[1]._cell._arbor_labels = labels1\n",
    "cells.all_cells[1]._cell._decor = decor1\n",
    "cells.all_cells[1]._cell._arbor_morphology = arbor.morphology(tree1)"
   ]
  },
  {
   "cell_type": "code",
   "execution_count": 29,
   "id": "a1635572",
   "metadata": {},
   "outputs": [],
   "source": [
    "ac1 = arbor.cable_cell(cells.all_cells[1]._cell._arbor_tree,\n",
    "                     cells.all_cells[1]._cell._arbor_labels,\n",
    "                     cells.all_cells[1]._cell._decor)\n",
    "mod1 = arbor.single_cell_model(ac1)\n",
    "mod1.probe(\"voltage\", '\"midpoint\"', frequency=10)"
   ]
  },
  {
   "cell_type": "markdown",
   "id": "5d1dbad3",
   "metadata": {},
   "source": [
    "Using tree or morphology, its all the same."
   ]
  },
  {
   "cell_type": "code",
   "execution_count": 30,
   "id": "9e69a1e9",
   "metadata": {},
   "outputs": [],
   "source": [
    "ac1 = arbor.cable_cell(cells.all_cells[1]._cell._arbor_morphology,\n",
    "                     cells.all_cells[1]._cell._arbor_labels,\n",
    "                     cells.all_cells[1]._cell._decor)\n",
    "mod1 = arbor.single_cell_model(ac1)\n",
    "mod1.probe(\"voltage\", '\"midpoint\"', frequency=10)"
   ]
  },
  {
   "cell_type": "code",
   "execution_count": 31,
   "id": "73bb348f",
   "metadata": {},
   "outputs": [],
   "source": [
    "mod1.run(tfinal=30)"
   ]
  },
  {
   "cell_type": "code",
   "execution_count": 32,
   "id": "d9fc2d3d",
   "metadata": {},
   "outputs": [
    {
     "name": "stdout",
     "output_type": "stream",
     "text": [
      "1 spikes:\n",
      "10.084\n"
     ]
    }
   ],
   "source": [
    "if len(mod1.spikes) > 0:\n",
    "    print(\"{} spikes:\".format(len(mod1.spikes)))\n",
    "    for s in mod1.spikes:\n",
    "        print(\"{:3.3f}\".format(s))\n",
    "else:\n",
    "    print(\"no spikes\")"
   ]
  },
  {
   "cell_type": "code",
   "execution_count": 33,
   "id": "1aebe4c8",
   "metadata": {},
   "outputs": [
    {
     "data": {
      "text/plain": [
       "[<matplotlib.lines.Line2D at 0x7f6739ecbaf0>]"
      ]
     },
     "execution_count": 33,
     "metadata": {},
     "output_type": "execute_result"
    },
    {
     "data": {
      "image/png": "[encoded data removed]",
      "text/plain": [
       "<Figure size 432x288 with 1 Axes>"
      ]
     },
     "metadata": {
      "needs_background": "light"
     },
     "output_type": "display_data"
    }
   ],
   "source": [
    "pyplot.plot(mod1.traces[0].time, mod1.traces[0].value)"
   ]
  },
  {
   "cell_type": "raw",
   "id": "db145df5",
   "metadata": {},
   "source": [
    "cells.all_cells[1]._cell._arbor_tree = tree\n",
    "cells.all_cells[1]._cell._arbor_labels = labels\n",
    "cells.all_cells[1]._cell._decor"
   ]
  },
  {
   "cell_type": "markdown",
   "id": "a41c624c",
   "metadata": {},
   "source": [
    "Make the 3rd cell in the population the \"detailed cell\" example in Arbor documentation."
   ]
  },
  {
   "cell_type": "code",
   "execution_count": 34,
   "id": "f8e21c3d",
   "metadata": {},
   "outputs": [],
   "source": [
    "# (1) Create a morphology with a single (cylindrical) segment of length=diameter=6 μm\n",
    "tree2 = arbor.segment_tree()\n",
    "# Start with segment 0: a cylindrical soma with tag 1\n",
    "tree2.append(arbor.mnpos, arbor.mpoint(0.0, 0.0, 0.0, 2.0), arbor.mpoint( 40.0, 0.0, 0.0, 2.0), tag=1)\n",
    "# Construct the first section of the dendritic tree with tag 3,\n",
    "# comprised of segments 1 and 2, attached to soma segment 0.\n",
    "tree2.append(0,     arbor.mpoint(40.0, 0.0, 0.0, 0.8), arbor.mpoint( 80.0,  0.0, 0.0, 0.8), tag=3)\n",
    "tree2.append(1,     arbor.mpoint(80.0, 0.0, 0.0, 0.8), arbor.mpoint(120.0, -5.0, 0.0, 0.8), tag=3)\n",
    "# Construct the rest of the dendritic tree: segments 3, 4 and 5.\n",
    "tree2.append(2,     arbor.mpoint(120.0, -5.0, 0.0, 0.8), arbor.mpoint(200.0,  40.0, 0.0, 0.4), tag=3)\n",
    "tree2.append(3,     arbor.mpoint(200.0, 40.0, 0.0, 0.4), arbor.mpoint(260.0,  60.0, 0.0, 0.2), tag=3)\n",
    "tree2.append(2,     arbor.mpoint(120.0, -5.0, 0.0, 0.5), arbor.mpoint(190.0, -30.0, 0.0, 0.5), tag=3)\n",
    "# Construct a special region of the tree made of segments 6, 7, and 8\n",
    "# differentiated from the rest of the tree using tag 4.\n",
    "tree2.append(5,     arbor.mpoint(190.0, -30.0, 0.0, 0.5), arbor.mpoint(240.0, -70.0, 0.0, 0.2), tag=4)\n",
    "tree2.append(5,     arbor.mpoint(190.0, -30.0, 0.0, 0.5), arbor.mpoint(230.0, -10.0, 0.0, 0.2), tag=4)\n",
    "tree2.append(7,     arbor.mpoint(230.0, -10.0, 0.0, 0.2), arbor.mpoint(360.0, -20.0, 0.0, 0.2), tag=4)\n",
    "# Construct segments 9 and 10 that make up the axon with tag 2.\n",
    "# Segment 9 is at the root, where its proximal end will be connected to the\n",
    "# proximal end of the soma segment.\n",
    "tree2.append(arbor.mnpos, arbor.mpoint( 0.0, 0.0, 0.0, 2.0), arbor.mpoint(  -70.0, 0.0, 0.0, 0.4), tag=2)\n",
    "tree2.append(9,     arbor.mpoint(-70.0, 0.0, 0.0, 0.4), arbor.mpoint(-100.0, 0.0, 0.0, 0.4), tag=2)\n",
    "\n",
    "# (2) Define the soma and its midpoint\n",
    "labels2 = arbor.label_dict({\n",
    "  \"soma\": \"(tag 1)\",\n",
    "  \"axon\": \"(tag 2)\",\n",
    "  \"dend\": \"(tag 3)\",\n",
    "  \"apic\": \"(tag 4)\",\n",
    "  \"all\": \"(all)\",\n",
    "  \"midpoint\": \"(location 0 0.5)\",\n",
    "  # Add a label for the parts of the morphology with radius greater than 1.5 μm.\n",
    "  \"gt_1.5\": '(radius-ge (region \"all\") 1.5)',\n",
    "  # Join regions \"apic\" and \"gt_1.5\"\n",
    "  \"custom\": '(join (region \"apic\") (region \"gt_1.5\"))',\n",
    "  # Add a labels for the root of the morphology and all the terminal points\n",
    "  \"root\": \"(root)\",\n",
    "  \"terminal\": \"(terminal)\",\n",
    "  # Add a label for the terminal locations in the \"custom\" region:\n",
    "  \"custom_terminal\": '(restrict (locset \"terminal\") (region \"custom\"))',\n",
    "  # Add a label for the terminal locations in the \"axon\" region:\n",
    "  \"axon_terminal\": '(restrict (locset \"terminal\") (region \"axon\"))',\n",
    "})\n",
    "\n",
    "# (3) Create and set up a decor object\n",
    "decor2 = arbor.decor()\n",
    "# Set the default properties of the cell (this overrides the model defaults).\n",
    "decor2.set_property(Vm=-55)\n",
    "decor2.set_ion(\"na\", int_con=10, ext_con=140, rev_pot=50, method=\"nernst/na\")\n",
    "decor2.set_ion(\"k\", int_con=54.4, ext_con=2.5, rev_pot=-77)\n",
    "# Override the cell defaults.\n",
    "decor2.paint('\"custom\"', tempK=270)\n",
    "decor2.paint('\"soma\"', Vm=-50)\n",
    "# Paint density mechanisms.\n",
    "decor2.paint('\"all\"', arbor.density(\"pas\"))\n",
    "decor2.paint('\"custom\"', arbor.density(\"hh\"))\n",
    "decor2.paint('\"dend\"', arbor.density(\"hh\", {\"gkbar\": 0.001}))\n",
    "# Place stimuli and detectors.\n",
    "decor2.place('\"root\"', arbor.iclamp(10, 1, current=2), \"iclamp0\")\n",
    "decor2.place('\"root\"', arbor.iclamp(30, 1, current=2), \"iclamp1\")\n",
    "decor2.place('\"root\"', arbor.iclamp(50, 1, current=2), \"iclamp2\")\n",
    "#decor.place('\"axon_terminal\"', arbor.threshold_detector(-10), \"detector\")\n",
    "decor2.place('\"axon_terminal\"', arbor.spike_detector(-10), \"detector\")\n",
    "\n",
    "#decor2.place('\"midpoint\"', arbor.iclamp( 10, 2, 0.8), \"iclamp\")\n",
    "#decor2.place('\"midpoint\"', arbor.spike_detector(-10), \"detector\")"
   ]
  },
  {
   "cell_type": "code",
   "execution_count": 35,
   "id": "83178f7a",
   "metadata": {},
   "outputs": [],
   "source": [
    "cells.all_cells[2]._cell._arbor_tree = tree2\n",
    "cells.all_cells[2]._cell._arbor_labels = labels2\n",
    "cells.all_cells[2]._cell._decor = decor2\n",
    "cells.all_cells[2]._cell._arbor_morphology = arbor.morphology(tree2)"
   ]
  },
  {
   "cell_type": "code",
   "execution_count": 36,
   "id": "e7ef2725",
   "metadata": {},
   "outputs": [],
   "source": [
    "ac2 = arbor.cable_cell(cells.all_cells[2]._cell._arbor_morphology,\n",
    "                     cells.all_cells[2]._cell._arbor_labels,\n",
    "                     cells.all_cells[2]._cell._decor)\n",
    "mod2 = arbor.single_cell_model(ac2)\n",
    "mod2.probe(\"voltage\", '\"midpoint\"', frequency=10)"
   ]
  },
  {
   "cell_type": "code",
   "execution_count": 37,
   "id": "c508d9a6",
   "metadata": {},
   "outputs": [],
   "source": [
    "mod2.run(tfinal=100, dt=0.025)"
   ]
  },
  {
   "cell_type": "code",
   "execution_count": 38,
   "id": "65dc2fe1",
   "metadata": {},
   "outputs": [
    {
     "name": "stdout",
     "output_type": "stream",
     "text": [
      "3 spikes recorded:\n",
      "10.784431020623357\n",
      "30.81276109104436\n",
      "50.81473747337763\n"
     ]
    }
   ],
   "source": [
    "print(len(mod2.spikes), \"spikes recorded:\")\n",
    "for s in mod2.spikes:\n",
    "    print(s)"
   ]
  },
  {
   "cell_type": "code",
   "execution_count": 39,
   "id": "2edcb64f",
   "metadata": {},
   "outputs": [
    {
     "data": {
      "text/plain": [
       "[<matplotlib.lines.Line2D at 0x7f6737dcc7f0>]"
      ]
     },
     "execution_count": 39,
     "metadata": {},
     "output_type": "execute_result"
    },
    {
     "data": {
      "image/png": "[encoded data removed]",
      "text/plain": [
       "<Figure size 432x288 with 1 Axes>"
      ]
     },
     "metadata": {
      "needs_background": "light"
     },
     "output_type": "display_data"
    }
   ],
   "source": [
    "pyplot.plot(mod2.traces[0].time, mod2.traces[0].value)"
   ]
  },
  {
   "cell_type": "markdown",
   "id": "a6d84b2d",
   "metadata": {},
   "source": [
    "The trees above (manually created) and generated by the backend appear to be the same."
   ]
  },
  {
   "cell_type": "code",
   "execution_count": 40,
   "id": "d51d3ca8",
   "metadata": {},
   "outputs": [
    {
     "data": {
      "text/plain": [
       "11"
      ]
     },
     "execution_count": 40,
     "metadata": {},
     "output_type": "execute_result"
    }
   ],
   "source": [
    "cells.all_cells[2]._cell._arbor_tree.size"
   ]
  },
  {
   "cell_type": "code",
   "execution_count": 41,
   "id": "2267536f",
   "metadata": {},
   "outputs": [
    {
     "data": {
      "text/plain": [
       "11"
      ]
     },
     "execution_count": 41,
     "metadata": {},
     "output_type": "execute_result"
    }
   ],
   "source": [
    "cells.all_cells[0]._cell._arbor_tree.size"
   ]
  },
  {
   "cell_type": "code",
   "execution_count": 42,
   "id": "ba8f0480",
   "metadata": {},
   "outputs": [
    {
     "data": {
      "text/plain": [
       "[<arbor._arbor.msegment at 0x7f6737e2f5b0>,\n",
       " <arbor._arbor.msegment at 0x7f6737d746f0>,\n",
       " <arbor._arbor.msegment at 0x7f6737dec730>,\n",
       " <arbor._arbor.msegment at 0x7f6737de3c70>,\n",
       " <arbor._arbor.msegment at 0x7f6737de3d30>,\n",
       " <arbor._arbor.msegment at 0x7f6737d7c2b0>,\n",
       " <arbor._arbor.msegment at 0x7f6737d7c2f0>,\n",
       " <arbor._arbor.msegment at 0x7f6737d7c330>,\n",
       " <arbor._arbor.msegment at 0x7f6737d7c370>,\n",
       " <arbor._arbor.msegment at 0x7f6737d7c3b0>,\n",
       " <arbor._arbor.msegment at 0x7f6737d7c3f0>]"
      ]
     },
     "execution_count": 42,
     "metadata": {},
     "output_type": "execute_result"
    }
   ],
   "source": [
    "cells.all_cells[2]._cell._arbor_tree.segments"
   ]
  },
  {
   "cell_type": "code",
   "execution_count": 43,
   "id": "88c71fee",
   "metadata": {},
   "outputs": [
    {
     "data": {
      "text/plain": [
       "[<arbor._arbor.msegment at 0x7f6737d7ca30>,\n",
       " <arbor._arbor.msegment at 0x7f6737d7c9f0>,\n",
       " <arbor._arbor.msegment at 0x7f6737d7caf0>,\n",
       " <arbor._arbor.msegment at 0x7f6737d7cb30>,\n",
       " <arbor._arbor.msegment at 0x7f6737d7cbb0>,\n",
       " <arbor._arbor.msegment at 0x7f6737d7c870>,\n",
       " <arbor._arbor.msegment at 0x7f6737d7cbf0>,\n",
       " <arbor._arbor.msegment at 0x7f6737d7cc30>,\n",
       " <arbor._arbor.msegment at 0x7f6737d7cc70>,\n",
       " <arbor._arbor.msegment at 0x7f6737d7ccb0>,\n",
       " <arbor._arbor.msegment at 0x7f6737d7ccf0>]"
      ]
     },
     "execution_count": 43,
     "metadata": {},
     "output_type": "execute_result"
    }
   ],
   "source": [
    "cells.all_cells[0]._cell._arbor_tree.segments"
   ]
  },
  {
   "cell_type": "markdown",
   "id": "fcc482d7",
   "metadata": {},
   "source": [
    "Backend Morphology Works"
   ]
  },
  {
   "cell_type": "code",
   "execution_count": 44,
   "id": "97246e5c",
   "metadata": {},
   "outputs": [
    {
     "name": "stdout",
     "output_type": "stream",
     "text": [
      "0 spikes recorded:\n"
     ]
    }
   ],
   "source": [
    "acX = arbor.cable_cell(cells.all_cells[0]._cell._arbor_morphology,\n",
    "                     cells.all_cells[2]._cell._arbor_labels,\n",
    "                     cells.all_cells[2]._cell._decor)\n",
    "modX = arbor.single_cell_model(acX)\n",
    "modX.probe(\"voltage\", '\"midpoint\"', frequency=10)\n",
    "modX.run(tfinal=100, dt=0.025)\n",
    "print(len(modX.spikes), \"spikes recorded:\")\n",
    "for s in modX.spikes:\n",
    "    print(s)"
   ]
  },
  {
   "cell_type": "code",
   "execution_count": 45,
   "id": "ba2a665f",
   "metadata": {},
   "outputs": [
    {
     "data": {
      "image/png": "[encoded data removed]",
      "text/plain": [
       "<Figure size 432x288 with 2 Axes>"
      ]
     },
     "metadata": {
      "needs_background": "light"
     },
     "output_type": "display_data"
    }
   ],
   "source": [
    "ax1 = pyplot.subplot(211)\n",
    "ax1.plot(mod2.traces[0].time, mod2.traces[0].value)\n",
    "\n",
    "ax2 = pyplot.subplot(212, sharex=ax1)\n",
    "ax2.plot(modX.traces[0].time, modX.traces[0].value)\n",
    "\n",
    "pyplot.show()"
   ]
  },
  {
   "cell_type": "markdown",
   "id": "625c6da0",
   "metadata": {},
   "source": [
    "Renaming the decor (labels in decor) does not work"
   ]
  },
  {
   "cell_type": "code",
   "execution_count": 5,
   "id": "b1c10c48",
   "metadata": {},
   "outputs": [
    {
     "data": {
      "text/plain": [
       "(label_dict (region  \"ionchnl_pas_in_all\" (all)) (region  \"everywhere\" (all)) (region  \"soma\" (tag 1)) (region  \"basal_dendrite\" (tag 3)) (region  \"apical_dendrite\" (tag 4)) (locset \"root\" (root)) (locset \"terminal\" (terminal)) (locset \"basal_dendrite_midpoint\" (restrict (on_branches 0.5) (tag 3))) (locset \"soma_midpoint\" (restrict (on_branches 0.5) (tag 1))) (locset \"apical_dendrite_midpoint\" (restrict (on_branches 0.5) (tag 4))))"
      ]
     },
     "execution_count": 5,
     "metadata": {},
     "output_type": "execute_result"
    }
   ],
   "source": [
    "cells.all_cells[0]._cell._arbor_labels"
   ]
  },
  {
   "cell_type": "code",
   "execution_count": null,
   "id": "9bb957c2",
   "metadata": {},
   "outputs": [],
   "source": [
    "# (3) Create and set up a decor object\n",
    "decorX = arbor.decor()\n",
    "# Set the default properties of the cell (this overrides the model defaults).\n",
    "decorX.set_property(Vm=-55)\n",
    "decorX.set_ion(\"na\", int_con=10, ext_con=140, rev_pot=50, method=\"nernst/na\")\n",
    "decorX.set_ion(\"k\", int_con=54.4, ext_con=2.5, rev_pot=-77)\n",
    "# Override the cell defaults.\n",
    "decorX.paint('\"soma\"', tempK=270)  # since there are no custom label\n",
    "decorX.paint('\"soma\"', Vm=-50)\n",
    "# Paint density mechanisms.\n",
    "decorX.paint('\"everywhere\"', arbor.density(\"pas\"))  # since no all\n",
    "decorX.paint('\"soma\"', arbor.density(\"hh\"))\n",
    "decorX.paint('\"basal_dendrite\"', arbor.density(\"hh\", {\"gkbar\": 0.001}))  # since no dend\n",
    "# Place stimuli and detectors.\n",
    "decorX.place('\"soma_midpoint\"', arbor.iclamp(10, 1, current=2), \"iclamp0\")  # since no root label\n",
    "decorX.place('\"soma_midpoint\"', arbor.iclamp(30, 1, current=2), \"iclamp1\")\n",
    "decorX.place('\"soma_midpoint\"', arbor.iclamp(50, 1, current=2), \"iclamp2\")\n",
    "#decor.place('\"axon_terminal\"', arbor.threshold_detector(-10), \"detector\")\n",
    "#decorX.place('\"apical_dendrite_midpoint\"', arbor.spike_detector(-10), \"detector\")  # since no axon_terminal\n",
    "\n",
    "#decorX.place('\"soma_midpoint\"', arbor.iclamp( 10, 2, 0.8), \"iclamp\")  # since no midpoint label\n",
    "decorX.place('\"soma_midpoint\"', arbor.spike_detector(-10), \"detector\")"
   ]
  },
  {
   "cell_type": "code",
   "execution_count": null,
   "id": "929818c9",
   "metadata": {},
   "outputs": [],
   "source": [
    "acX = arbor.cable_cell(cells.all_cells[0]._cell._arbor_morphology,\n",
    "                     cells.all_cells[0]._cell._arbor_labels,\n",
    "                     decorX)\n",
    "modX = arbor.single_cell_model(acX)\n",
    "modX.probe(\"voltage\", '\"soma_midpoint\"', frequency=10)\n",
    "modX.run(tfinal=100, dt=0.025)\n",
    "print(len(modX.spikes), \"spikes recorded:\")\n",
    "for s in modX.spikes:\n",
    "    print(s)"
   ]
  },
  {
   "cell_type": "markdown",
   "id": "3923d112",
   "metadata": {},
   "source": [
    "How about adding/appending labels?"
   ]
  },
  {
   "cell_type": "code",
   "execution_count": null,
   "id": "85b01c60",
   "metadata": {
    "scrolled": true
   },
   "outputs": [],
   "source": [
    "cells.all_cells[0]._cell._arbor_labels"
   ]
  },
  {
   "cell_type": "code",
   "execution_count": null,
   "id": "2da34cd9",
   "metadata": {},
   "outputs": [],
   "source": [
    "cells.all_cells[0]._cell._arbor_labels[\"axon\"] = \"(tag 2)\"\n",
    "cells.all_cells[0]._cell._arbor_labels[\"dend\"] = \"(tag 3)\"\n",
    "cells.all_cells[0]._cell._arbor_labels[\"apic\"] = \"(tag 4)\"\n",
    "cells.all_cells[0]._cell._arbor_labels[\"all\"] = \"(all)\"\n",
    "cells.all_cells[0]._cell._arbor_labels[\"midpoint\"] = \"(location 0 0.5)\"\n",
    "  # Add a label for the parts of the morphology with radius greater than 1.5 μm.\n",
    "cells.all_cells[0]._cell._arbor_labels[\"gt_1.5\"] = '(radius-ge (region \"all\") 1.5)'\n",
    "  # Join regions \"apic\" and \"gt_1.5\"\n",
    "cells.all_cells[0]._cell._arbor_labels[\"custom\"] = '(join (region \"apic\") (region \"gt_1.5\"))'\n",
    "  # Add a labels for the root of the morphology and all the terminal points\n",
    "cells.all_cells[0]._cell._arbor_labels[\"root\"] = \"(root)\"\n",
    "cells.all_cells[0]._cell._arbor_labels[\"terminal\"] = \"(terminal)\"\n",
    "  # Add a label for the terminal locations in the \"custom\" region:\n",
    "cells.all_cells[0]._cell._arbor_labels[\"custom_terminal\"] = '(restrict (locset \"terminal\") (region \"custom\"))'\n",
    "  # Add a label for the terminal locations in the \"axon\" region:\n",
    "cells.all_cells[0]._cell._arbor_labels[\"axon_terminal\"] = '(restrict (locset \"terminal\") (region \"axon\"))'"
   ]
  },
  {
   "cell_type": "code",
   "execution_count": null,
   "id": "30e416ea",
   "metadata": {},
   "outputs": [],
   "source": [
    "cells.all_cells[0]._cell._arbor_labels"
   ]
  },
  {
   "cell_type": "code",
   "execution_count": null,
   "id": "00e6030c",
   "metadata": {},
   "outputs": [],
   "source": [
    "# (3) Create and set up a decor object\n",
    "decorX = arbor.decor()\n",
    "# Set the default properties of the cell (this overrides the model defaults).\n",
    "decorX.set_property(Vm=-55)\n",
    "decorX.set_ion(\"na\", int_con=10, ext_con=140, rev_pot=50, method=\"nernst/na\")\n",
    "decorX.set_ion(\"k\", int_con=54.4, ext_con=2.5, rev_pot=-77)\n",
    "# Override the cell defaults.\n",
    "decorX.paint('\"custom\"', tempK=270)\n",
    "decorX.paint('\"soma\"', Vm=-50)\n",
    "# Paint density mechanisms.\n",
    "decorX.paint('\"all\"', arbor.density(\"pas\"))\n",
    "decorX.paint('\"custom\"', arbor.density(\"hh\"))\n",
    "decorX.paint('\"dend\"', arbor.density(\"hh\", {\"gkbar\": 0.001}))\n",
    "# Place stimuli and detectors.\n",
    "decorX.place('\"root\"', arbor.iclamp(10, 1, current=2), \"iclamp0\")\n",
    "decorX.place('\"root\"', arbor.iclamp(30, 1, current=2), \"iclamp1\")\n",
    "decorX.place('\"root\"', arbor.iclamp(50, 1, current=2), \"iclamp2\")\n",
    "#decor.place('\"axon_terminal\"', arbor.threshold_detector(-10), \"detector\")\n",
    "decorX.place('\"axon_terminal\"', arbor.spike_detector(-10), \"detector\")\n",
    "\n",
    "#decorX.place('\"midpoint\"', arbor.iclamp( 10, 2, 0.8), \"iclamp\")\n",
    "#decorX.place('\"midpoint\"', arbor.spike_detector(-10), \"detector\")"
   ]
  },
  {
   "cell_type": "code",
   "execution_count": null,
   "id": "8c41c15e",
   "metadata": {},
   "outputs": [],
   "source": [
    "acX = arbor.cable_cell(cells.all_cells[0]._cell._arbor_morphology,\n",
    "                     cells.all_cells[0]._cell._arbor_labels,\n",
    "                     decorX)\n",
    "modX = arbor.single_cell_model(acX)\n",
    "modX.probe(\"voltage\", '\"axon_terminal\"', frequency=10)\n",
    "modX.run(tfinal=100, dt=0.025)\n",
    "print(len(modX.spikes), \"spikes recorded:\")\n",
    "for s in modX.spikes:\n",
    "    print(s)"
   ]
  },
  {
   "cell_type": "code",
   "execution_count": null,
   "id": "5ffe33a3",
   "metadata": {},
   "outputs": [],
   "source": [
    "pyplot.plot(modX.traces[0].time, modX.traces[0].value)"
   ]
  },
  {
   "cell_type": "code",
   "execution_count": null,
   "id": "41f154ae",
   "metadata": {},
   "outputs": [],
   "source": [
    "mod2.spikes"
   ]
  },
  {
   "cell_type": "code",
   "execution_count": null,
   "id": "507e8976",
   "metadata": {},
   "outputs": [],
   "source": [
    "mod1.spikes"
   ]
  },
  {
   "cell_type": "code",
   "execution_count": null,
   "id": "58703ab1",
   "metadata": {},
   "outputs": [],
   "source": [
    "modX.spikes"
   ]
  },
  {
   "cell_type": "code",
   "execution_count": null,
   "id": "1972938d",
   "metadata": {},
   "outputs": [],
   "source": [
    "pyplot.plot(modX.traces[0].time, modX.traces[0].value)"
   ]
  },
  {
   "cell_type": "code",
   "execution_count": 46,
   "id": "00c1b827",
   "metadata": {},
   "outputs": [
    {
     "data": {
      "text/plain": [
       "<pyNN.morphology.NeuroMLMorphology at 0x7f6794500760>"
      ]
     },
     "execution_count": 46,
     "metadata": {},
     "output_type": "execute_result"
    }
   ],
   "source": [
    "cells.all_cells[0]._cell.morphology"
   ]
  },
  {
   "cell_type": "code",
   "execution_count": 7,
   "id": "9eb8fd1a",
   "metadata": {},
   "outputs": [],
   "source": [
    "from pyNN.arbor.procedures.swc_tags_names import get_name, get_swc_tag"
   ]
  },
  {
   "cell_type": "code",
   "execution_count": 8,
   "id": "cf07241a",
   "metadata": {},
   "outputs": [
    {
     "name": "stdout",
     "output_type": "stream",
     "text": [
      "2 axon\n",
      "3 basal_dendrite\n",
      "4 apical_dendrite\n"
     ]
    }
   ],
   "source": [
    "for swc_tag, array_morph in cells.all_cells[0]._cell.morphology.section_groups.items():\n",
    "    print(swc_tag, get_name(swc_tag))"
   ]
  },
  {
   "cell_type": "code",
   "execution_count": 5,
   "id": "9e8e57e4",
   "metadata": {},
   "outputs": [
    {
     "data": {
      "text/plain": [
       "(label_dict (region  \"ionchnl_pas_in_all\" (all)) (region  \"everywhere\" (all)) (region  \"soma\" (tag 1)) (region  \"basal_dendrite\" (tag 3)) (region  \"apical_dendrite\" (tag 4)) (locset \"root\" (root)) (locset \"terminal\" (terminal)) (locset \"basal_dendrite_midpoint\" (restrict (on_branches 0.5) (tag 3))) (locset \"soma_midpoint\" (restrict (on_branches 0.5) (tag 1))) (locset \"apical_dendrite_midpoint\" (restrict (on_branches 0.5) (tag 4))))"
      ]
     },
     "execution_count": 5,
     "metadata": {},
     "output_type": "execute_result"
    }
   ],
   "source": [
    "cells.all_cells[0]._cell._arbor_labels"
   ]
  },
  {
   "cell_type": "code",
   "execution_count": 50,
   "id": "386c40d2",
   "metadata": {},
   "outputs": [],
   "source": [
    "from pyNN.arbor.procedures.step1 import CreateBackendSegments"
   ]
  },
  {
   "cell_type": "code",
   "execution_count": 51,
   "id": "df743429",
   "metadata": {},
   "outputs": [],
   "source": [
    "nmlmorph = CreateBackendSegments(cells.all_cells[0]._cell.morphology)"
   ]
  },
  {
   "cell_type": "code",
   "execution_count": 53,
   "id": "860a14c5",
   "metadata": {},
   "outputs": [
    {
     "name": "stdout",
     "output_type": "stream",
     "text": [
      "soma 1\n",
      "basal_dendrite 3\n",
      "basal_dendrite 3\n",
      "basal_dendrite 3\n",
      "basal_dendrite 3\n",
      "basal_dendrite 3\n",
      "basal_dendrite 3\n",
      "basal_dendrite 3\n",
      "apical_dendrite 4\n",
      "apical_dendrite 4\n",
      "apical_dendrite 4\n"
     ]
    }
   ],
   "source": [
    "for indx, nml_seg in enumerate(nmlmorph.backend_segments):\n",
    "    tag_no = get_swc_tag(nml_seg)\n",
    "    print(nml_seg.name, tag_no)"
   ]
  },
  {
   "cell_type": "code",
   "execution_count": 55,
   "id": "c8075c52",
   "metadata": {},
   "outputs": [
    {
     "name": "stdout",
     "output_type": "stream",
     "text": [
      "<Segment|1|soma>\n",
      "<Segment|2|basal_dendrite>\n",
      "<Segment|3|basal_dendrite>\n",
      "<Segment|4|basal_dendrite>\n",
      "<Segment|5|basal_dendrite>\n",
      "<Segment|6|basal_dendrite>\n",
      "<Segment|7|basal_dendrite>\n",
      "<Segment|8|basal_dendrite>\n",
      "<Segment|9|apical_dendrite>\n",
      "<Segment|10|apical_dendrite>\n",
      "<Segment|11|apical_dendrite>\n",
      "<Segment|12>\n",
      "<Segment|13>\n"
     ]
    }
   ],
   "source": [
    "for indx, nml_seg in enumerate(nmlmorph.segments):\n",
    "    print(nml_seg)"
   ]
  },
  {
   "cell_type": "code",
   "execution_count": 56,
   "id": "da1b5d47",
   "metadata": {},
   "outputs": [
    {
     "name": "stdout",
     "output_type": "stream",
     "text": [
      "2 axon\n",
      "3 basal_dendrite\n",
      "4 apical_dendrite\n"
     ]
    }
   ],
   "source": [
    "for swc_tag, array_morph in nmlmorph.section_groups.items():\n",
    "    print(swc_tag, get_name(swc_tag))"
   ]
  },
  {
   "cell_type": "code",
   "execution_count": 57,
   "id": "984bd41f",
   "metadata": {},
   "outputs": [
    {
     "data": {
      "text/plain": [
       "dict_keys([2, 3, 4])"
      ]
     },
     "execution_count": 57,
     "metadata": {},
     "output_type": "execute_result"
    }
   ],
   "source": [
    "nmlmorph.section_groups.keys()"
   ]
  },
  {
   "cell_type": "code",
   "execution_count": 59,
   "id": "fa5ad86d",
   "metadata": {},
   "outputs": [
    {
     "data": {
      "text/plain": [
       "{2: array([12, 13]), 3: array([2, 3, 4, 5, 6, 7, 8]), 4: array([ 9, 10, 11])}"
      ]
     },
     "execution_count": 59,
     "metadata": {},
     "output_type": "execute_result"
    }
   ],
   "source": [
    "nmlmorph.section_groups"
   ]
  },
  {
   "cell_type": "code",
   "execution_count": 63,
   "id": "96545913",
   "metadata": {},
   "outputs": [
    {
     "name": "stdout",
     "output_type": "stream",
     "text": [
      "2 [12 13]\n",
      "3 [2 3 4 5 6 7 8]\n",
      "4 [ 9 10 11]\n"
     ]
    }
   ],
   "source": [
    "for swc_tag, sect_group in nmlmorph.section_groups.items():\n",
    "    print(swc_tag, sect_group)"
   ]
  },
  {
   "cell_type": "code",
   "execution_count": 65,
   "id": "7128f86e",
   "metadata": {},
   "outputs": [
    {
     "data": {
      "text/plain": [
       "2"
      ]
     },
     "execution_count": 65,
     "metadata": {},
     "output_type": "execute_result"
    }
   ],
   "source": [
    "nmlmorph.section_groups[3][0]"
   ]
  },
  {
   "cell_type": "code",
   "execution_count": 66,
   "id": "6462ab18",
   "metadata": {},
   "outputs": [
    {
     "data": {
      "text/plain": [
       "<Segment|3|basal_dendrite>"
      ]
     },
     "execution_count": 66,
     "metadata": {},
     "output_type": "execute_result"
    }
   ],
   "source": [
    "nmlmorph.segments[nmlmorph.section_groups[3][0]]"
   ]
  },
  {
   "cell_type": "code",
   "execution_count": 68,
   "id": "b20a6331",
   "metadata": {},
   "outputs": [
    {
     "data": {
      "text/plain": [
       "dict_values([array([12, 13]), array([2, 3, 4, 5, 6, 7, 8]), array([ 9, 10, 11])])"
      ]
     },
     "execution_count": 68,
     "metadata": {},
     "output_type": "execute_result"
    }
   ],
   "source": [
    "nmlmorph.section_groups.values()"
   ]
  },
  {
   "cell_type": "code",
   "execution_count": 69,
   "id": "cc942a18",
   "metadata": {},
   "outputs": [
    {
     "name": "stdout",
     "output_type": "stream",
     "text": [
      "2\n"
     ]
    }
   ],
   "source": [
    "seg_id = 13\n",
    "for swc_tag in nmlmorph.section_groups.keys():\n",
    "    if seg_id in nmlmorph.section_groups[swc_tag]:\n",
    "        print(swc_tag)"
   ]
  },
  {
   "cell_type": "code",
   "execution_count": 70,
   "id": "8243c8cd",
   "metadata": {},
   "outputs": [
    {
     "name": "stdout",
     "output_type": "stream",
     "text": [
      "<Segment|1|soma>\n",
      "<Segment|2|basal_dendrite>\n",
      "<Segment|3|basal_dendrite>\n",
      "<Segment|4|basal_dendrite>\n",
      "<Segment|5|basal_dendrite>\n",
      "<Segment|6|basal_dendrite>\n",
      "<Segment|7|basal_dendrite>\n",
      "<Segment|8|basal_dendrite>\n",
      "<Segment|9|apical_dendrite>\n",
      "<Segment|10|apical_dendrite>\n",
      "<Segment|11|apical_dendrite>\n",
      "<Segment|12>\n",
      "<Segment|13>\n"
     ]
    }
   ],
   "source": [
    "for indx, nml_seg in enumerate(nmlmorph.segments):\n",
    "    print(nml_seg)"
   ]
  },
  {
   "cell_type": "code",
   "execution_count": 72,
   "id": "9e0ac9a7",
   "metadata": {},
   "outputs": [
    {
     "name": "stdout",
     "output_type": "stream",
     "text": [
      "Help on Segment in module neuroml.nml.nml object:\n",
      "\n",
      "class Segment(BaseNonNegativeIntegerId)\n",
      " |  Segment(neuro_lex_id=None, id=None, name=None, parent=None, proximal=None, distal=None, **kwargs_)\n",
      " |  \n",
      " |  Anything which can have a unique (within its parent) id, which must\n",
      " |  be an integer zero or greater.\n",
      " |  \n",
      " |  Method resolution order:\n",
      " |      Segment\n",
      " |      BaseNonNegativeIntegerId\n",
      " |      BaseWithoutId\n",
      " |      GeneratedsSuper\n",
      " |      builtins.object\n",
      " |  \n",
      " |  Methods defined here:\n",
      " |  \n",
      " |  __init__(self, neuro_lex_id=None, id=None, name=None, parent=None, proximal=None, distal=None, **kwargs_)\n",
      " |      Initialize self.  See help(type(self)) for accurate signature.\n",
      " |  \n",
      " |  __repr__(self)\n",
      " |      Return repr(self).\n",
      " |  \n",
      " |  __str__(self)\n",
      " |      Return str(self).\n",
      " |  \n",
      " |  build(self, node)\n",
      " |  \n",
      " |  buildAttributes(self, node, attrs, already_processed)\n",
      " |  \n",
      " |  buildChildren(self, child_, node, nodeName_, fromsubclass_=False)\n",
      " |  \n",
      " |  export(self, outfile, level, namespaceprefix_='', namespacedef_='', name_='Segment', pretty_print=True)\n",
      " |  \n",
      " |  exportAttributes(self, outfile, level, already_processed, namespaceprefix_='', name_='Segment')\n",
      " |  \n",
      " |  exportChildren(self, outfile, level, namespaceprefix_='', namespacedef_='', name_='Segment', fromsubclass_=False, pretty_print=True)\n",
      " |  \n",
      " |  hasContent_(self)\n",
      " |  \n",
      " |  ----------------------------------------------------------------------\n",
      " |  Static methods defined here:\n",
      " |  \n",
      " |  factory(*args_, **kwargs_)\n",
      " |  \n",
      " |  ----------------------------------------------------------------------\n",
      " |  Readonly properties defined here:\n",
      " |  \n",
      " |  length\n",
      " |  \n",
      " |  surface_area\n",
      " |  \n",
      " |  volume\n",
      " |  \n",
      " |  ----------------------------------------------------------------------\n",
      " |  Data and other attributes defined here:\n",
      " |  \n",
      " |  member_data_items_ = [<neuroml.nml.nml.MemberSpec_ object>, <neuroml.n...\n",
      " |  \n",
      " |  subclass = None\n",
      " |  \n",
      " |  superclass = <class 'neuroml.nml.nml.BaseNonNegativeIntegerId'>\n",
      " |      Anything which can have a unique (within its parent) id, which must\n",
      " |      be an integer zero or greater.\n",
      " |  \n",
      " |  ----------------------------------------------------------------------\n",
      " |  Methods inherited from BaseNonNegativeIntegerId:\n",
      " |  \n",
      " |  validate_NonNegativeInteger(self, value)\n",
      " |  \n",
      " |  ----------------------------------------------------------------------\n",
      " |  Methods inherited from BaseWithoutId:\n",
      " |  \n",
      " |  validate_NeuroLexId(self, value)\n",
      " |  \n",
      " |  ----------------------------------------------------------------------\n",
      " |  Data and other attributes inherited from BaseWithoutId:\n",
      " |  \n",
      " |  validate_NeuroLexId_patterns_ = [['^[a-zA-Z0-9_:]*$']]\n",
      " |  \n",
      " |  ----------------------------------------------------------------------\n",
      " |  Methods inherited from GeneratedsSuper:\n",
      " |  \n",
      " |  __eq__(self, other)\n",
      " |      Return self==value.\n",
      " |  \n",
      " |  __ne__(self, other)\n",
      " |      Return self!=value.\n",
      " |  \n",
      " |  gds_build_any(self, node, type_name=None)\n",
      " |  \n",
      " |  gds_format_base64(self, input_data, input_name='')\n",
      " |  \n",
      " |  gds_format_boolean(self, input_data, input_name='')\n",
      " |  \n",
      " |  gds_format_boolean_list(self, input_data, input_name='')\n",
      " |  \n",
      " |  gds_format_date(self, input_data, input_name='')\n",
      " |  \n",
      " |  gds_format_datetime(self, input_data, input_name='')\n",
      " |  \n",
      " |  gds_format_double(self, input_data, input_name='')\n",
      " |  \n",
      " |  gds_format_double_list(self, input_data, input_name='')\n",
      " |  \n",
      " |  gds_format_float(self, input_data, input_name='')\n",
      " |  \n",
      " |  gds_format_float_list(self, input_data, input_name='')\n",
      " |  \n",
      " |  gds_format_integer(self, input_data, input_name='')\n",
      " |  \n",
      " |  gds_format_integer_list(self, input_data, input_name='')\n",
      " |  \n",
      " |  gds_format_string(self, input_data, input_name='')\n",
      " |  \n",
      " |  gds_format_time(self, input_data, input_name='')\n",
      " |  \n",
      " |  gds_str_lower(self, instring)\n",
      " |  \n",
      " |  gds_validate_base64(self, input_data, node=None, input_name='')\n",
      " |  \n",
      " |  gds_validate_boolean(self, input_data, node=None, input_name='')\n",
      " |  \n",
      " |  gds_validate_boolean_list(self, input_data, node=None, input_name='')\n",
      " |  \n",
      " |  gds_validate_date(self, input_data, node=None, input_name='')\n",
      " |  \n",
      " |  gds_validate_datetime(self, input_data, node=None, input_name='')\n",
      " |  \n",
      " |  gds_validate_double(self, input_data, node=None, input_name='')\n",
      " |  \n",
      " |  gds_validate_double_list(self, input_data, node=None, input_name='')\n",
      " |  \n",
      " |  gds_validate_float(self, input_data, node=None, input_name='')\n",
      " |  \n",
      " |  gds_validate_float_list(self, input_data, node=None, input_name='')\n",
      " |  \n",
      " |  gds_validate_integer(self, input_data, node=None, input_name='')\n",
      " |  \n",
      " |  gds_validate_integer_list(self, input_data, node=None, input_name='')\n",
      " |  \n",
      " |  gds_validate_simple_patterns(self, patterns, target)\n",
      " |  \n",
      " |  gds_validate_string(self, input_data, node=None, input_name='')\n",
      " |  \n",
      " |  gds_validate_time(self, input_data, node=None, input_name='')\n",
      " |  \n",
      " |  get_class_obj_(self, node, default_class=None)\n",
      " |  \n",
      " |  get_path_(self, node)\n",
      " |  \n",
      " |  get_path_list_(self, node, path_list)\n",
      " |  \n",
      " |  ----------------------------------------------------------------------\n",
      " |  Class methods inherited from GeneratedsSuper:\n",
      " |  \n",
      " |  gds_parse_date(input_data) from builtins.type\n",
      " |  \n",
      " |  gds_parse_datetime(input_data) from builtins.type\n",
      " |  \n",
      " |  gds_parse_time(input_data) from builtins.type\n",
      " |  \n",
      " |  gds_reverse_node_mapping(mapping) from builtins.type\n",
      " |  \n",
      " |  ----------------------------------------------------------------------\n",
      " |  Static methods inherited from GeneratedsSuper:\n",
      " |  \n",
      " |  convert_unicode(instring)\n",
      " |  \n",
      " |  gds_encode(instring)\n",
      " |  \n",
      " |  ----------------------------------------------------------------------\n",
      " |  Data descriptors inherited from GeneratedsSuper:\n",
      " |  \n",
      " |  __dict__\n",
      " |      dictionary for instance variables (if defined)\n",
      " |  \n",
      " |  __weakref__\n",
      " |      list of weak references to the object (if defined)\n",
      " |  \n",
      " |  ----------------------------------------------------------------------\n",
      " |  Data and other attributes inherited from GeneratedsSuper:\n",
      " |  \n",
      " |  Tag_strip_pattern_ = re.compile('\\\\{.*\\\\}')\n",
      " |  \n",
      " |  __hash__ = None\n",
      " |  \n",
      " |  tzoff_pattern = re.compile('(\\\\+|-)((0\\\\d|1[0-3]):[0-5]\\\\d|14:00)$')\n",
      "\n"
     ]
    }
   ],
   "source": [
    "help(nmlmorph.segments[0])"
   ]
  },
  {
   "cell_type": "code",
   "execution_count": 75,
   "id": "9eb5c8f5",
   "metadata": {},
   "outputs": [
    {
     "data": {
      "text/plain": [
       "1"
      ]
     },
     "execution_count": 75,
     "metadata": {},
     "output_type": "execute_result"
    }
   ],
   "source": [
    "nmlmorph.segments[0].id"
   ]
  },
  {
   "cell_type": "code",
   "execution_count": 7,
   "id": "bfae1fab",
   "metadata": {},
   "outputs": [],
   "source": [
    "pyr_morph"
   ]
  },
  {
   "cell_type": "code",
   "execution_count": 4,
   "id": "831e831f",
   "metadata": {},
   "outputs": [],
   "source": [
    "from pyNN.arbor.procedures.swc_tags_names import extract_swc_tag_from_neuroml"
   ]
  },
  {
   "cell_type": "code",
   "execution_count": 6,
   "id": "5b1de3bc",
   "metadata": {},
   "outputs": [
    {
     "ename": "KeyError",
     "evalue": "None",
     "output_type": "error",
     "traceback": [
      "\u001b[0;31m---------------------------------------------------------------------------\u001b[0m",
      "\u001b[0;31mKeyError\u001b[0m                                  Traceback (most recent call last)",
      "\u001b[0;32m<ipython-input-6-a33a5137c306>\u001b[0m in \u001b[0;36m<module>\u001b[0;34m\u001b[0m\n\u001b[1;32m      1\u001b[0m \u001b[0;32mfor\u001b[0m \u001b[0mi\u001b[0m\u001b[0;34m,\u001b[0m \u001b[0mnml_seg\u001b[0m \u001b[0;32min\u001b[0m \u001b[0menumerate\u001b[0m\u001b[0;34m(\u001b[0m\u001b[0mpyr_morph\u001b[0m\u001b[0;34m.\u001b[0m\u001b[0msegments\u001b[0m\u001b[0;34m)\u001b[0m\u001b[0;34m:\u001b[0m\u001b[0;34m\u001b[0m\u001b[0;34m\u001b[0m\u001b[0m\n\u001b[0;32m----> 2\u001b[0;31m     \u001b[0mx\u001b[0m \u001b[0;34m=\u001b[0m \u001b[0mextract_swc_tag_from_neuroml\u001b[0m\u001b[0;34m(\u001b[0m\u001b[0mnml_seg\u001b[0m\u001b[0;34m.\u001b[0m\u001b[0mid\u001b[0m\u001b[0;34m,\u001b[0m \u001b[0mpyr_morph\u001b[0m\u001b[0;34m)\u001b[0m\u001b[0;34m\u001b[0m\u001b[0;34m\u001b[0m\u001b[0m\n\u001b[0m\u001b[1;32m      3\u001b[0m     \u001b[0mprint\u001b[0m\u001b[0;34m(\u001b[0m\u001b[0mx\u001b[0m\u001b[0;34m)\u001b[0m\u001b[0;34m\u001b[0m\u001b[0;34m\u001b[0m\u001b[0m\n",
      "\u001b[0;32m/envs/py3-pyNNarbor_latest/lib/python3.8/site-packages/pyNN/arbor/procedures/swc_tags_names.py\u001b[0m in \u001b[0;36mextract_swc_tag_from_neuroml\u001b[0;34m(seg_id_as_array_element, neuroml_morph)\u001b[0m\n\u001b[1;32m     54\u001b[0m     \u001b[0mswc_tag\u001b[0m \u001b[0;34m=\u001b[0m \u001b[0;32mNone\u001b[0m\u001b[0;34m\u001b[0m\u001b[0;34m\u001b[0m\u001b[0m\n\u001b[1;32m     55\u001b[0m     \u001b[0;32mfor\u001b[0m \u001b[0mky\u001b[0m \u001b[0;32min\u001b[0m \u001b[0mneuroml_morph\u001b[0m\u001b[0;34m.\u001b[0m\u001b[0msection_groups\u001b[0m\u001b[0;34m.\u001b[0m\u001b[0mkeys\u001b[0m\u001b[0;34m(\u001b[0m\u001b[0;34m)\u001b[0m\u001b[0;34m:\u001b[0m\u001b[0;34m\u001b[0m\u001b[0;34m\u001b[0m\u001b[0m\n\u001b[0;32m---> 56\u001b[0;31m         \u001b[0;32mif\u001b[0m \u001b[0mseg_id_as_array_element\u001b[0m \u001b[0;32min\u001b[0m \u001b[0mneuroml_morph\u001b[0m\u001b[0;34m.\u001b[0m\u001b[0msection_groups\u001b[0m\u001b[0;34m[\u001b[0m\u001b[0mswc_tag\u001b[0m\u001b[0;34m]\u001b[0m\u001b[0;34m:\u001b[0m\u001b[0;34m\u001b[0m\u001b[0;34m\u001b[0m\u001b[0m\n\u001b[0m\u001b[1;32m     57\u001b[0m             \u001b[0mswc_tag\u001b[0m \u001b[0;34m=\u001b[0m \u001b[0mky\u001b[0m\u001b[0;34m\u001b[0m\u001b[0;34m\u001b[0m\u001b[0m\n\u001b[1;32m     58\u001b[0m     \u001b[0;32mif\u001b[0m \u001b[0mswc_tag\u001b[0m \u001b[0;32mis\u001b[0m \u001b[0;32mNone\u001b[0m\u001b[0;34m:\u001b[0m\u001b[0;34m\u001b[0m\u001b[0;34m\u001b[0m\u001b[0m\n",
      "\u001b[0;31mKeyError\u001b[0m: None"
     ]
    }
   ],
   "source": [
    "for i, nml_seg in enumerate(pyr_morph.segments):\n",
    "    x = extract_swc_tag_from_neuroml(nml_seg.id, pyr_morph)\n",
    "    print(x)"
   ]
  },
  {
   "cell_type": "code",
   "execution_count": 7,
   "id": "1e3f7896",
   "metadata": {},
   "outputs": [
    {
     "name": "stdout",
     "output_type": "stream",
     "text": [
      "1\n",
      "2\n",
      "3\n",
      "4\n",
      "5\n",
      "6\n",
      "7\n",
      "8\n",
      "9\n",
      "10\n",
      "11\n",
      "12\n",
      "13\n"
     ]
    }
   ],
   "source": [
    "for i, nml_seg in enumerate(pyr_morph.segments):\n",
    "    print(nml_seg.id)"
   ]
  },
  {
   "cell_type": "code",
   "execution_count": 12,
   "id": "95d3f9ed",
   "metadata": {},
   "outputs": [
    {
     "name": "stdout",
     "output_type": "stream",
     "text": [
      "1\n"
     ]
    }
   ],
   "source": [
    "seg_id_as_array_element = 1\n",
    "\n",
    "swc_tag = None\n",
    "for ky in pyr_morph.section_groups.keys():\n",
    "    if seg_id_as_array_element in pyr_morph.section_groups[ky]:\n",
    "        swc_tag = ky\n",
    "if swc_tag is None:\n",
    "    print(1)\n",
    "else:\n",
    "    print(swc_tag)"
   ]
  },
  {
   "cell_type": "code",
   "execution_count": 10,
   "id": "89eb63ff",
   "metadata": {},
   "outputs": [],
   "source": [
    "from pyNN.arbor.procedures.swc_tags_names import extract_swc_tag_from_neuroml\n",
    "import re"
   ]
  },
  {
   "cell_type": "code",
   "execution_count": 11,
   "id": "b84401eb",
   "metadata": {},
   "outputs": [],
   "source": [
    "def create_region_definitions(neuroml_morphology):\n",
    "    # Arbor uses a domains specific language (DSL) to describe regions and locations, which are given labels.\n",
    "    dict_defs = {\"everywhere\": \"(all)\", \"root\": \"(root)\", \"terminal\": \"(terminal)\"}\n",
    "    for indx, nml_seg in enumerate(neuroml_morphology.backend_segments):\n",
    "        tag_no = extract_swc_tag_from_neuroml(nml_seg.id, neuroml_morphology)  # tag_no = get_swc_tag(nml_seg)\n",
    "        # print(nml_seg.name)\n",
    "        dict_defs.update({nml_seg.name: \"(tag \" + str(tag_no) + \")\"})\n",
    "        # (restrict (on-branches 0.5) (tag 3)) for spike detection and voltage probe for undefined locations\n",
    "        dict_defs.update({nml_seg.name + \"_midpoint\": \"(restrict (on-branches 0.5) (tag \" + str(tag_no) + \"))\"})\n",
    "        if re.search(\"axon\", nml_seg.name, re.IGNORECASE):\n",
    "            # \"axon_terminal\": '(restrict (locset \"terminal\") (region \"axon\"))'\n",
    "            dict_defs.update({nml_seg.name + \"_midpoint\":\n",
    "                                  \"(restrict (locset 'terminal') (region '\" + nml_seg.name + \"'))\"})\n",
    "    return dict_defs"
   ]
  },
  {
   "cell_type": "code",
   "execution_count": 12,
   "id": "3dcdd7ac",
   "metadata": {},
   "outputs": [],
   "source": [
    "nmlmorph = cells.all_cells[0]._cell.morphology"
   ]
  },
  {
   "cell_type": "code",
   "execution_count": 13,
   "id": "a454435f",
   "metadata": {},
   "outputs": [
    {
     "data": {
      "text/plain": [
       "{'everywhere': '(all)',\n",
       " 'root': '(root)',\n",
       " 'terminal': '(terminal)',\n",
       " 'soma': '(tag 1)',\n",
       " 'soma_midpoint': '(restrict (on-branches 0.5) (tag 1))',\n",
       " 'basal_dendrite': '(tag 3)',\n",
       " 'basal_dendrite_midpoint': '(restrict (on-branches 0.5) (tag 3))',\n",
       " 'apical_dendrite': '(tag 4)',\n",
       " 'apical_dendrite_midpoint': '(restrict (on-branches 0.5) (tag 4))'}"
      ]
     },
     "execution_count": 13,
     "metadata": {},
     "output_type": "execute_result"
    }
   ],
   "source": [
    "create_region_definitions(nmlmorph)"
   ]
  },
  {
   "cell_type": "code",
   "execution_count": 14,
   "id": "31f0d414",
   "metadata": {},
   "outputs": [
    {
     "name": "stdout",
     "output_type": "stream",
     "text": [
      "1 1\n",
      "2 3\n",
      "3 3\n",
      "4 3\n",
      "5 3\n",
      "6 3\n",
      "7 3\n",
      "8 3\n",
      "9 4\n",
      "10 4\n",
      "11 4\n"
     ]
    }
   ],
   "source": [
    "for indx, nml_seg in enumerate(nmlmorph.backend_segments):\n",
    "    print(nml_seg.id, extract_swc_tag_from_neuroml(nml_seg.id, nmlmorph))"
   ]
  },
  {
   "cell_type": "code",
   "execution_count": 15,
   "id": "dc9b3f6f",
   "metadata": {},
   "outputs": [
    {
     "data": {
      "text/plain": [
       "{2: array([12, 13]), 3: array([2, 3, 4, 5, 6, 7, 8]), 4: array([ 9, 10, 11])}"
      ]
     },
     "execution_count": 15,
     "metadata": {},
     "output_type": "execute_result"
    }
   ],
   "source": [
    "nmlmorph.section_groups"
   ]
  },
  {
   "cell_type": "code",
   "execution_count": 16,
   "id": "93995e0c",
   "metadata": {},
   "outputs": [
    {
     "name": "stdout",
     "output_type": "stream",
     "text": [
      "1 1\n",
      "2 3\n",
      "3 3\n",
      "4 3\n",
      "5 3\n",
      "6 3\n",
      "7 3\n",
      "8 3\n",
      "9 4\n",
      "10 4\n",
      "11 4\n",
      "12 2\n",
      "13 2\n"
     ]
    }
   ],
   "source": [
    "for indx, nml_seg in enumerate(nmlmorph.segments):\n",
    "    print(nml_seg.id, extract_swc_tag_from_neuroml(nml_seg.id, nmlmorph))"
   ]
  },
  {
   "cell_type": "code",
   "execution_count": 17,
   "id": "fd40696b",
   "metadata": {},
   "outputs": [
    {
     "data": {
      "text/plain": [
       "<arbor._arbor.segment_tree at 0x7fb0a1b19830>"
      ]
     },
     "execution_count": 17,
     "metadata": {},
     "output_type": "execute_result"
    }
   ],
   "source": [
    "cells.all_cells[0]._cell._arbor_tree"
   ]
  },
  {
   "cell_type": "code",
   "execution_count": 18,
   "id": "ab31eac2",
   "metadata": {},
   "outputs": [
    {
     "data": {
      "text/plain": [
       "((0.0, 0.0, 0.0), diam 2.0um, [(40.0, 0.0, 0.0), diam 2.0um], 1)"
      ]
     },
     "execution_count": 18,
     "metadata": {},
     "output_type": "execute_result"
    }
   ],
   "source": [
    "nmlmorph.segments[0].proximal, [nmlmorph.segments[0].distal], nmlmorph.segments[0].id "
   ]
  },
  {
   "cell_type": "code",
   "execution_count": 19,
   "id": "de9195c9",
   "metadata": {},
   "outputs": [
    {
     "name": "stdout",
     "output_type": "stream",
     "text": [
      "(0.0, 0.0, 0.0), diam 2.0um [(40.0, 0.0, 0.0), diam 2.0um] 1 1\n",
      "(40.0, 0.0, 0.0), diam 0.8um [(80.0, 0.0, 0.0), diam 0.8um] 2 3\n",
      "(80.0, 0.0, 0.0), diam 0.8um [(120.0, -5.0, 0.0), diam 0.8um] 3 3\n",
      "(120.0, -5.0, 0.0), diam 0.8um [(200.0, 40.0, 0.0), diam 0.4um] 4 3\n",
      "(200.0, 40.0, 0.0), diam 0.4um [(260.0, 60.0, 0.0), diam 0.2um] 5 3\n",
      "(120.0, -5.0, 0.0), diam 0.5um [(190.0, -30.0, 0.0), diam 0.5um] 6 3\n",
      "(190.0, -30.0, 0.0), diam 0.5um [(240.0, -70.0, 0.0), diam 0.2um] 7 3\n",
      "(190.0, -30.0, 0.0), diam 0.5um [(230.0, -10.0, 0.0), diam 0.2um] 8 3\n",
      "(230.0, -10.0, 0.0), diam 0.2um [(360.0, -20.0, 0.0), diam 0.2um] 9 4\n",
      "(0.0, 0.0, 0.0), diam 2.0um [(-70.0, 0.0, 0.0), diam 0.4um] 10 4\n",
      "(-70.0, 0.0, 0.0), diam 0.4um [(-100.0, 0.0, 0.0), diam 0.4um] 11 4\n",
      "(-70.0, 0.0, 0.0), diam 0.4000000059604645um [(0.0, 0.0, 0.0), diam 2.0um] 12 2\n",
      "(-100.0, 0.0, 0.0), diam 0.4000000059604645um [(-70.0, 0.0, 0.0), diam 0.4000000059604645um] 13 2\n"
     ]
    }
   ],
   "source": [
    "for i in range(len(nmlmorph.segments)):\n",
    "    print(nmlmorph.segments[i].proximal, [nmlmorph.segments[i].distal], nmlmorph.segments[i].id,\n",
    "          extract_swc_tag_from_neuroml(nmlmorph.segments[i].id, nmlmorph))"
   ]
  },
  {
   "cell_type": "code",
   "execution_count": 20,
   "id": "f9369b6e",
   "metadata": {},
   "outputs": [
    {
     "name": "stdout",
     "output_type": "stream",
     "text": [
      "(0.0, 0.0, 0.0), diam 2.0um [(40.0, 0.0, 0.0), diam 2.0um] 1 1\n",
      "(40.0, 0.0, 0.0), diam 0.8um [(80.0, 0.0, 0.0), diam 0.8um] 2 3\n",
      "(80.0, 0.0, 0.0), diam 0.8um [(120.0, -5.0, 0.0), diam 0.8um] 3 3\n",
      "(120.0, -5.0, 0.0), diam 0.8um [(200.0, 40.0, 0.0), diam 0.4um] 4 3\n",
      "(200.0, 40.0, 0.0), diam 0.4um [(260.0, 60.0, 0.0), diam 0.2um] 5 3\n",
      "(120.0, -5.0, 0.0), diam 0.5um [(190.0, -30.0, 0.0), diam 0.5um] 6 3\n",
      "(190.0, -30.0, 0.0), diam 0.5um [(240.0, -70.0, 0.0), diam 0.2um] 7 3\n",
      "(190.0, -30.0, 0.0), diam 0.5um [(230.0, -10.0, 0.0), diam 0.2um] 8 3\n",
      "(230.0, -10.0, 0.0), diam 0.2um [(360.0, -20.0, 0.0), diam 0.2um] 9 4\n",
      "(0.0, 0.0, 0.0), diam 2.0um [(-70.0, 0.0, 0.0), diam 0.4um] 10 4\n",
      "(-70.0, 0.0, 0.0), diam 0.4um [(-100.0, 0.0, 0.0), diam 0.4um] 11 4\n"
     ]
    }
   ],
   "source": [
    "for i in range(len(nmlmorph.backend_segments)):  # [1, 3, 3, 3, 3, 3, 3, 3, 4, 4, 2, 4, 2]\n",
    "    print(nmlmorph.backend_segments[i].proximal, [nmlmorph.backend_segments[i].distal], nmlmorph.backend_segments[i].id,\n",
    "          extract_swc_tag_from_neuroml(nmlmorph.backend_segments[i].id, nmlmorph))"
   ]
  },
  {
   "cell_type": "code",
   "execution_count": 21,
   "id": "4adbfe4c",
   "metadata": {},
   "outputs": [
    {
     "data": {
      "text/plain": [
       "<neuroml.arraymorph.SegmentList at 0x7fb0f9b0da60>"
      ]
     },
     "execution_count": 21,
     "metadata": {},
     "output_type": "execute_result"
    }
   ],
   "source": [
    "nmlmorph.segments"
   ]
  },
  {
   "cell_type": "code",
   "execution_count": 23,
   "id": "790f8f95",
   "metadata": {},
   "outputs": [
    {
     "data": {
      "text/plain": [
       "True"
      ]
     },
     "execution_count": 23,
     "metadata": {},
     "output_type": "execute_result"
    }
   ],
   "source": [
    "nmlmorph.backend_segments[0].distal == nmlmorph.segments[0].distal"
   ]
  },
  {
   "cell_type": "code",
   "execution_count": 24,
   "id": "f959f071",
   "metadata": {},
   "outputs": [
    {
     "name": "stdout",
     "output_type": "stream",
     "text": [
      "1 4\n"
     ]
    }
   ],
   "source": [
    "for indx, nml_seg in enumerate(nmlmorph.segments):\n",
    "    if nmlmorph.backend_segments[0].distal == nml_seg.distal:\n",
    "        print(nml_seg.id, extract_swc_tag_from_neuroml(nmlmorph.backend_segments[i].id, nmlmorph))"
   ]
  },
  {
   "cell_type": "code",
   "execution_count": 25,
   "id": "3bc1f6d3",
   "metadata": {},
   "outputs": [
    {
     "name": "stdout",
     "output_type": "stream",
     "text": [
      "1 1\n",
      "2 3\n",
      "3 3\n",
      "4 3\n",
      "5 3\n",
      "6 3\n",
      "7 3\n",
      "8 3\n",
      "9 4\n",
      "10 4\n",
      "13 2\n",
      "11 4\n"
     ]
    }
   ],
   "source": [
    "for i in range(11):\n",
    "    for indx, nml_seg in enumerate(nmlmorph.segments):\n",
    "        if nmlmorph.backend_segments[i].distal == nml_seg.distal:\n",
    "            print(nml_seg.id, extract_swc_tag_from_neuroml(nml_seg.id, nmlmorph))"
   ]
  },
  {
   "cell_type": "code",
   "execution_count": 26,
   "id": "3eb63867",
   "metadata": {},
   "outputs": [
    {
     "data": {
      "text/plain": [
       "(-100.0, 0.0, 0.0), diam 0.4um"
      ]
     },
     "execution_count": 26,
     "metadata": {},
     "output_type": "execute_result"
    }
   ],
   "source": [
    "nmlmorph.backend_segments[10].distal"
   ]
  },
  {
   "cell_type": "code",
   "execution_count": 27,
   "id": "07d00c71",
   "metadata": {},
   "outputs": [
    {
     "name": "stdout",
     "output_type": "stream",
     "text": [
      "11\n"
     ]
    }
   ],
   "source": [
    "for indx, nml_seg in enumerate(nmlmorph.segments):\n",
    "    if nmlmorph.backend_segments[i].distal == nml_seg.distal:\n",
    "        print(nml_seg.id)"
   ]
  },
  {
   "cell_type": "code",
   "execution_count": 35,
   "id": "620c0ef4",
   "metadata": {},
   "outputs": [
    {
     "data": {
      "text/plain": [
       "{'original_tagname_': None,\n",
       " 'parent_object_': None,\n",
       " 'x': -100.0,\n",
       " 'y': 0.0,\n",
       " 'z': 0.0,\n",
       " 'diameter': 0.4}"
      ]
     },
     "execution_count": 35,
     "metadata": {},
     "output_type": "execute_result"
    }
   ],
   "source": [
    "nmlmorph.backend_segments[10].distal.__dict__"
   ]
  },
  {
   "cell_type": "code",
   "execution_count": 36,
   "id": "e442c751",
   "metadata": {},
   "outputs": [
    {
     "name": "stdout",
     "output_type": "stream",
     "text": [
      "(0.0, 0.0, 0.0), diam 2.0um [(40.0, 0.0, 0.0), diam 2.0um] 1 1\n",
      "(40.0, 0.0, 0.0), diam 0.8um [(80.0, 0.0, 0.0), diam 0.8um] 2 3\n",
      "(80.0, 0.0, 0.0), diam 0.8um [(120.0, -5.0, 0.0), diam 0.8um] 3 3\n",
      "(120.0, -5.0, 0.0), diam 0.8um [(200.0, 40.0, 0.0), diam 0.4um] 4 3\n",
      "(200.0, 40.0, 0.0), diam 0.4um [(260.0, 60.0, 0.0), diam 0.2um] 5 3\n",
      "(120.0, -5.0, 0.0), diam 0.5um [(190.0, -30.0, 0.0), diam 0.5um] 6 3\n",
      "(190.0, -30.0, 0.0), diam 0.5um [(240.0, -70.0, 0.0), diam 0.2um] 7 3\n",
      "(190.0, -30.0, 0.0), diam 0.5um [(230.0, -10.0, 0.0), diam 0.2um] 8 3\n",
      "(230.0, -10.0, 0.0), diam 0.2um [(360.0, -20.0, 0.0), diam 0.2um] 9 4\n",
      "(0.0, 0.0, 0.0), diam 2.0um [(-70.0, 0.0, 0.0), diam 0.4um] 10 4\n",
      "(-70.0, 0.0, 0.0), diam 0.4um [(-100.0, 0.0, 0.0), diam 0.4um] 11 4\n",
      "(-70.0, 0.0, 0.0), diam 0.4000000059604645um [(0.0, 0.0, 0.0), diam 2.0um] 12 2\n",
      "(-100.0, 0.0, 0.0), diam 0.4000000059604645um [(-70.0, 0.0, 0.0), diam 0.4000000059604645um] 13 2\n"
     ]
    }
   ],
   "source": [
    "for i in range(len(pyr_morph.segments)):\n",
    "    print(pyr_morph.segments[i].proximal, [pyr_morph.segments[i].distal], pyr_morph.segments[i].id,\n",
    "          extract_swc_tag_from_neuroml(pyr_morph.segments[i].id, pyr_morph))"
   ]
  },
  {
   "cell_type": "code",
   "execution_count": 41,
   "id": "5bc22d71",
   "metadata": {},
   "outputs": [
    {
     "name": "stdout",
     "output_type": "stream",
     "text": [
      "1 (0.0, 0.0, 0.0), diam 2.0um [(40.0, 0.0, 0.0), diam 2.0um]\n",
      "2 (40.0, 0.0, 0.0), diam 0.8um [(80.0, 0.0, 0.0), diam 0.8um]\n",
      "3 (80.0, 0.0, 0.0), diam 0.8um [(120.0, -5.0, 0.0), diam 0.8um]\n",
      "4 (120.0, -5.0, 0.0), diam 0.8um [(200.0, 40.0, 0.0), diam 0.4um]\n",
      "5 (200.0, 40.0, 0.0), diam 0.4um [(260.0, 60.0, 0.0), diam 0.2um]\n",
      "6 (120.0, -5.0, 0.0), diam 0.5um [(190.0, -30.0, 0.0), diam 0.5um]\n",
      "7 (190.0, -30.0, 0.0), diam 0.5um [(240.0, -70.0, 0.0), diam 0.2um]\n",
      "8 (190.0, -30.0, 0.0), diam 0.5um [(230.0, -10.0, 0.0), diam 0.2um]\n",
      "9 (230.0, -10.0, 0.0), diam 0.2um [(360.0, -20.0, 0.0), diam 0.2um]\n",
      "10 (0.0, 0.0, 0.0), diam 2.0um [(-70.0, 0.0, 0.0), diam 0.4um]\n",
      "11 (-70.0, 0.0, 0.0), diam 0.4um [(-100.0, 0.0, 0.0), diam 0.4um]\n",
      "12 (-70.0, 0.0, 0.0), diam 0.4000000059604645um [(0.0, 0.0, 0.0), diam 2.0um]\n",
      "13 (-100.0, 0.0, 0.0), diam 0.4000000059604645um [(-70.0, 0.0, 0.0), diam 0.4000000059604645um]\n"
     ]
    }
   ],
   "source": [
    "for i in range(len(pyr_morph.segments)):\n",
    "    print(pyr_morph.segments[i].id, pyr_morph.segments[i].proximal, [pyr_morph.segments[i].distal])"
   ]
  },
  {
   "cell_type": "code",
   "execution_count": 43,
   "id": "2e329fad",
   "metadata": {},
   "outputs": [
    {
     "data": {
      "text/plain": [
       "{2: array([12, 13]), 3: array([2, 3, 4, 5, 6, 7, 8]), 4: array([ 9, 10, 11])}"
      ]
     },
     "execution_count": 43,
     "metadata": {},
     "output_type": "execute_result"
    }
   ],
   "source": [
    "pyr_morph.section_groups"
   ]
  },
  {
   "cell_type": "code",
   "execution_count": 42,
   "id": "1091250c",
   "metadata": {},
   "outputs": [
    {
     "name": "stdout",
     "output_type": "stream",
     "text": [
      "2 [12 13]\n",
      "3 [2 3 4 5 6 7 8]\n",
      "4 [ 9 10 11]\n"
     ]
    }
   ],
   "source": [
    "for swc_tag, sect_group in pyr_morph.section_groups.items():\n",
    "    print(swc_tag, sect_group)"
   ]
  },
  {
   "cell_type": "code",
   "execution_count": 44,
   "id": "57b80aa1",
   "metadata": {},
   "outputs": [
    {
     "name": "stdout",
     "output_type": "stream",
     "text": [
      "0 <Segment|1|soma>\n",
      "1 <Segment|2|basal_dendrite>\n",
      "2 <Segment|3|basal_dendrite>\n",
      "3 <Segment|4|basal_dendrite>\n",
      "4 <Segment|5|basal_dendrite>\n",
      "5 <Segment|6|basal_dendrite>\n",
      "6 <Segment|7|basal_dendrite>\n",
      "7 <Segment|8|basal_dendrite>\n",
      "8 <Segment|9|apical_dendrite>\n",
      "9 <Segment|10|apical_dendrite>\n",
      "10 <Segment|11|apical_dendrite>\n",
      "11 <Segment|12>\n",
      "12 <Segment|13>\n"
     ]
    }
   ],
   "source": [
    "for indx, nml_seg in enumerate(pyr_morph.segments):\n",
    "    print(indx, nml_seg)"
   ]
  },
  {
   "cell_type": "code",
   "execution_count": 45,
   "id": "82bcff0e",
   "metadata": {},
   "outputs": [],
   "source": [
    "arraymorph = pyr_morph._morphology"
   ]
  },
  {
   "cell_type": "code",
   "execution_count": 49,
   "id": "5f5b210f",
   "metadata": {},
   "outputs": [],
   "source": [
    "import numpy"
   ]
  },
  {
   "cell_type": "code",
   "execution_count": 54,
   "id": "08dd61dd",
   "metadata": {},
   "outputs": [],
   "source": [
    "def add_parent_id(parn, parn_dist, points_3d, points_root):\n",
    "    # M3.vertices[0][:3].shape[0] == M3.vertices[0][:3].size\n",
    "    if parn_dist.shape[0] == parn_dist.size:\n",
    "        if numpy.count_nonzero(parn_dist == points_3d) == 3:\n",
    "            k = 0\n",
    "            parn.append(k)\n",
    "    else:\n",
    "        # chk = (parn_dist == M3.vertices[i+1][:3]).all(axis=1)\n",
    "        chk = (parn_dist == points_3d).all(axis=1)\n",
    "        if numpy.count_nonzero(chk) != 0:\n",
    "            k = numpy.where((parn_dist == points_3d).all(1))[0][0]\n",
    "            parn.append(k)\n",
    "        elif numpy.count_nonzero(chk) == 0:\n",
    "            if numpy.count_nonzero(points_3d == points_root) == 3:\n",
    "                parn.append(None)\n",
    "    return parn\n",
    "\n",
    "def get_segments_info(arraymorph):  # SHOULD THIS ALSO BE IN morphology.py API?\n",
    "    #arraymorph = self.neuromlmorph._morphology # arraymorph = cls.morphology._morphology\n",
    "    # setup\n",
    "    prox = arraymorph.vertices[0]  # initialize array of proximal points of each segment\n",
    "    dist = arraymorph.vertices[1]  # initialize array of distal points of each segment\n",
    "    parn_dist = arraymorph.vertices[1][:3]  # initialize array of only distal 3D points for each segment\n",
    "    parn = [None]  # initialize array of parent id for each segment\n",
    "    for i in range(2, len(arraymorph.vertices) - 1):\n",
    "        if arraymorph.connectivity[i] < arraymorph.connectivity[i + 1]:\n",
    "            prox = numpy.vstack((prox, arraymorph.vertices[i]))  # creates column vector of m = no. of segments\n",
    "            dist = numpy.vstack((dist, arraymorph.vertices[i + 1]))  # ditto\n",
    "            parn = add_parent_id(parn, parn_dist, arraymorph.vertices[i][:3], prox[0, :3])  # appends list\n",
    "            parn_dist = numpy.vstack((parn_dist, arraymorph.vertices[i + 1][:3]))  # column vector of shape (m,)\n",
    "        elif arraymorph.connectivity[i] == arraymorph.connectivity[i + 1]:\n",
    "            j = i - 1\n",
    "            while arraymorph.connectivity[j] == arraymorph.connectivity[i + 1]:\n",
    "                j = j - 1\n",
    "            prox = numpy.vstack((prox, arraymorph.vertices[j]))\n",
    "            dist = numpy.vstack((dist, arraymorph.vertices[i + 1]))\n",
    "            parn = add_parent_id(parn, parn_dist, arraymorph.vertices[j][:3], prox[0, :3])\n",
    "            parn_dist = numpy.vstack((parn_dist, arraymorph.vertices[i + 1][:3]))\n",
    "        elif arraymorph.connectivity[i + 1] == 0:\n",
    "            j = arraymorph.connectivity[i + 1]\n",
    "            prox = numpy.vstack((prox, arraymorph.vertices[j]))\n",
    "            dist = numpy.vstack((dist, arraymorph.vertices[i + 1]))\n",
    "            parn = add_parent_id(parn, parn_dist, arraymorph.vertices[j][:3], prox[0, :3])\n",
    "            parn_dist = numpy.vstack((parn_dist, arraymorph.vertices[i + 1][:3]))\n",
    "    return prox, dist, parn  # all three arrays must have same length"
   ]
  },
  {
   "cell_type": "code",
   "execution_count": 55,
   "id": "4add1317",
   "metadata": {},
   "outputs": [],
   "source": [
    "p, d, pr = get_segments_info(arraymorph)"
   ]
  },
  {
   "cell_type": "code",
   "execution_count": 56,
   "id": "78167bed",
   "metadata": {},
   "outputs": [
    {
     "data": {
      "text/plain": [
       "array([[ 0.0e+00,  0.0e+00,  0.0e+00,  2.0e+00],\n",
       "       [ 4.0e+01,  0.0e+00,  0.0e+00,  8.0e-01],\n",
       "       [ 8.0e+01,  0.0e+00,  0.0e+00,  8.0e-01],\n",
       "       [ 1.2e+02, -5.0e+00,  0.0e+00,  8.0e-01],\n",
       "       [ 2.0e+02,  4.0e+01,  0.0e+00,  4.0e-01],\n",
       "       [ 1.2e+02, -5.0e+00,  0.0e+00,  5.0e-01],\n",
       "       [ 1.9e+02, -3.0e+01,  0.0e+00,  5.0e-01],\n",
       "       [ 1.9e+02, -3.0e+01,  0.0e+00,  5.0e-01],\n",
       "       [ 2.3e+02, -1.0e+01,  0.0e+00,  2.0e-01],\n",
       "       [ 0.0e+00,  0.0e+00,  0.0e+00,  2.0e+00],\n",
       "       [-7.0e+01,  0.0e+00,  0.0e+00,  4.0e-01]], dtype=float32)"
      ]
     },
     "execution_count": 56,
     "metadata": {},
     "output_type": "execute_result"
    }
   ],
   "source": [
    "p"
   ]
  },
  {
   "cell_type": "code",
   "execution_count": 57,
   "id": "4fd2bd66",
   "metadata": {},
   "outputs": [
    {
     "data": {
      "text/plain": [
       "[None, 0, 1, 2, 3, 2, 5, 5, 7, None, 9]"
      ]
     },
     "execution_count": 57,
     "metadata": {},
     "output_type": "execute_result"
    }
   ],
   "source": [
    "pr"
   ]
  },
  {
   "cell_type": "code",
   "execution_count": 58,
   "id": "00668600",
   "metadata": {},
   "outputs": [
    {
     "data": {
      "text/plain": [
       "array([0., 0., 0., 2.], dtype=float32)"
      ]
     },
     "execution_count": 58,
     "metadata": {},
     "output_type": "execute_result"
    }
   ],
   "source": [
    "arraymorph.vertices[0]"
   ]
  },
  {
   "cell_type": "code",
   "execution_count": 67,
   "id": "175c08c1",
   "metadata": {},
   "outputs": [
    {
     "data": {
      "text/plain": [
       "-1"
      ]
     },
     "execution_count": 67,
     "metadata": {},
     "output_type": "execute_result"
    }
   ],
   "source": [
    "arraymorph.connectivity[0]"
   ]
  },
  {
   "cell_type": "code",
   "execution_count": 74,
   "id": "0baf4733",
   "metadata": {},
   "outputs": [
    {
     "ename": "AttributeError",
     "evalue": "'ArrayMorphology' object has no attribute 'tag'",
     "output_type": "error",
     "traceback": [
      "\u001b[0;31m---------------------------------------------------------------------------\u001b[0m",
      "\u001b[0;31mAttributeError\u001b[0m                            Traceback (most recent call last)",
      "\u001b[0;32m<ipython-input-74-6a5262d81609>\u001b[0m in \u001b[0;36m<module>\u001b[0;34m\u001b[0m\n\u001b[0;32m----> 1\u001b[0;31m \u001b[0marraymorph\u001b[0m\u001b[0;34m.\u001b[0m\u001b[0mtag\u001b[0m\u001b[0;34m\u001b[0m\u001b[0;34m\u001b[0m\u001b[0m\n\u001b[0m",
      "\u001b[0;31mAttributeError\u001b[0m: 'ArrayMorphology' object has no attribute 'tag'"
     ]
    }
   ],
   "source": [
    "arraymorph."
   ]
  },
  {
   "cell_type": "code",
   "execution_count": 62,
   "id": "66e57a0a",
   "metadata": {},
   "outputs": [
    {
     "data": {
      "text/plain": [
       "array([40.,  0.,  0.,  2.], dtype=float32)"
      ]
     },
     "execution_count": 62,
     "metadata": {},
     "output_type": "execute_result"
    }
   ],
   "source": [
    "arraymorph.vertices[1]"
   ]
  },
  {
   "cell_type": "code",
   "execution_count": 76,
   "id": "7a367eba",
   "metadata": {},
   "outputs": [
    {
     "name": "stdout",
     "output_type": "stream",
     "text": [
      "All index value of 3 is:  (array([2, 7]),)\n"
     ]
    }
   ],
   "source": [
    "a = numpy.array([1, 2, 3, 4, 8, 6, 7, 3, 9, 10])\n",
    " \n",
    "# display index value of 3\n",
    "print(\"All index value of 3 is: \", numpy.where(a == 3))"
   ]
  },
  {
   "cell_type": "code",
   "execution_count": 77,
   "id": "7c75e594",
   "metadata": {},
   "outputs": [
    {
     "data": {
      "text/plain": [
       "array([[ 0.0e+00,  0.0e+00,  0.0e+00,  2.0e+00],\n",
       "       [ 4.0e+01,  0.0e+00,  0.0e+00,  8.0e-01],\n",
       "       [ 8.0e+01,  0.0e+00,  0.0e+00,  8.0e-01],\n",
       "       [ 1.2e+02, -5.0e+00,  0.0e+00,  8.0e-01],\n",
       "       [ 2.0e+02,  4.0e+01,  0.0e+00,  4.0e-01],\n",
       "       [ 1.2e+02, -5.0e+00,  0.0e+00,  5.0e-01],\n",
       "       [ 1.9e+02, -3.0e+01,  0.0e+00,  5.0e-01],\n",
       "       [ 1.9e+02, -3.0e+01,  0.0e+00,  5.0e-01],\n",
       "       [ 2.3e+02, -1.0e+01,  0.0e+00,  2.0e-01],\n",
       "       [ 0.0e+00,  0.0e+00,  0.0e+00,  2.0e+00],\n",
       "       [-7.0e+01,  0.0e+00,  0.0e+00,  4.0e-01]], dtype=float32)"
      ]
     },
     "execution_count": 77,
     "metadata": {},
     "output_type": "execute_result"
    }
   ],
   "source": [
    "p"
   ]
  },
  {
   "cell_type": "code",
   "execution_count": 78,
   "id": "c14e8535",
   "metadata": {},
   "outputs": [
    {
     "data": {
      "text/plain": [
       "11"
      ]
     },
     "execution_count": 78,
     "metadata": {},
     "output_type": "execute_result"
    }
   ],
   "source": [
    "len(p)"
   ]
  },
  {
   "cell_type": "code",
   "execution_count": 79,
   "id": "d5be68e2",
   "metadata": {},
   "outputs": [
    {
     "name": "stdout",
     "output_type": "stream",
     "text": [
      "0 <Segment|1|soma>\n",
      "1 <Segment|2|basal_dendrite>\n",
      "2 <Segment|3|basal_dendrite>\n",
      "3 <Segment|4|basal_dendrite>\n",
      "4 <Segment|5|basal_dendrite>\n",
      "5 <Segment|6|basal_dendrite>\n",
      "6 <Segment|7|basal_dendrite>\n",
      "7 <Segment|8|basal_dendrite>\n",
      "8 <Segment|9|apical_dendrite>\n",
      "9 <Segment|10|apical_dendrite>\n",
      "10 <Segment|11|apical_dendrite>\n",
      "11 <Segment|12>\n",
      "12 <Segment|13>\n"
     ]
    }
   ],
   "source": [
    "for indx, nml_seg in enumerate(pyr_morph.segments):\n",
    "    print(indx, nml_seg)"
   ]
  },
  {
   "cell_type": "code",
   "execution_count": 80,
   "id": "1d8ea8c8",
   "metadata": {},
   "outputs": [
    {
     "data": {
      "text/plain": [
       "<Segment|1|soma>"
      ]
     },
     "execution_count": 80,
     "metadata": {},
     "output_type": "execute_result"
    }
   ],
   "source": [
    "pyr_morph.segments[0]"
   ]
  },
  {
   "cell_type": "code",
   "execution_count": 81,
   "id": "5f375280",
   "metadata": {},
   "outputs": [
    {
     "data": {
      "text/plain": [
       "(0.0, 0.0, 0.0), diam 2.0um"
      ]
     },
     "execution_count": 81,
     "metadata": {},
     "output_type": "execute_result"
    }
   ],
   "source": [
    "pyr_morph.segments[0].proximal"
   ]
  },
  {
   "cell_type": "code",
   "execution_count": 82,
   "id": "4e9563b7",
   "metadata": {},
   "outputs": [
    {
     "data": {
      "text/plain": [
       "0.0"
      ]
     },
     "execution_count": 82,
     "metadata": {},
     "output_type": "execute_result"
    }
   ],
   "source": [
    "pyr_morph.segments[0].proximal.x"
   ]
  },
  {
   "cell_type": "code",
   "execution_count": 83,
   "id": "35dffd39",
   "metadata": {},
   "outputs": [
    {
     "data": {
      "text/plain": [
       "array([0., 0., 0., 2.], dtype=float32)"
      ]
     },
     "execution_count": 83,
     "metadata": {},
     "output_type": "execute_result"
    }
   ],
   "source": [
    "p[0]"
   ]
  },
  {
   "cell_type": "code",
   "execution_count": 89,
   "id": "012e71a4",
   "metadata": {},
   "outputs": [
    {
     "data": {
      "text/plain": [
       "array([0., 0., 0.], dtype=float32)"
      ]
     },
     "execution_count": 89,
     "metadata": {},
     "output_type": "execute_result"
    }
   ],
   "source": [
    "numpy.array([pyr_morph.segments[0].proximal.x, pyr_morph.segments[0].proximal.y, pyr_morph.segments[0].proximal.z])"
   ]
  },
  {
   "cell_type": "code",
   "execution_count": 91,
   "id": "f2741b38",
   "metadata": {},
   "outputs": [
    {
     "data": {
      "text/plain": [
       "2.0"
      ]
     },
     "execution_count": 91,
     "metadata": {},
     "output_type": "execute_result"
    }
   ],
   "source": [
    "p[0][3]"
   ]
  },
  {
   "cell_type": "code",
   "execution_count": 93,
   "id": "2a6b633e",
   "metadata": {},
   "outputs": [
    {
     "data": {
      "text/plain": [
       "2.0"
      ]
     },
     "execution_count": 93,
     "metadata": {},
     "output_type": "execute_result"
    }
   ],
   "source": [
    "pyr_morph.segments[0].proximal.diameter"
   ]
  },
  {
   "cell_type": "code",
   "execution_count": 94,
   "id": "91178ab8",
   "metadata": {},
   "outputs": [
    {
     "name": "stdout",
     "output_type": "stream",
     "text": [
      "equal\n"
     ]
    }
   ],
   "source": [
    "if [1,2,3]==[1,2,3] and [3,4,5]==[3,4,5]:\n",
    "    print(\"equal\")"
   ]
  },
  {
   "cell_type": "code",
   "execution_count": 95,
   "id": "a47384f1",
   "metadata": {},
   "outputs": [],
   "source": [
    "a = []"
   ]
  },
  {
   "cell_type": "code",
   "execution_count": 96,
   "id": "7e87b3b7",
   "metadata": {},
   "outputs": [],
   "source": [
    "a.append(1)"
   ]
  },
  {
   "cell_type": "code",
   "execution_count": 97,
   "id": "d8ff9754",
   "metadata": {},
   "outputs": [
    {
     "data": {
      "text/plain": [
       "[1]"
      ]
     },
     "execution_count": 97,
     "metadata": {},
     "output_type": "execute_result"
    }
   ],
   "source": [
    "a"
   ]
  },
  {
   "cell_type": "code",
   "execution_count": 98,
   "id": "7b87ee2f",
   "metadata": {},
   "outputs": [],
   "source": [
    "def assign_tag(neuromlmorph, proxarray, distarray):\n",
    "    tagarray = []\n",
    "    for i in range(len(proxarray)):  # Both Arrays have same size\n",
    "        prox = proxarray[i]\n",
    "        x = prox[0]\n",
    "        dist = distarray[i]\n",
    "        for indx, nml_seg in enumerate(neuromlmorph.segments):\n",
    "            if [prox[0], prox[1], prox[2], prox[3]] == \\\n",
    "                    [nml_seg.distal.x, nml_seg.distal.y, nml_seg.distal.z, nml_seg.distal.diameter] \\\n",
    "                    and \\\n",
    "                    [dist[0], dist[1], dist[2], dist[3]] == \\\n",
    "                    [nml_seg.proximal.x, nml_seg.proximal.y, nml_seg.proximal.z, nml_seg.proximal.diameter]:\n",
    "                tagarray.append(extract_swc_tag_from_neuroml(nml_seg.id, neuromlmorph))\n",
    "            elif [prox[0], prox[1], prox[2], prox[3]] == \\\n",
    "                    [nml_seg.proximal.x, nml_seg.proximal.y, nml_seg.proximal.z, nml_seg.proximal.diameter] \\\n",
    "                    and \\\n",
    "                    [dist[0], dist[1], dist[2], dist[3]] == \\\n",
    "                    [nml_seg.distal.x, nml_seg.distal.y, nml_seg.distal.z, nml_seg.distal.diameter]:\n",
    "                tagarray.append(extract_swc_tag_from_neuroml(nml_seg.id, neuromlmorph))\n",
    "    return tagarray"
   ]
  },
  {
   "cell_type": "code",
   "execution_count": 100,
   "id": "181cc47d",
   "metadata": {},
   "outputs": [
    {
     "data": {
      "text/plain": [
       "[1, 3, 3, 3, 3, 3, 3, 3, 4, 4, 2, 4, 2]"
      ]
     },
     "execution_count": 100,
     "metadata": {},
     "output_type": "execute_result"
    }
   ],
   "source": [
    "assign_tag(pyr_morph, p, d)"
   ]
  },
  {
   "cell_type": "code",
   "execution_count": 108,
   "id": "c3573ca0",
   "metadata": {},
   "outputs": [
    {
     "data": {
      "text/plain": [
       "array([[ 0.0e+00,  0.0e+00,  0.0e+00,  2.0e+00],\n",
       "       [ 4.0e+01,  0.0e+00,  0.0e+00,  8.0e-01],\n",
       "       [ 8.0e+01,  0.0e+00,  0.0e+00,  8.0e-01],\n",
       "       [ 1.2e+02, -5.0e+00,  0.0e+00,  8.0e-01],\n",
       "       [ 2.0e+02,  4.0e+01,  0.0e+00,  4.0e-01],\n",
       "       [ 1.2e+02, -5.0e+00,  0.0e+00,  5.0e-01],\n",
       "       [ 1.9e+02, -3.0e+01,  0.0e+00,  5.0e-01],\n",
       "       [ 1.9e+02, -3.0e+01,  0.0e+00,  5.0e-01],\n",
       "       [ 2.3e+02, -1.0e+01,  0.0e+00,  2.0e-01],\n",
       "       [ 0.0e+00,  0.0e+00,  0.0e+00,  2.0e+00],\n",
       "       [-7.0e+01,  0.0e+00,  0.0e+00,  4.0e-01]], dtype=float32)"
      ]
     },
     "execution_count": 108,
     "metadata": {},
     "output_type": "execute_result"
    }
   ],
   "source": [
    "p"
   ]
  },
  {
   "cell_type": "code",
   "execution_count": 107,
   "id": "dbcbad88",
   "metadata": {},
   "outputs": [
    {
     "name": "stdout",
     "output_type": "stream",
     "text": [
      "(0.0, 0.0, 0.0), diam 2.0um [(40.0, 0.0, 0.0), diam 2.0um] 1 1\n",
      "(40.0, 0.0, 0.0), diam 0.8um [(80.0, 0.0, 0.0), diam 0.8um] 2 3\n",
      "(80.0, 0.0, 0.0), diam 0.8um [(120.0, -5.0, 0.0), diam 0.8um] 3 3\n",
      "(120.0, -5.0, 0.0), diam 0.8um [(200.0, 40.0, 0.0), diam 0.4um] 4 3\n",
      "(200.0, 40.0, 0.0), diam 0.4um [(260.0, 60.0, 0.0), diam 0.2um] 5 3\n",
      "(120.0, -5.0, 0.0), diam 0.5um [(190.0, -30.0, 0.0), diam 0.5um] 6 3\n",
      "(190.0, -30.0, 0.0), diam 0.5um [(240.0, -70.0, 0.0), diam 0.2um] 7 3\n",
      "(190.0, -30.0, 0.0), diam 0.5um [(230.0, -10.0, 0.0), diam 0.2um] 8 3\n",
      "(230.0, -10.0, 0.0), diam 0.2um [(360.0, -20.0, 0.0), diam 0.2um] 9 4\n",
      "(0.0, 0.0, 0.0), diam 2.0um [(-70.0, 0.0, 0.0), diam 0.4um] 10 4\n",
      "(-70.0, 0.0, 0.0), diam 0.4um [(-100.0, 0.0, 0.0), diam 0.4um] 11 4\n",
      "(-70.0, 0.0, 0.0), diam 0.4000000059604645um [(0.0, 0.0, 0.0), diam 2.0um] 12 2\n",
      "(-100.0, 0.0, 0.0), diam 0.4000000059604645um [(-70.0, 0.0, 0.0), diam 0.4000000059604645um] 13 2\n"
     ]
    }
   ],
   "source": [
    "for i in range(len(pyr_morph.segments)): # [1, 3, 3, 3, 3, 3, 3, 3, 4, 4, 2, 4, 2]\n",
    "    print(pyr_morph.segments[i].proximal, [pyr_morph.segments[i].distal], pyr_morph.segments[i].id,\n",
    "          extract_swc_tag_from_neuroml(pyr_morph.segments[i].id, pyr_morph))"
   ]
  },
  {
   "cell_type": "code",
   "execution_count": 109,
   "id": "ef091e2f",
   "metadata": {},
   "outputs": [
    {
     "data": {
      "text/plain": [
       "array([[ 4.0e+01,  0.0e+00,  0.0e+00,  2.0e+00],\n",
       "       [ 8.0e+01,  0.0e+00,  0.0e+00,  8.0e-01],\n",
       "       [ 1.2e+02, -5.0e+00,  0.0e+00,  8.0e-01],\n",
       "       [ 2.0e+02,  4.0e+01,  0.0e+00,  4.0e-01],\n",
       "       [ 2.6e+02,  6.0e+01,  0.0e+00,  2.0e-01],\n",
       "       [ 1.9e+02, -3.0e+01,  0.0e+00,  5.0e-01],\n",
       "       [ 2.4e+02, -7.0e+01,  0.0e+00,  2.0e-01],\n",
       "       [ 2.3e+02, -1.0e+01,  0.0e+00,  2.0e-01],\n",
       "       [ 3.6e+02, -2.0e+01,  0.0e+00,  2.0e-01],\n",
       "       [-7.0e+01,  0.0e+00,  0.0e+00,  4.0e-01],\n",
       "       [-1.0e+02,  0.0e+00,  0.0e+00,  4.0e-01]], dtype=float32)"
      ]
     },
     "execution_count": 109,
     "metadata": {},
     "output_type": "execute_result"
    }
   ],
   "source": [
    "d"
   ]
  },
  {
   "cell_type": "code",
   "execution_count": 110,
   "id": "41f16665",
   "metadata": {},
   "outputs": [
    {
     "data": {
      "text/plain": [
       "{2: array([12, 13]), 3: array([2, 3, 4, 5, 6, 7, 8]), 4: array([ 9, 10, 11])}"
      ]
     },
     "execution_count": 110,
     "metadata": {},
     "output_type": "execute_result"
    }
   ],
   "source": [
    "pyr_morph.section_groups"
   ]
  },
  {
   "cell_type": "code",
   "execution_count": null,
   "id": "ef3a9859",
   "metadata": {},
   "outputs": [],
   "source": []
  }
 ],
 "metadata": {
  "kernelspec": {
   "display_name": "Python 3",
   "language": "python",
   "name": "python3"
  },
  "language_info": {
   "codemirror_mode": {
    "name": "ipython",
    "version": 3
   },
   "file_extension": ".py",
   "mimetype": "text/x-python",
   "name": "python",
   "nbconvert_exporter": "python",
   "pygments_lexer": "ipython3",
   "version": "3.8.2"
  }
 },
 "nbformat": 4,
 "nbformat_minor": 5
}
