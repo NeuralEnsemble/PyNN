{
 "cells": [
  {
   "cell_type": "code",
   "execution_count": 3,
   "metadata": {},
   "outputs": [],
   "source": [
    "import neuroml"
   ]
  },
  {
   "cell_type": "code",
   "execution_count": 4,
   "metadata": {},
   "outputs": [
    {
     "ename": "AttributeError",
     "evalue": "module 'neuroml' has no attribute 'loaders'",
     "output_type": "error",
     "traceback": [
      "\u001b[0;31m---------------------------------------------------------------------------\u001b[0m",
      "\u001b[0;31mAttributeError\u001b[0m                            Traceback (most recent call last)",
      "\u001b[0;32m<ipython-input-4-de1f05e1337a>\u001b[0m in \u001b[0;36m<module>\u001b[0;34m\u001b[0m\n\u001b[0;32m----> 1\u001b[0;31m \u001b[0mneuroml\u001b[0m\u001b[0;34m.\u001b[0m\u001b[0mloaders\u001b[0m\u001b[0;34m.\u001b[0m\u001b[0mSWCLoader\u001b[0m\u001b[0;34m.\u001b[0m\u001b[0mload_swc_single\u001b[0m\u001b[0;34m(\u001b[0m\u001b[0;34m\"example.swc\"\u001b[0m\u001b[0;34m)\u001b[0m\u001b[0;34m\u001b[0m\u001b[0;34m\u001b[0m\u001b[0m\n\u001b[0m",
      "\u001b[0;31mAttributeError\u001b[0m: module 'neuroml' has no attribute 'loaders'"
     ]
    }
   ],
   "source": [
    "neuroml.loaders.SWCLoader.load_swc_single(\"example.swc\")"
   ]
  },
  {
   "cell_type": "code",
   "execution_count": null,
   "metadata": {},
   "outputs": [],
   "source": [
    "neuroml."
   ]
  },
  {
   "cell_type": "markdown",
   "metadata": {},
   "source": [
    "https://pyneuroml.readthedocs.io/en/development/"
   ]
  },
  {
   "cell_type": "code",
   "execution_count": null,
   "metadata": {},
   "outputs": [],
   "source": [
    "import neuroml.loader"
   ]
  },
  {
   "cell_type": "code",
   "execution_count": null,
   "metadata": {},
   "outputs": [],
   "source": [
    "from pyNN.morphology import NeuroMLMorphology, uniform\n",
    "from neuroml import Morphology, Segment, Point3DWithDiam as P\n",
    "from pyNN.morphology import load_morphology, uniform, random_section, dendrites, apical_dendrites, by_distance"
   ]
  },
  {
   "cell_type": "code",
   "execution_count": 1,
   "metadata": {},
   "outputs": [],
   "source": [
    "import neuroml\n",
    "from pyNN.morphology import NeuroMLMorphology"
   ]
  },
  {
   "cell_type": "code",
   "execution_count": 2,
   "metadata": {},
   "outputs": [
    {
     "data": {
      "text/plain": [
       "<neuroml.arraymorph.ArrayMorphology at 0x7f468ce65640>"
      ]
     },
     "execution_count": 2,
     "metadata": {},
     "output_type": "execute_result"
    }
   ],
   "source": [
    "neuroml.loaders.SWCLoader.load_swc_single(\"example.swc\")"
   ]
  },
  {
   "cell_type": "code",
   "execution_count": 3,
   "metadata": {},
   "outputs": [
    {
     "data": {
      "text/plain": [
       "<module 'neuroml.loaders' from '/envs/py3-pyNNarbor/lib/python3.8/site-packages/neuroml/loaders.py'>"
      ]
     },
     "execution_count": 3,
     "metadata": {},
     "output_type": "execute_result"
    }
   ],
   "source": [
    "neuroml.loaders"
   ]
  },
  {
   "cell_type": "code",
   "execution_count": 4,
   "metadata": {},
   "outputs": [],
   "source": [
    "m = neuroml.loaders.SWCLoader.load_swc_single(\"example.swc\")"
   ]
  },
  {
   "cell_type": "code",
   "execution_count": 5,
   "metadata": {},
   "outputs": [
    {
     "data": {
      "text/plain": [
       "neuroml.arraymorph.ArrayMorphology"
      ]
     },
     "execution_count": 5,
     "metadata": {},
     "output_type": "execute_result"
    }
   ],
   "source": [
    "type(m)"
   ]
  },
  {
   "cell_type": "code",
   "execution_count": 1,
   "metadata": {},
   "outputs": [],
   "source": [
    "import neuroml.loaders as loaders"
   ]
  },
  {
   "cell_type": "code",
   "execution_count": 2,
   "metadata": {},
   "outputs": [
    {
     "data": {
      "text/plain": [
       "<neuroml.arraymorph.ArrayMorphology at 0x7f71942e4220>"
      ]
     },
     "execution_count": 2,
     "metadata": {},
     "output_type": "execute_result"
    }
   ],
   "source": [
    "loaders.SWCLoader.load_swc_single(\"example.swc\")"
   ]
  },
  {
   "cell_type": "code",
   "execution_count": 4,
   "metadata": {},
   "outputs": [
    {
     "name": "stdout",
     "output_type": "stream",
     "text": [
      "Name: pyNeuroML\r\n",
      "Version: 0.5.5\r\n",
      "Summary: Python utilities for NeuroML\r\n",
      "Home-page: https://github.com/NeuroML/pyNeuroML\r\n",
      "Author: Padraig Gleeson\r\n",
      "Author-email: p.gleeson@gmail.com\r\n",
      "License: LICENSE.lesser\r\n",
      "Location: /envs/py3-pyNNarbor/lib/python3.8/site-packages\r\n",
      "Requires: pylems, matplotlib, airspeed, libNeuroML, argparse, kiwisolver, neuromllite\r\n",
      "Required-by: \r\n"
     ]
    }
   ],
   "source": [
    "!pip show pyneuroml"
   ]
  },
  {
   "cell_type": "code",
   "execution_count": 5,
   "metadata": {},
   "outputs": [
    {
     "name": "stdout",
     "output_type": "stream",
     "text": [
      "Collecting pyNeuroML==0.5.11\n",
      "  Using cached pyNeuroML-0.5.11-py3-none-any.whl (27.7 MB)\n",
      "Collecting neuromllite>=0.2.2\n",
      "  Downloading neuromllite-0.3.4-py3-none-any.whl (95 kB)\n",
      "\u001b[K     |████████████████████████████████| 95 kB 5.1 MB/s  eta 0:00:01\n",
      "\u001b[?25hCollecting argparse\n",
      "  Using cached argparse-1.4.0-py2.py3-none-any.whl (23 kB)\n",
      "Requirement already satisfied: libNeuroML>=0.2.52 in /envs/py3-pyNNarbor/lib/python3.8/site-packages (from pyNeuroML==0.5.11) (0.2.52)\n",
      "Requirement already satisfied: matplotlib in /envs/py3-pyNNarbor/lib/python3.8/site-packages (from pyNeuroML==0.5.11) (3.3.2)\n",
      "Collecting airspeed>=0.5.5\n",
      "  Using cached airspeed-0.5.17-py3-none-any.whl\n",
      "Collecting graphviz\n",
      "  Downloading graphviz-0.17-py3-none-any.whl (18 kB)\n",
      "Requirement already satisfied: pylems>=0.5.0 in /envs/py3-pyNNarbor/lib/python3.8/site-packages (from pyNeuroML==0.5.11) (0.5.1)\n",
      "Requirement already satisfied: six in /envs/py3-pyNNarbor/lib/python3.8/site-packages (from airspeed>=0.5.5->pyNeuroML==0.5.11) (1.15.0)\n",
      "Requirement already satisfied: cachetools in /envs/py3-pyNNarbor/lib/python3.8/site-packages (from airspeed>=0.5.5->pyNeuroML==0.5.11) (0.8.0)\n",
      "Requirement already satisfied: lxml in /envs/py3-pyNNarbor/lib/python3.8/site-packages (from libNeuroML>=0.2.52->pyNeuroML==0.5.11) (4.5.2)\n",
      "Collecting libNeuroML>=0.2.52\n",
      "  Using cached libNeuroML-0.2.55-py3-none-any.whl (221 kB)\n",
      "Requirement already satisfied: numpy in /envs/py3-pyNNarbor/lib/python3.8/site-packages (from neuromllite>=0.2.2->pyNeuroML==0.5.11) (1.19.2)\n",
      "Requirement already satisfied: pyyaml in /envs/py3-pyNNarbor/lib/python3.8/site-packages (from neuromllite>=0.2.2->pyNeuroML==0.5.11) (5.3.1)\n",
      "Requirement already satisfied: pyparsing!=2.0.4,!=2.1.2,!=2.1.6,>=2.0.3 in /envs/py3-pyNNarbor/lib/python3.8/site-packages (from matplotlib->pyNeuroML==0.5.11) (2.4.7)\n",
      "Requirement already satisfied: kiwisolver>=1.0.1 in /envs/py3-pyNNarbor/lib/python3.8/site-packages (from matplotlib->pyNeuroML==0.5.11) (1.2.0)\n",
      "Requirement already satisfied: python-dateutil>=2.1 in /envs/py3-pyNNarbor/lib/python3.8/site-packages (from matplotlib->pyNeuroML==0.5.11) (2.8.1)\n",
      "Requirement already satisfied: pillow>=6.2.0 in /envs/py3-pyNNarbor/lib/python3.8/site-packages (from matplotlib->pyNeuroML==0.5.11) (7.2.0)\n",
      "Requirement already satisfied: cycler>=0.10 in /envs/py3-pyNNarbor/lib/python3.8/site-packages (from matplotlib->pyNeuroML==0.5.11) (0.10.0)\n",
      "Requirement already satisfied: certifi>=2020.06.20 in /envs/py3-pyNNarbor/lib/python3.8/site-packages (from matplotlib->pyNeuroML==0.5.11) (2020.6.20)\n",
      "Installing collected packages: libNeuroML, neuromllite, graphviz, argparse, airspeed, pyNeuroML\n",
      "  Attempting uninstall: libNeuroML\n",
      "    Found existing installation: libNeuroML 0.2.52\n",
      "    Uninstalling libNeuroML-0.2.52:\n",
      "      Successfully uninstalled libNeuroML-0.2.52\n",
      "  Attempting uninstall: neuromllite\n",
      "    Found existing installation: neuromllite 0.1.9\n",
      "    Uninstalling neuromllite-0.1.9:\n",
      "      Successfully uninstalled neuromllite-0.1.9\n",
      "  Attempting uninstall: airspeed\n",
      "    Found existing installation: airspeed 0.5.4.dev20150515\n",
      "    Uninstalling airspeed-0.5.4.dev20150515:\n",
      "      Successfully uninstalled airspeed-0.5.4.dev20150515\n",
      "  Attempting uninstall: pyNeuroML\n",
      "    Found existing installation: pyNeuroML 0.5.5\n",
      "    Uninstalling pyNeuroML-0.5.5:\n",
      "      Successfully uninstalled pyNeuroML-0.5.5\n",
      "Successfully installed airspeed-0.5.17 argparse-1.4.0 graphviz-0.17 libNeuroML-0.2.55 neuromllite-0.3.4 pyNeuroML-0.5.11\n",
      "\u001b[33mWARNING: You are using pip version 21.2.4; however, version 21.3.1 is available.\n",
      "You should consider upgrading via the '/envs/py3-pyNNarbor/bin/python -m pip install --upgrade pip' command.\u001b[0m\n"
     ]
    }
   ],
   "source": [
    "!pip install pyNeuroML==0.5.11"
   ]
  },
  {
   "cell_type": "code",
   "execution_count": null,
   "metadata": {},
   "outputs": [],
   "source": []
  }
 ],
 "metadata": {
  "kernelspec": {
   "display_name": "Python 3",
   "language": "python",
   "name": "python3"
  },
  "language_info": {
   "codemirror_mode": {
    "name": "ipython",
    "version": 3
   },
   "file_extension": ".py",
   "mimetype": "text/x-python",
   "name": "python",
   "nbconvert_exporter": "python",
   "pygments_lexer": "ipython3",
   "version": "3.8.2"
  }
 },
 "nbformat": 4,
 "nbformat_minor": 4
}
