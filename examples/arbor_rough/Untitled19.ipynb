{
 "cells": [
  {
   "cell_type": "code",
   "execution_count": 1,
   "id": "711d13d1",
   "metadata": {},
   "outputs": [],
   "source": [
    "import arbor\n",
    "from arbor import mnpos, mpoint, decor"
   ]
  },
  {
   "cell_type": "code",
   "execution_count": 2,
   "id": "028c0d47",
   "metadata": {},
   "outputs": [],
   "source": [
    "# Define the morphology by manually building a segment tree\n",
    "\n",
    "tree = arbor.segment_tree()\n",
    "\n",
    "# Start with segment 0: a cylindrical soma with tag 1\n",
    "tree.append(mnpos, mpoint(0.0, 0.0, 0.0, 2.0), mpoint( 40.0, 0.0, 0.0, 2.0), tag=1)\n",
    "# Construct the first section of the dendritic tree with tag 3,\n",
    "# comprised of segments 1 and 2, attached to soma segment 0.\n",
    "tree.append(0,     mpoint(40.0, 0.0, 0.0, 0.8), mpoint( 80.0,  0.0, 0.0, 0.8), tag=3)\n",
    "tree.append(1,     mpoint(80.0, 0.0, 0.0, 0.8), mpoint(120.0, -5.0, 0.0, 0.8), tag=3)\n",
    "# Construct the rest of the dendritic tree: segments 3, 4 and 5.\n",
    "tree.append(2,     mpoint(120.0, -5.0, 0.0, 0.8), mpoint(200.0,  40.0, 0.0, 0.4), tag=3)\n",
    "tree.append(3,     mpoint(200.0, 40.0, 0.0, 0.4), mpoint(260.0,  60.0, 0.0, 0.2), tag=3)\n",
    "tree.append(2,     mpoint(120.0, -5.0, 0.0, 0.5), mpoint(190.0, -30.0, 0.0, 0.5), tag=3)\n",
    "# Construct a special region of the tree made of segments 6, 7, and 8\n",
    "# differentiated from the rest of the tree using tag 4.\n",
    "tree.append(5,     mpoint(190.0, -30.0, 0.0, 0.5), mpoint(240.0, -70.0, 0.0, 0.2), tag=4)\n",
    "tree.append(5,     mpoint(190.0, -30.0, 0.0, 0.5), mpoint(230.0, -10.0, 0.0, 0.2), tag=4)\n",
    "tree.append(7,     mpoint(230.0, -10.0, 0.0, 0.2), mpoint(360.0, -20.0, 0.0, 0.2), tag=4)\n",
    "# Construct segments 9 and 10 that make up the axon with tag 2.\n",
    "# Segment 9 is at the root, where its proximal end will be connected to the\n",
    "# proximal end of the soma segment.\n",
    "tree.append(mnpos, mpoint( 0.0, 0.0, 0.0, 2.0), mpoint(  -70.0, 0.0, 0.0, 0.4), tag=2)\n",
    "tree.append(9,     mpoint(-70.0, 0.0, 0.0, 0.4), mpoint(-100.0, 0.0, 0.0, 0.4), tag=2)\n",
    "\n",
    "morph = arbor.morphology(tree);"
   ]
  },
  {
   "cell_type": "code",
   "execution_count": 4,
   "id": "8f8f7bbc",
   "metadata": {},
   "outputs": [
    {
     "data": {
      "text/plain": [
       "6"
      ]
     },
     "execution_count": 4,
     "metadata": {},
     "output_type": "execute_result"
    }
   ],
   "source": [
    "morph.num_branches"
   ]
  },
  {
   "cell_type": "code",
   "execution_count": 12,
   "id": "d255d94d",
   "metadata": {},
   "outputs": [
    {
     "data": {
      "text/plain": [
       "[<arbor._arbor.msegment at 0x7f9e2291beb0>,\n",
       " <arbor._arbor.msegment at 0x7f9e22927970>,\n",
       " <arbor._arbor.msegment at 0x7f9e22927b30>]"
      ]
     },
     "execution_count": 12,
     "metadata": {},
     "output_type": "execute_result"
    }
   ],
   "source": [
    "morph.branch_segments(0)"
   ]
  },
  {
   "cell_type": "code",
   "execution_count": 15,
   "id": "798faf38",
   "metadata": {},
   "outputs": [
    {
     "data": {
      "text/plain": [
       "1"
      ]
     },
     "execution_count": 15,
     "metadata": {},
     "output_type": "execute_result"
    }
   ],
   "source": [
    "morph.branch_segments(0)[0].tag"
   ]
  },
  {
   "cell_type": "code",
   "execution_count": null,
   "id": "fdee2e8f",
   "metadata": {},
   "outputs": [],
   "source": []
  }
 ],
 "metadata": {
  "kernelspec": {
   "display_name": "Python 3",
   "language": "python",
   "name": "python3"
  },
  "language_info": {
   "codemirror_mode": {
    "name": "ipython",
    "version": 3
   },
   "file_extension": ".py",
   "mimetype": "text/x-python",
   "name": "python",
   "nbconvert_exporter": "python",
   "pygments_lexer": "ipython3",
   "version": "3.8.2"
  }
 },
 "nbformat": 4,
 "nbformat_minor": 5
}
