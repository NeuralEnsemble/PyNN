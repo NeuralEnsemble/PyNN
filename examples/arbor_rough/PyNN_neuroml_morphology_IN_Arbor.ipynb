{
 "cells": [
  {
   "cell_type": "markdown",
   "metadata": {},
   "source": [
    "### 1. The PyNN NeuroML morphology\n",
    "Let us assume we have a PyNN interfaced NeuroML morphology as shown below.\n",
    "#### 1.1. For a given NeuromML morphology"
   ]
  },
  {
   "cell_type": "code",
   "execution_count": 1,
   "metadata": {},
   "outputs": [],
   "source": [
    "from neuroml import Morphology, Segment, Point3DWithDiam as P"
   ]
  },
  {
   "cell_type": "code",
   "execution_count": 2,
   "metadata": {},
   "outputs": [],
   "source": [
    "soma = Segment(proximal=P(x=0, y=0, z=0, diameter=18.8),\n",
    "               distal=P(x=18.8, y=0, z=0, diameter=18.8),\n",
    "               name=\"soma\", id=0)\n",
    "dend = Segment(proximal=P(x=0, y=0, z=0, diameter=2),\n",
    "               distal=P(x=-500, y=0, z=0, diameter=2),\n",
    "               name=\"dendrite\",\n",
    "               parent=soma, id=1)\n",
    "neuroml_morph = Morphology(segments=(soma, dend))"
   ]
  },
  {
   "cell_type": "markdown",
   "metadata": {},
   "source": [
    "#### 1.2. The NeuroML morphology is interface by PyNN "
   ]
  },
  {
   "cell_type": "code",
   "execution_count": 3,
   "metadata": {},
   "outputs": [],
   "source": [
    "from pyNN.morphology import NeuroMLMorphology"
   ]
  },
  {
   "cell_type": "code",
   "execution_count": 8,
   "metadata": {},
   "outputs": [],
   "source": [
    "morph = NeuroMLMorphology(neuroml_morph)"
   ]
  },
  {
   "cell_type": "markdown",
   "metadata": {},
   "source": [
    "# Problem:\n",
    "## Given a PyNN NeuroML morphology how does one construct an analogous morphology in [Arbor](https://arbor.readthedocs.io/en/latest/index.html#)\n",
    "\n",
    "Note that the term morphology in NeuroML does not mean the same as those used by Arbor. In NeuroML the meaning of morphology is that of the organizational formation of the constructed cell. [Morphology in Arbor](https://arbor.readthedocs.io/en/pydoc/morphology.html) describes _cell geometry as unbranched cables with variable radius and associated tree structure_."
   ]
  },
  {
   "cell_type": "code",
   "execution_count": 5,
   "metadata": {},
   "outputs": [],
   "source": [
    "import arbor\n",
    "from arbor import mpoint\n",
    "from arbor import mnpos"
   ]
  },
  {
   "cell_type": "code",
   "execution_count": 17,
   "metadata": {},
   "outputs": [],
   "source": [
    "tree = arbor.segment_tree()"
   ]
  },
  {
   "cell_type": "code",
   "execution_count": 18,
   "metadata": {},
   "outputs": [
    {
     "data": {
      "text/plain": [
       "0"
      ]
     },
     "execution_count": 18,
     "metadata": {},
     "output_type": "execute_result"
    }
   ],
   "source": [
    "# Construct Soma segment in the Tree structure, `0`Arbor-segment\n",
    "tree.append(mnpos,\n",
    "            mpoint(morph.segments[0].proximal.x, morph.segments[0].proximal.y, morph.segments[0].proximal.z,\n",
    "                  morph.segments[0].proximal.diameter/2),\n",
    "            mpoint(morph.segments[0].distal.x, morph.segments[0].distal.y, morph.segments[0].distal.z,\n",
    "                  morph.segments[0].distal.diameter/2),\n",
    "           tag=0)"
   ]
  },
  {
   "cell_type": "code",
   "execution_count": 20,
   "metadata": {},
   "outputs": [
    {
     "data": {
      "text/plain": [
       "1"
      ]
     },
     "execution_count": 20,
     "metadata": {},
     "output_type": "execute_result"
    }
   ],
   "source": [
    "# Attached Dendrite segment to the Tree\n",
    "tree.append(0, # parent is `0`Arbor-segment\n",
    "            mpoint(morph.segments[1].proximal.x, morph.segments[1].proximal.y, morph.segments[1].proximal.z,\n",
    "                  morph.segments[1].proximal.diameter/2),\n",
    "            mpoint(morph.segments[1].distal.x, morph.segments[1].distal.y, morph.segments[1].distal.z,\n",
    "                  morph.segments[1].distal.diameter/2),\n",
    "           tag=3)"
   ]
  },
  {
   "cell_type": "code",
   "execution_count": 32,
   "metadata": {},
   "outputs": [],
   "source": [
    "import re"
   ]
  },
  {
   "cell_type": "code",
   "execution_count": 58,
   "metadata": {},
   "outputs": [],
   "source": [
    "def create_arbor_tree(nml_morph):\n",
    "    tree = arbor.segment_tree()\n",
    "    for i, nml_seg in enumerate(nml_morph):\n",
    "        append_arbor_tree(tree, nml_seg)\n",
    "    return tree\n",
    "    \n",
    "def append_arbor_tree(tree, nml_seg):\n",
    "    if not nml_seg.parent:\n",
    "        tree.append(mnpos, mpoint(nml_seg.proximal.x, nml_seg.proximal.y, nml_seg.proximal.z,\n",
    "                                  nml_seg.proximal.diameter/2),\n",
    "                    mpoint(nml_seg.distal.x, nml_seg.distal.y, nml_seg.distal.z,\n",
    "                           nml_seg.distal.diameter/2), tag=get_swc_tag(nml_seg))\n",
    "    else:\n",
    "        tree.append(nml_seg.parent.id,\n",
    "                    mpoint(nml_seg.proximal.x, nml_seg.proximal.y, nml_seg.proximal.z,\n",
    "                           nml_seg.proximal.diameter/2),\n",
    "                    mpoint(nml_seg.distal.x, nml_seg.distal.y, nml_seg.distal.z,\n",
    "                           nml_seg.distal.diameter/2), tag=get_swc_tag(nml_seg))\n",
    "\n",
    "def get_swc_tag(nml_seg):\n",
    "    if re.search(\"soma\", nml_seg.name, re.IGNORECASE):\n",
    "        return 1\n",
    "    elif re.search(\"axon\", nml_seg.name, re.IGNORECASE):\n",
    "        return 2\n",
    "    elif re.search(\"dend\", nml_seg.name, re.IGNORECASE):\n",
    "        return 3\n",
    "    else:\n",
    "        return 5\n",
    "        "
   ]
  },
  {
   "cell_type": "code",
   "execution_count": 59,
   "metadata": {},
   "outputs": [],
   "source": [
    "tree = arbor.segment_tree()"
   ]
  },
  {
   "cell_type": "code",
   "execution_count": 60,
   "metadata": {},
   "outputs": [],
   "source": [
    "append_arbor_tree(tree, morph.segments[0])\n",
    "append_arbor_tree(tree, morph.segments[1])"
   ]
  },
  {
   "cell_type": "code",
   "execution_count": 62,
   "metadata": {},
   "outputs": [
    {
     "data": {
      "text/plain": [
       "<arbor._arbor.segment_tree at 0x7f781d6e6030>"
      ]
     },
     "execution_count": 62,
     "metadata": {},
     "output_type": "execute_result"
    }
   ],
   "source": [
    "create_arbor_tree(morph.segments)"
   ]
  },
  {
   "cell_type": "code",
   "execution_count": 54,
   "metadata": {},
   "outputs": [
    {
     "name": "stdout",
     "output_type": "stream",
     "text": [
      "<Segment|0|soma>\n",
      "<Segment|1|dendrite>\n"
     ]
    }
   ],
   "source": [
    "for i, nml_seg in enumerate(morph.segments):\n",
    "    print(nml_seg)"
   ]
  },
  {
   "cell_type": "code",
   "execution_count": 40,
   "metadata": {},
   "outputs": [
    {
     "data": {
      "text/plain": [
       "<re.Match object; span=(0, 8), match='Dendrite'>"
      ]
     },
     "execution_count": 40,
     "metadata": {},
     "output_type": "execute_result"
    }
   ],
   "source": [
    "re.match(\"dendrite\", \"Dendrite\", re.IGNORECASE)"
   ]
  },
  {
   "cell_type": "code",
   "execution_count": 41,
   "metadata": {},
   "outputs": [
    {
     "name": "stdout",
     "output_type": "stream",
     "text": [
      "yes match\n"
     ]
    }
   ],
   "source": [
    "if re.match(\"dendrite\", \"Dendrite\", re.IGNORECASE):\n",
    "    print(\"yes match\")\n",
    "else:\n",
    "    print(\"no match\")"
   ]
  },
  {
   "cell_type": "code",
   "execution_count": 46,
   "metadata": {},
   "outputs": [
    {
     "name": "stdout",
     "output_type": "stream",
     "text": [
      "yes match\n"
     ]
    }
   ],
   "source": [
    "if re.search(\"dend\", \"apical dendrite\", re.IGNORECASE):\n",
    "    print(\"yes match\")\n",
    "else:\n",
    "    print(\"no match\")"
   ]
  },
  {
   "cell_type": "code",
   "execution_count": null,
   "metadata": {},
   "outputs": [],
   "source": []
  }
 ],
 "metadata": {
  "kernelspec": {
   "display_name": "Python 3 (ipykernel)",
   "language": "python",
   "name": "python3"
  },
  "language_info": {
   "codemirror_mode": {
    "name": "ipython",
    "version": 3
   },
   "file_extension": ".py",
   "mimetype": "text/x-python",
   "name": "python",
   "nbconvert_exporter": "python",
   "pygments_lexer": "ipython3",
   "version": "3.8.2"
  }
 },
 "nbformat": 4,
 "nbformat_minor": 4
}
