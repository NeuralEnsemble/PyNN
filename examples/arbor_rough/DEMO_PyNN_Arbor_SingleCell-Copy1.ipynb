{
 "cells": [
  {
   "cell_type": "code",
   "execution_count": 1,
   "id": "e3b5881b",
   "metadata": {},
   "outputs": [],
   "source": [
    "from pyNN.morphology import NeuroMLMorphology, load_morphology, uniform, random_section, dendrites, apical_dendrites, by_distance\n",
    "import pyNN.arbor as sim"
   ]
  },
  {
   "cell_type": "code",
   "execution_count": 2,
   "id": "7aaecf22",
   "metadata": {},
   "outputs": [],
   "source": [
    "pyr_morph = load_morphology(\"single_cell_detailed.swc\", replace_axon=None)"
   ]
  },
  {
   "cell_type": "code",
   "execution_count": 3,
   "id": "654b866a",
   "metadata": {},
   "outputs": [],
   "source": [
    "cc = sim.MultiCompartmentNeuron.setup(\n",
    "\t\t\t\tlabel=\"MyCell\",\n",
    "\t\t\t\tion_channels={'pas': sim.PassiveLeak,\n",
    "\t\t\t\t\t\t\t  'na': sim.NaChannel,\n",
    "\t\t\t\t\t\t\t  'kdr': sim.KdrChannel},\n",
    "\t\t\t\tionic_species={'na_ion': sim.NaIon,\n",
    "\t\t\t\t\t\t\t   'k_ion': sim.KIon})\n",
    "mycell = cc(morphology=pyr_morph,\n",
    "\t\t\tcm=1.0,\n",
    "\t\t\tRa=500.0,\n",
    "\t\t\tna_ion = {\"internal_concentration\": 10.0, \"external_concentration\": 140.0, \"reversal_potential\": 50.0},\n",
    "\t\t\tk_ion = {\"internal_concentration\": 54.4, \"external_concentration\": 2.5, \"reversal_potential\": -77.0},\n",
    "\t\t\tpas={\"conductance_density\": uniform('all', 0.0003),\n",
    "\t\t\t\t\"e_rev\":-54.3},\n",
    "\t\t\tna={\"conductance_density\": uniform('soma', 0.120),\n",
    "\t\t\t   \"e_rev\": 50.0},\n",
    "\t\t\tkdr={\"conductance_density\": uniform('soma', 0.036),\n",
    "\t\t\t\t\"e_rev\": -77.0})"
   ]
  },
  {
   "cell_type": "code",
   "execution_count": 4,
   "id": "ca379502",
   "metadata": {
    "scrolled": true
   },
   "outputs": [],
   "source": [
    "cells = sim.Population(1, mycell, initial_values={'v': -50.0})\n",
    "#cells = sim.Population(3, mycell, initial_values={'v': -60.0})"
   ]
  },
  {
   "cell_type": "code",
   "execution_count": 5,
   "id": "e9c5a4bd",
   "metadata": {},
   "outputs": [],
   "source": [
    "step_current = sim.DCSource(amplitude=5.0, start=50.0, stop=150.0)"
   ]
  },
  {
   "cell_type": "code",
   "execution_count": 6,
   "id": "9ce96d93",
   "metadata": {},
   "outputs": [],
   "source": [
    "step_current.inject_into(cells[0:1], location=\"soma\")"
   ]
  },
  {
   "cell_type": "code",
   "execution_count": 7,
   "id": "15b118d0",
   "metadata": {},
   "outputs": [],
   "source": [
    "cells.record('spikes')"
   ]
  },
  {
   "cell_type": "code",
   "execution_count": 8,
   "id": "705c803c",
   "metadata": {},
   "outputs": [],
   "source": [
    "# sim.run(200.0)\n",
    "sim.state.run(200.0, cells)"
   ]
  },
  {
   "cell_type": "code",
   "execution_count": 9,
   "id": "836b91fc",
   "metadata": {},
   "outputs": [
    {
     "data": {
      "text/plain": [
       "<arbor.single_cell_model>"
      ]
     },
     "execution_count": 9,
     "metadata": {},
     "output_type": "execute_result"
    }
   ],
   "source": [
    "sim.state.model"
   ]
  },
  {
   "cell_type": "code",
   "execution_count": 10,
   "id": "dcc8b2c6",
   "metadata": {},
   "outputs": [
    {
     "name": "stdout",
     "output_type": "stream",
     "text": [
      "no spikes\n"
     ]
    }
   ],
   "source": [
    "# (8) Print spike times.\n",
    "if len(sim.state.model.spikes) > 0:\n",
    "    print(\"{} spikes:\".format(len(sim.state.model.spikes)))\n",
    "    for s in sim.state.model.spikes:\n",
    "        print(\"{:3.3f}\".format(s))\n",
    "else:\n",
    "    print(\"no spikes\")"
   ]
  },
  {
   "cell_type": "code",
   "execution_count": 11,
   "id": "7efe8e3d",
   "metadata": {},
   "outputs": [],
   "source": [
    "from matplotlib import pyplot"
   ]
  },
  {
   "cell_type": "code",
   "execution_count": 12,
   "id": "c7e55a26",
   "metadata": {},
   "outputs": [
    {
     "ename": "IndexError",
     "evalue": "list index out of range",
     "output_type": "error",
     "traceback": [
      "\u001b[0;31m---------------------------------------------------------------------------\u001b[0m",
      "\u001b[0;31mIndexError\u001b[0m                                Traceback (most recent call last)",
      "\u001b[0;32m<ipython-input-12-0d784608634f>\u001b[0m in \u001b[0;36m<module>\u001b[0;34m\u001b[0m\n\u001b[1;32m      1\u001b[0m \u001b[0;31m# df = pandas.DataFrame({\"t/ms\": m.traces[0].time, \"U/mV\": m.traces[0].value})\u001b[0m\u001b[0;34m\u001b[0m\u001b[0;34m\u001b[0m\u001b[0;34m\u001b[0m\u001b[0m\n\u001b[0;32m----> 2\u001b[0;31m \u001b[0mpyplot\u001b[0m\u001b[0;34m.\u001b[0m\u001b[0mplot\u001b[0m\u001b[0;34m(\u001b[0m\u001b[0msim\u001b[0m\u001b[0;34m.\u001b[0m\u001b[0mstate\u001b[0m\u001b[0;34m.\u001b[0m\u001b[0mmodel\u001b[0m\u001b[0;34m.\u001b[0m\u001b[0mtraces\u001b[0m\u001b[0;34m[\u001b[0m\u001b[0;36m0\u001b[0m\u001b[0;34m]\u001b[0m\u001b[0;34m.\u001b[0m\u001b[0mtime\u001b[0m\u001b[0;34m,\u001b[0m \u001b[0msim\u001b[0m\u001b[0;34m.\u001b[0m\u001b[0mstate\u001b[0m\u001b[0;34m.\u001b[0m\u001b[0mmodel\u001b[0m\u001b[0;34m.\u001b[0m\u001b[0mtraces\u001b[0m\u001b[0;34m[\u001b[0m\u001b[0;36m0\u001b[0m\u001b[0;34m]\u001b[0m\u001b[0;34m.\u001b[0m\u001b[0mvalue\u001b[0m\u001b[0;34m)\u001b[0m\u001b[0;34m\u001b[0m\u001b[0;34m\u001b[0m\u001b[0m\n\u001b[0m",
      "\u001b[0;31mIndexError\u001b[0m: list index out of range"
     ]
    }
   ],
   "source": [
    "# df = pandas.DataFrame({\"t/ms\": m.traces[0].time, \"U/mV\": m.traces[0].value})\n",
    "pyplot.plot(sim.state.model.traces[0].time, sim.state.model.traces[0].value)"
   ]
  },
  {
   "cell_type": "code",
   "execution_count": 13,
   "id": "fd33e6cb",
   "metadata": {},
   "outputs": [
    {
     "data": {
      "text/plain": [
       "[]"
      ]
     },
     "execution_count": 13,
     "metadata": {},
     "output_type": "execute_result"
    }
   ],
   "source": [
    "sim.state.model.traces"
   ]
  },
  {
   "cell_type": "code",
   "execution_count": 14,
   "id": "b80d36b0",
   "metadata": {},
   "outputs": [],
   "source": [
    "m = sim.state.model"
   ]
  },
  {
   "cell_type": "code",
   "execution_count": 15,
   "id": "cbb2464e",
   "metadata": {},
   "outputs": [],
   "source": [
    "m.run(tfinal=30)"
   ]
  },
  {
   "cell_type": "code",
   "execution_count": 16,
   "id": "6d9c8a11",
   "metadata": {},
   "outputs": [
    {
     "name": "stdout",
     "output_type": "stream",
     "text": [
      "no spikes\n"
     ]
    }
   ],
   "source": [
    "if len(m.spikes) > 0:\n",
    "    print(\"{} spikes:\".format(len(m.spikes)))\n",
    "    for s in m.spikes:\n",
    "        print(\"{:3.3f}\".format(s))\n",
    "else:\n",
    "    print(\"no spikes\")"
   ]
  },
  {
   "cell_type": "code",
   "execution_count": 17,
   "id": "81d57759",
   "metadata": {},
   "outputs": [
    {
     "data": {
      "text/plain": [
       "Population(3, MultiCompartmentNeuron(<parameters>), structure=Line(dx=1.0, x0=0.0, y=0.0, z=0.0), label='population0')"
      ]
     },
     "execution_count": 17,
     "metadata": {},
     "output_type": "execute_result"
    }
   ],
   "source": [
    "cells"
   ]
  },
  {
   "cell_type": "code",
   "execution_count": 18,
   "id": "87da64d8",
   "metadata": {},
   "outputs": [],
   "source": [
    "import arbor"
   ]
  },
  {
   "cell_type": "raw",
   "id": "a2c0e578",
   "metadata": {},
   "source": [
    "a_cell = arbor.cable_cell(populn.all_cells[i]._cell._arbor_morphology,  # populn.all_cells[i]._cell._arbor_tree\n",
    "                          populn.all_cells[i]._cell._arbor_labels,\n",
    "                          populn.all_cells[i]._cell._decor)\n",
    "            model = arbor.single_cell_model(a_cell)\n",
    "            model.probe(\"voltage\", '\"soma_midpoint\"', frequency=10)  # 10 kHz sampling (i.e. every 0.1 ms)"
   ]
  },
  {
   "cell_type": "code",
   "execution_count": 19,
   "id": "5d737c44",
   "metadata": {},
   "outputs": [
    {
     "data": {
      "text/plain": [
       "<arbor._arbor.morphology at 0x7f39b97c33b0>"
      ]
     },
     "execution_count": 19,
     "metadata": {},
     "output_type": "execute_result"
    }
   ],
   "source": [
    "cells.all_cells[0]._cell._arbor_morphology"
   ]
  },
  {
   "cell_type": "code",
   "execution_count": 20,
   "id": "659b3b9a",
   "metadata": {},
   "outputs": [
    {
     "data": {
      "text/plain": [
       "(label_dict (region  \"ionchnl_pas_in_all\" (all)) (region  \"soma\" (tag 1)) (region  \"basal_dendrite\" (tag 3)) (region  \"apical_dendrite\" (tag 4)) (region  \"everywhere\" (all)) (locset \"soma_midpoint\" (restrict (on_branches 0.5) (tag 1))) (locset \"basal_dendrite_midpoint\" (restrict (on_branches 0.5) (tag 3))) (locset \"apical_dendrite_midpoint\" (restrict (on_branches 0.5) (tag 4))))"
      ]
     },
     "execution_count": 20,
     "metadata": {},
     "output_type": "execute_result"
    }
   ],
   "source": [
    "cells.all_cells[0]._cell._arbor_labels"
   ]
  },
  {
   "cell_type": "code",
   "execution_count": 21,
   "id": "f0326e14",
   "metadata": {},
   "outputs": [
    {
     "data": {
      "text/plain": [
       "<arbor._arbor.decor at 0x7f39b976ba30>"
      ]
     },
     "execution_count": 21,
     "metadata": {},
     "output_type": "execute_result"
    }
   ],
   "source": [
    "cells.all_cells[0]._cell._decor"
   ]
  },
  {
   "cell_type": "code",
   "execution_count": 22,
   "id": "a51c64e6",
   "metadata": {},
   "outputs": [],
   "source": [
    "ac = arbor.cable_cell(cells.all_cells[0]._cell._arbor_morphology,\n",
    "                     cells.all_cells[0]._cell._arbor_labels,\n",
    "                     cells.all_cells[0]._cell._decor)"
   ]
  },
  {
   "cell_type": "code",
   "execution_count": 23,
   "id": "79e6901e",
   "metadata": {},
   "outputs": [],
   "source": [
    "mod = arbor.single_cell_model(ac)"
   ]
  },
  {
   "cell_type": "code",
   "execution_count": 24,
   "id": "0a7c668a",
   "metadata": {
    "scrolled": true
   },
   "outputs": [],
   "source": [
    "mod.probe(\"voltage\", '\"soma_midpoint\"', frequency=10)"
   ]
  },
  {
   "cell_type": "code",
   "execution_count": 25,
   "id": "a13f5a54",
   "metadata": {},
   "outputs": [],
   "source": [
    "mod.run(tfinal=30)"
   ]
  },
  {
   "cell_type": "code",
   "execution_count": 26,
   "id": "14b7c3cf",
   "metadata": {},
   "outputs": [
    {
     "name": "stdout",
     "output_type": "stream",
     "text": [
      "no spikes\n"
     ]
    }
   ],
   "source": [
    "if len(mod.spikes) > 0:\n",
    "    print(\"{} spikes:\".format(len(mod.spikes)))\n",
    "    for s in mod.spikes:\n",
    "        print(\"{:3.3f}\".format(s))\n",
    "else:\n",
    "    print(\"no spikes\")"
   ]
  },
  {
   "cell_type": "code",
   "execution_count": 27,
   "id": "59e3e9ce",
   "metadata": {},
   "outputs": [],
   "source": [
    "# (1) Create a morphology with a single (cylindrical) segment of length=diameter=6 μm\n",
    "tree1 = arbor.segment_tree()\n",
    "tree1.append(arbor.mnpos, arbor.mpoint(-3, 0, 0, 3), arbor.mpoint(3, 0, 0, 3), tag=1)\n",
    "\n",
    "# (2) Define the soma and its midpoint\n",
    "labels1 = arbor.label_dict({\"soma\": \"(tag 1)\", \"midpoint\": \"(location 0 0.5)\"})\n",
    "\n",
    "# (3) Create and set up a decor object\n",
    "decor1 = arbor.decor()\n",
    "decor1.set_property(Vm=-40)\n",
    "decor1.paint('\"soma\"', arbor.density('hh'))\n",
    "decor1.place('\"midpoint\"', arbor.iclamp( 10, 2, 0.8), \"iclamp\")\n",
    "decor1.place('\"midpoint\"', arbor.spike_detector(-10), \"detector\")"
   ]
  },
  {
   "cell_type": "code",
   "execution_count": 28,
   "id": "cb543503",
   "metadata": {},
   "outputs": [],
   "source": [
    "cells.all_cells[1]._cell._arbor_tree = tree1\n",
    "cells.all_cells[1]._cell._arbor_labels = labels1\n",
    "cells.all_cells[1]._cell._decor = decor1\n",
    "cells.all_cells[1]._cell._arbor_morphology = arbor.morphology(tree1)"
   ]
  },
  {
   "cell_type": "code",
   "execution_count": 29,
   "id": "a1635572",
   "metadata": {},
   "outputs": [],
   "source": [
    "ac1 = arbor.cable_cell(cells.all_cells[1]._cell._arbor_tree,\n",
    "                     cells.all_cells[1]._cell._arbor_labels,\n",
    "                     cells.all_cells[1]._cell._decor)\n",
    "mod1 = arbor.single_cell_model(ac1)\n",
    "mod1.probe(\"voltage\", '\"midpoint\"', frequency=10)"
   ]
  },
  {
   "cell_type": "markdown",
   "id": "1fca9b29",
   "metadata": {},
   "source": [
    "Using tree or morphology, its all the same."
   ]
  },
  {
   "cell_type": "code",
   "execution_count": 30,
   "id": "69ee9d59",
   "metadata": {},
   "outputs": [],
   "source": [
    "ac1 = arbor.cable_cell(cells.all_cells[1]._cell._arbor_morphology,\n",
    "                     cells.all_cells[1]._cell._arbor_labels,\n",
    "                     cells.all_cells[1]._cell._decor)\n",
    "mod1 = arbor.single_cell_model(ac1)\n",
    "mod1.probe(\"voltage\", '\"midpoint\"', frequency=10)"
   ]
  },
  {
   "cell_type": "code",
   "execution_count": 31,
   "id": "73bb348f",
   "metadata": {},
   "outputs": [],
   "source": [
    "mod1.run(tfinal=30)"
   ]
  },
  {
   "cell_type": "code",
   "execution_count": 32,
   "id": "d9fc2d3d",
   "metadata": {},
   "outputs": [
    {
     "name": "stdout",
     "output_type": "stream",
     "text": [
      "1 spikes:\n",
      "10.084\n"
     ]
    }
   ],
   "source": [
    "if len(mod1.spikes) > 0:\n",
    "    print(\"{} spikes:\".format(len(mod1.spikes)))\n",
    "    for s in mod1.spikes:\n",
    "        print(\"{:3.3f}\".format(s))\n",
    "else:\n",
    "    print(\"no spikes\")"
   ]
  },
  {
   "cell_type": "code",
   "execution_count": 33,
   "id": "1aebe4c8",
   "metadata": {},
   "outputs": [
    {
     "data": {
      "text/plain": [
       "[<matplotlib.lines.Line2D at 0x7f39b7d8e8b0>]"
      ]
     },
     "execution_count": 33,
     "metadata": {},
     "output_type": "execute_result"
    },
    {
     "data": {
      "image/png": "[encoded data removed]",
      "text/plain": [
       "<Figure size 432x288 with 1 Axes>"
      ]
     },
     "metadata": {
      "needs_background": "light"
     },
     "output_type": "display_data"
    }
   ],
   "source": [
    "pyplot.plot(mod1.traces[0].time, mod1.traces[0].value)"
   ]
  },
  {
   "cell_type": "raw",
   "id": "bdbcce8e",
   "metadata": {},
   "source": [
    "cells.all_cells[1]._cell._arbor_tree = tree\n",
    "cells.all_cells[1]._cell._arbor_labels = labels\n",
    "cells.all_cells[1]._cell._decor"
   ]
  },
  {
   "cell_type": "code",
   "execution_count": 34,
   "id": "356ce642",
   "metadata": {},
   "outputs": [
    {
     "data": {
      "text/plain": [
       "<arbor._arbor.segment_tree at 0x7f39b7e33fb0>"
      ]
     },
     "execution_count": 34,
     "metadata": {},
     "output_type": "execute_result"
    }
   ],
   "source": [
    "cells.all_cells[1]._cell._arbor_tree"
   ]
  },
  {
   "cell_type": "code",
   "execution_count": 35,
   "id": "a176b076",
   "metadata": {},
   "outputs": [
    {
     "data": {
      "text/plain": [
       "<arbor._arbor.segment_tree at 0x7f39b9e36cf0>"
      ]
     },
     "execution_count": 35,
     "metadata": {},
     "output_type": "execute_result"
    }
   ],
   "source": [
    "cells.all_cells[0]._cell._arbor_tree"
   ]
  },
  {
   "cell_type": "code",
   "execution_count": 36,
   "id": "dfa5dc35",
   "metadata": {},
   "outputs": [
    {
     "data": {
      "text/plain": [
       "(label_dict (region  \"soma\" (tag 1)) (locset \"midpoint\" (location 0 0.5)))"
      ]
     },
     "execution_count": 36,
     "metadata": {},
     "output_type": "execute_result"
    }
   ],
   "source": [
    "cells.all_cells[1]._cell._arbor_labels"
   ]
  },
  {
   "cell_type": "code",
   "execution_count": 37,
   "id": "b280375d",
   "metadata": {},
   "outputs": [
    {
     "data": {
      "text/plain": [
       "(label_dict (region  \"ionchnl_pas_in_all\" (all)) (region  \"soma\" (tag 1)) (region  \"basal_dendrite\" (tag 3)) (region  \"apical_dendrite\" (tag 4)) (region  \"everywhere\" (all)) (locset \"soma_midpoint\" (restrict (on_branches 0.5) (tag 1))) (locset \"basal_dendrite_midpoint\" (restrict (on_branches 0.5) (tag 3))) (locset \"apical_dendrite_midpoint\" (restrict (on_branches 0.5) (tag 4))))"
      ]
     },
     "execution_count": 37,
     "metadata": {},
     "output_type": "execute_result"
    }
   ],
   "source": [
    "cells.all_cells[0]._cell._arbor_labels"
   ]
  },
  {
   "cell_type": "code",
   "execution_count": 38,
   "id": "eb098733",
   "metadata": {},
   "outputs": [
    {
     "data": {
      "text/plain": [
       "<arbor._arbor.decor at 0x7f39b7e33e70>"
      ]
     },
     "execution_count": 38,
     "metadata": {},
     "output_type": "execute_result"
    }
   ],
   "source": [
    "cells.all_cells[1]._cell._decor"
   ]
  },
  {
   "cell_type": "code",
   "execution_count": 39,
   "id": "08763b8a",
   "metadata": {},
   "outputs": [
    {
     "data": {
      "text/plain": [
       "<arbor._arbor.decor at 0x7f39b976ba30>"
      ]
     },
     "execution_count": 39,
     "metadata": {},
     "output_type": "execute_result"
    }
   ],
   "source": [
    "cells.all_cells[0]._cell._decor"
   ]
  },
  {
   "cell_type": "code",
   "execution_count": 40,
   "id": "f8e21c3d",
   "metadata": {},
   "outputs": [],
   "source": [
    "# (1) Create a morphology with a single (cylindrical) segment of length=diameter=6 μm\n",
    "tree2 = arbor.segment_tree()\n",
    "# Start with segment 0: a cylindrical soma with tag 1\n",
    "tree2.append(arbor.mnpos, arbor.mpoint(0.0, 0.0, 0.0, 2.0), arbor.mpoint( 40.0, 0.0, 0.0, 2.0), tag=1)\n",
    "# Construct the first section of the dendritic tree with tag 3,\n",
    "# comprised of segments 1 and 2, attached to soma segment 0.\n",
    "tree2.append(0,     arbor.mpoint(40.0, 0.0, 0.0, 0.8), arbor.mpoint( 80.0,  0.0, 0.0, 0.8), tag=3)\n",
    "tree2.append(1,     arbor.mpoint(80.0, 0.0, 0.0, 0.8), arbor.mpoint(120.0, -5.0, 0.0, 0.8), tag=3)\n",
    "# Construct the rest of the dendritic tree: segments 3, 4 and 5.\n",
    "tree2.append(2,     arbor.mpoint(120.0, -5.0, 0.0, 0.8), arbor.mpoint(200.0,  40.0, 0.0, 0.4), tag=3)\n",
    "tree2.append(3,     arbor.mpoint(200.0, 40.0, 0.0, 0.4), arbor.mpoint(260.0,  60.0, 0.0, 0.2), tag=3)\n",
    "tree2.append(2,     arbor.mpoint(120.0, -5.0, 0.0, 0.5), arbor.mpoint(190.0, -30.0, 0.0, 0.5), tag=3)\n",
    "# Construct a special region of the tree made of segments 6, 7, and 8\n",
    "# differentiated from the rest of the tree using tag 4.\n",
    "tree2.append(5,     arbor.mpoint(190.0, -30.0, 0.0, 0.5), arbor.mpoint(240.0, -70.0, 0.0, 0.2), tag=4)\n",
    "tree2.append(5,     arbor.mpoint(190.0, -30.0, 0.0, 0.5), arbor.mpoint(230.0, -10.0, 0.0, 0.2), tag=4)\n",
    "tree2.append(7,     arbor.mpoint(230.0, -10.0, 0.0, 0.2), arbor.mpoint(360.0, -20.0, 0.0, 0.2), tag=4)\n",
    "# Construct segments 9 and 10 that make up the axon with tag 2.\n",
    "# Segment 9 is at the root, where its proximal end will be connected to the\n",
    "# proximal end of the soma segment.\n",
    "tree2.append(arbor.mnpos, arbor.mpoint( 0.0, 0.0, 0.0, 2.0), arbor.mpoint(  -70.0, 0.0, 0.0, 0.4), tag=2)\n",
    "tree2.append(9,     arbor.mpoint(-70.0, 0.0, 0.0, 0.4), arbor.mpoint(-100.0, 0.0, 0.0, 0.4), tag=2)\n",
    "\n",
    "# (2) Define the soma and its midpoint\n",
    "labels2 = arbor.label_dict({\n",
    "  \"soma\": \"(tag 1)\",\n",
    "  \"axon\": \"(tag 2)\",\n",
    "  \"dend\": \"(tag 3)\",\n",
    "  \"apic\": \"(tag 4)\",\n",
    "  \"all\": \"(all)\",\n",
    "  \"midpoint\": \"(location 0 0.5)\",\n",
    "  # Add a label for the parts of the morphology with radius greater than 1.5 μm.\n",
    "  \"gt_1.5\": '(radius-ge (region \"all\") 1.5)',\n",
    "  # Join regions \"apic\" and \"gt_1.5\"\n",
    "  \"custom\": '(join (region \"apic\") (region \"gt_1.5\"))',\n",
    "  # Add a labels for the root of the morphology and all the terminal points\n",
    "  \"root\": \"(root)\",\n",
    "  \"terminal\": \"(terminal)\",\n",
    "  # Add a label for the terminal locations in the \"custom\" region:\n",
    "  \"custom_terminal\": '(restrict (locset \"terminal\") (region \"custom\"))',\n",
    "  # Add a label for the terminal locations in the \"axon\" region:\n",
    "  \"axon_terminal\": '(restrict (locset \"terminal\") (region \"axon\"))',\n",
    "})\n",
    "\n",
    "# (3) Create and set up a decor object\n",
    "decor2 = arbor.decor()\n",
    "# Set the default properties of the cell (this overrides the model defaults).\n",
    "decor2.set_property(Vm=-55)\n",
    "decor2.set_ion(\"na\", int_con=10, ext_con=140, rev_pot=50, method=\"nernst/na\")\n",
    "decor2.set_ion(\"k\", int_con=54.4, ext_con=2.5, rev_pot=-77)\n",
    "# Override the cell defaults.\n",
    "decor2.paint('\"custom\"', tempK=270)\n",
    "decor2.paint('\"soma\"', Vm=-50)\n",
    "# Paint density mechanisms.\n",
    "decor2.paint('\"all\"', arbor.density(\"pas\"))\n",
    "decor2.paint('\"custom\"', arbor.density(\"hh\"))\n",
    "decor2.paint('\"dend\"', arbor.density(\"hh\", {\"gkbar\": 0.001}))\n",
    "# Place stimuli and detectors.\n",
    "decor2.place('\"root\"', arbor.iclamp(10, 1, current=2), \"iclamp0\")\n",
    "decor2.place('\"root\"', arbor.iclamp(30, 1, current=2), \"iclamp1\")\n",
    "decor2.place('\"root\"', arbor.iclamp(50, 1, current=2), \"iclamp2\")\n",
    "#decor.place('\"axon_terminal\"', arbor.threshold_detector(-10), \"detector\")\n",
    "decor2.place('\"axon_terminal\"', arbor.spike_detector(-10), \"detector\")\n",
    "\n",
    "decor2.place('\"midpoint\"', arbor.iclamp( 10, 2, 0.8), \"iclamp\")\n",
    "decor2.place('\"midpoint\"', arbor.spike_detector(-10), \"detector\")"
   ]
  },
  {
   "cell_type": "code",
   "execution_count": 41,
   "id": "f04b3a56",
   "metadata": {},
   "outputs": [],
   "source": [
    "cells.all_cells[2]._cell._arbor_tree = tree2\n",
    "cells.all_cells[2]._cell._arbor_labels = labels2\n",
    "cells.all_cells[2]._cell._decor = decor2\n",
    "cells.all_cells[2]._cell._arbor_morphology = arbor.morphology(tree2)"
   ]
  },
  {
   "cell_type": "code",
   "execution_count": 43,
   "id": "e7ef2725",
   "metadata": {},
   "outputs": [],
   "source": [
    "ac2 = arbor.cable_cell(cells.all_cells[2]._cell._arbor_morphology,\n",
    "                     cells.all_cells[2]._cell._arbor_labels,\n",
    "                     cells.all_cells[2]._cell._decor)\n",
    "mod2 = arbor.single_cell_model(ac2)\n",
    "mod2.probe(\"voltage\", '\"midpoint\"', frequency=10)"
   ]
  },
  {
   "cell_type": "code",
   "execution_count": 44,
   "id": "c508d9a6",
   "metadata": {},
   "outputs": [],
   "source": [
    "mod2.run(tfinal=100, dt=0.025)"
   ]
  },
  {
   "cell_type": "code",
   "execution_count": 45,
   "id": "65dc2fe1",
   "metadata": {},
   "outputs": [
    {
     "name": "stdout",
     "output_type": "stream",
     "text": [
      "6 spikes recorded:\n",
      "10.582201928264613\n",
      "30.81040471832684\n",
      "50.81485480943406\n",
      "10.530453896642289\n",
      "30.768594867365657\n",
      "50.77311708798183\n"
     ]
    }
   ],
   "source": [
    "print(len(mod2.spikes), \"spikes recorded:\")\n",
    "for s in mod2.spikes:\n",
    "    print(s)"
   ]
  },
  {
   "cell_type": "code",
   "execution_count": 46,
   "id": "2edcb64f",
   "metadata": {},
   "outputs": [
    {
     "data": {
      "text/plain": [
       "[<matplotlib.lines.Line2D at 0x7f39b5c927f0>]"
      ]
     },
     "execution_count": 46,
     "metadata": {},
     "output_type": "execute_result"
    },
    {
     "data": {
      "image/png": "[encoded data removed]",
      "text/plain": [
       "<Figure size 432x288 with 1 Axes>"
      ]
     },
     "metadata": {
      "needs_background": "light"
     },
     "output_type": "display_data"
    }
   ],
   "source": [
    "pyplot.plot(mod2.traces[0].time, mod2.traces[0].value)"
   ]
  },
  {
   "cell_type": "code",
   "execution_count": 77,
   "id": "ceca41f7",
   "metadata": {},
   "outputs": [
    {
     "data": {
      "text/plain": [
       "<arbor._arbor.segment_tree at 0x7f20c5f54470>"
      ]
     },
     "execution_count": 77,
     "metadata": {},
     "output_type": "execute_result"
    }
   ],
   "source": [
    "cells.all_cells[0]._cell._arbor_tree"
   ]
  },
  {
   "cell_type": "code",
   "execution_count": 79,
   "id": "1dca9f34",
   "metadata": {},
   "outputs": [
    {
     "name": "stdout",
     "output_type": "stream",
     "text": [
      "Help on segment_tree in module arbor._arbor object:\n",
      "\n",
      "class segment_tree(pybind11_builtins.pybind11_object)\n",
      " |  Method resolution order:\n",
      " |      segment_tree\n",
      " |      pybind11_builtins.pybind11_object\n",
      " |      builtins.object\n",
      " |  \n",
      " |  Methods defined here:\n",
      " |  \n",
      " |  __init__(...)\n",
      " |      __init__(self: arbor._arbor.segment_tree) -> None\n",
      " |  \n",
      " |  __str__(...)\n",
      " |      __str__(self: arbor._arbor.segment_tree) -> str\n",
      " |  \n",
      " |  append(...)\n",
      " |      append(*args, **kwargs)\n",
      " |      Overloaded function.\n",
      " |      \n",
      " |      1. append(self: arbor._arbor.segment_tree, parent: int, prox: arbor._arbor.mpoint, dist: arbor._arbor.mpoint, tag: int) -> int\n",
      " |      \n",
      " |      Append a segment to the tree.\n",
      " |      \n",
      " |      2. append(self: arbor._arbor.segment_tree, parent: int, dist: arbor._arbor.mpoint, tag: int) -> int\n",
      " |      \n",
      " |      Append a segment to the tree.\n",
      " |      \n",
      " |      3. append(self: arbor._arbor.segment_tree, parent: int, x: float, y: float, z: float, radius: float, tag: int) -> int\n",
      " |      \n",
      " |      Append a segment to the tree, using the distal location of the parent segment as the proximal end.\n",
      " |  \n",
      " |  reserve(...)\n",
      " |      reserve(self: arbor._arbor.segment_tree, arg0: int) -> None\n",
      " |  \n",
      " |  ----------------------------------------------------------------------\n",
      " |  Readonly properties defined here:\n",
      " |  \n",
      " |  empty\n",
      " |      Indicates whether the tree is empty (i.e. whether it has size 0)\n",
      " |  \n",
      " |  parents\n",
      " |      A list with the parent index of each segment.\n",
      " |  \n",
      " |  segments\n",
      " |      A list of the segments.\n",
      " |  \n",
      " |  size\n",
      " |      The number of segments in the tree.\n",
      " |  \n",
      " |  ----------------------------------------------------------------------\n",
      " |  Static methods inherited from pybind11_builtins.pybind11_object:\n",
      " |  \n",
      " |  __new__(*args, **kwargs) from pybind11_builtins.pybind11_type\n",
      " |      Create and return a new object.  See help(type) for accurate signature.\n",
      "\n"
     ]
    }
   ],
   "source": [
    "help(cells.all_cells[0]._cell._arbor_tree)"
   ]
  },
  {
   "cell_type": "code",
   "execution_count": 47,
   "id": "d51d3ca8",
   "metadata": {},
   "outputs": [
    {
     "data": {
      "text/plain": [
       "11"
      ]
     },
     "execution_count": 47,
     "metadata": {},
     "output_type": "execute_result"
    }
   ],
   "source": [
    "cells.all_cells[2]._cell._arbor_tree.size"
   ]
  },
  {
   "cell_type": "code",
   "execution_count": 49,
   "id": "2267536f",
   "metadata": {},
   "outputs": [
    {
     "data": {
      "text/plain": [
       "11"
      ]
     },
     "execution_count": 49,
     "metadata": {},
     "output_type": "execute_result"
    }
   ],
   "source": [
    "cells.all_cells[0]._cell._arbor_tree.size"
   ]
  },
  {
   "cell_type": "code",
   "execution_count": 50,
   "id": "ba8f0480",
   "metadata": {},
   "outputs": [
    {
     "data": {
      "text/plain": [
       "[<arbor._arbor.msegment at 0x7f39b5c4c330>,\n",
       " <arbor._arbor.msegment at 0x7f39b5c4c3b0>,\n",
       " <arbor._arbor.msegment at 0x7f39b5c4c430>,\n",
       " <arbor._arbor.msegment at 0x7f39b5c4c4b0>,\n",
       " <arbor._arbor.msegment at 0x7f39b5c4c170>,\n",
       " <arbor._arbor.msegment at 0x7f39b5c4c4f0>,\n",
       " <arbor._arbor.msegment at 0x7f39b5c4c530>,\n",
       " <arbor._arbor.msegment at 0x7f39b5c4c570>,\n",
       " <arbor._arbor.msegment at 0x7f39b5c4c5b0>,\n",
       " <arbor._arbor.msegment at 0x7f39b5c4c5f0>,\n",
       " <arbor._arbor.msegment at 0x7f39b5c4c630>]"
      ]
     },
     "execution_count": 50,
     "metadata": {},
     "output_type": "execute_result"
    }
   ],
   "source": [
    "cells.all_cells[2]._cell._arbor_tree.segments"
   ]
  },
  {
   "cell_type": "code",
   "execution_count": 52,
   "id": "88c71fee",
   "metadata": {},
   "outputs": [
    {
     "data": {
      "text/plain": [
       "[<arbor._arbor.msegment at 0x7f39b5c4d270>,\n",
       " <arbor._arbor.msegment at 0x7f39b5c4d2f0>,\n",
       " <arbor._arbor.msegment at 0x7f39b5c4d370>,\n",
       " <arbor._arbor.msegment at 0x7f39b5c4d3f0>,\n",
       " <arbor._arbor.msegment at 0x7f39b5c4d0b0>,\n",
       " <arbor._arbor.msegment at 0x7f39b5c4d430>,\n",
       " <arbor._arbor.msegment at 0x7f39b5c4d470>,\n",
       " <arbor._arbor.msegment at 0x7f39b5c4d4b0>,\n",
       " <arbor._arbor.msegment at 0x7f39b5c4d4f0>,\n",
       " <arbor._arbor.msegment at 0x7f39b5c4d530>,\n",
       " <arbor._arbor.msegment at 0x7f39b5c4d570>]"
      ]
     },
     "execution_count": 52,
     "metadata": {},
     "output_type": "execute_result"
    }
   ],
   "source": [
    "cells.all_cells[0]._cell._arbor_tree.segments"
   ]
  },
  {
   "cell_type": "markdown",
   "id": "c9bf59fa",
   "metadata": {},
   "source": [
    "Backend Morphology Works"
   ]
  },
  {
   "cell_type": "code",
   "execution_count": 67,
   "id": "6e2e90cb",
   "metadata": {},
   "outputs": [
    {
     "name": "stdout",
     "output_type": "stream",
     "text": [
      "3 spikes recorded:\n",
      "10.165578581468756\n",
      "30.29908895575769\n",
      "50.299320853417214\n"
     ]
    }
   ],
   "source": [
    "acX = arbor.cable_cell(cells.all_cells[0]._cell._arbor_morphology,\n",
    "                     cells.all_cells[2]._cell._arbor_labels,\n",
    "                     cells.all_cells[2]._cell._decor)\n",
    "modX = arbor.single_cell_model(acX)\n",
    "modX.probe(\"voltage\", '\"midpoint\"', frequency=10)\n",
    "modX.run(tfinal=100, dt=0.025)\n",
    "print(len(modX.spikes), \"spikes recorded:\")\n",
    "for s in modX.spikes:\n",
    "    print(s)"
   ]
  },
  {
   "cell_type": "code",
   "execution_count": 68,
   "id": "b0a8bd6a",
   "metadata": {},
   "outputs": [
    {
     "data": {
      "image/png": "[encoded data removed]",
      "text/plain": [
       "<Figure size 432x288 with 2 Axes>"
      ]
     },
     "metadata": {
      "needs_background": "light"
     },
     "output_type": "display_data"
    }
   ],
   "source": [
    "ax1 = pyplot.subplot(211)\n",
    "ax1.plot(mod2.traces[0].time, mod2.traces[0].value)\n",
    "\n",
    "ax2 = pyplot.subplot(212, sharex=ax1)\n",
    "ax2.plot(modX.traces[0].time, modX.traces[0].value)\n",
    "\n",
    "pyplot.show()"
   ]
  },
  {
   "cell_type": "markdown",
   "id": "c020eb89",
   "metadata": {},
   "source": [
    "Renaming the decor does not work"
   ]
  },
  {
   "cell_type": "code",
   "execution_count": 69,
   "id": "cb88404f",
   "metadata": {},
   "outputs": [
    {
     "data": {
      "text/plain": [
       "(label_dict (region  \"ionchnl_pas_in_all\" (all)) (region  \"soma\" (tag 1)) (region  \"basal_dendrite\" (tag 3)) (region  \"apical_dendrite\" (tag 4)) (region  \"everywhere\" (all)) (locset \"soma_midpoint\" (restrict (on_branches 0.5) (tag 1))) (locset \"basal_dendrite_midpoint\" (restrict (on_branches 0.5) (tag 3))) (locset \"apical_dendrite_midpoint\" (restrict (on_branches 0.5) (tag 4))))"
      ]
     },
     "execution_count": 69,
     "metadata": {},
     "output_type": "execute_result"
    }
   ],
   "source": [
    "cells.all_cells[0]._cell._arbor_labels"
   ]
  },
  {
   "cell_type": "code",
   "execution_count": 74,
   "id": "4201fc53",
   "metadata": {},
   "outputs": [],
   "source": [
    "# (3) Create and set up a decor object\n",
    "decorX = arbor.decor()\n",
    "# Set the default properties of the cell (this overrides the model defaults).\n",
    "decorX.set_property(Vm=-55)\n",
    "decorX.set_ion(\"na\", int_con=10, ext_con=140, rev_pot=50, method=\"nernst/na\")\n",
    "decorX.set_ion(\"k\", int_con=54.4, ext_con=2.5, rev_pot=-77)\n",
    "# Override the cell defaults.\n",
    "decorX.paint('\"soma\"', tempK=270)  # since there are no custom label\n",
    "decorX.paint('\"soma\"', Vm=-50)\n",
    "# Paint density mechanisms.\n",
    "decorX.paint('\"everywhere\"', arbor.density(\"pas\"))  # since no all\n",
    "decorX.paint('\"soma\"', arbor.density(\"hh\"))\n",
    "decorX.paint('\"basal_dendrite\"', arbor.density(\"hh\", {\"gkbar\": 0.001}))  # since no dend\n",
    "# Place stimuli and detectors.\n",
    "decorX.place('\"soma_midpoint\"', arbor.iclamp(10, 1, current=2), \"iclamp0\")  # since no root label\n",
    "decorX.place('\"soma_midpoint\"', arbor.iclamp(30, 1, current=2), \"iclamp1\")\n",
    "decorX.place('\"soma_midpoint\"', arbor.iclamp(50, 1, current=2), \"iclamp2\")\n",
    "#decor.place('\"axon_terminal\"', arbor.threshold_detector(-10), \"detector\")\n",
    "decorX.place('\"apical_dendrite_midpoint\"', arbor.spike_detector(-10), \"detector\")  # since no axon_terminal\n",
    "\n",
    "decorX.place('\"soma_midpoint\"', arbor.iclamp( 10, 2, 0.8), \"iclamp\")  # since no midpoint label\n",
    "decorX.place('\"soma_midpoint\"', arbor.spike_detector(-10), \"detector\")"
   ]
  },
  {
   "cell_type": "code",
   "execution_count": 85,
   "id": "6615f014",
   "metadata": {},
   "outputs": [
    {
     "name": "stdout",
     "output_type": "stream",
     "text": [
      "3 spikes recorded:\n",
      "10.165578581468756\n",
      "30.29908895575769\n",
      "50.299320853417214\n"
     ]
    }
   ],
   "source": [
    "acX = arbor.cable_cell(cells.all_cells[0]._cell._arbor_morphology,\n",
    "                     cells.all_cells[0]._cell._arbor_labels,\n",
    "                     decorX)\n",
    "modX = arbor.single_cell_model(acX)\n",
    "modX.probe(\"voltage\", '\"soma_midpoint\"', frequency=10)\n",
    "modX.run(tfinal=100, dt=0.025)\n",
    "print(len(modX.spikes), \"spikes recorded:\")\n",
    "for s in modX.spikes:\n",
    "    print(s)"
   ]
  },
  {
   "cell_type": "code",
   "execution_count": 75,
   "id": "f67f0c78",
   "metadata": {},
   "outputs": [
    {
     "name": "stdout",
     "output_type": "stream",
     "text": [
      "0 spikes recorded:\n"
     ]
    }
   ],
   "source": [
    "acX = arbor.cable_cell(cells.all_cells[0]._cell._arbor_morphology,\n",
    "                     cells.all_cells[0]._cell._arbor_labels,\n",
    "                     decorX)\n",
    "modX = arbor.single_cell_model(acX)\n",
    "modX.probe(\"voltage\", '\"soma_midpoint\"', frequency=10)\n",
    "modX.run(tfinal=100, dt=0.025)\n",
    "print(len(modX.spikes), \"spikes recorded:\")\n",
    "for s in modX.spikes:\n",
    "    print(s)"
   ]
  },
  {
   "cell_type": "markdown",
   "id": "ff61f4a4",
   "metadata": {},
   "source": [
    "Adding labels works"
   ]
  },
  {
   "cell_type": "code",
   "execution_count": 76,
   "id": "99f70373",
   "metadata": {
    "scrolled": true
   },
   "outputs": [
    {
     "data": {
      "text/plain": [
       "(label_dict (region  \"ionchnl_pas_in_all\" (all)) (region  \"soma\" (tag 1)) (region  \"basal_dendrite\" (tag 3)) (region  \"apical_dendrite\" (tag 4)) (region  \"everywhere\" (all)) (locset \"soma_midpoint\" (restrict (on_branches 0.5) (tag 1))) (locset \"basal_dendrite_midpoint\" (restrict (on_branches 0.5) (tag 3))) (locset \"apical_dendrite_midpoint\" (restrict (on_branches 0.5) (tag 4))))"
      ]
     },
     "execution_count": 76,
     "metadata": {},
     "output_type": "execute_result"
    }
   ],
   "source": [
    "cells.all_cells[0]._cell._arbor_labels"
   ]
  },
  {
   "cell_type": "code",
   "execution_count": 82,
   "id": "56c6c9ad",
   "metadata": {},
   "outputs": [],
   "source": [
    "cells.all_cells[0]._cell._arbor_labels[\"axon\"] = \"(tag 2)\"\n",
    "cells.all_cells[0]._cell._arbor_labels[\"dend\"] = \"(tag 3)\"\n",
    "cells.all_cells[0]._cell._arbor_labels[\"apic\"] = \"(tag 4)\"\n",
    "cells.all_cells[0]._cell._arbor_labels[\"all\"] = \"(all)\"\n",
    "cells.all_cells[0]._cell._arbor_labels[\"midpoint\"] = \"(location 0 0.5)\"\n",
    "  # Add a label for the parts of the morphology with radius greater than 1.5 μm.\n",
    "cells.all_cells[0]._cell._arbor_labels[\"gt_1.5\"] = '(radius-ge (region \"all\") 1.5)'\n",
    "  # Join regions \"apic\" and \"gt_1.5\"\n",
    "cells.all_cells[0]._cell._arbor_labels[\"custom\"] = '(join (region \"apic\") (region \"gt_1.5\"))'\n",
    "  # Add a labels for the root of the morphology and all the terminal points\n",
    "cells.all_cells[0]._cell._arbor_labels[\"root\"] = \"(root)\"\n",
    "cells.all_cells[0]._cell._arbor_labels[\"terminal\"] = \"(terminal)\"\n",
    "  # Add a label for the terminal locations in the \"custom\" region:\n",
    "cells.all_cells[0]._cell._arbor_labels[\"custom_terminal\"] = '(restrict (locset \"terminal\") (region \"custom\"))'\n",
    "  # Add a label for the terminal locations in the \"axon\" region:\n",
    "cells.all_cells[0]._cell._arbor_labels[\"axon_terminal\"] = '(restrict (locset \"terminal\") (region \"axon\"))'"
   ]
  },
  {
   "cell_type": "code",
   "execution_count": 83,
   "id": "10ff1d5b",
   "metadata": {},
   "outputs": [
    {
     "data": {
      "text/plain": [
       "(label_dict (region  \"custom\" (join (region \"apic\") (region \"gt_1.5\"))) (region  \"gt_1.5\" (radius-ge (region \"all\") 1.5)) (region  \"all\" (all)) (region  \"apic\" (tag 4)) (region  \"dend\" (tag 3)) (region  \"axon\" (tag 2)) (region  \"ionchnl_pas_in_all\" (all)) (region  \"soma\" (tag 1)) (region  \"basal_dendrite\" (tag 3)) (region  \"apical_dendrite\" (tag 4)) (region  \"everywhere\" (all)) (locset \"root\" (root)) (locset \"midpoint\" (location 0 0.5)) (locset \"axon_terminal\" (restrict (locset \"terminal\") (region \"axon\"))) (locset \"soma_midpoint\" (restrict (on_branches 0.5) (tag 1))) (locset \"custom_terminal\" (restrict (locset \"terminal\") (region \"custom\"))) (locset \"terminal\" (terminal)) (locset \"basal_dendrite_midpoint\" (restrict (on_branches 0.5) (tag 3))) (locset \"apical_dendrite_midpoint\" (restrict (on_branches 0.5) (tag 4))))"
      ]
     },
     "execution_count": 83,
     "metadata": {},
     "output_type": "execute_result"
    }
   ],
   "source": [
    "cells.all_cells[0]._cell._arbor_labels"
   ]
  },
  {
   "cell_type": "code",
   "execution_count": 84,
   "id": "152beba7",
   "metadata": {},
   "outputs": [],
   "source": [
    "# (3) Create and set up a decor object\n",
    "decorX = arbor.decor()\n",
    "# Set the default properties of the cell (this overrides the model defaults).\n",
    "decorX.set_property(Vm=-55)\n",
    "decorX.set_ion(\"na\", int_con=10, ext_con=140, rev_pot=50, method=\"nernst/na\")\n",
    "decorX.set_ion(\"k\", int_con=54.4, ext_con=2.5, rev_pot=-77)\n",
    "# Override the cell defaults.\n",
    "decorX.paint('\"custom\"', tempK=270)\n",
    "decorX.paint('\"soma\"', Vm=-50)\n",
    "# Paint density mechanisms.\n",
    "decorX.paint('\"all\"', arbor.density(\"pas\"))\n",
    "decorX.paint('\"custom\"', arbor.density(\"hh\"))\n",
    "decorX.paint('\"dend\"', arbor.density(\"hh\", {\"gkbar\": 0.001}))\n",
    "# Place stimuli and detectors.\n",
    "decorX.place('\"root\"', arbor.iclamp(10, 1, current=2), \"iclamp0\")\n",
    "decorX.place('\"root\"', arbor.iclamp(30, 1, current=2), \"iclamp1\")\n",
    "decorX.place('\"root\"', arbor.iclamp(50, 1, current=2), \"iclamp2\")\n",
    "#decor.place('\"axon_terminal\"', arbor.threshold_detector(-10), \"detector\")\n",
    "decorX.place('\"axon_terminal\"', arbor.spike_detector(-10), \"detector\")\n",
    "\n",
    "decorX.place('\"midpoint\"', arbor.iclamp( 10, 2, 0.8), \"iclamp\")\n",
    "decorX.place('\"midpoint\"', arbor.spike_detector(-10), \"detector\")"
   ]
  },
  {
   "cell_type": "code",
   "execution_count": 86,
   "id": "6952f564",
   "metadata": {},
   "outputs": [
    {
     "name": "stdout",
     "output_type": "stream",
     "text": [
      "3 spikes recorded:\n",
      "10.165578581468756\n",
      "30.29908895575769\n",
      "50.299320853417214\n"
     ]
    }
   ],
   "source": [
    "acX = arbor.cable_cell(cells.all_cells[0]._cell._arbor_morphology,\n",
    "                     cells.all_cells[0]._cell._arbor_labels,\n",
    "                     decorX)\n",
    "modX = arbor.single_cell_model(acX)\n",
    "modX.probe(\"voltage\", '\"soma_midpoint\"', frequency=10)\n",
    "modX.run(tfinal=100, dt=0.025)\n",
    "print(len(modX.spikes), \"spikes recorded:\")\n",
    "for s in modX.spikes:\n",
    "    print(s)"
   ]
  },
  {
   "cell_type": "code",
   "execution_count": 58,
   "id": "558e299f",
   "metadata": {},
   "outputs": [
    {
     "data": {
      "text/plain": [
       "[<matplotlib.lines.Line2D at 0x7f39b5ac84c0>]"
      ]
     },
     "execution_count": 58,
     "metadata": {},
     "output_type": "execute_result"
    },
    {
     "data": {
      "image/png": "[encoded data removed]",
      "text/plain": [
       "<Figure size 432x288 with 1 Axes>"
      ]
     },
     "metadata": {
      "needs_background": "light"
     },
     "output_type": "display_data"
    }
   ],
   "source": [
    "pyplot.plot(mod2.traces[0].time, mod2.traces[0].value)"
   ]
  },
  {
   "cell_type": "code",
   "execution_count": 87,
   "id": "520256be",
   "metadata": {},
   "outputs": [],
   "source": [
    "name = \"soma\""
   ]
  },
  {
   "cell_type": "code",
   "execution_count": 88,
   "id": "ffc9d9ad",
   "metadata": {},
   "outputs": [
    {
     "data": {
      "text/plain": [
       "\"(restrict (locset 'terminal') (region 'soma'))\""
      ]
     },
     "execution_count": 88,
     "metadata": {},
     "output_type": "execute_result"
    }
   ],
   "source": [
    "\"(restrict (locset 'terminal') (region '\" + name + \"'))\""
   ]
  },
  {
   "cell_type": "code",
   "execution_count": null,
   "id": "5a15311e",
   "metadata": {},
   "outputs": [],
   "source": []
  }
 ],
 "metadata": {
  "kernelspec": {
   "display_name": "Python 3",
   "language": "python",
   "name": "python3"
  },
  "language_info": {
   "codemirror_mode": {
    "name": "ipython",
    "version": 3
   },
   "file_extension": ".py",
   "mimetype": "text/x-python",
   "name": "python",
   "nbconvert_exporter": "python",
   "pygments_lexer": "ipython3",
   "version": "3.8.2"
  }
 },
 "nbformat": 4,
 "nbformat_minor": 5
}
