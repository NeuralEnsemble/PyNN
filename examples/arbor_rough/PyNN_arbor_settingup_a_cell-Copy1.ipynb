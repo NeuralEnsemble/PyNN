{
 "cells": [
  {
   "cell_type": "markdown",
   "metadata": {},
   "source": [
    "# Problem:\n",
    "## Given a morphology in [Arbor](https://arbor.readthedocs.io/en/latest/index.html#) how does one setup the channels?\n",
    "\n",
    "### 1. First the arbor-morphology is created\n",
    "See `PyNN_neuroml_morphology_IN_Arbor.ipynb` for description of the steps."
   ]
  },
  {
   "cell_type": "code",
   "execution_count": 1,
   "metadata": {},
   "outputs": [],
   "source": [
    "from neuroml import Morphology, Segment, Point3DWithDiam as P\n",
    "from pyNN.morphology import NeuroMLMorphology"
   ]
  },
  {
   "cell_type": "code",
   "execution_count": 2,
   "metadata": {},
   "outputs": [],
   "source": [
    "soma = Segment(proximal=P(x=0, y=0, z=0, diameter=18.8),\n",
    "               distal=P(x=18.8, y=0, z=0, diameter=18.8),\n",
    "               name=\"soma\", id=0)\n",
    "dend = Segment(proximal=P(x=0, y=0, z=0, diameter=2),\n",
    "               distal=P(x=-500, y=0, z=0, diameter=2),\n",
    "               name=\"dendrite\",\n",
    "               parent=soma, id=1)\n",
    "neuroml_morph = Morphology(segments=(soma, dend))\n",
    "pynn_morph = NeuroMLMorphology(neuroml_morph)"
   ]
  },
  {
   "cell_type": "code",
   "execution_count": 3,
   "metadata": {},
   "outputs": [],
   "source": [
    "import arbor\n",
    "import re"
   ]
  },
  {
   "cell_type": "code",
   "execution_count": 4,
   "metadata": {},
   "outputs": [],
   "source": [
    "# methods already defined in PyNN_neuroml_morphology_IN_Arbor.ipynb\n",
    "def create_arbor_tree(pynn_nml_morph):\n",
    "    tree = arbor.segment_tree()\n",
    "    for i, nml_seg in enumerate(pynn_nml_morph.segments):\n",
    "        append_arbor_tree(tree, nml_seg)\n",
    "    return tree\n",
    "    \n",
    "def append_arbor_tree(tree, nml_seg):\n",
    "    if not nml_seg.parent:\n",
    "        tree.append(arbor.mnpos,\n",
    "                    arbor.mpoint(nml_seg.proximal.x, nml_seg.proximal.y, nml_seg.proximal.z,\n",
    "                                 nml_seg.proximal.diameter/2),\n",
    "                    arbor.mpoint(nml_seg.distal.x, nml_seg.distal.y, nml_seg.distal.z,\n",
    "                                 nml_seg.distal.diameter/2), tag=get_swc_tag(nml_seg))\n",
    "    else:\n",
    "        tree.append(nml_seg.parent.id,\n",
    "                    arbor.mpoint(nml_seg.proximal.x, nml_seg.proximal.y, nml_seg.proximal.z,\n",
    "                                 nml_seg.proximal.diameter/2),\n",
    "                    arbor.mpoint(nml_seg.distal.x, nml_seg.distal.y, nml_seg.distal.z,\n",
    "                                 nml_seg.distal.diameter/2), tag=get_swc_tag(nml_seg))\n",
    "\n",
    "def get_swc_tag(nml_seg):\n",
    "    if re.search(\"soma\", nml_seg.name, re.IGNORECASE):\n",
    "        return 1\n",
    "    elif re.search(\"axon\", nml_seg.name, re.IGNORECASE):\n",
    "        return 2\n",
    "    elif re.search(\"dend\", nml_seg.name, re.IGNORECASE):\n",
    "        return 3\n",
    "    else:\n",
    "        return 5"
   ]
  },
  {
   "cell_type": "code",
   "execution_count": 5,
   "metadata": {},
   "outputs": [],
   "source": [
    "tree = create_arbor_tree(pynn_morph)"
   ]
  },
  {
   "cell_type": "code",
   "execution_count": 6,
   "metadata": {},
   "outputs": [],
   "source": [
    "#Arbor uses a domains specific language (DSL) to describe regions and locations, which are given labels.\n",
    "def create_region_definitions(pynn_morph):\n",
    "    dict_defs = {}\n",
    "    for i, nml_seg in enumerate(pynn_morph.segments):\n",
    "        dict_defs.update({nml_seg.name: \"(tag \"+ str(get_swc_tag(nml_seg))+ \")\"})\n",
    "    dict_defs.update({\"everywhere\": \"(all)\"})\n",
    "    return dict_defs"
   ]
  },
  {
   "cell_type": "code",
   "execution_count": 7,
   "metadata": {},
   "outputs": [],
   "source": [
    "#dict_defs => {'soma': '(tag 1)', 'dendrite': '(tag 3)'}\n",
    "tree_labels = arbor.label_dict(create_region_definitions(pynn_morph))"
   ]
  },
  {
   "cell_type": "markdown",
   "metadata": {},
   "source": [
    "### 2. Create cell"
   ]
  },
  {
   "cell_type": "code",
   "execution_count": 8,
   "metadata": {},
   "outputs": [],
   "source": [
    "# Cell builders need to refer to regions and locations on a cell morphology.\n",
    "cell = arbor.cable_cell(tree, tree_labels)"
   ]
  },
  {
   "cell_type": "markdown",
   "metadata": {},
   "source": [
    "### 3. Set cell properties.\n",
    "\n",
    "There are [four cable properties](https://arbor.readthedocs.io/en/pydoc/cable_cell.html?#cable-properties) that are defined everywhere on all cables:\n",
    "\n",
    "* `Vm`: Initial membrane voltage [mV].\n",
    "* `cm`: Membrane capacitance [F/m²].\n",
    "* `rL`: Axial resistivity of cable [Ω·cm].\n",
    "* `tempK`: Temperature [Kelvin]."
   ]
  },
  {
   "cell_type": "code",
   "execution_count": 9,
   "metadata": {},
   "outputs": [],
   "source": [
    "# Set cell-wide properties that will be applied by default to # the entire cell.\n",
    "#cell.set_properties(Vm=-70, cm=0.02, rL=30, tempK=30+273.5)\n",
    "cell.set_properties(cm=1.0, rL=500.)"
   ]
  },
  {
   "cell_type": "markdown",
   "metadata": {},
   "source": [
    "### 4. Set ion properties.\n",
    "##### 4.1. Set reversal potentials for respective ions.\n",
    "Although, one might think of this as part of the `arbor.mechanism` it is not. But, one may set the reversal potential for respective ion in the cell created above as follows,"
   ]
  },
  {
   "cell_type": "code",
   "execution_count": 10,
   "metadata": {},
   "outputs": [],
   "source": [
    "cell.set_ion(ion=\"na\", rev_pot=50.)\n",
    "cell.set_ion(ion=\"k\", rev_pot=-77.)"
   ]
  },
  {
   "cell_type": "markdown",
   "metadata": {},
   "source": [
    "### 5. Describe the desired `mechanism`.\n",
    "`arbor.mechanism` describes physical processes, distributed over the membrane of the cell. There are broadly [three classes of mechanisms](https://arbor.readthedocs.io/en/pydoc/mechanisms.html?#mechanism)\n",
    "- Density mechanisms are associated with regions of the cell, whose dynamics are a function of the cell state and their own state where they are present.\n",
    "- Point mechanisms are defined at discrete locations on the cell, which receive events from the network.\n",
    "- A third, specific type of density mechanism, which describes ionic reversal potential behaviour, can be specified for cells or the whole model."
   ]
  },
  {
   "cell_type": "markdown",
   "metadata": {},
   "source": [
    "Note: In Arbor, the reversal potential can also be [computed based on Nernst equation](https://arbor.readthedocs.io/en/pydoc/cable_cell.html?#ion-species)"
   ]
  },
  {
   "cell_type": "markdown",
   "metadata": {},
   "source": [
    "#### 5.2. Set channel mechanisms.\n",
    "##### 5.2.1. For leaky channel, i.e. `passive`\n",
    "For `passive` channel mechanism an instance of `arbor.mechanism('passive')` is created. But, this can be done in various ways:\n",
    "* Create instance using default parameter values (set in NMODL file)\n",
    "    - `pas = arbor.mechanism('passive')`\n",
    "* Create instance with custom reversal potential (Arbor term: [global](https://arbor.readthedocs.io/en/pydoc/mechanisms.html?#mechanism-catalogues))\n",
    "    - `pas = arbor.mechanism('passive/el=-54.3')`\n",
    "    - NOTE: in `arbor.mechanism` **el** stands for reversal potential\n",
    "* Create instance with custom maximum conductance (Arbor term: [range](https://arbor.readthedocs.io/en/pydoc/mechanisms.html?#mechanism-catalogues))\n",
    "    - `pas = arbor.mechanism('passive', {'g': 0.0003})`\n",
    "    - NOTE: in `argbor.mechanism` **g** stands for gbar for respective HH-based channel, maximum conductance.\n",
    "* Create instance with custom reversal potential and custom maximum conductance\n",
    "    - `pas = arbor.mechanism('passive/el=-54.3', {'g': 0.0003})`\n",
    "    - Alternatively, this can be done in two steps as\n",
    "        - `pas = arbor.mechanism('passive/el=-54.3')`\n",
    "        - `pas.set('g', 0.0003)`\n",
    "\n",
    "For this example we would like to enforce `pas={\"conductance_density\": uniform('all', 0.0003), \"e_rev\":-54.3}`"
   ]
  },
  {
   "cell_type": "code",
   "execution_count": 11,
   "metadata": {},
   "outputs": [],
   "source": [
    "leaky_chnl = arbor.mechanism('passive/el=-54.3', {'g': 0.0003})"
   ]
  },
  {
   "cell_type": "markdown",
   "metadata": {},
   "source": [
    "##### 5.2.2. For HH-based Na channel, i.e. `na` and HH-based K channel, i.e. `k`"
   ]
  },
  {
   "cell_type": "code",
   "execution_count": 12,
   "metadata": {},
   "outputs": [],
   "source": [
    "na_chnl = arbor.mechanism(\"hh\", {\"ena\": 50., \"gnabar\": 0.120})\n",
    "# na={\"conductance_density\": uniform('soma', 0.120), \"e_rev\": 50.0}\n",
    "na_chnl = arbor.mechanism(\"hh\", {\"ek\": -77., \"gkbar\": 0.036})\n",
    "# kdr={\"conductance_density\": uniform('soma', 0.036), \"e_rev\": -77.0}\n",
    "hh_na_k_chnl = arbor.mechanism(\"hh\", {\"ena\": 50., \"gnabar\": 0.120, \"ek\": -77., \"gkbar\": 0.036, \"gl\": 0.})"
   ]
  },
  {
   "cell_type": "markdown",
   "metadata": {},
   "source": [
    "Note that in `hh_na_k_chnl` the value for `\"gl\"` is set to 0 because our plan is to paint this channel to specific regions of the cell while pain `leaky_chnl` to every region. And, remember that `leaky_chnl` is also a Hodgkin-Huxley based leaky channel therefore painting it twice will result in duplicated passive channels."
   ]
  },
  {
   "cell_type": "markdown",
   "metadata": {},
   "source": [
    "### 6. Attaching the `mechanism` to the cell.\n",
    "In Arbor attaching to a cell is referred to as [decoration](https://arbor.readthedocs.io/en/pydoc/cable_cell.html?#decoration). On can decorate a cell by _painting_ or _placing_.\n",
    "\n",
    "| Painting                    | Placing                       |\n",
    "|:----------------------------|:------------------------------|\n",
    "| to regions of a cell to set | to locations on a cell to set |\n",
    "| * Cable properties          | * Synapses                    |\n",
    "| * Density mechanisms        | * Gap junction sites          |\n",
    "| * Ion species               | * Threshold (spike) detectors |\n",
    "|                             | * Stimuli                     |\n",
    "|                             | * Probes                      |\n",
    "\n",
    "For our purpose of attaching `arbor.mechanism` one must therefore paint."
   ]
  },
  {
   "cell_type": "code",
   "execution_count": 13,
   "metadata": {},
   "outputs": [],
   "source": [
    "cell.paint(\"soma\", hh_na_k_chnl)"
   ]
  },
  {
   "cell_type": "markdown",
   "metadata": {},
   "source": [
    "Because of the resolution options of _painting_.\n",
    "\n",
    "| to paint               | region | cell | global |\n",
    "|:-----------------------|:------:|:----:|:------:|\n",
    "| cable properties       | ✓      |  ✓  |  ✓     |\n",
    "| ion initial conditions | ✓      |  ✓  |  ✓     |\n",
    "| density mechnism       | ✓      | -   | -       |\n",
    "| ion rev pot mechanism  | -      |  ✓  | ✓      |\n",
    "| ion valence            | -      | -   |  ✓     |\n",
    "\n",
    "if the objective is to attach the `passive` mechanism to the whole cell one must loop through each segment."
   ]
  },
  {
   "cell_type": "code",
   "execution_count": 14,
   "metadata": {},
   "outputs": [],
   "source": [
    "cell.paint(\"everywhere\", leaky_chnl)\n",
    "#\n",
    "#for i, seg in enumerate(pynn_morph.segments):\n",
    "#    #print(seg.name)\n",
    "#    cell.paint(seg.name, leaky_chnl)"
   ]
  },
  {
   "cell_type": "markdown",
   "metadata": {},
   "source": [
    "```\n",
    "cell_class = sim.MultiCompartmentNeuron\n",
    "cell_class.label = \"ExampleMultiCompartmentNeuron\"\n",
    "cell_class.ion_channels = {'pas': sim.PassiveLeak, 'na': sim.NaChannel, 'kdr': sim.KdrChannel}\n",
    "\n",
    "cell_type = cell_class(morphology=NeuroMLMorphology(Morphology(segments=(soma, dend))),  # yuck\n",
    "                       cm=1.0,\n",
    "                       Ra=500.0,\n",
    "                       ionic_species={\n",
    "                              \"na\": IonicSpecies(\"na\", reversal_potential=50.0),\n",
    "                              \"k\": IonicSpecies(\"k\", reversal_potential=-77.0)\n",
    "                       },\n",
    "                       pas={\"conductance_density\": uniform('all', 0.0003),\n",
    "                            \"e_rev\":-54.3},\n",
    "                       na={\"conductance_density\": uniform('soma', 0.120),\n",
    "                           \"e_rev\": 50.0},\n",
    "                       kdr={\"conductance_density\": uniform('soma', 0.036),\n",
    "                            \"e_rev\": -77.0}\n",
    "                       )\n",
    "```"
   ]
  },
  {
   "cell_type": "code",
   "execution_count": 15,
   "metadata": {},
   "outputs": [],
   "source": [
    "#cell.set_properties(Vm=-70, cm=0.02, rL=30, tempK=30+273.5)\n",
    "cell.set_properties(Vm=-70)"
   ]
  },
  {
   "cell_type": "code",
   "execution_count": 16,
   "metadata": {},
   "outputs": [],
   "source": [
    "from pyNN.parameters import IonicSpecies"
   ]
  },
  {
   "cell_type": "code",
   "execution_count": 17,
   "metadata": {},
   "outputs": [],
   "source": [
    "ionic_species={\"na\": IonicSpecies(\"na\", reversal_potential=50.0), \"k\": IonicSpecies(\"k\", reversal_potential=-77.0)}"
   ]
  },
  {
   "cell_type": "code",
   "execution_count": 18,
   "metadata": {},
   "outputs": [
    {
     "data": {
      "text/plain": [
       "'na'"
      ]
     },
     "execution_count": 18,
     "metadata": {},
     "output_type": "execute_result"
    }
   ],
   "source": [
    "ionic_species[\"na\"].ion_name"
   ]
  },
  {
   "cell_type": "markdown",
   "metadata": {},
   "source": [
    "## `~/pyNN/arbor/standardmodels/ion_channels.py`"
   ]
  },
  {
   "cell_type": "code",
   "execution_count": 19,
   "metadata": {},
   "outputs": [],
   "source": [
    "from pyNN.standardmodels import ion_channels as standard, build_translations"
   ]
  },
  {
   "cell_type": "code",
   "execution_count": 20,
   "metadata": {},
   "outputs": [],
   "source": [
    "# arbor/standardmodels/ion_channels.py\n",
    "class NaChannel(standard.NaChannel):\n",
    "    \"\"\"\n",
    "    Exactly the same as neuron.NaChannel because\n",
    "    https://arbor.readthedocs.io/en/pydoc/mechanisms.html?highlight=huxley#density-mechanisms\n",
    "    https://arbor.readthedocs.io/en/pydoc/nmodl.html#nmodl\n",
    "    \"\"\"\n",
    "    translations = build_translations((\"conductance_density\", \"gnabar\"), #(pynn_name, sim_name)\n",
    "                                      (\"e_rev\", \"ena\"),)\n",
    "    #variable_translations = {\"m\": (\"hh\", \"m\"),\n",
    "    #                         \"h\": (\"hh\", \"h\"),}\n",
    "    model = \"hh\"\n",
    "    conductance_density_parameter = \"gnabar\"\n",
    "    \n",
    "class KdrChannel(standard.KdrChannel):\n",
    "    translations = build_translations(('conductance_density', 'gkbar'),\n",
    "                                      ('e_rev', 'ek'),)\n",
    "    #variable_translations = {'n': ('hh', 'n')}\n",
    "    model = \"hh\"\n",
    "    conductance_density_parameter = 'gkbar'\n",
    "\n",
    "\n",
    "class PassiveLeak(standard.PassiveLeak):\n",
    "    translations = build_translations(('conductance_density', 'g'),\n",
    "                                      ('e_rev', 'e'),)\n",
    "    model = \"pas\"\n",
    "    conductance_density_parameter = 'g'\n",
    "    \n",
    "class LeakyChannel(object):\n",
    "    translations = build_translations(('conductance_density', 'gl'),\n",
    "                                      ('e_rev', 'el'),)\n",
    "    model = \"hh\"\n",
    "    conductance_density_parameter = 'gl'"
   ]
  },
  {
   "cell_type": "markdown",
   "metadata": {},
   "source": [
    "## ~/pyNN/arbor/standardmodels/cells.py"
   ]
  },
  {
   "cell_type": "code",
   "execution_count": 21,
   "metadata": {},
   "outputs": [],
   "source": [
    "from pyNN.standardmodels import cells as base_cells, build_translations"
   ]
  },
  {
   "cell_type": "code",
   "execution_count": 28,
   "metadata": {},
   "outputs": [],
   "source": [
    "# ~/pyNN/arbor/standardmodels/cells.py\n",
    "class MultiCompartmentNeuron(base_cells.MultiCompartmentNeuron):\n",
    "    \"\"\"\n",
    "    \"\"\"\n",
    "    translations = build_translations(('Ra', 'rL'), #(pynn_name, sim_name)\n",
    "                                      ('cm', 'cm'),\n",
    "                                      ('morphology', 'morphology'),\n",
    "                                      ('ionic_species', 'ionic_species'))\n",
    "    default_initial_values = {}\n",
    "    ion_channels = {}\n",
    "    post_synaptic_entities = {}\n",
    "    \n",
    "    def __init__(self, **parameters):\n",
    "        # replace ion channel classes with instantiated ion channel objects\n",
    "        for name, ion_channel in self.ion_channels.items():\n",
    "            self.ion_channels[name] = ion_channel(**parameters.pop(name))\n",
    "        # ditto for post synaptic responses\n",
    "        for name, pse in self.post_synaptic_entities.items():\n",
    "            self.post_synaptic_entities[name] = pse(**parameters.pop(name))\n",
    "        super(arbor_MultiCompartmentNeuron, self).__init__(**parameters)\n",
    "        for name, ion_channel in self.ion_channels.items():\n",
    "            self.parameter_space[name] = ion_channel.parameter_space\n",
    "        for name, pse in self.post_synaptic_entities.items():\n",
    "            self.parameter_space[name] = pse.parameter_space\n",
    "        #\n",
    "        self.extra_parameters = {}\n",
    "        self.spike_source = None\n"
   ]
  },
  {
   "cell_type": "code",
   "execution_count": 29,
   "metadata": {},
   "outputs": [],
   "source": [
    "#cell_class = sim.MultiCompartmentNeuron\n",
    "#cell_class.label = \"ExampleMultiCompartmentNeuron\"\n",
    "#cell_class.ion_channels = {'pas': sim.PassiveLeak, 'na': sim.NaChannel, 'kdr': sim.KdrChannel}\n",
    "cell_class = MultiCompartmentNeuron\n",
    "cell_class.label = \"ExampleMultiCompartmentNeuronInArbor\"\n",
    "cell_class.ion_channels = {'pas': PassiveLeak, 'na': NaChannel, 'kdr': KdrChannel}"
   ]
  },
  {
   "cell_type": "code",
   "execution_count": 30,
   "metadata": {},
   "outputs": [
    {
     "data": {
      "text/plain": [
       "{'pas': __main__.arbor_PassiveLeak,\n",
       " 'na': __main__.arbor_NaChannel,\n",
       " 'kdr': __main__.arbor_KdrChannel}"
      ]
     },
     "execution_count": 30,
     "metadata": {},
     "output_type": "execute_result"
    }
   ],
   "source": [
    "cell_class.ion_channels"
   ]
  },
  {
   "cell_type": "code",
   "execution_count": 31,
   "metadata": {},
   "outputs": [],
   "source": [
    "from pyNN.morphology import uniform"
   ]
  },
  {
   "cell_type": "code",
   "execution_count": 32,
   "metadata": {},
   "outputs": [],
   "source": [
    "#morphology=NeuroMLMorphology(Morphology(segments=(soma, dend)))\n",
    "#neuroml_morph = Morphology(segments=(soma, dend))\n",
    "#pynn_morph = NeuroMLMorphology(neuroml_morph)\n",
    "cell_type = cell_class(morphology=pynn_morph,\n",
    "                       cm=1.0,\n",
    "                       Ra=500.0,\n",
    "                       ionic_species={\"na\": IonicSpecies(\"na\", reversal_potential=50.0),\n",
    "                                      \"k\": IonicSpecies(\"k\", reversal_potential=-77.0)},\n",
    "                       pas={\"conductance_density\": uniform('all', 0.0003), \"e_rev\":-54.3},\n",
    "                       na={\"conductance_density\": uniform('soma', 0.120), \"e_rev\": 50.0},\n",
    "                       kdr={\"conductance_density\": uniform('soma', 0.036), \"e_rev\": -77.0}\n",
    "                       )"
   ]
  },
  {
   "cell_type": "code",
   "execution_count": 33,
   "metadata": {},
   "outputs": [
    {
     "data": {
      "text/plain": [
       "{'pas': arbor_PassiveLeak(<parameters>),\n",
       " 'na': arbor_NaChannel(<parameters>),\n",
       " 'kdr': arbor_KdrChannel(<parameters>)}"
      ]
     },
     "execution_count": 33,
     "metadata": {},
     "output_type": "execute_result"
    }
   ],
   "source": [
    "cell_type.ion_channels"
   ]
  },
  {
   "cell_type": "code",
   "execution_count": 34,
   "metadata": {},
   "outputs": [
    {
     "data": {
      "text/plain": [
       "<ParameterSpace morphology, cm, Ra, ionic_species, pas, na, kdr, shape=None>"
      ]
     },
     "execution_count": 34,
     "metadata": {},
     "output_type": "execute_result"
    }
   ],
   "source": [
    "cell_type.parameter_space"
   ]
  },
  {
   "cell_type": "markdown",
   "metadata": {},
   "source": [
    "## ~/pyNN/arbor/simulator.py"
   ]
  },
  {
   "cell_type": "code",
   "execution_count": 35,
   "metadata": {},
   "outputs": [],
   "source": [
    "from pyNN import __path__ as pyNN_path\n",
    "from pyNN import common\n",
    "from pyNN.morphology import MorphologyFilter\n",
    "import logging\n",
    "import numpy\n",
    "import os.path\n",
    "#from neuron import h, nrn_dll_loaded\n",
    "import arbor\n",
    "from operator import itemgetter"
   ]
  },
  {
   "cell_type": "code",
   "execution_count": 36,
   "metadata": {},
   "outputs": [],
   "source": [
    "logger = logging.getLogger(\"PyNN\")\n",
    "name = \"Arbor\"  # for use in annotating output data\n",
    "\n",
    "# Instead of starting the projection var-GID range from 0, the first _MIN_PROJECTION_VARGID are \n",
    "# reserved for other potential uses\n",
    "_MIN_PROJECTION_VARGID = 1000000 "
   ]
  },
  {
   "cell_type": "code",
   "execution_count": null,
   "metadata": {},
   "outputs": [],
   "source": []
  },
  {
   "cell_type": "markdown",
   "metadata": {},
   "source": [
    "## ~/pyNN/arbor/populations.py"
   ]
  },
  {
   "cell_type": "code",
   "execution_count": 37,
   "metadata": {},
   "outputs": [],
   "source": [
    "import numpy\n",
    "import logging\n",
    "from pyNN import common\n",
    "from pyNN.parameters import ArrayParameter, Sequence, ParameterSpace, simplify, LazyArray\n",
    "from pyNN.standardmodels import StandardCellType\n",
    "from pyNN.random import RandomDistribution, NativeRNG\n",
    "#from . import simulator\n",
    "#from .recording import Recorder"
   ]
  },
  {
   "cell_type": "code",
   "execution_count": 38,
   "metadata": {},
   "outputs": [],
   "source": [
    "logger = logging.getLogger(\"PyNN\")"
   ]
  },
  {
   "cell_type": "markdown",
   "metadata": {},
   "source": [
    "#### Copy-paste below the generic classes in `population.py`\n",
    "* `PopulationMixin`\n",
    "* `Assembly`\n",
    "* `PopulationView`"
   ]
  },
  {
   "cell_type": "code",
   "execution_count": 40,
   "metadata": {},
   "outputs": [],
   "source": [
    "class PopulationMixin(object):\n",
    "\n",
    "    def _set_parameters(self, parameter_space):\n",
    "        \"\"\"parameter_space should contain native parameters\"\"\"\n",
    "        parameter_space.evaluate(mask=numpy.where(self._mask_local)[0])\n",
    "        for cell, parameters in zip(self, parameter_space):\n",
    "            for name, val in parameters.items():\n",
    "                setattr(cell._cell, name, val)\n",
    "\n",
    "    def _get_parameters(self, *names):\n",
    "        \"\"\"\n",
    "        return a ParameterSpace containing native parameters\n",
    "        \"\"\"\n",
    "        parameter_dict = {}\n",
    "        for name in names:\n",
    "            if name == 'spike_times':  # hack\n",
    "                parameter_dict[name] = [Sequence(getattr(id._cell, name)) for id in self]\n",
    "            else:\n",
    "                val = numpy.array([getattr(id._cell, name) for id in self])\n",
    "                if isinstance(val[0], tuple) or len(val.shape) == 2:\n",
    "                    val = numpy.array([ArrayParameter(v) for v in val])\n",
    "                    val = LazyArray(simplify(val), shape=(self.local_size,), dtype=ArrayParameter)\n",
    "                    parameter_dict[name] = val\n",
    "                else:\n",
    "                    parameter_dict[name] = simplify(val)\n",
    "                parameter_dict[name] = simplify(val)\n",
    "        return ParameterSpace(parameter_dict, shape=(self.local_size,))\n",
    "\n",
    "    def _set_initial_value_array(self, variable, initial_values):\n",
    "        if initial_values.is_homogeneous:\n",
    "            value = initial_values.evaluate(simplify=True)\n",
    "            for cell in self:  # only on local node\n",
    "                setattr(cell._cell, \"%s_init\" % variable, value)\n",
    "        else:\n",
    "            if isinstance(initial_values.base_value, RandomDistribution) and initial_values.base_value.rng.parallel_safe:\n",
    "                local_values = initial_values.evaluate()[self._mask_local]\n",
    "            else:\n",
    "                local_values = initial_values[self._mask_local]            \n",
    "            for cell, value in zip(self, local_values):\n",
    "                setattr(cell._cell, \"%s_init\" % variable, value)\n",
    "\n",
    "\n",
    "class Assembly(common.Assembly):\n",
    "    __doc__ = common.Assembly.__doc__\n",
    "    #_simulator = simulator\n",
    "\n",
    "\n",
    "class PopulationView(common.PopulationView, PopulationMixin):\n",
    "    __doc__ = common.PopulationView.__doc__\n",
    "    #_simulator = simulator\n",
    "    _assembly_class = Assembly\n",
    "\n",
    "    def _get_view(self, selector, label=None):\n",
    "        return PopulationView(self, selector, label)"
   ]
  },
  {
   "cell_type": "code",
   "execution_count": 42,
   "metadata": {},
   "outputs": [],
   "source": [
    "class Population(common.Population, PopulationMixin):\n",
    "    __doc__ = common.Population.__doc__\n",
    "    #_simulator = simulator\n",
    "    #_recorder_class = Recorder\n",
    "    _assembly_class = Assembly\n",
    "\n",
    "    def __init__(self, size, cellclass, cellparams=None, structure=None,\n",
    "                 initial_values={}, label=None):\n",
    "        __doc__ = common.Population.__doc__\n",
    "        common.Population.__init__(self, size, cellclass, cellparams,\n",
    "                                   structure, initial_values, label)\n",
    "        #simulator.initializer.register(self)\n",
    "\n",
    "    def _get_view(self, selector, label=None):\n",
    "        return PopulationView(self, selector, label)\n",
    "    \n",
    "    def _create_cells(self):\n",
    "        \"\"\"\n",
    "        Create cells in Arbor using the celltype of the current Population.\n",
    "        \"\"\"\n",
    "        # this method should never be called more than once\n",
    "        # perhaps should check for that\n",
    "        self.first_id = simulator.state.gid_counter\n",
    "        self.last_id = simulator.state.gid_counter + self.size - 1\n",
    "        self.all_cells = numpy.array([id for id in range(self.first_id, self.last_id + 1)], \n",
    "                                     simulator.ID)\n",
    "\n",
    "        # mask_local is used to extract those elements from arrays that apply to the cells on the current node\n",
    "        # round-robin distribution of cells between nodes\n",
    "        self._mask_local = self.all_cells % simulator.state.num_processes == simulator.state.mpi_rank\n",
    "\n",
    "        if isinstance(self.celltype, StandardCellType):\n",
    "            parameter_space = self.celltype.native_parameters\n",
    "        else:\n",
    "            parameter_space = self.celltype.parameter_space\n",
    "        parameter_space.shape = (self.size,)\n",
    "        parameter_space.evaluate(mask=None, simplify=True)\n",
    "        for i, (id, is_local, params) in enumerate(zip(self.all_cells, self._mask_local, parameter_space)):\n",
    "            self.all_cells[i] = simulator.ID(id)\n",
    "            self.all_cells[i].parent = self\n",
    "            if is_local:\n",
    "                if hasattr(self.celltype, \"extra_parameters\"):\n",
    "                    params.update(self.celltype.extra_parameters)\n",
    "                self.all_cells[i]._build_cell(self.celltype.model, params)\n",
    "        simulator.initializer.register(*self.all_cells[self._mask_local])\n",
    "        simulator.state.gid_counter += self.size"
   ]
  },
  {
   "cell_type": "code",
   "execution_count": null,
   "metadata": {},
   "outputs": [],
   "source": []
  }
 ],
 "metadata": {
  "kernelspec": {
   "display_name": "Python 3 (ipykernel)",
   "language": "python",
   "name": "python3"
  },
  "language_info": {
   "codemirror_mode": {
    "name": "ipython",
    "version": 3
   },
   "file_extension": ".py",
   "mimetype": "text/x-python",
   "name": "python",
   "nbconvert_exporter": "python",
   "pygments_lexer": "ipython3",
   "version": "3.8.2"
  }
 },
 "nbformat": 4,
 "nbformat_minor": 4
}
