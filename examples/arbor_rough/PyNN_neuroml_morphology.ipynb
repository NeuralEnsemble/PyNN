{
 "cells": [
  {
   "cell_type": "markdown",
   "metadata": {},
   "source": [
    "## How does PyNN construct multicompartment morphology?\n",
    "\n",
    "### 1. The construction is built upon [NeuroML](https://neuroml.org/neuromlv2)\n",
    "Specifically, PyNN uses three classes available in [pyNeuroML](https://pypi.org/project/pyNeuroML/)\n",
    "\n",
    "* `Point3DWithDiam`\n",
    "   - a function that takes creates a 3D point given its x-, y-, z-coordinate and its diameter (in um)\n",
    "* `Segment`\n",
    "   - a function that creates a NeuroML-segment whose ends are given by its proximal and distal 3D point.\n",
    "   - NeuroML-segment is not exactly the same as a segment in NEURON or Arbor.\n",
    "     [Here](https://github.com/NeuroML/NeuroML2/blob/master/examples/NML2_FullCell.nml) is an example of NeuroML-segment.\n",
    "* `Morphology`\n",
    "   - a function that construct a morphology for a given number of segments\n",
    "\n",
    "**NOTE:**\n",
    "[NeuroML](https://neuroml.org/neuromlv2) and [pyNeuroML](https://github.com/NeuroML/pyNeuroML) lacks the documentation for the functions available when using `import neuroml`, let alone the documentation for a `neuroml` function. Also, the [github source code](https://github.com/NeuroML/pyNeuroML) is opaque for a common user.\n",
    "\n",
    "For looking at the how these function work one may use a built-in module of Python, `import inspect` and passing the neuroml class/function in question as argument like,\n",
    "```\n",
    "inspect.getmodule( Morphology )\n",
    "```\n",
    "one can identify the working source code.\n",
    "\n",
    "The above three `neuroml` classes are all in the script\n",
    "`~/envs/<env-name>/lib/python3.8/site-packages/neuroml/nml/nml.py`"
   ]
  },
  {
   "cell_type": "code",
   "execution_count": 1,
   "metadata": {},
   "outputs": [],
   "source": [
    "from neuroml import Morphology, Segment, Point3DWithDiam as P"
   ]
  },
  {
   "cell_type": "code",
   "execution_count": 2,
   "metadata": {},
   "outputs": [],
   "source": [
    "soma = Segment(proximal=P(x=0, y=0, z=0, diameter=18.8),\n",
    "               distal=P(x=18.8, y=0, z=0, diameter=18.8),\n",
    "               name=\"soma\", id=0)\n",
    "dend = Segment(proximal=P(x=0, y=0, z=0, diameter=2),\n",
    "               distal=P(x=-500, y=0, z=0, diameter=2),\n",
    "               name=\"dendrite\",\n",
    "               parent=soma, id=1)"
   ]
  },
  {
   "cell_type": "markdown",
   "metadata": {},
   "source": [
    "### 2. How is the NeuroML morphology made compatible with PyNN?\n",
    "PyNN does not directly utilize the NeuroML morphology (output of `neuroml.Morphology`). Instead, PyNN has an interface that takes the NeuroML morphology such that it creates a morphology that is suitable for use by [`pyNN.<sim>.MultiCompartmentNeuron`](https://github.com/myHBPwork/PyNN/blob/mc/pyNN/neuron/standardmodels/cells.py)(which in turn is a child of [class of same name](https://github.com/myHBPwork/PyNN/blob/mc/pyNN/standardmodels/cells.py).\n",
    "\n",
    "This interface is called `NeuroMLMorphology`."
   ]
  },
  {
   "cell_type": "code",
   "execution_count": 3,
   "metadata": {},
   "outputs": [],
   "source": [
    "from pyNN.morphology import NeuroMLMorphology, uniform"
   ]
  },
  {
   "cell_type": "code",
   "execution_count": 4,
   "metadata": {},
   "outputs": [],
   "source": [
    "morph = NeuroMLMorphology(Morphology(segments=(soma, dend)))"
   ]
  },
  {
   "cell_type": "markdown",
   "metadata": {},
   "source": [
    "### 2.1. What are the methods available in the instance of `NeuroMLMorphology`?\n",
    "Looking at the output of `help(morph)` these are\n",
    "- `get_diameter`\n",
    "- `get_distance`\n",
    "- `id_map`\n",
    "- `labels`\n",
    "- `path_lengths`\n",
    "- `section_groups`\n",
    "- `segments`\n",
    "- `soma_index`\n",
    "- `synamptic_receptors`"
   ]
  },
  {
   "cell_type": "markdown",
   "metadata": {},
   "source": [
    "For the morphology we created above `morph.segments` returns the tuple of segments in the given morphology"
   ]
  },
  {
   "cell_type": "code",
   "execution_count": 6,
   "metadata": {},
   "outputs": [
    {
     "data": {
      "text/plain": [
       "(<Segment|0|soma>, <Segment|1|dendrite>)"
      ]
     },
     "execution_count": 6,
     "metadata": {},
     "output_type": "execute_result"
    }
   ],
   "source": [
    "morph.segments"
   ]
  },
  {
   "cell_type": "markdown",
   "metadata": {},
   "source": [
    "### 2.2. What are the available attributes for a given segment?\n",
    "For the first segment in our morphology (`morph.segments[0]`) the available attributes can be identified either with `help(morph.segments[0])` but it is clearer with `dir(morph.segments[0])`, which returns the attributes as a list.\n",
    "\n",
    "Some of these attributes are:\n",
    "* `morph.segments[0].proximal` and `morph.segments[0].distal`\n",
    "  - this returns the diameter and its coordinates of the respective 3D point, proximal or distal.\n",
    "* `morph.segments[0].parent`\n",
    "  - returns its parent segment if it exist (otherwise it returns nothing)\n",
    "  - when the parent segment does not exist this is equivalent to\n",
    "  ```\n",
    "  >>> not morph.segments[0].parent\n",
    "  True\n",
    "  ```\n",
    "* `morph.segments[0].name`\n",
    "  - returns the name of the segment\n",
    "* `morph.segments[0].id`\n",
    "  - returns the NeuroML-segment id integer number\n",
    "  - Note that this should not be confused with integer for structure identification like those in [SWC](http://www.neuronland.org/NLMorphologyConverter/MorphologyFormats/SWC/Spec.html)"
   ]
  },
  {
   "cell_type": "code",
   "execution_count": 19,
   "metadata": {},
   "outputs": [
    {
     "data": {
      "text/plain": [
       "(0.0, 0.0, 0.0), diam 18.8um"
      ]
     },
     "execution_count": 19,
     "metadata": {},
     "output_type": "execute_result"
    }
   ],
   "source": [
    "morph.segments[0].proximal"
   ]
  },
  {
   "cell_type": "code",
   "execution_count": 38,
   "metadata": {},
   "outputs": [
    {
     "data": {
      "text/plain": [
       "True"
      ]
     },
     "execution_count": 38,
     "metadata": {},
     "output_type": "execute_result"
    }
   ],
   "source": [
    "not morph.segments[0].parent"
   ]
  },
  {
   "cell_type": "code",
   "execution_count": 28,
   "metadata": {},
   "outputs": [
    {
     "data": {
      "text/plain": [
       "<Segment|0|soma>"
      ]
     },
     "execution_count": 28,
     "metadata": {},
     "output_type": "execute_result"
    }
   ],
   "source": [
    "morph.segments[1].parent"
   ]
  },
  {
   "cell_type": "code",
   "execution_count": 41,
   "metadata": {},
   "outputs": [
    {
     "data": {
      "text/plain": [
       "'soma'"
      ]
     },
     "execution_count": 41,
     "metadata": {},
     "output_type": "execute_result"
    }
   ],
   "source": [
    "morph.segments[0].name"
   ]
  },
  {
   "cell_type": "code",
   "execution_count": 39,
   "metadata": {},
   "outputs": [
    {
     "data": {
      "text/plain": [
       "0"
      ]
     },
     "execution_count": 39,
     "metadata": {},
     "output_type": "execute_result"
    }
   ],
   "source": [
    "morph.segments[0].id"
   ]
  },
  {
   "cell_type": "markdown",
   "metadata": {},
   "source": [
    "#### 2.2.1 Extracting the parameters of the proximal and distal points of a segment.\n",
    "As mentioned above, although `morph.segments[0].proximal` (or `morph.segments[0].distal`) returns the diameter and its coordinates of the respective 3D point(proximal or distal), to get their values one must invoke the respective attributes.\n",
    "\n",
    "The available attributes for a given point of a segment may be identified using `dir(morph.segments[0].proximal)`. Therefore,\n",
    "* `morph.segments[0].proximal.x`\n",
    "  - returns the value of the x-coordinate\n",
    "* `morph.segments[0].proximal.y`\n",
    "  - returns the value of the y-coordinate\n",
    "* `morph.segments[0].proximal.z`\n",
    "  - returns the value of the z-coordinate\n",
    "* `morph.segments[0].proximal.diameter`\n",
    "  - returns the value of the diameter (in um)"
   ]
  },
  {
   "cell_type": "code",
   "execution_count": 6,
   "metadata": {},
   "outputs": [
    {
     "data": {
      "text/plain": [
       "[0.0, 0.0, 0.0, 18.8]"
      ]
     },
     "execution_count": 6,
     "metadata": {},
     "output_type": "execute_result"
    }
   ],
   "source": [
    "[morph.segments[0].proximal.x, morph.segments[0].proximal.y, morph.segments[0].proximal.z,\n",
    "morph.segments[0].proximal.diameter]"
   ]
  },
  {
   "cell_type": "code",
   "execution_count": 33,
   "metadata": {},
   "outputs": [],
   "source": [
    "import arbor"
   ]
  },
  {
   "cell_type": "code",
   "execution_count": 34,
   "metadata": {},
   "outputs": [],
   "source": [
    "from arbor import mpoint\n",
    "from arbor import mnpos"
   ]
  },
  {
   "cell_type": "code",
   "execution_count": 35,
   "metadata": {},
   "outputs": [],
   "source": [
    "tree = arbor.segment_tree()"
   ]
  },
  {
   "cell_type": "markdown",
   "metadata": {},
   "source": [
    "##### Create a segment attached to root"
   ]
  },
  {
   "cell_type": "code",
   "execution_count": 37,
   "metadata": {},
   "outputs": [
    {
     "data": {
      "text/plain": [
       "0"
      ]
     },
     "execution_count": 37,
     "metadata": {},
     "output_type": "execute_result"
    }
   ],
   "source": [
    "# Start with a cylinder segment for the soma (with tag 1)\n",
    "tree.append(mnpos, mpoint(0,   0.0, 0, 2.0), mpoint( 4,  0.0, 0, 2.0), tag=1) # `0` segment\n",
    "#tree.append(mnpos, mpoint(0,   0.0, 0, 2.0), mpoint( 4,  0.0, 0, 2.0)) # does it need to be tagged? YES"
   ]
  },
  {
   "cell_type": "markdown",
   "metadata": {},
   "source": [
    "##### Create a section\n",
    "NOTE that section => same tag"
   ]
  },
  {
   "cell_type": "code",
   "execution_count": 12,
   "metadata": {},
   "outputs": [
    {
     "data": {
      "text/plain": [
       "8"
      ]
     },
     "execution_count": 12,
     "metadata": {},
     "output_type": "execute_result"
    }
   ],
   "source": [
    "# Construct the first section of the dendritic tree,\n",
    "# comprised of segments 1 and 2, attached to soma segment 0.\n",
    "tree.append(0,     mpoint(4,   0.0, 0, 0.8), mpoint( 8,  0.0, 0, 0.8), tag=3) # `1` segment\n",
    "tree.append(1,     mpoint(8,   0.0, 0, 0.8), mpoint(12, -0.5, 0, 0.8), tag=3) # `2` segment\n",
    "# Construct the rest of the dendritic tree.\n",
    "tree.append(2,     mpoint(12, -0.5, 0, 0.8), mpoint(20,  4.0, 0, 0.4), tag=3) # `3` segment\n",
    "tree.append(3,     mpoint(20,  4.0, 0, 0.4), mpoint(26,  6.0, 0, 0.2), tag=3) # `4` segment\n",
    "tree.append(2,     mpoint(12, -0.5, 0, 0.5), mpoint(19, -3.0, 0, 0.5), tag=3) # `5` segment\n",
    "tree.append(5,     mpoint(19, -3.0, 0, 0.5), mpoint(24, -7.0, 0, 0.2), tag=3) # `6` segment\n",
    "tree.append(5,     mpoint(19, -3.0, 0, 0.5), mpoint(23, -1.0, 0, 0.2), tag=3) # `7` segment\n",
    "tree.append(7,     mpoint(23, -1.0, 0, 0.2), mpoint(26, -2.0, 0, 0.2), tag=3) # `8` segment"
   ]
  },
  {
   "cell_type": "markdown",
   "metadata": {},
   "source": [
    "##### Create another section"
   ]
  },
  {
   "cell_type": "code",
   "execution_count": 13,
   "metadata": {},
   "outputs": [
    {
     "data": {
      "text/plain": [
       "10"
      ]
     },
     "execution_count": 13,
     "metadata": {},
     "output_type": "execute_result"
    }
   ],
   "source": [
    "# Two segments that define the axon, with the first at the root, where its proximal\n",
    "# end will be connected with the proximal end of the soma segment.\n",
    "tree.append(mnpos, mpoint(0,   0.0, 0, 2.0), mpoint(-7,  0.0, 0, 0.4), tag=2) # `9` segment\n",
    "tree.append(9,     mpoint(-7,  0.0, 0, 0.4), mpoint(-10, 0.0, 0, 0.4), tag=2) # `10` segment"
   ]
  },
  {
   "cell_type": "code",
   "execution_count": 15,
   "metadata": {},
   "outputs": [],
   "source": [
    "morph = arbor.morphology(tree)"
   ]
  },
  {
   "cell_type": "code",
   "execution_count": 19,
   "metadata": {},
   "outputs": [
    {
     "name": "stdout",
     "output_type": "stream",
     "text": [
      "Help on class morphology in module arbor._arbor:\n",
      "\n",
      "class morphology(pybind11_builtins.pybind11_object)\n",
      " |  Method resolution order:\n",
      " |      morphology\n",
      " |      pybind11_builtins.pybind11_object\n",
      " |      builtins.object\n",
      " |  \n",
      " |  Methods defined here:\n",
      " |  \n",
      " |  __init__(...)\n",
      " |      __init__(self: arbor._arbor.morphology, arg0: arbor._arbor.segment_tree) -> None\n",
      " |  \n",
      " |  __str__(...)\n",
      " |      __str__(self: arbor._arbor.morphology) -> str\n",
      " |  \n",
      " |  branch_children(...)\n",
      " |      branch_children(self: arbor._arbor.morphology, i: int) -> List[int]\n",
      " |      \n",
      " |      The child branches of branch i.\n",
      " |  \n",
      " |  branch_parent(...)\n",
      " |      branch_parent(self: arbor._arbor.morphology, i: int) -> int\n",
      " |      \n",
      " |      The parent branch of branch i.\n",
      " |  \n",
      " |  branch_segments(...)\n",
      " |      branch_segments(self: arbor._arbor.morphology, i: int) -> List[arbor._arbor.msegment]\n",
      " |      \n",
      " |      A list of the segments in branch i, ordered from proximal to distal ends of the branch.\n",
      " |  \n",
      " |  ----------------------------------------------------------------------\n",
      " |  Readonly properties defined here:\n",
      " |  \n",
      " |  empty\n",
      " |      Whether the morphology is empty.\n",
      " |  \n",
      " |  num_branches\n",
      " |      The number of branches in the morphology.\n",
      " |  \n",
      " |  ----------------------------------------------------------------------\n",
      " |  Static methods inherited from pybind11_builtins.pybind11_object:\n",
      " |  \n",
      " |  __new__(*args, **kwargs) from pybind11_builtins.pybind11_type\n",
      " |      Create and return a new object.  See help(type) for accurate signature.\n",
      "\n"
     ]
    }
   ],
   "source": [
    "help(arbor.morphology)"
   ]
  },
  {
   "cell_type": "code",
   "execution_count": 20,
   "metadata": {},
   "outputs": [
    {
     "data": {
      "text/plain": [
       "6"
      ]
     },
     "execution_count": 20,
     "metadata": {},
     "output_type": "execute_result"
    }
   ],
   "source": [
    "morph.num_branches"
   ]
  },
  {
   "cell_type": "code",
   "execution_count": 27,
   "metadata": {},
   "outputs": [
    {
     "data": {
      "text/plain": [
       "0"
      ]
     },
     "execution_count": 27,
     "metadata": {},
     "output_type": "execute_result"
    }
   ],
   "source": [
    "morph.branch_parent(1)"
   ]
  },
  {
   "cell_type": "code",
   "execution_count": 28,
   "metadata": {},
   "outputs": [
    {
     "data": {
      "text/plain": [
       "[]"
      ]
     },
     "execution_count": 28,
     "metadata": {},
     "output_type": "execute_result"
    }
   ],
   "source": [
    "morph.branch_children(1)"
   ]
  },
  {
   "cell_type": "code",
   "execution_count": 29,
   "metadata": {},
   "outputs": [
    {
     "data": {
      "text/plain": [
       "[<arbor._arbor.msegment at 0x7fe1a000bdf0>,\n",
       " <arbor._arbor.msegment at 0x7fe1a000beb0>]"
      ]
     },
     "execution_count": 29,
     "metadata": {},
     "output_type": "execute_result"
    }
   ],
   "source": [
    "morph.branch_segments(1)"
   ]
  },
  {
   "cell_type": "code",
   "execution_count": null,
   "metadata": {},
   "outputs": [],
   "source": []
  }
 ],
 "metadata": {
  "kernelspec": {
   "display_name": "Python 3 (ipykernel)",
   "language": "python",
   "name": "python3"
  },
  "language_info": {
   "codemirror_mode": {
    "name": "ipython",
    "version": 3
   },
   "file_extension": ".py",
   "mimetype": "text/x-python",
   "name": "python",
   "nbconvert_exporter": "python",
   "pygments_lexer": "ipython3",
   "version": "3.8.2"
  }
 },
 "nbformat": 4,
 "nbformat_minor": 4
}
