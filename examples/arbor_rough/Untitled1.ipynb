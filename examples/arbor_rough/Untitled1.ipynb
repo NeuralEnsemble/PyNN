{
 "cells": [
  {
   "cell_type": "code",
   "execution_count": 1,
   "metadata": {},
   "outputs": [],
   "source": [
    "import matplotlib\n",
    "matplotlib.use(\"Agg\")\n",
    "from neuroml import Morphology, Segment, Point3DWithDiam as P\n",
    "from pyNN.morphology import NeuroMLMorphology, uniform\n",
    "from pyNN.parameters import IonicSpecies\n",
    "#from pyNN.units import uF_per_cm2, ohm_cm, S_per_cm2, mV, nA, ms\n",
    "from pyNN.utility import get_simulator\n",
    "from pyNN.utility.plotting import Figure, Panel"
   ]
  },
  {
   "cell_type": "code",
   "execution_count": 3,
   "metadata": {},
   "outputs": [
    {
     "name": "stderr",
     "output_type": "stream",
     "text": [
      "usage: ipykernel_launcher.py [-h] simulator\n",
      "ipykernel_launcher.py: error: unrecognized arguments: -f\n"
     ]
    },
    {
     "ename": "SystemExit",
     "evalue": "2",
     "output_type": "error",
     "traceback": [
      "An exception has occurred, use %tb to see the full traceback.\n",
      "\u001b[0;31mSystemExit\u001b[0m\u001b[0;31m:\u001b[0m 2\n"
     ]
    }
   ],
   "source": [
    "sim, options = get_simulator()\n",
    "sim.setup(timestep=0.025) #*ms"
   ]
  },
  {
   "cell_type": "code",
   "execution_count": 5,
   "metadata": {},
   "outputs": [],
   "source": [
    "soma = Segment(proximal=P(x=0, y=0, z=0, diameter=18.8),\n",
    "               distal=P(x=18.8, y=0, z=0, diameter=18.8),\n",
    "               name=\"soma\", id=0)\n",
    "dend = Segment(proximal=P(x=0, y=0, z=0, diameter=2),\n",
    "               distal=P(x=-500, y=0, z=0, diameter=2),\n",
    "               name=\"dendrite\",\n",
    "               parent=soma, id=1)"
   ]
  },
  {
   "cell_type": "code",
   "execution_count": 6,
   "metadata": {},
   "outputs": [
    {
     "ename": "NameError",
     "evalue": "name 'sim' is not defined",
     "output_type": "error",
     "traceback": [
      "\u001b[0;31m---------------------------------------------------------------------------\u001b[0m",
      "\u001b[0;31mNameError\u001b[0m                                 Traceback (most recent call last)",
      "\u001b[0;32m<ipython-input-6-1ca29cc16ec9>\u001b[0m in \u001b[0;36m<module>\u001b[0;34m\u001b[0m\n\u001b[0;32m----> 1\u001b[0;31m \u001b[0msim\u001b[0m\u001b[0;34m.\u001b[0m\u001b[0mMultiCompartmentNeuron\u001b[0m\u001b[0;34m\u001b[0m\u001b[0;34m\u001b[0m\u001b[0m\n\u001b[0m",
      "\u001b[0;31mNameError\u001b[0m: name 'sim' is not defined"
     ]
    }
   ],
   "source": [
    "sim.MultiCompartmentNeuron"
   ]
  },
  {
   "cell_type": "code",
   "execution_count": 7,
   "metadata": {},
   "outputs": [],
   "source": [
    "import pyNN.neuron as sim"
   ]
  },
  {
   "cell_type": "code",
   "execution_count": 8,
   "metadata": {},
   "outputs": [
    {
     "name": "stdout",
     "output_type": "stream",
     "text": [
      "Help on class MultiCompartmentNeuron in module pyNN.neuron.standardmodels.cells:\n",
      "\n",
      "class MultiCompartmentNeuron(pyNN.standardmodels.cells.MultiCompartmentNeuron)\n",
      " |  Method resolution order:\n",
      " |      MultiCompartmentNeuron\n",
      " |      pyNN.standardmodels.cells.MultiCompartmentNeuron\n",
      " |      pyNN.standardmodels.StandardCellType\n",
      " |      pyNN.standardmodels.StandardModelType\n",
      " |      pyNN.models.BaseCellType\n",
      " |      pyNN.models.BaseModelType\n",
      " |      builtins.object\n",
      " |  \n",
      " |  Methods defined here:\n",
      " |  \n",
      " |  __init__(self, **parameters)\n",
      " |      `parameters` should be a mapping object, e.g. a dict\n",
      " |  \n",
      " |  can_record(self, variable, location=None)\n",
      " |  \n",
      " |  get_parameter_names(self)\n",
      " |      Return the names of the parameters of this model.\n",
      " |  \n",
      " |  get_schema(self)\n",
      " |      Returns the model schema: i.e. a mapping of parameter names to allowed\n",
      " |      parameter types.\n",
      " |  \n",
      " |  has_parameter(self, name)\n",
      " |      Does this model have a parameter with the given name?\n",
      " |  \n",
      " |  ----------------------------------------------------------------------\n",
      " |  Readonly properties defined here:\n",
      " |  \n",
      " |  default_parameters\n",
      " |      dict() -> new empty dictionary\n",
      " |      dict(mapping) -> new dictionary initialized from a mapping object's\n",
      " |          (key, value) pairs\n",
      " |      dict(iterable) -> new dictionary initialized as if via:\n",
      " |          d = {}\n",
      " |          for k, v in iterable:\n",
      " |              d[k] = v\n",
      " |      dict(**kwargs) -> new dictionary initialized with the name=value pairs\n",
      " |          in the keyword argument list.  For example:  dict(one=1, two=2)\n",
      " |  \n",
      " |  model\n",
      " |  \n",
      " |  receptor_types\n",
      " |      Built-in immutable sequence.\n",
      " |      \n",
      " |      If no argument is given, the constructor returns an empty tuple.\n",
      " |      If iterable is specified the tuple is initialized from iterable's items.\n",
      " |      \n",
      " |      If the argument is a tuple, the return value is the same object.\n",
      " |  \n",
      " |  recordable\n",
      " |      Built-in mutable sequence.\n",
      " |      \n",
      " |      If no argument is given, the constructor creates a new empty list.\n",
      " |      The argument must be an iterable if specified.\n",
      " |  \n",
      " |  segment_names\n",
      " |  \n",
      " |  ----------------------------------------------------------------------\n",
      " |  Data and other attributes defined here:\n",
      " |  \n",
      " |  __signature__ = <pyNN.standardmodels.cells.Section object>\n",
      " |  \n",
      " |  __wrapped__ = <pyNN.standardmodels.cells.Section object>\n",
      " |  \n",
      " |  default_initial_values = {}\n",
      " |  \n",
      " |  ion_channels = {}\n",
      " |  \n",
      " |  post_synaptic_entities = {}\n",
      " |  \n",
      " |  translations = {'Ra': {'forward_transform': 'Ra', 'reverse_transform':...\n",
      " |  \n",
      " |  ----------------------------------------------------------------------\n",
      " |  Methods inherited from pyNN.standardmodels.cells.MultiCompartmentNeuron:\n",
      " |  \n",
      " |  translate(self, parameters)\n",
      " |      Translate standardized model parameters to simulator-specific parameters.\n",
      " |  \n",
      " |  ----------------------------------------------------------------------\n",
      " |  Data and other attributes inherited from pyNN.standardmodels.cells.MultiCompartmentNeuron:\n",
      " |  \n",
      " |  injectable = True\n",
      " |  \n",
      " |  units = {'gsyn_exc': 'uS', 'gsyn_inh': 'uS', 'kdr.n': 'dimensionless',...\n",
      " |  \n",
      " |  ----------------------------------------------------------------------\n",
      " |  Data and other attributes inherited from pyNN.standardmodels.StandardCellType:\n",
      " |  \n",
      " |  always_local = False\n",
      " |  \n",
      " |  ----------------------------------------------------------------------\n",
      " |  Methods inherited from pyNN.standardmodels.StandardModelType:\n",
      " |  \n",
      " |  computed_parameters(self)\n",
      " |      Return a list of parameters whose values must be computed from\n",
      " |      more than one other parameter.\n",
      " |  \n",
      " |  get_native_names(self, *names)\n",
      " |      Return a list of native parameter names for a given model.\n",
      " |  \n",
      " |  reverse_translate(self, native_parameters)\n",
      " |      Translate simulator-specific model parameters to standardized parameters.\n",
      " |  \n",
      " |  scaled_parameters(self)\n",
      " |      Return a list of parameters for which there is a unit change between\n",
      " |      standard and native parameter values.\n",
      " |  \n",
      " |  simple_parameters(self)\n",
      " |      Return a list of parameters for which there is a one-to-one\n",
      " |      correspondance between standard and native parameter values.\n",
      " |  \n",
      " |  ----------------------------------------------------------------------\n",
      " |  Readonly properties inherited from pyNN.standardmodels.StandardModelType:\n",
      " |  \n",
      " |  native_parameters\n",
      " |      A :class:`ParameterSpace` containing parameter names and values\n",
      " |      translated from the standard PyNN names and units to simulator-specific\n",
      " |      (\"native\") names and units.\n",
      " |  \n",
      " |  ----------------------------------------------------------------------\n",
      " |  Data and other attributes inherited from pyNN.standardmodels.StandardModelType:\n",
      " |  \n",
      " |  extra_parameters = {}\n",
      " |  \n",
      " |  ----------------------------------------------------------------------\n",
      " |  Data and other attributes inherited from pyNN.models.BaseCellType:\n",
      " |  \n",
      " |  conductance_based = True\n",
      " |  \n",
      " |  ----------------------------------------------------------------------\n",
      " |  Methods inherited from pyNN.models.BaseModelType:\n",
      " |  \n",
      " |  __repr__(self)\n",
      " |      Return repr(self).\n",
      " |  \n",
      " |  describe(self, template='modeltype_default.txt', engine='default')\n",
      " |      Returns a human-readable description of the cell or synapse type.\n",
      " |      \n",
      " |      The output may be customized by specifying a different template\n",
      " |      togther with an associated template engine (see ``pyNN.descriptions``).\n",
      " |      \n",
      " |      If template is None, then a dictionary containing the template context\n",
      " |      will be returned.\n",
      " |  \n",
      " |  ----------------------------------------------------------------------\n",
      " |  Data descriptors inherited from pyNN.models.BaseModelType:\n",
      " |  \n",
      " |  __dict__\n",
      " |      dictionary for instance variables (if defined)\n",
      " |  \n",
      " |  __weakref__\n",
      " |      list of weak references to the object (if defined)\n",
      " |  \n",
      " |  ----------------------------------------------------------------------\n",
      " |  Data and other attributes inherited from pyNN.models.BaseModelType:\n",
      " |  \n",
      " |  parameter_checks = {}\n",
      "\n"
     ]
    }
   ],
   "source": [
    "help(sim.MultiCompartmentNeuron)"
   ]
  },
  {
   "cell_type": "code",
   "execution_count": 9,
   "metadata": {},
   "outputs": [
    {
     "data": {
      "text/plain": [
       "<neuroml.nml.nml.Morphology at 0x7f19b899cd00>"
      ]
     },
     "execution_count": 9,
     "metadata": {},
     "output_type": "execute_result"
    }
   ],
   "source": [
    "Morphology(segments=(soma,dend))"
   ]
  },
  {
   "cell_type": "code",
   "execution_count": 10,
   "metadata": {},
   "outputs": [
    {
     "name": "stdout",
     "output_type": "stream",
     "text": [
      "<neuroml.nml.nml.Morphology object at 0x7f19b899c280>\n"
     ]
    }
   ],
   "source": [
    "print(Morphology(segments=(soma,dend)))"
   ]
  },
  {
   "cell_type": "code",
   "execution_count": 11,
   "metadata": {},
   "outputs": [
    {
     "name": "stdout",
     "output_type": "stream",
     "text": [
      "Help on class Morphology in module neuroml.nml.nml:\n",
      "\n",
      "class Morphology(Standalone)\n",
      " |  Morphology(neuro_lex_id=None, id=None, metaid=None, notes=None, properties=None, annotation=None, segments=None, segment_groups=None, **kwargs_)\n",
      " |  \n",
      " |  Standalone element which is usually inside a single cell, but could\n",
      " |  be outside and referenced by id.\n",
      " |  \n",
      " |  Method resolution order:\n",
      " |      Morphology\n",
      " |      Standalone\n",
      " |      Base\n",
      " |      BaseWithoutId\n",
      " |      GeneratedsSuper\n",
      " |      builtins.object\n",
      " |  \n",
      " |  Methods defined here:\n",
      " |  \n",
      " |  __init__(self, neuro_lex_id=None, id=None, metaid=None, notes=None, properties=None, annotation=None, segments=None, segment_groups=None, **kwargs_)\n",
      " |      Initialize self.  See help(type(self)) for accurate signature.\n",
      " |  \n",
      " |  build(self, node)\n",
      " |  \n",
      " |  buildAttributes(self, node, attrs, already_processed)\n",
      " |  \n",
      " |  buildChildren(self, child_, node, nodeName_, fromsubclass_=False)\n",
      " |  \n",
      " |  export(self, outfile, level, namespaceprefix_='', namespacedef_='', name_='Morphology', pretty_print=True)\n",
      " |  \n",
      " |  exportAttributes(self, outfile, level, already_processed, namespaceprefix_='', name_='Morphology')\n",
      " |  \n",
      " |  exportChildren(self, outfile, level, namespaceprefix_='', namespacedef_='', name_='Morphology', fromsubclass_=False, pretty_print=True)\n",
      " |  \n",
      " |  hasContent_(self)\n",
      " |  \n",
      " |  ----------------------------------------------------------------------\n",
      " |  Static methods defined here:\n",
      " |  \n",
      " |  factory(*args_, **kwargs_)\n",
      " |  \n",
      " |  ----------------------------------------------------------------------\n",
      " |  Readonly properties defined here:\n",
      " |  \n",
      " |  num_segments\n",
      " |  \n",
      " |  ----------------------------------------------------------------------\n",
      " |  Data and other attributes defined here:\n",
      " |  \n",
      " |  member_data_items_ = [<neuroml.nml.nml.MemberSpec_ object>, <neuroml.n...\n",
      " |  \n",
      " |  subclass = None\n",
      " |  \n",
      " |  superclass = <class 'neuroml.nml.nml.Standalone'>\n",
      " |      Elements which can stand alone and be referenced by id, e.g. cell,\n",
      " |      morphology.\n",
      " |  \n",
      " |  ----------------------------------------------------------------------\n",
      " |  Methods inherited from Standalone:\n",
      " |  \n",
      " |  validate_MetaId(self, value)\n",
      " |  \n",
      " |  validate_Notes(self, value)\n",
      " |  \n",
      " |  ----------------------------------------------------------------------\n",
      " |  Data and other attributes inherited from Standalone:\n",
      " |  \n",
      " |  validate_MetaId_patterns_ = [['^[a-zA-Z0-9_]*$']]\n",
      " |  \n",
      " |  ----------------------------------------------------------------------\n",
      " |  Methods inherited from Base:\n",
      " |  \n",
      " |  validate_NmlId(self, value)\n",
      " |  \n",
      " |  ----------------------------------------------------------------------\n",
      " |  Data and other attributes inherited from Base:\n",
      " |  \n",
      " |  validate_NmlId_patterns_ = [['^[a-zA-Z_][a-zA-Z0-9_]*$']]\n",
      " |  \n",
      " |  ----------------------------------------------------------------------\n",
      " |  Methods inherited from BaseWithoutId:\n",
      " |  \n",
      " |  validate_NeuroLexId(self, value)\n",
      " |  \n",
      " |  ----------------------------------------------------------------------\n",
      " |  Data and other attributes inherited from BaseWithoutId:\n",
      " |  \n",
      " |  validate_NeuroLexId_patterns_ = [['^[a-zA-Z0-9_:]*$']]\n",
      " |  \n",
      " |  ----------------------------------------------------------------------\n",
      " |  Methods inherited from GeneratedsSuper:\n",
      " |  \n",
      " |  __eq__(self, other)\n",
      " |      Return self==value.\n",
      " |  \n",
      " |  __ne__(self, other)\n",
      " |      Return self!=value.\n",
      " |  \n",
      " |  gds_build_any(self, node, type_name=None)\n",
      " |  \n",
      " |  gds_format_base64(self, input_data, input_name='')\n",
      " |  \n",
      " |  gds_format_boolean(self, input_data, input_name='')\n",
      " |  \n",
      " |  gds_format_boolean_list(self, input_data, input_name='')\n",
      " |  \n",
      " |  gds_format_date(self, input_data, input_name='')\n",
      " |  \n",
      " |  gds_format_datetime(self, input_data, input_name='')\n",
      " |  \n",
      " |  gds_format_double(self, input_data, input_name='')\n",
      " |  \n",
      " |  gds_format_double_list(self, input_data, input_name='')\n",
      " |  \n",
      " |  gds_format_float(self, input_data, input_name='')\n",
      " |  \n",
      " |  gds_format_float_list(self, input_data, input_name='')\n",
      " |  \n",
      " |  gds_format_integer(self, input_data, input_name='')\n",
      " |  \n",
      " |  gds_format_integer_list(self, input_data, input_name='')\n",
      " |  \n",
      " |  gds_format_string(self, input_data, input_name='')\n",
      " |  \n",
      " |  gds_format_time(self, input_data, input_name='')\n",
      " |  \n",
      " |  gds_str_lower(self, instring)\n",
      " |  \n",
      " |  gds_validate_base64(self, input_data, node=None, input_name='')\n",
      " |  \n",
      " |  gds_validate_boolean(self, input_data, node=None, input_name='')\n",
      " |  \n",
      " |  gds_validate_boolean_list(self, input_data, node=None, input_name='')\n",
      " |  \n",
      " |  gds_validate_date(self, input_data, node=None, input_name='')\n",
      " |  \n",
      " |  gds_validate_datetime(self, input_data, node=None, input_name='')\n",
      " |  \n",
      " |  gds_validate_double(self, input_data, node=None, input_name='')\n",
      " |  \n",
      " |  gds_validate_double_list(self, input_data, node=None, input_name='')\n",
      " |  \n",
      " |  gds_validate_float(self, input_data, node=None, input_name='')\n",
      " |  \n",
      " |  gds_validate_float_list(self, input_data, node=None, input_name='')\n",
      " |  \n",
      " |  gds_validate_integer(self, input_data, node=None, input_name='')\n",
      " |  \n",
      " |  gds_validate_integer_list(self, input_data, node=None, input_name='')\n",
      " |  \n",
      " |  gds_validate_simple_patterns(self, patterns, target)\n",
      " |  \n",
      " |  gds_validate_string(self, input_data, node=None, input_name='')\n",
      " |  \n",
      " |  gds_validate_time(self, input_data, node=None, input_name='')\n",
      " |  \n",
      " |  get_class_obj_(self, node, default_class=None)\n",
      " |  \n",
      " |  get_path_(self, node)\n",
      " |  \n",
      " |  get_path_list_(self, node, path_list)\n",
      " |  \n",
      " |  ----------------------------------------------------------------------\n",
      " |  Class methods inherited from GeneratedsSuper:\n",
      " |  \n",
      " |  gds_parse_date(input_data) from builtins.type\n",
      " |  \n",
      " |  gds_parse_datetime(input_data) from builtins.type\n",
      " |  \n",
      " |  gds_parse_time(input_data) from builtins.type\n",
      " |  \n",
      " |  gds_reverse_node_mapping(mapping) from builtins.type\n",
      " |  \n",
      " |  ----------------------------------------------------------------------\n",
      " |  Static methods inherited from GeneratedsSuper:\n",
      " |  \n",
      " |  convert_unicode(instring)\n",
      " |  \n",
      " |  gds_encode(instring)\n",
      " |  \n",
      " |  ----------------------------------------------------------------------\n",
      " |  Data descriptors inherited from GeneratedsSuper:\n",
      " |  \n",
      " |  __dict__\n",
      " |      dictionary for instance variables (if defined)\n",
      " |  \n",
      " |  __weakref__\n",
      " |      list of weak references to the object (if defined)\n",
      " |  \n",
      " |  ----------------------------------------------------------------------\n",
      " |  Data and other attributes inherited from GeneratedsSuper:\n",
      " |  \n",
      " |  Tag_strip_pattern_ = re.compile('\\\\{.*\\\\}')\n",
      " |  \n",
      " |  __hash__ = None\n",
      " |  \n",
      " |  tzoff_pattern = re.compile('(\\\\+|-)((0\\\\d|1[0-3]):[0-5]\\\\d|14:00)$')\n",
      "\n"
     ]
    }
   ],
   "source": [
    "help(Morphology)"
   ]
  },
  {
   "cell_type": "code",
   "execution_count": 12,
   "metadata": {},
   "outputs": [],
   "source": [
    "import inspect"
   ]
  },
  {
   "cell_type": "code",
   "execution_count": 13,
   "metadata": {},
   "outputs": [
    {
     "data": {
      "text/plain": [
       "<module 'neuroml.nml.nml' from '/envs/py3-pyNNarbor/lib/python3.8/site-packages/neuroml/nml/nml.py'>"
      ]
     },
     "execution_count": 13,
     "metadata": {},
     "output_type": "execute_result"
    }
   ],
   "source": [
    "inspect.getmodule(Morphology)"
   ]
  },
  {
   "cell_type": "code",
   "execution_count": 14,
   "metadata": {},
   "outputs": [
    {
     "data": {
      "text/plain": [
       "<module 'pyNN.neuron.standardmodels.cells' from '/simulators/pyNN-arbor/lib/python3.8/site-packages/pyNN/neuron/standardmodels/cells.py'>"
      ]
     },
     "execution_count": 14,
     "metadata": {},
     "output_type": "execute_result"
    }
   ],
   "source": [
    "inspect.getmodule(sim.MultiCompartmentNeuron)"
   ]
  },
  {
   "cell_type": "code",
   "execution_count": null,
   "metadata": {},
   "outputs": [],
   "source": []
  }
 ],
 "metadata": {
  "kernelspec": {
   "display_name": "Python 3",
   "language": "python",
   "name": "python3"
  },
  "language_info": {
   "codemirror_mode": {
    "name": "ipython",
    "version": 3
   },
   "file_extension": ".py",
   "mimetype": "text/x-python",
   "name": "python",
   "nbconvert_exporter": "python",
   "pygments_lexer": "ipython3",
   "version": "3.8.2"
  }
 },
 "nbformat": 4,
 "nbformat_minor": 4
}
