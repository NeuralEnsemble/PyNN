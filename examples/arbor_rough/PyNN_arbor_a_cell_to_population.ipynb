{
 "cells": [
  {
   "cell_type": "markdown",
   "metadata": {},
   "source": [
    "# Problem:\n",
    "## Given a cell in [Arbor](https://arbor.readthedocs.io/en/latest/index.html#) that has been set up How does one create a PyNN population composed of this cell?\n",
    "\n",
    "### 1.Create a cell\n",
    "See `PyNN_arbor_settingup_a_cell.ipynb` for description of the steps.\n",
    "#### 1.1. First the arbor-morphology is created"
   ]
  },
  {
   "cell_type": "code",
   "execution_count": 2,
   "metadata": {},
   "outputs": [],
   "source": [
    "from neuroml import Morphology, Segment, Point3DWithDiam as P\n",
    "from pyNN.morphology import NeuroMLMorphology"
   ]
  },
  {
   "cell_type": "code",
   "execution_count": 3,
   "metadata": {},
   "outputs": [],
   "source": [
    "soma = Segment(proximal=P(x=0, y=0, z=0, diameter=18.8),\n",
    "               distal=P(x=18.8, y=0, z=0, diameter=18.8),\n",
    "               name=\"soma\", id=0)\n",
    "dend = Segment(proximal=P(x=0, y=0, z=0, diameter=2),\n",
    "               distal=P(x=-500, y=0, z=0, diameter=2),\n",
    "               name=\"dendrite\",\n",
    "               parent=soma, id=1)\n",
    "neuroml_morph = Morphology(segments=(soma, dend))\n",
    "pynn_morph = NeuroMLMorphology(neuroml_morph)"
   ]
  },
  {
   "cell_type": "code",
   "execution_count": 4,
   "metadata": {},
   "outputs": [],
   "source": [
    "import arbor\n",
    "import re"
   ]
  },
  {
   "cell_type": "code",
   "execution_count": 5,
   "metadata": {},
   "outputs": [],
   "source": [
    "# methods already defined in PyNN_neuroml_morphology_IN_Arbor.ipynb\n",
    "def create_arbor_tree(pynn_nml_morph):\n",
    "    tree = arbor.segment_tree()\n",
    "    for i, nml_seg in enumerate(pynn_nml_morph.segments):\n",
    "        append_arbor_tree(tree, nml_seg)\n",
    "    return tree\n",
    "    \n",
    "def append_arbor_tree(tree, nml_seg):\n",
    "    if not nml_seg.parent:\n",
    "        tree.append(arbor.mnpos,\n",
    "                    arbor.mpoint(nml_seg.proximal.x, nml_seg.proximal.y, nml_seg.proximal.z,\n",
    "                                 nml_seg.proximal.diameter/2),\n",
    "                    arbor.mpoint(nml_seg.distal.x, nml_seg.distal.y, nml_seg.distal.z,\n",
    "                                 nml_seg.distal.diameter/2), tag=get_swc_tag(nml_seg))\n",
    "    else:\n",
    "        tree.append(nml_seg.parent.id,\n",
    "                    arbor.mpoint(nml_seg.proximal.x, nml_seg.proximal.y, nml_seg.proximal.z,\n",
    "                                 nml_seg.proximal.diameter/2),\n",
    "                    arbor.mpoint(nml_seg.distal.x, nml_seg.distal.y, nml_seg.distal.z,\n",
    "                                 nml_seg.distal.diameter/2), tag=get_swc_tag(nml_seg))\n",
    "\n",
    "def get_swc_tag(nml_seg):\n",
    "    if re.search(\"soma\", nml_seg.name, re.IGNORECASE):\n",
    "        return 1\n",
    "    elif re.search(\"axon\", nml_seg.name, re.IGNORECASE):\n",
    "        return 2\n",
    "    elif re.search(\"dend\", nml_seg.name, re.IGNORECASE):\n",
    "        return 3\n",
    "    else:\n",
    "        return 5"
   ]
  },
  {
   "cell_type": "code",
   "execution_count": 6,
   "metadata": {},
   "outputs": [],
   "source": [
    "tree = create_arbor_tree(pynn_morph)"
   ]
  },
  {
   "cell_type": "code",
   "execution_count": 7,
   "metadata": {},
   "outputs": [],
   "source": [
    "#Arbor uses a domains specific language (DSL) to describe regions and locations, which are given labels.\n",
    "def create_region_definitions(pynn_morph):\n",
    "    dict_defs = {}\n",
    "    for i, nml_seg in enumerate(pynn_morph.segments):\n",
    "        dict_defs.update({nml_seg.name: \"(tag \"+ str(get_swc_tag(nml_seg))+ \")\"})\n",
    "    dict_defs.update({\"everywhere\": \"(all)\"})\n",
    "    return dict_defs"
   ]
  },
  {
   "cell_type": "code",
   "execution_count": 8,
   "metadata": {},
   "outputs": [],
   "source": [
    "#dict_defs => {'soma': '(tag 1)', 'dendrite': '(tag 3)'}\n",
    "tree_labels = arbor.label_dict(create_region_definitions(pynn_morph))"
   ]
  },
  {
   "cell_type": "markdown",
   "metadata": {},
   "source": [
    "#### 1.2. Create cell"
   ]
  },
  {
   "cell_type": "code",
   "execution_count": 9,
   "metadata": {},
   "outputs": [],
   "source": [
    "# Cell builders need to refer to regions and locations on a cell morphology.\n",
    "cell = arbor.cable_cell(tree, tree_labels)"
   ]
  },
  {
   "cell_type": "markdown",
   "metadata": {},
   "source": [
    "#### 1.2. Set cell properties"
   ]
  },
  {
   "cell_type": "code",
   "execution_count": 10,
   "metadata": {},
   "outputs": [],
   "source": [
    "# Set cell-wide properties that will be applied by default to # the entire cell.\n",
    "#cell.set_properties(Vm=-70, cm=0.02, rL=30, tempK=30+273.5)\n",
    "cell.set_properties(cm=1.0, rL=500.)"
   ]
  },
  {
   "cell_type": "markdown",
   "metadata": {},
   "source": [
    "#### 1.3. Set ion properties (for channel mechanisms)"
   ]
  },
  {
   "cell_type": "code",
   "execution_count": 11,
   "metadata": {},
   "outputs": [],
   "source": [
    "cell.set_ion(ion=\"na\", rev_pot=50.)\n",
    "cell.set_ion(ion=\"k\", rev_pot=-77.)"
   ]
  },
  {
   "cell_type": "markdown",
   "metadata": {},
   "source": [
    "#### 1.4. Set channel mechanisms"
   ]
  },
  {
   "cell_type": "code",
   "execution_count": 12,
   "metadata": {},
   "outputs": [],
   "source": [
    "leaky_chnl = arbor.mechanism('passive/el=-54.3', {'g': 0.0003})"
   ]
  },
  {
   "cell_type": "code",
   "execution_count": 13,
   "metadata": {},
   "outputs": [],
   "source": [
    "#na_chnl = arbor.mechanism(\"hh\", {\"ena\": 50., \"gnabar\": 0.120})\n",
    "# na={\"conductance_density\": uniform('soma', 0.120), \"e_rev\": 50.0}\n",
    "#na_chnl = arbor.mechanism(\"hh\", {\"ek\": -77., \"gkbar\": 0.036})\n",
    "# kdr={\"conductance_density\": uniform('soma', 0.036), \"e_rev\": -77.0}\n",
    "hh_na_k_chnl = arbor.mechanism(\"hh\", {\"ena\": 50., \"gnabar\": 0.120, \"ek\": -77., \"gkbar\": 0.036, \"gl\": 0.})"
   ]
  },
  {
   "cell_type": "code",
   "execution_count": 14,
   "metadata": {},
   "outputs": [],
   "source": [
    "cell.paint(\"soma\", hh_na_k_chnl)\n",
    "cell.paint(\"everywhere\", leaky_chnl)"
   ]
  },
  {
   "cell_type": "code",
   "execution_count": 15,
   "metadata": {},
   "outputs": [],
   "source": [
    "#cell.set_properties(Vm=-70, cm=0.02, rL=30, tempK=30+273.5)\n",
    "cell.set_properties(Vm=-70)"
   ]
  },
  {
   "cell_type": "code",
   "execution_count": null,
   "metadata": {},
   "outputs": [],
   "source": []
  }
 ],
 "metadata": {
  "kernelspec": {
   "display_name": "Python 3",
   "language": "python",
   "name": "python3"
  },
  "language_info": {
   "codemirror_mode": {
    "name": "ipython",
    "version": 3
   },
   "file_extension": ".py",
   "mimetype": "text/x-python",
   "name": "python",
   "nbconvert_exporter": "python",
   "pygments_lexer": "ipython3",
   "version": "3.8.2"
  }
 },
 "nbformat": 4,
 "nbformat_minor": 4
}
