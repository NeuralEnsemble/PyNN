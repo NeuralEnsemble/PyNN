{
 "cells": [
  {
   "cell_type": "code",
   "execution_count": 1,
   "metadata": {},
   "outputs": [],
   "source": [
    "import pyNN.neuron as sim\n",
    "import matplotlib\n",
    "matplotlib.use(\"Agg\")\n",
    "from neuroml import Morphology, Segment, Point3DWithDiam as P\n",
    "from pyNN.morphology import NeuroMLMorphology, uniform\n",
    "from pyNN.parameters import IonicSpecies\n",
    "#from pyNN.units import uF_per_cm2, ohm_cm, S_per_cm2, mV, nA, ms\n",
    "from pyNN.utility import get_simulator\n",
    "from pyNN.utility.plotting import Figure, Panel"
   ]
  },
  {
   "cell_type": "code",
   "execution_count": 2,
   "metadata": {},
   "outputs": [
    {
     "data": {
      "text/plain": [
       "0"
      ]
     },
     "execution_count": 2,
     "metadata": {},
     "output_type": "execute_result"
    }
   ],
   "source": [
    "sim.setup(timestep=0.025)"
   ]
  },
  {
   "cell_type": "code",
   "execution_count": 3,
   "metadata": {},
   "outputs": [],
   "source": [
    "soma = Segment(proximal=P(x=0, y=0, z=0, diameter=18.8),\n",
    "               distal=P(x=18.8, y=0, z=0, diameter=18.8),\n",
    "               name=\"soma\", id=0)\n",
    "dend = Segment(proximal=P(x=0, y=0, z=0, diameter=2),\n",
    "               distal=P(x=-500, y=0, z=0, diameter=2),\n",
    "               name=\"dendrite\",\n",
    "               parent=soma, id=1)"
   ]
  },
  {
   "cell_type": "code",
   "execution_count": 4,
   "metadata": {},
   "outputs": [],
   "source": [
    "cell_class = sim.MultiCompartmentNeuron\n",
    "cell_class.label = \"ExampleMultiCompartmentNeuron\"\n",
    "cell_class.ion_channels = {'pas': sim.PassiveLeak, 'na': sim.NaChannel, 'kdr': sim.KdrChannel}"
   ]
  },
  {
   "cell_type": "code",
   "execution_count": 5,
   "metadata": {},
   "outputs": [],
   "source": [
    "cell_type = cell_class(morphology=NeuroMLMorphology(Morphology(segments=(soma, dend))),  # yuck\n",
    "                       cm=1.0,\n",
    "                       Ra=500.0,\n",
    "                       ionic_species={\n",
    "                              \"na\": IonicSpecies(\"na\", reversal_potential=50.0),\n",
    "                              \"k\": IonicSpecies(\"k\", reversal_potential=-77.0)\n",
    "                       },\n",
    "                       pas={\"conductance_density\": uniform('all', 0.0003),\n",
    "                            \"e_rev\":-54.3},\n",
    "                       na={\"conductance_density\": uniform('soma', 0.120),\n",
    "                           \"e_rev\": 50.0},\n",
    "                       kdr={\"conductance_density\": uniform('soma', 0.036),\n",
    "                            \"e_rev\": -77.0}\n",
    "                       )"
   ]
  },
  {
   "cell_type": "code",
   "execution_count": 6,
   "metadata": {},
   "outputs": [
    {
     "data": {
      "text/plain": [
       "pyNN.neuron.standardmodels.cells.ExampleMultiCompartmentNeuron"
      ]
     },
     "execution_count": 6,
     "metadata": {},
     "output_type": "execute_result"
    }
   ],
   "source": [
    "cell_type.model"
   ]
  },
  {
   "cell_type": "code",
   "execution_count": 11,
   "metadata": {},
   "outputs": [
    {
     "data": {
      "text/plain": [
       "{}"
      ]
     },
     "execution_count": 11,
     "metadata": {},
     "output_type": "execute_result"
    }
   ],
   "source": [
    "cell_type.model.post_synaptic_entities"
   ]
  },
  {
   "cell_type": "code",
   "execution_count": 16,
   "metadata": {},
   "outputs": [
    {
     "data": {
      "text/plain": [
       "{'pas': PassiveLeak(<parameters>),\n",
       " 'na': NaChannel(<parameters>),\n",
       " 'kdr': KdrChannel(<parameters>)}"
      ]
     },
     "execution_count": 16,
     "metadata": {},
     "output_type": "execute_result"
    }
   ],
   "source": [
    "cell_type.model.ion_channels"
   ]
  },
  {
   "cell_type": "code",
   "execution_count": 12,
   "metadata": {},
   "outputs": [],
   "source": [
    "#cells = sim.Population(2, cell_type, initial_values={'v': [-60.0, -70.0]})\n",
    "class X:\n",
    "    a = 1"
   ]
  },
  {
   "cell_type": "code",
   "execution_count": 13,
   "metadata": {},
   "outputs": [],
   "source": [
    "X = type('X', (), dict(a=1))"
   ]
  },
  {
   "cell_type": "code",
   "execution_count": 15,
   "metadata": {},
   "outputs": [
    {
     "data": {
      "text/plain": [
       "1"
      ]
     },
     "execution_count": 15,
     "metadata": {},
     "output_type": "execute_result"
    }
   ],
   "source": [
    "X.a"
   ]
  },
  {
   "cell_type": "markdown",
   "metadata": {},
   "source": [
    "Therefore,\n",
    "```\n",
    "    def model(self):\n",
    "        return type(self.label,\n",
    "                    (NeuronTemplate,),\n",
    "                    {\"ion_channels\": self.ion_channels,\n",
    "                     \"post_synaptic_entities\": self.post_synaptic_entities})\n",
    "```\n",
    "returns the template given by the label name having the two attributes"
   ]
  },
  {
   "cell_type": "markdown",
   "metadata": {},
   "source": [
    "The cell building does not take place either in MultiCompartmentNeuron or NeuronTemplate (although this class has the receipe to build). It takes place in Population where the method `_create_cells` invokes `_build_cell` for every cell in the population; this method takes the first argument as the NeuronTemplate class and the second argument is the same argument as you would if you were to invoke NeuronTemplate in isolation. The `_build_cell` method is defined in the `ID` class in `simulatior.py` file. Here, the second argument is passed as the argument to the NeuronTemplate class (the first argument) resulting in creating a cell object assigned to the attribute `self._cell`."
   ]
  },
  {
   "cell_type": "code",
   "execution_count": null,
   "metadata": {},
   "outputs": [],
   "source": []
  }
 ],
 "metadata": {
  "kernelspec": {
   "display_name": "Python 3",
   "language": "python",
   "name": "python3"
  },
  "language_info": {
   "codemirror_mode": {
    "name": "ipython",
    "version": 3
   },
   "file_extension": ".py",
   "mimetype": "text/x-python",
   "name": "python",
   "nbconvert_exporter": "python",
   "pygments_lexer": "ipython3",
   "version": "3.8.2"
  }
 },
 "nbformat": 4,
 "nbformat_minor": 4
}
