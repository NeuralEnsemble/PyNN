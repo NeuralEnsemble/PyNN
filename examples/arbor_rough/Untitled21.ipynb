{
 "cells": [
  {
   "cell_type": "code",
   "execution_count": 1,
   "id": "f97a52fd",
   "metadata": {},
   "outputs": [],
   "source": [
    "from pyNN.morphology import NeuroMLMorphology, load_morphology, uniform, random_section, dendrites, apical_dendrites, by_distance\n",
    "import pyNN.arborproto as sim\n",
    "from pyNN.space import Grid2D, RandomStructure, Sphere"
   ]
  },
  {
   "cell_type": "code",
   "execution_count": 2,
   "id": "95890029",
   "metadata": {},
   "outputs": [],
   "source": [
    "neuroml_morph = load_morphology(\"single_cell_detailed.swc\", replace_axon=None)"
   ]
  },
  {
   "cell_type": "code",
   "execution_count": 3,
   "id": "f872dad3",
   "metadata": {},
   "outputs": [],
   "source": [
    "cc = sim.MultiCompartmentNeuron.setup(\n",
    "\t\t\t\tlabel=\"MyCell\",\n",
    "\t\t\t\tion_channels={'pas': sim.PassiveLeak,\n",
    "\t\t\t\t\t\t\t  'na': sim.NaChannel,\n",
    "\t\t\t\t\t\t\t  'kdr': sim.KdrChannel},\n",
    "\t\t\t\tionic_species={'na_ion': sim.NaIon,\n",
    "\t\t\t\t\t\t\t   'k_ion': sim.KIon},\n",
    "                post_synaptic_entities={'AMPA': sim.CondExpPostSynapticResponse,\n",
    "                                        'GABA_A': sim.CondExpPostSynapticResponse})"
   ]
  },
  {
   "cell_type": "code",
   "execution_count": 4,
   "id": "93134b6e",
   "metadata": {},
   "outputs": [],
   "source": [
    "mycell = cc(morphology=neuroml_morph,\n",
    "\t\t\tcm=1.0,\n",
    "\t\t\tRa=500.0,\n",
    "\t\t\tna_ion = {\"reversal_potential\": 50.0},\n",
    "\t\t\tk_ion = {\"reversal_potential\": -77.0},\n",
    "\t\t\tpas={\"conductance_density\": uniform('all', 0.0003),\n",
    "\t\t\t\t\"e_rev\":-54.3},\n",
    "\t\t\tna={\"conductance_density\": uniform('soma', 0.120),\n",
    "\t\t\t   \"e_rev\": 50.0},\n",
    "\t\t\tkdr={\"conductance_density\": uniform('soma', 0.036),\n",
    "\t\t\t\t\"e_rev\": -77.0},\n",
    "            AMPA={\"density\": uniform('all', 0.05),  # number per µm\n",
    "                  \"e_rev\": 0.0,\n",
    "                  \"tau_syn\": 2.0},\n",
    "            GABA_A={\"density\": uniform('all', 0.05),  # number per µm\n",
    "                    \"e_rev\": -70.0,\n",
    "                    \"tau_syn\": 5.0})"
   ]
  },
  {
   "cell_type": "code",
   "execution_count": 5,
   "id": "3a371ce6",
   "metadata": {},
   "outputs": [
    {
     "name": "stdout",
     "output_type": "stream",
     "text": [
      "(label_dict (region  \"ionchnl_pas_in_all\" (all)) (region  \"soma\" (tag 1)) (region  \"basal_dendrite\" (tag 3)) (region  \"apical_dendrite\" (tag 4)) (region  \"axon\" (tag 2)))\n"
     ]
    },
    {
     "ename": "TypeError",
     "evalue": "place(): incompatible function arguments. The following argument types are supported:\n    1. (self: arbor._arbor.decor, locations: str, synapse: arbor._arbor.synapse, label: str) -> None\n    2. (self: arbor._arbor.decor, locations: str, junction: arbor._arbor.junction, label: str) -> None\n    3. (self: arbor._arbor.decor, locations: str, iclamp: arbor._arbor.iclamp, label: str) -> None\n    4. (self: arbor._arbor.decor, locations: str, detector: arbor._arbor.spike_detector, label: str) -> None\n\nInvoked with: <arbor._arbor.decor object at 0x7f7cca8d58f0>, '\"syn_AMPA_in_all\"', <arbor.synapse mechanism('expsyn', {\"e\": 0, \"tau\": 2})>",
     "output_type": "error",
     "traceback": [
      "\u001b[0;31m---------------------------------------------------------------------------\u001b[0m",
      "\u001b[0;31mTypeError\u001b[0m                                 Traceback (most recent call last)",
      "\u001b[0;32m<ipython-input-5-f9d806e24b15>\u001b[0m in \u001b[0;36m<module>\u001b[0;34m\u001b[0m\n\u001b[0;32m----> 1\u001b[0;31m \u001b[0mcells\u001b[0m \u001b[0;34m=\u001b[0m \u001b[0msim\u001b[0m\u001b[0;34m.\u001b[0m\u001b[0mPopulation\u001b[0m\u001b[0;34m(\u001b[0m\u001b[0;36m2\u001b[0m\u001b[0;34m,\u001b[0m \u001b[0mmycell\u001b[0m\u001b[0;34m,\u001b[0m \u001b[0minitial_values\u001b[0m\u001b[0;34m=\u001b[0m\u001b[0;34m{\u001b[0m\u001b[0;34m'v'\u001b[0m\u001b[0;34m:\u001b[0m \u001b[0;34m-\u001b[0m\u001b[0;36m60.0\u001b[0m\u001b[0;34m}\u001b[0m\u001b[0;34m,\u001b[0m \u001b[0mstructure\u001b[0m\u001b[0;34m=\u001b[0m\u001b[0mGrid2D\u001b[0m\u001b[0;34m(\u001b[0m\u001b[0;34m)\u001b[0m\u001b[0;34m)\u001b[0m\u001b[0;34m\u001b[0m\u001b[0;34m\u001b[0m\u001b[0m\n\u001b[0m",
      "\u001b[0;32m/envs/py3-pyNNarbor_latest/lib/python3.8/site-packages/pyNN/common/populations.py\u001b[0m in \u001b[0;36m__init__\u001b[0;34m(self, size, cellclass, cellparams, structure, initial_values, label)\u001b[0m\n\u001b[1;32m    681\u001b[0m         \u001b[0;31m# All are stored in a single numpy array for easy lookup by address\u001b[0m\u001b[0;34m\u001b[0m\u001b[0;34m\u001b[0m\u001b[0;34m\u001b[0m\u001b[0m\n\u001b[1;32m    682\u001b[0m         \u001b[0;31m# The local cells are also stored in a list, for easy iteration\u001b[0m\u001b[0;34m\u001b[0m\u001b[0;34m\u001b[0m\u001b[0;34m\u001b[0m\u001b[0m\n\u001b[0;32m--> 683\u001b[0;31m         \u001b[0mself\u001b[0m\u001b[0;34m.\u001b[0m\u001b[0m_create_cells\u001b[0m\u001b[0;34m(\u001b[0m\u001b[0;34m)\u001b[0m\u001b[0;34m\u001b[0m\u001b[0;34m\u001b[0m\u001b[0m\n\u001b[0m\u001b[1;32m    684\u001b[0m         \u001b[0mself\u001b[0m\u001b[0;34m.\u001b[0m\u001b[0mfirst_id\u001b[0m \u001b[0;34m=\u001b[0m \u001b[0mself\u001b[0m\u001b[0;34m.\u001b[0m\u001b[0mall_cells\u001b[0m\u001b[0;34m[\u001b[0m\u001b[0;36m0\u001b[0m\u001b[0;34m]\u001b[0m\u001b[0;34m\u001b[0m\u001b[0;34m\u001b[0m\u001b[0m\n\u001b[1;32m    685\u001b[0m         \u001b[0mself\u001b[0m\u001b[0;34m.\u001b[0m\u001b[0mlast_id\u001b[0m \u001b[0;34m=\u001b[0m \u001b[0mself\u001b[0m\u001b[0;34m.\u001b[0m\u001b[0mall_cells\u001b[0m\u001b[0;34m[\u001b[0m\u001b[0;34m-\u001b[0m\u001b[0;36m1\u001b[0m\u001b[0;34m]\u001b[0m\u001b[0;34m\u001b[0m\u001b[0;34m\u001b[0m\u001b[0m\n",
      "\u001b[0;32m/envs/py3-pyNNarbor_latest/lib/python3.8/site-packages/pyNN/arborproto/populations.py\u001b[0m in \u001b[0;36m_create_cells\u001b[0;34m(self)\u001b[0m\n\u001b[1;32m     89\u001b[0m                     \u001b[0mparams\u001b[0m\u001b[0;34m.\u001b[0m\u001b[0mupdate\u001b[0m\u001b[0;34m(\u001b[0m\u001b[0mself\u001b[0m\u001b[0;34m.\u001b[0m\u001b[0mcelltype\u001b[0m\u001b[0;34m.\u001b[0m\u001b[0mextra_parameters\u001b[0m\u001b[0;34m)\u001b[0m\u001b[0;34m\u001b[0m\u001b[0;34m\u001b[0m\u001b[0m\n\u001b[1;32m     90\u001b[0m                 \u001b[0;32mif\u001b[0m \u001b[0misinstance\u001b[0m\u001b[0;34m(\u001b[0m\u001b[0mself\u001b[0m\u001b[0;34m.\u001b[0m\u001b[0mcelltype\u001b[0m\u001b[0;34m,\u001b[0m \u001b[0mMultiCompartmentNeuron\u001b[0m\u001b[0;34m)\u001b[0m\u001b[0;34m:\u001b[0m\u001b[0;34m\u001b[0m\u001b[0;34m\u001b[0m\u001b[0m\n\u001b[0;32m---> 91\u001b[0;31m                     \u001b[0mself\u001b[0m\u001b[0;34m.\u001b[0m\u001b[0mall_cells\u001b[0m\u001b[0;34m[\u001b[0m\u001b[0mi\u001b[0m\u001b[0;34m]\u001b[0m\u001b[0;34m.\u001b[0m\u001b[0m_build_cell\u001b[0m\u001b[0;34m(\u001b[0m\u001b[0mself\u001b[0m\u001b[0;34m.\u001b[0m\u001b[0mcelltype\u001b[0m\u001b[0;34m.\u001b[0m\u001b[0mmodel\u001b[0m\u001b[0;34m,\u001b[0m \u001b[0mparams\u001b[0m\u001b[0;34m)\u001b[0m\u001b[0;34m\u001b[0m\u001b[0;34m\u001b[0m\u001b[0m\n\u001b[0m\u001b[1;32m     92\u001b[0m \u001b[0;34m\u001b[0m\u001b[0m\n\u001b[1;32m     93\u001b[0m     \u001b[0;32mdef\u001b[0m \u001b[0m_set_initial_value_array\u001b[0m\u001b[0;34m(\u001b[0m\u001b[0mself\u001b[0m\u001b[0;34m,\u001b[0m \u001b[0mvariable\u001b[0m\u001b[0;34m,\u001b[0m \u001b[0minitial_values\u001b[0m\u001b[0;34m)\u001b[0m\u001b[0;34m:\u001b[0m\u001b[0;34m\u001b[0m\u001b[0;34m\u001b[0m\u001b[0m\n",
      "\u001b[0;32m/envs/py3-pyNNarbor_latest/lib/python3.8/site-packages/pyNN/arborproto/simulator.py\u001b[0m in \u001b[0;36m_build_cell\u001b[0;34m(self, cell_model, cell_parameters)\u001b[0m\n\u001b[1;32m     47\u001b[0m         \"\"\"\n\u001b[1;32m     48\u001b[0m         \u001b[0mgid\u001b[0m \u001b[0;34m=\u001b[0m \u001b[0mint\u001b[0m\u001b[0;34m(\u001b[0m\u001b[0mself\u001b[0m\u001b[0;34m)\u001b[0m\u001b[0;34m\u001b[0m\u001b[0;34m\u001b[0m\u001b[0m\n\u001b[0;32m---> 49\u001b[0;31m         \u001b[0mself\u001b[0m\u001b[0;34m.\u001b[0m\u001b[0m_cell\u001b[0m \u001b[0;34m=\u001b[0m \u001b[0mcell_model\u001b[0m\u001b[0;34m(\u001b[0m\u001b[0;34m**\u001b[0m\u001b[0mcell_parameters\u001b[0m\u001b[0;34m)\u001b[0m          \u001b[0;31m# create the cell object\u001b[0m\u001b[0;34m\u001b[0m\u001b[0;34m\u001b[0m\u001b[0m\n\u001b[0m\u001b[1;32m     50\u001b[0m         \u001b[0;31m# state.register_gid(gid, self._cell.source, section=self._cell.source_section)\u001b[0m\u001b[0;34m\u001b[0m\u001b[0;34m\u001b[0m\u001b[0;34m\u001b[0m\u001b[0m\n\u001b[1;32m     51\u001b[0m         \u001b[0;31m# if hasattr(self._cell, \"get_threshold\"):            # this is not adequate, since the threshold may be changed after cell creation\u001b[0m\u001b[0;34m\u001b[0m\u001b[0;34m\u001b[0m\u001b[0;34m\u001b[0m\u001b[0m\n",
      "\u001b[0;32m/envs/py3-pyNNarbor_latest/lib/python3.8/site-packages/pyNN/arborproto/cells.py\u001b[0m in \u001b[0;36m__init__\u001b[0;34m(self, morphology, cm, Ra, **other_parameters)\u001b[0m\n\u001b[1;32m     45\u001b[0m         self._arbor_labels, self._decor = DecorateIonChannels(self._decor, self._arbor_labels, self.ion_channels,\n\u001b[1;32m     46\u001b[0m                                                               other_parameters)\n\u001b[0;32m---> 47\u001b[0;31m         self._arbor_labels, self._decor = DecorateSynapse(self._decor, self._arbor_labels, self.post_synaptic_entities,\n\u001b[0m\u001b[1;32m     48\u001b[0m                                                           other_parameters, self._arbor_morphology)\n",
      "\u001b[0;32m/envs/py3-pyNNarbor_latest/lib/python3.8/site-packages/pyNN/arborproto/procedures/decorate_synapse.py\u001b[0m in \u001b[0;36m__new__\u001b[0;34m(cls, parent_decor, arbor_labels, post_synaptic_entities, other_parameters, arbor_morphology)\u001b[0m\n\u001b[1;32m     88\u001b[0m         \u001b[0;32melse\u001b[0m\u001b[0;34m:\u001b[0m  \u001b[0;31m# creating new instance of DecorateSynapseMain from DecorateSynapse\u001b[0m\u001b[0;34m\u001b[0m\u001b[0;34m\u001b[0m\u001b[0m\n\u001b[1;32m     89\u001b[0m             \u001b[0mclass_inst\u001b[0m \u001b[0;34m=\u001b[0m \u001b[0mDecorateSynapseMain\u001b[0m\u001b[0;34m(\u001b[0m\u001b[0marbor_labels\u001b[0m\u001b[0;34m,\u001b[0m \u001b[0mpost_synaptic_entities\u001b[0m\u001b[0;34m,\u001b[0m \u001b[0mother_parameters\u001b[0m\u001b[0;34m)\u001b[0m\u001b[0;34m\u001b[0m\u001b[0;34m\u001b[0m\u001b[0m\n\u001b[0;32m---> 90\u001b[0;31m             \u001b[0;32mreturn\u001b[0m \u001b[0mclass_inst\u001b[0m\u001b[0;34m.\u001b[0m\u001b[0m_decorate_synaptic_entities\u001b[0m\u001b[0;34m(\u001b[0m\u001b[0mparent_decor\u001b[0m\u001b[0;34m,\u001b[0m \u001b[0marbor_morphology\u001b[0m\u001b[0;34m)\u001b[0m\u001b[0;34m\u001b[0m\u001b[0;34m\u001b[0m\u001b[0m\n\u001b[0m",
      "\u001b[0;32m/envs/py3-pyNNarbor_latest/lib/python3.8/site-packages/pyNN/arborproto/procedures/decorate_synapse.py\u001b[0m in \u001b[0;36m_decorate_synaptic_entities\u001b[0;34m(self, parent_decor, arbor_morphology)\u001b[0m\n\u001b[1;32m     33\u001b[0m             \u001b[0msyn_mech\u001b[0m \u001b[0;34m=\u001b[0m \u001b[0mself\u001b[0m\u001b[0;34m.\u001b[0m\u001b[0m__create_arbor_syn_mechanism\u001b[0m\u001b[0;34m(\u001b[0m\u001b[0mpse\u001b[0m\u001b[0;34m,\u001b[0m \u001b[0mparameters\u001b[0m\u001b[0;34m)\u001b[0m\u001b[0;34m\u001b[0m\u001b[0;34m\u001b[0m\u001b[0m\n\u001b[1;32m     34\u001b[0m             \u001b[0mprint\u001b[0m\u001b[0;34m(\u001b[0m\u001b[0mself\u001b[0m\u001b[0;34m.\u001b[0m\u001b[0m_arbor_labels\u001b[0m\u001b[0;34m)\u001b[0m\u001b[0;34m\u001b[0m\u001b[0;34m\u001b[0m\u001b[0m\n\u001b[0;32m---> 35\u001b[0;31m             \u001b[0mparent_decor\u001b[0m\u001b[0;34m.\u001b[0m\u001b[0mplace\u001b[0m\u001b[0;34m(\u001b[0m\u001b[0mself\u001b[0m\u001b[0;34m.\u001b[0m\u001b[0m__place_loc\u001b[0m\u001b[0;34m(\u001b[0m\u001b[0mname\u001b[0m\u001b[0;34m,\u001b[0m \u001b[0mparameters\u001b[0m\u001b[0;34m,\u001b[0m \u001b[0marbor_morphology\u001b[0m\u001b[0;34m)\u001b[0m\u001b[0;34m,\u001b[0m \u001b[0msyn_mech\u001b[0m\u001b[0;34m)\u001b[0m\u001b[0;34m\u001b[0m\u001b[0;34m\u001b[0m\u001b[0m\n\u001b[0m\u001b[1;32m     36\u001b[0m             \u001b[0;32mreturn\u001b[0m \u001b[0mself\u001b[0m\u001b[0;34m.\u001b[0m\u001b[0m_arbor_labels\u001b[0m\u001b[0;34m,\u001b[0m \u001b[0mparent_decor\u001b[0m\u001b[0;34m\u001b[0m\u001b[0;34m\u001b[0m\u001b[0m\n\u001b[1;32m     37\u001b[0m \u001b[0;34m\u001b[0m\u001b[0m\n",
      "\u001b[0;31mTypeError\u001b[0m: place(): incompatible function arguments. The following argument types are supported:\n    1. (self: arbor._arbor.decor, locations: str, synapse: arbor._arbor.synapse, label: str) -> None\n    2. (self: arbor._arbor.decor, locations: str, junction: arbor._arbor.junction, label: str) -> None\n    3. (self: arbor._arbor.decor, locations: str, iclamp: arbor._arbor.iclamp, label: str) -> None\n    4. (self: arbor._arbor.decor, locations: str, detector: arbor._arbor.spike_detector, label: str) -> None\n\nInvoked with: <arbor._arbor.decor object at 0x7f7cca8d58f0>, '\"syn_AMPA_in_all\"', <arbor.synapse mechanism('expsyn', {\"e\": 0, \"tau\": 2})>"
     ]
    }
   ],
   "source": [
    "cells = sim.Population(2, mycell, initial_values={'v': -60.0}, structure=Grid2D())"
   ]
  },
  {
   "cell_type": "code",
   "execution_count": 7,
   "id": "4804361a",
   "metadata": {},
   "outputs": [
    {
     "data": {
      "text/plain": [
       "42"
      ]
     },
     "execution_count": 7,
     "metadata": {},
     "output_type": "execute_result"
    }
   ],
   "source": [
    "cells.all_cells[0]._"
   ]
  },
  {
   "cell_type": "code",
   "execution_count": null,
   "id": "fd2ea600",
   "metadata": {},
   "outputs": [],
   "source": [
    "armorph.branch_segments(1)[0].tag"
   ]
  },
  {
   "cell_type": "code",
   "execution_count": null,
   "id": "46383148",
   "metadata": {},
   "outputs": [],
   "source": [
    "armorph.num_branches"
   ]
  },
  {
   "cell_type": "code",
   "execution_count": null,
   "id": "0114d709",
   "metadata": {},
   "outputs": [],
   "source": [
    "armorph.branch_segments(1)"
   ]
  },
  {
   "cell_type": "code",
   "execution_count": null,
   "id": "42da8743",
   "metadata": {},
   "outputs": [],
   "source": [
    "len(armorph.branch_segments(1))"
   ]
  },
  {
   "cell_type": "code",
   "execution_count": null,
   "id": "5e9bc61c",
   "metadata": {},
   "outputs": [],
   "source": [
    "def get_name(swc_tag):\n",
    "    tag_and_name = {\n",
    "        0: \"UNDEFINED\",\n",
    "        1: \"soma\",\n",
    "        2: \"axon\",\n",
    "        3: \"basal_dendrite\",\n",
    "        4: \"apical_dendrite\",\n",
    "        5: \"CUSTOM\",\n",
    "        6: \"unspecific_neurite\",\n",
    "        7: \"glia\",\n",
    "    }\n",
    "    return tag_and_name[swc_tag]"
   ]
  },
  {
   "cell_type": "code",
   "execution_count": null,
   "id": "2f070ee1",
   "metadata": {},
   "outputs": [],
   "source": [
    "def create_base_dictionary(arbor_morph):\n",
    "    base_dict = {}\n",
    "    for i in range(arbor_morph.num_branches):\n",
    "        for j in range(len(arbor_morph.branch_segments(i))):\n",
    "            tag = arbor_morph.branch_segments(i)[j].tag\n",
    "            base_dict.update({get_name(tag): \"(tag \" + str(tag) + \")\"})\n",
    "    return base_dict"
   ]
  },
  {
   "cell_type": "code",
   "execution_count": null,
   "id": "5ea158b7",
   "metadata": {},
   "outputs": [],
   "source": [
    "create_base_dictionary(armorph)"
   ]
  },
  {
   "cell_type": "code",
   "execution_count": null,
   "id": "4f7ae857",
   "metadata": {},
   "outputs": [],
   "source": []
  }
 ],
 "metadata": {
  "kernelspec": {
   "display_name": "Python 3",
   "language": "python",
   "name": "python3"
  },
  "language_info": {
   "codemirror_mode": {
    "name": "ipython",
    "version": 3
   },
   "file_extension": ".py",
   "mimetype": "text/x-python",
   "name": "python",
   "nbconvert_exporter": "python",
   "pygments_lexer": "ipython3",
   "version": "3.8.2"
  }
 },
 "nbformat": 4,
 "nbformat_minor": 5
}
