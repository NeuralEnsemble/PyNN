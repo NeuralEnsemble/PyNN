{
 "cells": [
  {
   "cell_type": "code",
   "execution_count": 39,
   "metadata": {},
   "outputs": [],
   "source": [
    "from pyNN.morphology import NeuroMLMorphology, uniform\n",
    "from neuroml import Morphology, Segment, Point3DWithDiam as P\n",
    "from pyNN.morphology import load_morphology, uniform, random_section, dendrites, apical_dendrites, by_distance"
   ]
  },
  {
   "cell_type": "code",
   "execution_count": 40,
   "metadata": {},
   "outputs": [],
   "source": [
    "soma = Segment(proximal=P(x=0, y=0, z=0, diameter=18.8),\n",
    "               distal=P(x=18.8, y=0, z=0, diameter=18.8),\n",
    "               name=\"soma\", id=0)\n",
    "dend = Segment(proximal=P(x=0, y=0, z=0, diameter=2),\n",
    "               distal=P(x=-500, y=0, z=0, diameter=2),\n",
    "               name=\"dendrite\",\n",
    "               parent=soma, id=1)"
   ]
  },
  {
   "cell_type": "code",
   "execution_count": 43,
   "metadata": {},
   "outputs": [],
   "source": [
    "morphology=NeuroMLMorphology(Morphology(segments=(soma, dend)))"
   ]
  },
  {
   "cell_type": "code",
   "execution_count": 44,
   "metadata": {},
   "outputs": [
    {
     "data": {
      "text/plain": [
       "{0: 0, 1: 1}"
      ]
     },
     "execution_count": 44,
     "metadata": {},
     "output_type": "execute_result"
    }
   ],
   "source": [
    "morphology.id_map"
   ]
  },
  {
   "cell_type": "code",
   "execution_count": 47,
   "metadata": {},
   "outputs": [
    {
     "data": {
      "text/plain": [
       "{}"
      ]
     },
     "execution_count": 47,
     "metadata": {},
     "output_type": "execute_result"
    }
   ],
   "source": [
    "morphology.section_groups"
   ]
  },
  {
   "cell_type": "code",
   "execution_count": null,
   "metadata": {},
   "outputs": [],
   "source": []
  },
  {
   "cell_type": "code",
   "execution_count": null,
   "metadata": {},
   "outputs": [],
   "source": []
  },
  {
   "cell_type": "code",
   "execution_count": null,
   "metadata": {},
   "outputs": [],
   "source": []
  },
  {
   "cell_type": "code",
   "execution_count": null,
   "metadata": {},
   "outputs": [],
   "source": []
  },
  {
   "cell_type": "code",
   "execution_count": null,
   "metadata": {},
   "outputs": [],
   "source": []
  },
  {
   "cell_type": "code",
   "execution_count": null,
   "metadata": {},
   "outputs": [],
   "source": []
  },
  {
   "cell_type": "code",
   "execution_count": 49,
   "metadata": {},
   "outputs": [],
   "source": [
    "morphology = load_morphology(\"example.swc\", replace_axon=None)"
   ]
  },
  {
   "cell_type": "code",
   "execution_count": 50,
   "metadata": {},
   "outputs": [
    {
     "data": {
      "text/plain": [
       "{2: array([1033, 1034, 1035, 1036, 1037, 1038, 1039, 1040, 1041, 1042, 1043,\n",
       "        1044, 1045, 1046, 1047, 1048, 1049, 1050, 1051, 1052, 1053, 1054,\n",
       "        1055, 1056, 1057]),\n",
       " 3: array([   1,    2,    3, ..., 1030, 1031, 1032]),\n",
       " 4: array([], dtype=int64)}"
      ]
     },
     "execution_count": 50,
     "metadata": {},
     "output_type": "execute_result"
    }
   ],
   "source": [
    "morphology.section_groups"
   ]
  },
  {
   "cell_type": "code",
   "execution_count": null,
   "metadata": {},
   "outputs": [],
   "source": []
  },
  {
   "cell_type": "code",
   "execution_count": null,
   "metadata": {},
   "outputs": [],
   "source": []
  },
  {
   "cell_type": "code",
   "execution_count": 52,
   "metadata": {},
   "outputs": [],
   "source": [
    "import neuroml"
   ]
  },
  {
   "cell_type": "code",
   "execution_count": 53,
   "metadata": {},
   "outputs": [],
   "source": [
    "array_morph = neuroml.loaders.SWCLoader.load_swc_single(\"example.swc\")"
   ]
  },
  {
   "cell_type": "code",
   "execution_count": 54,
   "metadata": {},
   "outputs": [
    {
     "data": {
      "text/plain": [
       "<neuroml.arraymorph.ArrayMorphology at 0x7f2456a90760>"
      ]
     },
     "execution_count": 54,
     "metadata": {},
     "output_type": "execute_result"
    }
   ],
   "source": [
    "array_morph."
   ]
  },
  {
   "cell_type": "code",
   "execution_count": null,
   "metadata": {},
   "outputs": [],
   "source": []
  },
  {
   "cell_type": "code",
   "execution_count": null,
   "metadata": {},
   "outputs": [],
   "source": []
  },
  {
   "cell_type": "code",
   "execution_count": 18,
   "metadata": {},
   "outputs": [
    {
     "data": {
      "text/plain": [
       "{2: array([1033, 1034, 1035, 1036, 1037, 1038, 1039, 1040, 1041, 1042, 1043,\n",
       "        1044, 1045, 1046, 1047, 1048, 1049, 1050, 1051, 1052, 1053, 1054,\n",
       "        1055, 1056, 1057]),\n",
       " 3: array([   1,    2,    3, ..., 1030, 1031, 1032]),\n",
       " 4: array([], dtype=int64)}"
      ]
     },
     "execution_count": 18,
     "metadata": {},
     "output_type": "execute_result"
    }
   ],
   "source": [
    "pmorph.section_groups"
   ]
  },
  {
   "cell_type": "code",
   "execution_count": 34,
   "metadata": {},
   "outputs": [
    {
     "data": {
      "text/plain": [
       "array([1033, 1034, 1035, 1036, 1037, 1038, 1039, 1040, 1041, 1042, 1043,\n",
       "       1044, 1045, 1046, 1047, 1048, 1049, 1050, 1051, 1052, 1053, 1054,\n",
       "       1055, 1056, 1057])"
      ]
     },
     "execution_count": 34,
     "metadata": {},
     "output_type": "execute_result"
    }
   ],
   "source": [
    "pmorph.section_groups[2]"
   ]
  },
  {
   "cell_type": "code",
   "execution_count": null,
   "metadata": {},
   "outputs": [],
   "source": [
    "pmorph."
   ]
  },
  {
   "cell_type": "code",
   "execution_count": 38,
   "metadata": {},
   "outputs": [
    {
     "name": "stdout",
     "output_type": "stream",
     "text": [
      "Help on SegmentList in module neuroml.arraymorph object:\n",
      "\n",
      "class SegmentList(builtins.object)\n",
      " |  SegmentList(arraymorph)\n",
      " |  \n",
      " |  This class is a proxy, it returns a segment either\n",
      " |  from the arraymorph or if it has already been instantiated\n",
      " |  it returns the relevant segment.\n",
      " |  \n",
      " |  Methods defined here:\n",
      " |  \n",
      " |  __getitem__(self, segment_index)\n",
      " |  \n",
      " |  __iadd__(self, segment_list)\n",
      " |  \n",
      " |  __init__(self, arraymorph)\n",
      " |      Initialize self.  See help(type(self)) for accurate signature.\n",
      " |  \n",
      " |  __len__(self)\n",
      " |      Override the __len__ magic method to give total numer of\n",
      " |      segments which is number of vertices - 1 and minus all\n",
      " |      floating segments.\n",
      " |  \n",
      " |  __setitem__(self, index, user_set_segment)\n",
      " |  \n",
      " |  __vertex_index_from_segment_index__(self, index)\n",
      " |      The existence of a physical mask means that segment and\n",
      " |      and vertex indices fall out of sync. This function returns the\n",
      " |      index of the proximal vertex in the vertices array of the arraymorph\n",
      " |      which corresponds to the segment index.\n",
      " |  \n",
      " |  append(self, segment)\n",
      " |      Adds a new segment\n",
      " |      \n",
      " |      TODO: Correct connectivity is currently being ignored -\n",
      " |      The new segment is always connected to the root node.\n",
      " |  \n",
      " |  ----------------------------------------------------------------------\n",
      " |  Data descriptors defined here:\n",
      " |  \n",
      " |  __dict__\n",
      " |      dictionary for instance variables (if defined)\n",
      " |  \n",
      " |  __weakref__\n",
      " |      list of weak references to the object (if defined)\n",
      "\n"
     ]
    }
   ],
   "source": [
    "help(pmorph.segments)"
   ]
  },
  {
   "cell_type": "code",
   "execution_count": 19,
   "metadata": {},
   "outputs": [
    {
     "name": "stdout",
     "output_type": "stream",
     "text": [
      "Help on dict object:\n",
      "\n",
      "class dict(object)\n",
      " |  dict() -> new empty dictionary\n",
      " |  dict(mapping) -> new dictionary initialized from a mapping object's\n",
      " |      (key, value) pairs\n",
      " |  dict(iterable) -> new dictionary initialized as if via:\n",
      " |      d = {}\n",
      " |      for k, v in iterable:\n",
      " |          d[k] = v\n",
      " |  dict(**kwargs) -> new dictionary initialized with the name=value pairs\n",
      " |      in the keyword argument list.  For example:  dict(one=1, two=2)\n",
      " |  \n",
      " |  Built-in subclasses:\n",
      " |      StgDict\n",
      " |  \n",
      " |  Methods defined here:\n",
      " |  \n",
      " |  __contains__(self, key, /)\n",
      " |      True if the dictionary has the specified key, else False.\n",
      " |  \n",
      " |  __delitem__(self, key, /)\n",
      " |      Delete self[key].\n",
      " |  \n",
      " |  __eq__(self, value, /)\n",
      " |      Return self==value.\n",
      " |  \n",
      " |  __ge__(self, value, /)\n",
      " |      Return self>=value.\n",
      " |  \n",
      " |  __getattribute__(self, name, /)\n",
      " |      Return getattr(self, name).\n",
      " |  \n",
      " |  __getitem__(...)\n",
      " |      x.__getitem__(y) <==> x[y]\n",
      " |  \n",
      " |  __gt__(self, value, /)\n",
      " |      Return self>value.\n",
      " |  \n",
      " |  __init__(self, /, *args, **kwargs)\n",
      " |      Initialize self.  See help(type(self)) for accurate signature.\n",
      " |  \n",
      " |  __iter__(self, /)\n",
      " |      Implement iter(self).\n",
      " |  \n",
      " |  __le__(self, value, /)\n",
      " |      Return self<=value.\n",
      " |  \n",
      " |  __len__(self, /)\n",
      " |      Return len(self).\n",
      " |  \n",
      " |  __lt__(self, value, /)\n",
      " |      Return self<value.\n",
      " |  \n",
      " |  __ne__(self, value, /)\n",
      " |      Return self!=value.\n",
      " |  \n",
      " |  __repr__(self, /)\n",
      " |      Return repr(self).\n",
      " |  \n",
      " |  __reversed__(self, /)\n",
      " |      Return a reverse iterator over the dict keys.\n",
      " |  \n",
      " |  __setitem__(self, key, value, /)\n",
      " |      Set self[key] to value.\n",
      " |  \n",
      " |  __sizeof__(...)\n",
      " |      D.__sizeof__() -> size of D in memory, in bytes\n",
      " |  \n",
      " |  clear(...)\n",
      " |      D.clear() -> None.  Remove all items from D.\n",
      " |  \n",
      " |  copy(...)\n",
      " |      D.copy() -> a shallow copy of D\n",
      " |  \n",
      " |  get(self, key, default=None, /)\n",
      " |      Return the value for key if key is in the dictionary, else default.\n",
      " |  \n",
      " |  items(...)\n",
      " |      D.items() -> a set-like object providing a view on D's items\n",
      " |  \n",
      " |  keys(...)\n",
      " |      D.keys() -> a set-like object providing a view on D's keys\n",
      " |  \n",
      " |  pop(...)\n",
      " |      D.pop(k[,d]) -> v, remove specified key and return the corresponding value.\n",
      " |      If key is not found, d is returned if given, otherwise KeyError is raised\n",
      " |  \n",
      " |  popitem(self, /)\n",
      " |      Remove and return a (key, value) pair as a 2-tuple.\n",
      " |      \n",
      " |      Pairs are returned in LIFO (last-in, first-out) order.\n",
      " |      Raises KeyError if the dict is empty.\n",
      " |  \n",
      " |  setdefault(self, key, default=None, /)\n",
      " |      Insert key with a value of default if key is not in the dictionary.\n",
      " |      \n",
      " |      Return the value for key if key is in the dictionary, else default.\n",
      " |  \n",
      " |  update(...)\n",
      " |      D.update([E, ]**F) -> None.  Update D from dict/iterable E and F.\n",
      " |      If E is present and has a .keys() method, then does:  for k in E: D[k] = E[k]\n",
      " |      If E is present and lacks a .keys() method, then does:  for k, v in E: D[k] = v\n",
      " |      In either case, this is followed by: for k in F:  D[k] = F[k]\n",
      " |  \n",
      " |  values(...)\n",
      " |      D.values() -> an object providing a view on D's values\n",
      " |  \n",
      " |  ----------------------------------------------------------------------\n",
      " |  Class methods defined here:\n",
      " |  \n",
      " |  fromkeys(iterable, value=None, /) from builtins.type\n",
      " |      Create a new dictionary with keys from iterable and values set to value.\n",
      " |  \n",
      " |  ----------------------------------------------------------------------\n",
      " |  Static methods defined here:\n",
      " |  \n",
      " |  __new__(*args, **kwargs) from builtins.type\n",
      " |      Create and return a new object.  See help(type) for accurate signature.\n",
      " |  \n",
      " |  ----------------------------------------------------------------------\n",
      " |  Data and other attributes defined here:\n",
      " |  \n",
      " |  __hash__ = None\n",
      "\n"
     ]
    }
   ],
   "source": [
    "help(pmorph.section_groups)"
   ]
  },
  {
   "cell_type": "code",
   "execution_count": 20,
   "metadata": {},
   "outputs": [],
   "source": [
    "pmorph2 = load_morphology(\"out2.swc\", replace_axon=None)"
   ]
  },
  {
   "cell_type": "code",
   "execution_count": 21,
   "metadata": {},
   "outputs": [
    {
     "data": {
      "text/plain": [
       "{2: array([ 97,  98,  99, 100, 101, 102, 103, 104, 105, 106, 107, 108, 109,\n",
       "        110, 111, 112, 113, 114, 115, 116, 117, 118, 119, 120, 121, 122,\n",
       "        123, 124, 125, 126, 127, 128, 129, 130, 131, 132, 133, 134, 135,\n",
       "        136, 137, 138, 139, 140, 141, 142, 143, 144, 145, 146, 147, 148,\n",
       "        149, 150, 151, 152, 153, 154, 155, 156, 157, 158, 159, 160, 161,\n",
       "        162, 163, 164, 165, 166, 167, 168, 169, 170, 171, 172, 173, 174,\n",
       "        175, 176, 177, 178, 179, 180, 181, 182, 183, 184, 185, 186, 187,\n",
       "        188, 189, 190, 191, 192, 193, 194, 195, 196, 197, 198, 199, 200,\n",
       "        201, 202, 203, 204, 205, 206, 207, 208, 209, 210, 211, 212, 213,\n",
       "        214, 215, 216, 217, 218, 219, 220, 221, 222, 223, 224, 225, 226,\n",
       "        227, 228, 229, 230, 231, 232, 233, 234, 235, 236, 237, 238, 239,\n",
       "        240, 241, 242, 243, 244, 245, 246, 247, 248, 249, 250, 251, 252,\n",
       "        253, 254, 255, 256, 257, 258, 259, 260, 261, 262, 263, 264, 265,\n",
       "        266, 267, 268, 269, 270, 271, 272, 273, 274, 275, 276, 277, 278,\n",
       "        279, 280, 281, 282, 283, 284, 285, 286, 287, 288, 289, 290, 291,\n",
       "        292, 293, 294, 295, 296, 297, 298, 299, 300, 301, 302, 303, 304,\n",
       "        305, 306, 307, 308, 309, 310, 311, 312, 313, 314, 315, 316, 317,\n",
       "        318, 319, 320, 321, 322, 323, 324, 325, 326, 327, 328, 329, 330,\n",
       "        331, 332, 333, 334, 335, 336, 337, 338, 339, 340, 341, 342, 343,\n",
       "        344, 345, 346, 347, 348, 349, 350, 351, 352, 353, 354, 355, 356,\n",
       "        357, 358, 359, 360, 361, 362, 363, 364, 365, 366, 367, 368, 369,\n",
       "        370, 371, 372, 373, 374, 375, 376, 377, 378, 379, 380, 381, 382,\n",
       "        383, 384, 385, 386, 387, 388, 389, 390, 391, 392, 393, 394, 395,\n",
       "        396, 397, 398, 399, 400, 401, 402, 403, 404, 405, 406, 407, 408,\n",
       "        409, 410, 411, 412, 413, 414, 415, 416, 417, 418, 419, 420, 421,\n",
       "        422, 423, 424, 425, 426, 427, 428, 429, 430, 431, 432, 433, 434,\n",
       "        435, 436, 437, 438, 439, 440, 441, 442, 443, 444, 445, 446, 447,\n",
       "        448, 449, 450, 451, 452, 453, 454, 455, 456, 457, 458, 459, 460,\n",
       "        461, 462, 463, 464, 465, 466, 467, 468, 469, 470, 471, 472, 473,\n",
       "        474, 475, 476, 477, 478, 479, 480, 481, 482, 483, 484, 485, 486,\n",
       "        487, 488, 489, 490, 491, 492, 493, 494, 495, 496, 497, 498, 499,\n",
       "        500, 501, 502, 503, 504, 505, 506, 507, 508, 509, 510, 511, 512,\n",
       "        513, 514, 515, 516, 517, 518, 519, 520, 521, 522, 523, 524, 525,\n",
       "        526, 527, 528, 529, 530, 531, 532, 533, 534, 535, 536, 537, 538,\n",
       "        539, 540, 541, 542, 543, 544, 545, 546, 547, 548, 549, 550, 551,\n",
       "        552, 553, 554, 555, 556, 557, 558, 559, 560, 561, 562, 563, 564,\n",
       "        565, 566, 567, 568, 569, 570, 571, 572, 573, 574, 575, 576, 577,\n",
       "        578, 579, 580, 581, 582, 583, 584, 585, 586, 587, 588, 589, 590,\n",
       "        591, 592, 593, 594, 595, 596, 597, 598, 599, 600, 601, 602, 603,\n",
       "        604, 605, 606, 607, 608, 609, 610, 611, 612, 613, 614, 615, 616,\n",
       "        617, 618, 619, 620, 621, 622, 623, 624, 625, 626, 627, 628, 629,\n",
       "        630, 631, 632, 633, 634, 635, 636, 637, 638, 639, 640, 641, 642,\n",
       "        643, 644, 645, 646, 647, 648, 649, 650, 651, 652, 653, 654, 655,\n",
       "        656, 657, 658, 659, 660, 661, 662, 663, 664, 665, 666, 667, 668,\n",
       "        669, 670, 671, 672, 673, 674, 675, 676, 677, 678, 679, 680, 681,\n",
       "        682, 683, 684, 685, 686, 687, 688, 689, 690, 691, 692, 693, 694,\n",
       "        695, 696, 697, 698, 699, 700, 701, 702, 703, 704, 705, 706, 707,\n",
       "        708, 709, 710, 711, 712, 713, 714, 715, 716, 717, 718, 719, 720,\n",
       "        721, 722, 723, 724, 725, 726, 727, 728, 729, 730, 731, 732, 733,\n",
       "        734, 735, 736, 737, 738, 739, 740, 741, 742, 743, 744, 745, 746,\n",
       "        747, 748, 749, 750, 751, 752, 753, 754, 755, 756, 757, 758, 759,\n",
       "        760, 761, 762, 763, 764, 765, 766, 767, 768, 769, 770, 771, 772,\n",
       "        773, 774, 775, 776, 777, 778, 779, 780, 781, 782, 783, 784, 785,\n",
       "        786, 787, 788, 789, 790, 791, 792, 793, 794, 795, 796, 797, 798,\n",
       "        799, 800, 801, 802, 803, 804, 805, 806, 807, 808, 809, 810, 811,\n",
       "        812, 813, 814, 815, 816, 817, 818, 819, 820, 821, 822, 823, 824,\n",
       "        825, 826, 827, 828, 829, 830, 831, 832, 833, 834, 835, 836, 837,\n",
       "        838, 839, 840, 841, 842, 843, 844, 845, 846, 847, 848, 849, 850,\n",
       "        851, 852, 853, 854, 855]),\n",
       " 3: array([ 856,  857,  858, ..., 3098, 3099, 3100]),\n",
       " 4: array([], dtype=int64)}"
      ]
     },
     "execution_count": 21,
     "metadata": {},
     "output_type": "execute_result"
    }
   ],
   "source": [
    "pmorph2.section_groups"
   ]
  },
  {
   "cell_type": "code",
   "execution_count": 27,
   "metadata": {},
   "outputs": [
    {
     "data": {
      "text/plain": [
       "{None: 3099}"
      ]
     },
     "execution_count": 27,
     "metadata": {},
     "output_type": "execute_result"
    }
   ],
   "source": [
    "#pmorph.labels()\n",
    "pmorph2.labels()"
   ]
  },
  {
   "cell_type": "code",
   "execution_count": 30,
   "metadata": {},
   "outputs": [
    {
     "name": "stdout",
     "output_type": "stream",
     "text": [
      "Help on SegmentList in module neuroml.arraymorph object:\n",
      "\n",
      "class SegmentList(builtins.object)\n",
      " |  SegmentList(arraymorph)\n",
      " |  \n",
      " |  This class is a proxy, it returns a segment either\n",
      " |  from the arraymorph or if it has already been instantiated\n",
      " |  it returns the relevant segment.\n",
      " |  \n",
      " |  Methods defined here:\n",
      " |  \n",
      " |  __getitem__(self, segment_index)\n",
      " |  \n",
      " |  __iadd__(self, segment_list)\n",
      " |  \n",
      " |  __init__(self, arraymorph)\n",
      " |      Initialize self.  See help(type(self)) for accurate signature.\n",
      " |  \n",
      " |  __len__(self)\n",
      " |      Override the __len__ magic method to give total numer of\n",
      " |      segments which is number of vertices - 1 and minus all\n",
      " |      floating segments.\n",
      " |  \n",
      " |  __setitem__(self, index, user_set_segment)\n",
      " |  \n",
      " |  __vertex_index_from_segment_index__(self, index)\n",
      " |      The existence of a physical mask means that segment and\n",
      " |      and vertex indices fall out of sync. This function returns the\n",
      " |      index of the proximal vertex in the vertices array of the arraymorph\n",
      " |      which corresponds to the segment index.\n",
      " |  \n",
      " |  append(self, segment)\n",
      " |      Adds a new segment\n",
      " |      \n",
      " |      TODO: Correct connectivity is currently being ignored -\n",
      " |      The new segment is always connected to the root node.\n",
      " |  \n",
      " |  ----------------------------------------------------------------------\n",
      " |  Data descriptors defined here:\n",
      " |  \n",
      " |  __dict__\n",
      " |      dictionary for instance variables (if defined)\n",
      " |  \n",
      " |  __weakref__\n",
      " |      list of weak references to the object (if defined)\n",
      "\n"
     ]
    }
   ],
   "source": [
    "help(pmorph.segments)"
   ]
  },
  {
   "cell_type": "code",
   "execution_count": null,
   "metadata": {},
   "outputs": [],
   "source": []
  }
 ],
 "metadata": {
  "kernelspec": {
   "display_name": "Python 3 (ipykernel)",
   "language": "python",
   "name": "python3"
  },
  "language_info": {
   "codemirror_mode": {
    "name": "ipython",
    "version": 3
   },
   "file_extension": ".py",
   "mimetype": "text/x-python",
   "name": "python",
   "nbconvert_exporter": "python",
   "pygments_lexer": "ipython3",
   "version": "3.8.2"
  }
 },
 "nbformat": 4,
 "nbformat_minor": 4
}
