{
 "cells": [
  {
   "cell_type": "markdown",
   "id": "62a5bdd1",
   "metadata": {},
   "source": [
    "[https://docs.arbor-sim.org/en/stable/tutorial/single_cell_detailed.html](https://docs.arbor-sim.org/en/stable/tutorial/single_cell_detailed.html)"
   ]
  },
  {
   "cell_type": "code",
   "execution_count": 1,
   "id": "9a6e5183",
   "metadata": {},
   "outputs": [],
   "source": [
    "import arbor\n",
    "from arbor import mpoint\n",
    "from arbor import mnpos"
   ]
  },
  {
   "cell_type": "code",
   "execution_count": 2,
   "id": "ddc0a330",
   "metadata": {},
   "outputs": [],
   "source": [
    "# Define the morphology by manually building a segment tree\n",
    "tree = arbor.segment_tree()\n",
    "\n",
    "# Start with segment 0: a cylindrical soma with tag 1\n",
    "tree.append(mnpos, mpoint(0.0, 0.0, 0.0, 2.0), mpoint( 40.0, 0.0, 0.0, 2.0), tag=1)\n",
    "# Construct the first section of the dendritic tree with tag 3,\n",
    "# comprised of segments 1 and 2, attached to soma segment 0.\n",
    "tree.append(0,     mpoint(40.0, 0.0, 0.0, 0.8), mpoint( 80.0,  0.0, 0.0, 0.8), tag=3)\n",
    "tree.append(1,     mpoint(80.0, 0.0, 0.0, 0.8), mpoint(120.0, -5.0, 0.0, 0.8), tag=3)\n",
    "# Construct the rest of the dendritic tree: segments 3, 4 and 5.\n",
    "tree.append(2,     mpoint(120.0, -5.0, 0.0, 0.8), mpoint(200.0,  40.0, 0.0, 0.4), tag=3)\n",
    "tree.append(3,     mpoint(200.0, 40.0, 0.0, 0.4), mpoint(260.0,  60.0, 0.0, 0.2), tag=3)\n",
    "tree.append(2,     mpoint(120.0, -5.0, 0.0, 0.5), mpoint(190.0, -30.0, 0.0, 0.5), tag=3)\n",
    "# Construct a special region of the tree made of segments 6, 7, and 8\n",
    "# differentiated from the rest of the tree using tag 4.\n",
    "tree.append(5,     mpoint(190.0, -30.0, 0.0, 0.5), mpoint(240.0, -70.0, 0.0, 0.2), tag=4)\n",
    "tree.append(5,     mpoint(190.0, -30.0, 0.0, 0.5), mpoint(230.0, -10.0, 0.0, 0.2), tag=4)\n",
    "tree.append(7,     mpoint(230.0, -10.0, 0.0, 0.2), mpoint(360.0, -20.0, 0.0, 0.2), tag=4)\n",
    "# Construct segments 9 and 10 that make up the axon with tag 2.\n",
    "# Segment 9 is at the root, where its proximal end will be connected to the\n",
    "# proximal end of the soma segment.\n",
    "tree.append(mnpos, mpoint( 0.0, 0.0, 0.0, 2.0), mpoint(  -70.0, 0.0, 0.0, 0.4), tag=2)\n",
    "tree.append(9,     mpoint(-70.0, 0.0, 0.0, 0.4), mpoint(-100.0, 0.0, 0.0, 0.4), tag=2)\n",
    "\n",
    "morph = arbor.morphology(tree);"
   ]
  },
  {
   "cell_type": "code",
   "execution_count": 3,
   "id": "f144d327",
   "metadata": {},
   "outputs": [],
   "source": [
    "# (2) Create and populate the label dictionary.\n",
    "labels = arbor.label_dict()\n",
    "\n",
    "# Regions:\n",
    "\n",
    "# Add labels for tag 1, 2, 3, 4\n",
    "labels['soma'] = '(tag 1)'\n",
    "labels['axon'] = '(tag 2)'\n",
    "labels['dend'] = '(tag 3)'\n",
    "labels['last'] = '(tag 4)'\n",
    "\n",
    "# Add a label for a region that includes the whole morphology\n",
    "labels['all'] = '(all)'\n",
    "# Add a label for the parts of the morphology with radius greater than 1.5 μm.\n",
    "labels['gt_1.5'] = '(radius-ge (region \"all\") 1.5)'\n",
    "\n",
    "# Join regions \"last\" and \"gt_1.5\"\n",
    "labels['custom'] = '(join (region \"last\") (region \"gt_1.5\"))'\n",
    "\n",
    "# Add a labels for the root of the morphology and all the terminal points\n",
    "labels['root']     = '(root)'\n",
    "labels['terminal'] = '(terminal)'\n",
    "\n",
    "# Add a label for the terminal locations in the \"custom\" region:\n",
    "labels['custom_terminal'] = '(restrict (locset \"terminal\") (region \"custom\"))'\n",
    "# Add a label for the terminal locations in the \"axon\" region:\n",
    "labels['axon_terminal'] = '(restrict (locset \"terminal\") (region \"axon\"))'"
   ]
  },
  {
   "cell_type": "code",
   "execution_count": 4,
   "id": "f2af9004",
   "metadata": {},
   "outputs": [],
   "source": [
    "# (3) Create and populate the decor.\n",
    "decor = arbor.decor()\n",
    "\n",
    "# Set the default properties of the cell (this overrides the model defaults).\n",
    "decor.set_property(Vm =-55)\n",
    "decor.set_ion('na', int_con=10,   ext_con=140, rev_pot=50, method='nernst/na')\n",
    "decor.set_ion('k',  int_con=54.4, ext_con=2.5, rev_pot=-77)"
   ]
  },
  {
   "cell_type": "code",
   "execution_count": 5,
   "id": "cbd119b0",
   "metadata": {},
   "outputs": [],
   "source": [
    "# Override the cell defaults.\n",
    "decor.paint('\"custom\"', tempK=270)\n",
    "decor.paint('\"soma\"',   Vm=-50)"
   ]
  },
  {
   "cell_type": "code",
   "execution_count": 6,
   "id": "e6117e9e",
   "metadata": {},
   "outputs": [],
   "source": [
    "# Paint density mechanisms.\n",
    "decor.paint('\"all\"', arbor.density('pas'))\n",
    "decor.paint('\"custom\"', arbor.density('hh'))\n",
    "decor.paint('\"dend\"',  arbor.density('Ih', {'gbar': 0.001}))"
   ]
  },
  {
   "cell_type": "code",
   "execution_count": 7,
   "id": "84dde495",
   "metadata": {},
   "outputs": [],
   "source": [
    "# Place stimuli and spike detectors.\n",
    "decor.place('\"root\"', arbor.iclamp(10, 1, current=2), 'iclamp0')\n",
    "decor.place('\"root\"', arbor.iclamp(30, 1, current=2), 'iclamp1')\n",
    "decor.place('\"root\"', arbor.iclamp(50, 1, current=2), 'iclamp2')\n",
    "decor.place('\"axon_terminal\"', arbor.spike_detector(-10), 'detector')"
   ]
  },
  {
   "cell_type": "code",
   "execution_count": 8,
   "id": "5f98dd67",
   "metadata": {},
   "outputs": [],
   "source": [
    "# Single CV for the \"soma\" region\n",
    "soma_policy = arbor.cv_policy_single('\"soma\"')\n",
    "# Single CV for the \"soma\" region\n",
    "dflt_policy = arbor.cv_policy_max_extent(1.0)\n",
    "# default policy everywhere except the soma\n",
    "policy = dflt_policy | soma_policy\n",
    "# Set cv_policy\n",
    "decor.discretization(policy)"
   ]
  },
  {
   "cell_type": "code",
   "execution_count": 9,
   "id": "a07b13b1",
   "metadata": {},
   "outputs": [],
   "source": [
    "# (4) Create the cell.\n",
    "cell = arbor.cable_cell(morph, labels, decor)"
   ]
  },
  {
   "cell_type": "code",
   "execution_count": 10,
   "id": "33173508",
   "metadata": {},
   "outputs": [],
   "source": [
    "# (5) Construct the model\n",
    "model = arbor.single_cell_model(cell)"
   ]
  },
  {
   "cell_type": "code",
   "execution_count": 11,
   "id": "39df5c31",
   "metadata": {},
   "outputs": [],
   "source": [
    "# (6) Set the model default properties\n",
    "model.properties.set_property(Vm =-65, tempK=300, rL=35.4, cm=0.01)\n",
    "model.properties.set_ion('na', int_con=10,   ext_con=140, rev_pot=50, method='nernst/na')\n",
    "model.properties.set_ion('k',  int_con=54.4, ext_con=2.5, rev_pot=-77)"
   ]
  },
  {
   "cell_type": "code",
   "execution_count": 12,
   "id": "c3fef118",
   "metadata": {},
   "outputs": [],
   "source": [
    "# Extend the default catalogue with the Allen catalogue.\n",
    "# The function takes a second string parameter that can prefix\n",
    "# the name of the mechanisms to avoid collisions between catalogues\n",
    "# in this case we have no collisions so we use an empty prefix string.\n",
    "model.properties.catalogue.extend(arbor.allen_catalogue(), \"\")"
   ]
  },
  {
   "cell_type": "code",
   "execution_count": 13,
   "id": "6d0d0ec9",
   "metadata": {},
   "outputs": [],
   "source": [
    "# (7) Add probes.\n",
    "# Add voltage probes on the \"custom_terminal\" locset\n",
    "# which sample the voltage at 50 kHz\n",
    "model.probe('voltage', where='\"custom_terminal\"',  frequency=50)"
   ]
  },
  {
   "cell_type": "code",
   "execution_count": 14,
   "id": "33d2d791",
   "metadata": {},
   "outputs": [],
   "source": [
    "# (8) Run the simulation for 100 ms, with a dt of 0.025 ms\n",
    "model.run(tfinal=100, dt=0.025)"
   ]
  },
  {
   "cell_type": "code",
   "execution_count": 15,
   "id": "218abd79",
   "metadata": {},
   "outputs": [
    {
     "name": "stdout",
     "output_type": "stream",
     "text": [
      "3 spikes recorded:\n",
      "11.475749222188028\n",
      "32.01355632346195\n",
      "52.13541998326556\n"
     ]
    }
   ],
   "source": [
    "# (9) Print the spikes.\n",
    "print(len(model.spikes), 'spikes recorded:')\n",
    "for s in model.spikes:\n",
    "    print(s)"
   ]
  },
  {
   "cell_type": "code",
   "execution_count": null,
   "id": "16f82406",
   "metadata": {},
   "outputs": [],
   "source": []
  }
 ],
 "metadata": {
  "kernelspec": {
   "display_name": "Python 3 (ipykernel)",
   "language": "python",
   "name": "python3"
  },
  "language_info": {
   "codemirror_mode": {
    "name": "ipython",
    "version": 3
   },
   "file_extension": ".py",
   "mimetype": "text/x-python",
   "name": "python",
   "nbconvert_exporter": "python",
   "pygments_lexer": "ipython3",
   "version": "3.8.2"
  }
 },
 "nbformat": 4,
 "nbformat_minor": 5
}
