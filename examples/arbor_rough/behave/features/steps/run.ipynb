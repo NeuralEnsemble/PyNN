{
 "cells": [
  {
   "cell_type": "code",
   "execution_count": 5,
   "metadata": {},
   "outputs": [
    {
     "name": "stdout",
     "output_type": "stream",
     "text": [
      "Feature: showing off behave\u001b[90m # ../tutorial.feature:1\u001b[0m\r\n",
      "\r\n",
      "  Scenario: run a simple test \u001b[90m       # ../tutorial.feature:3\u001b[0m\r\n",
      "    \u001b[90mGiven \u001b[0m\u001b[90mwe have behave installed\u001b[0m\u001b[90m   # tutorial.py:3\u001b[0m\r\n",
      "\u001b[1A    \u001b[32mGiven \u001b[0m\u001b[32mwe have behave installed\u001b[0m\u001b[90m   # tutorial.py:3 0.000s\u001b[0m\r\n",
      "    \u001b[90mWhen \u001b[0m\u001b[90mwe implement a test\u001b[0m\u001b[90m         # tutorial.py:7\u001b[0m\r\n",
      "\u001b[1A    \u001b[32mWhen \u001b[0m\u001b[32mwe implement a test\u001b[0m\u001b[90m         # tutorial.py:7 0.000s\u001b[0m\r\n",
      "    \u001b[90mThen \u001b[0m\u001b[90mbehave will test it for us!\u001b[0m\u001b[90m # tutorial.py:11\u001b[0m\r\n",
      "\u001b[1A    \u001b[32mThen \u001b[0m\u001b[32mbehave will test it for us!\u001b[0m\u001b[90m # tutorial.py:11 0.000s\u001b[0m\r\n",
      "\r\n",
      "1 feature passed, 0 failed, 0 skipped\r\n",
      "1 scenario passed, 0 failed, 0 skipped\r\n",
      "3 steps passed, 0 failed, 0 skipped, 0 undefined\r\n",
      "Took 0m0.000s\r\n"
     ]
    }
   ],
   "source": [
    "! behave"
   ]
  },
  {
   "cell_type": "code",
   "execution_count": null,
   "metadata": {},
   "outputs": [],
   "source": []
  }
 ],
 "metadata": {
  "kernelspec": {
   "display_name": "Python 3",
   "language": "python",
   "name": "python3"
  },
  "language_info": {
   "codemirror_mode": {
    "name": "ipython",
    "version": 3
   },
   "file_extension": ".py",
   "mimetype": "text/x-python",
   "name": "python",
   "nbconvert_exporter": "python",
   "pygments_lexer": "ipython3",
   "version": "3.8.2"
  }
 },
 "nbformat": 4,
 "nbformat_minor": 4
}
