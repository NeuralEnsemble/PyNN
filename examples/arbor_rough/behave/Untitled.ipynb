{
 "cells": [
  {
   "cell_type": "code",
   "execution_count": 1,
   "metadata": {},
   "outputs": [
    {
     "name": "stdout",
     "output_type": "stream",
     "text": [
      "Collecting git+https://github.com/behave/behave\n",
      "  Cloning https://github.com/behave/behave to /tmp/pip-req-build-3l8z_bbu\n",
      "Collecting cucumber-tag-expressions>=1.1.2\n",
      "  Downloading cucumber-tag-expressions-3.0.0.tar.gz (32 kB)\n",
      "Collecting parse>=1.18.0\n",
      "  Downloading parse-1.18.0.tar.gz (30 kB)\n",
      "Collecting parse_type>=0.4.2\n",
      "  Downloading parse_type-0.5.2-py2.py3-none-any.whl (32 kB)\n",
      "Requirement already satisfied: six>=1.12.0 in /envs/py3-pyNNarbor/lib/python3.8/site-packages (from behave==1.2.7.dev2) (1.15.0)\n",
      "Collecting colorama\n",
      "  Downloading colorama-0.4.4-py2.py3-none-any.whl (16 kB)\n",
      "Building wheels for collected packages: behave, cucumber-tag-expressions, parse\n",
      "  Building wheel for behave (setup.py) ... \u001b[?25ldone\n",
      "\u001b[?25h  Created wheel for behave: filename=behave-1.2.7.dev2-py2.py3-none-any.whl size=152997 sha256=691859d9693725131f5b634183ba1e234aa17d6548fd108266e2621717117d37\n",
      "  Stored in directory: /tmp/pip-ephem-wheel-cache-0oqf15y_/wheels/ce/d0/3f/54b851f4f9654365c0d517f17986e0b598ca3283a8b3a3dc6b\n",
      "  Building wheel for cucumber-tag-expressions (setup.py) ... \u001b[?25ldone\n",
      "\u001b[?25h  Created wheel for cucumber-tag-expressions: filename=cucumber_tag_expressions-3.0.0-py2.py3-none-any.whl size=8327 sha256=0564ad77613ffd5018ae76bae852a7088b825092f18f9d5e28ecabe31d0e1b9a\n",
      "  Stored in directory: /root/.cache/pip/wheels/e5/a0/54/378de39c915fa9fb740d7f1ac6bb32806b243cd4872f880e62\n",
      "  Building wheel for parse (setup.py) ... \u001b[?25ldone\n",
      "\u001b[?25h  Created wheel for parse: filename=parse-1.18.0-py3-none-any.whl size=24133 sha256=4eb16d9f15e22a23fbdcc7d697dfed1127e20cf28b24b017f412e9f834ff7ba9\n",
      "  Stored in directory: /root/.cache/pip/wheels/5c/94/79/32557465cdb2d7d6d72ba2499632d89ba84fce50a91ae98f14\n",
      "Successfully built behave cucumber-tag-expressions parse\n",
      "Installing collected packages: cucumber-tag-expressions, parse, parse-type, colorama, behave\n",
      "Successfully installed behave-1.2.7.dev2 colorama-0.4.4 cucumber-tag-expressions-3.0.0 parse-1.18.0 parse-type-0.5.2\n",
      "\u001b[33mWARNING: You are using pip version 20.2.2; however, version 20.2.4 is available.\n",
      "You should consider upgrading via the '/envs/py3-pyNNarbor/bin/python -m pip install --upgrade pip' command.\u001b[0m\n"
     ]
    }
   ],
   "source": [
    "!pip install git+https://github.com/behave/behave"
   ]
  },
  {
   "cell_type": "code",
   "execution_count": null,
   "metadata": {},
   "outputs": [],
   "source": []
  }
 ],
 "metadata": {
  "kernelspec": {
   "display_name": "Python 3",
   "language": "python",
   "name": "python3"
  },
  "language_info": {
   "codemirror_mode": {
    "name": "ipython",
    "version": 3
   },
   "file_extension": ".py",
   "mimetype": "text/x-python",
   "name": "python",
   "nbconvert_exporter": "python",
   "pygments_lexer": "ipython3",
   "version": "3.8.2"
  }
 },
 "nbformat": 4,
 "nbformat_minor": 4
}
