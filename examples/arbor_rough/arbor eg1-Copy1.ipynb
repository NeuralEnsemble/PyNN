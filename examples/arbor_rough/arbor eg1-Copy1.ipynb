{
 "cells": [
  {
   "cell_type": "markdown",
   "id": "32e785f4",
   "metadata": {},
   "source": [
    "[https://docs.arbor-sim.org/en/stable/tutorial/single_cell_model.html](https://docs.arbor-sim.org/en/stable/tutorial/single_cell_model.html)"
   ]
  },
  {
   "cell_type": "code",
   "execution_count": 13,
   "id": "322f6897",
   "metadata": {},
   "outputs": [],
   "source": [
    "import arbor"
   ]
  },
  {
   "cell_type": "code",
   "execution_count": 14,
   "id": "bd79eed4",
   "metadata": {},
   "outputs": [],
   "source": [
    "# (1) Create a morphology with a single (cylindrical) segment of length=diameter=6 μm\n",
    "tree = arbor.segment_tree()\n",
    "tree.append(arbor.mnpos, arbor.mpoint(-3, 0, 0, 3), arbor.mpoint(3, 0, 0, 3), tag=1)\n",
    "\n",
    "# (2) Define the soma and its midpoint\n",
    "labels = arbor.label_dict({'soma':   '(tag 1)',\n",
    "                           'midpoint': '(location 0 0.5)'})\n",
    "\n",
    "# (3) Create and set up a decor object\n",
    "decor = arbor.decor()\n",
    "decor.set_property(Vm=-40)\n",
    "decor.paint('\"soma\"', arbor.density('hh'))\n",
    "decor.place('\"midpoint\"', arbor.iclamp( 10, 2, 0.8), \"iclamp\")\n",
    "decor.place('\"midpoint\"', arbor.spike_detector(-10), \"detector\")\n",
    "\n",
    "# (4) Create cell and the single cell model based on it\n",
    "cell = arbor.cable_cell(tree, labels, decor)"
   ]
  },
  {
   "cell_type": "code",
   "execution_count": 15,
   "id": "9ea03472",
   "metadata": {},
   "outputs": [
    {
     "data": {
      "text/plain": [
       "arbor._arbor.cable_cell"
      ]
     },
     "execution_count": 15,
     "metadata": {},
     "output_type": "execute_result"
    }
   ],
   "source": [
    "type(cell)"
   ]
  },
  {
   "cell_type": "code",
   "execution_count": 16,
   "id": "d032b955",
   "metadata": {},
   "outputs": [
    {
     "data": {
      "text/plain": [
       "True"
      ]
     },
     "execution_count": 16,
     "metadata": {},
     "output_type": "execute_result"
    }
   ],
   "source": [
    "isinstance(cell, arbor._arbor.cable_cell)"
   ]
  },
  {
   "cell_type": "code",
   "execution_count": 17,
   "id": "da1ff3ac",
   "metadata": {},
   "outputs": [],
   "source": [
    "# (5) Make single cell model.\n",
    "m = arbor.single_cell_model(cell)"
   ]
  },
  {
   "cell_type": "code",
   "execution_count": 18,
   "id": "0999ddbc",
   "metadata": {},
   "outputs": [
    {
     "data": {
      "text/plain": [
       "arbor._arbor.single_cell_model"
      ]
     },
     "execution_count": 18,
     "metadata": {},
     "output_type": "execute_result"
    }
   ],
   "source": [
    "type(m)"
   ]
  },
  {
   "cell_type": "code",
   "execution_count": 11,
   "id": "a6ee5b31",
   "metadata": {},
   "outputs": [],
   "source": [
    "# (6) Attach voltage probe sampling at 10 kHz (every 0.1 ms).\n",
    "m.probe('voltage', '\"midpoint\"', frequency=10)\n",
    "\n",
    "# (7) Run simulation for 30 ms of simulated activity.\n",
    "m.run(tfinal=30)"
   ]
  },
  {
   "cell_type": "code",
   "execution_count": 4,
   "id": "f12dff06",
   "metadata": {},
   "outputs": [
    {
     "name": "stdout",
     "output_type": "stream",
     "text": [
      "1 spikes:\n",
      "10.084\n"
     ]
    }
   ],
   "source": [
    "# (8) Print spike times.\n",
    "if len(m.spikes)>0:\n",
    "    print('{} spikes:'.format(len(m.spikes)))\n",
    "    for s in m.spikes:\n",
    "        print('{:3.3f}'.format(s))\n",
    "else:\n",
    "    print('no spikes')"
   ]
  },
  {
   "cell_type": "code",
   "execution_count": 7,
   "id": "8924d220",
   "metadata": {},
   "outputs": [],
   "source": [
    "import matplotlib.pyplot as plt"
   ]
  },
  {
   "cell_type": "code",
   "execution_count": 10,
   "id": "b1db89cb",
   "metadata": {},
   "outputs": [
    {
     "data": {
      "image/png": "[encoded data removed]",
      "text/plain": [
       "<Figure size 432x288 with 1 Axes>"
      ]
     },
     "metadata": {
      "needs_background": "light"
     },
     "output_type": "display_data"
    }
   ],
   "source": [
    "plt.plot(m.traces[0].time, m.traces[0].value)\n",
    "plt.show()"
   ]
  },
  {
   "cell_type": "code",
   "execution_count": null,
   "id": "20a506ca",
   "metadata": {},
   "outputs": [],
   "source": []
  }
 ],
 "metadata": {
  "kernelspec": {
   "display_name": "Python 3",
   "language": "python",
   "name": "python3"
  },
  "language_info": {
   "codemirror_mode": {
    "name": "ipython",
    "version": 3
   },
   "file_extension": ".py",
   "mimetype": "text/x-python",
   "name": "python",
   "nbconvert_exporter": "python",
   "pygments_lexer": "ipython3",
   "version": "3.8.2"
  }
 },
 "nbformat": 4,
 "nbformat_minor": 5
}
