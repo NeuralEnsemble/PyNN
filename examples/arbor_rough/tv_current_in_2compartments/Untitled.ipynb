{
 "cells": [
  {
   "cell_type": "code",
   "execution_count": 1,
   "metadata": {},
   "outputs": [],
   "source": [
    "#import matplotlib\n",
    "#matplotlib.use(\"Agg\")\n",
    "from neuroml import Morphology, Segment, Point3DWithDiam as P\n",
    "from pyNN.morphology import NeuroMLMorphology, uniform\n",
    "#from pyNN.units import uF_per_cm2, ohm_cm, S_per_cm2, mV, nA, ms\n",
    "from pyNN.utility import get_simulator\n",
    "from pyNN.utility.plotting import Figure, Panel"
   ]
  },
  {
   "cell_type": "code",
   "execution_count": 2,
   "metadata": {},
   "outputs": [],
   "source": [
    "import inspect"
   ]
  },
  {
   "cell_type": "code",
   "execution_count": 5,
   "metadata": {},
   "outputs": [],
   "source": [
    "#sim, options = get_simulator(\"neuron\")\n",
    "import pyNN_arbor as sim"
   ]
  },
  {
   "cell_type": "code",
   "execution_count": null,
   "metadata": {},
   "outputs": [],
   "source": [
    "# === Create neuron model template ===========================================\n",
    "\n",
    "soma = Segment(proximal=P(x=0, y=0, z=0, diameter=18.8),\n",
    "               distal=P(x=18.8, y=0, z=0, diameter=18.8),\n",
    "               name=\"soma\")\n",
    "dend = Segment(proximal=P(x=0, y=0, z=0, diameter=2),\n",
    "               distal=P(x=-500, y=0, z=0, diameter=2),\n",
    "               name=\"dendrite\",\n",
    "               parent=soma)\n",
    "\n",
    "# need to specify nseg for dendrite\n",
    "\n",
    "cell_class = sim.MultiCompartmentNeuron\n",
    "cell_class.label = \"ExampleMultiCompartmentNeuron\"\n",
    "cell_class.ion_channels = {'pas': sim.PassiveLeak, 'na': sim.NaChannel, 'kdr': sim.KdrChannel}\n",
    "\n",
    "# cell_class.insert(pas=sim.PassiveLeak, sections=('soma', 'dendrite'))  # or cell_class.whole_cell.pas = sim.PassiveLeak\n",
    "# cell_class.soma.insert(na=sim.NaChannel)  # or cell_class.soma.na = sim.NaChannel\n",
    "# cell_class.soma.insert(kdr=sim.KdrChannel) # or cell_class.soma.kdr = sim.KdrChannel\n",
    "\n",
    "cell_type = cell_class(morphology=NeuroMLMorphology(Morphology(segments=(soma, dend))),  # yuck\n",
    "                       cm=1.0,\n",
    "                       Ra=500.0,\n",
    "                       pas={\"conductance_density\": uniform('all', 0.0003),\n",
    "                            \"e_rev\":-54.3},\n",
    "                       na={\"conductance_density\": uniform('soma', 0.120),\n",
    "                           \"e_rev\": 50.0},\n",
    "                       kdr={\"conductance_density\": uniform('soma', 0.036),\n",
    "                            \"e_rev\": -77.0}\n",
    "                       )"
   ]
  }
 ],
 "metadata": {
  "kernelspec": {
   "display_name": "Python 3",
   "language": "python",
   "name": "python3"
  },
  "language_info": {
   "codemirror_mode": {
    "name": "ipython",
    "version": 3
   },
   "file_extension": ".py",
   "mimetype": "text/x-python",
   "name": "python",
   "nbconvert_exporter": "python",
   "pygments_lexer": "ipython3",
   "version": "3.8.2"
  }
 },
 "nbformat": 4,
 "nbformat_minor": 4
}
