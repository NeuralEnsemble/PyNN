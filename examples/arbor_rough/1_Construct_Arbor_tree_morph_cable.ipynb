{
 "cells": [
  {
   "cell_type": "code",
   "execution_count": 1,
   "metadata": {},
   "outputs": [],
   "source": [
    "import arbor\n",
    "from arbor import mpoint\n",
    "from arbor import mnpos"
   ]
  },
  {
   "cell_type": "markdown",
   "metadata": {},
   "source": [
    "# Objectives:\n",
    "1. **Problem statement**\n",
    "2. **Create Arbor tree**\n",
    "3. **The root of an Arbor tree**\n",
    "4. **Appending the tree**\n",
    "    - *Create soma in the tree*\n",
    "    - *Create dendrite tree*\n",
    "    - *Create axon in the tree*\n",
    "5. **Create Arbor morphology**\n",
    "6. **Construct the cell (cable)**"
   ]
  },
  {
   "cell_type": "markdown",
   "metadata": {},
   "source": [
    "# 1. Imagine the problem of wanting to model a cell with 11 compartments\n",
    "<img src=\"images/Arbor_single_cell_a.png\" width=\"50%\" height=\"50%\">"
   ]
  },
  {
   "cell_type": "markdown",
   "metadata": {},
   "source": [
    "# 2. At the most basic level, in Arbor think of the construction in terms of creating a tree\n",
    "<img src=\"images/TreeGrowth.gif\" width=\"50%\" height=\"50%\">"
   ]
  },
  {
   "cell_type": "code",
   "execution_count": 2,
   "metadata": {},
   "outputs": [],
   "source": [
    "tree = arbor.segment_tree()"
   ]
  },
  {
   "cell_type": "markdown",
   "metadata": {},
   "source": [
    "# 3. A tree starts from its root; The characteristic of a root is that it is parentless.\n",
    "This is represented in Arbor by \"some\" integer value represented by `arbor.mnpos`. By default the root had ID `0`.\n",
    "\n",
    "Let us say the part of the cell that is attached to our (fictitious) root of the tree is the soma; Since this is the first in the tree (which will be a list) it will have the index `0`. Note that the root is just a point in the tree (not a compartment) and an ID `i` is **different** from the index `i`.\n",
    "<img src=\"images/Arbor_single_cell_0.png\" width=\"50%\" height=\"50%\">"
   ]
  },
  {
   "cell_type": "markdown",
   "metadata": {},
   "source": [
    "# 4. Appending the tree\n",
    "## 4.1 Constructing the soma; Append the soma to the tree"
   ]
  },
  {
   "cell_type": "code",
   "execution_count": 3,
   "metadata": {},
   "outputs": [
    {
     "data": {
      "text/plain": [
       "0"
      ]
     },
     "execution_count": 3,
     "metadata": {},
     "output_type": "execute_result"
    }
   ],
   "source": [
    "tree.append(parent = mnpos,\n",
    "            prox = mpoint(0., 0., 0., 2.), # (x, y, z, radius)\n",
    "            dist = mpoint(4., 0., 0., 2.),# (x, y, z, radius)\n",
    "            tag=1)"
   ]
  },
  {
   "cell_type": "markdown",
   "metadata": {},
   "source": [
    "Note that the return value is the index value.\n",
    "\n",
    "### 4.1.1. The tagging value should follow a morphological specification\n",
    "Here I will be following [SWC](http://www.neuronland.org/NLMorphologyConverter/MorphologyFormats/SWC/Spec.html)\n",
    "<img src=\"images/SWC_Specification.PNG\" width=\"70%\" height=\"70%\">"
   ]
  },
  {
   "cell_type": "markdown",
   "metadata": {},
   "source": [
    "## 4.2. Constructing the dendrite tree.\n",
    "### 4.2.1. First the part of dendrite (first \"section\" of the dendrite tree) attached to the soma.\n",
    "Because this will be the second entry in the tree list this dendrite part will have the index `1`\n",
    "<img src=\"images/Arbor_single_cell_1.png\" width=\"50%\" height=\"50%\">\n",
    "\n",
    "#### What is its parent?\n",
    "From the view of a tree structure the parent for this dendrite part is the soma whose index value is `0`."
   ]
  },
  {
   "cell_type": "code",
   "execution_count": 4,
   "metadata": {},
   "outputs": [
    {
     "data": {
      "text/plain": [
       "1"
      ]
     },
     "execution_count": 4,
     "metadata": {},
     "output_type": "execute_result"
    }
   ],
   "source": [
    "tree.append(parent = 0,\n",
    "            prox = mpoint(4., 0., 0., 0.8), # (x, y, z, radius)\n",
    "            dist = mpoint(8., 0., 0., 0.8),# (x, y, z, radius)\n",
    "            tag=3)"
   ]
  },
  {
   "cell_type": "markdown",
   "metadata": {},
   "source": [
    "Imagine that the constructed dendrite part is extended (maybe with a slight bent or kink).\n",
    "\n",
    "### 4.2.2. Second part of the dendrite\n",
    "In the tree list this will have the index `2` whose parent (the preceeding dendrite in the tree list) has the index `1`.\n",
    "<img src=\"images/Arbor_single_cell_2.png\" width=\"50%\" height=\"50%\">\n",
    "\n",
    "Notice that although we broke it down into two part dendrite it is merely geometrically, together they represent the same dendrite part. Therefore, we will assign them with the same tags; tag `3` for basal dendrite."
   ]
  },
  {
   "cell_type": "code",
   "execution_count": 5,
   "metadata": {},
   "outputs": [
    {
     "data": {
      "text/plain": [
       "2"
      ]
     },
     "execution_count": 5,
     "metadata": {},
     "output_type": "execute_result"
    }
   ],
   "source": [
    "tree.append(parent = 1,\n",
    "            prox = mpoint(8., 0., 0., 0.8), # (x, y, z, radius)\n",
    "            dist = mpoint(12., -0.5, 0., 0.8),# (x, y, z, radius)\n",
    "            tag=3)"
   ]
  },
  {
   "cell_type": "markdown",
   "metadata": {},
   "source": [
    "Notice that the dendrite forks (first of two forks). Let us consider the top branch.\n",
    "\n",
    "### 4.2.3. Constructing the dendrites in the top branch following the first fork\n",
    "The first part of this branch will have the index `3` and its parent will have the index `2`\n",
    "\n",
    "The second part will have the index `4` and its parent will have the index `3`\n",
    "<img src=\"images/Arbor_single_cell_3_4.png\" width=\"50%\" height=\"50%\">"
   ]
  },
  {
   "cell_type": "code",
   "execution_count": 6,
   "metadata": {},
   "outputs": [
    {
     "data": {
      "text/plain": [
       "4"
      ]
     },
     "execution_count": 6,
     "metadata": {},
     "output_type": "execute_result"
    }
   ],
   "source": [
    "tree.append(2,     mpoint(12, -0.5, 0, 0.8), mpoint(20,  4.0, 0, 0.4), tag=3)\n",
    "tree.append(3,     mpoint(20,  4.0, 0, 0.4), mpoint(26,  6.0, 0, 0.2), tag=3)"
   ]
  },
  {
   "cell_type": "markdown",
   "metadata": {},
   "source": [
    "### 4.2.4. Constructing the other branch following the first fork\n",
    "The second branch will have the index `5` and its parent will have the index `2`\n",
    "<img src=\"images/Arbor_single_cell_5.png\" width=\"50%\" height=\"50%\">"
   ]
  },
  {
   "cell_type": "code",
   "execution_count": 7,
   "metadata": {},
   "outputs": [
    {
     "data": {
      "text/plain": [
       "5"
      ]
     },
     "execution_count": 7,
     "metadata": {},
     "output_type": "execute_result"
    }
   ],
   "source": [
    "tree.append(2,     mpoint(12, -0.5, 0, 0.5), mpoint(19, -3.0, 0, 0.5), tag=3)"
   ]
  },
  {
   "cell_type": "markdown",
   "metadata": {},
   "source": [
    "Now we are at the second dendrite fork. Let us consider the top branch.\n",
    "\n",
    "### 4.2.5. Constructing the bottom branch following the second fork\n",
    "The bottom branch will have the index `6` and its parent will have the index `5`\n",
    "<img src=\"images/Arbor_single_cell_6.png\" width=\"50%\" height=\"50%\">"
   ]
  },
  {
   "cell_type": "code",
   "execution_count": 8,
   "metadata": {},
   "outputs": [
    {
     "data": {
      "text/plain": [
       "6"
      ]
     },
     "execution_count": 8,
     "metadata": {},
     "output_type": "execute_result"
    }
   ],
   "source": [
    "tree.append(5,     mpoint(19, -3.0, 0, 0.5), mpoint(24, -7.0, 0, 0.2), tag=3)"
   ]
  },
  {
   "cell_type": "markdown",
   "metadata": {},
   "source": [
    "### 4.2.6. Constructing the top branch following the second fork\n",
    "The first part of this branch will have the index `7` and its parent will have the index `5`\n",
    "\n",
    "The second part will have the index `8` and its parent will have the index `7`\n",
    "<img src=\"images/Arbor_single_cell_7_8.png\" width=\"50%\" height=\"50%\">"
   ]
  },
  {
   "cell_type": "code",
   "execution_count": 9,
   "metadata": {},
   "outputs": [
    {
     "data": {
      "text/plain": [
       "8"
      ]
     },
     "execution_count": 9,
     "metadata": {},
     "output_type": "execute_result"
    }
   ],
   "source": [
    "tree.append(5,     mpoint(19, -3.0, 0, 0.5), mpoint(23, -1.0, 0, 0.2), tag=3)\n",
    "tree.append(7,     mpoint(23, -1.0, 0, 0.2), mpoint(26, -2.0, 0, 0.2), tag=3)"
   ]
  },
  {
   "cell_type": "markdown",
   "metadata": {},
   "source": [
    "## 4.3. Constructing the axon\n",
    "Let us break the axon into two geometrical parts such that the first part is attached to the root (like the soma). Thus this part of the axon will have the index `9` and its parent will be `mnpos`.\n",
    "\n",
    "The other part of the axon will like before (similar pattern) have the index `10` and its parent will be `9`.\n",
    "<img src=\"images/Arbor_single_cell_9_10.png\" width=\"50%\" height=\"50%\">"
   ]
  },
  {
   "cell_type": "code",
   "execution_count": 10,
   "metadata": {},
   "outputs": [
    {
     "data": {
      "text/plain": [
       "10"
      ]
     },
     "execution_count": 10,
     "metadata": {},
     "output_type": "execute_result"
    }
   ],
   "source": [
    "tree.append(mnpos, mpoint(0,   0.0, 0, 2.0), mpoint(-7,  0.0, 0, 0.4), tag=2)\n",
    "tree.append(9,     mpoint(-7,  0.0, 0, 0.4), mpoint(-10, 0.0, 0, 0.4), tag=2)"
   ]
  },
  {
   "cell_type": "markdown",
   "metadata": {},
   "source": [
    "# 5. Morphology of the constructed tree\n",
    "[Morphology in Arbor](https://arbor.readthedocs.io/en/latest/python/morphology.html#arbor.morphology) describes _cell geometry (the tree) as branched cables with variable radius and associated tree structure_."
   ]
  },
  {
   "cell_type": "code",
   "execution_count": 11,
   "metadata": {},
   "outputs": [],
   "source": [
    "morph = arbor.morphology(tree)"
   ]
  },
  {
   "cell_type": "markdown",
   "metadata": {},
   "source": [
    "## 5.1. Is the morphology empty?\n",
    "That is, has the tree not been appended yet."
   ]
  },
  {
   "cell_type": "code",
   "execution_count": 12,
   "metadata": {},
   "outputs": [
    {
     "data": {
      "text/plain": [
       "False"
      ]
     },
     "execution_count": 12,
     "metadata": {},
     "output_type": "execute_result"
    }
   ],
   "source": [
    "morph.empty"
   ]
  },
  {
   "cell_type": "markdown",
   "metadata": {},
   "source": [
    "## 5.2. What are the number of branches in the morphology?"
   ]
  },
  {
   "cell_type": "code",
   "execution_count": 13,
   "metadata": {},
   "outputs": [
    {
     "data": {
      "text/plain": [
       "6"
      ]
     },
     "execution_count": 13,
     "metadata": {},
     "output_type": "execute_result"
    }
   ],
   "source": [
    "morph.num_branches"
   ]
  },
  {
   "cell_type": "markdown",
   "metadata": {},
   "source": [
    "## 5.3. What are the segments (i.e. each entry in the tree list) in a given branch?"
   ]
  },
  {
   "cell_type": "code",
   "execution_count": 14,
   "metadata": {},
   "outputs": [
    {
     "data": {
      "text/plain": [
       "[<arbor._arbor.msegment at 0x7fbe54057a30>,\n",
       " <arbor._arbor.msegment at 0x7fbe54058ab0>,\n",
       " <arbor._arbor.msegment at 0x7fbe54058b70>]"
      ]
     },
     "execution_count": 14,
     "metadata": {},
     "output_type": "execute_result"
    }
   ],
   "source": [
    "morph.branch_segments(0)"
   ]
  },
  {
   "cell_type": "code",
   "execution_count": 15,
   "metadata": {},
   "outputs": [
    {
     "data": {
      "text/plain": [
       "[1, 3, 3]"
      ]
     },
     "execution_count": 15,
     "metadata": {},
     "output_type": "execute_result"
    }
   ],
   "source": [
    "[seg.tag for seg in morph.branch_segments(0)]"
   ]
  },
  {
   "cell_type": "markdown",
   "metadata": {},
   "source": [
    "<img src=\"images/branch_0.gif\" width=\"50%\" height=\"50%\">"
   ]
  },
  {
   "cell_type": "markdown",
   "metadata": {},
   "source": [
    "The tree constructing had all dendrite parts have the same tag `3`. How do we know this is the correct picture?\n",
    "\n",
    "It will be helpful to identify the branch parent and child.\n",
    "\n",
    "## 5.4. What are the parent and child branch for a given branch?"
   ]
  },
  {
   "cell_type": "code",
   "execution_count": 16,
   "metadata": {},
   "outputs": [
    {
     "data": {
      "text/plain": [
       "[4294967295, [1, 2]]"
      ]
     },
     "execution_count": 16,
     "metadata": {},
     "output_type": "execute_result"
    }
   ],
   "source": [
    "[morph.branch_parent(0), morph.branch_children(0)]"
   ]
  },
  {
   "cell_type": "code",
   "execution_count": 17,
   "metadata": {},
   "outputs": [
    {
     "data": {
      "text/plain": [
       "[[4294967295, [1, 2]],\n",
       " [0, []],\n",
       " [0, [3, 4]],\n",
       " [2, []],\n",
       " [2, []],\n",
       " [4294967295, []]]"
      ]
     },
     "execution_count": 17,
     "metadata": {},
     "output_type": "execute_result"
    }
   ],
   "source": [
    "[[morph.branch_parent(br), morph.branch_children(br)] for br in range(morph.num_branches)]"
   ]
  },
  {
   "cell_type": "markdown",
   "metadata": {},
   "source": [
    "**Therefore, with a little detective work one can figure out the composition of the branches within the morphology.**\n",
    "<img src=\"images/branches.gif\" width=\"50%\" height=\"50%\">"
   ]
  },
  {
   "cell_type": "markdown",
   "metadata": {},
   "source": [
    "# 6. Construct the cell (cable)\n",
    "## 6.1. Define the regions using `arbor.label_dict`"
   ]
  },
  {
   "cell_type": "code",
   "execution_count": 18,
   "metadata": {},
   "outputs": [],
   "source": [
    "labels = arbor.label_dict( {\"soma\": \"(tag 1)\",\n",
    "                            \"axon\": \"(tag 2)\",\n",
    "                            \"dend\": \"(tag 3)\", # \"(join (tag 3) (tag 4))\" if there are more tags for a region\n",
    "                            \"stim\": \"(location 0 0.5)\" # mid-point 0.5 of branch 0\n",
    "                           })"
   ]
  },
  {
   "cell_type": "markdown",
   "metadata": {},
   "source": [
    "## 6.2. Create the cable cell"
   ]
  },
  {
   "cell_type": "code",
   "execution_count": 19,
   "metadata": {},
   "outputs": [],
   "source": [
    "cell = arbor.cable_cell(tree, labels)"
   ]
  },
  {
   "cell_type": "code",
   "execution_count": null,
   "metadata": {},
   "outputs": [],
   "source": []
  }
 ],
 "metadata": {
  "kernelspec": {
   "display_name": "Python 3",
   "language": "python",
   "name": "python3"
  },
  "language_info": {
   "codemirror_mode": {
    "name": "ipython",
    "version": 3
   },
   "file_extension": ".py",
   "mimetype": "text/x-python",
   "name": "python",
   "nbconvert_exporter": "python",
   "pygments_lexer": "ipython3",
   "version": "3.8.2"
  }
 },
 "nbformat": 4,
 "nbformat_minor": 4
}
