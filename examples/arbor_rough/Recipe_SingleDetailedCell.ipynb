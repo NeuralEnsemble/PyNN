{
 "cells": [
  {
   "cell_type": "code",
   "execution_count": 4,
   "id": "03b25aaf",
   "metadata": {},
   "outputs": [],
   "source": [
    "import arbor\n",
    "from arbor import mnpos, mpoint, decor"
   ]
  },
  {
   "cell_type": "markdown",
   "id": "26bf6c24",
   "metadata": {},
   "source": [
    "Step 1"
   ]
  },
  {
   "cell_type": "code",
   "execution_count": 5,
   "id": "9a51d542",
   "metadata": {},
   "outputs": [],
   "source": [
    "# Define the morphology by manually building a segment tree\n",
    "\n",
    "tree = arbor.segment_tree()\n",
    "\n",
    "# Start with segment 0: a cylindrical soma with tag 1\n",
    "tree.append(mnpos, mpoint(0.0, 0.0, 0.0, 2.0), mpoint( 40.0, 0.0, 0.0, 2.0), tag=1)\n",
    "# Construct the first section of the dendritic tree with tag 3,\n",
    "# comprised of segments 1 and 2, attached to soma segment 0.\n",
    "tree.append(0,     mpoint(40.0, 0.0, 0.0, 0.8), mpoint( 80.0,  0.0, 0.0, 0.8), tag=3)\n",
    "tree.append(1,     mpoint(80.0, 0.0, 0.0, 0.8), mpoint(120.0, -5.0, 0.0, 0.8), tag=3)\n",
    "# Construct the rest of the dendritic tree: segments 3, 4 and 5.\n",
    "tree.append(2,     mpoint(120.0, -5.0, 0.0, 0.8), mpoint(200.0,  40.0, 0.0, 0.4), tag=3)\n",
    "tree.append(3,     mpoint(200.0, 40.0, 0.0, 0.4), mpoint(260.0,  60.0, 0.0, 0.2), tag=3)\n",
    "tree.append(2,     mpoint(120.0, -5.0, 0.0, 0.5), mpoint(190.0, -30.0, 0.0, 0.5), tag=3)\n",
    "# Construct a special region of the tree made of segments 6, 7, and 8\n",
    "# differentiated from the rest of the tree using tag 4.\n",
    "tree.append(5,     mpoint(190.0, -30.0, 0.0, 0.5), mpoint(240.0, -70.0, 0.0, 0.2), tag=4)\n",
    "tree.append(5,     mpoint(190.0, -30.0, 0.0, 0.5), mpoint(230.0, -10.0, 0.0, 0.2), tag=4)\n",
    "tree.append(7,     mpoint(230.0, -10.0, 0.0, 0.2), mpoint(360.0, -20.0, 0.0, 0.2), tag=4)\n",
    "# Construct segments 9 and 10 that make up the axon with tag 2.\n",
    "# Segment 9 is at the root, where its proximal end will be connected to the\n",
    "# proximal end of the soma segment.\n",
    "tree.append(mnpos, mpoint( 0.0, 0.0, 0.0, 2.0), mpoint(  -70.0, 0.0, 0.0, 0.4), tag=2)\n",
    "tree.append(9,     mpoint(-70.0, 0.0, 0.0, 0.4), mpoint(-100.0, 0.0, 0.0, 0.4), tag=2)\n",
    "\n",
    "morph = arbor.morphology(tree);"
   ]
  },
  {
   "cell_type": "markdown",
   "id": "dd0ac0fc",
   "metadata": {},
   "source": [
    "Step 2"
   ]
  },
  {
   "cell_type": "code",
   "execution_count": 6,
   "id": "ebbfeb0f",
   "metadata": {},
   "outputs": [],
   "source": [
    "# (2) Define the soma and its midpoint\n",
    "labels = arbor.label_dict({\n",
    "  \"soma\": \"(tag 1)\",\n",
    "  \"axon\": \"(tag 2)\",\n",
    "  \"dend\": \"(tag 3)\",\n",
    "  \"apic\": \"(tag 4)\",\n",
    "  \"all\": \"(all)\",\n",
    "  \"midpoint\": \"(location 0 0.5)\",\n",
    "  # Add a label for the parts of the morphology with radius greater than 1.5 μm.\n",
    "  \"gt_1.5\": '(radius-ge (region \"all\") 1.5)',\n",
    "  # Join regions \"apic\" and \"gt_1.5\"\n",
    "  \"custom\": '(join (region \"apic\") (region \"gt_1.5\"))',\n",
    "  # Add a labels for the root of the morphology and all the terminal points\n",
    "  \"root\": \"(root)\",\n",
    "  \"terminal\": \"(terminal)\",\n",
    "  # Add a label for the terminal locations in the \"custom\" region:\n",
    "  \"custom_terminal\": '(restrict (locset \"terminal\") (region \"custom\"))',\n",
    "  # Add a label for the terminal locations in the \"axon\" region:\n",
    "  \"axon_terminal\": '(restrict (locset \"terminal\") (region \"axon\"))',\n",
    "})"
   ]
  },
  {
   "cell_type": "markdown",
   "id": "79d72a89",
   "metadata": {},
   "source": [
    "Step 3"
   ]
  },
  {
   "cell_type": "code",
   "execution_count": 7,
   "id": "f379b3fa",
   "metadata": {},
   "outputs": [],
   "source": [
    "# (3) Create and set up a decor object\n",
    "decor = arbor.decor()\n",
    "# Set the default properties of the cell (this overrides the model defaults).\n",
    "decor.set_property(Vm=-55)\n",
    "decor.set_ion(\"na\", int_con=10, ext_con=140, rev_pot=50, method=\"nernst/na\")\n",
    "decor.set_ion(\"k\", int_con=54.4, ext_con=2.5, rev_pot=-77)\n",
    "# Override the cell defaults.\n",
    "decor.paint('\"custom\"', tempK=270)\n",
    "decor.paint('\"soma\"', Vm=-50)\n",
    "# Paint density mechanisms.\n",
    "decor.paint('\"all\"', arbor.density(\"pas\"))\n",
    "decor.paint('\"custom\"', arbor.density(\"hh\"))\n",
    "decor.paint('\"dend\"', arbor.density(\"hh\", {\"gkbar\": 0.001}))\n",
    "# Place stimuli and detectors.\n",
    "decor.place('\"root\"', arbor.iclamp(10, 1, current=2), \"iclamp0\")\n",
    "decor.place('\"root\"', arbor.iclamp(30, 1, current=2), \"iclamp1\")\n",
    "decor.place('\"root\"', arbor.iclamp(50, 1, current=2), \"iclamp2\")\n",
    "#decor.place('\"axon_terminal\"', arbor.threshold_detector(-10), \"detector\")\n",
    "decor.place('\"axon_terminal\"', arbor.spike_detector(-10), \"detector\")\n",
    "\n",
    "decor.place('\"midpoint\"', arbor.iclamp( 10, 2, 0.8), \"iclamp\")\n",
    "decor.place('\"midpoint\"', arbor.spike_detector(-10), \"detector\")"
   ]
  },
  {
   "cell_type": "markdown",
   "id": "cb439a04",
   "metadata": {},
   "source": [
    "Step 4"
   ]
  },
  {
   "cell_type": "code",
   "execution_count": 8,
   "id": "5699f596",
   "metadata": {},
   "outputs": [],
   "source": [
    "cell = arbor.cable_cell(morph, labels, decor)"
   ]
  },
  {
   "cell_type": "markdown",
   "id": "7bee8d80",
   "metadata": {},
   "source": [
    "Step 5"
   ]
  },
  {
   "cell_type": "code",
   "execution_count": 9,
   "id": "29846d3c",
   "metadata": {},
   "outputs": [],
   "source": [
    "# (5) Create a class that inherits from arbor.recipe\n",
    "class single_recipe(arbor.recipe):\n",
    "\n",
    "    # (5.1) Define the class constructor\n",
    "    def __init__(self):\n",
    "        # The base C++ class constructor must be called first, to ensure that\n",
    "        # all memory in the C++ class is initialized correctly.\n",
    "        arbor.recipe.__init__(self)\n",
    "\n",
    "        self.the_props = arbor.cable_global_properties()\n",
    "        self.the_props.set_property(Vm=-65, tempK=300, rL=35.4, cm=0.01)\n",
    "        self.the_props.set_ion(\n",
    "            ion=\"na\", int_con=10, ext_con=140, rev_pot=50, method=\"nernst/na\"\n",
    "        )\n",
    "        self.the_props.set_ion(ion=\"k\", int_con=54.4, ext_con=2.5, rev_pot=-77)\n",
    "        self.the_props.set_ion(ion=\"ca\", int_con=5e-5, ext_con=2, rev_pot=132.5)\n",
    "        self.the_props.catalogue.extend(arbor.allen_catalogue(), \"\")\n",
    "\n",
    "    # (5.2) Override the num_cells method\n",
    "    def num_cells(self):\n",
    "        return 1\n",
    "\n",
    "    # (5.3) Override the cell_kind method\n",
    "    def cell_kind(self, gid):\n",
    "        return arbor.cell_kind.cable\n",
    "\n",
    "    # (5.4) Override the cell_description method\n",
    "    def cell_description(self, gid):\n",
    "        return cell\n",
    "\n",
    "    # (5.5) Override the probes method\n",
    "    def probes(self, gid):\n",
    "        return [arbor.cable_probe_membrane_voltage('\"custom_terminal\"')]\n",
    "\n",
    "    # (5.6) Override the global_properties method\n",
    "    def global_properties(self, gid):\n",
    "        return self.the_props"
   ]
  },
  {
   "cell_type": "code",
   "execution_count": 10,
   "id": "0ef61a23",
   "metadata": {},
   "outputs": [],
   "source": [
    "# Instantiate recipe\n",
    "recipe = single_recipe()"
   ]
  },
  {
   "cell_type": "markdown",
   "id": "008bea54",
   "metadata": {},
   "source": [
    "Step 6"
   ]
  },
  {
   "cell_type": "code",
   "execution_count": 11,
   "id": "44a43a00",
   "metadata": {},
   "outputs": [],
   "source": [
    "# (6) Create a simulation\n",
    "sim = arbor.simulation(recipe)\n",
    "\n",
    "# Instruct the simulation to record the spikes and sample the probe\n",
    "sim.record(arbor.spike_recording.all)\n",
    "\n",
    "probeset_id = arbor.cell_member(0, 0)\n",
    "handle = sim.sample(probeset_id, arbor.regular_schedule(0.02))"
   ]
  },
  {
   "cell_type": "code",
   "execution_count": 12,
   "id": "4ca10f88",
   "metadata": {},
   "outputs": [
    {
     "data": {
      "text/plain": [
       "100.0"
      ]
     },
     "execution_count": 12,
     "metadata": {},
     "output_type": "execute_result"
    }
   ],
   "source": [
    "# (7) Run the simulation\n",
    "sim.run(tfinal=100, dt=0.025)"
   ]
  },
  {
   "cell_type": "code",
   "execution_count": 13,
   "id": "cc688f65",
   "metadata": {},
   "outputs": [
    {
     "name": "stdout",
     "output_type": "stream",
     "text": [
      "6 spikes recorded:\n",
      "((0, 1), 10.3555546)\n",
      "((0, 0), 10.38144428)\n",
      "((0, 1), 30.48406516)\n",
      "((0, 0), 30.50668045)\n",
      "((0, 1), 50.48408832)\n",
      "((0, 0), 50.50670237)\n"
     ]
    }
   ],
   "source": [
    "# (8) Print or display the results\n",
    "spikes = sim.spikes()\n",
    "print(len(spikes), \"spikes recorded:\")\n",
    "for s in spikes:\n",
    "    print(s)"
   ]
  },
  {
   "cell_type": "code",
   "execution_count": null,
   "id": "72fdfcf7",
   "metadata": {},
   "outputs": [],
   "source": []
  }
 ],
 "metadata": {
  "kernelspec": {
   "display_name": "Python 3",
   "language": "python",
   "name": "python3"
  },
  "language_info": {
   "codemirror_mode": {
    "name": "ipython",
    "version": 3
   },
   "file_extension": ".py",
   "mimetype": "text/x-python",
   "name": "python",
   "nbconvert_exporter": "python",
   "pygments_lexer": "ipython3",
   "version": "3.8.2"
  }
 },
 "nbformat": 4,
 "nbformat_minor": 5
}
