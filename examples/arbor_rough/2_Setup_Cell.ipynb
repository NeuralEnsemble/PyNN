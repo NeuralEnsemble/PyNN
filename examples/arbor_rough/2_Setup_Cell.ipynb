{
 "cells": [
  {
   "cell_type": "code",
   "execution_count": 1,
   "metadata": {},
   "outputs": [],
   "source": [
    "import arbor\n",
    "from arbor import mpoint\n",
    "from arbor import mnpos"
   ]
  },
  {
   "cell_type": "code",
   "execution_count": 2,
   "metadata": {},
   "outputs": [],
   "source": [
    "tree = arbor.segment_tree()\n",
    "# Start with a cylinder segment for the soma (with tag 1)\n",
    "tree.append(mnpos, mpoint(0,   0.0, 0, 2.0), mpoint( 4,  0.0, 0, 2.0), tag=1)\n",
    "# Construct the first section of the dendritic tree,\n",
    "# comprised of segments 1 and 2, attached to soma segment 0.\n",
    "tree.append(0,     mpoint(4,   0.0, 0, 0.8), mpoint( 8,  0.0, 0, 0.8), tag=3)\n",
    "tree.append(1,     mpoint(8,   0.0, 0, 0.8), mpoint(12, -0.5, 0, 0.8), tag=3)\n",
    "# Construct the rest of the dendritic tree.\n",
    "tree.append(2,     mpoint(12, -0.5, 0, 0.8), mpoint(20,  4.0, 0, 0.4), tag=3)\n",
    "tree.append(3,     mpoint(20,  4.0, 0, 0.4), mpoint(26,  6.0, 0, 0.2), tag=3)\n",
    "tree.append(2,     mpoint(12, -0.5, 0, 0.5), mpoint(19, -3.0, 0, 0.5), tag=3)\n",
    "tree.append(5,     mpoint(19, -3.0, 0, 0.5), mpoint(24, -7.0, 0, 0.2), tag=3)\n",
    "tree.append(5,     mpoint(19, -3.0, 0, 0.5), mpoint(23, -1.0, 0, 0.2), tag=3)\n",
    "tree.append(7,     mpoint(23, -1.0, 0, 0.2), mpoint(26, -2.0, 0, 0.2), tag=3)\n",
    "# Two segments that define the axon, with the first at the root, where its proximal\n",
    "# end will be connected with the proximal end of the soma segment.\n",
    "tree.append(mnpos, mpoint(0,   0.0, 0, 2.0), mpoint(-7,  0.0, 0, 0.4), tag=2)\n",
    "tree.append(9,     mpoint(-7,  0.0, 0, 0.4), mpoint(-10, 0.0, 0, 0.4), tag=2)\n",
    "#\n",
    "# Get the morphology\n",
    "morph = arbor.morphology(tree)\n",
    "#\n",
    "# Create the cable cell\n",
    "labels = arbor.label_dict( {\"soma\": \"(tag 1)\", \"axon\": \"(tag 2)\", \"dend\": \"(tag 3)\",\n",
    "                            \"stim\": \"(location 0 0.5)\", \"everywhere\": \"(all)\"} )\n",
    "cell = arbor.cable_cell(tree, labels)"
   ]
  },
  {
   "cell_type": "markdown",
   "metadata": {},
   "source": [
    "# Objectives:\n",
    "1. **Set global properties**\n",
    "2. **Set channel mechanisms**\n",
    "3. **Attach the mechanism**\n",
    "4. **Set stimulus**\n",
    "5. **Adding spike detector**\n",
    "6. **Compartmentalizing the cell**"
   ]
  },
  {
   "cell_type": "markdown",
   "metadata": {},
   "source": [
    "# 1. Set global cell properties\n",
    "<img src=\"images/Arbor_CellSetup_global.png\" width=\"40%\" height=\"40%\">"
   ]
  },
  {
   "cell_type": "code",
   "execution_count": 3,
   "metadata": {},
   "outputs": [],
   "source": [
    "cell.set_properties(Vm=-70, cm=1.0, rL=500.) # tempK=30+273.5\n",
    "cell.set_ion(ion=\"na\", rev_pot=50.)\n",
    "cell.set_ion(ion=\"k\", rev_pot=-77.)"
   ]
  },
  {
   "cell_type": "markdown",
   "metadata": {},
   "source": [
    "# 2. Set channel mechanisms\n",
    "<img src=\"images/generic_expression_for_Conductance.svg\" title=\"http://latex.codecogs.com/svg.latex?G_x = g_x m^p h^q\" />\n",
    "\n",
    "such that,\n",
    "\n",
    "| _x_  | _p_   | _q_ |\n",
    "| :---: | :----: | :--: |\n",
    "|  Na  | 3      | 1   |\n",
    "|  K    | 4      | 0   |\n",
    "|  lk   | 0      | 0   |\n",
    "\n",
    "[NB: <i>m</i><sup>4</sup> = <i>n</i><sup>4</sup>]\n",
    "\n",
    "Notation in Arbor\n",
    "*  <i>G<sub>Na</sub></i> &rarr; `gna`\n",
    "*  <i>G<sub>K</sub></i> &rarr; `gk`\n",
    "*  <i>G<sub>lk</sub></i> &rarr; `gl` (&rarr; `g` in `passive` mechanism)\n",
    "*  <i>g<sub>Na</sub></i> &rarr; `gnabar`\n",
    "*  <i>g<sub>K</sub></i> &rarr; `gkbar`"
   ]
  },
  {
   "cell_type": "code",
   "execution_count": 4,
   "metadata": {},
   "outputs": [],
   "source": [
    "leaky_chnl = arbor.mechanism('pas', {'e': -54.3, 'g': 0.0003})\n",
    "hh_na_k_chnl = arbor.mechanism(\"hh\", {\"gnabar\": 0.120,\n",
    "                                      \"gkbar\": 0.036,\n",
    "                                      \"gl\": 0.}) # to avoid duplication"
   ]
  },
  {
   "cell_type": "markdown",
   "metadata": {},
   "source": [
    "# 3. Attaching the mechanism\n",
    "<img src=\"images/Arbor_CellSetup_decorate.png\" width=\"40%\" height=\"40%\">\n",
    "\n",
    "In Arbor attaching to a cell is referred to as [decoration](https://arbor.readthedocs.io/en/pydoc/cable_cell.html?#decoration). One can decorate a cell by _painting_ or _placing_.\n",
    "\n",
    "| Painting                    | Placing                       |\n",
    "|:----------------------------|:------------------------------|\n",
    "| to regions of a cell to set | to locations on a cell to set |\n",
    "| * Cable properties          | * Synapses                    |\n",
    "| * Density mechanisms        | * Gap junction sites          |\n",
    "| * Ion species               | * Threshold (spike) detectors |\n",
    "|                             | * Stimuli                     |\n",
    "|                             | * Probes                      |\n",
    "\n",
    "For our purpose of attaching `arbor.mechanism` one must therefore paint.\n",
    "\n",
    "## 3.1. Set reversal potential and attach mechanism to soma"
   ]
  },
  {
   "cell_type": "code",
   "execution_count": 5,
   "metadata": {},
   "outputs": [],
   "source": [
    "cell.paint('\"soma\"', \"na\", rev_pot=50)\n",
    "cell.paint('\"soma\"', \"k\", rev_pot=-77)\n",
    "cell.paint('\"soma\"', hh_na_k_chnl)"
   ]
  },
  {
   "cell_type": "markdown",
   "metadata": {},
   "source": [
    "## 3.2. Similarly for axon and dendrite"
   ]
  },
  {
   "cell_type": "code",
   "execution_count": 6,
   "metadata": {},
   "outputs": [],
   "source": [
    "cell.paint('\"axon\"', \"na\", rev_pot=50)\n",
    "cell.paint('\"axon\"', \"k\", rev_pot=-77)\n",
    "cell.paint('\"axon\"', hh_na_k_chnl)\n",
    "#\n",
    "cell.paint('\"dend\"', \"na\", rev_pot=50)\n",
    "cell.paint('\"dend\"', \"k\", rev_pot=-77)\n",
    "cell.paint('\"dend\"', hh_na_k_chnl)"
   ]
  },
  {
   "cell_type": "markdown",
   "metadata": {},
   "source": [
    "Note that all the above attaching can be done as\n",
    "```\n",
    "cell.paint('(join (region \"soma\") (region \"dend\") (region \"axon\"))', \"na\", rev_pot=50)\n",
    "cell.paint('(join (region \"soma\") (region \"dend\") (region \"axon\"))', \"k\", rev_pot=-77)\n",
    "cell.paint('(join (region \"soma\") (region \"dend\") (region \"axon\"))', hh_na_k_chnl)\n",
    "```\n",
    "\n",
    "## 3.3. Attaching a mechanism to all the regions of the cell\n",
    "\n",
    "The resolution options of _painting_ are shown below\n",
    "\n",
    "| to paint               | region | cell | global |\n",
    "|:-----------------------|:------:|:----:|:------:|\n",
    "| cable properties       | ✓      |  ✓  |  ✓     |\n",
    "| ion initial conditions | ✓      |  ✓  |  ✓     |\n",
    "| density mechnism       | ✓      | -   | -       |\n",
    "| ion rev pot mechanism  | -      |  ✓  | ✓      |\n",
    "| ion valence            | -      | -   |  ✓     |"
   ]
  },
  {
   "cell_type": "code",
   "execution_count": 7,
   "metadata": {},
   "outputs": [],
   "source": [
    "cell.paint('\"everywhere\"', leaky_chnl) # instead for looping through each segment"
   ]
  },
  {
   "cell_type": "markdown",
   "metadata": {},
   "source": [
    "# *Side-note*\n",
    "## *1.1 Set cable properties for a particular region*"
   ]
  },
  {
   "cell_type": "code",
   "execution_count": 8,
   "metadata": {},
   "outputs": [],
   "source": [
    "cell.paint('\"soma\"', rL=100)\n",
    "cell.paint(\"(tag 2)\", cm=0.05, rL=80)"
   ]
  },
  {
   "cell_type": "markdown",
   "metadata": {},
   "source": [
    "# 4. Set stimulus\n",
    "\n",
    "<pre>\n",
    "         ___ 0.8nA            ___ 0.8nA         ___ 0.8nA\n",
    "        |   |                |   |             |   |\n",
    "________|   |________________|   |_____________|   |______\n",
    "       / 2ms                 / 2ms             / 2ms\n",
    "   10ms                  50ms              80ms\n",
    "</pre>"
   ]
  },
  {
   "cell_type": "code",
   "execution_count": 9,
   "metadata": {},
   "outputs": [],
   "source": [
    "cell.place('\"stim\"', arbor.iclamp(10, 2, 0.8))\n",
    "cell.place('\"stim\"', arbor.iclamp(50, 2, 0.8))\n",
    "cell.place('\"stim\"', arbor.iclamp(80, 2, 0.8))"
   ]
  },
  {
   "cell_type": "markdown",
   "metadata": {},
   "source": [
    "# 5. Spike detectors with threshold"
   ]
  },
  {
   "cell_type": "code",
   "execution_count": 10,
   "metadata": {},
   "outputs": [],
   "source": [
    "cell.place('\"stim\"', arbor.spike_detector(-10)) # -10mV threshold"
   ]
  },
  {
   "cell_type": "markdown",
   "metadata": {},
   "source": [
    "# 6. Compartmentalizing the cell\n",
    "Although the cell was created painstakingly by growing the tree piece by piece we have \"not really\" compartmentalized the cell.\n",
    "- The typical view of compartmentalizing the cell\n",
    "- The default Arbor compartmentalization\n",
    "- Overwriting the default\n",
    "\n",
    "## 6.1. The typical view of compartmentalizing the cell\n",
    "<img src=\"images/MultiCompartmentTypical.gif\" width=\"40%\" height=\"40%\">\n",
    "\n",
    "## 6.2. The default Arbor compartmentalization\n",
    "<img src=\"images/MultiCompartmentArborDefault.gif\" width=\"40%\" height=\"40%\">\n",
    "\n",
    "## 6.1. Increase precision in the discretization"
   ]
  },
  {
   "cell_type": "code",
   "execution_count": 11,
   "metadata": {},
   "outputs": [],
   "source": [
    "cell.compartments_length(2) # Compartment every 2um"
   ]
  },
  {
   "cell_type": "markdown",
   "metadata": {},
   "source": [
    "<img src=\"images/MultiCompartmentArborDiscrete.gif\" width=\"40%\" height=\"40%\">"
   ]
  },
  {
   "cell_type": "code",
   "execution_count": null,
   "metadata": {},
   "outputs": [],
   "source": []
  }
 ],
 "metadata": {
  "kernelspec": {
   "display_name": "Python 3",
   "language": "python",
   "name": "python3"
  },
  "language_info": {
   "codemirror_mode": {
    "name": "ipython",
    "version": 3
   },
   "file_extension": ".py",
   "mimetype": "text/x-python",
   "name": "python",
   "nbconvert_exporter": "python",
   "pygments_lexer": "ipython3",
   "version": "3.8.2"
  }
 },
 "nbformat": 4,
 "nbformat_minor": 4
}
