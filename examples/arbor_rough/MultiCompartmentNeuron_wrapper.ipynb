{
 "cells": [
  {
   "cell_type": "code",
   "execution_count": 1,
   "metadata": {},
   "outputs": [],
   "source": [
    "import pyNN.neuron as sim"
   ]
  },
  {
   "cell_type": "code",
   "execution_count": 2,
   "metadata": {},
   "outputs": [],
   "source": [
    "def setup(timestep=0.01,**extra_params):\n",
    "    if \"mcclass\" in extra_params:\n",
    "        mc_attribute = [\"label\", \"ion_channels\", \"post_synaptic_entities\"]\n",
    "        _preset_mc_property(mc_attribute, extra_params)\n",
    "        _preset_mc_property_value(mc_attribute, extra_params)\n",
    "\n",
    "def _preset_mc_property(mc_attribute, params):\n",
    "    [setattr(params[\"mcclass\"], keyword, property(params[keyword]))\n",
    "     for keyword in mc_attribute if keyword in params]\n",
    "\n",
    "def _preset_mc_property_value(mc_attribute, params):\n",
    "    [setattr(params[\"mcclass\"], keyword, params[keyword])\n",
    "     for keyword in mc_attribute if keyword in params]"
   ]
  },
  {
   "cell_type": "code",
   "execution_count": null,
   "metadata": {},
   "outputs": [],
   "source": [
    "setup(timestep=0.025, mcclass=sim.MultiCompartmentNeuron,\n",
    "      label = \"PyramidalNeuron\",\n",
    "      ion_channels = {'pas': sim.PassiveLeak,\n",
    "                      'na': sim.NaChannel,\n",
    "                      'kdr': sim.KdrChannel},\n",
    "      post_synaptic_entities = {\n",
    "          'AMPA': sim.CondExpPostSynapticResponse,\n",
    "          'GABA_A': sim.CondExpPostSynapticResponse})"
   ]
  },
  {
   "cell_type": "code",
   "execution_count": null,
   "metadata": {},
   "outputs": [],
   "source": [
    "sim.MultiCompartmentNeuron.ion_channels"
   ]
  },
  {
   "cell_type": "code",
   "execution_count": null,
   "metadata": {},
   "outputs": [],
   "source": [
    "sim.MultiCompartmentNeuron.label"
   ]
  },
  {
   "cell_type": "code",
   "execution_count": 3,
   "metadata": {},
   "outputs": [],
   "source": [
    "cellclass = sim.MultiCompartmentNeuron"
   ]
  },
  {
   "cell_type": "code",
   "execution_count": 4,
   "metadata": {},
   "outputs": [],
   "source": [
    "setup(timestep=0.025, mcclass=cellclass,\n",
    "      label = \"PyramidalNeuron\",\n",
    "      ion_channels = {'pas': sim.PassiveLeak,\n",
    "                      'na': sim.NaChannel,\n",
    "                      'kdr': sim.KdrChannel},\n",
    "      post_synaptic_entities = {\n",
    "          'AMPA': sim.CondExpPostSynapticResponse,\n",
    "          'GABA_A': sim.CondExpPostSynapticResponse}) "
   ]
  },
  {
   "cell_type": "code",
   "execution_count": 5,
   "metadata": {},
   "outputs": [
    {
     "data": {
      "text/plain": [
       "'PyramidalNeuron'"
      ]
     },
     "execution_count": 5,
     "metadata": {},
     "output_type": "execute_result"
    }
   ],
   "source": [
    "cellclass.label"
   ]
  },
  {
   "cell_type": "code",
   "execution_count": 6,
   "metadata": {},
   "outputs": [
    {
     "data": {
      "text/plain": [
       "{'pas': pyNN.neuron.standardmodels.ion_channels.PassiveLeak,\n",
       " 'na': pyNN.neuron.standardmodels.ion_channels.NaChannel,\n",
       " 'kdr': pyNN.neuron.standardmodels.ion_channels.KdrChannel}"
      ]
     },
     "execution_count": 6,
     "metadata": {},
     "output_type": "execute_result"
    }
   ],
   "source": [
    "cellclass.ion_channels"
   ]
  },
  {
   "cell_type": "code",
   "execution_count": 7,
   "metadata": {},
   "outputs": [
    {
     "data": {
      "text/plain": [
       "'PyramidalNeuron'"
      ]
     },
     "execution_count": 7,
     "metadata": {},
     "output_type": "execute_result"
    }
   ],
   "source": [
    "sim.MultiCompartmentNeuron.label"
   ]
  },
  {
   "cell_type": "code",
   "execution_count": null,
   "metadata": {},
   "outputs": [],
   "source": []
  }
 ],
 "metadata": {
  "kernelspec": {
   "display_name": "Python 3",
   "language": "python",
   "name": "python3"
  },
  "language_info": {
   "codemirror_mode": {
    "name": "ipython",
    "version": 3
   },
   "file_extension": ".py",
   "mimetype": "text/x-python",
   "name": "python",
   "nbconvert_exporter": "python",
   "pygments_lexer": "ipython3",
   "version": "3.8.2"
  }
 },
 "nbformat": 4,
 "nbformat_minor": 4
}
