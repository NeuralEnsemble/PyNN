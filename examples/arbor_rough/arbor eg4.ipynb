{
 "cells": [
  {
   "cell_type": "markdown",
   "id": "62a5bdd1",
   "metadata": {},
   "source": [
    "[https://docs.arbor-sim.org/en/stable/tutorial/single_cell_detailed_recipe.html](https://docs.arbor-sim.org/en/stable/tutorial/single_cell_detailed_recipe.html)"
   ]
  },
  {
   "cell_type": "code",
   "execution_count": 1,
   "id": "9a6e5183",
   "metadata": {},
   "outputs": [],
   "source": [
    "import arbor\n",
    "from arbor import mpoint\n",
    "from arbor import mnpos"
   ]
  },
  {
   "cell_type": "code",
   "execution_count": 2,
   "id": "ddc0a330",
   "metadata": {},
   "outputs": [],
   "source": [
    "# Define the morphology by manually building a segment tree\n",
    "tree = arbor.segment_tree()\n",
    "\n",
    "# Start with segment 0: a cylindrical soma with tag 1\n",
    "tree.append(mnpos, mpoint(0.0, 0.0, 0.0, 2.0), mpoint( 40.0, 0.0, 0.0, 2.0), tag=1)\n",
    "# Construct the first section of the dendritic tree with tag 3,\n",
    "# comprised of segments 1 and 2, attached to soma segment 0.\n",
    "tree.append(0,     mpoint(40.0, 0.0, 0.0, 0.8), mpoint( 80.0,  0.0, 0.0, 0.8), tag=3)\n",
    "tree.append(1,     mpoint(80.0, 0.0, 0.0, 0.8), mpoint(120.0, -5.0, 0.0, 0.8), tag=3)\n",
    "# Construct the rest of the dendritic tree: segments 3, 4 and 5.\n",
    "tree.append(2,     mpoint(120.0, -5.0, 0.0, 0.8), mpoint(200.0,  40.0, 0.0, 0.4), tag=3)\n",
    "tree.append(3,     mpoint(200.0, 40.0, 0.0, 0.4), mpoint(260.0,  60.0, 0.0, 0.2), tag=3)\n",
    "tree.append(2,     mpoint(120.0, -5.0, 0.0, 0.5), mpoint(190.0, -30.0, 0.0, 0.5), tag=3)\n",
    "# Construct a special region of the tree made of segments 6, 7, and 8\n",
    "# differentiated from the rest of the tree using tag 4.\n",
    "tree.append(5,     mpoint(190.0, -30.0, 0.0, 0.5), mpoint(240.0, -70.0, 0.0, 0.2), tag=4)\n",
    "tree.append(5,     mpoint(190.0, -30.0, 0.0, 0.5), mpoint(230.0, -10.0, 0.0, 0.2), tag=4)\n",
    "tree.append(7,     mpoint(230.0, -10.0, 0.0, 0.2), mpoint(360.0, -20.0, 0.0, 0.2), tag=4)\n",
    "# Construct segments 9 and 10 that make up the axon with tag 2.\n",
    "# Segment 9 is at the root, where its proximal end will be connected to the\n",
    "# proximal end of the soma segment.\n",
    "tree.append(mnpos, mpoint( 0.0, 0.0, 0.0, 2.0), mpoint(  -70.0, 0.0, 0.0, 0.4), tag=2)\n",
    "tree.append(9,     mpoint(-70.0, 0.0, 0.0, 0.4), mpoint(-100.0, 0.0, 0.0, 0.4), tag=2)\n",
    "\n",
    "morph = arbor.morphology(tree);"
   ]
  },
  {
   "cell_type": "code",
   "execution_count": 3,
   "id": "f144d327",
   "metadata": {},
   "outputs": [],
   "source": [
    "# (2) Create and populate the label dictionary.\n",
    "labels = arbor.label_dict()\n",
    "\n",
    "# Regions:\n",
    "\n",
    "# Add labels for tag 1, 2, 3, 4\n",
    "labels['soma'] = '(tag 1)'\n",
    "labels['axon'] = '(tag 2)'\n",
    "labels['dend'] = '(tag 3)'\n",
    "labels['last'] = '(tag 4)'\n",
    "\n",
    "# Add a label for a region that includes the whole morphology\n",
    "labels['all'] = '(all)'\n",
    "# Add a label for the parts of the morphology with radius greater than 1.5 μm.\n",
    "labels['gt_1.5'] = '(radius-ge (region \"all\") 1.5)'\n",
    "\n",
    "# Join regions \"last\" and \"gt_1.5\"\n",
    "labels['custom'] = '(join (region \"last\") (region \"gt_1.5\"))'\n",
    "\n",
    "# Add a labels for the root of the morphology and all the terminal points\n",
    "labels['root']     = '(root)'\n",
    "labels['terminal'] = '(terminal)'\n",
    "\n",
    "# Add a label for the terminal locations in the \"custom\" region:\n",
    "labels['custom_terminal'] = '(restrict (locset \"terminal\") (region \"custom\"))'\n",
    "# Add a label for the terminal locations in the \"axon\" region:\n",
    "labels['axon_terminal'] = '(restrict (locset \"terminal\") (region \"axon\"))'"
   ]
  },
  {
   "cell_type": "code",
   "execution_count": 4,
   "id": "f2af9004",
   "metadata": {},
   "outputs": [],
   "source": [
    "# (3) Create and populate the decor.\n",
    "decor = arbor.decor()\n",
    "\n",
    "# Set the default properties of the cell (this overrides the model defaults).\n",
    "decor.set_property(Vm =-55)\n",
    "decor.set_ion('na', int_con=10,   ext_con=140, rev_pot=50, method='nernst/na')\n",
    "decor.set_ion('k',  int_con=54.4, ext_con=2.5, rev_pot=-77)"
   ]
  },
  {
   "cell_type": "code",
   "execution_count": 5,
   "id": "cbd119b0",
   "metadata": {},
   "outputs": [],
   "source": [
    "# Override the cell defaults.\n",
    "decor.paint('\"custom\"', tempK=270)\n",
    "decor.paint('\"soma\"',   Vm=-50)"
   ]
  },
  {
   "cell_type": "code",
   "execution_count": 6,
   "id": "e6117e9e",
   "metadata": {},
   "outputs": [],
   "source": [
    "# Paint density mechanisms.\n",
    "decor.paint('\"all\"', arbor.density('pas'))\n",
    "decor.paint('\"custom\"', arbor.density('hh'))\n",
    "decor.paint('\"dend\"',  arbor.density('Ih', {'gbar': 0.001}))"
   ]
  },
  {
   "cell_type": "code",
   "execution_count": 7,
   "id": "84dde495",
   "metadata": {},
   "outputs": [],
   "source": [
    "# Place stimuli and spike detectors.\n",
    "decor.place('\"root\"', arbor.iclamp(10, 1, current=2), 'iclamp0')\n",
    "decor.place('\"root\"', arbor.iclamp(30, 1, current=2), 'iclamp1')\n",
    "decor.place('\"root\"', arbor.iclamp(50, 1, current=2), 'iclamp2')\n",
    "decor.place('\"axon_terminal\"', arbor.spike_detector(-10), 'detector')"
   ]
  },
  {
   "cell_type": "code",
   "execution_count": 8,
   "id": "5f98dd67",
   "metadata": {},
   "outputs": [],
   "source": [
    "# Single CV for the \"soma\" region\n",
    "soma_policy = arbor.cv_policy_single('\"soma\"')\n",
    "# Single CV for the \"soma\" region\n",
    "dflt_policy = arbor.cv_policy_max_extent(1.0)\n",
    "# default policy everywhere except the soma\n",
    "policy = dflt_policy | soma_policy\n",
    "# Set cv_policy\n",
    "decor.discretization(policy)"
   ]
  },
  {
   "cell_type": "code",
   "execution_count": 9,
   "id": "a07b13b1",
   "metadata": {},
   "outputs": [],
   "source": [
    "# (4) Create the cell.\n",
    "cell = arbor.cable_cell(morph, labels, decor)"
   ]
  },
  {
   "cell_type": "code",
   "execution_count": 10,
   "id": "33173508",
   "metadata": {},
   "outputs": [],
   "source": [
    "# (5) Declare a probe.\n",
    "probe = arbor.cable_probe_membrane_voltage('\"custom_terminal\"')"
   ]
  },
  {
   "cell_type": "code",
   "execution_count": 11,
   "id": "39df5c31",
   "metadata": {},
   "outputs": [],
   "source": [
    "# (6) Create a class that inherits from arbor.recipe\n",
    "class single_recipe (arbor.recipe):\n",
    "\n",
    "    # (6.1) Define the class constructor\n",
    "    def __init__(self, cell, probes):\n",
    "        # The base C++ class constructor must be called first, to ensure that\n",
    "        # all memory in the C++ class is initialized correctly.\n",
    "        arbor.recipe.__init__(self)\n",
    "        self.the_cell = cell\n",
    "        self.the_probes = probes\n",
    "\n",
    "        self.the_props = arbor.cable_global_properties()\n",
    "        self.the_props.set_property(Vm=-65, tempK=300, rL=35.4, cm=0.01)\n",
    "        self.the_props.set_ion(ion='na', int_con=10,   ext_con=140, rev_pot=50, method='nernst/na')\n",
    "        self.the_props.set_ion(ion='k',  int_con=54.4, ext_con=2.5, rev_pot=-77)\n",
    "        self.the_props.set_ion(ion='ca', int_con=5e-5, ext_con=2, rev_pot=132.5)\n",
    "        self.the_props.catalogue.extend(arbor.allen_catalogue(), \"\")\n",
    "\n",
    "    # (6.2) Override the num_cells method\n",
    "    def num_cells(self):\n",
    "        return 1\n",
    "\n",
    "    # (6.3) Override the num_targets method\n",
    "    def cell_kind(self, gid):\n",
    "        return arbor.cell_kind.cable\n",
    "\n",
    "    # (6.4) Override the cell_description method\n",
    "    def cell_description(self, gid):\n",
    "        return self.the_cell\n",
    "\n",
    "    # (6.5) Override the probes method\n",
    "    def probes(self, gid):\n",
    "        return self.the_probes\n",
    "\n",
    "    # (6.6) Override the connections_on method\n",
    "    def connections_on(self, gid):\n",
    "        return []\n",
    "\n",
    "    # (6.7) Override the gap_junction_on method\n",
    "    def gap_junction_on(self, gid):\n",
    "        return []\n",
    "\n",
    "    # (6.8) Override the event_generators method\n",
    "    def event_generators(self, gid):\n",
    "        return []\n",
    "\n",
    "    # (6.9) Overrode the global_properties method\n",
    "    def global_properties(self, gid):\n",
    "        return self.the_props"
   ]
  },
  {
   "cell_type": "code",
   "execution_count": 13,
   "id": "c3fef118",
   "metadata": {},
   "outputs": [],
   "source": [
    "# (7) Instantiate recipe\n",
    "# Pass the probe in a list because that it what single_recipe expects.\n",
    "recipe = single_recipe(cell, [probe])"
   ]
  },
  {
   "cell_type": "code",
   "execution_count": 14,
   "id": "6d0d0ec9",
   "metadata": {},
   "outputs": [],
   "source": [
    "# (8) Create an execution context\n",
    "context = arbor.context()"
   ]
  },
  {
   "cell_type": "code",
   "execution_count": 16,
   "id": "33d2d791",
   "metadata": {},
   "outputs": [],
   "source": [
    "# (9) Create a domain decomposition\n",
    "domains = arbor.partition_load_balance(recipe, context)"
   ]
  },
  {
   "cell_type": "code",
   "execution_count": 17,
   "id": "218abd79",
   "metadata": {},
   "outputs": [],
   "source": [
    "# (10) Create a simulation\n",
    "sim = arbor.simulation(recipe, domains, context)"
   ]
  },
  {
   "cell_type": "code",
   "execution_count": 19,
   "id": "16f82406",
   "metadata": {},
   "outputs": [],
   "source": [
    "# (11) Instruct the simulation to record the spikes and sample the probe\n",
    "sim.record(arbor.spike_recording.all)\n",
    "\n",
    "probe_id = arbor.cell_member(0,0)\n",
    "handle = sim.sample(probe_id, arbor.regular_schedule(0.02))"
   ]
  },
  {
   "cell_type": "code",
   "execution_count": 20,
   "id": "1efe6a8f",
   "metadata": {},
   "outputs": [
    {
     "name": "stdout",
     "output_type": "stream",
     "text": [
      "0 spikes recorded:\n"
     ]
    }
   ],
   "source": [
    "# (12) Print or display the results\n",
    "spikes = sim.spikes()\n",
    "print(len(spikes), 'spikes recorded:')\n",
    "for s in spikes:\n",
    "    print(s)"
   ]
  },
  {
   "cell_type": "code",
   "execution_count": null,
   "id": "dce60b71",
   "metadata": {},
   "outputs": [],
   "source": []
  }
 ],
 "metadata": {
  "kernelspec": {
   "display_name": "Python 3 (ipykernel)",
   "language": "python",
   "name": "python3"
  },
  "language_info": {
   "codemirror_mode": {
    "name": "ipython",
    "version": 3
   },
   "file_extension": ".py",
   "mimetype": "text/x-python",
   "name": "python",
   "nbconvert_exporter": "python",
   "pygments_lexer": "ipython3",
   "version": "3.8.2"
  }
 },
 "nbformat": 4,
 "nbformat_minor": 5
}
