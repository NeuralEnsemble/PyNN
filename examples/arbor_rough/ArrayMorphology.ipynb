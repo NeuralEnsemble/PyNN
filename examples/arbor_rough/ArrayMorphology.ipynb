{
 "cells": [
  {
   "cell_type": "markdown",
   "metadata": {},
   "source": [
    "Example from https://libneuroml.readthedocs.io/en/latest/examples.html#working-with-arraymorphs"
   ]
  },
  {
   "cell_type": "code",
   "execution_count": null,
   "metadata": {},
   "outputs": [],
   "source": [
    "import neuroml\n",
    "#import neuroml.writers as writers\n",
    "import neuroml.arraymorph as am\n",
    "from neuroml import Morphology, Segment, Point3DWithDiam"
   ]
  },
  {
   "cell_type": "code",
   "execution_count": null,
   "metadata": {},
   "outputs": [],
   "source": [
    "p = Point3DWithDiam(x=0,y=0,z=0,diameter=50)\n",
    "d = Point3DWithDiam(x=50,y=0,z=0,diameter=50)\n",
    "soma = Segment(proximal=p, distal=d)\n",
    "soma.name = 'Soma'\n",
    "soma.id = 0\n",
    "\n",
    "#now make an axon with 100 compartments:\n",
    "\n",
    "parent = neuroml.SegmentParent(segments=soma.id)\n",
    "parent_segment = soma\n",
    "axon_segments = []\n",
    "seg_id = 1\n",
    "for i in range(100):\n",
    "    p = Point3DWithDiam(x=parent_segment.distal.x,\n",
    "                        y=parent_segment.distal.y,\n",
    "                        z=parent_segment.distal.z,\n",
    "                        diameter=0.1)\n",
    "\n",
    "    d = Point3DWithDiam(x=parent_segment.distal.x+10,\n",
    "                        y=parent_segment.distal.y,\n",
    "                        z=parent_segment.distal.z,\n",
    "                        diameter=0.1)\n",
    "\n",
    "    axon_segment = Segment(proximal = p,\n",
    "                           distal = d,\n",
    "                           parent = parent)\n",
    "\n",
    "    axon_segment.id = seg_id\n",
    "    \n",
    "    axon_segment.name = 'axon_segment_' + str(axon_segment.id)\n",
    "\n",
    "    #now reset everything:\n",
    "    parent = neuroml.SegmentParent(segments=axon_segment.id)\n",
    "    parent_segment = axon_segment\n",
    "    seg_id += 1 \n",
    "\n",
    "    axon_segments.append(axon_segment)\n",
    "\n",
    "test_morphology = am.ArrayMorphology()\n",
    "test_morphology.segments.append(soma)\n",
    "test_morphology.segments += axon_segments\n",
    "test_morphology.id = \"TestMorphology\"\n",
    "\n",
    "cell = neuroml.Cell()\n",
    "cell.name = 'TestCell'\n",
    "cell.id = 'TestCell'\n",
    "cell.morphology = test_morphology\n",
    "\n",
    "\n",
    "doc = neuroml.NeuroMLDocument()\n",
    "#doc.name = \"Test neuroML document\"\n",
    "\n",
    "doc.cells.append(cell)\n",
    "doc.id = \"TestNeuroMLDocument\"\n",
    "\n",
    "nml_file = 'tmp/arraymorph.nml'\n",
    "\n",
    "writers.NeuroMLWriter.write(doc,nml_file)\n",
    "\n",
    "print(\"Written morphology file to: \"+nml_file)\n",
    "\n",
    "###### Validate the NeuroML ######    \n",
    "\n",
    "from neuroml.utils import validate_neuroml2\n",
    "\n",
    "validate_neuroml2(nml_file)"
   ]
  }
 ],
 "metadata": {
  "kernelspec": {
   "display_name": "Python 3",
   "language": "python",
   "name": "python3"
  },
  "language_info": {
   "codemirror_mode": {
    "name": "ipython",
    "version": 3
   },
   "file_extension": ".py",
   "mimetype": "text/x-python",
   "name": "python",
   "nbconvert_exporter": "python",
   "pygments_lexer": "ipython3",
   "version": "3.8.2"
  }
 },
 "nbformat": 4,
 "nbformat_minor": 4
}
