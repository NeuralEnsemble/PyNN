{
 "cells": [
  {
   "cell_type": "code",
   "execution_count": 1,
   "metadata": {},
   "outputs": [],
   "source": [
    "import arbor"
   ]
  },
  {
   "cell_type": "code",
   "execution_count": 2,
   "metadata": {},
   "outputs": [],
   "source": [
    "cat = arbor.default_catalogue()"
   ]
  },
  {
   "cell_type": "code",
   "execution_count": 10,
   "metadata": {},
   "outputs": [
    {
     "name": "stdout",
     "output_type": "stream",
     "text": [
      "[dict_keys(['e', 'tau']), 0.0, 'mV', 2.0, 'ms']\n"
     ]
    }
   ],
   "source": [
    "mech_expsyn = cat['expsyn']\n",
    "print( [mech_expsyn.parameters.keys(),\n",
    "        mech_expsyn.parameters['e'].default, mech_expsyn.parameters['e'].units,\n",
    "       mech_expsyn.parameters['tau'].default, mech_expsyn.parameters['tau'].units])"
   ]
  },
  {
   "cell_type": "code",
   "execution_count": 4,
   "metadata": {},
   "outputs": [
    {
     "name": "stdout",
     "output_type": "stream",
     "text": [
      "[dict_keys(['e', 'tau2', 'tau1'])]\n"
     ]
    }
   ],
   "source": [
    "mech_exp2syn = cat['exp2syn']\n",
    "print( [mech_exp2syn.parameters.keys()] )"
   ]
  },
  {
   "cell_type": "code",
   "execution_count": 5,
   "metadata": {},
   "outputs": [
    {
     "name": "stdout",
     "output_type": "stream",
     "text": [
      "[dict_keys(['el', 'gkbar', 'gl', 'gnabar'])]\n"
     ]
    }
   ],
   "source": [
    "mech_hh = cat['hh']\n",
    "print( [mech_hh.parameters.keys()] )"
   ]
  },
  {
   "cell_type": "code",
   "execution_count": 6,
   "metadata": {},
   "outputs": [
    {
     "name": "stdout",
     "output_type": "stream",
     "text": [
      "[dict_keys(['e', 'g'])]\n"
     ]
    }
   ],
   "source": [
    "mech_pas = cat['pas']\n",
    "print( [mech_pas.parameters.keys()] )"
   ]
  },
  {
   "cell_type": "code",
   "execution_count": 7,
   "metadata": {},
   "outputs": [
    {
     "data": {
      "text/plain": [
       "<property at 0x7fdc6438cd60>"
      ]
     },
     "execution_count": 7,
     "metadata": {},
     "output_type": "execute_result"
    }
   ],
   "source": [
    "arbor.cell_member.gid"
   ]
  },
  {
   "cell_type": "code",
   "execution_count": 8,
   "metadata": {},
   "outputs": [
    {
     "name": "stdout",
     "output_type": "stream",
     "text": [
      "Help on property:\n",
      "\n",
      "    The global identifier of the cell.\n",
      "\n"
     ]
    }
   ],
   "source": [
    "help(arbor.cell_member.gid)"
   ]
  },
  {
   "cell_type": "code",
   "execution_count": null,
   "metadata": {},
   "outputs": [],
   "source": []
  }
 ],
 "metadata": {
  "kernelspec": {
   "display_name": "Python 3",
   "language": "python",
   "name": "python3"
  },
  "language_info": {
   "codemirror_mode": {
    "name": "ipython",
    "version": 3
   },
   "file_extension": ".py",
   "mimetype": "text/x-python",
   "name": "python",
   "nbconvert_exporter": "python",
   "pygments_lexer": "ipython3",
   "version": "3.8.2"
  }
 },
 "nbformat": 4,
 "nbformat_minor": 4
}
