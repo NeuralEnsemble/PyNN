{
 "cells": [
  {
   "cell_type": "code",
   "execution_count": 1,
   "id": "890da535",
   "metadata": {},
   "outputs": [],
   "source": [
    "from pyNN.morphology import NeuroMLMorphology, load_morphology, uniform, random_section, dendrites, apical_dendrites, by_distance\n",
    "import pyNN.arborproto as sim\n",
    "from pyNN.space import Grid2D, RandomStructure, Sphere"
   ]
  },
  {
   "cell_type": "code",
   "execution_count": 2,
   "id": "94cdf395",
   "metadata": {},
   "outputs": [],
   "source": [
    "neuroml_morph = load_morphology(\"single_cell_detailed.swc\", replace_axon=None)"
   ]
  },
  {
   "cell_type": "code",
   "execution_count": 3,
   "id": "1635a9af",
   "metadata": {},
   "outputs": [],
   "source": [
    "cc = sim.MultiCompartmentNeuron.setup(\n",
    "\t\t\t\tlabel=\"MyCell\",\n",
    "\t\t\t\tion_channels={'pas': sim.PassiveLeak,\n",
    "\t\t\t\t\t\t\t  'na': sim.NaChannel,\n",
    "\t\t\t\t\t\t\t  'kdr': sim.KdrChannel},\n",
    "\t\t\t\tionic_species={'na_ion': sim.NaIon,\n",
    "\t\t\t\t\t\t\t   'k_ion': sim.KIon},\n",
    "                post_synaptic_entities={'AMPA': sim.CondExpPostSynapticResponse,\n",
    "                                        'GABA_A': sim.CondExpPostSynapticResponse})"
   ]
  },
  {
   "cell_type": "code",
   "execution_count": 4,
   "id": "fec1e46f",
   "metadata": {},
   "outputs": [],
   "source": [
    "mycell = cc(morphology=neuroml_morph,\n",
    "\t\t\tcm=1.0,\n",
    "\t\t\tRa=500.0,\n",
    "\t\t\tna_ion = {\"internal_concentration\": 10, \"external_concentration\": 140, \"reversal_potential\": 50},\n",
    "\t\t\tk_ion = {\"internal_concentration\": 54.4, \"external_concentration\": 2.5, \"reversal_potential\": -77},\n",
    "\t\t\tpas={\"conductance_density\": uniform('all', 0.0003), \"e_rev\":-54.3},\n",
    "\t\t\tna={\"conductance_density\": uniform('soma', 0.120), \"e_rev\": 50.0},\n",
    "\t\t\tkdr={\"conductance_density\": uniform('dend', 0.001), \"e_rev\": -77.0},\n",
    "            AMPA={\"density\": uniform('all', 0.05), \"e_rev\": 0.0, \"tau_syn\": 2.0},\n",
    "            GABA_A={\"density\": uniform('all', 0.05),  \"e_rev\": -70.0, \"tau_syn\": 5.0})"
   ]
  },
  {
   "cell_type": "code",
   "execution_count": 5,
   "id": "33868985",
   "metadata": {},
   "outputs": [],
   "source": [
    "cells = sim.Population(2, mycell, initial_values={'v': -60.0}, structure=Grid2D())"
   ]
  },
  {
   "cell_type": "code",
   "execution_count": 6,
   "id": "45a5d2d5",
   "metadata": {},
   "outputs": [],
   "source": [
    "inputs = sim.Population(10, sim.SpikeSourcePoisson(rate=1000.0))"
   ]
  },
  {
   "cell_type": "code",
   "execution_count": 7,
   "id": "83a48b7c",
   "metadata": {},
   "outputs": [],
   "source": [
    "i2p = sim.Projection(inputs, cells,\n",
    "                     connector=sim.AllToAllConnector(location_selector=random_section(apical_dendrites())),\n",
    "                     synapse_type=sim.StaticSynapse(weight=0.5, delay=0.5),\n",
    "                     receptor_type=\"AMPA\"\n",
    "                     )"
   ]
  },
  {
   "cell_type": "code",
   "execution_count": 8,
   "id": "3e5aadd0",
   "metadata": {},
   "outputs": [],
   "source": [
    "sim.state.run(200.0, cells, i2p)"
   ]
  },
  {
   "cell_type": "code",
   "execution_count": 9,
   "id": "559fa669",
   "metadata": {},
   "outputs": [
    {
     "ename": "TypeError",
     "evalue": "object of type 'method' has no len()",
     "output_type": "error",
     "traceback": [
      "\u001b[0;31m---------------------------------------------------------------------------\u001b[0m",
      "\u001b[0;31mTypeError\u001b[0m                                 Traceback (most recent call last)",
      "\u001b[0;32m<ipython-input-9-1ea09c098de4>\u001b[0m in \u001b[0;36m<module>\u001b[0;34m\u001b[0m\n\u001b[0;32m----> 1\u001b[0;31m \u001b[0;32mif\u001b[0m \u001b[0mlen\u001b[0m\u001b[0;34m(\u001b[0m\u001b[0msim\u001b[0m\u001b[0;34m.\u001b[0m\u001b[0mstate\u001b[0m\u001b[0;34m.\u001b[0m\u001b[0mmodel\u001b[0m\u001b[0;34m.\u001b[0m\u001b[0mspikes\u001b[0m\u001b[0;34m)\u001b[0m \u001b[0;34m>\u001b[0m \u001b[0;36m0\u001b[0m\u001b[0;34m:\u001b[0m\u001b[0;34m\u001b[0m\u001b[0;34m\u001b[0m\u001b[0m\n\u001b[0m\u001b[1;32m      2\u001b[0m     \u001b[0mprint\u001b[0m\u001b[0;34m(\u001b[0m\u001b[0;34m\"{} spikes:\"\u001b[0m\u001b[0;34m.\u001b[0m\u001b[0mformat\u001b[0m\u001b[0;34m(\u001b[0m\u001b[0mlen\u001b[0m\u001b[0;34m(\u001b[0m\u001b[0msim\u001b[0m\u001b[0;34m.\u001b[0m\u001b[0mstate\u001b[0m\u001b[0;34m.\u001b[0m\u001b[0mmodel\u001b[0m\u001b[0;34m.\u001b[0m\u001b[0mspikes\u001b[0m\u001b[0;34m)\u001b[0m\u001b[0;34m)\u001b[0m\u001b[0;34m)\u001b[0m\u001b[0;34m\u001b[0m\u001b[0;34m\u001b[0m\u001b[0m\n\u001b[1;32m      3\u001b[0m     \u001b[0;32mfor\u001b[0m \u001b[0ms\u001b[0m \u001b[0;32min\u001b[0m \u001b[0msim\u001b[0m\u001b[0;34m.\u001b[0m\u001b[0mstate\u001b[0m\u001b[0;34m.\u001b[0m\u001b[0mmodel\u001b[0m\u001b[0;34m.\u001b[0m\u001b[0mspikes\u001b[0m\u001b[0;34m:\u001b[0m\u001b[0;34m\u001b[0m\u001b[0;34m\u001b[0m\u001b[0m\n\u001b[1;32m      4\u001b[0m         \u001b[0mprint\u001b[0m\u001b[0;34m(\u001b[0m\u001b[0;34m\"{:3.3f}\"\u001b[0m\u001b[0;34m.\u001b[0m\u001b[0mformat\u001b[0m\u001b[0;34m(\u001b[0m\u001b[0ms\u001b[0m\u001b[0;34m)\u001b[0m\u001b[0;34m)\u001b[0m\u001b[0;34m\u001b[0m\u001b[0;34m\u001b[0m\u001b[0m\n\u001b[1;32m      5\u001b[0m \u001b[0;32melse\u001b[0m\u001b[0;34m:\u001b[0m\u001b[0;34m\u001b[0m\u001b[0;34m\u001b[0m\u001b[0m\n",
      "\u001b[0;31mTypeError\u001b[0m: object of type 'method' has no len()"
     ]
    }
   ],
   "source": [
    "if len(sim.state.model.spikes) > 0:\n",
    "    print(\"{} spikes:\".format(len(sim.state.model.spikes)))\n",
    "    for s in sim.state.model.spikes:\n",
    "        print(\"{:3.3f}\".format(s))\n",
    "else:\n",
    "    print(\"no spikes\")"
   ]
  },
  {
   "cell_type": "code",
   "execution_count": 10,
   "id": "cfe8fcfa",
   "metadata": {},
   "outputs": [
    {
     "name": "stdout",
     "output_type": "stream",
     "text": [
      "27 spikes recorded:\n",
      "((0, 0), 2.29407754)\n",
      "((1, 0), 9.41854906)\n",
      "((0, 0), 17.20767579)\n",
      "((1, 0), 24.78961882)\n",
      "((0, 0), 32.36784356)\n",
      "((1, 0), 39.98148348)\n",
      "((0, 0), 47.58363805)\n",
      "((1, 0), 55.18812047)\n",
      "((0, 0), 62.79308185)\n",
      "((1, 0), 70.39793305)\n",
      "((0, 0), 78.00282449)\n",
      "((1, 0), 85.60759839)\n",
      "((0, 0), 93.21228955)\n",
      "((1, 0), 100.81702798)\n",
      "((0, 0), 108.42184791)\n",
      "((1, 0), 116.02673173)\n",
      "((0, 0), 123.63154302)\n",
      "((1, 0), 131.23627709)\n",
      "((0, 0), 138.84104728)\n",
      "((1, 0), 146.44587845)\n",
      "((0, 0), 154.05078481)\n",
      "((1, 0), 161.6556296)\n",
      "((0, 0), 169.26040641)\n",
      "((1, 0), 176.86522563)\n",
      "((0, 0), 184.47009708)\n",
      "((1, 0), 192.07504512)\n",
      "((0, 0), 199.67989981)\n"
     ]
    }
   ],
   "source": [
    "spikes = sim.state.model.spikes()\n",
    "print(len(spikes), \"spikes recorded:\")\n",
    "for s in spikes:\n",
    "    print(s)"
   ]
  },
  {
   "cell_type": "code",
   "execution_count": 11,
   "id": "01794915",
   "metadata": {},
   "outputs": [],
   "source": [
    "from matplotlib import pyplot"
   ]
  },
  {
   "cell_type": "code",
   "execution_count": 8,
   "id": "3ee567a9",
   "metadata": {},
   "outputs": [
    {
     "data": {
      "text/plain": [
       "<arbor.poisson_schedule: tstart 0 ms, tstop None ms, freq 1 kHz, seed 0>"
      ]
     },
     "execution_count": 8,
     "metadata": {},
     "output_type": "execute_result"
    }
   ],
   "source": [
    "pyplot.plot(sim.state.model.traces[0].time, sim.state.model.traces[0].value)"
   ]
  },
  {
   "cell_type": "code",
   "execution_count": 12,
   "id": "ead5d259",
   "metadata": {},
   "outputs": [
    {
     "data": {
      "text/plain": [
       "<pyNN.arborproto.standardmodels.cells.MyCell at 0x7f2957bab790>"
      ]
     },
     "execution_count": 12,
     "metadata": {},
     "output_type": "execute_result"
    }
   ],
   "source": [
    "cells.all_cells[0]._cell"
   ]
  },
  {
   "cell_type": "code",
   "execution_count": 10,
   "id": "715b3290",
   "metadata": {},
   "outputs": [
    {
     "ename": "NotImplementedError",
     "evalue": "mock backend does not support multicompartmental models.",
     "output_type": "error",
     "traceback": [
      "\u001b[0;31m---------------------------------------------------------------------------\u001b[0m",
      "\u001b[0;31mNotImplementedError\u001b[0m                       Traceback (most recent call last)",
      "\u001b[0;32m<ipython-input-10-6546b71bc2e3>\u001b[0m in \u001b[0;36m<module>\u001b[0;34m\u001b[0m\n\u001b[0;32m----> 1\u001b[0;31m i2p = sim.Projection(inputs, cells,\n\u001b[0m\u001b[1;32m      2\u001b[0m                      \u001b[0mconnector\u001b[0m\u001b[0;34m=\u001b[0m\u001b[0msim\u001b[0m\u001b[0;34m.\u001b[0m\u001b[0mAllToAllConnector\u001b[0m\u001b[0;34m(\u001b[0m\u001b[0mlocation_selector\u001b[0m\u001b[0;34m=\u001b[0m\u001b[0mrandom_section\u001b[0m\u001b[0;34m(\u001b[0m\u001b[0mapical_dendrites\u001b[0m\u001b[0;34m(\u001b[0m\u001b[0;34m)\u001b[0m\u001b[0;34m)\u001b[0m\u001b[0;34m)\u001b[0m\u001b[0;34m,\u001b[0m\u001b[0;34m\u001b[0m\u001b[0;34m\u001b[0m\u001b[0m\n\u001b[1;32m      3\u001b[0m                      \u001b[0msynapse_type\u001b[0m\u001b[0;34m=\u001b[0m\u001b[0msim\u001b[0m\u001b[0;34m.\u001b[0m\u001b[0mStaticSynapse\u001b[0m\u001b[0;34m(\u001b[0m\u001b[0mweight\u001b[0m\u001b[0;34m=\u001b[0m\u001b[0;36m0.5\u001b[0m\u001b[0;34m,\u001b[0m \u001b[0mdelay\u001b[0m\u001b[0;34m=\u001b[0m\u001b[0;36m0.5\u001b[0m\u001b[0;34m)\u001b[0m\u001b[0;34m,\u001b[0m\u001b[0;34m\u001b[0m\u001b[0;34m\u001b[0m\u001b[0m\n\u001b[1;32m      4\u001b[0m                      \u001b[0mreceptor_type\u001b[0m\u001b[0;34m=\u001b[0m\u001b[0;34m\"AMPA\"\u001b[0m\u001b[0;34m\u001b[0m\u001b[0;34m\u001b[0m\u001b[0m\n\u001b[1;32m      5\u001b[0m                      )\n",
      "\u001b[0;32m/envs/py3-pyNNarbor_latest/lib/python3.8/site-packages/pyNN/arborproto/projections.py\u001b[0m in \u001b[0;36m__init__\u001b[0;34m(self, presynaptic_population, postsynaptic_population, connector, synapse_type, source, receptor_type, space, label)\u001b[0m\n\u001b[1;32m     46\u001b[0m         \u001b[0;31m#  Create connections\u001b[0m\u001b[0;34m\u001b[0m\u001b[0;34m\u001b[0m\u001b[0;34m\u001b[0m\u001b[0m\n\u001b[1;32m     47\u001b[0m         \u001b[0mself\u001b[0m\u001b[0;34m.\u001b[0m\u001b[0mconnections\u001b[0m \u001b[0;34m=\u001b[0m \u001b[0;34m[\u001b[0m\u001b[0;34m]\u001b[0m\u001b[0;34m\u001b[0m\u001b[0;34m\u001b[0m\u001b[0m\n\u001b[0;32m---> 48\u001b[0;31m         \u001b[0mconnector\u001b[0m\u001b[0;34m.\u001b[0m\u001b[0mconnect\u001b[0m\u001b[0;34m(\u001b[0m\u001b[0mself\u001b[0m\u001b[0;34m)\u001b[0m\u001b[0;34m\u001b[0m\u001b[0;34m\u001b[0m\u001b[0m\n\u001b[0m\u001b[1;32m     49\u001b[0m \u001b[0;34m\u001b[0m\u001b[0m\n\u001b[1;32m     50\u001b[0m     \u001b[0;32mdef\u001b[0m \u001b[0m__len__\u001b[0m\u001b[0;34m(\u001b[0m\u001b[0mself\u001b[0m\u001b[0;34m)\u001b[0m\u001b[0;34m:\u001b[0m\u001b[0;34m\u001b[0m\u001b[0;34m\u001b[0m\u001b[0m\n",
      "\u001b[0;32m/envs/py3-pyNNarbor_latest/lib/python3.8/site-packages/pyNN/connectors.py\u001b[0m in \u001b[0;36mconnect\u001b[0;34m(self, projection)\u001b[0m\n\u001b[1;32m    312\u001b[0m         \u001b[0;32melse\u001b[0m\u001b[0;34m:\u001b[0m\u001b[0;34m\u001b[0m\u001b[0;34m\u001b[0m\u001b[0m\n\u001b[1;32m    313\u001b[0m             \u001b[0mconnection_map\u001b[0m \u001b[0;34m=\u001b[0m \u001b[0mLazyArray\u001b[0m\u001b[0;34m(\u001b[0m\u001b[0;32mTrue\u001b[0m\u001b[0;34m,\u001b[0m \u001b[0mshape\u001b[0m\u001b[0;34m=\u001b[0m\u001b[0mprojection\u001b[0m\u001b[0;34m.\u001b[0m\u001b[0mshape\u001b[0m\u001b[0;34m)\u001b[0m\u001b[0;34m\u001b[0m\u001b[0;34m\u001b[0m\u001b[0m\n\u001b[0;32m--> 314\u001b[0;31m         \u001b[0mself\u001b[0m\u001b[0;34m.\u001b[0m\u001b[0m_connect_with_map\u001b[0m\u001b[0;34m(\u001b[0m\u001b[0mprojection\u001b[0m\u001b[0;34m,\u001b[0m \u001b[0mconnection_map\u001b[0m\u001b[0;34m)\u001b[0m\u001b[0;34m\u001b[0m\u001b[0;34m\u001b[0m\u001b[0m\n\u001b[0m\u001b[1;32m    315\u001b[0m \u001b[0;34m\u001b[0m\u001b[0m\n\u001b[1;32m    316\u001b[0m \u001b[0;34m\u001b[0m\u001b[0m\n",
      "\u001b[0;32m/envs/py3-pyNNarbor_latest/lib/python3.8/site-packages/pyNN/connectors.py\u001b[0m in \u001b[0;36m_connect_with_map\u001b[0;34m(self, projection, connection_map, distance_map)\u001b[0m\n\u001b[1;32m    253\u001b[0m         \"\"\"\n\u001b[1;32m    254\u001b[0m         \u001b[0mlogger\u001b[0m\u001b[0;34m.\u001b[0m\u001b[0mdebug\u001b[0m\u001b[0;34m(\u001b[0m\u001b[0;34m\"Connecting %s using a connection map\"\u001b[0m \u001b[0;34m%\u001b[0m \u001b[0mprojection\u001b[0m\u001b[0;34m.\u001b[0m\u001b[0mlabel\u001b[0m\u001b[0;34m)\u001b[0m\u001b[0;34m\u001b[0m\u001b[0;34m\u001b[0m\u001b[0m\n\u001b[0;32m--> 255\u001b[0;31m         \u001b[0mself\u001b[0m\u001b[0;34m.\u001b[0m\u001b[0m_standard_connect\u001b[0m\u001b[0;34m(\u001b[0m\u001b[0mprojection\u001b[0m\u001b[0;34m,\u001b[0m \u001b[0mconnection_map\u001b[0m\u001b[0;34m.\u001b[0m\u001b[0mby_column\u001b[0m\u001b[0;34m,\u001b[0m \u001b[0mdistance_map\u001b[0m\u001b[0;34m)\u001b[0m\u001b[0;34m\u001b[0m\u001b[0;34m\u001b[0m\u001b[0m\n\u001b[0m\u001b[1;32m    256\u001b[0m \u001b[0;34m\u001b[0m\u001b[0m\n\u001b[1;32m    257\u001b[0m     \u001b[0;32mdef\u001b[0m \u001b[0m_get_connection_map_no_self_connections\u001b[0m\u001b[0;34m(\u001b[0m\u001b[0mself\u001b[0m\u001b[0;34m,\u001b[0m \u001b[0mprojection\u001b[0m\u001b[0;34m)\u001b[0m\u001b[0;34m:\u001b[0m\u001b[0;34m\u001b[0m\u001b[0;34m\u001b[0m\u001b[0m\n",
      "\u001b[0;32m/envs/py3-pyNNarbor_latest/lib/python3.8/site-packages/pyNN/connectors.py\u001b[0m in \u001b[0;36m_standard_connect\u001b[0;34m(self, projection, connection_map_generator, distance_map)\u001b[0m\n\u001b[1;32m    232\u001b[0m                     \u001b[0;31m# Connect the neurons\u001b[0m\u001b[0;34m\u001b[0m\u001b[0;34m\u001b[0m\u001b[0;34m\u001b[0m\u001b[0m\n\u001b[1;32m    233\u001b[0m                     \u001b[0;31m#logger.debug(\"Connecting to %d from %s\" % (postsynaptic_index, source_mask))\u001b[0m\u001b[0;34m\u001b[0m\u001b[0;34m\u001b[0m\u001b[0;34m\u001b[0m\u001b[0m\n\u001b[0;32m--> 234\u001b[0;31m                     projection._convergent_connect(\n\u001b[0m\u001b[1;32m    235\u001b[0m                         \u001b[0msource_mask\u001b[0m\u001b[0;34m,\u001b[0m \u001b[0mpostsynaptic_index\u001b[0m\u001b[0;34m,\u001b[0m\u001b[0;34m\u001b[0m\u001b[0;34m\u001b[0m\u001b[0m\n\u001b[1;32m    236\u001b[0m                         \u001b[0mlocation_selector\u001b[0m\u001b[0;34m=\u001b[0m\u001b[0mself\u001b[0m\u001b[0;34m.\u001b[0m\u001b[0mlocation_selector\u001b[0m\u001b[0;34m,\u001b[0m\u001b[0;34m\u001b[0m\u001b[0;34m\u001b[0m\u001b[0m\n",
      "\u001b[0;32m/envs/py3-pyNNarbor_latest/lib/python3.8/site-packages/pyNN/arborproto/projections.py\u001b[0m in \u001b[0;36m_convergent_connect\u001b[0;34m(self, presynaptic_indices, postsynaptic_index, location_selector, **connection_parameters)\u001b[0m\n\u001b[1;32m     58\u001b[0m                             **connection_parameters):\n\u001b[1;32m     59\u001b[0m         \u001b[0;32mif\u001b[0m \u001b[0mlocation_selector\u001b[0m \u001b[0;32mis\u001b[0m \u001b[0;32mnot\u001b[0m \u001b[0;32mNone\u001b[0m\u001b[0;34m:\u001b[0m\u001b[0;34m\u001b[0m\u001b[0;34m\u001b[0m\u001b[0m\n\u001b[0;32m---> 60\u001b[0;31m             \u001b[0;32mraise\u001b[0m \u001b[0mNotImplementedError\u001b[0m\u001b[0;34m(\u001b[0m\u001b[0;34m\"mock backend does not support multicompartmental models.\"\u001b[0m\u001b[0;34m)\u001b[0m\u001b[0;34m\u001b[0m\u001b[0;34m\u001b[0m\u001b[0m\n\u001b[0m\u001b[1;32m     61\u001b[0m         \u001b[0;32mfor\u001b[0m \u001b[0mname\u001b[0m\u001b[0;34m,\u001b[0m \u001b[0mvalue\u001b[0m \u001b[0;32min\u001b[0m \u001b[0mconnection_parameters\u001b[0m\u001b[0;34m.\u001b[0m\u001b[0mitems\u001b[0m\u001b[0;34m(\u001b[0m\u001b[0;34m)\u001b[0m\u001b[0;34m:\u001b[0m\u001b[0;34m\u001b[0m\u001b[0;34m\u001b[0m\u001b[0m\n\u001b[1;32m     62\u001b[0m             \u001b[0;32mif\u001b[0m \u001b[0misinstance\u001b[0m\u001b[0;34m(\u001b[0m\u001b[0mvalue\u001b[0m\u001b[0;34m,\u001b[0m \u001b[0mfloat\u001b[0m\u001b[0;34m)\u001b[0m\u001b[0;34m:\u001b[0m\u001b[0;34m\u001b[0m\u001b[0;34m\u001b[0m\u001b[0m\n",
      "\u001b[0;31mNotImplementedError\u001b[0m: mock backend does not support multicompartmental models."
     ]
    }
   ],
   "source": [
    "i2p = sim.Projection(inputs, cells,\n",
    "                     connector=sim.AllToAllConnector(location_selector=random_section(apical_dendrites())),\n",
    "                     synapse_type=sim.StaticSynapse(weight=0.5, delay=0.5),\n",
    "                     receptor_type=\"AMPA\"\n",
    "                     )\n",
    "\n",
    "print(\"Running simulation\")\n",
    "\n",
    "sim.run(10)\n",
    "\n",
    "# (pyramidal_cells + interneurons).write_data(\"output.h5\")\n",
    "data = pyramidal_cells.get_data().segments[0]\n",
    "\n",
    "sim.end()"
   ]
  },
  {
   "cell_type": "code",
   "execution_count": 7,
   "id": "7870b950",
   "metadata": {},
   "outputs": [],
   "source": [
    "x = sim.SpikeSourcePoisson(rate=1000.0)"
   ]
  },
  {
   "cell_type": "code",
   "execution_count": 9,
   "id": "e7a9a1fa",
   "metadata": {},
   "outputs": [
    {
     "data": {
      "text/plain": [
       "<ParameterSpace rate, start, duration, shape=None>"
      ]
     },
     "execution_count": 9,
     "metadata": {},
     "output_type": "execute_result"
    }
   ],
   "source": [
    "x.parameter_space"
   ]
  },
  {
   "cell_type": "code",
   "execution_count": 11,
   "id": "8bfbe92a",
   "metadata": {},
   "outputs": [
    {
     "data": {
      "text/plain": [
       "array([44, 45, 46, 47, 48, 49, 50, 51, 52, 53], dtype=object)"
      ]
     },
     "execution_count": 11,
     "metadata": {},
     "output_type": "execute_result"
    }
   ],
   "source": [
    "inputs.all_cells"
   ]
  },
  {
   "cell_type": "code",
   "execution_count": 14,
   "id": "564ac12e",
   "metadata": {},
   "outputs": [
    {
     "data": {
      "text/plain": [
       "1000.0"
      ]
     },
     "execution_count": 14,
     "metadata": {},
     "output_type": "execute_result"
    }
   ],
   "source": [
    "inputs.parameters[\"rate\"]"
   ]
  },
  {
   "cell_type": "code",
   "execution_count": 21,
   "id": "eb2307ee",
   "metadata": {},
   "outputs": [
    {
     "data": {
      "text/plain": [
       "44"
      ]
     },
     "execution_count": 21,
     "metadata": {},
     "output_type": "execute_result"
    }
   ],
   "source": [
    "inputs.all_cells[0]"
   ]
  },
  {
   "cell_type": "code",
   "execution_count": 24,
   "id": "16ddf074",
   "metadata": {},
   "outputs": [
    {
     "data": {
      "text/plain": [
       "pyNN.arborproto.cells.RandomSpikeSource"
      ]
     },
     "execution_count": 24,
     "metadata": {},
     "output_type": "execute_result"
    }
   ],
   "source": [
    "x.model"
   ]
  },
  {
   "cell_type": "code",
   "execution_count": 27,
   "id": "bf80f38d",
   "metadata": {},
   "outputs": [
    {
     "data": {
      "text/plain": [
       "SpikeSourcePoisson(<parameters>)"
      ]
     },
     "execution_count": 27,
     "metadata": {},
     "output_type": "execute_result"
    }
   ],
   "source": [
    "inputs.celltype"
   ]
  },
  {
   "cell_type": "code",
   "execution_count": 10,
   "id": "9745b4e0",
   "metadata": {},
   "outputs": [
    {
     "data": {
      "text/plain": [
       "pyNN.arborproto.cells.RandomSpikeSource"
      ]
     },
     "execution_count": 10,
     "metadata": {},
     "output_type": "execute_result"
    }
   ],
   "source": [
    "inputs.celltype.model"
   ]
  },
  {
   "cell_type": "code",
   "execution_count": 11,
   "id": "c1e6982a",
   "metadata": {},
   "outputs": [
    {
     "name": "stdout",
     "output_type": "stream",
     "text": [
      "<ParameterSpace rate, start, duration, shape=(10,)>\n"
     ]
    },
    {
     "data": {
      "text/plain": [
       "<pyNN.arborproto.cells.RandomSpikeSource at 0x7f4757965760>"
      ]
     },
     "execution_count": 11,
     "metadata": {},
     "output_type": "execute_result"
    }
   ],
   "source": [
    "inputs.celltype.model(inputs.parameters)"
   ]
  },
  {
   "cell_type": "code",
   "execution_count": 8,
   "id": "e351e543",
   "metadata": {},
   "outputs": [],
   "source": [
    "import arbor"
   ]
  },
  {
   "cell_type": "code",
   "execution_count": 9,
   "id": "a2bf0322",
   "metadata": {},
   "outputs": [
    {
     "data": {
      "text/plain": [
       "<arbor.poisson_schedule: tstart 0 ms, tstop None ms, freq 0.005 kHz, seed 0>"
      ]
     },
     "execution_count": 9,
     "metadata": {},
     "output_type": "execute_result"
    }
   ],
   "source": [
    "arbor.poisson_schedule(0., 0.005, 0)"
   ]
  },
  {
   "cell_type": "code",
   "execution_count": 9,
   "id": "5cd82171",
   "metadata": {},
   "outputs": [
    {
     "data": {
      "text/plain": [
       "(0.0, 1.0, 0)"
      ]
     },
     "execution_count": 9,
     "metadata": {},
     "output_type": "execute_result"
    }
   ],
   "source": [
    "p1 = inputs.celltype.model(inputs.parameters)\n",
    "p1.tstart, p1.freq, p1.seed"
   ]
  },
  {
   "cell_type": "code",
   "execution_count": 8,
   "id": "1ae5fc76",
   "metadata": {},
   "outputs": [
    {
     "data": {
      "text/plain": [
       "(0.0, 1.0, 0)"
      ]
     },
     "execution_count": 8,
     "metadata": {},
     "output_type": "execute_result"
    }
   ],
   "source": [
    "p1.tstart, p1.freq, p1.seed"
   ]
  },
  {
   "cell_type": "code",
   "execution_count": 14,
   "id": "25559d4e",
   "metadata": {},
   "outputs": [
    {
     "data": {
      "text/plain": [
       "<arbor.poisson_schedule: tstart 0 ms, tstop None ms, freq 1e+09 kHz, seed 0>"
      ]
     },
     "execution_count": 14,
     "metadata": {},
     "output_type": "execute_result"
    }
   ],
   "source": [
    "p1.sched"
   ]
  },
  {
   "cell_type": "code",
   "execution_count": 11,
   "id": "d147c7c1",
   "metadata": {},
   "outputs": [
    {
     "data": {
      "text/plain": [
       "0.0"
      ]
     },
     "execution_count": 11,
     "metadata": {},
     "output_type": "execute_result"
    }
   ],
   "source": [
    "p1.tstart[\"start\"]"
   ]
  },
  {
   "cell_type": "code",
   "execution_count": 15,
   "id": "b788e655",
   "metadata": {},
   "outputs": [
    {
     "data": {
      "text/plain": [
       "1000000000.0"
      ]
     },
     "execution_count": 15,
     "metadata": {},
     "output_type": "execute_result"
    }
   ],
   "source": [
    "1e12 / 1000"
   ]
  },
  {
   "cell_type": "code",
   "execution_count": 16,
   "id": "004d78bf",
   "metadata": {},
   "outputs": [
    {
     "data": {
      "text/plain": [
       "1000000000000.0"
      ]
     },
     "execution_count": 16,
     "metadata": {},
     "output_type": "execute_result"
    }
   ],
   "source": [
    "1e12"
   ]
  },
  {
   "cell_type": "code",
   "execution_count": 17,
   "id": "f526076b",
   "metadata": {},
   "outputs": [
    {
     "data": {
      "text/plain": [
       "1000.0"
      ]
     },
     "execution_count": 17,
     "metadata": {},
     "output_type": "execute_result"
    }
   ],
   "source": [
    "p1.tstart[\"rate\"]"
   ]
  },
  {
   "cell_type": "code",
   "execution_count": null,
   "id": "dfac02ef",
   "metadata": {},
   "outputs": [],
   "source": []
  }
 ],
 "metadata": {
  "kernelspec": {
   "display_name": "Python 3",
   "language": "python",
   "name": "python3"
  },
  "language_info": {
   "codemirror_mode": {
    "name": "ipython",
    "version": 3
   },
   "file_extension": ".py",
   "mimetype": "text/x-python",
   "name": "python",
   "nbconvert_exporter": "python",
   "pygments_lexer": "ipython3",
   "version": "3.8.2"
  }
 },
 "nbformat": 4,
 "nbformat_minor": 5
}
