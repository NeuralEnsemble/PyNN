{
 "cells": [
  {
   "cell_type": "code",
   "execution_count": 1,
   "id": "f28e3d8b",
   "metadata": {},
   "outputs": [],
   "source": [
    "import arbor\n",
    "import re"
   ]
  },
  {
   "cell_type": "code",
   "execution_count": 2,
   "id": "f4ec1949",
   "metadata": {},
   "outputs": [],
   "source": [
    "import pyNN.arbor as sim"
   ]
  },
  {
   "cell_type": "code",
   "execution_count": 3,
   "id": "5bebb618",
   "metadata": {},
   "outputs": [],
   "source": [
    "na_ion={\"reversal_potential\": 50.0}\n",
    "k_ion={\"reversal_potential\": -77.0}"
   ]
  },
  {
   "cell_type": "code",
   "execution_count": 4,
   "id": "4a38e5a8",
   "metadata": {},
   "outputs": [],
   "source": [
    "decor = arbor.decor()"
   ]
  },
  {
   "cell_type": "code",
   "execution_count": 5,
   "id": "56af5e9d",
   "metadata": {},
   "outputs": [],
   "source": [
    "ionic_species={'na_ion': sim.NaIon, 'k_ion': sim.KIon}\n",
    "other_parameters = {\"na_ion\": {\"reversal_potential\": 50.0}, \"k_ion\": {\"reversal_potential\": -77.0}}"
   ]
  },
  {
   "cell_type": "code",
   "execution_count": 18,
   "id": "c9761a54",
   "metadata": {},
   "outputs": [
    {
     "ename": "TypeError",
     "evalue": "translate() got an unexpected keyword argument 'param'",
     "output_type": "error",
     "traceback": [
      "\u001b[0;31m---------------------------------------------------------------------------\u001b[0m",
      "\u001b[0;31mTypeError\u001b[0m                                 Traceback (most recent call last)",
      "Input \u001b[0;32mIn [18]\u001b[0m, in \u001b[0;36m<module>\u001b[0;34m\u001b[0m\n\u001b[0;32m----> 1\u001b[0m \u001b[43mionic_species\u001b[49m\u001b[43m[\u001b[49m\u001b[38;5;124;43m\"\u001b[39;49m\u001b[38;5;124;43mna_ion\u001b[39;49m\u001b[38;5;124;43m\"\u001b[39;49m\u001b[43m]\u001b[49m\u001b[38;5;241;43m.\u001b[39;49m\u001b[43mtranslate\u001b[49m\u001b[43m(\u001b[49m\u001b[43mparam\u001b[49m\u001b[43m \u001b[49m\u001b[38;5;241;43m=\u001b[39;49m\u001b[43m \u001b[49m\u001b[43m{\u001b[49m\u001b[38;5;124;43m\"\u001b[39;49m\u001b[38;5;124;43mna_ion\u001b[39;49m\u001b[38;5;124;43m\"\u001b[39;49m\u001b[43m:\u001b[49m\u001b[43m \u001b[49m\u001b[43m{\u001b[49m\u001b[38;5;124;43m\"\u001b[39;49m\u001b[38;5;124;43mreversal_potential\u001b[39;49m\u001b[38;5;124;43m\"\u001b[39;49m\u001b[43m:\u001b[49m\u001b[43m \u001b[49m\u001b[38;5;241;43m50.0\u001b[39;49m\u001b[43m}\u001b[49m\u001b[43m}\u001b[49m\u001b[43m)\u001b[49m\n",
      "\u001b[0;31mTypeError\u001b[0m: translate() got an unexpected keyword argument 'param'"
     ]
    }
   ],
   "source": [
    "ionic_species[\"na_ion\"].translate(param = {\"na_ion\": {\"reversal_potential\": 50.0}})"
   ]
  },
  {
   "cell_type": "code",
   "execution_count": 23,
   "id": "ccd2d789",
   "metadata": {},
   "outputs": [
    {
     "data": {
      "text/plain": [
       "{'reversal_potential': {'translated_name': 'rev_pot',\n",
       "  'forward_transform': 'reversal_potential',\n",
       "  'reverse_transform': 'rev_pot'},\n",
       " 'internal_concentration': {'translated_name': 'int_con',\n",
       "  'forward_transform': 'internal_concentration',\n",
       "  'reverse_transform': 'int_con'},\n",
       " 'external_concentration': {'translated_name': 'ext_con',\n",
       "  'forward_transform': 'external_concentration',\n",
       "  'reverse_transform': 'ext_con'}}"
      ]
     },
     "execution_count": 23,
     "metadata": {},
     "output_type": "execute_result"
    }
   ],
   "source": [
    "ionic_species[\"na_ion\"].translations"
   ]
  },
  {
   "cell_type": "code",
   "execution_count": 24,
   "id": "c763e0e5",
   "metadata": {},
   "outputs": [
    {
     "data": {
      "text/plain": [
       "{'translated_name': 'rev_pot',\n",
       " 'forward_transform': 'reversal_potential',\n",
       " 'reverse_transform': 'rev_pot'}"
      ]
     },
     "execution_count": 24,
     "metadata": {},
     "output_type": "execute_result"
    }
   ],
   "source": [
    "ionic_species[\"na_ion\"].translations[\"reversal_potential\"]"
   ]
  },
  {
   "cell_type": "code",
   "execution_count": 25,
   "id": "5eeab620",
   "metadata": {},
   "outputs": [
    {
     "data": {
      "text/plain": [
       "'rev_pot'"
      ]
     },
     "execution_count": 25,
     "metadata": {},
     "output_type": "execute_result"
    }
   ],
   "source": [
    "ionic_species[\"na_ion\"].translations[\"reversal_potential\"][\"translated_name\"]"
   ]
  },
  {
   "cell_type": "code",
   "execution_count": 29,
   "id": "865d5d3d",
   "metadata": {},
   "outputs": [
    {
     "data": {
      "text/plain": [
       "'na'"
      ]
     },
     "execution_count": 29,
     "metadata": {},
     "output_type": "execute_result"
    }
   ],
   "source": [
    "ionic_species[\"na_ion\"].model"
   ]
  },
  {
   "cell_type": "code",
   "execution_count": 8,
   "id": "024eaccd",
   "metadata": {},
   "outputs": [],
   "source": [
    "other_parameters = {\"ionic_species\": {\"na\": {\"reversal_potential\": 50.0}, \"k\": {\"reversal_potential\": -77.0}}}"
   ]
  },
  {
   "cell_type": "code",
   "execution_count": 12,
   "id": "2ce36007",
   "metadata": {},
   "outputs": [],
   "source": [
    "def _decorate_ionic_species(other_parameters):\n",
    "    \"\"\"\n",
    "    Cal this as self._decorate_ionic_species(other_parameters) to update self._decor\n",
    "    \"\"\"\n",
    "    translated_keys = {\"external_concentration\": \"ext_con\",\n",
    "                       \"internal_concentration\": \"int_con\",\n",
    "                       \"ion_name\": \"ion_name\",\n",
    "                       \"reversal_potential\": \"rev_pot\"}\n",
    "    for ion_name, ion_sp in other_parameters[\"ionic_species\"].items():\n",
    "        dict_input = _get_dict_for_ion(translated_keys, ion_sp)\n",
    "        print(dict_input)\n",
    "        #decor.set_ion(getattr(ion_sp, \"ion_name\"), **dict_input)\n",
    "\n",
    "def _get_dict_for_ion(translated_keys, the_ionic_species):\n",
    "    keys_in_the_ionic_species = [a for a in dir(the_ionic_species) if not a.startswith('__')]\n",
    "    dict_for_ion = {}\n",
    "    for key in keys_in_the_ionic_species:\n",
    "        if not getattr(the_ionic_species, key):\n",
    "            pass  # empty so do nothing\n",
    "        else:\n",
    "            if key == \"ion_name\":\n",
    "                dict_for_ion.update({\"method\": \"nernst/\" + getattr(the_ionic_species, key)})\n",
    "            else:\n",
    "                dict_for_ion.update({translated_keys[key]: getattr(the_ionic_species, key)})\n",
    "    return dict_for_ion"
   ]
  },
  {
   "cell_type": "code",
   "execution_count": 13,
   "id": "3bfd63be",
   "metadata": {},
   "outputs": [
    {
     "ename": "KeyError",
     "evalue": "'clear'",
     "output_type": "error",
     "traceback": [
      "\u001b[0;31m---------------------------------------------------------------------------\u001b[0m",
      "\u001b[0;31mKeyError\u001b[0m                                  Traceback (most recent call last)",
      "Input \u001b[0;32mIn [13]\u001b[0m, in \u001b[0;36m<module>\u001b[0;34m\u001b[0m\n\u001b[0;32m----> 1\u001b[0m \u001b[43m_decorate_ionic_species\u001b[49m\u001b[43m(\u001b[49m\u001b[43mother_parameters\u001b[49m\u001b[43m)\u001b[49m\n",
      "Input \u001b[0;32mIn [12]\u001b[0m, in \u001b[0;36m_decorate_ionic_species\u001b[0;34m(other_parameters)\u001b[0m\n\u001b[1;32m      5\u001b[0m translated_keys \u001b[38;5;241m=\u001b[39m {\u001b[38;5;124m\"\u001b[39m\u001b[38;5;124mexternal_concentration\u001b[39m\u001b[38;5;124m\"\u001b[39m: \u001b[38;5;124m\"\u001b[39m\u001b[38;5;124mext_con\u001b[39m\u001b[38;5;124m\"\u001b[39m,\n\u001b[1;32m      6\u001b[0m                    \u001b[38;5;124m\"\u001b[39m\u001b[38;5;124minternal_concentration\u001b[39m\u001b[38;5;124m\"\u001b[39m: \u001b[38;5;124m\"\u001b[39m\u001b[38;5;124mint_con\u001b[39m\u001b[38;5;124m\"\u001b[39m,\n\u001b[1;32m      7\u001b[0m                    \u001b[38;5;124m\"\u001b[39m\u001b[38;5;124mion_name\u001b[39m\u001b[38;5;124m\"\u001b[39m: \u001b[38;5;124m\"\u001b[39m\u001b[38;5;124mion_name\u001b[39m\u001b[38;5;124m\"\u001b[39m,\n\u001b[1;32m      8\u001b[0m                    \u001b[38;5;124m\"\u001b[39m\u001b[38;5;124mreversal_potential\u001b[39m\u001b[38;5;124m\"\u001b[39m: \u001b[38;5;124m\"\u001b[39m\u001b[38;5;124mrev_pot\u001b[39m\u001b[38;5;124m\"\u001b[39m}\n\u001b[1;32m      9\u001b[0m \u001b[38;5;28;01mfor\u001b[39;00m ion_name, ion_sp \u001b[38;5;129;01min\u001b[39;00m other_parameters[\u001b[38;5;124m\"\u001b[39m\u001b[38;5;124mionic_species\u001b[39m\u001b[38;5;124m\"\u001b[39m]\u001b[38;5;241m.\u001b[39mitems():\n\u001b[0;32m---> 10\u001b[0m     dict_input \u001b[38;5;241m=\u001b[39m \u001b[43m_get_dict_for_ion\u001b[49m\u001b[43m(\u001b[49m\u001b[43mtranslated_keys\u001b[49m\u001b[43m,\u001b[49m\u001b[43m \u001b[49m\u001b[43mion_sp\u001b[49m\u001b[43m)\u001b[49m\n\u001b[1;32m     11\u001b[0m     \u001b[38;5;28mprint\u001b[39m(dict_input)\n",
      "Input \u001b[0;32mIn [12]\u001b[0m, in \u001b[0;36m_get_dict_for_ion\u001b[0;34m(translated_keys, the_ionic_species)\u001b[0m\n\u001b[1;32m     22\u001b[0m             dict_for_ion\u001b[38;5;241m.\u001b[39mupdate({\u001b[38;5;124m\"\u001b[39m\u001b[38;5;124mmethod\u001b[39m\u001b[38;5;124m\"\u001b[39m: \u001b[38;5;124m\"\u001b[39m\u001b[38;5;124mnernst/\u001b[39m\u001b[38;5;124m\"\u001b[39m \u001b[38;5;241m+\u001b[39m \u001b[38;5;28mgetattr\u001b[39m(the_ionic_species, key)})\n\u001b[1;32m     23\u001b[0m         \u001b[38;5;28;01melse\u001b[39;00m:\n\u001b[0;32m---> 24\u001b[0m             dict_for_ion\u001b[38;5;241m.\u001b[39mupdate({\u001b[43mtranslated_keys\u001b[49m\u001b[43m[\u001b[49m\u001b[43mkey\u001b[49m\u001b[43m]\u001b[49m: \u001b[38;5;28mgetattr\u001b[39m(the_ionic_species, key)})\n\u001b[1;32m     25\u001b[0m \u001b[38;5;28;01mreturn\u001b[39;00m dict_for_ion\n",
      "\u001b[0;31mKeyError\u001b[0m: 'clear'"
     ]
    }
   ],
   "source": [
    "_decorate_ionic_species(other_parameters)"
   ]
  },
  {
   "cell_type": "code",
   "execution_count": 15,
   "id": "1e255108",
   "metadata": {},
   "outputs": [],
   "source": [
    "#decor.set_ion('ca', method=mech('nernst/x=ca'))\n",
    "#decor.set_ion('na', int_con=5.0, rev_pot=70, method=None)"
   ]
  },
  {
   "cell_type": "code",
   "execution_count": 16,
   "id": "3a2e0b11",
   "metadata": {},
   "outputs": [],
   "source": [
    "dicts = {\"int_con\": 5.0, \"rev_pot\":70, \"method\": None}\n",
    "decor.set_ion(\"na\", **dicts)"
   ]
  },
  {
   "cell_type": "code",
   "execution_count": 17,
   "id": "e2848d0e",
   "metadata": {},
   "outputs": [],
   "source": [
    "ionic_species={'na_ion': sim.NaIon}"
   ]
  },
  {
   "cell_type": "code",
   "execution_count": 26,
   "id": "0fa2ee68",
   "metadata": {},
   "outputs": [],
   "source": [
    "s = \"na_ion\""
   ]
  },
  {
   "cell_type": "code",
   "execution_count": 27,
   "id": "92a0e19b",
   "metadata": {},
   "outputs": [
    {
     "data": {
      "text/plain": [
       "['na', 'ion']"
      ]
     },
     "execution_count": 27,
     "metadata": {},
     "output_type": "execute_result"
    }
   ],
   "source": [
    "s.split(\"_\")"
   ]
  },
  {
   "cell_type": "code",
   "execution_count": 28,
   "id": "d4344736",
   "metadata": {},
   "outputs": [
    {
     "data": {
      "text/plain": [
       "'na'"
      ]
     },
     "execution_count": 28,
     "metadata": {},
     "output_type": "execute_result"
    }
   ],
   "source": [
    "\"na_ion\".split(\"_\")[0]"
   ]
  },
  {
   "cell_type": "code",
   "execution_count": 2,
   "id": "b7643271",
   "metadata": {},
   "outputs": [
    {
     "data": {
      "text/plain": [
       "<arbor.mechanism: name 'hh/e=-70', parameters {}>"
      ]
     },
     "execution_count": 2,
     "metadata": {},
     "output_type": "execute_result"
    }
   ],
   "source": [
    "arbor.mechanism(\"hh/e=-70\")"
   ]
  },
  {
   "cell_type": "code",
   "execution_count": 3,
   "id": "2269deaf",
   "metadata": {},
   "outputs": [],
   "source": [
    "m1 = arbor.mechanism(\"hh\")"
   ]
  },
  {
   "cell_type": "code",
   "execution_count": 4,
   "id": "e60c761c",
   "metadata": {},
   "outputs": [
    {
     "data": {
      "text/plain": [
       "'hh'"
      ]
     },
     "execution_count": 4,
     "metadata": {},
     "output_type": "execute_result"
    }
   ],
   "source": [
    "m1.name"
   ]
  },
  {
   "cell_type": "code",
   "execution_count": 5,
   "id": "e27d22ab",
   "metadata": {},
   "outputs": [
    {
     "data": {
      "text/plain": [
       "{}"
      ]
     },
     "execution_count": 5,
     "metadata": {},
     "output_type": "execute_result"
    }
   ],
   "source": [
    "m1.values"
   ]
  },
  {
   "cell_type": "code",
   "execution_count": 6,
   "id": "563afc0f",
   "metadata": {},
   "outputs": [
    {
     "name": "stdout",
     "output_type": "stream",
     "text": [
      "Help on mechanism in module arbor._arbor object:\n",
      "\n",
      "class mechanism(pybind11_builtins.pybind11_object)\n",
      " |  Method resolution order:\n",
      " |      mechanism\n",
      " |      pybind11_builtins.pybind11_object\n",
      " |      builtins.object\n",
      " |  \n",
      " |  Methods defined here:\n",
      " |  \n",
      " |  __init__(...)\n",
      " |      __init__(*args, **kwargs)\n",
      " |      Overloaded function.\n",
      " |      \n",
      " |      1. __init__(self: arbor._arbor.mechanism, name: str) -> None\n",
      " |      \n",
      " |      The name of the mechanism\n",
      " |      \n",
      " |      2. __init__(self: arbor._arbor.mechanism, name: str, params: Dict[str, float]) -> None\n",
      " |      \n",
      " |      Example usage setting parameters:\n",
      " |        m = arbor.mechanism('expsyn', {'tau': 1.4})\n",
      " |      will create parameters for the 'expsyn' mechanism, with the provided value\n",
      " |      for 'tau' overrides the default. If a parameter is not set, the default\n",
      " |      (as defined in NMODL) is used.\n",
      " |      \n",
      " |      Example overriding a global parameter:\n",
      " |        m = arbor.mechanism('nernst/R=8.3145,F=96485')\n",
      " |  \n",
      " |  __repr__(...)\n",
      " |      __repr__(self: arbor._arbor.mechanism) -> str\n",
      " |  \n",
      " |  __str__(...)\n",
      " |      __str__(self: arbor._arbor.mechanism) -> str\n",
      " |  \n",
      " |  set(...)\n",
      " |      set(self: arbor._arbor.mechanism, name: str, value: float) -> None\n",
      " |      \n",
      " |      Set parameter value.\n",
      " |  \n",
      " |  ----------------------------------------------------------------------\n",
      " |  Readonly properties defined here:\n",
      " |  \n",
      " |  name\n",
      " |      The name of the mechanism.\n",
      " |  \n",
      " |  values\n",
      " |      A dictionary of parameter values with parameter name as key.\n",
      " |  \n",
      " |  ----------------------------------------------------------------------\n",
      " |  Static methods inherited from pybind11_builtins.pybind11_object:\n",
      " |  \n",
      " |  __new__(*args, **kwargs) from pybind11_builtins.pybind11_type\n",
      " |      Create and return a new object.  See help(type) for accurate signature.\n",
      "\n"
     ]
    }
   ],
   "source": [
    "help(m1)"
   ]
  },
  {
   "cell_type": "code",
   "execution_count": 2,
   "id": "3a2925ba",
   "metadata": {},
   "outputs": [],
   "source": [
    "d = {}"
   ]
  },
  {
   "cell_type": "code",
   "execution_count": 5,
   "id": "cbc93a04",
   "metadata": {},
   "outputs": [
    {
     "name": "stdout",
     "output_type": "stream",
     "text": [
      "empty\n"
     ]
    }
   ],
   "source": [
    "if not d:\n",
    "    print(\"empty\")"
   ]
  },
  {
   "cell_type": "code",
   "execution_count": 1,
   "id": "b3d81b10",
   "metadata": {},
   "outputs": [],
   "source": [
    "import arbor\n",
    "import re\n",
    "import neuroml"
   ]
  },
  {
   "cell_type": "code",
   "execution_count": 2,
   "id": "57cb624b",
   "metadata": {},
   "outputs": [
    {
     "data": {
      "text/plain": [
       "0"
      ]
     },
     "execution_count": 2,
     "metadata": {},
     "output_type": "execute_result"
    }
   ],
   "source": [
    "import pyNN.arbor as sim\n",
    "sim.setup(timestep=0.025)"
   ]
  },
  {
   "cell_type": "code",
   "execution_count": 69,
   "id": "fba39078",
   "metadata": {},
   "outputs": [],
   "source": [
    "from pyNN.morphology import NeuroMLMorphology\n",
    "from neuroml import Morphology, Segment, Point3DWithDiam as P\n",
    "soma = Segment(proximal=P(x=0, y=0, z=0, diameter=18.8),\n",
    "               distal=P(x=18.8, y=0, z=0, diameter=18.8),\n",
    "               name=\"soma\", id=0)\n",
    "dend = Segment(proximal=P(x=0, y=0, z=0, diameter=2),\n",
    "               distal=P(x=-500, y=0, z=0, diameter=2),\n",
    "               name=\"dendrite\",\n",
    "               parent=soma, id=1)\n",
    "nu_morph = NeuroMLMorphology(Morphology(segments=(soma, dend)))"
   ]
  },
  {
   "cell_type": "code",
   "execution_count": 39,
   "id": "3bc8efc3",
   "metadata": {},
   "outputs": [],
   "source": [
    "cell_class = sim.MultiCompartmentNeuron\n",
    "cell_class.label = \"ExampleMultiCompartmentNeuron\"\n",
    "cell_class.ion_channels = {'pas': sim.PassiveLeak, 'na': sim.NaChannel, 'kdr': sim.KdrChannel}"
   ]
  },
  {
   "cell_type": "code",
   "execution_count": 40,
   "id": "3130fc00",
   "metadata": {},
   "outputs": [],
   "source": [
    "nu = sim.MultiCompartmentNeuron.setup(\n",
    "\t\t\t\tlabel=\"ExampleMultiCompartmentNeuron\",\n",
    "\t\t\t\tion_channels={'pas': sim.PassiveLeak,\n",
    "\t\t\t\t\t\t\t  'na': sim.NaChannel,\n",
    "\t\t\t\t\t\t\t  'kdr': sim.KdrChannel},\n",
    "\t\t\t\tionic_species={'na_ion': sim.NaIon,\n",
    "\t\t\t\t\t\t\t   'k_ion': sim.KIon})"
   ]
  },
  {
   "cell_type": "code",
   "execution_count": 41,
   "id": "fe2e44c3",
   "metadata": {},
   "outputs": [
    {
     "data": {
      "text/plain": [
       "<pyNN.morphology.NeuroMLMorphology at 0x7feb43d4de20>"
      ]
     },
     "execution_count": 41,
     "metadata": {},
     "output_type": "execute_result"
    }
   ],
   "source": [
    "nu_morph"
   ]
  },
  {
   "cell_type": "code",
   "execution_count": 42,
   "id": "56e3fff0",
   "metadata": {},
   "outputs": [
    {
     "name": "stdout",
     "output_type": "stream",
     "text": [
      "<Segment|0|soma> soma <class 'neuroml.nml.nml.Segment'>\n",
      "<Segment|1|dendrites> dendrites <class 'neuroml.nml.nml.Segment'>\n"
     ]
    }
   ],
   "source": [
    "for indx, nml_seg in enumerate(nu_morph.segments):\n",
    "    print(nml_seg, nml_seg.name, type(nml_seg))"
   ]
  },
  {
   "cell_type": "code",
   "execution_count": 43,
   "id": "dc6c8870",
   "metadata": {},
   "outputs": [
    {
     "name": "stdout",
     "output_type": "stream",
     "text": [
      "is a segment\n",
      "is a segment\n"
     ]
    }
   ],
   "source": [
    "for indx, nml_seg in enumerate(nu_morph.segments):\n",
    "    if isinstance( nml_seg, neuroml.nml.nml.Segment):\n",
    "        print(\"is a segment\")"
   ]
  },
  {
   "cell_type": "code",
   "execution_count": 44,
   "id": "70961393",
   "metadata": {},
   "outputs": [
    {
     "ename": "AttributeError",
     "evalue": "'NeuroMLMorphology' object has no attribute '_soma_index'",
     "output_type": "error",
     "traceback": [
      "\u001b[0;31m---------------------------------------------------------------------------\u001b[0m",
      "\u001b[0;31mAttributeError\u001b[0m                            Traceback (most recent call last)",
      "Input \u001b[0;32mIn [44]\u001b[0m, in \u001b[0;36m<module>\u001b[0;34m\u001b[0m\n\u001b[0;32m----> 1\u001b[0m \u001b[43mnu_morph\u001b[49m\u001b[38;5;241;43m.\u001b[39;49m\u001b[43msoma_index\u001b[49m\n",
      "File \u001b[0;32m/envs/py3-pyNNarborTest/lib/python3.8/site-packages/pyNN/morphology.py:60\u001b[0m, in \u001b[0;36mMorphology.soma_index\u001b[0;34m(self)\u001b[0m\n\u001b[1;32m     58\u001b[0m \u001b[38;5;129m@property\u001b[39m\n\u001b[1;32m     59\u001b[0m \u001b[38;5;28;01mdef\u001b[39;00m \u001b[38;5;21msoma_index\u001b[39m(\u001b[38;5;28mself\u001b[39m):\n\u001b[0;32m---> 60\u001b[0m     \u001b[38;5;28;01mreturn\u001b[39;00m \u001b[38;5;28;43mself\u001b[39;49m\u001b[38;5;241;43m.\u001b[39;49m\u001b[43m_soma_index\u001b[49m\n",
      "\u001b[0;31mAttributeError\u001b[0m: 'NeuroMLMorphology' object has no attribute '_soma_index'"
     ]
    }
   ],
   "source": [
    "nu_morph.soma_index"
   ]
  },
  {
   "cell_type": "code",
   "execution_count": 45,
   "id": "e844e67f",
   "metadata": {},
   "outputs": [
    {
     "data": {
      "text/plain": [
       "(<Segment|0|soma>, <Segment|1|dendrites>)"
      ]
     },
     "execution_count": 45,
     "metadata": {},
     "output_type": "execute_result"
    }
   ],
   "source": [
    "nu_morph.segments"
   ]
  },
  {
   "cell_type": "code",
   "execution_count": 46,
   "id": "a826d72d",
   "metadata": {},
   "outputs": [
    {
     "ename": "AttributeError",
     "evalue": "'NeuroMLMorphology' object has no attribute '_soma_index'",
     "output_type": "error",
     "traceback": [
      "\u001b[0;31m---------------------------------------------------------------------------\u001b[0m",
      "\u001b[0;31mAttributeError\u001b[0m                            Traceback (most recent call last)",
      "Input \u001b[0;32mIn [46]\u001b[0m, in \u001b[0;36m<module>\u001b[0;34m\u001b[0m\n\u001b[0;32m----> 1\u001b[0m \u001b[43mnu_morph\u001b[49m\u001b[38;5;241;43m.\u001b[39;49m\u001b[43msoma_index\u001b[49m\n",
      "File \u001b[0;32m/envs/py3-pyNNarborTest/lib/python3.8/site-packages/pyNN/morphology.py:60\u001b[0m, in \u001b[0;36mMorphology.soma_index\u001b[0;34m(self)\u001b[0m\n\u001b[1;32m     58\u001b[0m \u001b[38;5;129m@property\u001b[39m\n\u001b[1;32m     59\u001b[0m \u001b[38;5;28;01mdef\u001b[39;00m \u001b[38;5;21msoma_index\u001b[39m(\u001b[38;5;28mself\u001b[39m):\n\u001b[0;32m---> 60\u001b[0m     \u001b[38;5;28;01mreturn\u001b[39;00m \u001b[38;5;28;43mself\u001b[39;49m\u001b[38;5;241;43m.\u001b[39;49m\u001b[43m_soma_index\u001b[49m\n",
      "\u001b[0;31mAttributeError\u001b[0m: 'NeuroMLMorphology' object has no attribute '_soma_index'"
     ]
    }
   ],
   "source": [
    "nu_morph.soma_index"
   ]
  },
  {
   "cell_type": "code",
   "execution_count": 47,
   "id": "b9fa7c82",
   "metadata": {},
   "outputs": [
    {
     "data": {
      "text/plain": [
       "(<Segment|0|soma>, <Segment|1|dendrites>)"
      ]
     },
     "execution_count": 47,
     "metadata": {},
     "output_type": "execute_result"
    }
   ],
   "source": [
    "nu_morph.segments"
   ]
  },
  {
   "cell_type": "code",
   "execution_count": 48,
   "id": "3ba5df4f",
   "metadata": {},
   "outputs": [],
   "source": [
    "from pyNN.morphology import NeuroMLMorphology, load_morphology, uniform, random_section, dendrites, apical_dendrites, by_distance"
   ]
  },
  {
   "cell_type": "code",
   "execution_count": 49,
   "id": "43298be2",
   "metadata": {},
   "outputs": [],
   "source": [
    "na={\"conductance_density\": uniform('soma', 0.120), \"e_rev\": 50.0}"
   ]
  },
  {
   "cell_type": "code",
   "execution_count": 50,
   "id": "33c32801",
   "metadata": {},
   "outputs": [
    {
     "ename": "AttributeError",
     "evalue": "'NeuroMLMorphology' object has no attribute '_soma_index'",
     "output_type": "error",
     "traceback": [
      "\u001b[0;31m---------------------------------------------------------------------------\u001b[0m",
      "\u001b[0;31mAttributeError\u001b[0m                            Traceback (most recent call last)",
      "Input \u001b[0;32mIn [50]\u001b[0m, in \u001b[0;36m<module>\u001b[0;34m\u001b[0m\n\u001b[0;32m----> 1\u001b[0m \u001b[43mna\u001b[49m\u001b[43m[\u001b[49m\u001b[38;5;124;43m\"\u001b[39;49m\u001b[38;5;124;43mconductance_density\u001b[39;49m\u001b[38;5;124;43m\"\u001b[39;49m\u001b[43m]\u001b[49m\u001b[38;5;241;43m.\u001b[39;49m\u001b[43mvalue_in\u001b[49m\u001b[43m(\u001b[49m\u001b[43mnu_morph\u001b[49m\u001b[43m,\u001b[49m\u001b[43m \u001b[49m\u001b[38;5;241;43m0\u001b[39;49m\u001b[43m)\u001b[49m\n",
      "File \u001b[0;32m/envs/py3-pyNNarborTest/lib/python3.8/site-packages/pyNN/morphology.py:181\u001b[0m, in \u001b[0;36muniform.value_in\u001b[0;34m(self, morphology, index)\u001b[0m\n\u001b[1;32m    179\u001b[0m     \u001b[38;5;28;01mreturn\u001b[39;00m \u001b[38;5;28mself\u001b[39m\u001b[38;5;241m.\u001b[39mvalue\n\u001b[1;32m    180\u001b[0m \u001b[38;5;28;01melif\u001b[39;00m \u001b[38;5;28mself\u001b[39m\u001b[38;5;241m.\u001b[39mselector \u001b[38;5;241m==\u001b[39m \u001b[38;5;124m'\u001b[39m\u001b[38;5;124msoma\u001b[39m\u001b[38;5;124m'\u001b[39m:\n\u001b[0;32m--> 181\u001b[0m     \u001b[38;5;28;01mif\u001b[39;00m index \u001b[38;5;241m==\u001b[39m \u001b[43mmorphology\u001b[49m\u001b[38;5;241;43m.\u001b[39;49m\u001b[43msoma_index\u001b[49m:\n\u001b[1;32m    182\u001b[0m         \u001b[38;5;28;01mreturn\u001b[39;00m \u001b[38;5;28mself\u001b[39m\u001b[38;5;241m.\u001b[39mvalue\n\u001b[1;32m    183\u001b[0m     \u001b[38;5;28;01melse\u001b[39;00m:\n",
      "File \u001b[0;32m/envs/py3-pyNNarborTest/lib/python3.8/site-packages/pyNN/morphology.py:60\u001b[0m, in \u001b[0;36mMorphology.soma_index\u001b[0;34m(self)\u001b[0m\n\u001b[1;32m     58\u001b[0m \u001b[38;5;129m@property\u001b[39m\n\u001b[1;32m     59\u001b[0m \u001b[38;5;28;01mdef\u001b[39;00m \u001b[38;5;21msoma_index\u001b[39m(\u001b[38;5;28mself\u001b[39m):\n\u001b[0;32m---> 60\u001b[0m     \u001b[38;5;28;01mreturn\u001b[39;00m \u001b[38;5;28;43mself\u001b[39;49m\u001b[38;5;241;43m.\u001b[39;49m\u001b[43m_soma_index\u001b[49m\n",
      "\u001b[0;31mAttributeError\u001b[0m: 'NeuroMLMorphology' object has no attribute '_soma_index'"
     ]
    }
   ],
   "source": [
    "na[\"conductance_density\"].value_in(nu_morph, 0)"
   ]
  },
  {
   "cell_type": "code",
   "execution_count": 51,
   "id": "a829a3a8",
   "metadata": {},
   "outputs": [
    {
     "name": "stdout",
     "output_type": "stream",
     "text": [
      "yes\n"
     ]
    }
   ],
   "source": [
    "if isinstance(nu_morph._morphology, neuroml.Morphology):\n",
    "    print(\"yes\")"
   ]
  },
  {
   "cell_type": "code",
   "execution_count": 52,
   "id": "f81ce3d0",
   "metadata": {},
   "outputs": [
    {
     "name": "stdout",
     "output_type": "stream",
     "text": [
      "0 <Segment|0|soma>\n",
      "1 <Segment|1|dendrites>\n"
     ]
    }
   ],
   "source": [
    "sections = {}\n",
    "unresolved_connections = []\n",
    "for index, segment in enumerate(nu_morph.segments):\n",
    "    print(index, segment)"
   ]
  },
  {
   "cell_type": "code",
   "execution_count": 53,
   "id": "92c1218d",
   "metadata": {},
   "outputs": [],
   "source": [
    "from neuron import nrn"
   ]
  },
  {
   "cell_type": "code",
   "execution_count": 54,
   "id": "83014cbd",
   "metadata": {},
   "outputs": [],
   "source": [
    "PROXIMAL = 0\n",
    "DISTAL = 0"
   ]
  },
  {
   "cell_type": "code",
   "execution_count": 55,
   "id": "9da8b889",
   "metadata": {},
   "outputs": [],
   "source": [
    "sections = {}\n",
    "section_labels = {}\n",
    "unresolved_connections = []\n",
    "for index, segment in enumerate(nu_morph.segments):\n",
    "    section = nrn.Section(name=segment.name)\n",
    "    section.L = segment.length\n",
    "    section(PROXIMAL).diam = segment.proximal.diameter\n",
    "    section(DISTAL).diam = segment.distal.diameter\n",
    "    section.nseg = 1\n",
    "    segment_id = segment.id\n",
    "    if segment.parent:\n",
    "        parent_id = segment.parent.id\n",
    "        connection_point = DISTAL\n",
    "        if segment.parent.id in sections:\n",
    "            section.connect(sections[parent_id], connection_point, PROXIMAL)\n",
    "        else:\n",
    "            unresolved_connections.append((segment_id, parent_id))\n",
    "    sections[segment_id] = section\n",
    "    if segment.name == \"soma\":\n",
    "        nu_morph._soma_index = segment_id\n",
    "    if segment.name is not None:\n",
    "        section_labels[segment.name] = section\n",
    "    segment._section = section\n",
    "for section_id, parent_id in unresolved_connections:\n",
    "    sections[section_id].connect(sections[parent_id], DISTAL, PROXIMAL)"
   ]
  },
  {
   "cell_type": "code",
   "execution_count": 56,
   "id": "2658f408",
   "metadata": {},
   "outputs": [
    {
     "name": "stdout",
     "output_type": "stream",
     "text": [
      "0 <Segment|0|soma>\n",
      "1 <Segment|1|dendrites>\n"
     ]
    }
   ],
   "source": [
    "for index, segment in enumerate(nu_morph.segments):\n",
    "    print(index, segment)"
   ]
  },
  {
   "cell_type": "code",
   "execution_count": 57,
   "id": "94fe6d50",
   "metadata": {},
   "outputs": [
    {
     "data": {
      "text/plain": [
       "0.12"
      ]
     },
     "execution_count": 57,
     "metadata": {},
     "output_type": "execute_result"
    }
   ],
   "source": [
    "na[\"conductance_density\"].value_in(nu_morph, 0)"
   ]
  },
  {
   "cell_type": "code",
   "execution_count": 58,
   "id": "aab27a9b",
   "metadata": {},
   "outputs": [
    {
     "data": {
      "text/plain": [
       "0.0"
      ]
     },
     "execution_count": 58,
     "metadata": {},
     "output_type": "execute_result"
    }
   ],
   "source": [
    "na[\"conductance_density\"].value_in(nu_morph, 1)"
   ]
  },
  {
   "cell_type": "code",
   "execution_count": 59,
   "id": "6aa11750",
   "metadata": {},
   "outputs": [
    {
     "name": "stdout",
     "output_type": "stream",
     "text": [
      "0 0\n",
      "1 1\n"
     ]
    }
   ],
   "source": [
    "for index, id in enumerate(sections):\n",
    "    print(index, id)"
   ]
  },
  {
   "cell_type": "code",
   "execution_count": 60,
   "id": "c5069ded",
   "metadata": {},
   "outputs": [
    {
     "data": {
      "text/plain": [
       "dendrites(0)"
      ]
     },
     "execution_count": 60,
     "metadata": {},
     "output_type": "execute_result"
    }
   ],
   "source": [
    "section(0) # argument is id not index"
   ]
  },
  {
   "cell_type": "code",
   "execution_count": 61,
   "id": "650b95f5",
   "metadata": {},
   "outputs": [],
   "source": [
    "kdr={\"conductance_density\": by_distance(apical_dendrites(), lambda d: 0.05*d/200.0), \"e_rev\": -77.0}"
   ]
  },
  {
   "cell_type": "code",
   "execution_count": 62,
   "id": "bb990d39",
   "metadata": {},
   "outputs": [
    {
     "data": {
      "text/plain": [
       "<pyNN.morphology.by_distance at 0x7feb43d79580>"
      ]
     },
     "execution_count": 62,
     "metadata": {},
     "output_type": "execute_result"
    }
   ],
   "source": [
    "kdr[\"conductance_density\"]"
   ]
  },
  {
   "cell_type": "code",
   "execution_count": 63,
   "id": "9249f61b",
   "metadata": {},
   "outputs": [],
   "source": [
    "from pyNN.morphology import MorphologyFilter"
   ]
  },
  {
   "cell_type": "code",
   "execution_count": 64,
   "id": "c115f2fc",
   "metadata": {},
   "outputs": [
    {
     "data": {
      "text/plain": [
       "<pyNN.morphology.apical_dendrites at 0x7feb43d6d520>"
      ]
     },
     "execution_count": 64,
     "metadata": {},
     "output_type": "execute_result"
    }
   ],
   "source": [
    "kdr[\"conductance_density\"].selector"
   ]
  },
  {
   "cell_type": "code",
   "execution_count": 65,
   "id": "862cd74d",
   "metadata": {},
   "outputs": [
    {
     "name": "stdout",
     "output_type": "stream",
     "text": [
      "yes\n"
     ]
    }
   ],
   "source": [
    "if isinstance(kdr[\"conductance_density\"].selector, MorphologyFilter):\n",
    "    print(\"yes\")"
   ]
  },
  {
   "cell_type": "code",
   "execution_count": 66,
   "id": "72946fd1",
   "metadata": {},
   "outputs": [
    {
     "ename": "Exception",
     "evalue": "No neurites labelled as apical dendrite",
     "output_type": "error",
     "traceback": [
      "\u001b[0;31m---------------------------------------------------------------------------\u001b[0m",
      "\u001b[0;31mException\u001b[0m                                 Traceback (most recent call last)",
      "Input \u001b[0;32mIn [66]\u001b[0m, in \u001b[0;36m<module>\u001b[0;34m\u001b[0m\n\u001b[0;32m----> 1\u001b[0m \u001b[43mkdr\u001b[49m\u001b[43m[\u001b[49m\u001b[38;5;124;43m\"\u001b[39;49m\u001b[38;5;124;43mconductance_density\u001b[39;49m\u001b[38;5;124;43m\"\u001b[39;49m\u001b[43m]\u001b[49m\u001b[38;5;241;43m.\u001b[39;49m\u001b[43mselector\u001b[49m\u001b[43m(\u001b[49m\u001b[43mnu_morph\u001b[49m\u001b[43m)\u001b[49m\n",
      "File \u001b[0;32m/envs/py3-pyNNarborTest/lib/python3.8/site-packages/pyNN/morphology.py:290\u001b[0m, in \u001b[0;36mapical_dendrites.__call__\u001b[0;34m(self, morphology, filter_by_receptor_type)\u001b[0m\n\u001b[1;32m    288\u001b[0m     \u001b[38;5;28;01mreturn\u001b[39;00m section_index\n\u001b[1;32m    289\u001b[0m \u001b[38;5;28;01melse\u001b[39;00m:\n\u001b[0;32m--> 290\u001b[0m     \u001b[38;5;28;01mraise\u001b[39;00m \u001b[38;5;167;01mException\u001b[39;00m(\u001b[38;5;124m\"\u001b[39m\u001b[38;5;124mNo neurites labelled as apical dendrite\u001b[39m\u001b[38;5;124m\"\u001b[39m)\n",
      "\u001b[0;31mException\u001b[0m: No neurites labelled as apical dendrite"
     ]
    }
   ],
   "source": [
    "kdr[\"conductance_density\"].selector(nu_morph)"
   ]
  },
  {
   "cell_type": "code",
   "execution_count": 67,
   "id": "242b3617",
   "metadata": {},
   "outputs": [],
   "source": [
    "kdr={\"conductance_density\": by_distance(dendrites(), lambda d: 0.05*d/200.0), \"e_rev\": -77.0}"
   ]
  },
  {
   "cell_type": "code",
   "execution_count": 68,
   "id": "acc98d09",
   "metadata": {},
   "outputs": [
    {
     "ename": "Exception",
     "evalue": "No neurites labelled as dendrites",
     "output_type": "error",
     "traceback": [
      "\u001b[0;31m---------------------------------------------------------------------------\u001b[0m",
      "\u001b[0;31mException\u001b[0m                                 Traceback (most recent call last)",
      "Input \u001b[0;32mIn [68]\u001b[0m, in \u001b[0;36m<module>\u001b[0;34m\u001b[0m\n\u001b[0;32m----> 1\u001b[0m \u001b[43mkdr\u001b[49m\u001b[43m[\u001b[49m\u001b[38;5;124;43m\"\u001b[39;49m\u001b[38;5;124;43mconductance_density\u001b[39;49m\u001b[38;5;124;43m\"\u001b[39;49m\u001b[43m]\u001b[49m\u001b[38;5;241;43m.\u001b[39;49m\u001b[43mselector\u001b[49m\u001b[43m(\u001b[49m\u001b[43mnu_morph\u001b[49m\u001b[43m)\u001b[49m\n",
      "File \u001b[0;32m/envs/py3-pyNNarborTest/lib/python3.8/site-packages/pyNN/morphology.py:270\u001b[0m, in \u001b[0;36mdendrites.__call__\u001b[0;34m(self, morphology, filter_by_receptor_type)\u001b[0m\n\u001b[1;32m    268\u001b[0m         section_index \u001b[38;5;241m=\u001b[39m np\u001b[38;5;241m.\u001b[39mhstack((section_index, morphology\u001b[38;5;241m.\u001b[39msection_groups[label]))\n\u001b[1;32m    269\u001b[0m \u001b[38;5;28;01mif\u001b[39;00m section_index\u001b[38;5;241m.\u001b[39msize \u001b[38;5;241m<\u001b[39m \u001b[38;5;241m1\u001b[39m:\n\u001b[0;32m--> 270\u001b[0m     \u001b[38;5;28;01mraise\u001b[39;00m \u001b[38;5;167;01mException\u001b[39;00m(\u001b[38;5;124m\"\u001b[39m\u001b[38;5;124mNo neurites labelled as dendrites\u001b[39m\u001b[38;5;124m\"\u001b[39m)\n\u001b[1;32m    271\u001b[0m \u001b[38;5;28;01mreturn\u001b[39;00m section_index\n",
      "\u001b[0;31mException\u001b[0m: No neurites labelled as dendrites"
     ]
    }
   ],
   "source": [
    "kdr[\"conductance_density\"].selector(nu_morph)"
   ]
  },
  {
   "cell_type": "code",
   "execution_count": 35,
   "id": "36651d5c",
   "metadata": {},
   "outputs": [],
   "source": [
    "from pyNN.morphology import basal_dendrites"
   ]
  },
  {
   "cell_type": "code",
   "execution_count": 36,
   "id": "1dfc9be7",
   "metadata": {},
   "outputs": [],
   "source": [
    "kdr={\"conductance_density\": by_distance(basal_dendrites(), lambda d: 0.05*d/200.0), \"e_rev\": -77.0}"
   ]
  },
  {
   "cell_type": "code",
   "execution_count": 37,
   "id": "b21c5278",
   "metadata": {},
   "outputs": [
    {
     "ename": "Exception",
     "evalue": "No neurites labelled as basal dendrite",
     "output_type": "error",
     "traceback": [
      "\u001b[0;31m---------------------------------------------------------------------------\u001b[0m",
      "\u001b[0;31mException\u001b[0m                                 Traceback (most recent call last)",
      "Input \u001b[0;32mIn [37]\u001b[0m, in \u001b[0;36m<module>\u001b[0;34m\u001b[0m\n\u001b[0;32m----> 1\u001b[0m \u001b[43mkdr\u001b[49m\u001b[43m[\u001b[49m\u001b[38;5;124;43m\"\u001b[39;49m\u001b[38;5;124;43mconductance_density\u001b[39;49m\u001b[38;5;124;43m\"\u001b[39;49m\u001b[43m]\u001b[49m\u001b[38;5;241;43m.\u001b[39;49m\u001b[43mselector\u001b[49m\u001b[43m(\u001b[49m\u001b[43mnu_morph\u001b[49m\u001b[43m)\u001b[49m\n",
      "File \u001b[0;32m/envs/py3-pyNNarborTest/lib/python3.8/site-packages/pyNN/morphology.py:309\u001b[0m, in \u001b[0;36mbasal_dendrites.__call__\u001b[0;34m(self, morphology, filter_by_receptor_type)\u001b[0m\n\u001b[1;32m    307\u001b[0m     \u001b[38;5;28;01mreturn\u001b[39;00m section_index\n\u001b[1;32m    308\u001b[0m \u001b[38;5;28;01melse\u001b[39;00m:\n\u001b[0;32m--> 309\u001b[0m     \u001b[38;5;28;01mraise\u001b[39;00m \u001b[38;5;167;01mException\u001b[39;00m(\u001b[38;5;124m\"\u001b[39m\u001b[38;5;124mNo neurites labelled as basal dendrite\u001b[39m\u001b[38;5;124m\"\u001b[39m)\n",
      "\u001b[0;31mException\u001b[0m: No neurites labelled as basal dendrite"
     ]
    }
   ],
   "source": [
    "kdr[\"conductance_density\"].selector(nu_morph)"
   ]
  },
  {
   "cell_type": "code",
   "execution_count": 70,
   "id": "30cb1c1b",
   "metadata": {},
   "outputs": [
    {
     "data": {
      "text/plain": [
       "{}"
      ]
     },
     "execution_count": 70,
     "metadata": {},
     "output_type": "execute_result"
    }
   ],
   "source": [
    "nu_morph.section_groups"
   ]
  },
  {
   "cell_type": "code",
   "execution_count": null,
   "id": "a3911a4b",
   "metadata": {},
   "outputs": [],
   "source": []
  }
 ],
 "metadata": {
  "kernelspec": {
   "display_name": "Python 3 (ipykernel)",
   "language": "python",
   "name": "python3"
  },
  "language_info": {
   "codemirror_mode": {
    "name": "ipython",
    "version": 3
   },
   "file_extension": ".py",
   "mimetype": "text/x-python",
   "name": "python",
   "nbconvert_exporter": "python",
   "pygments_lexer": "ipython3",
   "version": "3.8.2"
  }
 },
 "nbformat": 4,
 "nbformat_minor": 5
}
