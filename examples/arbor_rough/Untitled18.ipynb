{
 "cells": [
  {
   "cell_type": "code",
   "execution_count": 1,
   "id": "205b69c1",
   "metadata": {},
   "outputs": [],
   "source": [
    "from pyNN.morphology import NeuroMLMorphology, load_morphology, uniform, random_section, dendrites, apical_dendrites, by_distance\n",
    "from neuroml import Morphology, Segment, Point3DWithDiam as P\n",
    "from pyNN.arbor.cells import ArborTemplate\n",
    "import pyNN.arbor as sim"
   ]
  },
  {
   "cell_type": "code",
   "execution_count": 2,
   "id": "ed07165d",
   "metadata": {},
   "outputs": [],
   "source": [
    "pyr_morph2 = load_morphology(\"single_cell_detailed.swc\", replace_axon=None)\n",
    "cc = sim.MultiCompartmentNeuron.setup(\n",
    "\t\t\t\tlabel=\"MyCell\",\n",
    "\t\t\t\tion_channels={'pas': sim.PassiveLeak,\n",
    "\t\t\t\t\t\t\t  'na': sim.NaChannel,\n",
    "\t\t\t\t\t\t\t  'kdr': sim.KdrChannel},\n",
    "\t\t\t\tionic_species={'na_ion': sim.NaIon,\n",
    "\t\t\t\t\t\t\t   'k_ion': sim.KIon})\n",
    "mycell = cc(morphology=pyr_morph2,\n",
    "\t\t\tcm=1.0,\n",
    "\t\t\tRa=500.0,\n",
    "\t\t\tna_ion = {\"reversal_potential\": 50.0},\n",
    "\t\t\tk_ion = {\"reversal_potential\": -77.0},\n",
    "\t\t\tpas={\"conductance_density\": uniform('all', 0.0003),\n",
    "\t\t\t\t\"e_rev\":-54.3},\n",
    "\t\t\tna={\"conductance_density\": uniform('soma', 0.120),\n",
    "\t\t\t   \"e_rev\": 50.0},\n",
    "\t\t\tkdr={\"conductance_density\": uniform('soma', 0.036),\n",
    "\t\t\t\t\"e_rev\": -77.0})"
   ]
  },
  {
   "cell_type": "code",
   "execution_count": 3,
   "id": "a6e73c4a",
   "metadata": {},
   "outputs": [
    {
     "ename": "NotImplementedError",
     "evalue": "",
     "output_type": "error",
     "traceback": [
      "\u001b[0;31m---------------------------------------------------------------------------\u001b[0m",
      "\u001b[0;31mNotImplementedError\u001b[0m                       Traceback (most recent call last)",
      "Input \u001b[0;32mIn [3]\u001b[0m, in \u001b[0;36m<module>\u001b[0;34m\u001b[0m\n\u001b[0;32m----> 1\u001b[0m cells \u001b[38;5;241m=\u001b[39m \u001b[43msim\u001b[49m\u001b[38;5;241;43m.\u001b[39;49m\u001b[43mPopulation\u001b[49m\u001b[43m(\u001b[49m\u001b[38;5;241;43m1\u001b[39;49m\u001b[43m,\u001b[49m\u001b[43m \u001b[49m\u001b[43mmycell\u001b[49m\u001b[43m,\u001b[49m\u001b[43m \u001b[49m\u001b[43minitial_values\u001b[49m\u001b[38;5;241;43m=\u001b[39;49m\u001b[43m{\u001b[49m\u001b[38;5;124;43m'\u001b[39;49m\u001b[38;5;124;43mv\u001b[39;49m\u001b[38;5;124;43m'\u001b[39;49m\u001b[43m:\u001b[49m\u001b[43m \u001b[49m\u001b[38;5;241;43m-\u001b[39;49m\u001b[38;5;241;43m60.0\u001b[39;49m\u001b[43m}\u001b[49m\u001b[43m)\u001b[49m\n",
      "File \u001b[0;32m/envs/py3-pyNNarborTest/lib/python3.8/site-packages/pyNN/common/populations.py:689\u001b[0m, in \u001b[0;36mPopulation.__init__\u001b[0;34m(self, size, cellclass, cellparams, structure, initial_values, label)\u001b[0m\n\u001b[1;32m    687\u001b[0m all_initial_values \u001b[38;5;241m=\u001b[39m \u001b[38;5;28mself\u001b[39m\u001b[38;5;241m.\u001b[39mcelltype\u001b[38;5;241m.\u001b[39mdefault_initial_values\u001b[38;5;241m.\u001b[39mcopy()\n\u001b[1;32m    688\u001b[0m all_initial_values\u001b[38;5;241m.\u001b[39mupdate(initial_values)\n\u001b[0;32m--> 689\u001b[0m \u001b[38;5;28;43mself\u001b[39;49m\u001b[38;5;241;43m.\u001b[39;49m\u001b[43minitialize\u001b[49m\u001b[43m(\u001b[49m\u001b[38;5;241;43m*\u001b[39;49m\u001b[38;5;241;43m*\u001b[39;49m\u001b[43mall_initial_values\u001b[49m\u001b[43m)\u001b[49m\n\u001b[1;32m    690\u001b[0m Population\u001b[38;5;241m.\u001b[39m_nPop \u001b[38;5;241m+\u001b[39m\u001b[38;5;241m=\u001b[39m \u001b[38;5;241m1\u001b[39m\n",
      "File \u001b[0;32m/envs/py3-pyNNarborTest/lib/python3.8/site-packages/pyNN/common/populations.py:414\u001b[0m, in \u001b[0;36mBasePopulation.initialize\u001b[0;34m(self, **initial_values)\u001b[0m\n\u001b[1;32m    411\u001b[0m logger\u001b[38;5;241m.\u001b[39mdebug(\u001b[38;5;124m\"\u001b[39m\u001b[38;5;124mIn Population \u001b[39m\u001b[38;5;124m'\u001b[39m\u001b[38;5;132;01m%s\u001b[39;00m\u001b[38;5;124m'\u001b[39m\u001b[38;5;124m, initialising \u001b[39m\u001b[38;5;132;01m%s\u001b[39;00m\u001b[38;5;124m to \u001b[39m\u001b[38;5;132;01m%s\u001b[39;00m\u001b[38;5;124m\"\u001b[39m \u001b[38;5;241m%\u001b[39m\n\u001b[1;32m    412\u001b[0m              (\u001b[38;5;28mself\u001b[39m\u001b[38;5;241m.\u001b[39mlabel, variable, value))\n\u001b[1;32m    413\u001b[0m initial_value \u001b[38;5;241m=\u001b[39m LazyArray(value, shape\u001b[38;5;241m=\u001b[39m(\u001b[38;5;28mself\u001b[39m\u001b[38;5;241m.\u001b[39msize,), dtype\u001b[38;5;241m=\u001b[39m\u001b[38;5;28mfloat\u001b[39m)\n\u001b[0;32m--> 414\u001b[0m \u001b[38;5;28;43mself\u001b[39;49m\u001b[38;5;241;43m.\u001b[39;49m\u001b[43m_set_initial_value_array\u001b[49m\u001b[43m(\u001b[49m\u001b[43mvariable\u001b[49m\u001b[43m,\u001b[49m\u001b[43m \u001b[49m\u001b[43minitial_value\u001b[49m\u001b[43m)\u001b[49m\n\u001b[1;32m    415\u001b[0m \u001b[38;5;28mself\u001b[39m\u001b[38;5;241m.\u001b[39minitial_values[variable] \u001b[38;5;241m=\u001b[39m initial_value\n",
      "File \u001b[0;32m/envs/py3-pyNNarborTest/lib/python3.8/site-packages/pyNN/arbor/populations.py:138\u001b[0m, in \u001b[0;36mPopulation._set_initial_value_array\u001b[0;34m(self, variable, initial_values)\u001b[0m\n\u001b[1;32m    136\u001b[0m \u001b[38;5;28;01mfor\u001b[39;00m i \u001b[38;5;129;01min\u001b[39;00m \u001b[38;5;28mrange\u001b[39m(\u001b[38;5;28mself\u001b[39m\u001b[38;5;241m.\u001b[39mall_cells\u001b[38;5;241m.\u001b[39msize):\n\u001b[1;32m    137\u001b[0m     \u001b[38;5;28;01mif\u001b[39;00m variable \u001b[38;5;241m==\u001b[39m \u001b[38;5;124m\"\u001b[39m\u001b[38;5;124mv\u001b[39m\u001b[38;5;124m\"\u001b[39m:\n\u001b[0;32m--> 138\u001b[0m         \u001b[38;5;28;43mself\u001b[39;49m\u001b[38;5;241;43m.\u001b[39;49m\u001b[43mall_cells\u001b[49m\u001b[43m[\u001b[49m\u001b[43mi\u001b[49m\u001b[43m]\u001b[49m\u001b[38;5;241;43m.\u001b[39;49m\u001b[43m__decor\u001b[49m\u001b[38;5;241m.\u001b[39mset_property(Vm\u001b[38;5;241m=\u001b[39minitial_values)\n",
      "File \u001b[0;32m/envs/py3-pyNNarborTest/lib/python3.8/site-packages/pyNN/common/populations.py:59\u001b[0m, in \u001b[0;36mIDMixin.__getattr__\u001b[0;34m(self, name)\u001b[0m\n\u001b[1;32m     57\u001b[0m     \u001b[38;5;28;01mraise\u001b[39;00m \u001b[38;5;167;01mAttributeError\u001b[39;00m(errmsg)\n\u001b[1;32m     58\u001b[0m \u001b[38;5;28;01mtry\u001b[39;00m:\n\u001b[0;32m---> 59\u001b[0m     val \u001b[38;5;241m=\u001b[39m \u001b[38;5;28;43mself\u001b[39;49m\u001b[38;5;241;43m.\u001b[39;49m\u001b[43mget_parameters\u001b[49m\u001b[43m(\u001b[49m\u001b[43m)\u001b[49m[name]\n\u001b[1;32m     60\u001b[0m \u001b[38;5;28;01mexcept\u001b[39;00m \u001b[38;5;167;01mKeyError\u001b[39;00m:\n\u001b[1;32m     61\u001b[0m     \u001b[38;5;28;01mraise\u001b[39;00m errors\u001b[38;5;241m.\u001b[39mNonExistentParameterError(name,\n\u001b[1;32m     62\u001b[0m                                            \u001b[38;5;28mself\u001b[39m\u001b[38;5;241m.\u001b[39mcelltype\u001b[38;5;241m.\u001b[39m\u001b[38;5;18m__class__\u001b[39m\u001b[38;5;241m.\u001b[39m\u001b[38;5;18m__name__\u001b[39m,\n\u001b[1;32m     63\u001b[0m                                            \u001b[38;5;28mself\u001b[39m\u001b[38;5;241m.\u001b[39mcelltype\u001b[38;5;241m.\u001b[39mget_parameter_names())\n",
      "File \u001b[0;32m/envs/py3-pyNNarborTest/lib/python3.8/site-packages/pyNN/common/populations.py:89\u001b[0m, in \u001b[0;36mIDMixin.get_parameters\u001b[0;34m(self)\u001b[0m\n\u001b[1;32m     87\u001b[0m \u001b[38;5;124;03m\"\"\"Return a dict of all cell parameters.\"\"\"\u001b[39;00m\n\u001b[1;32m     88\u001b[0m \u001b[38;5;28;01mif\u001b[39;00m \u001b[38;5;28mself\u001b[39m\u001b[38;5;241m.\u001b[39mlocal:\n\u001b[0;32m---> 89\u001b[0m     parameter_names \u001b[38;5;241m=\u001b[39m \u001b[38;5;28;43mself\u001b[39;49m\u001b[38;5;241;43m.\u001b[39;49m\u001b[43mcelltype\u001b[49m\u001b[38;5;241;43m.\u001b[39;49m\u001b[43mget_parameter_names\u001b[49m\u001b[43m(\u001b[49m\u001b[43m)\u001b[49m\n\u001b[1;32m     90\u001b[0m     \u001b[38;5;28;01mreturn\u001b[39;00m \u001b[38;5;28mdict\u001b[39m((k, v) \u001b[38;5;28;01mfor\u001b[39;00m k, v \u001b[38;5;129;01min\u001b[39;00m \u001b[38;5;28mzip\u001b[39m(parameter_names, \u001b[38;5;28mself\u001b[39m\u001b[38;5;241m.\u001b[39mas_view()\u001b[38;5;241m.\u001b[39mget(parameter_names)))\n\u001b[1;32m     91\u001b[0m \u001b[38;5;28;01melse\u001b[39;00m:\n",
      "File \u001b[0;32m/envs/py3-pyNNarborTest/lib/python3.8/site-packages/pyNN/arbor/standardmodels/cells.py:177\u001b[0m, in \u001b[0;36mMultiCompartmentNeuron.get_parameter_names\u001b[0;34m(self)\u001b[0m\n\u001b[1;32m    175\u001b[0m \u001b[38;5;28;01mdef\u001b[39;00m \u001b[38;5;21mget_parameter_names\u001b[39m(\u001b[38;5;28mself\u001b[39m):\n\u001b[1;32m    176\u001b[0m     \u001b[38;5;124;03m\"\"\"Return the names of the parameters of this model.\"\"\"\u001b[39;00m\n\u001b[0;32m--> 177\u001b[0m     \u001b[38;5;28;01mraise\u001b[39;00m \u001b[38;5;167;01mNotImplementedError\u001b[39;00m\n",
      "\u001b[0;31mNotImplementedError\u001b[0m: "
     ]
    }
   ],
   "source": [
    "cells = sim.Population(1, mycell, initial_values={'v': -60.0})"
   ]
  },
  {
   "cell_type": "code",
   "execution_count": null,
   "id": "793e0a52",
   "metadata": {},
   "outputs": [],
   "source": [
    "for name, ic in mycell.ion_channels.items():\n",
    "    print(name, ic)"
   ]
  },
  {
   "cell_type": "raw",
   "id": "5dba2ac1",
   "metadata": {},
   "source": [
    "# Paint density mechanisms.\n",
    "decor.paint('\"all\"', arbor.density('pas'))\n",
    "decor.paint('\"custom\"', arbor.density('hh'))\n",
    "decor.paint('\"dend\"',  arbor.density('Ih', {'gbar': 0.001}))"
   ]
  },
  {
   "cell_type": "code",
   "execution_count": null,
   "id": "43f12504",
   "metadata": {},
   "outputs": [],
   "source": [
    "params = {\"pas\": {\"conductance_density\": uniform('all', 0.0003), \"e_rev\":-54.3},\n",
    "          \"na\": {\"conductance_density\": uniform('soma', 0.120), \"e_rev\": 50.0},\n",
    "          \"kdr\": {\"conductance_density\": uniform('soma', 0.036), \"e_rev\": -77.0}}"
   ]
  },
  {
   "cell_type": "code",
   "execution_count": null,
   "id": "e385aee3",
   "metadata": {},
   "outputs": [],
   "source": [
    "mycell.ion_channels[\"na\"]"
   ]
  },
  {
   "cell_type": "code",
   "execution_count": null,
   "id": "ac66b950",
   "metadata": {},
   "outputs": [],
   "source": [
    "params[\"na\"][\"conductance_density\"].selector"
   ]
  },
  {
   "cell_type": "code",
   "execution_count": null,
   "id": "c1eca396",
   "metadata": {},
   "outputs": [],
   "source": [
    "self_selector = params[\"na\"][\"conductance_density\"].selector"
   ]
  },
  {
   "cell_type": "code",
   "execution_count": null,
   "id": "675ae5b6",
   "metadata": {},
   "outputs": [],
   "source": [
    "self_selector"
   ]
  },
  {
   "cell_type": "code",
   "execution_count": null,
   "id": "9fb50885",
   "metadata": {},
   "outputs": [],
   "source": [
    "params[\"na\"][\"conductance_density\"]"
   ]
  },
  {
   "cell_type": "code",
   "execution_count": null,
   "id": "ca06b222",
   "metadata": {},
   "outputs": [],
   "source": [
    "#instance.__class__.__name__\n",
    "params[\"na\"][\"conductance_density\"].__class__.__name__"
   ]
  },
  {
   "cell_type": "code",
   "execution_count": 15,
   "id": "9f351d6c",
   "metadata": {},
   "outputs": [],
   "source": [
    "from pyNN.morphology import load_morphology, uniform, random_section, dendrites, apical_dendrites, by_distance"
   ]
  },
  {
   "cell_type": "code",
   "execution_count": 16,
   "id": "0ce969f7",
   "metadata": {},
   "outputs": [
    {
     "data": {
      "text/plain": [
       "'uniform'"
      ]
     },
     "execution_count": 16,
     "metadata": {},
     "output_type": "execute_result"
    }
   ],
   "source": [
    "un = uniform('all', 0.0003)\n",
    "un.__class__.__name__"
   ]
  },
  {
   "cell_type": "code",
   "execution_count": 17,
   "id": "a2627513",
   "metadata": {},
   "outputs": [
    {
     "data": {
      "text/plain": [
       "'all'"
      ]
     },
     "execution_count": 17,
     "metadata": {},
     "output_type": "execute_result"
    }
   ],
   "source": [
    "un.selector"
   ]
  },
  {
   "cell_type": "code",
   "execution_count": 18,
   "id": "9cbf0520",
   "metadata": {},
   "outputs": [
    {
     "data": {
      "text/plain": [
       "'by_distance'"
      ]
     },
     "execution_count": 18,
     "metadata": {},
     "output_type": "execute_result"
    }
   ],
   "source": [
    "ad = by_distance(apical_dendrites(), lambda d: 0.05*d/200.0)\n",
    "ad.__class__.__name__"
   ]
  },
  {
   "cell_type": "code",
   "execution_count": 19,
   "id": "24562c75",
   "metadata": {},
   "outputs": [
    {
     "data": {
      "text/plain": [
       "<pyNN.morphology.apical_dendrites at 0x7f740efee970>"
      ]
     },
     "execution_count": 19,
     "metadata": {},
     "output_type": "execute_result"
    }
   ],
   "source": [
    "ad.selector"
   ]
  },
  {
   "cell_type": "code",
   "execution_count": 24,
   "id": "ead95339",
   "metadata": {},
   "outputs": [
    {
     "data": {
      "text/plain": [
       "'apical_dendrites'"
      ]
     },
     "execution_count": 24,
     "metadata": {},
     "output_type": "execute_result"
    }
   ],
   "source": [
    "ad.selector.__class__.__name__"
   ]
  },
  {
   "cell_type": "code",
   "execution_count": 20,
   "id": "39cef3f3",
   "metadata": {},
   "outputs": [
    {
     "data": {
      "text/plain": [
       "True"
      ]
     },
     "execution_count": 20,
     "metadata": {},
     "output_type": "execute_result"
    }
   ],
   "source": [
    "type(un.selector) is str"
   ]
  },
  {
   "cell_type": "code",
   "execution_count": 21,
   "id": "ca584ec7",
   "metadata": {},
   "outputs": [
    {
     "data": {
      "text/plain": [
       "True"
      ]
     },
     "execution_count": 21,
     "metadata": {},
     "output_type": "execute_result"
    }
   ],
   "source": [
    "isinstance(un.selector, str)"
   ]
  },
  {
   "cell_type": "code",
   "execution_count": 22,
   "id": "4c78202d",
   "metadata": {},
   "outputs": [
    {
     "data": {
      "text/plain": [
       "'\"everywhere\"'"
      ]
     },
     "execution_count": 22,
     "metadata": {},
     "output_type": "execute_result"
    }
   ],
   "source": [
    "site = '\"{}\"'.format(\"everywhere\")\n",
    "site"
   ]
  },
  {
   "cell_type": "code",
   "execution_count": null,
   "id": "d3a166bd",
   "metadata": {},
   "outputs": [],
   "source": [
    "from pyNN.arbor.procedures.swc_tags_names import get_swc_tag"
   ]
  },
  {
   "cell_type": "code",
   "execution_count": null,
   "id": "32b5aebc",
   "metadata": {},
   "outputs": [],
   "source": [
    "get_swc_tag(\"dendrite\"), get_swc_tag(\"apical_dendrites\"), get_swc_tag(\"basal_dendrites\"), get_swc_tag(\"axon\")"
   ]
  },
  {
   "cell_type": "code",
   "execution_count": null,
   "id": "767c1a76",
   "metadata": {},
   "outputs": [],
   "source": [
    "#selected_indices = self.selector(morphology)\n",
    "pyr_morph1 = load_morphology(\"oi15rpy4-1.CNG.swc\", replace_axon=None)\n",
    "selected_indices = dendrites(pyr_morph1)\n",
    "selected_indices"
   ]
  },
  {
   "cell_type": "code",
   "execution_count": null,
   "id": "d20c33c0",
   "metadata": {},
   "outputs": [],
   "source": [
    "if index in selected_indices:\n",
    "    print(index)"
   ]
  },
  {
   "cell_type": "code",
   "execution_count": null,
   "id": "3b437be0",
   "metadata": {},
   "outputs": [],
   "source": [
    "from pyNN.arbor.cells import ArborTemplate\n",
    "mycell = ArborTemplate(morphology=pyr_morph2,\n",
    "\t\t\tcm=1.0,\n",
    "\t\t\tRa=500.0,\n",
    "\t\t\tna_ion = {\"reversal_potential\": 50.0},\n",
    "\t\t\tk_ion = {\"reversal_potential\": -77.0},\n",
    "\t\t\tpas={\"conductance_density\": uniform('all', 0.0003),\n",
    "\t\t\t\t\"e_rev\":-54.3},\n",
    "\t\t\tna={\"conductance_density\": uniform('soma', 0.120),\n",
    "\t\t\t   \"e_rev\": 50.0},\n",
    "\t\t\tkdr={\"conductance_density\": uniform('soma', 0.036),\n",
    "\t\t\t\t\"e_rev\": -77.0})"
   ]
  },
  {
   "cell_type": "code",
   "execution_count": null,
   "id": "04a64e7f",
   "metadata": {},
   "outputs": [],
   "source": [
    "from pyNN.arbor.procedures.step1 import CreateBackendSegments\n",
    "from pyNN.arbor.procedures.step2 import ConfigureMorphology\n",
    "from pyNN.arbor.procedures.step3 import CreateArborMorphology\n",
    "import copy"
   ]
  },
  {
   "cell_type": "code",
   "execution_count": null,
   "id": "3b53c44a",
   "metadata": {},
   "outputs": [],
   "source": [
    "pyr_morph2 = load_morphology(\"single_cell_detailed.swc\", replace_axon=None)\n",
    "morphology = CreateBackendSegments(pyr_morph2)\n",
    "morphology = ConfigureMorphology.set_soma_index(morphology)\n",
    "arbor_morphology = CreateArborMorphology(morphology)"
   ]
  },
  {
   "cell_type": "code",
   "execution_count": null,
   "id": "7f057160",
   "metadata": {},
   "outputs": [],
   "source": [
    "morphology = CreateBackendSegments(pyr_morph2)"
   ]
  },
  {
   "cell_type": "code",
   "execution_count": null,
   "id": "b02eb1b4",
   "metadata": {},
   "outputs": [],
   "source": [
    "morphology._morphology"
   ]
  },
  {
   "cell_type": "code",
   "execution_count": null,
   "id": "bd1b3d38",
   "metadata": {},
   "outputs": [],
   "source": [
    "pyr_morph2._morphology"
   ]
  },
  {
   "cell_type": "code",
   "execution_count": null,
   "id": "6060becc",
   "metadata": {},
   "outputs": [],
   "source": [
    "import copy\n",
    "morphology = copy.deepcopy(CreateBackendSegments(pyr_morph2))"
   ]
  },
  {
   "cell_type": "code",
   "execution_count": null,
   "id": "da424136",
   "metadata": {},
   "outputs": [],
   "source": [
    "morphology._morphology"
   ]
  },
  {
   "cell_type": "code",
   "execution_count": null,
   "id": "85e24f81",
   "metadata": {},
   "outputs": [],
   "source": [
    "morphology = CreateBackendSegments(pyr_morph2)"
   ]
  },
  {
   "cell_type": "code",
   "execution_count": null,
   "id": "939938eb",
   "metadata": {},
   "outputs": [],
   "source": [
    "type(morphology)"
   ]
  },
  {
   "cell_type": "code",
   "execution_count": null,
   "id": "583a3618",
   "metadata": {},
   "outputs": [],
   "source": [
    "type(pyr_morph2)"
   ]
  },
  {
   "cell_type": "code",
   "execution_count": 1,
   "id": "6285b28e",
   "metadata": {},
   "outputs": [],
   "source": [
    "class Foo(object):\n",
    "    @classmethod\n",
    "    def cbar(cls, x):\n",
    "        return x*x\n",
    "    \n",
    "    @classmethod\n",
    "    def cbar2(cls, x):\n",
    "        return cls.sbar(cls.cbar(x))\n",
    "    \n",
    "    @staticmethod\n",
    "    def sbar(x):\n",
    "        return x+1"
   ]
  },
  {
   "cell_type": "code",
   "execution_count": 2,
   "id": "6b5d0dc4",
   "metadata": {},
   "outputs": [
    {
     "data": {
      "text/plain": [
       "4"
      ]
     },
     "execution_count": 2,
     "metadata": {},
     "output_type": "execute_result"
    }
   ],
   "source": [
    "Foo.cbar(2)"
   ]
  },
  {
   "cell_type": "code",
   "execution_count": 3,
   "id": "6aced662",
   "metadata": {},
   "outputs": [
    {
     "data": {
      "text/plain": [
       "3"
      ]
     },
     "execution_count": 3,
     "metadata": {},
     "output_type": "execute_result"
    }
   ],
   "source": [
    "Foo.sbar(2)"
   ]
  },
  {
   "cell_type": "code",
   "execution_count": 5,
   "id": "f5ad53fb",
   "metadata": {},
   "outputs": [
    {
     "data": {
      "text/plain": [
       "5"
      ]
     },
     "execution_count": 5,
     "metadata": {},
     "output_type": "execute_result"
    }
   ],
   "source": [
    "Foo.cbar2(2)"
   ]
  },
  {
   "cell_type": "code",
   "execution_count": null,
   "id": "70bf37c6",
   "metadata": {},
   "outputs": [],
   "source": [
    "type(Foo.cbar(2)), type(Foo.sbar(2))"
   ]
  },
  {
   "cell_type": "code",
   "execution_count": null,
   "id": "d0411d07",
   "metadata": {},
   "outputs": [],
   "source": [
    "class Foox(object):\n",
    "    def __init__(self):\n",
    "        self.x = 4\n",
    "        self._inc = 5"
   ]
  },
  {
   "cell_type": "code",
   "execution_count": null,
   "id": "1d86e126",
   "metadata": {},
   "outputs": [],
   "source": [
    "a = Foox()\n",
    "a.x, a._inc"
   ]
  },
  {
   "cell_type": "code",
   "execution_count": null,
   "id": "0c4b7eaf",
   "metadata": {},
   "outputs": [],
   "source": [
    "class Fooy(object):\n",
    "    def __init__(self, foox):\n",
    "        self.foox = foox\n",
    "        self.__return()\n",
    "        \n",
    "    def __return(self):\n",
    "        self.x = 5\n",
    "        self._inc = 6\n",
    "        return self.foox"
   ]
  },
  {
   "cell_type": "code",
   "execution_count": null,
   "id": "f2eb828d",
   "metadata": {},
   "outputs": [],
   "source": [
    "b = Fooy(a)"
   ]
  },
  {
   "cell_type": "code",
   "execution_count": null,
   "id": "2994462c",
   "metadata": {},
   "outputs": [],
   "source": [
    "b.x"
   ]
  },
  {
   "cell_type": "code",
   "execution_count": null,
   "id": "ad7296eb",
   "metadata": {},
   "outputs": [],
   "source": [
    "b._inc"
   ]
  },
  {
   "cell_type": "code",
   "execution_count": 9,
   "id": "316d169f",
   "metadata": {},
   "outputs": [
    {
     "data": {
      "text/plain": [
       "8"
      ]
     },
     "execution_count": 9,
     "metadata": {},
     "output_type": "execute_result"
    }
   ],
   "source": [
    "c = [8, 9]\n",
    "c[0]"
   ]
  },
  {
   "cell_type": "code",
   "execution_count": 10,
   "id": "2ebdef57",
   "metadata": {},
   "outputs": [],
   "source": [
    "def bar(x):\n",
    "    return x, x+1"
   ]
  },
  {
   "cell_type": "code",
   "execution_count": 11,
   "id": "ff016192",
   "metadata": {},
   "outputs": [
    {
     "data": {
      "text/plain": [
       "(2, 3)"
      ]
     },
     "execution_count": 11,
     "metadata": {},
     "output_type": "execute_result"
    }
   ],
   "source": [
    "bar(2)"
   ]
  },
  {
   "cell_type": "code",
   "execution_count": 12,
   "id": "7dcbb6d4",
   "metadata": {},
   "outputs": [],
   "source": [
    "d, e = bar(2)"
   ]
  },
  {
   "cell_type": "code",
   "execution_count": 13,
   "id": "ddf6119e",
   "metadata": {},
   "outputs": [
    {
     "name": "stdout",
     "output_type": "stream",
     "text": [
      "2 3\n"
     ]
    }
   ],
   "source": [
    "print(d, e)"
   ]
  },
  {
   "cell_type": "code",
   "execution_count": 14,
   "id": "52c1c19b",
   "metadata": {},
   "outputs": [
    {
     "data": {
      "text/plain": [
       "2"
      ]
     },
     "execution_count": 14,
     "metadata": {},
     "output_type": "execute_result"
    }
   ],
   "source": [
    "d"
   ]
  },
  {
   "cell_type": "code",
   "execution_count": null,
   "id": "58e2992a",
   "metadata": {},
   "outputs": [],
   "source": []
  }
 ],
 "metadata": {
  "kernelspec": {
   "display_name": "Python 3",
   "language": "python",
   "name": "python3"
  },
  "language_info": {
   "codemirror_mode": {
    "name": "ipython",
    "version": 3
   },
   "file_extension": ".py",
   "mimetype": "text/x-python",
   "name": "python",
   "nbconvert_exporter": "python",
   "pygments_lexer": "ipython3",
   "version": "3.8.2"
  }
 },
 "nbformat": 4,
 "nbformat_minor": 5
}
