{
 "cells": [
  {
   "cell_type": "code",
   "execution_count": 1,
   "id": "6eafaffc",
   "metadata": {},
   "outputs": [],
   "source": [
    "from pyNN.morphology import NeuroMLMorphology, load_morphology, uniform, random_section, dendrites, apical_dendrites, by_distance\n",
    "import pyNN.arborproto as sim\n",
    "from pyNN.space import Grid2D, RandomStructure, Sphere"
   ]
  },
  {
   "cell_type": "code",
   "execution_count": 2,
   "id": "0d699b67",
   "metadata": {},
   "outputs": [],
   "source": [
    "neuroml_morph = load_morphology(\"single_cell_detailed.swc\", replace_axon=None)"
   ]
  },
  {
   "cell_type": "code",
   "execution_count": 3,
   "id": "b6e396b9",
   "metadata": {},
   "outputs": [],
   "source": [
    "cc = sim.MultiCompartmentNeuron.setup(\n",
    "\t\t\t\tlabel=\"MyCell\",\n",
    "\t\t\t\tion_channels={'pas': sim.PassiveLeak,\n",
    "\t\t\t\t\t\t\t  'na': sim.NaChannel,\n",
    "\t\t\t\t\t\t\t  'kdr': sim.KdrChannel},\n",
    "\t\t\t\tionic_species={'na_ion': sim.NaIon,\n",
    "\t\t\t\t\t\t\t   'k_ion': sim.KIon},)"
   ]
  },
  {
   "cell_type": "code",
   "execution_count": 4,
   "id": "57ee377d",
   "metadata": {},
   "outputs": [],
   "source": [
    "mycell = cc(morphology=neuroml_morph,\n",
    "\t\t\tcm=1.0,\n",
    "\t\t\tRa=500.0,\n",
    "\t\t\tna_ion = {\"internal_concentration\": 10, \"external_concentration\": 140, \"reversal_potential\": 50},\n",
    "\t\t\tk_ion = {\"internal_concentration\": 54.4, \"external_concentration\": 2.5, \"reversal_potential\": -77},\n",
    "\t\t\tpas={\"conductance_density\": uniform('all', 0.0003), \"e_rev\":-54.3},\n",
    "\t\t\tna={\"conductance_density\": uniform('soma', 0.120), \"e_rev\": 50.0},\n",
    "\t\t\tkdr={\"conductance_density\": uniform('dend', 0.001), \"e_rev\": -77.0},)"
   ]
  },
  {
   "cell_type": "code",
   "execution_count": 5,
   "id": "a195f479",
   "metadata": {},
   "outputs": [],
   "source": [
    "cells = sim.Population(1, mycell, initial_values={'v': [-55]})"
   ]
  },
  {
   "cell_type": "code",
   "execution_count": 6,
   "id": "e50919fe",
   "metadata": {},
   "outputs": [],
   "source": [
    "step_current = sim.DCSource(amplitude=5.0, start=50.0, stop=150.0)\n",
    "# step_current.inject_into(cells[0:1], location=\"soma\")\n",
    "# step_current.inject_into(cells[1:2], location=random_section(apical_dendrites()))\n",
    "cells = step_current.inject_into(cells[0:1], location=\"soma\")"
   ]
  },
  {
   "cell_type": "code",
   "execution_count": 7,
   "id": "bf7506b8",
   "metadata": {},
   "outputs": [],
   "source": [
    "# cells.record('spikes')\n",
    "# cells.record(['na.m', 'na.h', 'kdr.n'], locations={'soma': 'soma'})\n",
    "# cells.record('v', locations={'soma': 'soma', 'dendrite': random_section(apical_dendrites())})"
   ]
  },
  {
   "cell_type": "code",
   "execution_count": 8,
   "id": "ae8649f9",
   "metadata": {},
   "outputs": [],
   "source": [
    "# sim.run(200.0)\n",
    "sim.state.run(200.0, cells)"
   ]
  },
  {
   "cell_type": "code",
   "execution_count": 9,
   "id": "e50fccb5",
   "metadata": {},
   "outputs": [
    {
     "name": "stdout",
     "output_type": "stream",
     "text": [
      "3 spikes:\n",
      "10.812\n",
      "30.832\n",
      "50.834\n"
     ]
    }
   ],
   "source": [
    "if len(sim.state.model.spikes) > 0:\n",
    "    print(\"{} spikes:\".format(len(sim.state.model.spikes)))\n",
    "    for s in sim.state.model.spikes:\n",
    "        print(\"{:3.3f}\".format(s))\n",
    "else:\n",
    "    print(\"no spikes\")"
   ]
  },
  {
   "cell_type": "code",
   "execution_count": 10,
   "id": "a0230c07",
   "metadata": {},
   "outputs": [],
   "source": [
    "from matplotlib import pyplot"
   ]
  },
  {
   "cell_type": "code",
   "execution_count": 12,
   "id": "6e0013e1",
   "metadata": {},
   "outputs": [
    {
     "data": {
      "text/plain": [
       "[<matplotlib.lines.Line2D at 0x7f5f035564c0>]"
      ]
     },
     "execution_count": 12,
     "metadata": {},
     "output_type": "execute_result"
    },
    {
     "data": {
      "image/png": "[encoded data removed]",
      "text/plain": [
       "<Figure size 432x288 with 1 Axes>"
      ]
     },
     "metadata": {
      "needs_background": "light"
     },
     "output_type": "display_data"
    }
   ],
   "source": [
    "pyplot.plot(sim.state.model.traces[0].time, sim.state.model.traces[0].value)"
   ]
  },
  {
   "cell_type": "code",
   "execution_count": 14,
   "id": "d39648b9",
   "metadata": {},
   "outputs": [
    {
     "data": {
      "text/plain": [
       "[10.811716637237645, 30.831771406609164, 50.833796178730736]"
      ]
     },
     "execution_count": 14,
     "metadata": {},
     "output_type": "execute_result"
    }
   ],
   "source": []
  },
  {
   "cell_type": "code",
   "execution_count": null,
   "id": "61a5fb93",
   "metadata": {},
   "outputs": [],
   "source": []
  }
 ],
 "metadata": {
  "kernelspec": {
   "display_name": "Python 3",
   "language": "python",
   "name": "python3"
  },
  "language_info": {
   "codemirror_mode": {
    "name": "ipython",
    "version": 3
   },
   "file_extension": ".py",
   "mimetype": "text/x-python",
   "name": "python",
   "nbconvert_exporter": "python",
   "pygments_lexer": "ipython3",
   "version": "3.8.2"
  }
 },
 "nbformat": 4,
 "nbformat_minor": 5
}
