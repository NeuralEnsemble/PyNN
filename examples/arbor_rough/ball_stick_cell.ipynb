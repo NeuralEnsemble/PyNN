{
 "cells": [
  {
   "cell_type": "code",
   "execution_count": 1,
   "metadata": {},
   "outputs": [],
   "source": [
    "import arbor"
   ]
  },
  {
   "cell_type": "markdown",
   "metadata": {},
   "source": [
    "There are three ways to build a morphology:\n",
    "1. `flat_cell_builder`; recommended for users coming from NEURON.\n",
    "2. `sample_tree`; another manual construction\n",
    "3. Load from an swc file that contains morphology information."
   ]
  },
  {
   "cell_type": "markdown",
   "metadata": {},
   "source": [
    "#### Using `flat_cell_builder`"
   ]
  },
  {
   "cell_type": "code",
   "execution_count": 2,
   "metadata": {},
   "outputs": [],
   "source": [
    "builder = arbor.flat_cell_builder()"
   ]
  },
  {
   "cell_type": "markdown",
   "metadata": {},
   "source": [
    "##### 1. Create a sphere of radius 10 um"
   ]
  },
  {
   "cell_type": "code",
   "execution_count": 3,
   "metadata": {},
   "outputs": [
    {
     "ename": "AttributeError",
     "evalue": "'arbor._arbor.flat_cell_builder' object has no attribute 'add_sphere'",
     "output_type": "error",
     "traceback": [
      "\u001b[0;31m---------------------------------------------------------------------------\u001b[0m",
      "\u001b[0;31mAttributeError\u001b[0m                            Traceback (most recent call last)",
      "\u001b[0;32m<ipython-input-3-11dd81bb0702>\u001b[0m in \u001b[0;36m<module>\u001b[0;34m\u001b[0m\n\u001b[0;32m----> 1\u001b[0;31m \u001b[0mp\u001b[0m \u001b[0;34m=\u001b[0m \u001b[0mbuilder\u001b[0m\u001b[0;34m.\u001b[0m\u001b[0madd_sphere\u001b[0m\u001b[0;34m(\u001b[0m\u001b[0mradius\u001b[0m\u001b[0;34m=\u001b[0m\u001b[0;36m10\u001b[0m\u001b[0;34m,\u001b[0m \u001b[0mname\u001b[0m\u001b[0;34m=\u001b[0m\u001b[0;34m'soma'\u001b[0m\u001b[0;34m)\u001b[0m\u001b[0;34m\u001b[0m\u001b[0;34m\u001b[0m\u001b[0m\n\u001b[0m",
      "\u001b[0;31mAttributeError\u001b[0m: 'arbor._arbor.flat_cell_builder' object has no attribute 'add_sphere'"
     ]
    }
   ],
   "source": [
    "p = builder.add_sphere(radius=10, name='soma')"
   ]
  },
  {
   "cell_type": "code",
   "execution_count": null,
   "metadata": {},
   "outputs": [],
   "source": [
    "builder."
   ]
  },
  {
   "cell_type": "markdown",
   "metadata": {},
   "source": []
  },
  {
   "cell_type": "markdown",
   "metadata": {},
   "source": []
  },
  {
   "cell_type": "markdown",
   "metadata": {},
   "source": [
    "##### 2. Attach a 100 um long cable having 4 um constant radius"
   ]
  },
  {
   "cell_type": "code",
   "execution_count": null,
   "metadata": {},
   "outputs": [],
   "source": [
    "q = builder.add_cable(parent=p, length=100, radius=4, name='dend')"
   ]
  },
  {
   "cell_type": "markdown",
   "metadata": {},
   "source": [
    "##### 3. Attach another two dendrites of cable length 50 um tapering from 4 um radius to 2 um."
   ]
  },
  {
   "cell_type": "code",
   "execution_count": 7,
   "metadata": {},
   "outputs": [],
   "source": [
    "p = builder.add_cable(parent=q, length=50, radius=(4,2), name='dend')\n",
    "p = builder.add_cable(parent=q, length=50, radius=(4,2), name='dend')"
   ]
  },
  {
   "cell_type": "code",
   "execution_count": 3,
   "metadata": {},
   "outputs": [
    {
     "name": "stdout",
     "output_type": "stream",
     "text": [
      "Help on morphology in module arbor._arbor object:\n",
      "\n",
      "class morphology(pybind11_builtins.pybind11_object)\n",
      " |  Method resolution order:\n",
      " |      morphology\n",
      " |      pybind11_builtins.pybind11_object\n",
      " |      builtins.object\n",
      " |  \n",
      " |  Methods defined here:\n",
      " |  \n",
      " |  __init__(...)\n",
      " |      __init__(*args, **kwargs)\n",
      " |      Overloaded function.\n",
      " |      \n",
      " |      1. __init__(self: arbor._arbor.morphology, arg0: arbor._arbor.sample_tree) -> None\n",
      " |      \n",
      " |      2. __init__(self: arbor._arbor.morphology, sample_tree: arbor._arbor.sample_tree, spherical_root: bool) -> None\n",
      " |  \n",
      " |  __str__(...)\n",
      " |      __str__(self: arbor._arbor.morphology) -> str\n",
      " |  \n",
      " |  branch_children(...)\n",
      " |      branch_children(self: arbor._arbor.morphology, i: int) -> List[int]\n",
      " |      \n",
      " |      The child branches of branch i.\n",
      " |  \n",
      " |  branch_indexes(...)\n",
      " |      branch_indexes(self: arbor._arbor.morphology, i: int) -> List[int]\n",
      " |      \n",
      " |      Range of indexes into the sample points in branch i.\n",
      " |  \n",
      " |  branch_parent(...)\n",
      " |      branch_parent(self: arbor._arbor.morphology, i: int) -> int\n",
      " |      \n",
      " |      The parent branch of branch i.\n",
      " |  \n",
      " |  ----------------------------------------------------------------------\n",
      " |  Readonly properties defined here:\n",
      " |  \n",
      " |  empty\n",
      " |      A list with the parent index of each sample.\n",
      " |  \n",
      " |  num_branches\n",
      " |      The number of branches in the morphology.\n",
      " |  \n",
      " |  num_samples\n",
      " |      The number of samples in the morphology.\n",
      " |  \n",
      " |  sample_parents\n",
      " |      The parent indexes of each sample.\n",
      " |  \n",
      " |  samples\n",
      " |      All of the samples in the morphology.\n",
      " |  \n",
      " |  spherical_root\n",
      " |      Whether the root of the morphology is spherical.\n",
      " |  \n",
      " |  ----------------------------------------------------------------------\n",
      " |  Static methods inherited from pybind11_builtins.pybind11_object:\n",
      " |  \n",
      " |  __new__(*args, **kwargs) from pybind11_builtins.pybind11_type\n",
      " |      Create and return a new object.  See help(type) for accurate signature.\n",
      "\n"
     ]
    }
   ],
   "source": [
    "help(builder.morphology)"
   ]
  },
  {
   "cell_type": "code",
   "execution_count": 4,
   "metadata": {},
   "outputs": [
    {
     "name": "stdout",
     "output_type": "stream",
     "text": [
      "Help on class single_cell_model in module arbor._arbor:\n",
      "\n",
      "class single_cell_model(pybind11_builtins.pybind11_object)\n",
      " |  Wrapper for simplified description, and execution, of single cell models.\n",
      " |  \n",
      " |  Method resolution order:\n",
      " |      single_cell_model\n",
      " |      pybind11_builtins.pybind11_object\n",
      " |      builtins.object\n",
      " |  \n",
      " |  Methods defined here:\n",
      " |  \n",
      " |  __init__(...)\n",
      " |      __init__(self: arbor._arbor.single_cell_model, cell: arbor._arbor.cable_cell) -> None\n",
      " |      \n",
      " |      Initialise a single cell model for a cable cell.\n",
      " |  \n",
      " |  __repr__(...)\n",
      " |      __repr__(self: arbor._arbor.single_cell_model) -> str\n",
      " |  \n",
      " |  __str__(...)\n",
      " |      __str__(self: arbor._arbor.single_cell_model) -> str\n",
      " |  \n",
      " |  add_ion(...)\n",
      " |      add_ion(self: arbor._arbor.single_cell_model, ion: str, valence: float, int_con: float, ext_con: float, rev_pot: float) -> None\n",
      " |      \n",
      " |      Add a new ion species to the model.\n",
      " |       ion: name of the ion species.\n",
      " |       valence: valence of the ion species.\n",
      " |       int_con: initial internal concentration [mM].\n",
      " |       ext_con: initial external concentration [mM].\n",
      " |       rev_pot: reversal potential [mV].\n",
      " |  \n",
      " |  probe(...)\n",
      " |      probe(*args, **kwargs)\n",
      " |      Overloaded function.\n",
      " |      \n",
      " |      1. probe(self: arbor._arbor.single_cell_model, what: str, where: str, frequency: float) -> None\n",
      " |      \n",
      " |      Sample a variable on the cell.\n",
      " |       what:      Name of the variable to record (currently only 'voltage').\n",
      " |       where:     Location on cell morphology at which to sample the variable.\n",
      " |       frequency: The target frequency at which to sample [Hz].\n",
      " |      \n",
      " |      2. probe(self: arbor._arbor.single_cell_model, what: str, where: arbor._arbor.location, frequency: float) -> None\n",
      " |      \n",
      " |      Sample a variable on the cell.\n",
      " |       what:      Name of the variable to record (currently only 'voltage').\n",
      " |       where:     Location on cell morphology at which to sample the variable.\n",
      " |       frequency: The target frequency at which to sample [Hz].\n",
      " |  \n",
      " |  run(...)\n",
      " |      run(self: arbor._arbor.single_cell_model, tfinal: float) -> None\n",
      " |      \n",
      " |      Run model from t=0 to t=tfinal ms.\n",
      " |  \n",
      " |  ----------------------------------------------------------------------\n",
      " |  Readonly properties defined here:\n",
      " |  \n",
      " |  spikes\n",
      " |      Holds spike times [ms] after a call to run().\n",
      " |  \n",
      " |  traces\n",
      " |      Holds sample traces after a call to run().\n",
      " |  \n",
      " |  ----------------------------------------------------------------------\n",
      " |  Static methods inherited from pybind11_builtins.pybind11_object:\n",
      " |  \n",
      " |  __new__(*args, **kwargs) from pybind11_builtins.pybind11_type\n",
      " |      Create and return a new object.  See help(type) for accurate signature.\n",
      "\n"
     ]
    }
   ],
   "source": [
    "help(arbor.single_cell_model)"
   ]
  },
  {
   "cell_type": "code",
   "execution_count": 5,
   "metadata": {},
   "outputs": [
    {
     "data": {
      "text/plain": [
       "'0.3.1-dev'"
      ]
     },
     "execution_count": 5,
     "metadata": {},
     "output_type": "execute_result"
    }
   ],
   "source": [
    "arbor.__version__"
   ]
  },
  {
   "cell_type": "code",
   "execution_count": null,
   "metadata": {},
   "outputs": [],
   "source": []
  }
 ],
 "metadata": {
  "kernelspec": {
   "display_name": "Python 3",
   "language": "python",
   "name": "python3"
  },
  "language_info": {
   "codemirror_mode": {
    "name": "ipython",
    "version": 3
   },
   "file_extension": ".py",
   "mimetype": "text/x-python",
   "name": "python",
   "nbconvert_exporter": "python",
   "pygments_lexer": "ipython3",
   "version": "3.8.2"
  }
 },
 "nbformat": 4,
 "nbformat_minor": 4
}
