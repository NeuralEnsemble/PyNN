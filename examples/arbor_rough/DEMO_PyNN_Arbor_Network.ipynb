{
 "cells": [
  {
   "cell_type": "code",
   "execution_count": 1,
   "id": "e3b5881b",
   "metadata": {},
   "outputs": [],
   "source": [
    "from pyNN.morphology import NeuroMLMorphology, load_morphology, uniform, random_section, dendrites, apical_dendrites, by_distance\n",
    "import pyNN.arborproto as sim\n",
    "from pyNN.space import Grid2D, RandomStructure, Sphere"
   ]
  },
  {
   "cell_type": "code",
   "execution_count": 2,
   "id": "7aaecf22",
   "metadata": {},
   "outputs": [],
   "source": [
    "neuroml_morph = load_morphology(\"single_cell_detailed.swc\", replace_axon=None)"
   ]
  },
  {
   "cell_type": "code",
   "execution_count": 3,
   "id": "654b866a",
   "metadata": {},
   "outputs": [],
   "source": [
    "cc = sim.MultiCompartmentNeuron.setup(\n",
    "\t\t\t\tlabel=\"MyCell\",\n",
    "\t\t\t\tion_channels={'pas': sim.PassiveLeak,\n",
    "\t\t\t\t\t\t\t  'na': sim.NaChannel,\n",
    "\t\t\t\t\t\t\t  'kdr': sim.KdrChannel},\n",
    "\t\t\t\tionic_species={'na_ion': sim.NaIon,\n",
    "\t\t\t\t\t\t\t   'k_ion': sim.KIon},\n",
    "                post_synaptic_entities={'AMPA': sim.CondExpPostSynapticResponse,\n",
    "                                        'GABA_A': sim.CondExpPostSynapticResponse})\n",
    "mycell = cc(morphology=neuroml_morph,\n",
    "\t\t\tcm=1.0,\n",
    "\t\t\tRa=500.0,\n",
    "\t\t\tna_ion = {\"reversal_potential\": 50.0},\n",
    "\t\t\tk_ion = {\"reversal_potential\": -77.0},\n",
    "\t\t\tpas={\"conductance_density\": uniform('all', 0.0003),\n",
    "\t\t\t\t\"e_rev\":-54.3},\n",
    "\t\t\tna={\"conductance_density\": uniform('soma', 0.120),\n",
    "\t\t\t   \"e_rev\": 50.0},\n",
    "\t\t\tkdr={\"conductance_density\": uniform('soma', 0.036),\n",
    "\t\t\t\t\"e_rev\": -77.0},\n",
    "            AMPA={\"density\": uniform('all', 0.05),  # number per µm\n",
    "                  \"e_rev\": 0.0,\n",
    "                  \"tau_syn\": 2.0},\n",
    "            GABA_A={\"density\": by_distance(dendrites(), lambda d: 0.05 * (d < 50.0)),  # number per µm\n",
    "                    \"e_rev\": -70.0,\n",
    "                    \"tau_syn\": 5.0})"
   ]
  },
  {
   "cell_type": "code",
   "execution_count": 4,
   "id": "ca379502",
   "metadata": {
    "scrolled": true
   },
   "outputs": [],
   "source": [
    "cells = sim.Population(2, pyramidal_cell, initial_values={'v': -60.0}, structure=Grid2D())"
   ]
  },
  {
   "cell_type": "code",
   "execution_count": 5,
   "id": "e9c5a4bd",
   "metadata": {},
   "outputs": [],
   "source": [
    "inputs = sim.Population(10, sim.SpikeSourcePoisson(rate=1000.0))"
   ]
  },
  {
   "cell_type": "code",
   "execution_count": 6,
   "id": "9ce96d93",
   "metadata": {},
   "outputs": [
    {
     "data": {
      "text/plain": [
       "Population(10, SpikeSourcePoisson(<parameters>), structure=Line(dx=1.0, x0=0.0, y=0.0, z=0.0), label='population1')"
      ]
     },
     "execution_count": 6,
     "metadata": {},
     "output_type": "execute_result"
    }
   ],
   "source": [
    "cells.record('spikes')\n",
    "cells[:1].record('v', locations={\"soma\": \"soma\"})\n",
    "cells[:1].record('v', locations={\"dend\": apical_dendrites()})"
   ]
  },
  {
   "cell_type": "code",
   "execution_count": null,
   "id": "15b118d0",
   "metadata": {},
   "outputs": [],
   "source": [
    "i2p = sim.Projection(inputs, cells,\n",
    "                     connector=sim.AllToAllConnector(location_selector=random_section(apical_dendrites())),\n",
    "                     synapse_type=sim.StaticSynapse(weight=0.5, delay=0.5),\n",
    "                     receptor_type=\"AMPA\"\n",
    "                     )\n",
    "\n",
    "print(\"Running simulation\")\n",
    "\n",
    "sim.run(10)\n",
    "\n",
    "# (pyramidal_cells + interneurons).write_data(\"output.h5\")\n",
    "data = pyramidal_cells.get_data().segments[0]\n",
    "\n",
    "sim.end()"
   ]
  },
  {
   "cell_type": "code",
   "execution_count": null,
   "id": "705c803c",
   "metadata": {},
   "outputs": [],
   "source": [
    "# sim.run(200.0)\n",
    "sim.state.run(200.0, cells)"
   ]
  },
  {
   "cell_type": "code",
   "execution_count": null,
   "id": "836b91fc",
   "metadata": {},
   "outputs": [],
   "source": [
    "sim.model"
   ]
  },
  {
   "cell_type": "code",
   "execution_count": null,
   "id": "dcc8b2c6",
   "metadata": {},
   "outputs": [],
   "source": [
    "cells.size"
   ]
  },
  {
   "cell_type": "code",
   "execution_count": null,
   "id": "7efe8e3d",
   "metadata": {},
   "outputs": [],
   "source": [
    "sim.run"
   ]
  },
  {
   "cell_type": "code",
   "execution_count": null,
   "id": "c7e55a26",
   "metadata": {},
   "outputs": [],
   "source": [
    "cells.all_cells.size"
   ]
  },
  {
   "cell_type": "code",
   "execution_count": null,
   "id": "fd33e6cb",
   "metadata": {},
   "outputs": [],
   "source": [
    "type(cells)"
   ]
  },
  {
   "cell_type": "code",
   "execution_count": null,
   "id": "b80d36b0",
   "metadata": {},
   "outputs": [],
   "source": [
    "help(cells.record)"
   ]
  },
  {
   "cell_type": "code",
   "execution_count": null,
   "id": "cbb2464e",
   "metadata": {},
   "outputs": [],
   "source": [
    "print(step_current)"
   ]
  },
  {
   "cell_type": "code",
   "execution_count": null,
   "id": "6d9c8a11",
   "metadata": {},
   "outputs": [],
   "source": [
    "step_current.__dict__"
   ]
  },
  {
   "cell_type": "code",
   "execution_count": null,
   "id": "81d57759",
   "metadata": {},
   "outputs": [],
   "source": [
    "step_current.amplitude"
   ]
  },
  {
   "cell_type": "code",
   "execution_count": null,
   "id": "87da64d8",
   "metadata": {},
   "outputs": [],
   "source": [
    "cells"
   ]
  },
  {
   "cell_type": "code",
   "execution_count": null,
   "id": "68c5cd9e",
   "metadata": {},
   "outputs": [],
   "source": [
    "cells.all_cells"
   ]
  },
  {
   "cell_type": "code",
   "execution_count": null,
   "id": "659b3b9a",
   "metadata": {},
   "outputs": [],
   "source": [
    "cells.all_cells[0]"
   ]
  },
  {
   "cell_type": "code",
   "execution_count": null,
   "id": "f0326e14",
   "metadata": {},
   "outputs": [],
   "source": [
    "cells[0:1]"
   ]
  },
  {
   "cell_type": "code",
   "execution_count": null,
   "id": "a51c64e6",
   "metadata": {},
   "outputs": [],
   "source": [
    "cells[0:1].celltype"
   ]
  },
  {
   "cell_type": "code",
   "execution_count": null,
   "id": "79e6901e",
   "metadata": {},
   "outputs": [],
   "source": [
    "isinstance(cells[0:1].celltype, sim.MultiCompartmentNeuron)"
   ]
  },
  {
   "cell_type": "code",
   "execution_count": null,
   "id": "0a7c668a",
   "metadata": {
    "scrolled": true
   },
   "outputs": [],
   "source": [
    "cells[0:1].all_cells[0]._cell"
   ]
  },
  {
   "cell_type": "code",
   "execution_count": null,
   "id": "a13f5a54",
   "metadata": {},
   "outputs": [],
   "source": [
    "type(mycell)"
   ]
  },
  {
   "cell_type": "code",
   "execution_count": null,
   "id": "14b7c3cf",
   "metadata": {},
   "outputs": [],
   "source": [
    "mycell.model"
   ]
  },
  {
   "cell_type": "code",
   "execution_count": null,
   "id": "bfe4aa87",
   "metadata": {},
   "outputs": [],
   "source": [
    "mycell.model.ion_channels"
   ]
  },
  {
   "cell_type": "code",
   "execution_count": null,
   "id": "86ac324e",
   "metadata": {},
   "outputs": [],
   "source": [
    "print(mycell.model._decor)"
   ]
  },
  {
   "cell_type": "code",
   "execution_count": null,
   "id": "e1f3a2a1",
   "metadata": {},
   "outputs": [],
   "source": [
    "print(mycell.parameter_space)"
   ]
  },
  {
   "cell_type": "code",
   "execution_count": null,
   "id": "8b1675cd",
   "metadata": {},
   "outputs": [],
   "source": [
    "for key in mycell.parameter_space.keys():\n",
    "    print(key)"
   ]
  },
  {
   "cell_type": "code",
   "execution_count": null,
   "id": "59e3e9ce",
   "metadata": {},
   "outputs": [],
   "source": [
    "mycell.parameter_space[\"morphology\"]"
   ]
  },
  {
   "cell_type": "code",
   "execution_count": null,
   "id": "cb543503",
   "metadata": {},
   "outputs": [],
   "source": [
    "mycell.parameter_space[\"morphology\"].item()"
   ]
  },
  {
   "cell_type": "code",
   "execution_count": null,
   "id": "a1635572",
   "metadata": {},
   "outputs": [],
   "source": [
    "pyr_morph2 = load_morphology(\"single_cell_detailed.swc\", replace_axon=None)"
   ]
  },
  {
   "cell_type": "code",
   "execution_count": null,
   "id": "73bb348f",
   "metadata": {},
   "outputs": [],
   "source": [
    "from pyNN.morphology import load_morphology, uniform, random_section, dendrites, apical_dendrites, by_distance"
   ]
  },
  {
   "cell_type": "code",
   "execution_count": null,
   "id": "d9fc2d3d",
   "metadata": {},
   "outputs": [],
   "source": [
    "x = uniform('all', 0.0003)\n",
    "y = by_distance(dendrites(), lambda d: 0.05 * (d < 50.0))"
   ]
  },
  {
   "cell_type": "code",
   "execution_count": null,
   "id": "1aebe4c8",
   "metadata": {},
   "outputs": [],
   "source": [
    "x.selector"
   ]
  },
  {
   "cell_type": "code",
   "execution_count": null,
   "id": "f6cd148b",
   "metadata": {},
   "outputs": [],
   "source": [
    "y.selector"
   ]
  },
  {
   "cell_type": "code",
   "execution_count": null,
   "id": "356ce642",
   "metadata": {},
   "outputs": [],
   "source": [
    "y.selector.__class__.__name__"
   ]
  },
  {
   "cell_type": "code",
   "execution_count": null,
   "id": "a176b076",
   "metadata": {},
   "outputs": [],
   "source": [
    "y.distance_function(1)"
   ]
  },
  {
   "cell_type": "code",
   "execution_count": null,
   "id": "dfa5dc35",
   "metadata": {},
   "outputs": [],
   "source": [
    "import arbor"
   ]
  },
  {
   "cell_type": "code",
   "execution_count": null,
   "id": "b280375d",
   "metadata": {},
   "outputs": [],
   "source": [
    "decor1 = arbor.decor()\n",
    "decor2 = arbor.decor()"
   ]
  },
  {
   "cell_type": "code",
   "execution_count": null,
   "id": "eb098733",
   "metadata": {},
   "outputs": [],
   "source": [
    "decor1.paint"
   ]
  },
  {
   "cell_type": "code",
   "execution_count": null,
   "id": "08763b8a",
   "metadata": {},
   "outputs": [],
   "source": [
    "decor1.paint = decor2.paint"
   ]
  },
  {
   "cell_type": "code",
   "execution_count": null,
   "id": "f8e21c3d",
   "metadata": {},
   "outputs": [],
   "source": [
    "help(decor1)"
   ]
  },
  {
   "cell_type": "code",
   "execution_count": null,
   "id": "e7ef2725",
   "metadata": {},
   "outputs": [],
   "source": [
    "import arbor"
   ]
  },
  {
   "cell_type": "code",
   "execution_count": null,
   "id": "c508d9a6",
   "metadata": {},
   "outputs": [],
   "source": [
    "labels = arbor.label_dict({\n",
    "  \"soma\": \"(tag 1)\",\n",
    "  \"axon\": \"(tag 2)\",\n",
    "  \"dend\": \"(tag 3)\",\n",
    "  \"apic\": \"(tag 4)\",\n",
    "})"
   ]
  },
  {
   "cell_type": "code",
   "execution_count": null,
   "id": "65dc2fe1",
   "metadata": {},
   "outputs": [],
   "source": [
    "labels"
   ]
  },
  {
   "cell_type": "code",
   "execution_count": null,
   "id": "2edcb64f",
   "metadata": {},
   "outputs": [],
   "source": [
    "labels.append({\"apic2\": \"(tag 5)\"})"
   ]
  },
  {
   "cell_type": "code",
   "execution_count": null,
   "id": "ceca41f7",
   "metadata": {},
   "outputs": [],
   "source": [
    "labels"
   ]
  },
  {
   "cell_type": "code",
   "execution_count": null,
   "id": "1dca9f34",
   "metadata": {},
   "outputs": [],
   "source": [
    "labels[\"apic2\"] = \"(tag 5)\""
   ]
  },
  {
   "cell_type": "code",
   "execution_count": null,
   "id": "d51d3ca8",
   "metadata": {},
   "outputs": [],
   "source": [
    "labels"
   ]
  },
  {
   "cell_type": "code",
   "execution_count": null,
   "id": "2267536f",
   "metadata": {},
   "outputs": [],
   "source": [
    "import arbor"
   ]
  },
  {
   "cell_type": "code",
   "execution_count": null,
   "id": "ba8f0480",
   "metadata": {},
   "outputs": [],
   "source": [
    "help(arbor.decor)"
   ]
  },
  {
   "cell_type": "code",
   "execution_count": null,
   "id": "88c71fee",
   "metadata": {},
   "outputs": [],
   "source": []
  }
 ],
 "metadata": {
  "kernelspec": {
   "display_name": "Python 3",
   "language": "python",
   "name": "python3"
  },
  "language_info": {
   "codemirror_mode": {
    "name": "ipython",
    "version": 3
   },
   "file_extension": ".py",
   "mimetype": "text/x-python",
   "name": "python",
   "nbconvert_exporter": "python",
   "pygments_lexer": "ipython3",
   "version": "3.8.2"
  }
 },
 "nbformat": 4,
 "nbformat_minor": 5
}
