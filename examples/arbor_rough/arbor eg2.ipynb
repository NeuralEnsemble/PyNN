{
 "cells": [
  {
   "cell_type": "markdown",
   "id": "4ebf2b4a",
   "metadata": {},
   "source": [
    "[https://docs.arbor-sim.org/en/stable/tutorial/single_cell_recipe.html](https://docs.arbor-sim.org/en/stable/tutorial/single_cell_recipe.html)"
   ]
  },
  {
   "cell_type": "code",
   "execution_count": 1,
   "id": "ee63d23f",
   "metadata": {},
   "outputs": [],
   "source": [
    "import arbor"
   ]
  },
  {
   "cell_type": "code",
   "execution_count": 2,
   "id": "9f07cc83",
   "metadata": {},
   "outputs": [],
   "source": [
    "# (1) Create a morphology with a single (cylindrical) segment of length=diameter=6 μm\n",
    "tree = arbor.segment_tree()\n",
    "tree.append(arbor.mnpos, arbor.mpoint(-3, 0, 0, 3), arbor.mpoint(3, 0, 0, 3), tag=1)\n",
    "\n",
    "# (2) Define the soma and its midpoint\n",
    "labels = arbor.label_dict({'soma':   '(tag 1)',\n",
    "                           'midpoint': '(location 0 0.5)'})\n",
    "\n",
    "# (3) Create and set up a decor object\n",
    "decor = arbor.decor()\n",
    "decor.set_property(Vm=-40)\n",
    "decor.paint('\"soma\"', arbor.density('hh'))\n",
    "decor.place('\"midpoint\"', arbor.iclamp( 10, 2, 0.8), \"iclamp\")\n",
    "decor.place('\"midpoint\"', arbor.spike_detector(-10), \"detector\")\n",
    "\n",
    "# (4) Create cell and the single cell model based on it\n",
    "cell = arbor.cable_cell(tree, labels, decor)"
   ]
  },
  {
   "cell_type": "code",
   "execution_count": 3,
   "id": "4478a74f",
   "metadata": {},
   "outputs": [],
   "source": [
    "# (4) Define a recipe for a single cell and set of probes upon it.\n",
    "# This constitutes the corresponding generic recipe version of\n",
    "# `single_cell_model.py`.\n",
    "class single_recipe (arbor.recipe):\n",
    "    def __init__(self, cell, probes):\n",
    "        # (4.1) The base C++ class constructor must be called first, to ensure that\n",
    "        # all memory in the C++ class is initialized correctly.\n",
    "        arbor.recipe.__init__(self)\n",
    "        self.the_cell = cell\n",
    "        self.the_probes = probes\n",
    "        self.the_props = arbor.neuron_cable_properties()\n",
    "\n",
    "    def num_cells(self):\n",
    "        # (4.2) Override the num_cells method\n",
    "        return 1\n",
    "\n",
    "    def cell_kind(self, gid):\n",
    "        # (4.3) Override the cell_kind method\n",
    "        return arbor.cell_kind.cable\n",
    "\n",
    "    def cell_description(self, gid):\n",
    "        # (4.4) Override the cell_description method\n",
    "        return self.the_cell\n",
    "\n",
    "    def probes(self, gid):\n",
    "        # (4.5) Override the probes method\n",
    "        return self.the_probes\n",
    "\n",
    "    def global_properties(self, kind):\n",
    "        # (4.6) Override the global_properties method\n",
    "        return self.the_props"
   ]
  },
  {
   "cell_type": "code",
   "execution_count": 4,
   "id": "b16b448f",
   "metadata": {},
   "outputs": [],
   "source": [
    "# (5) Instantiate recipe with a voltage probe located on \"midpoint\".\n",
    "recipe = single_recipe(cell, [arbor.cable_probe_membrane_voltage('\"midpoint\"')])"
   ]
  },
  {
   "cell_type": "code",
   "execution_count": 5,
   "id": "802bcf99",
   "metadata": {},
   "outputs": [],
   "source": [
    "# (6) Create a default execution context and a default domain decomposition.\n",
    "context = arbor.context()\n",
    "domains = arbor.partition_load_balance(recipe, context)"
   ]
  },
  {
   "cell_type": "code",
   "execution_count": 6,
   "id": "d2acc37e",
   "metadata": {},
   "outputs": [
    {
     "data": {
      "text/plain": [
       "30.0"
      ]
     },
     "execution_count": 6,
     "metadata": {},
     "output_type": "execute_result"
    }
   ],
   "source": [
    "# (7) Create and run simulation and set up 10 kHz (every 0.1 ms) sampling on the probe.\n",
    "# The probe is located on cell 0, and is the 0th probe on that cell, thus has probe_id (0, 0).\n",
    "sim = arbor.simulation(recipe, domains, context)\n",
    "sim.record(arbor.spike_recording.all)\n",
    "handle = sim.sample((0, 0), arbor.regular_schedule(0.1))\n",
    "sim.run(tfinal=30)"
   ]
  },
  {
   "cell_type": "code",
   "execution_count": 7,
   "id": "874c7762",
   "metadata": {},
   "outputs": [
    {
     "name": "stdout",
     "output_type": "stream",
     "text": [
      "1 spikes:\n",
      "10.084\n"
     ]
    }
   ],
   "source": [
    "# (8) Collect results.\n",
    "spikes = sim.spikes()\n",
    "data, meta = sim.samples(handle)[0]\n",
    "\n",
    "if len(spikes)>0:\n",
    "    print('{} spikes:'.format(len(spikes)))\n",
    "    for t in spikes['time']:\n",
    "        print('{:3.3f}'.format(t))\n",
    "else:\n",
    "    print('no spikes')"
   ]
  },
  {
   "cell_type": "code",
   "execution_count": null,
   "id": "64b64f02",
   "metadata": {},
   "outputs": [],
   "source": []
  }
 ],
 "metadata": {
  "kernelspec": {
   "display_name": "Python 3 (ipykernel)",
   "language": "python",
   "name": "python3"
  },
  "language_info": {
   "codemirror_mode": {
    "name": "ipython",
    "version": 3
   },
   "file_extension": ".py",
   "mimetype": "text/x-python",
   "name": "python",
   "nbconvert_exporter": "python",
   "pygments_lexer": "ipython3",
   "version": "3.8.2"
  }
 },
 "nbformat": 4,
 "nbformat_minor": 5
}
