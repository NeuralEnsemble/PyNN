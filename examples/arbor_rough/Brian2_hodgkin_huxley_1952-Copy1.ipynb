{
 "cells": [
  {
   "cell_type": "code",
   "execution_count": 1,
   "metadata": {},
   "outputs": [],
   "source": [
    "from brian2 import *"
   ]
  },
  {
   "cell_type": "code",
   "execution_count": 2,
   "metadata": {},
   "outputs": [],
   "source": [
    "morpho = Cylinder(length=10*cm, diameter=2*238*um, n=1000, type='axon')"
   ]
  },
  {
   "cell_type": "code",
   "execution_count": 3,
   "metadata": {},
   "outputs": [],
   "source": [
    "el = 10.613*mV\n",
    "ena = 115*mV\n",
    "ek = -12*mV\n",
    "gl = 0.3*msiemens/cm**2\n",
    "gNa0 = 120*msiemens/cm**2\n",
    "gk = 36*msiemens/cm**2"
   ]
  },
  {
   "cell_type": "code",
   "execution_count": 4,
   "metadata": {},
   "outputs": [],
   "source": [
    "# Typical equations\n",
    "eqs = '''\n",
    "# The same equations for the whole neuron, but possibly different parameter values\n",
    "# distributed transmembrane current\n",
    "Im = gl * (el-v) + gNa * m**3 * h * (ena-v) + gk * n**4 * (ek-v) : amp/meter**2\n",
    "I : amp (point current) # applied current\n",
    "dm/dt = alpham * (1-m) - betam * m : 1\n",
    "dn/dt = alphan * (1-n) - betan * n : 1\n",
    "dh/dt = alphah * (1-h) - betah * h : 1\n",
    "alpham = (0.1/mV) * 10*mV/exprel((-v+25*mV)/(10*mV))/ms : Hz\n",
    "betam = 4 * exp(-v/(18*mV))/ms : Hz\n",
    "alphah = 0.07 * exp(-v/(20*mV))/ms : Hz\n",
    "betah = 1/(exp((-v+30*mV) / (10*mV)) + 1)/ms : Hz\n",
    "alphan = (0.01/mV) * 10*mV/exprel((-v+10*mV)/(10*mV))/ms : Hz\n",
    "betan = 0.125*exp(-v/(80*mV))/ms : Hz\n",
    "gNa : siemens/meter**2\n",
    "'''"
   ]
  },
  {
   "cell_type": "code",
   "execution_count": 5,
   "metadata": {},
   "outputs": [],
   "source": [
    "neuron = SpatialNeuron(morphology=morpho, model=eqs, Cm=1*uF/cm**2,\n",
    "                       Ri=35.4*ohm*cm, method=\"exponential_euler\")"
   ]
  },
  {
   "cell_type": "code",
   "execution_count": 6,
   "metadata": {},
   "outputs": [],
   "source": [
    "neuron.v = 0*mV\n",
    "neuron.h = 1\n",
    "neuron.m = 0\n",
    "neuron.n = .5\n",
    "neuron.I = 0\n",
    "neuron.gNa = gNa0\n",
    "neuron[5*cm:10*cm].gNa = 0*siemens/cm**2"
   ]
  },
  {
   "cell_type": "code",
   "execution_count": 7,
   "metadata": {},
   "outputs": [],
   "source": [
    "M = StateMonitor(neuron, 'v', record=True)"
   ]
  },
  {
   "cell_type": "code",
   "execution_count": 8,
   "metadata": {},
   "outputs": [
    {
     "name": "stderr",
     "output_type": "stream",
     "text": [
      "WARNING    The expression \"1 / 20\" divides two integer values. In previous versions of Brian, this would have used either an integer (\"flooring\") or a floating point division, depending on the Python version and the code generation target. In the current version, it always uses a floating point division. Explicitly ask for an  integer division (\"//\"), or turn one of the operands into a floating point value (e.g. replace \"1/2\" by \"1.0/2\") to no longer receive this warning. [brian2.parsing.bast.floating_point_division]\n",
      "WARNING    The expression \"5 / 2\" divides two integer values. In previous versions of Brian, this would have used either an integer (\"flooring\") or a floating point division, depending on the Python version and the code generation target. In the current version, it always uses a floating point division. Explicitly ask for an  integer division (\"//\"), or turn one of the operands into a floating point value (e.g. replace \"1/2\" by \"1.0/2\") to no longer receive this warning. [brian2.parsing.bast.floating_point_division]\n",
      "WARNING    The expression \"1 / 18\" divides two integer values. In previous versions of Brian, this would have used either an integer (\"flooring\") or a floating point division, depending on the Python version and the code generation target. In the current version, it always uses a floating point division. Explicitly ask for an  integer division (\"//\"), or turn one of the operands into a floating point value (e.g. replace \"1/2\" by \"1.0/2\") to no longer receive this warning. [brian2.parsing.bast.floating_point_division]\n",
      "WARNING    The expression \"1 / 80\" divides two integer values. In previous versions of Brian, this would have used either an integer (\"flooring\") or a floating point division, depending on the Python version and the code generation target. In the current version, it always uses a floating point division. Explicitly ask for an  integer division (\"//\"), or turn one of the operands into a floating point value (e.g. replace \"1/2\" by \"1.0/2\") to no longer receive this warning. [brian2.parsing.bast.floating_point_division]\n"
     ]
    },
    {
     "name": "stdout",
     "output_type": "stream",
     "text": [
      "Starting simulation at t=0. s for a duration of 50. ms\n",
      "50. ms (100%) simulated in < 1s\n",
      "Starting simulation at t=53. ms for a duration of 100. ms\n",
      "100. ms (100%) simulated in < 1s\n"
     ]
    }
   ],
   "source": [
    "run(50*ms, report='text')\n",
    "neuron.I[0] = 1*uA  # current injection at one end\n",
    "run(3*ms)\n",
    "neuron.I = 0*amp\n",
    "run(100*ms, report='text')"
   ]
  },
  {
   "cell_type": "code",
   "execution_count": 9,
   "metadata": {},
   "outputs": [
    {
     "data": {
      "image/png": "[encoded data removed]",
      "text/plain": [
       "<Figure size 432x288 with 1 Axes>"
      ]
     },
     "metadata": {
      "needs_background": "light"
     },
     "output_type": "display_data"
    }
   ],
   "source": [
    "for i in range(75, 125, 1):\n",
    "    plot(cumsum(neuron.length)/cm, i+(1./60)*M.v[:, i*5]/mV, 'k')\n",
    "yticks([])\n",
    "ylabel('Time [major] v (mV) [minor]')\n",
    "xlabel('Position (cm)')\n",
    "axis('tight')\n",
    "show()"
   ]
  },
  {
   "cell_type": "code",
   "execution_count": 10,
   "metadata": {},
   "outputs": [
    {
     "data": {
      "text/latex": [
       "\\begin{align*}alphan &= \\frac{0.1}{ms \\operatorname{exprel}{\\left(\\frac{10 mV - v}{10 mV} \\right)}} && \\text{(unit of $alphan$: $\\mathrm{Hz}$)}\\\\\n",
       "gtot^{private} &= gNa h m^{3} + gk n^{4} + gl && \\text{(unit of $gtot^{private}$: $\\frac{\\mathrm{S}}{\\mathrm{m}^{2}}$)}\\\\\n",
       "I^{private}_{0} &= \\frac{I}{area} + ek gk n^{4} + el gl + ena gNa h m^{3} && \\text{(unit of $I^{private}_{0}$: $\\frac{\\mathrm{A}}{\\mathrm{m}^{2}}$)}\\\\\n",
       "time_{constant} &= \\frac{Cm}{gtot^{private}} && \\text{(unit of $time_{constant}$: $\\mathrm{s}$)}\\\\\n",
       "alpham &= \\frac{1.0}{ms \\operatorname{exprel}{\\left(\\frac{25 mV - v}{10 mV} \\right)}} && \\text{(unit of $alpham$: $\\mathrm{Hz}$)}\\\\\n",
       "betah &= \\frac{1}{ms \\left(e^{\\frac{30 mV - v}{10 mV}} + 1\\right)} && \\text{(unit of $betah$: $\\mathrm{Hz}$)}\\\\\n",
       "betam &= \\frac{4 e^{- \\frac{v}{18 mV}}}{ms} && \\text{(unit of $betam$: $\\mathrm{Hz}$)}\\\\\n",
       "alphah &= \\frac{0.07 e^{- \\frac{v}{20 mV}}}{ms} && \\text{(unit of $alphah$: $\\mathrm{Hz}$)}\\\\\n",
       "betan &= \\frac{0.125 e^{- \\frac{v}{80 mV}}}{ms} && \\text{(unit of $betan$: $\\mathrm{Hz}$)}\\\\\n",
       "Im &= \\frac{I}{area} + gNa h m^{3} \\left(ena - v\\right) + gk n^{4} \\left(ek - v\\right) + gl \\left(el - v\\right) && \\text{(unit of $Im$: $\\frac{\\mathrm{A}}{\\mathrm{m}^{2}}$)}\\\\\n",
       "space_{constant} &= \\frac{0.629960524947437 \\left(\\frac{area}{\\frac{1}{r_{length 2}} + \\frac{1}{r_{length 1}}}\\right)^{0.166666666666667}}{\\pi^{0.333333333333333} \\left(Ri gtot^{private}\\right)^{0.5}} && \\text{(unit of $space_{constant}$: $\\mathrm{m}$)}\\\\\n",
       "\\mathtt{\\text{\\textbackslashfrac\\{\\textbackslashmathrm\\{d\\}h\\}\\{\\textbackslashmathrm\\{d\\}t\\}}} &= alphah \\left(1 - h\\right) - betah h && \\text{(unit of $h$: $\\mathrm{rad}$)}\\\\\n",
       "\\mathtt{\\text{\\textbackslashfrac\\{\\textbackslashmathrm\\{d\\}m\\}\\{\\textbackslashmathrm\\{d\\}t\\}}} &= alpham \\left(1 - m\\right) - betam m && \\text{(unit of $m$: $\\mathrm{rad}$)}\\\\\n",
       "\\mathtt{\\text{\\textbackslashfrac\\{\\textbackslashmathrm\\{d\\}n\\}\\{\\textbackslashmathrm\\{d\\}t\\}}} &= alphan \\left(1 - n\\right) - betan n && \\text{(unit of $n$: $\\mathrm{rad}$)}\\\\\n",
       "Cm &&& \\text{(unit: $\\frac{\\mathrm{F}}{\\mathrm{m}^{2}}$, flags: constant)}\\\\\n",
       "I &&& \\text{(unit: $\\mathrm{A}$)}\\\\\n",
       "Ic &&& \\text{(unit: $\\frac{\\mathrm{A}}{\\mathrm{m}^{2}}$)}\\\\\n",
       "Ri &&& \\text{(unit: $\\mathrm{ohm}\\,\\mathrm{m}$, flags: constant, shared)}\\\\\n",
       "area &&& \\text{(unit: $\\mathrm{m^2}$, flags: constant)}\\\\\n",
       "diameter &&& \\text{(unit: $\\mathrm{m}$, flags: constant)}\\\\\n",
       "distance &&& \\text{(unit: $\\mathrm{m}$, flags: constant)}\\\\\n",
       "gNa &&& \\text{(unit: $\\frac{\\mathrm{S}}{\\mathrm{m}^{2}}$)}\\\\\n",
       "length &&& \\text{(unit: $\\mathrm{m}$, flags: constant)}\\\\\n",
       "r_{length 1} &&& \\text{(unit: $\\mathrm{m}$, flags: constant)}\\\\\n",
       "r_{length 2} &&& \\text{(unit: $\\mathrm{m}$, flags: constant)}\\\\\n",
       "v &&& \\text{(unit: $\\mathrm{V}$)}\\\\\n",
       "volume &&& \\text{(unit: $\\mathrm{m^3}$)}\\end{align*}"
      ],
      "text/plain": [
       "alphan = 0.1/(ms*exprel((10*mV - v)/(10*mV))) : hertz\n",
       "gtot__private = gNa*h*m**3 + gk*n**4 + gl : siemens / meter ** 2\n",
       "I0__private = I/area + ek*gk*n**4 + el*gl + ena*gNa*h*m**3 : amp / meter ** 2\n",
       "time_constant = Cm/gtot__private : second\n",
       "alpham = 1.0/(ms*exprel((25*mV - v)/(10*mV))) : hertz\n",
       "betah = 1/(ms*(exp((30*mV - v)/(10*mV)) + 1)) : hertz\n",
       "betam = 4*exp(-v/(18*mV))/ms : hertz\n",
       "alphah = 0.07*exp(-v/(20*mV))/ms : hertz\n",
       "betan = 0.125*exp(-v/(80*mV))/ms : hertz\n",
       "Im = I/area + gNa*h*m**3*(ena - v) + gk*n**4*(ek - v) + gl*(el - v) : amp / meter ** 2\n",
       "space_constant = 0.629960524947437*pi**(-0.333333333333333)*(Ri*gtot__private)**(-0.5)*(area/(1/r_length_2 + 1/r_length_1))**0.166666666666667 : metre\n",
       "dh/dt = alphah*(1 - h) - betah*h : radian\n",
       "dm/dt = alpham*(1 - m) - betam*m : radian\n",
       "dn/dt = alphan*(1 - n) - betan*n : radian\n",
       "Cm : farad / meter ** 2 (constant)\n",
       "I : amp\n",
       "Ic : amp / meter ** 2\n",
       "Ri : ohm * meter (constant, shared)\n",
       "area : metre2 (constant)\n",
       "diameter : metre (constant)\n",
       "distance : metre (constant)\n",
       "gNa : siemens / meter ** 2\n",
       "length : metre (constant)\n",
       "r_length_1 : metre (constant)\n",
       "r_length_2 : metre (constant)\n",
       "v : volt\n",
       "volume : metre3\n"
      ]
     },
     "execution_count": 10,
     "metadata": {},
     "output_type": "execute_result"
    }
   ],
   "source": [
    "neuron.equations"
   ]
  },
  {
   "cell_type": "code",
   "execution_count": 12,
   "metadata": {},
   "outputs": [
    {
     "ename": "AttributeError",
     "evalue": "No attribute with name gL",
     "output_type": "error",
     "traceback": [
      "\u001b[0;31m---------------------------------------------------------------------------\u001b[0m",
      "\u001b[0;31mKeyError\u001b[0m                                  Traceback (most recent call last)",
      "\u001b[0;32m/envs/py3-pyNNarbor/lib/python3.8/site-packages/brian2/groups/group.py\u001b[0m in \u001b[0;36mstate\u001b[0;34m(self, name, use_units, level)\u001b[0m\n\u001b[1;32m    354\u001b[0m         \u001b[0;32mtry\u001b[0m\u001b[0;34m:\u001b[0m\u001b[0;34m\u001b[0m\u001b[0;34m\u001b[0m\u001b[0m\n\u001b[0;32m--> 355\u001b[0;31m             \u001b[0mvar\u001b[0m \u001b[0;34m=\u001b[0m \u001b[0mself\u001b[0m\u001b[0;34m.\u001b[0m\u001b[0mvariables\u001b[0m\u001b[0;34m[\u001b[0m\u001b[0mname\u001b[0m\u001b[0;34m]\u001b[0m\u001b[0;34m\u001b[0m\u001b[0;34m\u001b[0m\u001b[0m\n\u001b[0m\u001b[1;32m    356\u001b[0m         \u001b[0;32mexcept\u001b[0m \u001b[0mKeyError\u001b[0m \u001b[0;32mas\u001b[0m \u001b[0mexc\u001b[0m\u001b[0;34m:\u001b[0m\u001b[0;34m\u001b[0m\u001b[0;34m\u001b[0m\u001b[0m\n",
      "\u001b[0;32m/envs/py3-pyNNarbor/lib/python3.8/site-packages/brian2/core/variables.py\u001b[0m in \u001b[0;36m__getitem__\u001b[0;34m(self, item)\u001b[0m\n\u001b[1;32m   1447\u001b[0m     \u001b[0;32mdef\u001b[0m \u001b[0m__getitem__\u001b[0m\u001b[0;34m(\u001b[0m\u001b[0mself\u001b[0m\u001b[0;34m,\u001b[0m \u001b[0mitem\u001b[0m\u001b[0;34m)\u001b[0m\u001b[0;34m:\u001b[0m\u001b[0;34m\u001b[0m\u001b[0;34m\u001b[0m\u001b[0m\n\u001b[0;32m-> 1448\u001b[0;31m         \u001b[0;32mreturn\u001b[0m \u001b[0mself\u001b[0m\u001b[0;34m.\u001b[0m\u001b[0m_variables\u001b[0m\u001b[0;34m[\u001b[0m\u001b[0mitem\u001b[0m\u001b[0;34m]\u001b[0m\u001b[0;34m\u001b[0m\u001b[0;34m\u001b[0m\u001b[0m\n\u001b[0m\u001b[1;32m   1449\u001b[0m \u001b[0;34m\u001b[0m\u001b[0m\n",
      "\u001b[0;31mKeyError\u001b[0m: 'gL'",
      "\nThe above exception was the direct cause of the following exception:\n",
      "\u001b[0;31mKeyError\u001b[0m                                  Traceback (most recent call last)",
      "\u001b[0;32m/envs/py3-pyNNarbor/lib/python3.8/site-packages/brian2/groups/group.py\u001b[0m in \u001b[0;36m__getattr__\u001b[0;34m(self, name)\u001b[0m\n\u001b[1;32m    390\u001b[0m                 \u001b[0muse_units\u001b[0m \u001b[0;34m=\u001b[0m \u001b[0;32mTrue\u001b[0m\u001b[0;34m\u001b[0m\u001b[0;34m\u001b[0m\u001b[0m\n\u001b[0;32m--> 391\u001b[0;31m             \u001b[0;32mreturn\u001b[0m \u001b[0mself\u001b[0m\u001b[0;34m.\u001b[0m\u001b[0mstate\u001b[0m\u001b[0;34m(\u001b[0m\u001b[0mname\u001b[0m\u001b[0;34m,\u001b[0m \u001b[0muse_units\u001b[0m\u001b[0;34m)\u001b[0m\u001b[0;34m\u001b[0m\u001b[0;34m\u001b[0m\u001b[0m\n\u001b[0m\u001b[1;32m    392\u001b[0m \u001b[0;34m\u001b[0m\u001b[0m\n",
      "\u001b[0;32m/envs/py3-pyNNarbor/lib/python3.8/site-packages/brian2/groups/neurongroup.py\u001b[0m in \u001b[0;36mstate\u001b[0;34m(self, name, use_units, level)\u001b[0m\n\u001b[1;32m    634\u001b[0m             \u001b[0;32melse\u001b[0m\u001b[0;34m:\u001b[0m\u001b[0;34m\u001b[0m\u001b[0;34m\u001b[0m\u001b[0m\n\u001b[0;32m--> 635\u001b[0;31m                 \u001b[0;32mraise\u001b[0m \u001b[0mex\u001b[0m\u001b[0;34m\u001b[0m\u001b[0;34m\u001b[0m\u001b[0m\n\u001b[0m\u001b[1;32m    636\u001b[0m \u001b[0;34m\u001b[0m\u001b[0m\n",
      "\u001b[0;32m/envs/py3-pyNNarbor/lib/python3.8/site-packages/brian2/groups/neurongroup.py\u001b[0m in \u001b[0;36mstate\u001b[0;34m(self, name, use_units, level)\u001b[0m\n\u001b[1;32m    628\u001b[0m         \u001b[0;32mtry\u001b[0m\u001b[0;34m:\u001b[0m\u001b[0;34m\u001b[0m\u001b[0;34m\u001b[0m\u001b[0m\n\u001b[0;32m--> 629\u001b[0;31m             \u001b[0;32mreturn\u001b[0m \u001b[0mGroup\u001b[0m\u001b[0;34m.\u001b[0m\u001b[0mstate\u001b[0m\u001b[0;34m(\u001b[0m\u001b[0mself\u001b[0m\u001b[0;34m,\u001b[0m \u001b[0mname\u001b[0m\u001b[0;34m,\u001b[0m \u001b[0muse_units\u001b[0m\u001b[0;34m=\u001b[0m\u001b[0muse_units\u001b[0m\u001b[0;34m,\u001b[0m \u001b[0mlevel\u001b[0m\u001b[0;34m=\u001b[0m\u001b[0mlevel\u001b[0m\u001b[0;34m+\u001b[0m\u001b[0;36m1\u001b[0m\u001b[0;34m)\u001b[0m\u001b[0;34m\u001b[0m\u001b[0;34m\u001b[0m\u001b[0m\n\u001b[0m\u001b[1;32m    630\u001b[0m         \u001b[0;32mexcept\u001b[0m \u001b[0mKeyError\u001b[0m \u001b[0;32mas\u001b[0m \u001b[0mex\u001b[0m\u001b[0;34m:\u001b[0m\u001b[0;34m\u001b[0m\u001b[0;34m\u001b[0m\u001b[0m\n",
      "\u001b[0;32m/envs/py3-pyNNarbor/lib/python3.8/site-packages/brian2/groups/group.py\u001b[0m in \u001b[0;36mstate\u001b[0;34m(self, name, use_units, level)\u001b[0m\n\u001b[1;32m    356\u001b[0m         \u001b[0;32mexcept\u001b[0m \u001b[0mKeyError\u001b[0m \u001b[0;32mas\u001b[0m \u001b[0mexc\u001b[0m\u001b[0;34m:\u001b[0m\u001b[0;34m\u001b[0m\u001b[0;34m\u001b[0m\u001b[0m\n\u001b[0;32m--> 357\u001b[0;31m             \u001b[0;32mraise\u001b[0m \u001b[0mKeyError\u001b[0m\u001b[0;34m(\u001b[0m\u001b[0;34m\"State variable \"\u001b[0m\u001b[0;34m+\u001b[0m\u001b[0mname\u001b[0m\u001b[0;34m+\u001b[0m\u001b[0;34m\" not found.\"\u001b[0m\u001b[0;34m)\u001b[0m \u001b[0;32mfrom\u001b[0m \u001b[0mexc\u001b[0m\u001b[0;34m\u001b[0m\u001b[0;34m\u001b[0m\u001b[0m\n\u001b[0m\u001b[1;32m    358\u001b[0m \u001b[0;34m\u001b[0m\u001b[0m\n",
      "\u001b[0;31mKeyError\u001b[0m: 'State variable gL not found.'",
      "\nDuring handling of the above exception, another exception occurred:\n",
      "\u001b[0;31mAttributeError\u001b[0m                            Traceback (most recent call last)",
      "\u001b[0;32m<ipython-input-12-e0a823c02ce5>\u001b[0m in \u001b[0;36m<module>\u001b[0;34m\u001b[0m\n\u001b[0;32m----> 1\u001b[0;31m \u001b[0mneuron\u001b[0m\u001b[0;34m.\u001b[0m\u001b[0mgL\u001b[0m\u001b[0;34m\u001b[0m\u001b[0;34m\u001b[0m\u001b[0m\n\u001b[0m",
      "\u001b[0;32m/envs/py3-pyNNarbor/lib/python3.8/site-packages/brian2/spatialneuron/spatialneuron.py\u001b[0m in \u001b[0;36m__getattr__\u001b[0;34m(self, name)\u001b[0m\n\u001b[1;32m    421\u001b[0m         \u001b[0mSubtrees\u001b[0m \u001b[0mare\u001b[0m \u001b[0maccessed\u001b[0m \u001b[0mby\u001b[0m \u001b[0mattribute\u001b[0m\u001b[0;34m,\u001b[0m \u001b[0me\u001b[0m\u001b[0;34m.\u001b[0m\u001b[0mg\u001b[0m\u001b[0;34m.\u001b[0m \u001b[0mneuron\u001b[0m\u001b[0;34m.\u001b[0m\u001b[0maxon\u001b[0m\u001b[0;34m.\u001b[0m\u001b[0;34m\u001b[0m\u001b[0;34m\u001b[0m\u001b[0m\n\u001b[1;32m    422\u001b[0m         '''\n\u001b[0;32m--> 423\u001b[0;31m         \u001b[0;32mreturn\u001b[0m \u001b[0mself\u001b[0m\u001b[0;34m.\u001b[0m\u001b[0mspatialneuron_attribute\u001b[0m\u001b[0;34m(\u001b[0m\u001b[0mself\u001b[0m\u001b[0;34m,\u001b[0m \u001b[0mname\u001b[0m\u001b[0;34m)\u001b[0m\u001b[0;34m\u001b[0m\u001b[0;34m\u001b[0m\u001b[0m\n\u001b[0m\u001b[1;32m    424\u001b[0m \u001b[0;34m\u001b[0m\u001b[0m\n\u001b[1;32m    425\u001b[0m     \u001b[0;32mdef\u001b[0m \u001b[0m__getitem__\u001b[0m\u001b[0;34m(\u001b[0m\u001b[0mself\u001b[0m\u001b[0;34m,\u001b[0m \u001b[0mitem\u001b[0m\u001b[0;34m)\u001b[0m\u001b[0;34m:\u001b[0m\u001b[0;34m\u001b[0m\u001b[0;34m\u001b[0m\u001b[0m\n",
      "\u001b[0;32m/envs/py3-pyNNarbor/lib/python3.8/site-packages/brian2/spatialneuron/spatialneuron.py\u001b[0m in \u001b[0;36mspatialneuron_attribute\u001b[0;34m(neuron, name)\u001b[0m\n\u001b[1;32m    471\u001b[0m             \u001b[0;32mreturn\u001b[0m \u001b[0mSpatialSubgroup\u001b[0m\u001b[0;34m(\u001b[0m\u001b[0mneuron\u001b[0m\u001b[0;34m,\u001b[0m \u001b[0mstart\u001b[0m\u001b[0;34m,\u001b[0m \u001b[0mstop\u001b[0m \u001b[0;34m+\u001b[0m \u001b[0;36m1\u001b[0m\u001b[0;34m,\u001b[0m \u001b[0mmorphology\u001b[0m\u001b[0;34m=\u001b[0m\u001b[0mmorpho\u001b[0m\u001b[0;34m)\u001b[0m\u001b[0;34m\u001b[0m\u001b[0;34m\u001b[0m\u001b[0m\n\u001b[1;32m    472\u001b[0m         \u001b[0;32melse\u001b[0m\u001b[0;34m:\u001b[0m\u001b[0;34m\u001b[0m\u001b[0;34m\u001b[0m\u001b[0m\n\u001b[0;32m--> 473\u001b[0;31m             \u001b[0;32mreturn\u001b[0m \u001b[0mGroup\u001b[0m\u001b[0;34m.\u001b[0m\u001b[0m__getattr__\u001b[0m\u001b[0;34m(\u001b[0m\u001b[0mneuron\u001b[0m\u001b[0;34m,\u001b[0m \u001b[0mname\u001b[0m\u001b[0;34m)\u001b[0m\u001b[0;34m\u001b[0m\u001b[0;34m\u001b[0m\u001b[0m\n\u001b[0m\u001b[1;32m    474\u001b[0m \u001b[0;34m\u001b[0m\u001b[0m\n\u001b[1;32m    475\u001b[0m     \u001b[0;34m@\u001b[0m\u001b[0mstaticmethod\u001b[0m\u001b[0;34m\u001b[0m\u001b[0;34m\u001b[0m\u001b[0m\n",
      "\u001b[0;32m/envs/py3-pyNNarbor/lib/python3.8/site-packages/brian2/groups/group.py\u001b[0m in \u001b[0;36m__getattr__\u001b[0;34m(self, name)\u001b[0m\n\u001b[1;32m    392\u001b[0m \u001b[0;34m\u001b[0m\u001b[0m\n\u001b[1;32m    393\u001b[0m         \u001b[0;32mexcept\u001b[0m \u001b[0mKeyError\u001b[0m\u001b[0;34m:\u001b[0m\u001b[0;34m\u001b[0m\u001b[0;34m\u001b[0m\u001b[0m\n\u001b[0;32m--> 394\u001b[0;31m             \u001b[0;32mraise\u001b[0m \u001b[0mAttributeError\u001b[0m\u001b[0;34m(\u001b[0m\u001b[0;34m'No attribute with name '\u001b[0m \u001b[0;34m+\u001b[0m \u001b[0mname\u001b[0m\u001b[0;34m)\u001b[0m\u001b[0;34m\u001b[0m\u001b[0;34m\u001b[0m\u001b[0m\n\u001b[0m\u001b[1;32m    395\u001b[0m \u001b[0;34m\u001b[0m\u001b[0m\n\u001b[1;32m    396\u001b[0m     \u001b[0;32mdef\u001b[0m \u001b[0m__setattr__\u001b[0m\u001b[0;34m(\u001b[0m\u001b[0mself\u001b[0m\u001b[0;34m,\u001b[0m \u001b[0mname\u001b[0m\u001b[0;34m,\u001b[0m \u001b[0mval\u001b[0m\u001b[0;34m,\u001b[0m \u001b[0mlevel\u001b[0m\u001b[0;34m=\u001b[0m\u001b[0;36m0\u001b[0m\u001b[0;34m)\u001b[0m\u001b[0;34m:\u001b[0m\u001b[0;34m\u001b[0m\u001b[0;34m\u001b[0m\u001b[0m\n",
      "\u001b[0;31mAttributeError\u001b[0m: No attribute with name gL"
     ]
    }
   ],
   "source": [
    "neuron.gL"
   ]
  },
  {
   "cell_type": "code",
   "execution_count": null,
   "metadata": {},
   "outputs": [],
   "source": []
  }
 ],
 "metadata": {
  "kernelspec": {
   "display_name": "Python 3",
   "language": "python",
   "name": "python3"
  },
  "language_info": {
   "codemirror_mode": {
    "name": "ipython",
    "version": 3
   },
   "file_extension": ".py",
   "mimetype": "text/x-python",
   "name": "python",
   "nbconvert_exporter": "python",
   "pygments_lexer": "ipython3",
   "version": "3.8.2"
  }
 },
 "nbformat": 4,
 "nbformat_minor": 4
}
