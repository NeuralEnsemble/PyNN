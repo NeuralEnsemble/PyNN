{
 "cells": [
  {
   "cell_type": "code",
   "execution_count": 1,
   "metadata": {},
   "outputs": [],
   "source": [
    "import arbor\n",
    "from arbor import mpoint\n",
    "from arbor import mnpos\n",
    "from bokeh.plotting import figure, output_file, show\n",
    "from bokeh.io import output_notebook"
   ]
  },
  {
   "cell_type": "code",
   "execution_count": 2,
   "metadata": {},
   "outputs": [],
   "source": [
    "tree = arbor.segment_tree()\n",
    "# Start with a cylinder segment for the soma (with tag 1)\n",
    "tree.append(mnpos, mpoint(0,   0.0, 0, 2.0), mpoint( 4,  0.0, 0, 2.0), tag=1)\n",
    "# Construct the first section of the dendritic tree,\n",
    "# comprised of segments 1 and 2, attached to soma segment 0.\n",
    "tree.append(0,     mpoint(4,   0.0, 0, 0.8), mpoint( 8,  0.0, 0, 0.8), tag=3)\n",
    "tree.append(1,     mpoint(8,   0.0, 0, 0.8), mpoint(12, -0.5, 0, 0.8), tag=3)\n",
    "# Construct the rest of the dendritic tree.\n",
    "tree.append(2,     mpoint(12, -0.5, 0, 0.8), mpoint(20,  4.0, 0, 0.4), tag=3)\n",
    "tree.append(3,     mpoint(20,  4.0, 0, 0.4), mpoint(26,  6.0, 0, 0.2), tag=3)\n",
    "tree.append(2,     mpoint(12, -0.5, 0, 0.5), mpoint(19, -3.0, 0, 0.5), tag=3)\n",
    "tree.append(5,     mpoint(19, -3.0, 0, 0.5), mpoint(24, -7.0, 0, 0.2), tag=3)\n",
    "tree.append(5,     mpoint(19, -3.0, 0, 0.5), mpoint(23, -1.0, 0, 0.2), tag=3)\n",
    "tree.append(7,     mpoint(23, -1.0, 0, 0.2), mpoint(26, -2.0, 0, 0.2), tag=3)\n",
    "# Two segments that define the axon, with the first at the root, where its proximal\n",
    "# end will be connected with the proximal end of the soma segment.\n",
    "tree.append(mnpos, mpoint(0,   0.0, 0, 2.0), mpoint(-7,  0.0, 0, 0.4), tag=2)\n",
    "tree.append(9,     mpoint(-7,  0.0, 0, 0.4), mpoint(-10, 0.0, 0, 0.4), tag=2)\n",
    "#\n",
    "# Get the morphology\n",
    "morph = arbor.morphology(tree)\n",
    "#\n",
    "# Create the cable cell\n",
    "labels = arbor.label_dict( {\"soma\": \"(tag 1)\", \"axon\": \"(tag 2)\", \"dend\": \"(tag 3)\",\n",
    "                            \"stim\": \"(location 0 0.5)\", \"everywhere\": \"(all)\"} )\n",
    "cell = arbor.cable_cell(tree, labels)"
   ]
  },
  {
   "cell_type": "code",
   "execution_count": 3,
   "metadata": {},
   "outputs": [],
   "source": [
    "# Set global properties\n",
    "cell.set_properties(Vm=-70, cm=1.0, rL=500.) # tempK=30+273.5\n",
    "cell.set_ion(ion=\"na\", rev_pot=50.)\n",
    "cell.set_ion(ion=\"k\", rev_pot=-77.)\n",
    "# Set mechanisms\n",
    "#leaky_chnl = arbor.mechanism('passive/el=-54.3', {'g': 0.0003})\n",
    "#leaky_chnl = arbor.mechanism(\"pass\", {'e': -54.3, 'g': 0.0003})\n",
    "leaky_chnl = arbor.mechanism('pas', {'e': -54.3, 'g': 0.0003})\n",
    "#leaky_chnl = arbor.mechanism('passive/e=-54.3', {'g': 0.0003})\n",
    "hh_na_k_chnl = arbor.mechanism(\"hh\", {\"gnabar\": 0.120,\n",
    "                                      \"gkbar\": 0.036,\n",
    "                                      \"gl\": 0.})\n",
    "# Attach mechanism and paint ion parameters\n",
    "all_regions = [' (region \"soma\") ', ' (region \"dend\") ', ' (region \"axon\") ']\n",
    "cell.paint(\"(join\"+\" \".join( (all_regions) )+\")\", \"na\", rev_pot=50)\n",
    "cell.paint('(join (region \"soma\") (region \"dend\") (region \"axon\"))', \"k\", rev_pot=-77)\n",
    "cell.paint('(join (region \"soma\") (region \"dend\") (region \"axon\"))', hh_na_k_chnl)\n",
    "cell.paint('\"everywhere\"', leaky_chnl)\n",
    "#cell.paint('\"soma\"', \"na\", rev_pot=50)\n",
    "#cell.paint('\"soma\"', \"k\", rev_pot=-77)\n",
    "#cell.paint('\"soma\"', hh_na_k_chnl)\n",
    "#\n",
    "#cell.paint('\"axon\"', \"na\", rev_pot=50)\n",
    "#cell.paint('\"axon\"', \"k\", rev_pot=-77)\n",
    "#cell.paint('\"axon\"', hh_na_k_chnl)\n",
    "#\n",
    "#cell.paint('\"dend\"', \"na\", rev_pot=50)\n",
    "#cell.paint('\"dend\"', \"k\", rev_pot=-77)\n",
    "#cell.paint('\"dend\"', hh_na_k_chnl)\n",
    "#\n",
    "#cell.paint('\"everywhere\"', leaky_chnl)\n",
    "# Set stimulus\n",
    "cell.place('\"stim\"', arbor.iclamp(10, 2, 0.8))\n",
    "cell.place('\"stim\"', arbor.iclamp(50, 2, 0.8))\n",
    "cell.place('\"stim\"', arbor.iclamp(80, 2, 0.8))\n",
    "# Add spike detector\n",
    "#cell.place('\"stim\"', arbor.spike_detector(-10)) # -10mV threshold\n",
    "# Improve discretization precision to 2 um\n",
    "#cell.compartments_length(2)"
   ]
  },
  {
   "cell_type": "code",
   "execution_count": 4,
   "metadata": {},
   "outputs": [],
   "source": [
    "cell.place(\"(location 0 0.5)\", arbor.spike_detector(-10)) # -10mV threshold"
   ]
  },
  {
   "cell_type": "code",
   "execution_count": 10,
   "metadata": {},
   "outputs": [
    {
     "name": "stdout",
     "output_type": "stream",
     "text": [
      "Help on method compartments_length in module arbor._arbor:\n",
      "\n",
      "compartments_length(...) method of arbor._arbor.cable_cell instance\n",
      "    compartments_length(self: arbor._arbor.cable_cell, maxlen: float) -> None\n",
      "    \n",
      "    Decompose each branch into compartments of equal length, not exceeding maxlen.\n",
      "\n"
     ]
    }
   ],
   "source": [
    "help(cell.compartments_length)"
   ]
  },
  {
   "cell_type": "code",
   "execution_count": 12,
   "metadata": {},
   "outputs": [
    {
     "name": "stdout",
     "output_type": "stream",
     "text": [
      "Help on method compartments_per_branch in module arbor._arbor:\n",
      "\n",
      "compartments_per_branch(...) method of arbor._arbor.cable_cell instance\n",
      "    compartments_per_branch(self: arbor._arbor.cable_cell, n: int) -> None\n",
      "    \n",
      "    Decompose each branch into n compartments of equal length.\n",
      "\n"
     ]
    }
   ],
   "source": [
    "help(cell.compartments_per_branch)"
   ]
  },
  {
   "cell_type": "code",
   "execution_count": 13,
   "metadata": {},
   "outputs": [
    {
     "name": "stdout",
     "output_type": "stream",
     "text": [
      "Help on method compartments_on_segments in module arbor._arbor:\n",
      "\n",
      "compartments_on_segments(...) method of arbor._arbor.cable_cell instance\n",
      "    compartments_on_segments(self: arbor._arbor.cable_cell) -> None\n",
      "    \n",
      "    Decompose each branch into compartments defined by segments.\n",
      "\n"
     ]
    }
   ],
   "source": [
    "help(cell.compartments_on_segments)"
   ]
  },
  {
   "cell_type": "code",
   "execution_count": 22,
   "metadata": {},
   "outputs": [],
   "source": [
    "cell.compartments_on_segments()"
   ]
  },
  {
   "cell_type": "code",
   "execution_count": 14,
   "metadata": {},
   "outputs": [
    {
     "data": {
      "text/plain": [
       "6"
      ]
     },
     "execution_count": 14,
     "metadata": {},
     "output_type": "execute_result"
    }
   ],
   "source": [
    "cell.num_branches"
   ]
  },
  {
   "cell_type": "code",
   "execution_count": 16,
   "metadata": {},
   "outputs": [
    {
     "name": "stdout",
     "output_type": "stream",
     "text": [
      "Help on method cables in module arbor._arbor:\n",
      "\n",
      "cables(...) method of arbor._arbor.cable_cell instance\n",
      "    cables(self: arbor._arbor.cable_cell, label: str) -> List[arb::mcable]\n",
      "    \n",
      "    The cable segments of the cell morphology for a region label.\n",
      "\n"
     ]
    }
   ],
   "source": [
    "help(cell.cables)"
   ]
  },
  {
   "cell_type": "code",
   "execution_count": 19,
   "metadata": {},
   "outputs": [
    {
     "data": {
      "text/plain": [
       "[(cable 0 0 0.332471)]"
      ]
     },
     "execution_count": 19,
     "metadata": {},
     "output_type": "execute_result"
    }
   ],
   "source": [
    "cell.cables('\"soma\"') # cell.cables(\"soma\") will return warning and so will cell.cables(str(\"soma\"))"
   ]
  },
  {
   "cell_type": "code",
   "execution_count": 20,
   "metadata": {},
   "outputs": [
    {
     "ename": "RuntimeError",
     "evalue": "error in label description at 1:1: Unexpected symbol 'soma' in a region or locset definition. If 'soma' is a label, it must be quoted \"soma\".",
     "output_type": "error",
     "traceback": [
      "\u001b[0;31m---------------------------------------------------------------------------\u001b[0m",
      "\u001b[0;31mRuntimeError\u001b[0m                              Traceback (most recent call last)",
      "\u001b[0;32m<ipython-input-20-8fd44e984f68>\u001b[0m in \u001b[0;36m<module>\u001b[0;34m\u001b[0m\n\u001b[0;32m----> 1\u001b[0;31m \u001b[0mcell\u001b[0m\u001b[0;34m.\u001b[0m\u001b[0mcables\u001b[0m\u001b[0;34m(\u001b[0m\u001b[0mstr\u001b[0m\u001b[0;34m(\u001b[0m\u001b[0;34m\"soma\"\u001b[0m\u001b[0;34m)\u001b[0m\u001b[0;34m)\u001b[0m\u001b[0;34m\u001b[0m\u001b[0;34m\u001b[0m\u001b[0m\n\u001b[0m",
      "\u001b[0;31mRuntimeError\u001b[0m: error in label description at 1:1: Unexpected symbol 'soma' in a region or locset definition. If 'soma' is a label, it must be quoted \"soma\"."
     ]
    }
   ],
   "source": []
  },
  {
   "cell_type": "markdown",
   "metadata": {},
   "source": [
    "# Objectives:\n",
    "1. **Wrap the cable cell into an Arbor single cell model**\n",
    "2. **Add probe for recording**\n",
    "3. **Run the simulation**\n",
    "4. **Plot**"
   ]
  },
  {
   "cell_type": "markdown",
   "metadata": {},
   "source": [
    "# 1. Wrap the created (already setup) cable cell"
   ]
  },
  {
   "cell_type": "code",
   "execution_count": 5,
   "metadata": {},
   "outputs": [],
   "source": [
    "cell_model = arbor.single_cell_model(cell)"
   ]
  },
  {
   "cell_type": "markdown",
   "metadata": {},
   "source": [
    "# 2. Add probe for recording"
   ]
  },
  {
   "cell_type": "code",
   "execution_count": 6,
   "metadata": {},
   "outputs": [],
   "source": [
    "cell_model.probe(\"voltage\", '\"stim\"', 10000) # another kind of probe is \"current\" (new)"
   ]
  },
  {
   "cell_type": "markdown",
   "metadata": {},
   "source": [
    "# 3. Run the simulation"
   ]
  },
  {
   "cell_type": "code",
   "execution_count": 7,
   "metadata": {
    "scrolled": true
   },
   "outputs": [],
   "source": [
    "cell_model.run(100) # 100ms"
   ]
  },
  {
   "cell_type": "markdown",
   "metadata": {},
   "source": [
    "# 4. Plot"
   ]
  },
  {
   "cell_type": "code",
   "execution_count": 8,
   "metadata": {},
   "outputs": [
    {
     "data": {
      "text/html": [
       "\n",
       "    <div class=\"bk-root\">\n",
       "        <a href=\"https://bokeh.org\" target=\"_blank\" class=\"bk-logo bk-logo-small bk-logo-notebook\"></a>\n",
       "        <span id=\"1001\">Loading BokehJS ...</span>\n",
       "    </div>"
      ]
     },
     "metadata": {},
     "output_type": "display_data"
    },
    {
     "data": {
      "application/javascript": [
       "\n",
       "(function(root) {\n",
       "  function now() {\n",
       "    return new Date();\n",
       "  }\n",
       "\n",
       "  var force = true;\n",
       "\n",
       "  if (typeof root._bokeh_onload_callbacks === \"undefined\" || force === true) {\n",
       "    root._bokeh_onload_callbacks = [];\n",
       "    root._bokeh_is_loading = undefined;\n",
       "  }\n",
       "\n",
       "  var JS_MIME_TYPE = 'application/javascript';\n",
       "  var HTML_MIME_TYPE = 'text/html';\n",
       "  var EXEC_MIME_TYPE = 'application/vnd.bokehjs_exec.v0+json';\n",
       "  var CLASS_NAME = 'output_bokeh rendered_html';\n",
       "\n",
       "  /**\n",
       "   * Render data to the DOM node\n",
       "   */\n",
       "  function render(props, node) {\n",
       "    var script = document.createElement(\"script\");\n",
       "    node.appendChild(script);\n",
       "  }\n",
       "\n",
       "  /**\n",
       "   * Handle when an output is cleared or removed\n",
       "   */\n",
       "  function handleClearOutput(event, handle) {\n",
       "    var cell = handle.cell;\n",
       "\n",
       "    var id = cell.output_area._bokeh_element_id;\n",
       "    var server_id = cell.output_area._bokeh_server_id;\n",
       "    // Clean up Bokeh references\n",
       "    if (id != null && id in Bokeh.index) {\n",
       "      Bokeh.index[id].model.document.clear();\n",
       "      delete Bokeh.index[id];\n",
       "    }\n",
       "\n",
       "    if (server_id !== undefined) {\n",
       "      // Clean up Bokeh references\n",
       "      var cmd = \"from bokeh.io.state import curstate; print(curstate().uuid_to_server['\" + server_id + \"'].get_sessions()[0].document.roots[0]._id)\";\n",
       "      cell.notebook.kernel.execute(cmd, {\n",
       "        iopub: {\n",
       "          output: function(msg) {\n",
       "            var id = msg.content.text.trim();\n",
       "            if (id in Bokeh.index) {\n",
       "              Bokeh.index[id].model.document.clear();\n",
       "              delete Bokeh.index[id];\n",
       "            }\n",
       "          }\n",
       "        }\n",
       "      });\n",
       "      // Destroy server and session\n",
       "      var cmd = \"import bokeh.io.notebook as ion; ion.destroy_server('\" + server_id + \"')\";\n",
       "      cell.notebook.kernel.execute(cmd);\n",
       "    }\n",
       "  }\n",
       "\n",
       "  /**\n",
       "   * Handle when a new output is added\n",
       "   */\n",
       "  function handleAddOutput(event, handle) {\n",
       "    var output_area = handle.output_area;\n",
       "    var output = handle.output;\n",
       "\n",
       "    // limit handleAddOutput to display_data with EXEC_MIME_TYPE content only\n",
       "    if ((output.output_type != \"display_data\") || (!output.data.hasOwnProperty(EXEC_MIME_TYPE))) {\n",
       "      return\n",
       "    }\n",
       "\n",
       "    var toinsert = output_area.element.find(\".\" + CLASS_NAME.split(' ')[0]);\n",
       "\n",
       "    if (output.metadata[EXEC_MIME_TYPE][\"id\"] !== undefined) {\n",
       "      toinsert[toinsert.length - 1].firstChild.textContent = output.data[JS_MIME_TYPE];\n",
       "      // store reference to embed id on output_area\n",
       "      output_area._bokeh_element_id = output.metadata[EXEC_MIME_TYPE][\"id\"];\n",
       "    }\n",
       "    if (output.metadata[EXEC_MIME_TYPE][\"server_id\"] !== undefined) {\n",
       "      var bk_div = document.createElement(\"div\");\n",
       "      bk_div.innerHTML = output.data[HTML_MIME_TYPE];\n",
       "      var script_attrs = bk_div.children[0].attributes;\n",
       "      for (var i = 0; i < script_attrs.length; i++) {\n",
       "        toinsert[toinsert.length - 1].firstChild.setAttribute(script_attrs[i].name, script_attrs[i].value);\n",
       "        toinsert[toinsert.length - 1].firstChild.textContent = bk_div.children[0].textContent\n",
       "      }\n",
       "      // store reference to server id on output_area\n",
       "      output_area._bokeh_server_id = output.metadata[EXEC_MIME_TYPE][\"server_id\"];\n",
       "    }\n",
       "  }\n",
       "\n",
       "  function register_renderer(events, OutputArea) {\n",
       "\n",
       "    function append_mime(data, metadata, element) {\n",
       "      // create a DOM node to render to\n",
       "      var toinsert = this.create_output_subarea(\n",
       "        metadata,\n",
       "        CLASS_NAME,\n",
       "        EXEC_MIME_TYPE\n",
       "      );\n",
       "      this.keyboard_manager.register_events(toinsert);\n",
       "      // Render to node\n",
       "      var props = {data: data, metadata: metadata[EXEC_MIME_TYPE]};\n",
       "      render(props, toinsert[toinsert.length - 1]);\n",
       "      element.append(toinsert);\n",
       "      return toinsert\n",
       "    }\n",
       "\n",
       "    /* Handle when an output is cleared or removed */\n",
       "    events.on('clear_output.CodeCell', handleClearOutput);\n",
       "    events.on('delete.Cell', handleClearOutput);\n",
       "\n",
       "    /* Handle when a new output is added */\n",
       "    events.on('output_added.OutputArea', handleAddOutput);\n",
       "\n",
       "    /**\n",
       "     * Register the mime type and append_mime function with output_area\n",
       "     */\n",
       "    OutputArea.prototype.register_mime_type(EXEC_MIME_TYPE, append_mime, {\n",
       "      /* Is output safe? */\n",
       "      safe: true,\n",
       "      /* Index of renderer in `output_area.display_order` */\n",
       "      index: 0\n",
       "    });\n",
       "  }\n",
       "\n",
       "  // register the mime type if in Jupyter Notebook environment and previously unregistered\n",
       "  if (root.Jupyter !== undefined) {\n",
       "    var events = require('base/js/events');\n",
       "    var OutputArea = require('notebook/js/outputarea').OutputArea;\n",
       "\n",
       "    if (OutputArea.prototype.mime_types().indexOf(EXEC_MIME_TYPE) == -1) {\n",
       "      register_renderer(events, OutputArea);\n",
       "    }\n",
       "  }\n",
       "\n",
       "  \n",
       "  if (typeof (root._bokeh_timeout) === \"undefined\" || force === true) {\n",
       "    root._bokeh_timeout = Date.now() + 5000;\n",
       "    root._bokeh_failed_load = false;\n",
       "  }\n",
       "\n",
       "  var NB_LOAD_WARNING = {'data': {'text/html':\n",
       "     \"<div style='background-color: #fdd'>\\n\"+\n",
       "     \"<p>\\n\"+\n",
       "     \"BokehJS does not appear to have successfully loaded. If loading BokehJS from CDN, this \\n\"+\n",
       "     \"may be due to a slow or bad network connection. Possible fixes:\\n\"+\n",
       "     \"</p>\\n\"+\n",
       "     \"<ul>\\n\"+\n",
       "     \"<li>re-rerun `output_notebook()` to attempt to load from CDN again, or</li>\\n\"+\n",
       "     \"<li>use INLINE resources instead, as so:</li>\\n\"+\n",
       "     \"</ul>\\n\"+\n",
       "     \"<code>\\n\"+\n",
       "     \"from bokeh.resources import INLINE\\n\"+\n",
       "     \"output_notebook(resources=INLINE)\\n\"+\n",
       "     \"</code>\\n\"+\n",
       "     \"</div>\"}};\n",
       "\n",
       "  function display_loaded() {\n",
       "    var el = document.getElementById(\"1001\");\n",
       "    if (el != null) {\n",
       "      el.textContent = \"BokehJS is loading...\";\n",
       "    }\n",
       "    if (root.Bokeh !== undefined) {\n",
       "      if (el != null) {\n",
       "        el.textContent = \"BokehJS \" + root.Bokeh.version + \" successfully loaded.\";\n",
       "      }\n",
       "    } else if (Date.now() < root._bokeh_timeout) {\n",
       "      setTimeout(display_loaded, 100)\n",
       "    }\n",
       "  }\n",
       "\n",
       "\n",
       "  function run_callbacks() {\n",
       "    try {\n",
       "      root._bokeh_onload_callbacks.forEach(function(callback) {\n",
       "        if (callback != null)\n",
       "          callback();\n",
       "      });\n",
       "    } finally {\n",
       "      delete root._bokeh_onload_callbacks\n",
       "    }\n",
       "    console.debug(\"Bokeh: all callbacks have finished\");\n",
       "  }\n",
       "\n",
       "  function load_libs(css_urls, js_urls, callback) {\n",
       "    if (css_urls == null) css_urls = [];\n",
       "    if (js_urls == null) js_urls = [];\n",
       "\n",
       "    root._bokeh_onload_callbacks.push(callback);\n",
       "    if (root._bokeh_is_loading > 0) {\n",
       "      console.debug(\"Bokeh: BokehJS is being loaded, scheduling callback at\", now());\n",
       "      return null;\n",
       "    }\n",
       "    if (js_urls == null || js_urls.length === 0) {\n",
       "      run_callbacks();\n",
       "      return null;\n",
       "    }\n",
       "    console.debug(\"Bokeh: BokehJS not loaded, scheduling load and callback at\", now());\n",
       "    root._bokeh_is_loading = css_urls.length + js_urls.length;\n",
       "\n",
       "    function on_load() {\n",
       "      root._bokeh_is_loading--;\n",
       "      if (root._bokeh_is_loading === 0) {\n",
       "        console.debug(\"Bokeh: all BokehJS libraries/stylesheets loaded\");\n",
       "        run_callbacks()\n",
       "      }\n",
       "    }\n",
       "\n",
       "    function on_error() {\n",
       "      console.error(\"failed to load \" + url);\n",
       "    }\n",
       "\n",
       "    for (var i = 0; i < css_urls.length; i++) {\n",
       "      var url = css_urls[i];\n",
       "      const element = document.createElement(\"link\");\n",
       "      element.onload = on_load;\n",
       "      element.onerror = on_error;\n",
       "      element.rel = \"stylesheet\";\n",
       "      element.type = \"text/css\";\n",
       "      element.href = url;\n",
       "      console.debug(\"Bokeh: injecting link tag for BokehJS stylesheet: \", url);\n",
       "      document.body.appendChild(element);\n",
       "    }\n",
       "\n",
       "    const hashes = {\"https://cdn.bokeh.org/bokeh/release/bokeh-2.2.1.min.js\": \"qkRvDQVAIfzsJo40iRBbxt6sttt0hv4lh74DG7OK4MCHv4C5oohXYoHUM5W11uqS\", \"https://cdn.bokeh.org/bokeh/release/bokeh-widgets-2.2.1.min.js\": \"Sb7Mr06a9TNlet/GEBeKaf5xH3eb6AlCzwjtU82wNPyDrnfoiVl26qnvlKjmcAd+\", \"https://cdn.bokeh.org/bokeh/release/bokeh-tables-2.2.1.min.js\": \"HaJ15vgfmcfRtB4c4YBOI4f1MUujukqInOWVqZJZZGK7Q+ivud0OKGSTn/Vm2iso\"};\n",
       "\n",
       "    for (var i = 0; i < js_urls.length; i++) {\n",
       "      var url = js_urls[i];\n",
       "      var element = document.createElement('script');\n",
       "      element.onload = on_load;\n",
       "      element.onerror = on_error;\n",
       "      element.async = false;\n",
       "      element.src = url;\n",
       "      if (url in hashes) {\n",
       "        element.crossOrigin = \"anonymous\";\n",
       "        element.integrity = \"sha384-\" + hashes[url];\n",
       "      }\n",
       "      console.debug(\"Bokeh: injecting script tag for BokehJS library: \", url);\n",
       "      document.head.appendChild(element);\n",
       "    }\n",
       "  };\n",
       "\n",
       "  function inject_raw_css(css) {\n",
       "    const element = document.createElement(\"style\");\n",
       "    element.appendChild(document.createTextNode(css));\n",
       "    document.body.appendChild(element);\n",
       "  }\n",
       "\n",
       "  \n",
       "  var js_urls = [\"https://cdn.bokeh.org/bokeh/release/bokeh-2.2.1.min.js\", \"https://cdn.bokeh.org/bokeh/release/bokeh-widgets-2.2.1.min.js\", \"https://cdn.bokeh.org/bokeh/release/bokeh-tables-2.2.1.min.js\"];\n",
       "  var css_urls = [];\n",
       "  \n",
       "\n",
       "  var inline_js = [\n",
       "    function(Bokeh) {\n",
       "      Bokeh.set_log_level(\"info\");\n",
       "    },\n",
       "    function(Bokeh) {\n",
       "    \n",
       "    \n",
       "    }\n",
       "  ];\n",
       "\n",
       "  function run_inline_js() {\n",
       "    \n",
       "    if (root.Bokeh !== undefined || force === true) {\n",
       "      \n",
       "    for (var i = 0; i < inline_js.length; i++) {\n",
       "      inline_js[i].call(root, root.Bokeh);\n",
       "    }\n",
       "    if (force === true) {\n",
       "        display_loaded();\n",
       "      }} else if (Date.now() < root._bokeh_timeout) {\n",
       "      setTimeout(run_inline_js, 100);\n",
       "    } else if (!root._bokeh_failed_load) {\n",
       "      console.log(\"Bokeh: BokehJS failed to load within specified timeout.\");\n",
       "      root._bokeh_failed_load = true;\n",
       "    } else if (force !== true) {\n",
       "      var cell = $(document.getElementById(\"1001\")).parents('.cell').data().cell;\n",
       "      cell.output_area.append_execute_result(NB_LOAD_WARNING)\n",
       "    }\n",
       "\n",
       "  }\n",
       "\n",
       "  if (root._bokeh_is_loading === 0) {\n",
       "    console.debug(\"Bokeh: BokehJS loaded, going straight to plotting\");\n",
       "    run_inline_js();\n",
       "  } else {\n",
       "    load_libs(css_urls, js_urls, function() {\n",
       "      console.debug(\"Bokeh: BokehJS plotting callback run at\", now());\n",
       "      run_inline_js();\n",
       "    });\n",
       "  }\n",
       "}(window));"
      ],
      "application/vnd.bokehjs_load.v0+json": "\n(function(root) {\n  function now() {\n    return new Date();\n  }\n\n  var force = true;\n\n  if (typeof root._bokeh_onload_callbacks === \"undefined\" || force === true) {\n    root._bokeh_onload_callbacks = [];\n    root._bokeh_is_loading = undefined;\n  }\n\n  \n\n  \n  if (typeof (root._bokeh_timeout) === \"undefined\" || force === true) {\n    root._bokeh_timeout = Date.now() + 5000;\n    root._bokeh_failed_load = false;\n  }\n\n  var NB_LOAD_WARNING = {'data': {'text/html':\n     \"<div style='background-color: #fdd'>\\n\"+\n     \"<p>\\n\"+\n     \"BokehJS does not appear to have successfully loaded. If loading BokehJS from CDN, this \\n\"+\n     \"may be due to a slow or bad network connection. Possible fixes:\\n\"+\n     \"</p>\\n\"+\n     \"<ul>\\n\"+\n     \"<li>re-rerun `output_notebook()` to attempt to load from CDN again, or</li>\\n\"+\n     \"<li>use INLINE resources instead, as so:</li>\\n\"+\n     \"</ul>\\n\"+\n     \"<code>\\n\"+\n     \"from bokeh.resources import INLINE\\n\"+\n     \"output_notebook(resources=INLINE)\\n\"+\n     \"</code>\\n\"+\n     \"</div>\"}};\n\n  function display_loaded() {\n    var el = document.getElementById(\"1001\");\n    if (el != null) {\n      el.textContent = \"BokehJS is loading...\";\n    }\n    if (root.Bokeh !== undefined) {\n      if (el != null) {\n        el.textContent = \"BokehJS \" + root.Bokeh.version + \" successfully loaded.\";\n      }\n    } else if (Date.now() < root._bokeh_timeout) {\n      setTimeout(display_loaded, 100)\n    }\n  }\n\n\n  function run_callbacks() {\n    try {\n      root._bokeh_onload_callbacks.forEach(function(callback) {\n        if (callback != null)\n          callback();\n      });\n    } finally {\n      delete root._bokeh_onload_callbacks\n    }\n    console.debug(\"Bokeh: all callbacks have finished\");\n  }\n\n  function load_libs(css_urls, js_urls, callback) {\n    if (css_urls == null) css_urls = [];\n    if (js_urls == null) js_urls = [];\n\n    root._bokeh_onload_callbacks.push(callback);\n    if (root._bokeh_is_loading > 0) {\n      console.debug(\"Bokeh: BokehJS is being loaded, scheduling callback at\", now());\n      return null;\n    }\n    if (js_urls == null || js_urls.length === 0) {\n      run_callbacks();\n      return null;\n    }\n    console.debug(\"Bokeh: BokehJS not loaded, scheduling load and callback at\", now());\n    root._bokeh_is_loading = css_urls.length + js_urls.length;\n\n    function on_load() {\n      root._bokeh_is_loading--;\n      if (root._bokeh_is_loading === 0) {\n        console.debug(\"Bokeh: all BokehJS libraries/stylesheets loaded\");\n        run_callbacks()\n      }\n    }\n\n    function on_error() {\n      console.error(\"failed to load \" + url);\n    }\n\n    for (var i = 0; i < css_urls.length; i++) {\n      var url = css_urls[i];\n      const element = document.createElement(\"link\");\n      element.onload = on_load;\n      element.onerror = on_error;\n      element.rel = \"stylesheet\";\n      element.type = \"text/css\";\n      element.href = url;\n      console.debug(\"Bokeh: injecting link tag for BokehJS stylesheet: \", url);\n      document.body.appendChild(element);\n    }\n\n    const hashes = {\"https://cdn.bokeh.org/bokeh/release/bokeh-2.2.1.min.js\": \"qkRvDQVAIfzsJo40iRBbxt6sttt0hv4lh74DG7OK4MCHv4C5oohXYoHUM5W11uqS\", \"https://cdn.bokeh.org/bokeh/release/bokeh-widgets-2.2.1.min.js\": \"Sb7Mr06a9TNlet/GEBeKaf5xH3eb6AlCzwjtU82wNPyDrnfoiVl26qnvlKjmcAd+\", \"https://cdn.bokeh.org/bokeh/release/bokeh-tables-2.2.1.min.js\": \"HaJ15vgfmcfRtB4c4YBOI4f1MUujukqInOWVqZJZZGK7Q+ivud0OKGSTn/Vm2iso\"};\n\n    for (var i = 0; i < js_urls.length; i++) {\n      var url = js_urls[i];\n      var element = document.createElement('script');\n      element.onload = on_load;\n      element.onerror = on_error;\n      element.async = false;\n      element.src = url;\n      if (url in hashes) {\n        element.crossOrigin = \"anonymous\";\n        element.integrity = \"sha384-\" + hashes[url];\n      }\n      console.debug(\"Bokeh: injecting script tag for BokehJS library: \", url);\n      document.head.appendChild(element);\n    }\n  };\n\n  function inject_raw_css(css) {\n    const element = document.createElement(\"style\");\n    element.appendChild(document.createTextNode(css));\n    document.body.appendChild(element);\n  }\n\n  \n  var js_urls = [\"https://cdn.bokeh.org/bokeh/release/bokeh-2.2.1.min.js\", \"https://cdn.bokeh.org/bokeh/release/bokeh-widgets-2.2.1.min.js\", \"https://cdn.bokeh.org/bokeh/release/bokeh-tables-2.2.1.min.js\"];\n  var css_urls = [];\n  \n\n  var inline_js = [\n    function(Bokeh) {\n      Bokeh.set_log_level(\"info\");\n    },\n    function(Bokeh) {\n    \n    \n    }\n  ];\n\n  function run_inline_js() {\n    \n    if (root.Bokeh !== undefined || force === true) {\n      \n    for (var i = 0; i < inline_js.length; i++) {\n      inline_js[i].call(root, root.Bokeh);\n    }\n    if (force === true) {\n        display_loaded();\n      }} else if (Date.now() < root._bokeh_timeout) {\n      setTimeout(run_inline_js, 100);\n    } else if (!root._bokeh_failed_load) {\n      console.log(\"Bokeh: BokehJS failed to load within specified timeout.\");\n      root._bokeh_failed_load = true;\n    } else if (force !== true) {\n      var cell = $(document.getElementById(\"1001\")).parents('.cell').data().cell;\n      cell.output_area.append_execute_result(NB_LOAD_WARNING)\n    }\n\n  }\n\n  if (root._bokeh_is_loading === 0) {\n    console.debug(\"Bokeh: BokehJS loaded, going straight to plotting\");\n    run_inline_js();\n  } else {\n    load_libs(css_urls, js_urls, function() {\n      console.debug(\"Bokeh: BokehJS plotting callback run at\", now());\n      run_inline_js();\n    });\n  }\n}(window));"
     },
     "metadata": {},
     "output_type": "display_data"
    }
   ],
   "source": [
    "output_notebook()"
   ]
  },
  {
   "cell_type": "code",
   "execution_count": 9,
   "metadata": {},
   "outputs": [
    {
     "data": {
      "text/html": [
       "\n",
       "\n",
       "\n",
       "\n",
       "\n",
       "\n",
       "  <div class=\"bk-root\" id=\"f810cd86-e8b2-49e6-9ccc-89922ec605c6\" data-root-id=\"1002\"></div>\n"
      ]
     },
     "metadata": {},
     "output_type": "display_data"
    },
    {
     "data": {
      "application/javascript": [
       "(function(root) {\n",
       "  function embed_document(root) {\n",
       "    \n",
       "  var docs_json = {\"b8302d8b-c265-48be-aeeb-7ee6849a6f9b\":{\"roots\":{\"references\":[{\"attributes\":{\"below\":[{\"id\":\"1013\"}],\"center\":[{\"id\":\"1016\"},{\"id\":\"1020\"}],\"left\":[{\"id\":\"1017\"}],\"renderers\":[{\"id\":\"1038\"}],\"title\":{\"id\":\"1003\"},\"toolbar\":{\"id\":\"1028\"},\"x_range\":{\"id\":\"1005\"},\"x_scale\":{\"id\":\"1009\"},\"y_range\":{\"id\":\"1007\"},\"y_scale\":{\"id\":\"1011\"}},\"id\":\"1002\",\"subtype\":\"Figure\",\"type\":\"Plot\"},{\"attributes\":{},\"id\":\"1007\",\"type\":\"DataRange1d\"},{\"attributes\":{\"text\":\"Arbor MC Demo\"},\"id\":\"1003\",\"type\":\"Title\"},{\"attributes\":{\"data\":{\"x\":[0.0,0.1,0.19999999999999998,0.3,0.37500000000000006,0.47500000000000014,0.5750000000000002,0.6750000000000003,0.7750000000000004,0.8750000000000004,0.9750000000000005,1.1,1.1999999999999997,1.2999999999999994,1.399999999999999,1.4999999999999987,1.5999999999999983,1.699999999999998,1.7999999999999976,1.8999999999999972,1.999999999999997,2.0999999999999965,2.199999999999996,2.299999999999996,2.3999999999999955,2.499999999999995,2.5999999999999948,2.6999999999999944,2.799999999999994,2.8999999999999937,2.9999999999999933,3.099999999999993,3.1999999999999926,3.2999999999999923,3.399999999999992,3.4999999999999916,3.599999999999991,3.699999999999991,3.7999999999999905,3.89999999999999,3.99999999999999,4.099999999999991,4.199999999999992,4.299999999999994,4.399999999999995,4.4999999999999964,4.599999999999998,4.699999999999999,4.800000000000001,4.875000000000002,4.975000000000003,5.075000000000005,5.175000000000006,5.2750000000000075,5.375000000000009,5.47500000000001,5.575000000000012,5.675000000000013,5.775000000000015,5.875000000000016,5.975000000000017,6.075000000000019,6.17500000000002,6.275000000000022,6.375000000000023,6.4750000000000245,6.575000000000026,6.675000000000027,6.775000000000029,6.87500000000003,6.975000000000032,7.075000000000033,7.1750000000000345,7.275000000000036,7.375000000000037,7.475000000000039,7.57500000000004,7.675000000000042,7.775000000000043,7.875000000000044,7.975000000000046,8.075000000000047,8.175000000000049,8.27500000000005,8.375000000000052,8.475000000000053,8.575000000000054,8.675000000000056,8.775000000000057,8.875000000000059,8.97500000000006,9.075000000000061,9.175000000000063,9.275000000000064,9.375000000000066,9.475000000000067,9.575000000000069,9.67500000000007,9.775000000000071,9.875000000000073,9.975000000000074,10.075000000000076,10.175000000000077,10.275000000000079,10.37500000000008,10.475000000000081,10.575000000000083,10.675000000000084,10.775000000000086,10.875000000000087,10.975000000000088,11.07500000000009,11.175000000000091,11.275000000000093,11.375000000000094,11.475000000000096,11.575000000000097,11.675000000000098,11.7750000000001,11.875000000000101,11.975000000000103,12.075000000000104,12.175000000000106,12.275000000000107,12.375000000000108,12.47500000000011,12.575000000000111,12.675000000000113,12.775000000000114,12.875000000000115,12.975000000000117,13.075000000000118,13.17500000000012,13.275000000000121,13.375000000000123,13.475000000000124,13.575000000000125,13.675000000000127,13.775000000000128,13.87500000000013,13.975000000000131,14.075000000000133,14.175000000000134,14.275000000000135,14.375000000000137,14.475000000000138,14.57500000000014,14.675000000000141,14.775000000000142,14.875000000000144,14.975000000000145,15.075000000000147,15.175000000000148,15.27500000000015,15.375000000000151,15.475000000000152,15.575000000000154,15.675000000000155,15.775000000000157,15.875000000000158,15.97500000000016,16.075000000000156,16.17500000000015,16.275000000000144,16.37500000000014,16.475000000000133,16.575000000000127,16.67500000000012,16.775000000000116,16.87500000000011,16.975000000000104,17.0750000000001,17.175000000000093,17.275000000000087,17.37500000000008,17.475000000000076,17.57500000000007,17.675000000000065,17.77500000000006,17.875000000000053,17.975000000000048,18.075000000000042,18.175000000000036,18.27500000000003,18.375000000000025,18.47500000000002,18.575000000000014,18.675000000000008,18.8,18.899999999999995,18.99999999999999,19.099999999999984,19.199999999999978,19.299999999999972,19.399999999999967,19.49999999999996,19.599999999999955,19.69999999999995,19.799999999999944,19.899999999999938,19.999999999999932,20.099999999999927,20.19999999999992,20.299999999999915,20.39999999999991,20.499999999999904,20.5999999999999,20.699999999999893,20.799999999999887,20.89999999999988,20.999999999999876,21.09999999999987,21.199999999999864,21.29999999999986,21.399999999999853,21.499999999999847,21.59999999999984,21.699999999999836,21.79999999999983,21.899999999999824,21.99999999999982,22.099999999999813,22.199999999999807,22.2999999999998,22.399999999999796,22.49999999999979,22.599999999999785,22.69999999999978,22.799999999999773,22.899999999999768,22.999999999999762,23.099999999999756,23.19999999999975,23.299999999999745,23.39999999999974,23.499999999999734,23.599999999999728,23.699999999999722,23.799999999999716,23.89999999999971,23.999999999999705,24.0999999999997,24.199999999999694,24.299999999999688,24.399999999999682,24.499999999999677,24.59999999999967,24.699999999999665,24.79999999999966,24.899999999999654,24.99999999999965,25.099999999999643,25.199999999999637,25.29999999999963,25.399999999999626,25.49999999999962,25.599999999999614,25.69999999999961,25.799999999999603,25.899999999999597,25.99999999999959,26.099999999999586,26.19999999999958,26.299999999999574,26.39999999999957,26.499999999999563,26.599999999999557,26.69999999999955,26.799999999999546,26.89999999999954,26.999999999999535,27.09999999999953,27.199999999999523,27.299999999999518,27.399999999999512,27.499999999999506,27.5999999999995,27.699999999999495,27.79999999999949,27.899999999999483,27.999999999999478,28.099999999999472,28.199999999999466,28.29999999999946,28.399999999999455,28.49999999999945,28.599999999999444,28.699999999999438,28.799999999999432,28.899999999999427,28.99999999999942,29.099999999999415,29.19999999999941,29.299999999999404,29.399999999999398,29.499999999999392,29.599999999999387,29.69999999999938,29.799999999999375,29.89999999999937,29.999999999999364,30.09999999999936,30.199999999999353,30.299999999999347,30.39999999999934,30.499999999999336,30.59999999999933,30.699999999999324,30.79999999999932,30.899999999999313,30.999999999999307,31.0999999999993,31.199999999999296,31.29999999999929,31.399999999999284,31.49999999999928,31.599999999999273,31.699999999999267,31.79999999999926,31.899999999999256,31.99999999999925,32.09999999999925,32.19999999999924,32.29999999999924,32.39999999999923,32.499999999999226,32.59999999999922,32.699999999999214,32.79999999999921,32.8999999999992,32.9999999999992,33.09999999999919,33.199999999999186,33.29999999999918,33.399999999999174,33.49999999999917,33.59999999999916,33.69999999999916,33.79999999999915,33.899999999999146,33.99999999999914,34.099999999999135,34.19999999999913,34.29999999999912,34.39999999999912,34.49999999999911,34.599999999999106,34.6999999999991,34.799999999999095,34.89999999999909,34.99999999999908,35.09999999999908,35.19999999999907,35.299999999999066,35.39999999999906,35.499999999999055,35.59999999999905,35.699999999999044,35.79999999999904,35.89999999999903,35.99999999999903,36.09999999999902,36.199999999999015,36.29999999999901,36.399999999999004,36.499999999999,36.59999999999899,36.69999999999899,36.79999999999898,36.899999999998975,36.99999999999897,37.099999999998964,37.19999999999896,37.29999999999895,37.39999999999895,37.49999999999894,37.599999999998936,37.69999999999893,37.799999999998924,37.89999999999892,37.99999999999891,38.09999999999891,38.1999999999989,38.299999999998896,38.39999999999889,38.499999999998884,38.59999999999888,38.69999999999887,38.79999999999887,38.89999999999886,38.999999999998856,39.09999999999885,39.199999999998845,39.29999999999884,39.39999999999883,39.49999999999883,39.59999999999882,39.699999999998816,39.79999999999881,39.899999999998805,39.9999999999988,40.09999999999879,40.19999999999879,40.29999999999878,40.399999999998776,40.49999999999877,40.599999999998765,40.69999999999876,40.799999999998754,40.89999999999875,40.99999999999874,41.09999999999874,41.19999999999873,41.299999999998725,41.39999999999872,41.499999999998714,41.59999999999871,41.6999999999987,41.7999999999987,41.89999999999869,41.999999999998685,42.09999999999868,42.199999999998674,42.29999999999867,42.39999999999866,42.49999999999866,42.59999999999865,42.699999999998646,42.79999999999864,42.899999999998634,42.99999999999863,43.09999999999862,43.19999999999862,43.29999999999861,43.399999999998606,43.4999999999986,43.599999999998595,43.69999999999859,43.79999999999858,43.89999999999858,43.99999999999857,44.099999999998566,44.19999999999856,44.299999999998555,44.39999999999855,44.49999999999854,44.59999999999854,44.69999999999853,44.799999999998526,44.89999999999852,44.999999999998515,45.09999999999851,45.199999999998504,45.2999999999985,45.39999999999849,45.49999999999849,45.59999999999848,45.699999999998475,45.79999999999847,45.899999999998464,45.99999999999846,46.09999999999845,46.19999999999845,46.29999999999844,46.399999999998435,46.49999999999843,46.599999999998424,46.69999999999842,46.79999999999841,46.89999999999841,46.9999999999984,47.099999999998396,47.19999999999839,47.299999999998384,47.39999999999838,47.49999999999837,47.59999999999837,47.69999999999836,47.799999999998356,47.89999999999835,47.999999999998344,48.09999999999834,48.19999999999833,48.29999999999833,48.39999999999832,48.499999999998316,48.59999999999831,48.699999999998305,48.7999999999983,48.89999999999829,48.99999999999829,49.09999999999828,49.199999999998276,49.29999999999827,49.399999999998265,49.49999999999826,49.59999999999825,49.69999999999825,49.79999999999824,49.899999999998236,49.99999999999823,50.099999999998225,50.19999999999822,50.299999999998214,50.39999999999821,50.4999999999982,50.5999999999982,50.69999999999819,50.799999999998185,50.89999999999818,50.999999999998174,51.09999999999817,51.19999999999816,51.29999999999816,51.39999999999815,51.499999999998145,51.59999999999814,51.699999999998134,51.79999999999813,51.89999999999812,51.99999999999812,52.09999999999811,52.199999999998106,52.2999999999981,52.399999999998094,52.49999999999809,52.59999999999808,52.69999999999808,52.79999999999807,52.899999999998066,52.99999999999806,53.099999999998055,53.19999999999805,53.29999999999804,53.39999999999804,53.49999999999803,53.599999999998026,53.69999999999802,53.799999999998015,53.89999999999801,53.999999999998,54.099999999998,54.19999999999799,54.299999999997986,54.39999999999798,54.499999999997975,54.59999999999797,54.699999999997964,54.79999999999796,54.89999999999795,54.99999999999795,55.09999999999794,55.199999999997935,55.29999999999793,55.399999999997924,55.49999999999792,55.59999999999791,55.69999999999791,55.7999999999979,55.899999999997895,55.99999999999789,56.099999999997884,56.19999999999788,56.29999999999787,56.39999999999787,56.49999999999786,56.599999999997856,56.69999999999785,56.799999999997844,56.89999999999784,56.99999999999783,57.09999999999783,57.19999999999782,57.299999999997816,57.39999999999781,57.499999999997804,57.5999999999978,57.69999999999779,57.79999999999779,57.89999999999778,57.999999999997776,58.09999999999777,58.199999999997765,58.29999999999776,58.39999999999775,58.49999999999775,58.59999999999774,58.699999999997736,58.79999999999773,58.899999999997725,58.99999999999772,59.09999999999771,59.19999999999771,59.2999999999977,59.399999999997696,59.49999999999769,59.599999999997685,59.69999999999768,59.799999999997674,59.89999999999767,59.99999999999766,60.09999999999766,60.19999999999765,60.299999999997645,60.39999999999764,60.499999999997634,60.59999999999763,60.69999999999762,60.79999999999762,60.89999999999761,60.999999999997605,61.0999999999976,61.199999999997594,61.29999999999759,61.39999999999758,61.49999999999758,61.59999999999757,61.699999999997566,61.79999999999756,61.899999999997554,61.99999999999755,62.09999999999754,62.19999999999754,62.29999999999753,62.399999999997526,62.49999999999752,62.599999999997515,62.69999999999751,62.7999999999975,62.8999999999975,62.99999999999749,63.099999999997486,63.19999999999748,63.299999999997475,63.39999999999747,63.49999999999746,63.59999999999746,63.69999999999745,63.799999999997446,63.89999999999744,63.999999999997435,64.09999999999745,64.19999999999747,64.2999999999975,64.39999999999752,64.49999999999754,64.59999999999756,64.69999999999759,64.79999999999761,64.89999999999763,64.99999999999766,65.09999999999768,65.1999999999977,65.29999999999772,65.39999999999775,65.49999999999777,65.59999999999779,65.69999999999781,65.79999999999784,65.89999999999786,65.99999999999788,66.0999999999979,66.19999999999793,66.29999999999795,66.39999999999797,66.499999999998,66.59999999999802,66.69999999999804,66.79999999999806,66.89999999999809,66.99999999999811,67.09999999999813,67.19999999999816,67.29999999999818,67.3999999999982,67.49999999999822,67.59999999999825,67.69999999999827,67.79999999999829,67.89999999999831,67.99999999999834,68.09999999999836,68.19999999999838,68.2999999999984,68.39999999999843,68.49999999999845,68.59999999999847,68.6999999999985,68.79999999999852,68.89999999999854,68.99999999999856,69.09999999999859,69.19999999999861,69.29999999999863,69.39999999999866,69.49999999999868,69.5999999999987,69.69999999999872,69.79999999999875,69.89999999999877,69.99999999999879,70.09999999999881,70.19999999999884,70.29999999999886,70.39999999999888,70.4999999999989,70.59999999999893,70.69999999999895,70.79999999999897,70.899999999999,70.99999999999902,71.09999999999904,71.19999999999906,71.29999999999909,71.39999999999911,71.49999999999913,71.59999999999916,71.69999999999918,71.7999999999992,71.89999999999922,71.99999999999925,72.09999999999927,72.19999999999929,72.29999999999932,72.39999999999934,72.49999999999936,72.59999999999938,72.6999999999994,72.79999999999943,72.89999999999945,72.99999999999947,73.0999999999995,73.19999999999952,73.29999999999954,73.39999999999957,73.49999999999959,73.59999999999961,73.69999999999963,73.79999999999966,73.89999999999968,73.9999999999997,74.09999999999972,74.19999999999975,74.29999999999977,74.39999999999979,74.49999999999982,74.59999999999984,74.69999999999986,74.79999999999988,74.8999999999999,74.99999999999993,75.09999999999995,75.19999999999997,75.3,75.37500000000001,75.47500000000004,75.57500000000006,75.67500000000008,75.7750000000001,75.87500000000013,75.97500000000015,76.07500000000017,76.1750000000002,76.27500000000022,76.37500000000024,76.47500000000026,76.57500000000029,76.67500000000031,76.77500000000033,76.87500000000036,76.97500000000038,77.0750000000004,77.17500000000042,77.27500000000045,77.37500000000047,77.47500000000049,77.57500000000051,77.67500000000054,77.77500000000056,77.87500000000058,77.9750000000006,78.07500000000063,78.17500000000065,78.27500000000067,78.3750000000007,78.47500000000072,78.57500000000074,78.67500000000076,78.77500000000079,78.87500000000081,78.97500000000083,79.07500000000086,79.17500000000088,79.2750000000009,79.37500000000092,79.47500000000095,79.57500000000097,79.67500000000099,79.77500000000101,79.87500000000104,79.97500000000106,80.07500000000108,80.1750000000011,80.27500000000113,80.37500000000115,80.47500000000117,80.5750000000012,80.67500000000122,80.77500000000124,80.87500000000126,80.97500000000129,81.07500000000131,81.17500000000133,81.27500000000136,81.37500000000138,81.4750000000014,81.57500000000142,81.67500000000145,81.77500000000147,81.87500000000149,81.97500000000151,82.07500000000154,82.17500000000156,82.27500000000158,82.3750000000016,82.47500000000163,82.57500000000165,82.67500000000167,82.7750000000017,82.87500000000172,82.97500000000174,83.07500000000176,83.17500000000179,83.27500000000181,83.37500000000183,83.47500000000186,83.57500000000188,83.6750000000019,83.77500000000192,83.87500000000195,83.97500000000197,84.07500000000199,84.17500000000202,84.27500000000204,84.37500000000206,84.47500000000208,84.5750000000021,84.67500000000213,84.77500000000215,84.87500000000217,84.9750000000022,85.07500000000222,85.17500000000224,85.27500000000227,85.37500000000229,85.47500000000231,85.57500000000233,85.67500000000236,85.77500000000238,85.8750000000024,85.97500000000242,86.07500000000245,86.17500000000247,86.27500000000249,86.37500000000252,86.47500000000254,86.57500000000256,86.67500000000258,86.7750000000026,86.87500000000263,86.97500000000265,87.07500000000267,87.1750000000027,87.27500000000272,87.37500000000274,87.47500000000277,87.57500000000279,87.67500000000281,87.77500000000283,87.87500000000286,87.97500000000288,88.0750000000029,88.17500000000292,88.27500000000295,88.37500000000297,88.47500000000299,88.57500000000302,88.67500000000304,88.77500000000306,88.87500000000308,88.9750000000031,89.07500000000313,89.17500000000315,89.27500000000317,89.3750000000032,89.47500000000322,89.57500000000324,89.67500000000327,89.77500000000329,89.87500000000331,89.97500000000333,90.07500000000336,90.17500000000338,90.2750000000034,90.37500000000342,90.47500000000345,90.57500000000347,90.6750000000035,90.77500000000352,90.87500000000354,90.97500000000356,91.07500000000358,91.1750000000036,91.27500000000363,91.37500000000365,91.47500000000367,91.5750000000037,91.67500000000372,91.77500000000374,91.87500000000377,91.97500000000379,92.07500000000381,92.17500000000383,92.27500000000386,92.37500000000388,92.4750000000039,92.57500000000393,92.67500000000395,92.77500000000397,92.875000000004,92.97500000000402,93.07500000000404,93.17500000000406,93.27500000000408,93.3750000000041,93.47500000000413,93.57500000000415,93.67500000000418,93.7750000000042,93.87500000000422,93.97500000000424,94.07500000000427,94.17500000000429,94.27500000000431,94.37500000000433,94.47500000000436,94.57500000000438,94.6750000000044,94.77500000000443,94.87500000000445,94.97500000000447,95.0750000000045,95.17500000000452,95.27500000000454,95.37500000000456,95.47500000000458,95.57500000000461,95.67500000000463,95.77500000000465,95.87500000000468,95.9750000000047,96.07500000000472,96.17500000000474,96.27500000000477,96.37500000000479,96.47500000000481,96.57500000000483,96.67500000000486,96.77500000000488,96.8750000000049,96.97500000000493,97.07500000000495,97.17500000000497,97.275000000005,97.37500000000502,97.47500000000504,97.57500000000506,97.67500000000508,97.77500000000511,97.87500000000513,97.97500000000515,98.07500000000518,98.1750000000052,98.27500000000522,98.37500000000524,98.47500000000527,98.57500000000529,98.67500000000531,98.77500000000533,98.87500000000536,98.97500000000538,99.0750000000054,99.17500000000543,99.27500000000545,99.37500000000547,99.4750000000055,99.57500000000552,99.67500000000554,99.77500000000556,99.87500000000558],\"y\":[-70.0,-69.99593065743363,-69.99186292219615,-69.98779670936621,-69.98474802149572,-69.98068438232046,-69.97662219618284,-69.97256146307501,-69.96850218814204,-69.9644443794331,-69.96038804659777,-69.95531972203221,-69.95126674888078,-69.947215286831,-69.9431653469414,-69.93911694018445,-69.93507007740628,-69.93102476930451,-69.92698102641681,-69.92293885911556,-69.91889827760589,-69.91485929192602,-69.91082191194852,-69.90678614738228,-69.90275200777494,-69.89871950251535,-69.89468864083618,-69.89065943181657,-69.8866318843847,-69.88260600732052,-69.87858180925814,-69.87455929868852,-69.87053848396182,-69.86651937328993,-69.86250197474877,-69.85848629628076,-69.85447234569702,-69.85046013067968,-69.84644965878408,-69.84244093744098,-69.83843397395859,-69.83442877552484,-69.83042534920925,-69.82642370196504,-69.82242384063116,-69.81842577193414,-69.81442950249003,-69.81043503880626,-69.80644238728352,-69.80344909166332,-69.79945962650935,-69.79547199058231,-69.79148618989841,-69.78750223037517,-69.7835201178334,-69.77953985799861,-69.77556145650277,-69.77158491888571,-69.76761025059677,-69.76363745699628,-69.75966654335701,-69.75569751486572,-69.75173037662438,-69.74776513365184,-69.74380179088499,-69.73984035318026,-69.7358808253149,-69.73192321198822,-69.72796751782293,-69.72401374736648,-69.72006190509211,-69.71611199540024,-69.71216402261958,-69.70821799100825,-69.70427390475511,-69.70033176798077,-69.69639158473863,-69.69245335901616,-69.68851709473584,-69.68458279575626,-69.6806504658731,-69.6767201088203,-69.67279172827088,-69.66886532783799,-69.66494091107596,-69.6610184814812,-69.65709804249305,-69.65317959749477,-69.64926314981452,-69.64534870272612,-69.64143625944993,-69.63752582315387,-69.633617396954,-69.62971098391559,-69.62580658705382,-69.62190420933453,-69.61800385367515,-69.61410552294538,-69.61020921996796,-69.6063149475194,-69.60242270833075,-68.97740853531978,-68.2264330385232,-67.54957881129926,-66.9309666059108,-66.35832689409435,-65.82216290199334,-65.31510982631278,-64.83144365138254,-64.36670428460917,-63.91740615895189,-63.480815819948994,-63.05478085148822,-62.63759817736225,-62.2279125842698,-61.82463845609449,-61.42689934756525,-61.033981278046085,-60.64529658464716,-60.260355907678516,-59.8787464436977,-60.12123063266431,-60.49257311386052,-60.7927288611895,-61.03750418395881,-61.239026816304104,-61.40662044016554,-61.54747061791919,-61.66712985049296,-61.76990049752178,-61.85912557278472,-61.93741013368609,-62.006790294388566,-62.06886259888334,-62.12488329487227,-62.17584467979106,-62.22253393047439,-62.26557851586217,-62.3054813092497,-62.342647776830006,-62.3774070601025,-62.41002834542382,-62.44073359094783,-62.46970743456235,-62.49710491764768,-62.523057514670384,-62.54767784733343,-62.571063376329604,-62.59329929769249,-62.61446081974818,-62.63461495725792,-62.65382194884605,-62.672136380186714,-62.68960807711058,-62.70628281858462,-62.722202908483574,-62.73740763649851,-62.751933651859204,-62.765815268358914,-62.77908471512963,-62.79177234446861,-62.80390680556202,-62.815515191038614,-62.82662316179107,-62.83725505433665,-62.847433974076914,-62.85718187710347,-62.86651964263874,-62.87546713776444,-62.88404327574828,-62.89226606901083,-62.90015267756423,-62.90771945358912,-62.91498198268545,-62.92195512223105,-62.928653037200455,-62.93508923373275,-62.94127659068666,-62.947227389380814,-62.95295334168497,-62.95846561660286,-62.96377486546634,-62.968891245844226,-62.973824444255754,-62.97858369776777,-62.98317781454586,-62.9876151934221,-62.991903842535976,-62.997067100339905,-63.00104848295586,-63.00490467320068,-63.00864220724927,-63.01226731511771,-63.01578593452874,-63.01920372414546,-63.02252607620332,-63.025758128569244,-63.02890477625452,-63.031970682407255,-63.034960288808314,-63.037877825894,-63.04072732232701,-63.04351261413647,-63.046237353446934,-63.04890501681478,-63.05151891319016,-63.054082191521424,-63.056597848018285,-63.05906873308896,-63.0614975579664,-63.063886901037534,-63.06623921388866,-63.06855682708026,-63.070841955662985,-63.07309670444684,-63.07532307303444,-63.07752296062903,-63.079698170627275,-63.08185041500678,-63.08398131851711,-63.08609242268368,-63.08818518963223,-63.090261005742576,-63.092321185138864,-63.09436697302373,-63.096399548863474,-63.0984200294307,-63.10042947171103,-63.102428875679756,-63.10441918695428,-63.10640129932807,-63.10837605719105,-63.110344257841774,-63.112306653696216,-63.11426395439749,-63.11621682883136,-63.11816590705127,-63.12011178211705,-63.1220550118515,-63.12399612051795,-63.125935600422665,-63.12787391344525,-63.12981149250042,-63.13174874293402,-63.13368604385625,-63.13562374941501,-63.137562190011806,-63.13950167346292,-63.14144248610812,-63.14338489386956,-63.14532914326253,-63.14727546236079,-63.149224061718016,-63.15117513524759,-63.15312886106241,-63.15508540227667,-63.15704490777104,-63.159007512923175,-63.160973340304686,-63.16294250034657,-63.16491509197399,-63.16689120321207,-63.16887091176386,-63.170854285561894,-63.172841383294084,-63.17483225490567,-63.17682694207768,-63.17882547868344,-63.18082789122393,-63.18283419924263,-63.18484441572131,-63.18685854745719,-63.18887659542251,-63.19089855510706,-63.19292441684482,-63.19495416612496,-63.196987783888225,-63.1990252468092,-63.201066527565075,-63.20311159509173,-63.20516041482736,-63.20721294894435,-63.2092691565702,-63.21132899399734,-63.21339241488306,-63.21545937043953,-63.21752980961444,-63.219603679262804,-63.22168092431014,-63.22376148790767,-63.2258453115796,-63.22793233536308,-63.23002249794099,-63.232115736768066,-63.23421198819043,-63.236311187559124,-63.23841326933758,-63.240518167203575,-63.24262581414582,-63.24473614255531,-63.246849084312025,-63.248964570866676,-63.251082533318225,-63.25320290248704,-63.25532560898411,-63.25745058327621,-63.25957775574758,-63.26170705675802,-63.263838416697524,-63.26597176603791,-63.26810703538122,-63.27024415550545,-63.2723830574072,-63.27452367234198,-63.276665931861814,-63.27880976785057,-63.28095511255689,-63.283101898625155,-63.28525005912412,-63.28739952757374,-63.289550237970175,-63.29170212480887,-63.293855123106034,-63.29600916841844,-63.298164196861904,-63.30032014512789,-63.30247695049923,-63.304634550864115,-63.30679288472911,-63.30895189123089,-63.311111510146716,-63.313271681904155,-63.31543234758949,-63.31759344895529,-63.319754928427166,-63.321916729109425,-63.324078794790175,-63.32624106994544,-63.3284034997427,-63.330566030043684,-63.33272860740645,-63.33489117908691,-63.33705369303981,-63.33921609791913,-63.34137834307782,-63.343540378567326,-63.34570215513645,-63.347863624229795,-63.35002473798594,-63.352185449235044,-63.35434571149625,-63.35650547897469,-63.35866470655811,-63.36082334981333,-63.36298136498234,-63.36513870897823,-63.3672953393807,-63.36945121443158,-63.37160629302991,-63.373760534727126,-63.37591389972177,-63.37806634885415,-63.380217843600924,-63.382368346069484,-63.38451781899218,-63.38666622572054,-63.38881353021921,-63.39095969706002,-63.39310469141578,-63.39524847905409,-63.39739102633108,-63.399532300185065,-63.40167226813026,-63.403810898250164,-63.4059481591913,-63.4080840201566,-63.41021845089899,-63.41235142171482,-63.41448290343727,-63.41661286742999,-63.41874128558031,-63.42086813029285,-63.42299337448301,-63.4251169915704,-63.427238955472255,-63.4293592405971,-63.43147782183819,-63.43359467456709,-63.435709774627306,-63.43782309832782,-63.439934622436866,-63.44204432417552,-63.44415218121151,-63.44625817165291,-63.448362274042054,-63.45046446734935,-63.452564730967154,-63.45466304470379,-63.456759388777556,-63.45885374381071,-63.46094609082368,-63.463036411229155,-63.46512468682635,-63.46721089979526,-63.46929503269101,-63.471377068438215,-63.47345699032545,-63.47553478199973,-63.477610427461094,-63.47968391105726,-63.481755217478174,-63.48382433175095,-63.48589123923449,-63.48795592561446,-63.49001837689815,-63.492078579409466,-63.49413651978404,-63.49619218496423,-63.49824556219432,-63.5002966390158,-63.502345403262574,-63.50439184305633,-63.506435946801986,-63.508477703183054,-63.5105171011573,-63.512554129952164,-63.51458877906058,-63.51662103823651,-63.51865089749081,-63.52067834708699,-63.522703377537134,-63.52472597959777,-63.52674614426589,-63.528763862775016,-63.53077912659124,-63.53279192740941,-63.53480225714933,-63.536810107952064,-63.538815472176196,-63.54081834239421,-63.542818711388925,-63.544816572149955,-63.54681191787023,-63.54880474194263,-63.55079503795653,-63.55278279969454,-63.55476802112916,-63.55675069641967,-63.558730819908796,-63.56070838611975,-63.56268338975306,-63.56465582568353,-63.56662568895723,-63.56859297478868,-63.57055767855776,-63.572519795807054,-63.57447932223891,-63.576436253712735,-63.57839058624221,-63.58034231599265,-63.58229143927844,-63.5842379525603,-63.5861818524428,-63.58812313567184,-63.59006179913219,-63.591997839845,-63.59393125496545,-63.59586204178035,-63.597790197705905,-63.59971572028522,-63.60163860718632,-63.60355885619977,-63.60547646523648,-63.607391432325635,-63.60930375561257,-63.61121343335668,-63.61312046392939,-63.61502484581205,-63.616926577594185,-63.618825657971286,-63.62072208574306,-63.62261585981152,-63.62450697917907,-63.626395442946766,-63.628281250312455,-63.63016440056908,-63.63204489310285,-63.633922727391656,-63.635797903003265,-63.63767041959377,-63.63954027690588,-63.64140747476743,-63.643272013089714,-63.64513389186599,-63.6469931111699,-63.64884967115409,-63.6507035720486,-63.65255481415954,-63.654403397867604,-63.65624932362668,-63.658092591962436,-63.23950472902719,-62.472961362323844,-61.785265705334595,-61.159389447591586,-60.58218554227197,-60.04348258180327,-59.53539407139741,-59.05179004899636,-58.58789215219474,-58.13996289080926,-57.705066967665736,-57.280887782227154,-56.86558624481159,-56.4576920596193,-56.056019942753004,-55.65960500304127,-55.26765286007407,-54.87950110428299,-54.494589493009165,-54.11243688121386,-54.15300969440519,-54.54380494052366,-54.85859762200417,-55.11470658721746,-55.32531839491618,-55.500484600498474,-55.64788655143069,-55.77341430765682,-55.88160194230304,-55.97595410453908,-56.05919115760406,-56.13343363965752,-56.20034154599868,-56.26121991514783,-56.317099202024316,-56.368796709468185,-56.416963726736284,-56.46212183438363,-56.50469096169859,-56.545011139339756,-56.583359413440895,-56.61996303303426,-56.65500975761412,-56.68865593246943,-56.72103282897218,-56.752251632859036,-56.78240737655639,-56.81158204504212,-56.83984703362336,-56.867265096620066,-56.89389189549303,-56.91977723134756,-56.94496602839216,-56.96949912063148,-56.9934138829063,-57.01674473865424,-57.03952356991593,-57.061780049732604,-57.08354191285208,-57.104835177330216,-57.12568432699016,-57.146112462629986,-57.166141428233516,-57.185791917145394,-57.20508356214837,-57.22403501257063,-57.24266400090956,-57.260987400949396,-57.27902127894747,-57.296780939143936,-57.31428096459571,-57.331535254134394,-57.34855705608785,-57.365358999278016,-57.381953121706744,-57.39835089726111,-57.41456326070595,-57.43060063118058,-57.44647293437644,-57.462189623539814,-57.47775969941885,-57.49319172925263,-57.50849386488494,-57.52367386007115,-57.53873908703689,-57.55369655233847,-57.5685529120682,-57.5833144864424,-57.597987273805494,-57.612576964079544,-57.62708895168619,-57.64152834796501,-57.655899993110545,-57.670208467648436,-57.68445810346957,-57.69865299444014,-57.712797006604205,-57.72689378799452,-57.74094677806661,-57.754959216770224,-57.76893415327177,-57.782874454340664,-57.7967828124119,-57.810661753336866,-57.82451364383375,-57.838340698648516,-57.852144987436965,-57.86592844137814,-57.87969285952875,-57.893439914928095,-57.907171160462724,-57.920888034499356,-57.93459186629459,-57.94828388118969,-57.9619652055981,-57.9756368717936,-57.98929982250592,-58.00295491533143,-58.016602926965284,-58.03024455726183,-58.0438804331296,-58.05751111226682,-58.07113708674363,-58.084758786436495,-58.09837658232035,-58.11199078962377,-58.12560167085236,-58.13920943868518,-58.15281425874906,-58.166416252275305,-58.18001549864327,-58.19361203781509,-58.20720587266563,-58.22079697121156,-58.23438526874373,-58.247970669866014,-58.26155305044455,-58.27513225947076,-58.28870812084137,-58.30228043505865,-58.31584898085405,-58.329413516738065,-58.34297378247916,-58.35652950051485,-58.370080377297086,-58.383626104574944,-58.39716636061688,-58.41070081137492,-58.424229111593256,-58.4377509058632,-58.4512658296268,-58.46477351013131,-58.47827356733615,-58.49176561477445,-58.50524926037111,-58.51872410721897,-58.53218975431498,-58.54564579725775,-58.55909182890836,-58.572527440015804,-58.585952219808476,-58.599365756553205,-58.612767638083284,-58.62615745229662,-58.63953478762529,-58.65289923347795,-58.66625038065597,-58.679587821744526,-58.69291115147989,-58.70621996709368,-58.71951386863525,-58.7327924592732,-58.74605534557687,-58.75930213777868,-58.77253245001821,-58.78574590056895,-58.798942112048266,-58.81212071161165,-58.82528133113169,-58.83842360736272,-58.85154718209158,-58.86465170227537,-58.877736820166774,-58.8908021934273,-58.903847485229335,-58.916872364347505,-58.92987650523961,-58.94285958811811,-58.955821299012044,-58.96876132982057,-58.98167937835792,-58.99457514839046,-59.007448349666596,-59.020298697939204,-59.03312591498167,-59.04592972859742,-59.05870987262369,-59.071466086929384,-59.084198117407766,-59.09690571596425,-59.109588640499176,-59.122246654886446,-59.13487952894775,-59.14748703842306,-59.160068964937324,-59.17262509596385,-59.18515522478437,-59.19765915044616,-59.21013667771636,-59.22258761703379,-59.23501178445822,-59.24740900161749,-59.259779095652526,-59.272121899160574,-59.28443725013653,-59.29672499191284,-59.30898497309786,-59.321217047512874,-59.33342107412801,-59.345596916996975,-59.35774444519093,-59.369863532731515,-59.38195405852305,-59.39401590628419,-59.40604896447894,-59.41805312624732,-59.43002828933556,-59.44197435602599,-59.45389123306681,-59.46577883160166,-59.47763706709901,-59.48946585928168,-59.501265132056396,-59.51303481344326,-59.524774835505646,-59.536485134279985,-59.54816564970614,-59.55981632555779,-59.5714371093733,-59.583027952386935,-59.594588809460426,-59.60611963901514,-59.61762040296454,-59.62909106664719,-59.64053159876045,-59.6519419712945,-59.66332215946717,-59.674672141659215,-59.68599189935019,-59.697281417055194,-59.70854068226202,-59.71976968536914,-59.73096841962432,-59.73934760389407,-59.75049335976444,-59.76160884241293,-59.77269405523752,-59.783749004203706,-59.79477369778725,-59.80576814691776,-59.816732364922984,-59.82766636747386,-59.838570172530275,-59.84944380028783,-59.86028727312499,-59.87110061555137,-59.88188385415653,-59.8926370175597,-59.903360136360185,-59.91405324308858,-59.92471637215871,-59.93534955982044,-59.945952844113016,-59.95652626481944,-59.96706986342133,-59.97758368305482,-59.98806776846689,-59.99852216597268,-60.00894692341341,-60.019342090115025,-60.02970771684765,-60.04004385578571,-60.05035056046861,-60.06062788576245,-60.07087588782212,-60.08109462405423,-60.09128415308073,-60.10144453470307,-60.111575829867235,-60.121678100629275,-60.13175141012154,-60.14179582251952,-60.15181140300942,-60.161798217756264,-60.171756333872636,-60.18168581938807,-60.19158674321899,-60.20145917513933,-60.21130318575159,-60.221118846458666,-59.61001434832397,-58.87332701325834,-58.21087457022715,-57.60660204572072,-57.04811444560386,-56.525819543013704,-56.0322756774659,-55.561693613115686,-55.109555141878026,-54.67232059565962,-54.24720428185456,-53.83200191833545,-53.4249579357128,-53.024663378643844,-52.62997731321403,-52.23996630548431,-51.85385780318797,-51.47100422212511,-51.09085528165383,-50.712936703285514,-50.957628327163164,-51.329939811615425,-51.63088320322393,-51.87692276890843,-52.08054840812058,-52.25124478128665,-52.396232929296595,-52.52103036588705,-52.62987094061117,-52.72601855293158,-52.812001479485666,-52.88978770667498,-52.960916528546846,-53.02659771243483,-53.087786561249736,-53.145241000722436,-53.19956520487244,-53.25124309217082,-53.30066416212635,-53.348143510766235,-53.39393740025391,-53.43825541663342,-53.48126999714789,-53.52312392075747,-53.563936215069155,-53.60380682736618,-53.64282032769955,-53.68104885146329,-53.71855444266732,-53.75539092368695,-53.791605389966804,-53.82723940703326,-53.862329970756335,-53.896910279001794,-53.93101035279542,-53.96465753725416,-53.99787690634198,-54.03069159061482,-54.06312304324332,-54.09519125652743,-54.126914938671284,-54.1583116586392,-54.18939796535843,-54.22018948629335,-54.25070100942103,-54.28094655184302,-54.310939417630024,-54.340692246984126,-54.370217058392676,-54.39952528511796,-54.428627807101584,-54.45753497914974,-54.486256656093815,-54.51480221548401,-54.543180578262465,-54.57140022777337,-54.599469227397186,-54.6273952370377,-54.65518552864513,-54.68284700092198,-54.710386193328205,-54.73780929947895,-54.7651221800093,-54.79233037496512,-54.819439115767224,-54.84645333678676,-54.873377686561476,-54.900216538677235,-54.9269740023339,-54.95365393261121,-54.980259940447496,-55.006795402341076,-55.03326346978342,-55.05966707843129,-55.08600895702362,-55.112291636049086,-55.13851745616882,-55.16468857639894,-55.19080698205674,-55.21687449247472,-55.24289276848585,-55.26886331968426,-55.294787511464456,-55.3206665718431,-55.34650159806658,-55.37229356300857,-55.39804332136071,-55.423751615620525,-55.44941908188016,-55.47504625541978,-55.50063357610962,-55.52618139362436,-55.55168997247377,-55.577159496853774,-55.60259007532155,-55.627981745299074,-55.6533344774086,-55.67864817964437,-55.703922701384634,-55.72915783724751,-55.75435333079513,-55.77950887808961,-55.80462413110519,-55.829698700999884,-55.85473216125106,-55.87972405065836,-55.90467387621797,-55.92958111587178,-55.9544452211354,-55.97926561960834,-56.004041717370285,-56.02877290126667,-56.05345854108732,-56.07809799164141,-56.10269059473207,-56.1272356810342,-56.15173257187827,-56.176180580943864,-56.2005790158656,-56.22492717975455,-56.24922437263846,-56.273469892823215,-56.297663038178804,-56.3218031073523,-56.34588940091069,-56.369921222416075,-56.39389787943604,-56.417818684491486,-56.44168295594449,-56.46549001882852,-56.48923920562333,-56.512929856976804,-56.536561322375974,-56.56013296076917,-56.58364414114162,-56.60709424304627,-56.630482657091825,-56.65380878539011,-56.67707204196412,-56.70027185311887,-56.72340765777689,-56.746478907779405,-56.76948506815551,-56.79242561736038,-56.81530004748419,-56.83810786443333,-56.86084858808487,-56.88352175241622,-56.90612690561066,-56.928663610140546,-56.95113144282884,-56.97352999489065,-56.99585887195549,-57.018117694071606,-57.04030609569317,-57.06242372565148,-57.08447024711111,-57.10644533751184,-57.12834868849735,-57.15018000583127,-57.171939009301944,-57.193625432615924,-57.21523902328159,-57.2367795424832,-57.25824676494626,-57.27964047879477,-57.30096048540099,-57.322206599228345,-57.34337864766789,-57.36447647086913,-57.385499921565504,-57.406448864895076,-57.42732317821694,-57.4481227509237,-57.468847484250645,-57.48949729108172,-57.510072095752875,-57.53057183385322,-57.55099645202414]},\"selected\":{\"id\":\"1046\"},\"selection_policy\":{\"id\":\"1047\"}},\"id\":\"1035\",\"type\":\"ColumnDataSource\"},{\"attributes\":{},\"id\":\"1005\",\"type\":\"DataRange1d\"},{\"attributes\":{},\"id\":\"1026\",\"type\":\"HelpTool\"},{\"attributes\":{\"formatter\":{\"id\":\"1042\"},\"ticker\":{\"id\":\"1018\"}},\"id\":\"1017\",\"type\":\"LinearAxis\"},{\"attributes\":{},\"id\":\"1011\",\"type\":\"LinearScale\"},{\"attributes\":{},\"id\":\"1014\",\"type\":\"BasicTicker\"},{\"attributes\":{\"formatter\":{\"id\":\"1044\"},\"ticker\":{\"id\":\"1014\"}},\"id\":\"1013\",\"type\":\"LinearAxis\"},{\"attributes\":{\"bottom_units\":\"screen\",\"fill_alpha\":0.5,\"fill_color\":\"lightgrey\",\"left_units\":\"screen\",\"level\":\"overlay\",\"line_alpha\":1.0,\"line_color\":\"black\",\"line_dash\":[4,4],\"line_width\":2,\"right_units\":\"screen\",\"top_units\":\"screen\"},\"id\":\"1027\",\"type\":\"BoxAnnotation\"},{\"attributes\":{},\"id\":\"1009\",\"type\":\"LinearScale\"},{\"attributes\":{\"axis\":{\"id\":\"1013\"},\"ticker\":null},\"id\":\"1016\",\"type\":\"Grid\"},{\"attributes\":{},\"id\":\"1044\",\"type\":\"BasicTickFormatter\"},{\"attributes\":{\"axis\":{\"id\":\"1017\"},\"dimension\":1,\"ticker\":null},\"id\":\"1020\",\"type\":\"Grid\"},{\"attributes\":{},\"id\":\"1018\",\"type\":\"BasicTicker\"},{\"attributes\":{},\"id\":\"1046\",\"type\":\"Selection\"},{\"attributes\":{\"line_alpha\":0.1,\"line_color\":\"#1f77b4\",\"x\":{\"field\":\"x\"},\"y\":{\"field\":\"y\"}},\"id\":\"1037\",\"type\":\"Line\"},{\"attributes\":{\"line_color\":\"#1f77b4\",\"x\":{\"field\":\"x\"},\"y\":{\"field\":\"y\"}},\"id\":\"1036\",\"type\":\"Line\"},{\"attributes\":{\"active_drag\":\"auto\",\"active_inspect\":\"auto\",\"active_multi\":null,\"active_scroll\":\"auto\",\"active_tap\":\"auto\",\"tools\":[{\"id\":\"1021\"},{\"id\":\"1022\"},{\"id\":\"1023\"},{\"id\":\"1024\"},{\"id\":\"1025\"},{\"id\":\"1026\"}]},\"id\":\"1028\",\"type\":\"Toolbar\"},{\"attributes\":{},\"id\":\"1047\",\"type\":\"UnionRenderers\"},{\"attributes\":{},\"id\":\"1021\",\"type\":\"PanTool\"},{\"attributes\":{\"overlay\":{\"id\":\"1027\"}},\"id\":\"1023\",\"type\":\"BoxZoomTool\"},{\"attributes\":{},\"id\":\"1024\",\"type\":\"SaveTool\"},{\"attributes\":{},\"id\":\"1025\",\"type\":\"ResetTool\"},{\"attributes\":{},\"id\":\"1022\",\"type\":\"WheelZoomTool\"},{\"attributes\":{\"source\":{\"id\":\"1035\"}},\"id\":\"1039\",\"type\":\"CDSView\"},{\"attributes\":{\"data_source\":{\"id\":\"1035\"},\"glyph\":{\"id\":\"1036\"},\"hover_glyph\":null,\"muted_glyph\":null,\"nonselection_glyph\":{\"id\":\"1037\"},\"selection_glyph\":null,\"view\":{\"id\":\"1039\"}},\"id\":\"1038\",\"type\":\"GlyphRenderer\"},{\"attributes\":{},\"id\":\"1042\",\"type\":\"BasicTickFormatter\"}],\"root_ids\":[\"1002\"]},\"title\":\"Bokeh Application\",\"version\":\"2.2.1\"}};\n",
       "  var render_items = [{\"docid\":\"b8302d8b-c265-48be-aeeb-7ee6849a6f9b\",\"root_ids\":[\"1002\"],\"roots\":{\"1002\":\"f810cd86-e8b2-49e6-9ccc-89922ec605c6\"}}];\n",
       "  root.Bokeh.embed.embed_items_notebook(docs_json, render_items);\n",
       "\n",
       "  }\n",
       "  if (root.Bokeh !== undefined) {\n",
       "    embed_document(root);\n",
       "  } else {\n",
       "    var attempts = 0;\n",
       "    var timer = setInterval(function(root) {\n",
       "      if (root.Bokeh !== undefined) {\n",
       "        clearInterval(timer);\n",
       "        embed_document(root);\n",
       "      } else {\n",
       "        attempts++;\n",
       "        if (attempts > 100) {\n",
       "          clearInterval(timer);\n",
       "          console.log(\"Bokeh: ERROR: Unable to run BokehJS code because BokehJS library is missing\");\n",
       "        }\n",
       "      }\n",
       "    }, 10, root)\n",
       "  }\n",
       "})(window);"
      ],
      "application/vnd.bokehjs_exec.v0+json": ""
     },
     "metadata": {
      "application/vnd.bokehjs_exec.v0+json": {
       "id": "1002"
      }
     },
     "output_type": "display_data"
    }
   ],
   "source": [
    "#output_file(\"arbor_mc_demo.html\")\n",
    "graph = figure(title = \"Arbor MC Demo\") \n",
    "graph.line(cell_model.traces[0].time, cell_model.traces[0].value)\n",
    "show(graph)"
   ]
  },
  {
   "cell_type": "code",
   "execution_count": 11,
   "metadata": {},
   "outputs": [
    {
     "name": "stdout",
     "output_type": "stream",
     "text": [
      "Help on cable_cell in module arbor._arbor object:\n",
      "\n",
      "class cable_cell(pybind11_builtins.pybind11_object)\n",
      " |  Represents morphologically-detailed cell models, with morphology represented as a\n",
      " |  tree of one-dimensional cable segments.\n",
      " |  \n",
      " |  Method resolution order:\n",
      " |      cable_cell\n",
      " |      pybind11_builtins.pybind11_object\n",
      " |      builtins.object\n",
      " |  \n",
      " |  Methods defined here:\n",
      " |  \n",
      " |  __init__(...)\n",
      " |      __init__(*args, **kwargs)\n",
      " |      Overloaded function.\n",
      " |      \n",
      " |      1. __init__(self: arbor._arbor.cable_cell, morphology: arb::morphology, labels: arbor._arbor.label_dict) -> None\n",
      " |      \n",
      " |      2. __init__(self: arbor._arbor.cable_cell, segment_tree: arb::segment_tree, labels: arbor._arbor.label_dict) -> None\n",
      " |      \n",
      " |      Construct with a morphology derived from a segment tree.\n",
      " |  \n",
      " |  __repr__(...)\n",
      " |      __repr__(self: arbor._arbor.cable_cell) -> str\n",
      " |  \n",
      " |  __str__(...)\n",
      " |      __str__(self: arbor._arbor.cable_cell) -> str\n",
      " |  \n",
      " |  cables(...)\n",
      " |      cables(self: arbor._arbor.cable_cell, label: str) -> List[arb::mcable]\n",
      " |      \n",
      " |      The cable segments of the cell morphology for a region label.\n",
      " |  \n",
      " |  compartments_length(...)\n",
      " |      compartments_length(self: arbor._arbor.cable_cell, maxlen: float) -> None\n",
      " |      \n",
      " |      Decompose each branch into compartments of equal length, not exceeding maxlen.\n",
      " |  \n",
      " |  compartments_on_segments(...)\n",
      " |      compartments_on_segments(self: arbor._arbor.cable_cell) -> None\n",
      " |      \n",
      " |      Decompose each branch into compartments defined by segments.\n",
      " |  \n",
      " |  compartments_per_branch(...)\n",
      " |      compartments_per_branch(self: arbor._arbor.cable_cell, n: int) -> None\n",
      " |      \n",
      " |      Decompose each branch into n compartments of equal length.\n",
      " |  \n",
      " |  locations(...)\n",
      " |      locations(self: arbor._arbor.cable_cell, label: str) -> List[arb::mlocation]\n",
      " |      \n",
      " |      The locations of the cell morphology for a locset label.\n",
      " |  \n",
      " |  paint(...)\n",
      " |      paint(*args, **kwargs)\n",
      " |      Overloaded function.\n",
      " |      \n",
      " |      1. paint(self: arbor._arbor.cable_cell, region: str, mechanism: arb::mechanism_desc) -> None\n",
      " |      \n",
      " |      Associate a mechanism with a region.\n",
      " |      \n",
      " |      2. paint(self: arbor._arbor.cable_cell, region: str, mechanism: str) -> None\n",
      " |      \n",
      " |      Associate a mechanism with a region.\n",
      " |      \n",
      " |      3. paint(self: arbor._arbor.cable_cell, region: str, Vm: Optional[float] = None, cm: Optional[float] = None, rL: Optional[float] = None, tempK: Optional[float] = None) -> None\n",
      " |      \n",
      " |      Set cable properties on a region.\n",
      " |       Vm:    initial membrane voltage [mV].\n",
      " |       cm:    membrane capacitance [F/m²].\n",
      " |       rL:    axial resistivity [Ω·cm].\n",
      " |       tempK: temperature [Kelvin].\n",
      " |      \n",
      " |      4. paint(self: arbor._arbor.cable_cell, region: str, ion_name: str, int_con: Optional[float] = Intial internal concentration [mM], ext_con: Optional[float] = Intial external concentration [mM], rev_pot: Optional[float] = Intial reversal potential [mV]) -> None\n",
      " |      \n",
      " |      Set ion species properties conditions on a region.\n",
      " |  \n",
      " |  place(...)\n",
      " |      place(*args, **kwargs)\n",
      " |      Overloaded function.\n",
      " |      \n",
      " |      1. place(self: arbor._arbor.cable_cell, locations: str, mechanism: arb::mechanism_desc) -> None\n",
      " |      \n",
      " |      Place one instance of synapse described by 'mechanism' to each location in 'locations'.\n",
      " |      \n",
      " |      2. place(self: arbor._arbor.cable_cell, locations: str, mechanism: str) -> None\n",
      " |      \n",
      " |      Place one instance of synapse described by 'mechanism' to each location in 'locations'.\n",
      " |      \n",
      " |      3. place(self: arbor._arbor.cable_cell, locations: str, gapjunction: arbor._arbor.gap_junction) -> None\n",
      " |      \n",
      " |      Place one gap junction site at each location in 'locations'.\n",
      " |      \n",
      " |      4. place(self: arbor._arbor.cable_cell, locations: str, iclamp: arbor._arbor.iclamp) -> None\n",
      " |      \n",
      " |      Add a current stimulus at each location in locations.\n",
      " |      \n",
      " |      5. place(self: arbor._arbor.cable_cell, locations: str, detector: arbor._arbor.spike_detector) -> None\n",
      " |      \n",
      " |      Add a voltage spike detector at each location in locations.\n",
      " |  \n",
      " |  set_ion(...)\n",
      " |      set_ion(self: arbor._arbor.cable_cell, ion: str, int_con: Optional[float] = None, ext_con: Optional[float] = None, rev_pot: Optional[float] = None, method: Optional[arb::mechanism_desc] = None) -> None\n",
      " |      \n",
      " |      Set the propoerties of ion species named 'ion' that will be applied\n",
      " |      by default everywhere on the cell. Species concentrations and reversal\n",
      " |      potential can be overridden on specific regions using the paint interface, \n",
      " |      while the method for calculating reversal potential is global for all\n",
      " |      compartments in the cell, and can't be overriden locally.\n",
      " |       ion:     name of ion species.\n",
      " |       int_con: initial internal concentration [mM].\n",
      " |       ext_con: initial external concentration [mM].\n",
      " |       rev_pot: reversal potential [mV].\n",
      " |       method:  method for calculating reversal potential.\n",
      " |  \n",
      " |  set_properties(...)\n",
      " |      set_properties(self: arbor._arbor.cable_cell, Vm: Optional[float] = None, cm: Optional[float] = None, rL: Optional[float] = None, tempK: Optional[float] = None) -> None\n",
      " |      \n",
      " |      Set default values for cable and cell properties. These values can be overridden on specific regions using the paint interface.\n",
      " |       Vm:    initial membrane voltage [mV].\n",
      " |       cm:    membrane capacitance [F/m²].\n",
      " |       rL:    axial resistivity [Ω·cm].\n",
      " |       tempK: temperature [Kelvin].\n",
      " |  \n",
      " |  ----------------------------------------------------------------------\n",
      " |  Readonly properties defined here:\n",
      " |  \n",
      " |  num_branches\n",
      " |      The number of unbranched cable sections in the morphology.\n",
      " |  \n",
      " |  ----------------------------------------------------------------------\n",
      " |  Static methods inherited from pybind11_builtins.pybind11_object:\n",
      " |  \n",
      " |  __new__(*args, **kwargs) from pybind11_builtins.pybind11_type\n",
      " |      Create and return a new object.  See help(type) for accurate signature.\n",
      "\n"
     ]
    }
   ],
   "source": [
    "help(cell)"
   ]
  },
  {
   "cell_type": "code",
   "execution_count": 8,
   "metadata": {},
   "outputs": [
    {
     "name": "stdout",
     "output_type": "stream",
     "text": [
      "Collecting git+https://github.com/arbor-sim/arbor.git\n",
      "  Cloning https://github.com/arbor-sim/arbor.git to /tmp/pip-req-build-8pmbj3nb\n",
      "Building wheels for collected packages: arbor\n",
      "  Building wheel for arbor (setup.py) ... \u001b[?25ldone\n",
      "\u001b[?25h  Created wheel for arbor: filename=arbor-0.4.1.dev0-cp38-cp38-linux_x86_64.whl size=1250518 sha256=c5ae65fae8d8d394234c140dacfd85dd73700b79cea5ab84398dc6d02257bf0a\n",
      "  Stored in directory: /tmp/pip-ephem-wheel-cache-n20ts23z/wheels/e8/ca/6a/b938b0965e8593a709ac3d077ea761e6caedb18dab950e7e90\n",
      "Successfully built arbor\n",
      "Installing collected packages: arbor\n",
      "  Attempting uninstall: arbor\n",
      "    Found existing installation: arbor 0.3.1.dev0\n",
      "    Uninstalling arbor-0.3.1.dev0:\n",
      "      Successfully uninstalled arbor-0.3.1.dev0\n",
      "Successfully installed arbor-0.4.1.dev0\n",
      "\u001b[33mWARNING: You are using pip version 20.2.2; however, version 20.2.4 is available.\n",
      "You should consider upgrading via the '/envs/py3-pyNNarbor/bin/python -m pip install --upgrade pip' command.\u001b[0m\n"
     ]
    }
   ],
   "source": [
    "!pip3 install git+https://github.com/arbor-sim/arbor.git"
   ]
  },
  {
   "cell_type": "code",
   "execution_count": 7,
   "metadata": {},
   "outputs": [
    {
     "name": "stdout",
     "output_type": "stream",
     "text": [
      "Name: arbor\r\n",
      "Version: 0.4.1.dev0\r\n",
      "Summary: High performance simulation of networks of multicompartment neurons.\r\n",
      "Home-page: https://github.com/arbor-sim/arbor\r\n",
      "Author: The Arbor dev team.\r\n",
      "Author-email: None\r\n",
      "License: UNKNOWN\r\n",
      "Location: /envs/py3-pyNNarbor/lib/python3.8/site-packages\r\n",
      "Requires: \r\n",
      "Required-by: \r\n"
     ]
    }
   ],
   "source": [
    "!pip show arbor"
   ]
  },
  {
   "cell_type": "code",
   "execution_count": null,
   "metadata": {},
   "outputs": [],
   "source": [
    "cell."
   ]
  }
 ],
 "metadata": {
  "kernelspec": {
   "display_name": "Python 3",
   "language": "python",
   "name": "python3"
  },
  "language_info": {
   "codemirror_mode": {
    "name": "ipython",
    "version": 3
   },
   "file_extension": ".py",
   "mimetype": "text/x-python",
   "name": "python",
   "nbconvert_exporter": "python",
   "pygments_lexer": "ipython3",
   "version": "3.8.2"
  }
 },
 "nbformat": 4,
 "nbformat_minor": 4
}
