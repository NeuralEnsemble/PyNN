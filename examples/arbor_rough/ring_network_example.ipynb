{
 "cells": [
  {
   "cell_type": "code",
   "execution_count": 1,
   "metadata": {},
   "outputs": [],
   "source": [
    "import arbor\n",
    "#import pandas, seaborn\n",
    "from math import sqrt"
   ]
  },
  {
   "cell_type": "code",
   "execution_count": 2,
   "metadata": {},
   "outputs": [],
   "source": [
    "def make_cable_cell(gid):\n",
    "    # Associate labels to tags\n",
    "    labels = arbor.label_dict()\n",
    "    labels['soma'] = '(tag 1)'\n",
    "    labels['dend'] = '(tag 3)'\n",
    "\n",
    "    # Build a segment tree\n",
    "    tree = arbor.segment_tree()\n",
    "\n",
    "    # Soma (tag=1) with radius 6 μm, modelled as cylinder of length 2*radius\n",
    "    s = tree.append(arbor.mnpos, arbor.mpoint(-12, 0, 0, 6), arbor.mpoint(0, 0, 0, 6), tag=1)\n",
    "\n",
    "    # Single dendrite (tag=3) of length 100 μm and radius 2 μm attached to soma.\n",
    "    b0 = tree.append(s, arbor.mpoint(0, 0, 0, 2), arbor.mpoint(100, 0, 0, 2), tag=3)\n",
    "\n",
    "    # Attach two dendrites (tag=3) of length 50 μm to the end of the first dendrite.\n",
    "    # Radius tapers from 2 to 0.5 μm over the length of the dendrite.\n",
    "    b1 = tree.append(b0, arbor.mpoint(100, 0, 0, 2), arbor.mpoint(100+50/sqrt(2), 50/sqrt(2), 0, 0.5), tag=3)\n",
    "    # Constant radius of 1 μm over the length of the dendrite.\n",
    "    b2 = tree.append(b0, arbor.mpoint(100, 0, 0, 1), arbor.mpoint(100+50/sqrt(2), -50/sqrt(2), 0, 1), tag=3)\n",
    "\n",
    "    # Mark location for synapse at the midpoint of branch 1 (the first dendrite).\n",
    "    labels['synapse_site'] = '(location 1 0.5)'\n",
    "    # Mark the root of the tree.\n",
    "    labels['root'] = '(root)'\n",
    "\n",
    "    cell = arbor.cable_cell(tree, labels)\n",
    "\n",
    "    # Put hh dynamics on soma, and passive properties on the dendrites.\n",
    "    cell.paint('\"soma\"', 'hh')\n",
    "    cell.paint('\"dend\"', 'pas')\n",
    "    # Attach a single synapse.\n",
    "    cell.place('\"synapse_site\"', 'expsyn')\n",
    "    # Attach a spike detector with threshold of -10 mV.\n",
    "    cell.place('\"root\"', arbor.spike_detector(-10))\n",
    "\n",
    "    return cell"
   ]
  },
  {
   "cell_type": "code",
   "execution_count": 3,
   "metadata": {},
   "outputs": [],
   "source": [
    "class ring_recipe (arbor.recipe):\n",
    "\n",
    "    def __init__(self, n=10):\n",
    "        # The base C++ class constructor must be called first, to ensure that\n",
    "        # all memory in the C++ class is initialized correctly.\n",
    "        arbor.recipe.__init__(self)\n",
    "        self.ncells = n\n",
    "\n",
    "    # The num_cells method that returns the total number of cells in the model\n",
    "    # must be implemented.\n",
    "    def num_cells(self):\n",
    "        return self.ncells\n",
    "\n",
    "    # The cell_description method returns a cell\n",
    "    def cell_description(self, gid):\n",
    "        return make_cable_cell(gid)\n",
    "\n",
    "    def num_targets(self, gid):\n",
    "        return 1\n",
    "\n",
    "    def num_sources(self, gid):\n",
    "        return 1\n",
    "\n",
    "    # The kind method returns the type of cell with gid.\n",
    "    # Note: this must agree with the type returned by cell_description.\n",
    "    def cell_kind(self, gid):\n",
    "        return arbor.cell_kind.cable\n",
    "\n",
    "    # Make a ring network\n",
    "    def connections_on(self, gid):\n",
    "        src = (gid-1)%self.ncells\n",
    "        w = 0.01\n",
    "        d = 5\n",
    "        return [arbor.connection(arbor.cell_member(src,0), arbor.cell_member(gid,0), w, d)]\n",
    "\n",
    "    # Attach a generator to the first cell in the ring.\n",
    "    def event_generators(self, gid):\n",
    "        if gid==0:\n",
    "            sched = arbor.explicit_schedule([1])\n",
    "            return [arbor.event_generator(arbor.cell_member(0,0), 0.1, sched)]\n",
    "        return []\n",
    "\n",
    "    def get_probes(self, gid):\n",
    "        loc = arbor.location(0, 0) # at the soma\n",
    "        return [arbor.cable_probe('voltage', loc)]\n"
   ]
  },
  {
   "cell_type": "code",
   "execution_count": 4,
   "metadata": {},
   "outputs": [
    {
     "name": "stdout",
     "output_type": "stream",
     "text": [
      "<arbor.context: num_threads 12, has_gpu False, has_mpi False, num_ranks 1>\n"
     ]
    }
   ],
   "source": [
    "context = arbor.context(threads=12, gpu_id=None)\n",
    "print(context)"
   ]
  },
  {
   "cell_type": "code",
   "execution_count": 5,
   "metadata": {},
   "outputs": [],
   "source": [
    "meters = arbor.meter_manager()\n",
    "meters.start(context)"
   ]
  },
  {
   "cell_type": "code",
   "execution_count": 6,
   "metadata": {},
   "outputs": [
    {
     "name": "stdout",
     "output_type": "stream",
     "text": [
      "<arbor.recipe>\n"
     ]
    }
   ],
   "source": [
    "ncells = 4\n",
    "recipe = ring_recipe(ncells)\n",
    "print(f'{recipe}')"
   ]
  },
  {
   "cell_type": "code",
   "execution_count": 7,
   "metadata": {},
   "outputs": [],
   "source": [
    "meters.checkpoint('recipe-create', context)"
   ]
  },
  {
   "cell_type": "code",
   "execution_count": 8,
   "metadata": {},
   "outputs": [
    {
     "name": "stdout",
     "output_type": "stream",
     "text": [
      "<arbor.partition_hint: cpu_group_size 1, gpu_group_size 1000, prefer_gpu True>\n"
     ]
    }
   ],
   "source": [
    "hint = arbor.partition_hint()\n",
    "hint.prefer_gpu = True\n",
    "hint.gpu_group_size = 1000\n",
    "print(f'{hint}')"
   ]
  },
  {
   "cell_type": "code",
   "execution_count": 9,
   "metadata": {},
   "outputs": [
    {
     "name": "stdout",
     "output_type": "stream",
     "text": [
      "<arbor.domain_decomposition: domain_id 0, num_domains 1, num_local_cells 4, num_global_cells 4, groups 4>\n"
     ]
    }
   ],
   "source": [
    "hints = dict([(arbor.cell_kind.cable, hint)])\n",
    "decomp = arbor.partition_load_balance(recipe, context, hints)\n",
    "print(f'{decomp}')"
   ]
  },
  {
   "cell_type": "code",
   "execution_count": 10,
   "metadata": {},
   "outputs": [],
   "source": [
    "meters.checkpoint('load-balance', context)"
   ]
  },
  {
   "cell_type": "code",
   "execution_count": 11,
   "metadata": {},
   "outputs": [],
   "source": [
    "sim = arbor.simulation(recipe, decomp, context)"
   ]
  },
  {
   "cell_type": "code",
   "execution_count": 12,
   "metadata": {},
   "outputs": [],
   "source": [
    "meters.checkpoint('simulation-init', context)"
   ]
  },
  {
   "cell_type": "code",
   "execution_count": 13,
   "metadata": {},
   "outputs": [],
   "source": [
    "spike_recorder = arbor.attach_spike_recorder(sim)"
   ]
  },
  {
   "cell_type": "code",
   "execution_count": 14,
   "metadata": {},
   "outputs": [],
   "source": [
    "# Attach a sampler to the voltage probe on cell 0.\n",
    "# Sample rate of 10 sample every ms.\n",
    "samplers = [arbor.attach_sampler(sim, 0.1, arbor.cell_member(gid,0)) for gid in range(ncells)]"
   ]
  },
  {
   "cell_type": "code",
   "execution_count": 15,
   "metadata": {},
   "outputs": [
    {
     "name": "stdout",
     "output_type": "stream",
     "text": [
      "<arbor.simulation> finished\n"
     ]
    }
   ],
   "source": [
    "tfinal=100\n",
    "sim.run(tfinal)\n",
    "print(f'{sim} finished')"
   ]
  },
  {
   "cell_type": "code",
   "execution_count": 16,
   "metadata": {},
   "outputs": [],
   "source": [
    "meters.checkpoint('simulation-run', context)"
   ]
  },
  {
   "cell_type": "code",
   "execution_count": 17,
   "metadata": {},
   "outputs": [
    {
     "name": "stdout",
     "output_type": "stream",
     "text": [
      "\n",
      "---- meters -------------------------------------------------------------------------------\n",
      "meter                         time(s)      memory(MB)\n",
      "-------------------------------------------------------------------------------------------\n",
      "recipe-create                  53.307           0.007\n",
      "load-balance                   42.444           0.028\n",
      "simulation-init                74.601           0.171\n",
      "simulation-run                 93.415           0.156\n",
      "meter-total                   263.767           0.361\n",
      "\n"
     ]
    }
   ],
   "source": [
    "# Print profiling information\n",
    "print(f'{arbor.meter_report(meters, context)}')"
   ]
  },
  {
   "cell_type": "code",
   "execution_count": 18,
   "metadata": {},
   "outputs": [
    {
     "name": "stdout",
     "output_type": "stream",
     "text": [
      "spikes:\n",
      "  <arbor.spike: source (0,0), time 1.59439 ms>\n",
      "  <arbor.spike: source (1,0), time 10.2454 ms>\n",
      "  <arbor.spike: source (2,0), time 18.8816 ms>\n",
      "  <arbor.spike: source (3,0), time 27.5069 ms>\n",
      "  <arbor.spike: source (0,0), time 36.3356 ms>\n",
      "  <arbor.spike: source (1,0), time 45.0976 ms>\n",
      "  <arbor.spike: source (2,0), time 53.8378 ms>\n",
      "  <arbor.spike: source (3,0), time 62.5765 ms>\n",
      "  <arbor.spike: source (0,0), time 71.3168 ms>\n",
      "  <arbor.spike: source (1,0), time 80.057 ms>\n",
      "  <arbor.spike: source (2,0), time 88.7974 ms>\n",
      "  <arbor.spike: source (3,0), time 97.5378 ms>\n"
     ]
    }
   ],
   "source": [
    "# Print spike times\n",
    "print('spikes:')\n",
    "for sp in spike_recorder.spikes:\n",
    "    print(' ', sp)"
   ]
  },
  {
   "cell_type": "code",
   "execution_count": null,
   "metadata": {},
   "outputs": [],
   "source": []
  }
 ],
 "metadata": {
  "kernelspec": {
   "display_name": "Python 3",
   "language": "python",
   "name": "python3"
  },
  "language_info": {
   "codemirror_mode": {
    "name": "ipython",
    "version": 3
   },
   "file_extension": ".py",
   "mimetype": "text/x-python",
   "name": "python",
   "nbconvert_exporter": "python",
   "pygments_lexer": "ipython3",
   "version": "3.8.2"
  }
 },
 "nbformat": 4,
 "nbformat_minor": 4
}
